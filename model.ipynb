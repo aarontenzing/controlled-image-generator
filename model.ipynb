{
 "cells": [
  {
   "cell_type": "code",
   "execution_count": 24,
   "metadata": {},
   "outputs": [],
   "source": [
    "import torch\n",
    "from diffusers import StableDiffusionControlNetPipeline, ControlNetModel\n",
    "from diffusers import EulerDiscreteScheduler # Import samplers\n",
    "from diffusers import DPMSolverMultistepScheduler # Import samplers\n",
    "from diffusers import DDIMScheduler # Import samplers\n",
    "from diffusers.utils import load_image\n",
    "from tqdm import tqdm\n",
    "# Prompt generation\n",
    "from prompt import prompt_generator, prompt_generator_no_human\n",
    "import glob\n",
    "import os"
   ]
  },
  {
   "cell_type": "markdown",
   "metadata": {},
   "source": [
    "Samplers (schedulers): https://huggingface.co/docs/diffusers/api/schedulers/overview"
   ]
  },
  {
   "cell_type": "code",
   "execution_count": 2,
   "metadata": {},
   "outputs": [
    {
     "name": "stdout",
     "output_type": "stream",
     "text": [
      "Torch version: 2.2.2+cu121\n",
      "Is CUDA enabled? True\n"
     ]
    }
   ],
   "source": [
    "print(\"Torch version:\",torch.__version__)\n",
    "print(\"Is CUDA enabled?\",torch.cuda.is_available())"
   ]
  },
  {
   "cell_type": "markdown",
   "metadata": {},
   "source": [
    "https://thepythoncode.com/article/control-generated-images-with-controlnet-with-huggingface#code"
   ]
  },
  {
   "cell_type": "markdown",
   "metadata": {},
   "source": [
    "# First Pipeline: ControlNet + Stable Diffusion "
   ]
  },
  {
   "cell_type": "code",
   "execution_count": 25,
   "metadata": {},
   "outputs": [
    {
     "name": "stderr",
     "output_type": "stream",
     "text": [
      "text_encoder\\model.safetensors not found\n",
      "Loading pipeline components...:  67%|██████▋   | 4/6 [00:09<00:06,  3.07s/it]c:\\Users\\aaron\\Documents\\git\\controlnet\\.myvenv\\Lib\\site-packages\\transformers\\models\\clip\\feature_extraction_clip.py:28: FutureWarning: The class CLIPFeatureExtractor is deprecated and will be removed in version 5 of Transformers. Please use CLIPImageProcessor instead.\n",
      "  warnings.warn(\n",
      "Loading pipeline components...: 100%|██████████| 6/6 [00:10<00:00,  1.68s/it]\n",
      "You have disabled the safety checker for <class 'diffusers.pipelines.controlnet.pipeline_controlnet.StableDiffusionControlNetPipeline'> by passing `safety_checker=None`. Ensure that you abide to the conditions of the Stable Diffusion license and do not expose unfiltered results in services or applications open to the public. Both the diffusers team and Hugging Face strongly recommend to keep the safety filter enabled in all public facing circumstances, disabling it only for use-cases that involve analyzing network behavior or auditing its results. For more information, please have a look at https://github.com/huggingface/diffusers/pull/254 .\n"
     ]
    }
   ],
   "source": [
    "# ControlNet model\n",
    "controlnet = ControlNetModel.from_pretrained(\"lllyasviel/control_v11p_sd15_scribble\", torch_dtype=torch.float16)\n",
    "\n",
    "# Define stable diffusion pipeline with controlnet\n",
    "# We use the realistic-vision-v20-2047 model for this example (finetunned on realistic images of people)\n",
    "pipe = StableDiffusionControlNetPipeline.from_pretrained(\"stablediffusionapi/realistic-vision-v20-2047\", controlnet=controlnet, safety_checker=None, torch_dtype=torch.float16)\n",
    "pipe.scheduler = DDIMScheduler.from_config(pipe.scheduler.config)\n",
    "\n",
    "# Enable efficient implementations using xformers for faster inference\n",
    "pipe.enable_xformers_memory_efficient_attention()\n",
    "pipe.enable_model_cpu_offload()"
   ]
  },
  {
   "cell_type": "code",
   "execution_count": 26,
   "metadata": {},
   "outputs": [
    {
     "name": "stdout",
     "output_type": "stream",
     "text": [
      "Prompt: A long shot view of a sad man holding a colorful cardboard box with red tape from the Zara webshop in his hands, standing in front of a quite neighborhood street and cars background, the weather is rainy, high photorealistic quality.\n"
     ]
    },
    {
     "name": "stderr",
     "output_type": "stream",
     "text": [
      "100%|██████████| 30/30 [00:17<00:00,  1.71it/s]\n"
     ]
    },
    {
     "name": "stdout",
     "output_type": "stream",
     "text": [
      "Save test.jpg!\n"
     ]
    }
   ],
   "source": [
    "# Load wireframe image\n",
    "image_input = load_image(\"wireframes\\\\3_4.jpg\")\n",
    "\n",
    "# Prompt\n",
    "prompt = prompt_generator()\n",
    "print(\"Prompt:\",prompt)\n",
    "neg_prompt = \"multiple boxes in the background, cardboard, a person in the foreground, not realistic\"\n",
    "# Run the pipeline\n",
    "image_output = pipe(prompt=prompt, negative_prompt=neg_prompt, image=image_input, num_inference_steps=20).images[0]\n",
    "\n",
    "# Save the output\n",
    "image_output.save(\"test.jpg\")\n",
    "print(\"Save test.jpg!\")"
   ]
  },
  {
   "cell_type": "code",
   "execution_count": 6,
   "metadata": {},
   "outputs": [
    {
     "name": "stdout",
     "output_type": "stream",
     "text": [
      "A full shot view of a happy man holding a black cardboard box with red tape from the Amazon webshop in his hands, standing in front of a city center background, the weather is snowy, high photorealistic quality.\n"
     ]
    }
   ],
   "source": [
    "# Prompt generator\n",
    "prompt = prompt_generator()\n",
    "print(prompt)"
   ]
  },
  {
   "cell_type": "markdown",
   "metadata": {},
   "source": [
    "# Generating first synthetic dataset"
   ]
  },
  {
   "cell_type": "markdown",
   "metadata": {},
   "source": [
    "\"wireframes\" are drawn in the bottom half region of the window, so they can easily be held  by persons.\n",
    "Next, we will generate synthetic images of those wireframes, located in the directory \"outputs\".\n",
    "- I generate random prompts\n",
    "- Next I will validate them\n",
    "- Finally, I will only keep the images with a single box in the image (classifier)"
   ]
  },
  {
   "cell_type": "markdown",
   "metadata": {},
   "source": [
    "ControlNet model: lllyasviel/control_v11p_sd15_scribble\"\n",
    "Stable diffusion model: stablediffusionapi/realistic-vision-v20-2047"
   ]
  },
  {
   "cell_type": "code",
   "execution_count": 19,
   "metadata": {},
   "outputs": [],
   "source": [
    "def generate_images(controlnet_model_path, sd_model_path, prompt_human):\n",
    "        \n",
    "    # ControlNet model\n",
    "    controlnet = ControlNetModel.from_pretrained(controlnet_model_path, torch_dtype=torch.float16)\n",
    "\n",
    "    # Define stable diffusion pipeline with controlnet\n",
    "    # We use the realistic-vision-v20-2047 model for this example (finetunned on realistic images of people)\n",
    "    pipe = StableDiffusionControlNetPipeline.from_pretrained(sd_model_path, controlnet=controlnet, safety_checker=None, torch_dtype=torch.float16)\n",
    "    pipe.scheduler = DDIMScheduler.from_config(pipe.scheduler.config)\n",
    "\n",
    "    # Enable efficient implementations using xformers for faster inference\n",
    "    pipe.enable_xformers_memory_efficient_attention()\n",
    "    pipe.enable_model_cpu_offload()\n",
    "    \n",
    "    # Read the files in the directory\n",
    "    files = os.listdir(\"wireframes\")\n",
    "    sorted_files = sorted(files, key=lambda x: (int(x.split('_')[0]), int(x.split('_')[1].split('.')[0]))) \n",
    "\n",
    "    for file in tqdm(sorted_files):\n",
    "        image_input = load_image(\"wireframes\\\\\" + file)\n",
    "        prompt = prompt_generator_no_human() if prompt_human == 0 else prompt_generator()\n",
    "        print(prompt)\n",
    "        image_output = pipe(prompt, image_input, num_inference_steps=15).images[0]\n",
    "        image_output.save(os.path.join(\"outputs\\\\\", os.path.basename(file)))"
   ]
  },
  {
   "cell_type": "code",
   "execution_count": 20,
   "metadata": {},
   "outputs": [
    {
     "name": "stderr",
     "output_type": "stream",
     "text": [
      "text_encoder\\model.safetensors not found\n",
      "Loading pipeline components...: 100%|██████████| 6/6 [00:04<00:00,  1.21it/s]\n",
      "You have disabled the safety checker for <class 'diffusers.pipelines.controlnet.pipeline_controlnet.StableDiffusionControlNetPipeline'> by passing `safety_checker=None`. Ensure that you abide to the conditions of the Stable Diffusion license and do not expose unfiltered results in services or applications open to the public. Both the diffusers team and Hugging Face strongly recommend to keep the safety filter enabled in all public facing circumstances, disabling it only for use-cases that involve analyzing network behavior or auditing its results. For more information, please have a look at https://github.com/huggingface/diffusers/pull/254 .\n",
      "  0%|          | 0/1000 [00:00<?, ?it/s]"
     ]
    },
    {
     "name": "stdout",
     "output_type": "stream",
     "text": [
      "A low angle view of a frowning boy holding a white cardboard box with red tape from the H&M webshop in his hands, standing in front of a in the street background, the weather is cloudy, high photorealistic quality.\n"
     ]
    },
    {
     "name": "stderr",
     "output_type": "stream",
     "text": [
      "100%|██████████| 15/15 [00:09<00:00,  1.61it/s]\n",
      "  0%|          | 1/1000 [00:11<3:09:21, 11.37s/it]"
     ]
    },
    {
     "name": "stdout",
     "output_type": "stream",
     "text": [
      "A medium shot view of a happy boy holding a colorful cardboard box with black tape from the Amazon webshop in his hands, standing in front of a in the street background, the weather is cloudy, high photorealistic quality.\n"
     ]
    },
    {
     "name": "stderr",
     "output_type": "stream",
     "text": [
      "100%|██████████| 15/15 [00:09<00:00,  1.59it/s]\n",
      "  0%|          | 2/1000 [00:22<3:08:18, 11.32s/it]"
     ]
    },
    {
     "name": "stdout",
     "output_type": "stream",
     "text": [
      "A close-up view of an angry person holding a brown cardboard box with black tape from the Coolblue webshop in her hands, standing in front of a in the street background, the weather is snowy, high photorealistic quality.\n"
     ]
    },
    {
     "name": "stderr",
     "output_type": "stream",
     "text": [
      "100%|██████████| 15/15 [00:08<00:00,  1.69it/s]\n",
      "  0%|          | 3/1000 [00:33<3:02:54, 11.01s/it]"
     ]
    },
    {
     "name": "stdout",
     "output_type": "stream",
     "text": [
      "A long shot view of a young man holding a colorful cardboard box with blue tape from the Adidas webshop in his hands, standing in front of a city center background, the weather is rainy, high photorealistic quality.\n"
     ]
    },
    {
     "name": "stderr",
     "output_type": "stream",
     "text": [
      "100%|██████████| 15/15 [00:08<00:00,  1.79it/s]\n",
      "  0%|          | 4/1000 [00:43<2:56:07, 10.61s/it]"
     ]
    },
    {
     "name": "stdout",
     "output_type": "stream",
     "text": [
      "A high angle view of a young boy holding a white cardboard box with red tape from the Nike webshop in his hands, standing in front of a in the street background, the weather is rainy, high photorealistic quality.\n"
     ]
    },
    {
     "name": "stderr",
     "output_type": "stream",
     "text": [
      "100%|██████████| 15/15 [00:07<00:00,  1.94it/s]\n",
      "  0%|          | 5/1000 [00:52<2:48:49, 10.18s/it]"
     ]
    },
    {
     "name": "stdout",
     "output_type": "stream",
     "text": [
      "A long shot view of a young man holding a black cardboard box with a number from a webshop in his hands, standing in front of a city center background, the weather is sunny, high photorealistic quality.\n"
     ]
    },
    {
     "name": "stderr",
     "output_type": "stream",
     "text": [
      "100%|██████████| 15/15 [00:08<00:00,  1.70it/s]\n",
      "  1%|          | 6/1000 [01:03<2:51:15, 10.34s/it]"
     ]
    },
    {
     "name": "stdout",
     "output_type": "stream",
     "text": [
      "A close-up view of an angry boy holding a brown cardboard box with green tape from the Nike webshop in his hands, standing in front of a busy city street and people background, the weather is rainy, high photorealistic quality.\n"
     ]
    },
    {
     "name": "stderr",
     "output_type": "stream",
     "text": [
      "100%|██████████| 15/15 [00:08<00:00,  1.73it/s]\n",
      "  1%|          | 7/1000 [01:13<2:52:05, 10.40s/it]"
     ]
    },
    {
     "name": "stdout",
     "output_type": "stream",
     "text": [
      "A long shot view of an old woman holding a brown cardboard box with red tape from the Zalando webshop in her hands, standing in front of a quite neighborhood street and garden background, the weather is sunny, high photorealistic quality.\n"
     ]
    },
    {
     "name": "stderr",
     "output_type": "stream",
     "text": [
      "100%|██████████| 15/15 [00:07<00:00,  1.92it/s]\n",
      "  1%|          | 8/1000 [01:23<2:48:28, 10.19s/it]"
     ]
    },
    {
     "name": "stdout",
     "output_type": "stream",
     "text": [
      "A low angle view of a smiling lady holding a black cardboard box with red tape from a webshop in her hands, standing in front of a quite neighborhood street and garden background, the weather is rainy, high photorealistic quality.\n"
     ]
    },
    {
     "name": "stderr",
     "output_type": "stream",
     "text": [
      "100%|██████████| 15/15 [00:09<00:00,  1.63it/s]\n",
      "  1%|          | 9/1000 [01:34<2:53:29, 10.50s/it]"
     ]
    },
    {
     "name": "stdout",
     "output_type": "stream",
     "text": [
      "A low angle view of a frowning man holding a colorful cardboard box with green tape from a webshop in his hands, standing in front of a city center background, the weather is rainy, high photorealistic quality.\n"
     ]
    },
    {
     "name": "stderr",
     "output_type": "stream",
     "text": [
      "100%|██████████| 15/15 [00:08<00:00,  1.77it/s]\n",
      "  1%|          | 10/1000 [01:45<2:52:11, 10.44s/it]"
     ]
    },
    {
     "name": "stdout",
     "output_type": "stream",
     "text": [
      "A low angle view of a sad man holding a colorful cardboard box with blue tape from the Adidas webshop in his hands, standing in front of a busy city street and cars background, the weather is snowy, high photorealistic quality.\n"
     ]
    },
    {
     "name": "stderr",
     "output_type": "stream",
     "text": [
      "100%|██████████| 15/15 [00:08<00:00,  1.80it/s]\n",
      "  1%|          | 11/1000 [01:55<2:51:53, 10.43s/it]"
     ]
    },
    {
     "name": "stdout",
     "output_type": "stream",
     "text": [
      "A full shot view of a frowning boy holding a white cardboard box with a number from the H&M webshop in his hands, standing in front of a in the street background, the weather is cloudy, high photorealistic quality.\n"
     ]
    },
    {
     "name": "stderr",
     "output_type": "stream",
     "text": [
      "100%|██████████| 15/15 [00:08<00:00,  1.67it/s]\n",
      "  1%|          | 12/1000 [02:06<2:53:58, 10.56s/it]"
     ]
    },
    {
     "name": "stdout",
     "output_type": "stream",
     "text": [
      "A full shot view of a happy woman holding a colorful cardboard box with green tape from the H&M webshop in her hands, standing in front of a quite neighborhood street and cars background, the weather is rainy, high photorealistic quality.\n"
     ]
    },
    {
     "name": "stderr",
     "output_type": "stream",
     "text": [
      "100%|██████████| 15/15 [00:08<00:00,  1.69it/s]\n",
      "  1%|▏         | 13/1000 [02:17<2:54:07, 10.58s/it]"
     ]
    },
    {
     "name": "stdout",
     "output_type": "stream",
     "text": [
      "A medium shot view of a smiling lady holding a colorful cardboard box with a qr code from the Zara webshop in her hands, standing in front of a quite neighborhood street and cars background, the weather is cloudy, high photorealistic quality.\n"
     ]
    },
    {
     "name": "stderr",
     "output_type": "stream",
     "text": [
      "100%|██████████| 15/15 [00:08<00:00,  1.79it/s]\n",
      "  1%|▏         | 14/1000 [02:27<2:51:25, 10.43s/it]"
     ]
    },
    {
     "name": "stdout",
     "output_type": "stream",
     "text": [
      "A low angle view of a young person holding a white cardboard box with a number from the Coolblue webshop in her hands, standing in front of a busy city street and people background, the weather is cloudy, high photorealistic quality.\n"
     ]
    },
    {
     "name": "stderr",
     "output_type": "stream",
     "text": [
      "100%|██████████| 15/15 [00:08<00:00,  1.84it/s]\n",
      "  2%|▏         | 15/1000 [02:36<2:48:09, 10.24s/it]"
     ]
    },
    {
     "name": "stdout",
     "output_type": "stream",
     "text": [
      "A close-up view of a frowning lady holding a white cardboard box with yellow tape from the Coolblue webshop in her hands, standing in front of a city center background, the weather is cloudy, high photorealistic quality.\n"
     ]
    },
    {
     "name": "stderr",
     "output_type": "stream",
     "text": [
      "100%|██████████| 15/15 [00:08<00:00,  1.84it/s]\n",
      "  2%|▏         | 16/1000 [02:46<2:45:57, 10.12s/it]"
     ]
    },
    {
     "name": "stdout",
     "output_type": "stream",
     "text": [
      "A high angle view of a happy lady holding a black cardboard box with blue tape from the Coolblue webshop in her hands, standing in front of a garbage curb background, the weather is cloudy, high photorealistic quality.\n"
     ]
    },
    {
     "name": "stderr",
     "output_type": "stream",
     "text": [
      "100%|██████████| 15/15 [00:08<00:00,  1.85it/s]\n",
      "  2%|▏         | 17/1000 [02:56<2:44:23, 10.03s/it]"
     ]
    },
    {
     "name": "stdout",
     "output_type": "stream",
     "text": [
      "A close-up view of a smiling man holding a colorful cardboard box with a barcode from the Bol.com webshop in his hands, standing in front of a in the street background, the weather is cloudy, high photorealistic quality.\n"
     ]
    },
    {
     "name": "stderr",
     "output_type": "stream",
     "text": [
      "100%|██████████| 15/15 [00:07<00:00,  1.91it/s]\n",
      "  2%|▏         | 18/1000 [03:06<2:41:48,  9.89s/it]"
     ]
    },
    {
     "name": "stdout",
     "output_type": "stream",
     "text": [
      "A long shot view of an old person holding a colorful cardboard box with a qr code from the H&M webshop in her hands, standing in front of a quite neighborhood street and trees background, the weather is cloudy, high photorealistic quality.\n"
     ]
    },
    {
     "name": "stderr",
     "output_type": "stream",
     "text": [
      "100%|██████████| 15/15 [00:07<00:00,  1.89it/s]\n",
      "  2%|▏         | 19/1000 [03:15<2:40:18,  9.80s/it]"
     ]
    },
    {
     "name": "stdout",
     "output_type": "stream",
     "text": [
      "A full shot view of a young man holding a white cardboard box with green tape from the Adidas webshop in his hands, standing in front of a quite neighborhood street and cars background, the weather is cloudy, high photorealistic quality.\n"
     ]
    },
    {
     "name": "stderr",
     "output_type": "stream",
     "text": [
      "100%|██████████| 15/15 [00:07<00:00,  1.92it/s]\n",
      "  2%|▏         | 20/1000 [03:25<2:38:36,  9.71s/it]"
     ]
    },
    {
     "name": "stdout",
     "output_type": "stream",
     "text": [
      "A full shot view of an old boy holding a white cardboard box with a qr code from the Zara webshop in his hands, standing in front of a appartment building background, the weather is cloudy, high photorealistic quality.\n"
     ]
    },
    {
     "name": "stderr",
     "output_type": "stream",
     "text": [
      "100%|██████████| 15/15 [00:07<00:00,  1.90it/s]\n",
      "  2%|▏         | 21/1000 [03:34<2:38:38,  9.72s/it]"
     ]
    },
    {
     "name": "stdout",
     "output_type": "stream",
     "text": [
      "A medium shot view of a sad boy holding a black cardboard box with a qr code from the Zalando webshop in his hands, standing in front of a busy city street and people background, the weather is sunny, high photorealistic quality.\n"
     ]
    },
    {
     "name": "stderr",
     "output_type": "stream",
     "text": [
      "100%|██████████| 15/15 [00:07<00:00,  1.91it/s]\n",
      "  2%|▏         | 22/1000 [03:44<2:38:46,  9.74s/it]"
     ]
    },
    {
     "name": "stdout",
     "output_type": "stream",
     "text": [
      "A high angle view of a frowning woman holding a colorful cardboard box with a qr code from the Bol.com webshop in her hands, standing in front of a in the street background, the weather is cloudy, high photorealistic quality.\n"
     ]
    },
    {
     "name": "stderr",
     "output_type": "stream",
     "text": [
      "100%|██████████| 15/15 [00:08<00:00,  1.85it/s]\n",
      "  2%|▏         | 23/1000 [03:54<2:39:23,  9.79s/it]"
     ]
    },
    {
     "name": "stdout",
     "output_type": "stream",
     "text": [
      "A full shot view of an old person holding a brown cardboard box with yellow tape from the Zalando webshop in her hands, standing in front of a busy city street and people background, the weather is cloudy, high photorealistic quality.\n"
     ]
    },
    {
     "name": "stderr",
     "output_type": "stream",
     "text": [
      "100%|██████████| 15/15 [00:08<00:00,  1.82it/s]\n",
      "  2%|▏         | 24/1000 [04:04<2:39:45,  9.82s/it]"
     ]
    },
    {
     "name": "stdout",
     "output_type": "stream",
     "text": [
      "A long shot view of an old man holding a colorful cardboard box with blue tape from the Nike webshop in his hands, standing in front of a busy city street and cars background, the weather is rainy, high photorealistic quality.\n"
     ]
    },
    {
     "name": "stderr",
     "output_type": "stream",
     "text": [
      "100%|██████████| 15/15 [00:07<00:00,  1.91it/s]\n",
      "  2%|▎         | 25/1000 [04:14<2:37:58,  9.72s/it]"
     ]
    },
    {
     "name": "stdout",
     "output_type": "stream",
     "text": [
      "A long shot view of a young lady holding a black cardboard box with green tape from the Bol.com webshop in her hands, standing in front of a busy city street and cars background, the weather is rainy, high photorealistic quality.\n"
     ]
    },
    {
     "name": "stderr",
     "output_type": "stream",
     "text": [
      "100%|██████████| 15/15 [00:07<00:00,  1.95it/s]\n",
      "  3%|▎         | 26/1000 [04:23<2:36:01,  9.61s/it]"
     ]
    },
    {
     "name": "stdout",
     "output_type": "stream",
     "text": [
      "A low angle view of a frowning lady holding a black cardboard box with a qr code from the Nike webshop in her hands, standing in front of a quite neighborhood street and cars background, the weather is snowy, high photorealistic quality.\n"
     ]
    },
    {
     "name": "stderr",
     "output_type": "stream",
     "text": [
      "100%|██████████| 15/15 [00:07<00:00,  1.93it/s]\n",
      "  3%|▎         | 27/1000 [04:32<2:34:42,  9.54s/it]"
     ]
    },
    {
     "name": "stdout",
     "output_type": "stream",
     "text": [
      "A full shot view of an angry boy holding a brown cardboard box with green tape from a webshop in his hands, standing in front of a garbage curb background, the weather is sunny, high photorealistic quality.\n"
     ]
    },
    {
     "name": "stderr",
     "output_type": "stream",
     "text": [
      "100%|██████████| 15/15 [00:07<00:00,  1.95it/s]\n",
      "  3%|▎         | 28/1000 [04:42<2:33:45,  9.49s/it]"
     ]
    },
    {
     "name": "stdout",
     "output_type": "stream",
     "text": [
      "A long shot view of a sad man holding a colorful cardboard box with green tape from the H&M webshop in his hands, standing in front of a quite neighborhood street and trees background, the weather is rainy, high photorealistic quality.\n"
     ]
    },
    {
     "name": "stderr",
     "output_type": "stream",
     "text": [
      "100%|██████████| 15/15 [00:07<00:00,  1.95it/s]\n",
      "  3%|▎         | 29/1000 [04:51<2:33:05,  9.46s/it]"
     ]
    },
    {
     "name": "stdout",
     "output_type": "stream",
     "text": [
      "A full shot view of an angry man holding a colorful cardboard box with green tape from the Adidas webshop in his hands, standing in front of a garbage curb background, the weather is sunny, high photorealistic quality.\n"
     ]
    },
    {
     "name": "stderr",
     "output_type": "stream",
     "text": [
      "100%|██████████| 15/15 [00:07<00:00,  1.88it/s]\n",
      "  3%|▎         | 30/1000 [05:01<2:33:57,  9.52s/it]"
     ]
    },
    {
     "name": "stdout",
     "output_type": "stream",
     "text": [
      "A close-up view of an angry lady holding a brown cardboard box with a barcode from the Bol.com webshop in her hands, standing in front of a city center background, the weather is sunny, high photorealistic quality.\n"
     ]
    },
    {
     "name": "stderr",
     "output_type": "stream",
     "text": [
      "100%|██████████| 15/15 [00:07<00:00,  1.93it/s]\n",
      "  3%|▎         | 31/1000 [05:10<2:33:23,  9.50s/it]"
     ]
    },
    {
     "name": "stdout",
     "output_type": "stream",
     "text": [
      "A close-up view of a smiling woman holding a white cardboard box with a barcode from the Bol.com webshop in her hands, standing in front of a garbage curb background, the weather is snowy, high photorealistic quality.\n"
     ]
    },
    {
     "name": "stderr",
     "output_type": "stream",
     "text": [
      "100%|██████████| 15/15 [00:08<00:00,  1.82it/s]\n",
      "  3%|▎         | 32/1000 [05:20<2:35:16,  9.62s/it]"
     ]
    },
    {
     "name": "stdout",
     "output_type": "stream",
     "text": [
      "A long shot view of a smiling boy holding a colorful cardboard box with black tape from the Nike webshop in his hands, standing in front of a busy city street and people background, the weather is snowy, high photorealistic quality.\n"
     ]
    },
    {
     "name": "stderr",
     "output_type": "stream",
     "text": [
      "100%|██████████| 15/15 [00:07<00:00,  1.94it/s]\n",
      "  3%|▎         | 33/1000 [05:29<2:33:51,  9.55s/it]"
     ]
    },
    {
     "name": "stdout",
     "output_type": "stream",
     "text": [
      "A long shot view of an angry boy holding a colorful cardboard box with black tape from the Bol.com webshop in his hands, standing in front of a busy city street and cars background, the weather is sunny, high photorealistic quality.\n"
     ]
    },
    {
     "name": "stderr",
     "output_type": "stream",
     "text": [
      "100%|██████████| 15/15 [00:07<00:00,  1.95it/s]\n",
      "  3%|▎         | 34/1000 [05:39<2:32:51,  9.49s/it]"
     ]
    },
    {
     "name": "stdout",
     "output_type": "stream",
     "text": [
      "A low angle view of a sad woman holding a colorful cardboard box with a qr code from the Zara webshop in her hands, standing in front of a busy city street and cars background, the weather is snowy, high photorealistic quality.\n"
     ]
    },
    {
     "name": "stderr",
     "output_type": "stream",
     "text": [
      "100%|██████████| 15/15 [00:07<00:00,  1.92it/s]\n",
      "  4%|▎         | 35/1000 [05:48<2:32:25,  9.48s/it]"
     ]
    },
    {
     "name": "stdout",
     "output_type": "stream",
     "text": [
      "A high angle view of a frowning boy holding a white cardboard box with a qr code from the Coolblue webshop in his hands, standing in front of a appartment building background, the weather is cloudy, high photorealistic quality.\n"
     ]
    },
    {
     "name": "stderr",
     "output_type": "stream",
     "text": [
      "100%|██████████| 15/15 [00:07<00:00,  1.92it/s]\n",
      "  4%|▎         | 36/1000 [05:58<2:32:18,  9.48s/it]"
     ]
    },
    {
     "name": "stdout",
     "output_type": "stream",
     "text": [
      "A medium shot view of a smiling person holding a black cardboard box with green tape from the Nike webshop in her hands, standing in front of a busy city street and cars background, the weather is rainy, high photorealistic quality.\n"
     ]
    },
    {
     "name": "stderr",
     "output_type": "stream",
     "text": [
      "100%|██████████| 15/15 [00:07<00:00,  1.97it/s]\n",
      "  4%|▎         | 37/1000 [06:07<2:31:04,  9.41s/it]"
     ]
    },
    {
     "name": "stdout",
     "output_type": "stream",
     "text": [
      "A low angle view of a frowning woman holding a colorful cardboard box with black tape from a webshop in her hands, standing in front of a appartment building background, the weather is snowy, high photorealistic quality.\n"
     ]
    },
    {
     "name": "stderr",
     "output_type": "stream",
     "text": [
      "100%|██████████| 15/15 [00:07<00:00,  1.96it/s]\n",
      "  4%|▍         | 38/1000 [06:16<2:30:11,  9.37s/it]"
     ]
    },
    {
     "name": "stdout",
     "output_type": "stream",
     "text": [
      "A close-up view of an old man holding a brown cardboard box with green tape from the Zalando webshop in his hands, standing in front of a quite neighborhood street and trees background, the weather is sunny, high photorealistic quality.\n"
     ]
    },
    {
     "name": "stderr",
     "output_type": "stream",
     "text": [
      "100%|██████████| 15/15 [00:07<00:00,  1.97it/s]\n",
      "  4%|▍         | 39/1000 [06:25<2:29:26,  9.33s/it]"
     ]
    },
    {
     "name": "stdout",
     "output_type": "stream",
     "text": [
      "A low angle view of a young lady holding a black cardboard box with blue tape from the Adidas webshop in her hands, standing in front of a busy city street and cars background, the weather is sunny, high photorealistic quality.\n"
     ]
    },
    {
     "name": "stderr",
     "output_type": "stream",
     "text": [
      "100%|██████████| 15/15 [00:07<00:00,  1.93it/s]\n",
      "  4%|▍         | 40/1000 [06:35<2:29:43,  9.36s/it]"
     ]
    },
    {
     "name": "stdout",
     "output_type": "stream",
     "text": [
      "A medium shot view of an angry woman holding a brown cardboard box with a number from the Bol.com webshop in her hands, standing in front of a city center background, the weather is snowy, high photorealistic quality.\n"
     ]
    },
    {
     "name": "stderr",
     "output_type": "stream",
     "text": [
      "100%|██████████| 15/15 [00:07<00:00,  1.96it/s]\n",
      "  4%|▍         | 41/1000 [06:44<2:29:20,  9.34s/it]"
     ]
    },
    {
     "name": "stdout",
     "output_type": "stream",
     "text": [
      "A medium shot view of a sad man holding a colorful cardboard box with blue tape from the H&M webshop in his hands, standing in front of a city center background, the weather is cloudy, high photorealistic quality.\n"
     ]
    },
    {
     "name": "stderr",
     "output_type": "stream",
     "text": [
      "100%|██████████| 15/15 [00:07<00:00,  1.93it/s]\n",
      "  4%|▍         | 42/1000 [06:54<2:29:50,  9.38s/it]"
     ]
    },
    {
     "name": "stdout",
     "output_type": "stream",
     "text": [
      "A full shot view of an old woman holding a white cardboard box with a barcode from the Bol.com webshop in her hands, standing in front of a quite neighborhood street and cars background, the weather is cloudy, high photorealistic quality.\n"
     ]
    },
    {
     "name": "stderr",
     "output_type": "stream",
     "text": [
      "100%|██████████| 15/15 [00:07<00:00,  1.95it/s]\n",
      "  4%|▍         | 43/1000 [07:03<2:29:23,  9.37s/it]"
     ]
    },
    {
     "name": "stdout",
     "output_type": "stream",
     "text": [
      "A low angle view of a frowning boy holding a white cardboard box with yellow tape from the Zalando webshop in his hands, standing in front of a in the street background, the weather is sunny, high photorealistic quality.\n"
     ]
    },
    {
     "name": "stderr",
     "output_type": "stream",
     "text": [
      "100%|██████████| 15/15 [00:08<00:00,  1.81it/s]\n",
      "  4%|▍         | 44/1000 [07:13<2:32:57,  9.60s/it]"
     ]
    },
    {
     "name": "stdout",
     "output_type": "stream",
     "text": [
      "A low angle view of a sad woman holding a brown cardboard box with blue tape from the Nike webshop in her hands, standing in front of a busy city street and cars background, the weather is rainy, high photorealistic quality.\n"
     ]
    },
    {
     "name": "stderr",
     "output_type": "stream",
     "text": [
      "100%|██████████| 15/15 [00:07<00:00,  1.89it/s]\n",
      "  4%|▍         | 45/1000 [07:23<2:33:08,  9.62s/it]"
     ]
    },
    {
     "name": "stdout",
     "output_type": "stream",
     "text": [
      "A high angle view of an angry boy holding a black cardboard box with green tape from the Zara webshop in his hands, standing in front of a appartment building background, the weather is rainy, high photorealistic quality.\n"
     ]
    },
    {
     "name": "stderr",
     "output_type": "stream",
     "text": [
      "100%|██████████| 15/15 [00:07<00:00,  1.93it/s]\n",
      "  5%|▍         | 46/1000 [07:32<2:32:20,  9.58s/it]"
     ]
    },
    {
     "name": "stdout",
     "output_type": "stream",
     "text": [
      "A high angle view of a happy person holding a brown cardboard box with a barcode from the Bol.com webshop in her hands, standing in front of a garbage curb background, the weather is sunny, high photorealistic quality.\n"
     ]
    },
    {
     "name": "stderr",
     "output_type": "stream",
     "text": [
      "100%|██████████| 15/15 [00:07<00:00,  1.92it/s]\n",
      "  5%|▍         | 47/1000 [07:42<2:31:39,  9.55s/it]"
     ]
    },
    {
     "name": "stdout",
     "output_type": "stream",
     "text": [
      "A full shot view of a happy man holding a white cardboard box with black tape from the Zara webshop in his hands, standing in front of a garbage curb background, the weather is rainy, high photorealistic quality.\n"
     ]
    },
    {
     "name": "stderr",
     "output_type": "stream",
     "text": [
      "100%|██████████| 15/15 [00:07<00:00,  1.94it/s]\n",
      "  5%|▍         | 48/1000 [07:51<2:30:50,  9.51s/it]"
     ]
    },
    {
     "name": "stdout",
     "output_type": "stream",
     "text": [
      "A long shot view of a happy woman holding a brown cardboard box with red tape from the Coolblue webshop in her hands, standing in front of a busy city street and people background, the weather is cloudy, high photorealistic quality.\n"
     ]
    },
    {
     "name": "stderr",
     "output_type": "stream",
     "text": [
      "100%|██████████| 15/15 [00:07<00:00,  1.92it/s]\n",
      "  5%|▍         | 49/1000 [08:01<2:31:22,  9.55s/it]"
     ]
    },
    {
     "name": "stdout",
     "output_type": "stream",
     "text": [
      "A long shot view of a smiling boy holding a black cardboard box with green tape from the Zalando webshop in his hands, standing in front of a in the street background, the weather is sunny, high photorealistic quality.\n"
     ]
    },
    {
     "name": "stderr",
     "output_type": "stream",
     "text": [
      "100%|██████████| 15/15 [00:07<00:00,  1.94it/s]\n",
      "  5%|▌         | 50/1000 [08:10<2:30:13,  9.49s/it]"
     ]
    },
    {
     "name": "stdout",
     "output_type": "stream",
     "text": [
      "A long shot view of a smiling lady holding a brown cardboard box with a barcode from the Zara webshop in her hands, standing in front of a appartment building background, the weather is snowy, high photorealistic quality.\n"
     ]
    },
    {
     "name": "stderr",
     "output_type": "stream",
     "text": [
      "100%|██████████| 15/15 [00:07<00:00,  1.96it/s]\n",
      "  5%|▌         | 51/1000 [08:20<2:29:14,  9.44s/it]"
     ]
    },
    {
     "name": "stdout",
     "output_type": "stream",
     "text": [
      "A low angle view of an angry boy holding a colorful cardboard box with red tape from the Bol.com webshop in his hands, standing in front of a appartment building background, the weather is snowy, high photorealistic quality.\n"
     ]
    },
    {
     "name": "stderr",
     "output_type": "stream",
     "text": [
      "100%|██████████| 15/15 [00:07<00:00,  1.93it/s]\n",
      "  5%|▌         | 52/1000 [08:29<2:29:11,  9.44s/it]"
     ]
    },
    {
     "name": "stdout",
     "output_type": "stream",
     "text": [
      "A close-up view of a frowning man holding a colorful cardboard box with a barcode from the Zalando webshop in his hands, standing in front of a in the street background, the weather is cloudy, high photorealistic quality.\n"
     ]
    },
    {
     "name": "stderr",
     "output_type": "stream",
     "text": [
      "100%|██████████| 15/15 [00:07<00:00,  1.93it/s]\n",
      "  5%|▌         | 53/1000 [08:38<2:29:04,  9.44s/it]"
     ]
    },
    {
     "name": "stdout",
     "output_type": "stream",
     "text": [
      "A long shot view of an angry boy holding a colorful cardboard box with black tape from the Adidas webshop in his hands, standing in front of a busy city street and people background, the weather is rainy, high photorealistic quality.\n"
     ]
    },
    {
     "name": "stderr",
     "output_type": "stream",
     "text": [
      "100%|██████████| 15/15 [00:07<00:00,  1.96it/s]\n",
      "  5%|▌         | 54/1000 [08:48<2:28:40,  9.43s/it]"
     ]
    },
    {
     "name": "stdout",
     "output_type": "stream",
     "text": [
      "A medium shot view of a frowning lady holding a white cardboard box with a number from the H&M webshop in her hands, standing in front of a quite neighborhood street and garden background, the weather is rainy, high photorealistic quality.\n"
     ]
    },
    {
     "name": "stderr",
     "output_type": "stream",
     "text": [
      "100%|██████████| 15/15 [00:07<00:00,  1.94it/s]\n",
      "  6%|▌         | 55/1000 [08:57<2:28:15,  9.41s/it]"
     ]
    },
    {
     "name": "stdout",
     "output_type": "stream",
     "text": [
      "A high angle view of a frowning man holding a brown cardboard box with black tape from a webshop in his hands, standing in front of a garbage curb background, the weather is sunny, high photorealistic quality.\n"
     ]
    },
    {
     "name": "stderr",
     "output_type": "stream",
     "text": [
      "100%|██████████| 15/15 [00:07<00:00,  1.93it/s]\n",
      "  6%|▌         | 56/1000 [09:07<2:29:54,  9.53s/it]"
     ]
    },
    {
     "name": "stdout",
     "output_type": "stream",
     "text": [
      "A close-up view of a sad person holding a brown cardboard box with a qr code from the H&M webshop in her hands, standing in front of a city center background, the weather is rainy, high photorealistic quality.\n"
     ]
    },
    {
     "name": "stderr",
     "output_type": "stream",
     "text": [
      "100%|██████████| 15/15 [00:07<00:00,  1.91it/s]\n",
      "  6%|▌         | 57/1000 [09:17<2:29:52,  9.54s/it]"
     ]
    },
    {
     "name": "stdout",
     "output_type": "stream",
     "text": [
      "A close-up view of a smiling lady holding a brown cardboard box with yellow tape from the Bol.com webshop in her hands, standing in front of a quite neighborhood street and trees background, the weather is cloudy, high photorealistic quality.\n"
     ]
    },
    {
     "name": "stderr",
     "output_type": "stream",
     "text": [
      "100%|██████████| 15/15 [00:07<00:00,  1.94it/s]\n",
      "  6%|▌         | 58/1000 [09:26<2:29:26,  9.52s/it]"
     ]
    },
    {
     "name": "stdout",
     "output_type": "stream",
     "text": [
      "A full shot view of a frowning woman holding a white cardboard box with yellow tape from the Adidas webshop in her hands, standing in front of a city center background, the weather is sunny, high photorealistic quality.\n"
     ]
    },
    {
     "name": "stderr",
     "output_type": "stream",
     "text": [
      "100%|██████████| 15/15 [00:08<00:00,  1.86it/s]\n",
      "  6%|▌         | 59/1000 [09:36<2:30:22,  9.59s/it]"
     ]
    },
    {
     "name": "stdout",
     "output_type": "stream",
     "text": [
      "A close-up view of a smiling man holding a brown cardboard box with a number from the Amazon webshop in his hands, standing in front of a quite neighborhood street and cars background, the weather is sunny, high photorealistic quality.\n"
     ]
    },
    {
     "name": "stderr",
     "output_type": "stream",
     "text": [
      "100%|██████████| 15/15 [00:07<00:00,  1.95it/s]\n",
      "  6%|▌         | 60/1000 [09:45<2:29:35,  9.55s/it]"
     ]
    },
    {
     "name": "stdout",
     "output_type": "stream",
     "text": [
      "A full shot view of an angry person holding a white cardboard box with a number from the Nike webshop in her hands, standing in front of a garbage curb background, the weather is cloudy, high photorealistic quality.\n"
     ]
    },
    {
     "name": "stderr",
     "output_type": "stream",
     "text": [
      "100%|██████████| 15/15 [00:07<00:00,  1.92it/s]\n",
      "  6%|▌         | 61/1000 [09:55<2:29:29,  9.55s/it]"
     ]
    },
    {
     "name": "stdout",
     "output_type": "stream",
     "text": [
      "A long shot view of an old person holding a brown cardboard box with yellow tape from the Amazon webshop in her hands, standing in front of a in the street background, the weather is cloudy, high photorealistic quality.\n"
     ]
    },
    {
     "name": "stderr",
     "output_type": "stream",
     "text": [
      "100%|██████████| 15/15 [00:07<00:00,  1.92it/s]\n",
      "  6%|▌         | 62/1000 [10:04<2:29:47,  9.58s/it]"
     ]
    },
    {
     "name": "stdout",
     "output_type": "stream",
     "text": [
      "A close-up view of an old boy holding a white cardboard box with blue tape from the Zalando webshop in his hands, standing in front of a quite neighborhood street and garden background, the weather is sunny, high photorealistic quality.\n"
     ]
    },
    {
     "name": "stderr",
     "output_type": "stream",
     "text": [
      "100%|██████████| 15/15 [00:07<00:00,  1.92it/s]\n",
      "  6%|▋         | 63/1000 [10:14<2:29:47,  9.59s/it]"
     ]
    },
    {
     "name": "stdout",
     "output_type": "stream",
     "text": [
      "A low angle view of a happy boy holding a brown cardboard box with yellow tape from the Zalando webshop in his hands, standing in front of a quite neighborhood street and garden background, the weather is sunny, high photorealistic quality.\n"
     ]
    },
    {
     "name": "stderr",
     "output_type": "stream",
     "text": [
      "100%|██████████| 15/15 [00:07<00:00,  1.90it/s]\n",
      "  6%|▋         | 64/1000 [10:24<2:29:50,  9.61s/it]"
     ]
    },
    {
     "name": "stdout",
     "output_type": "stream",
     "text": [
      "A long shot view of an old lady holding a colorful cardboard box with black tape from the Amazon webshop in her hands, standing in front of a in the street background, the weather is rainy, high photorealistic quality.\n"
     ]
    },
    {
     "name": "stderr",
     "output_type": "stream",
     "text": [
      "100%|██████████| 15/15 [00:07<00:00,  1.91it/s]\n",
      "  6%|▋         | 65/1000 [10:33<2:29:11,  9.57s/it]"
     ]
    },
    {
     "name": "stdout",
     "output_type": "stream",
     "text": [
      "A full shot view of a happy man holding a black cardboard box with green tape from the Amazon webshop in his hands, standing in front of a busy city street and people background, the weather is sunny, high photorealistic quality.\n"
     ]
    },
    {
     "name": "stderr",
     "output_type": "stream",
     "text": [
      "100%|██████████| 15/15 [00:07<00:00,  1.96it/s]\n",
      "  7%|▋         | 66/1000 [10:43<2:28:10,  9.52s/it]"
     ]
    },
    {
     "name": "stdout",
     "output_type": "stream",
     "text": [
      "A high angle view of an angry man holding a black cardboard box with blue tape from the Amazon webshop in his hands, standing in front of a in the street background, the weather is cloudy, high photorealistic quality.\n"
     ]
    },
    {
     "name": "stderr",
     "output_type": "stream",
     "text": [
      "100%|██████████| 15/15 [00:08<00:00,  1.87it/s]\n",
      "  7%|▋         | 67/1000 [10:52<2:29:02,  9.58s/it]"
     ]
    },
    {
     "name": "stdout",
     "output_type": "stream",
     "text": [
      "A close-up view of a happy boy holding a black cardboard box with a number from the Adidas webshop in his hands, standing in front of a busy city street and people background, the weather is cloudy, high photorealistic quality.\n"
     ]
    },
    {
     "name": "stderr",
     "output_type": "stream",
     "text": [
      "100%|██████████| 15/15 [00:07<00:00,  1.94it/s]\n",
      "  7%|▋         | 68/1000 [11:02<2:28:40,  9.57s/it]"
     ]
    },
    {
     "name": "stdout",
     "output_type": "stream",
     "text": [
      "A medium shot view of an old lady holding a brown cardboard box with a barcode from the Adidas webshop in her hands, standing in front of a city center background, the weather is sunny, high photorealistic quality.\n"
     ]
    },
    {
     "name": "stderr",
     "output_type": "stream",
     "text": [
      "100%|██████████| 15/15 [00:07<00:00,  1.91it/s]\n",
      "  7%|▋         | 69/1000 [11:12<2:28:55,  9.60s/it]"
     ]
    },
    {
     "name": "stdout",
     "output_type": "stream",
     "text": [
      "A low angle view of an angry person holding a white cardboard box with red tape from the Amazon webshop in her hands, standing in front of a quite neighborhood street and garden background, the weather is snowy, high photorealistic quality.\n"
     ]
    },
    {
     "name": "stderr",
     "output_type": "stream",
     "text": [
      "100%|██████████| 15/15 [00:07<00:00,  1.91it/s]\n",
      "  7%|▋         | 70/1000 [11:21<2:28:13,  9.56s/it]"
     ]
    },
    {
     "name": "stdout",
     "output_type": "stream",
     "text": [
      "A close-up view of a smiling man holding a white cardboard box with yellow tape from the H&M webshop in his hands, standing in front of a city center background, the weather is snowy, high photorealistic quality.\n"
     ]
    },
    {
     "name": "stderr",
     "output_type": "stream",
     "text": [
      "100%|██████████| 15/15 [00:07<00:00,  1.91it/s]\n",
      "  7%|▋         | 71/1000 [11:31<2:28:06,  9.57s/it]"
     ]
    },
    {
     "name": "stdout",
     "output_type": "stream",
     "text": [
      "A close-up view of an angry lady holding a black cardboard box with green tape from the Zalando webshop in her hands, standing in front of a busy city street and cars background, the weather is cloudy, high photorealistic quality.\n"
     ]
    },
    {
     "name": "stderr",
     "output_type": "stream",
     "text": [
      "100%|██████████| 15/15 [00:07<00:00,  1.94it/s]\n",
      "  7%|▋         | 72/1000 [11:40<2:27:26,  9.53s/it]"
     ]
    },
    {
     "name": "stdout",
     "output_type": "stream",
     "text": [
      "A full shot view of an angry woman holding a colorful cardboard box with a barcode from the Bol.com webshop in her hands, standing in front of a quite neighborhood street and trees background, the weather is cloudy, high photorealistic quality.\n"
     ]
    },
    {
     "name": "stderr",
     "output_type": "stream",
     "text": [
      "100%|██████████| 15/15 [00:07<00:00,  1.93it/s]\n",
      "  7%|▋         | 73/1000 [11:50<2:27:47,  9.57s/it]"
     ]
    },
    {
     "name": "stdout",
     "output_type": "stream",
     "text": [
      "A full shot view of a young person holding a black cardboard box with black tape from the Bol.com webshop in her hands, standing in front of a garbage curb background, the weather is rainy, high photorealistic quality.\n"
     ]
    },
    {
     "name": "stderr",
     "output_type": "stream",
     "text": [
      "100%|██████████| 15/15 [00:07<00:00,  1.89it/s]\n",
      "  7%|▋         | 74/1000 [11:59<2:28:07,  9.60s/it]"
     ]
    },
    {
     "name": "stdout",
     "output_type": "stream",
     "text": [
      "A high angle view of a smiling person holding a colorful cardboard box with yellow tape from the Zara webshop in her hands, standing in front of a in the street background, the weather is snowy, high photorealistic quality.\n"
     ]
    },
    {
     "name": "stderr",
     "output_type": "stream",
     "text": [
      "100%|██████████| 15/15 [00:07<00:00,  1.92it/s]\n",
      "  8%|▊         | 75/1000 [12:09<2:27:42,  9.58s/it]"
     ]
    },
    {
     "name": "stdout",
     "output_type": "stream",
     "text": [
      "A long shot view of an old lady holding a brown cardboard box with a qr code from the Adidas webshop in her hands, standing in front of a in the street background, the weather is cloudy, high photorealistic quality.\n"
     ]
    },
    {
     "name": "stderr",
     "output_type": "stream",
     "text": [
      "100%|██████████| 15/15 [00:07<00:00,  1.94it/s]\n",
      "  8%|▊         | 76/1000 [12:18<2:26:45,  9.53s/it]"
     ]
    },
    {
     "name": "stdout",
     "output_type": "stream",
     "text": [
      "A low angle view of an angry man holding a black cardboard box with blue tape from the Amazon webshop in his hands, standing in front of a busy city street and people background, the weather is rainy, high photorealistic quality.\n"
     ]
    },
    {
     "name": "stderr",
     "output_type": "stream",
     "text": [
      "100%|██████████| 15/15 [00:07<00:00,  1.91it/s]\n",
      "  8%|▊         | 77/1000 [12:28<2:26:34,  9.53s/it]"
     ]
    },
    {
     "name": "stdout",
     "output_type": "stream",
     "text": [
      "A high angle view of a happy lady holding a colorful cardboard box with blue tape from the Zara webshop in her hands, standing in front of a busy city street and people background, the weather is snowy, high photorealistic quality.\n"
     ]
    },
    {
     "name": "stderr",
     "output_type": "stream",
     "text": [
      "100%|██████████| 15/15 [00:07<00:00,  1.94it/s]\n",
      "  8%|▊         | 78/1000 [12:37<2:25:48,  9.49s/it]"
     ]
    },
    {
     "name": "stdout",
     "output_type": "stream",
     "text": [
      "A medium shot view of an angry woman holding a black cardboard box with a qr code from the H&M webshop in her hands, standing in front of a garbage curb background, the weather is snowy, high photorealistic quality.\n"
     ]
    },
    {
     "name": "stderr",
     "output_type": "stream",
     "text": [
      "100%|██████████| 15/15 [00:07<00:00,  1.95it/s]\n",
      "  8%|▊         | 79/1000 [12:47<2:25:17,  9.47s/it]"
     ]
    },
    {
     "name": "stdout",
     "output_type": "stream",
     "text": [
      "A full shot view of an angry lady holding a black cardboard box with red tape from the Amazon webshop in her hands, standing in front of a quite neighborhood street and garden background, the weather is cloudy, high photorealistic quality.\n"
     ]
    },
    {
     "name": "stderr",
     "output_type": "stream",
     "text": [
      "100%|██████████| 15/15 [00:07<00:00,  1.90it/s]\n",
      "  8%|▊         | 80/1000 [12:56<2:25:40,  9.50s/it]"
     ]
    },
    {
     "name": "stdout",
     "output_type": "stream",
     "text": [
      "A close-up view of a sad person holding a white cardboard box with green tape from the Zara webshop in her hands, standing in front of a quite neighborhood street and cars background, the weather is sunny, high photorealistic quality.\n"
     ]
    },
    {
     "name": "stderr",
     "output_type": "stream",
     "text": [
      "100%|██████████| 15/15 [00:07<00:00,  1.94it/s]\n",
      "  8%|▊         | 81/1000 [13:06<2:25:36,  9.51s/it]"
     ]
    },
    {
     "name": "stdout",
     "output_type": "stream",
     "text": [
      "A low angle view of a smiling boy holding a white cardboard box with a qr code from the Zara webshop in his hands, standing in front of a city center background, the weather is rainy, high photorealistic quality.\n"
     ]
    },
    {
     "name": "stderr",
     "output_type": "stream",
     "text": [
      "100%|██████████| 15/15 [00:07<00:00,  1.94it/s]\n",
      "  8%|▊         | 82/1000 [13:15<2:25:19,  9.50s/it]"
     ]
    },
    {
     "name": "stdout",
     "output_type": "stream",
     "text": [
      "A medium shot view of a happy lady holding a white cardboard box with a qr code from the H&M webshop in her hands, standing in front of a garbage curb background, the weather is cloudy, high photorealistic quality.\n"
     ]
    },
    {
     "name": "stderr",
     "output_type": "stream",
     "text": [
      "100%|██████████| 15/15 [00:07<00:00,  1.90it/s]\n",
      "  8%|▊         | 83/1000 [13:25<2:25:33,  9.52s/it]"
     ]
    },
    {
     "name": "stdout",
     "output_type": "stream",
     "text": [
      "A full shot view of an old woman holding a colorful cardboard box with green tape from the Coolblue webshop in her hands, standing in front of a appartment building background, the weather is cloudy, high photorealistic quality.\n"
     ]
    },
    {
     "name": "stderr",
     "output_type": "stream",
     "text": [
      "100%|██████████| 15/15 [00:07<00:00,  1.93it/s]\n",
      "  8%|▊         | 84/1000 [13:34<2:25:10,  9.51s/it]"
     ]
    },
    {
     "name": "stdout",
     "output_type": "stream",
     "text": [
      "A high angle view of a frowning woman holding a white cardboard box with green tape from the Zara webshop in her hands, standing in front of a in the street background, the weather is sunny, high photorealistic quality.\n"
     ]
    },
    {
     "name": "stderr",
     "output_type": "stream",
     "text": [
      "100%|██████████| 15/15 [00:07<00:00,  1.93it/s]\n",
      "  8%|▊         | 85/1000 [13:44<2:24:57,  9.51s/it]"
     ]
    },
    {
     "name": "stdout",
     "output_type": "stream",
     "text": [
      "A medium shot view of an old person holding a white cardboard box with a number from a webshop in her hands, standing in front of a appartment building background, the weather is rainy, high photorealistic quality.\n"
     ]
    },
    {
     "name": "stderr",
     "output_type": "stream",
     "text": [
      "100%|██████████| 15/15 [00:07<00:00,  1.94it/s]\n",
      "  9%|▊         | 86/1000 [13:53<2:24:39,  9.50s/it]"
     ]
    },
    {
     "name": "stdout",
     "output_type": "stream",
     "text": [
      "A full shot view of a frowning woman holding a brown cardboard box with a number from the Coolblue webshop in her hands, standing in front of a busy city street and cars background, the weather is sunny, high photorealistic quality.\n"
     ]
    },
    {
     "name": "stderr",
     "output_type": "stream",
     "text": [
      "100%|██████████| 15/15 [00:07<00:00,  1.93it/s]\n",
      "  9%|▊         | 87/1000 [14:03<2:24:25,  9.49s/it]"
     ]
    },
    {
     "name": "stdout",
     "output_type": "stream",
     "text": [
      "A medium shot view of an angry boy holding a white cardboard box with yellow tape from the Zara webshop in his hands, standing in front of a busy city street and cars background, the weather is sunny, high photorealistic quality.\n"
     ]
    },
    {
     "name": "stderr",
     "output_type": "stream",
     "text": [
      "100%|██████████| 15/15 [00:07<00:00,  1.92it/s]\n",
      "  9%|▉         | 88/1000 [14:12<2:24:28,  9.50s/it]"
     ]
    },
    {
     "name": "stdout",
     "output_type": "stream",
     "text": [
      "A long shot view of a frowning woman holding a brown cardboard box with yellow tape from the Zalando webshop in her hands, standing in front of a garbage curb background, the weather is sunny, high photorealistic quality.\n"
     ]
    },
    {
     "name": "stderr",
     "output_type": "stream",
     "text": [
      "100%|██████████| 15/15 [00:07<00:00,  1.93it/s]\n",
      "  9%|▉         | 89/1000 [14:22<2:24:17,  9.50s/it]"
     ]
    },
    {
     "name": "stdout",
     "output_type": "stream",
     "text": [
      "A close-up view of a sad boy holding a colorful cardboard box with red tape from the Nike webshop in his hands, standing in front of a busy city street and people background, the weather is rainy, high photorealistic quality.\n"
     ]
    },
    {
     "name": "stderr",
     "output_type": "stream",
     "text": [
      "100%|██████████| 15/15 [00:07<00:00,  1.93it/s]\n",
      "  9%|▉         | 90/1000 [14:31<2:23:54,  9.49s/it]"
     ]
    },
    {
     "name": "stdout",
     "output_type": "stream",
     "text": [
      "A full shot view of a smiling man holding a black cardboard box with yellow tape from the Bol.com webshop in his hands, standing in front of a appartment building background, the weather is cloudy, high photorealistic quality.\n"
     ]
    },
    {
     "name": "stderr",
     "output_type": "stream",
     "text": [
      "100%|██████████| 15/15 [00:07<00:00,  1.94it/s]\n",
      "  9%|▉         | 91/1000 [14:41<2:23:01,  9.44s/it]"
     ]
    },
    {
     "name": "stdout",
     "output_type": "stream",
     "text": [
      "A close-up view of a young boy holding a black cardboard box with yellow tape from the Bol.com webshop in his hands, standing in front of a in the street background, the weather is cloudy, high photorealistic quality.\n"
     ]
    },
    {
     "name": "stderr",
     "output_type": "stream",
     "text": [
      "100%|██████████| 15/15 [00:07<00:00,  1.94it/s]\n",
      "  9%|▉         | 92/1000 [14:50<2:22:55,  9.44s/it]"
     ]
    },
    {
     "name": "stdout",
     "output_type": "stream",
     "text": [
      "A high angle view of a happy lady holding a brown cardboard box with red tape from the H&M webshop in her hands, standing in front of a garbage curb background, the weather is snowy, high photorealistic quality.\n"
     ]
    },
    {
     "name": "stderr",
     "output_type": "stream",
     "text": [
      "100%|██████████| 15/15 [00:07<00:00,  1.92it/s]\n",
      "  9%|▉         | 93/1000 [15:00<2:23:09,  9.47s/it]"
     ]
    },
    {
     "name": "stdout",
     "output_type": "stream",
     "text": [
      "A close-up view of a happy man holding a black cardboard box with yellow tape from the Bol.com webshop in his hands, standing in front of a quite neighborhood street and trees background, the weather is cloudy, high photorealistic quality.\n"
     ]
    },
    {
     "name": "stderr",
     "output_type": "stream",
     "text": [
      "100%|██████████| 15/15 [00:08<00:00,  1.87it/s]\n",
      "  9%|▉         | 94/1000 [15:09<2:23:49,  9.52s/it]"
     ]
    },
    {
     "name": "stdout",
     "output_type": "stream",
     "text": [
      "A medium shot view of a frowning man holding a colorful cardboard box with a barcode from the Bol.com webshop in his hands, standing in front of a busy city street and cars background, the weather is cloudy, high photorealistic quality.\n"
     ]
    },
    {
     "name": "stderr",
     "output_type": "stream",
     "text": [
      "100%|██████████| 15/15 [00:07<00:00,  1.96it/s]\n",
      " 10%|▉         | 95/1000 [15:19<2:22:53,  9.47s/it]"
     ]
    },
    {
     "name": "stdout",
     "output_type": "stream",
     "text": [
      "A high angle view of an old woman holding a white cardboard box with blue tape from the H&M webshop in her hands, standing in front of a quite neighborhood street and trees background, the weather is snowy, high photorealistic quality.\n"
     ]
    },
    {
     "name": "stderr",
     "output_type": "stream",
     "text": [
      "100%|██████████| 15/15 [00:07<00:00,  1.96it/s]\n",
      " 10%|▉         | 96/1000 [15:28<2:22:10,  9.44s/it]"
     ]
    },
    {
     "name": "stdout",
     "output_type": "stream",
     "text": [
      "A close-up view of an old woman holding a colorful cardboard box with a qr code from the Adidas webshop in her hands, standing in front of a garbage curb background, the weather is cloudy, high photorealistic quality.\n"
     ]
    },
    {
     "name": "stderr",
     "output_type": "stream",
     "text": [
      "100%|██████████| 15/15 [00:07<00:00,  1.93it/s]\n",
      " 10%|▉         | 97/1000 [15:37<2:22:15,  9.45s/it]"
     ]
    },
    {
     "name": "stdout",
     "output_type": "stream",
     "text": [
      "A medium shot view of a frowning woman holding a black cardboard box with a barcode from the Amazon webshop in her hands, standing in front of a garbage curb background, the weather is cloudy, high photorealistic quality.\n"
     ]
    },
    {
     "name": "stderr",
     "output_type": "stream",
     "text": [
      "100%|██████████| 15/15 [00:07<00:00,  1.95it/s]\n",
      " 10%|▉         | 98/1000 [15:47<2:21:53,  9.44s/it]"
     ]
    },
    {
     "name": "stdout",
     "output_type": "stream",
     "text": [
      "A long shot view of an old person holding a brown cardboard box with black tape from the Coolblue webshop in her hands, standing in front of a quite neighborhood street and trees background, the weather is snowy, high photorealistic quality.\n"
     ]
    },
    {
     "name": "stderr",
     "output_type": "stream",
     "text": [
      "100%|██████████| 15/15 [00:07<00:00,  1.93it/s]\n",
      " 10%|▉         | 99/1000 [15:56<2:21:42,  9.44s/it]"
     ]
    },
    {
     "name": "stdout",
     "output_type": "stream",
     "text": [
      "A medium shot view of an angry person holding a colorful cardboard box with blue tape from the Adidas webshop in her hands, standing in front of a quite neighborhood street and trees background, the weather is snowy, high photorealistic quality.\n"
     ]
    },
    {
     "name": "stderr",
     "output_type": "stream",
     "text": [
      "100%|██████████| 15/15 [00:07<00:00,  1.94it/s]\n",
      " 10%|█         | 100/1000 [16:06<2:21:47,  9.45s/it]"
     ]
    },
    {
     "name": "stdout",
     "output_type": "stream",
     "text": [
      "A low angle view of an old lady holding a black cardboard box with green tape from the Zara webshop in her hands, standing in front of a in the street background, the weather is cloudy, high photorealistic quality.\n"
     ]
    },
    {
     "name": "stderr",
     "output_type": "stream",
     "text": [
      "100%|██████████| 15/15 [00:07<00:00,  1.91it/s]\n",
      " 10%|█         | 101/1000 [16:15<2:21:54,  9.47s/it]"
     ]
    },
    {
     "name": "stdout",
     "output_type": "stream",
     "text": [
      "A full shot view of a smiling woman holding a white cardboard box with green tape from the Amazon webshop in her hands, standing in front of a garbage curb background, the weather is snowy, high photorealistic quality.\n"
     ]
    },
    {
     "name": "stderr",
     "output_type": "stream",
     "text": [
      "100%|██████████| 15/15 [00:07<00:00,  1.91it/s]\n",
      " 10%|█         | 102/1000 [16:25<2:22:11,  9.50s/it]"
     ]
    },
    {
     "name": "stdout",
     "output_type": "stream",
     "text": [
      "A close-up view of an angry woman holding a black cardboard box with a qr code from the Zalando webshop in her hands, standing in front of a quite neighborhood street and garden background, the weather is snowy, high photorealistic quality.\n"
     ]
    },
    {
     "name": "stderr",
     "output_type": "stream",
     "text": [
      "100%|██████████| 15/15 [00:07<00:00,  1.94it/s]\n",
      " 10%|█         | 103/1000 [16:34<2:21:55,  9.49s/it]"
     ]
    },
    {
     "name": "stdout",
     "output_type": "stream",
     "text": [
      "A full shot view of a sad person holding a colorful cardboard box with yellow tape from the Zalando webshop in her hands, standing in front of a garbage curb background, the weather is snowy, high photorealistic quality.\n"
     ]
    },
    {
     "name": "stderr",
     "output_type": "stream",
     "text": [
      "100%|██████████| 15/15 [00:07<00:00,  1.92it/s]\n",
      " 10%|█         | 104/1000 [16:44<2:21:53,  9.50s/it]"
     ]
    },
    {
     "name": "stdout",
     "output_type": "stream",
     "text": [
      "A long shot view of a frowning woman holding a white cardboard box with blue tape from a webshop in her hands, standing in front of a busy city street and cars background, the weather is snowy, high photorealistic quality.\n"
     ]
    },
    {
     "name": "stderr",
     "output_type": "stream",
     "text": [
      "100%|██████████| 15/15 [00:07<00:00,  1.92it/s]\n",
      " 10%|█         | 105/1000 [16:53<2:21:26,  9.48s/it]"
     ]
    },
    {
     "name": "stdout",
     "output_type": "stream",
     "text": [
      "A close-up view of a young boy holding a black cardboard box with red tape from the Adidas webshop in his hands, standing in front of a quite neighborhood street and cars background, the weather is sunny, high photorealistic quality.\n"
     ]
    },
    {
     "name": "stderr",
     "output_type": "stream",
     "text": [
      "100%|██████████| 15/15 [00:07<00:00,  1.90it/s]\n",
      " 11%|█         | 106/1000 [17:03<2:21:37,  9.51s/it]"
     ]
    },
    {
     "name": "stdout",
     "output_type": "stream",
     "text": [
      "A medium shot view of a frowning person holding a colorful cardboard box with yellow tape from the H&M webshop in her hands, standing in front of a busy city street and people background, the weather is rainy, high photorealistic quality.\n"
     ]
    },
    {
     "name": "stderr",
     "output_type": "stream",
     "text": [
      "100%|██████████| 15/15 [00:07<00:00,  1.94it/s]\n",
      " 11%|█         | 107/1000 [17:12<2:20:57,  9.47s/it]"
     ]
    },
    {
     "name": "stdout",
     "output_type": "stream",
     "text": [
      "A close-up view of an old boy holding a brown cardboard box with yellow tape from the Bol.com webshop in his hands, standing in front of a quite neighborhood street and trees background, the weather is rainy, high photorealistic quality.\n"
     ]
    },
    {
     "name": "stderr",
     "output_type": "stream",
     "text": [
      "100%|██████████| 15/15 [00:07<00:00,  1.91it/s]\n",
      " 11%|█         | 108/1000 [17:22<2:21:05,  9.49s/it]"
     ]
    },
    {
     "name": "stdout",
     "output_type": "stream",
     "text": [
      "A full shot view of a happy woman holding a brown cardboard box with blue tape from the H&M webshop in her hands, standing in front of a busy city street and cars background, the weather is sunny, high photorealistic quality.\n"
     ]
    },
    {
     "name": "stderr",
     "output_type": "stream",
     "text": [
      "100%|██████████| 15/15 [00:07<00:00,  1.93it/s]\n",
      " 11%|█         | 109/1000 [17:31<2:20:45,  9.48s/it]"
     ]
    },
    {
     "name": "stdout",
     "output_type": "stream",
     "text": [
      "A close-up view of a young man holding a brown cardboard box with black tape from the Coolblue webshop in his hands, standing in front of a busy city street and people background, the weather is snowy, high photorealistic quality.\n"
     ]
    },
    {
     "name": "stderr",
     "output_type": "stream",
     "text": [
      "100%|██████████| 15/15 [00:07<00:00,  1.95it/s]\n",
      " 11%|█         | 110/1000 [17:41<2:20:13,  9.45s/it]"
     ]
    },
    {
     "name": "stdout",
     "output_type": "stream",
     "text": [
      "A high angle view of a happy woman holding a black cardboard box with a barcode from the H&M webshop in her hands, standing in front of a busy city street and people background, the weather is cloudy, high photorealistic quality.\n"
     ]
    },
    {
     "name": "stderr",
     "output_type": "stream",
     "text": [
      "100%|██████████| 15/15 [00:07<00:00,  1.96it/s]\n",
      " 11%|█         | 111/1000 [17:50<2:19:30,  9.42s/it]"
     ]
    },
    {
     "name": "stdout",
     "output_type": "stream",
     "text": [
      "A high angle view of a frowning boy holding a brown cardboard box with a qr code from the H&M webshop in his hands, standing in front of a quite neighborhood street and cars background, the weather is rainy, high photorealistic quality.\n"
     ]
    },
    {
     "name": "stderr",
     "output_type": "stream",
     "text": [
      "100%|██████████| 15/15 [00:07<00:00,  1.91it/s]\n",
      " 11%|█         | 112/1000 [17:59<2:20:04,  9.46s/it]"
     ]
    },
    {
     "name": "stdout",
     "output_type": "stream",
     "text": [
      "A medium shot view of a smiling lady holding a brown cardboard box with a qr code from the Nike webshop in her hands, standing in front of a appartment building background, the weather is snowy, high photorealistic quality.\n"
     ]
    },
    {
     "name": "stderr",
     "output_type": "stream",
     "text": [
      "100%|██████████| 15/15 [00:07<00:00,  1.92it/s]\n",
      " 11%|█▏        | 113/1000 [18:09<2:19:59,  9.47s/it]"
     ]
    },
    {
     "name": "stdout",
     "output_type": "stream",
     "text": [
      "A long shot view of a smiling man holding a white cardboard box with green tape from the Zalando webshop in his hands, standing in front of a quite neighborhood street and trees background, the weather is rainy, high photorealistic quality.\n"
     ]
    },
    {
     "name": "stderr",
     "output_type": "stream",
     "text": [
      "100%|██████████| 15/15 [00:07<00:00,  1.92it/s]\n",
      " 11%|█▏        | 114/1000 [18:19<2:21:35,  9.59s/it]"
     ]
    },
    {
     "name": "stdout",
     "output_type": "stream",
     "text": [
      "A high angle view of a young lady holding a black cardboard box with black tape from the Zara webshop in her hands, standing in front of a quite neighborhood street and garden background, the weather is sunny, high photorealistic quality.\n"
     ]
    },
    {
     "name": "stderr",
     "output_type": "stream",
     "text": [
      "100%|██████████| 15/15 [00:08<00:00,  1.85it/s]\n",
      " 12%|█▏        | 115/1000 [18:29<2:22:48,  9.68s/it]"
     ]
    },
    {
     "name": "stdout",
     "output_type": "stream",
     "text": [
      "A low angle view of a frowning man holding a colorful cardboard box with a barcode from the Amazon webshop in his hands, standing in front of a busy city street and people background, the weather is sunny, high photorealistic quality.\n"
     ]
    },
    {
     "name": "stderr",
     "output_type": "stream",
     "text": [
      "100%|██████████| 15/15 [00:07<00:00,  1.89it/s]\n",
      " 12%|█▏        | 116/1000 [18:38<2:22:40,  9.68s/it]"
     ]
    },
    {
     "name": "stdout",
     "output_type": "stream",
     "text": [
      "A medium shot view of an old person holding a black cardboard box with a number from the Bol.com webshop in her hands, standing in front of a quite neighborhood street and garden background, the weather is sunny, high photorealistic quality.\n"
     ]
    },
    {
     "name": "stderr",
     "output_type": "stream",
     "text": [
      "100%|██████████| 15/15 [00:08<00:00,  1.83it/s]\n",
      " 12%|█▏        | 117/1000 [18:48<2:24:12,  9.80s/it]"
     ]
    },
    {
     "name": "stdout",
     "output_type": "stream",
     "text": [
      "A high angle view of a sad boy holding a black cardboard box with red tape from the Adidas webshop in his hands, standing in front of a in the street background, the weather is cloudy, high photorealistic quality.\n"
     ]
    },
    {
     "name": "stderr",
     "output_type": "stream",
     "text": [
      "100%|██████████| 15/15 [00:08<00:00,  1.87it/s]\n",
      " 12%|█▏        | 118/1000 [18:58<2:23:42,  9.78s/it]"
     ]
    },
    {
     "name": "stdout",
     "output_type": "stream",
     "text": [
      "A close-up view of a happy lady holding a colorful cardboard box with red tape from the Zalando webshop in her hands, standing in front of a busy city street and cars background, the weather is sunny, high photorealistic quality.\n"
     ]
    },
    {
     "name": "stderr",
     "output_type": "stream",
     "text": [
      "100%|██████████| 15/15 [00:07<00:00,  1.88it/s]\n",
      " 12%|█▏        | 119/1000 [19:08<2:23:24,  9.77s/it]"
     ]
    },
    {
     "name": "stdout",
     "output_type": "stream",
     "text": [
      "A close-up view of a frowning lady holding a colorful cardboard box with a barcode from the Adidas webshop in her hands, standing in front of a busy city street and people background, the weather is cloudy, high photorealistic quality.\n"
     ]
    },
    {
     "name": "stderr",
     "output_type": "stream",
     "text": [
      "100%|██████████| 15/15 [00:08<00:00,  1.87it/s]\n",
      " 12%|█▏        | 120/1000 [19:18<2:23:26,  9.78s/it]"
     ]
    },
    {
     "name": "stdout",
     "output_type": "stream",
     "text": [
      "A high angle view of a young man holding a white cardboard box with a barcode from the Adidas webshop in his hands, standing in front of a in the street background, the weather is sunny, high photorealistic quality.\n"
     ]
    },
    {
     "name": "stderr",
     "output_type": "stream",
     "text": [
      "100%|██████████| 15/15 [00:07<00:00,  1.88it/s]\n",
      " 12%|█▏        | 121/1000 [19:28<2:23:23,  9.79s/it]"
     ]
    },
    {
     "name": "stdout",
     "output_type": "stream",
     "text": [
      "A high angle view of an angry man holding a white cardboard box with red tape from a webshop in his hands, standing in front of a appartment building background, the weather is rainy, high photorealistic quality.\n"
     ]
    },
    {
     "name": "stderr",
     "output_type": "stream",
     "text": [
      "100%|██████████| 15/15 [00:08<00:00,  1.86it/s]\n",
      " 12%|█▏        | 122/1000 [19:37<2:23:09,  9.78s/it]"
     ]
    },
    {
     "name": "stdout",
     "output_type": "stream",
     "text": [
      "A long shot view of an old boy holding a black cardboard box with a barcode from the H&M webshop in his hands, standing in front of a in the street background, the weather is snowy, high photorealistic quality.\n"
     ]
    },
    {
     "name": "stderr",
     "output_type": "stream",
     "text": [
      "100%|██████████| 15/15 [00:07<00:00,  1.94it/s]\n",
      " 12%|█▏        | 123/1000 [19:47<2:21:15,  9.66s/it]"
     ]
    },
    {
     "name": "stdout",
     "output_type": "stream",
     "text": [
      "A high angle view of an old person holding a black cardboard box with black tape from the Bol.com webshop in her hands, standing in front of a quite neighborhood street and trees background, the weather is rainy, high photorealistic quality.\n"
     ]
    },
    {
     "name": "stderr",
     "output_type": "stream",
     "text": [
      "100%|██████████| 15/15 [00:07<00:00,  1.96it/s]\n",
      " 12%|█▏        | 124/1000 [19:56<2:19:34,  9.56s/it]"
     ]
    },
    {
     "name": "stdout",
     "output_type": "stream",
     "text": [
      "A low angle view of a sad man holding a black cardboard box with red tape from the Zara webshop in his hands, standing in front of a garbage curb background, the weather is rainy, high photorealistic quality.\n"
     ]
    },
    {
     "name": "stderr",
     "output_type": "stream",
     "text": [
      "100%|██████████| 15/15 [00:07<00:00,  1.94it/s]\n",
      " 12%|█▎        | 125/1000 [20:05<2:18:43,  9.51s/it]"
     ]
    },
    {
     "name": "stdout",
     "output_type": "stream",
     "text": [
      "A full shot view of an old lady holding a white cardboard box with a qr code from the Bol.com webshop in her hands, standing in front of a quite neighborhood street and garden background, the weather is sunny, high photorealistic quality.\n"
     ]
    },
    {
     "name": "stderr",
     "output_type": "stream",
     "text": [
      "100%|██████████| 15/15 [00:07<00:00,  1.96it/s]\n",
      " 13%|█▎        | 126/1000 [20:15<2:18:00,  9.47s/it]"
     ]
    },
    {
     "name": "stdout",
     "output_type": "stream",
     "text": [
      "A medium shot view of an angry woman holding a brown cardboard box with green tape from the H&M webshop in her hands, standing in front of a city center background, the weather is sunny, high photorealistic quality.\n"
     ]
    },
    {
     "name": "stderr",
     "output_type": "stream",
     "text": [
      "100%|██████████| 15/15 [00:07<00:00,  1.94it/s]\n",
      " 13%|█▎        | 127/1000 [20:24<2:17:17,  9.44s/it]"
     ]
    },
    {
     "name": "stdout",
     "output_type": "stream",
     "text": [
      "A low angle view of a sad man holding a white cardboard box with blue tape from a webshop in his hands, standing in front of a in the street background, the weather is sunny, high photorealistic quality.\n"
     ]
    },
    {
     "name": "stderr",
     "output_type": "stream",
     "text": [
      "100%|██████████| 15/15 [00:07<00:00,  1.91it/s]\n",
      " 13%|█▎        | 128/1000 [20:34<2:18:10,  9.51s/it]"
     ]
    },
    {
     "name": "stdout",
     "output_type": "stream",
     "text": [
      "A low angle view of a happy boy holding a white cardboard box with yellow tape from the Zalando webshop in his hands, standing in front of a in the street background, the weather is cloudy, high photorealistic quality.\n"
     ]
    },
    {
     "name": "stderr",
     "output_type": "stream",
     "text": [
      "100%|██████████| 15/15 [00:07<00:00,  1.91it/s]\n",
      " 13%|█▎        | 129/1000 [20:43<2:17:53,  9.50s/it]"
     ]
    },
    {
     "name": "stdout",
     "output_type": "stream",
     "text": [
      "A close-up view of a frowning boy holding a colorful cardboard box with blue tape from the Zara webshop in his hands, standing in front of a quite neighborhood street and trees background, the weather is cloudy, high photorealistic quality.\n"
     ]
    },
    {
     "name": "stderr",
     "output_type": "stream",
     "text": [
      "100%|██████████| 15/15 [00:07<00:00,  1.94it/s]\n",
      " 13%|█▎        | 130/1000 [20:53<2:17:32,  9.49s/it]"
     ]
    },
    {
     "name": "stdout",
     "output_type": "stream",
     "text": [
      "A close-up view of a sad boy holding a black cardboard box with a barcode from the Amazon webshop in his hands, standing in front of a busy city street and people background, the weather is rainy, high photorealistic quality.\n"
     ]
    },
    {
     "name": "stderr",
     "output_type": "stream",
     "text": [
      "100%|██████████| 15/15 [00:07<00:00,  1.96it/s]\n",
      " 13%|█▎        | 131/1000 [21:02<2:16:36,  9.43s/it]"
     ]
    },
    {
     "name": "stdout",
     "output_type": "stream",
     "text": [
      "A low angle view of a young lady holding a white cardboard box with green tape from the Adidas webshop in her hands, standing in front of a appartment building background, the weather is snowy, high photorealistic quality.\n"
     ]
    },
    {
     "name": "stderr",
     "output_type": "stream",
     "text": [
      "100%|██████████| 15/15 [00:07<00:00,  1.96it/s]\n",
      " 13%|█▎        | 132/1000 [21:11<2:15:55,  9.40s/it]"
     ]
    },
    {
     "name": "stdout",
     "output_type": "stream",
     "text": [
      "A low angle view of an old woman holding a colorful cardboard box with blue tape from the Adidas webshop in her hands, standing in front of a busy city street and people background, the weather is cloudy, high photorealistic quality.\n"
     ]
    },
    {
     "name": "stderr",
     "output_type": "stream",
     "text": [
      "100%|██████████| 15/15 [00:07<00:00,  1.97it/s]\n",
      " 13%|█▎        | 133/1000 [21:21<2:15:39,  9.39s/it]"
     ]
    },
    {
     "name": "stdout",
     "output_type": "stream",
     "text": [
      "A high angle view of an angry person holding a colorful cardboard box with red tape from the H&M webshop in her hands, standing in front of a busy city street and cars background, the weather is rainy, high photorealistic quality.\n"
     ]
    },
    {
     "name": "stderr",
     "output_type": "stream",
     "text": [
      "100%|██████████| 15/15 [00:07<00:00,  1.92it/s]\n",
      " 13%|█▎        | 134/1000 [21:30<2:16:32,  9.46s/it]"
     ]
    },
    {
     "name": "stdout",
     "output_type": "stream",
     "text": [
      "A high angle view of an old boy holding a colorful cardboard box with red tape from the Nike webshop in his hands, standing in front of a quite neighborhood street and trees background, the weather is rainy, high photorealistic quality.\n"
     ]
    },
    {
     "name": "stderr",
     "output_type": "stream",
     "text": [
      "100%|██████████| 15/15 [00:07<00:00,  1.89it/s]\n",
      " 14%|█▎        | 135/1000 [21:40<2:17:12,  9.52s/it]"
     ]
    },
    {
     "name": "stdout",
     "output_type": "stream",
     "text": [
      "A high angle view of a sad lady holding a black cardboard box with a qr code from the Bol.com webshop in her hands, standing in front of a quite neighborhood street and cars background, the weather is sunny, high photorealistic quality.\n"
     ]
    },
    {
     "name": "stderr",
     "output_type": "stream",
     "text": [
      "100%|██████████| 15/15 [00:07<00:00,  1.96it/s]\n",
      " 14%|█▎        | 136/1000 [21:49<2:16:21,  9.47s/it]"
     ]
    },
    {
     "name": "stdout",
     "output_type": "stream",
     "text": [
      "A low angle view of a smiling man holding a colorful cardboard box with black tape from the H&M webshop in his hands, standing in front of a garbage curb background, the weather is snowy, high photorealistic quality.\n"
     ]
    },
    {
     "name": "stderr",
     "output_type": "stream",
     "text": [
      "100%|██████████| 15/15 [00:07<00:00,  1.89it/s]\n",
      " 14%|█▎        | 137/1000 [21:59<2:16:38,  9.50s/it]"
     ]
    },
    {
     "name": "stdout",
     "output_type": "stream",
     "text": [
      "A medium shot view of a sad woman holding a white cardboard box with red tape from a webshop in her hands, standing in front of a city center background, the weather is sunny, high photorealistic quality.\n"
     ]
    },
    {
     "name": "stderr",
     "output_type": "stream",
     "text": [
      "100%|██████████| 15/15 [00:07<00:00,  1.94it/s]\n",
      " 14%|█▍        | 138/1000 [22:08<2:16:11,  9.48s/it]"
     ]
    },
    {
     "name": "stdout",
     "output_type": "stream",
     "text": [
      "A low angle view of a sad woman holding a brown cardboard box with red tape from the H&M webshop in her hands, standing in front of a quite neighborhood street and garden background, the weather is sunny, high photorealistic quality.\n"
     ]
    },
    {
     "name": "stderr",
     "output_type": "stream",
     "text": [
      "100%|██████████| 15/15 [00:07<00:00,  1.94it/s]\n",
      " 14%|█▍        | 139/1000 [22:18<2:15:38,  9.45s/it]"
     ]
    },
    {
     "name": "stdout",
     "output_type": "stream",
     "text": [
      "A close-up view of a young woman holding a black cardboard box with black tape from the Zara webshop in her hands, standing in front of a quite neighborhood street and trees background, the weather is cloudy, high photorealistic quality.\n"
     ]
    },
    {
     "name": "stderr",
     "output_type": "stream",
     "text": [
      "100%|██████████| 15/15 [00:07<00:00,  1.91it/s]\n",
      " 14%|█▍        | 140/1000 [22:27<2:15:40,  9.47s/it]"
     ]
    },
    {
     "name": "stdout",
     "output_type": "stream",
     "text": [
      "A close-up view of a frowning boy holding a black cardboard box with a number from the Zara webshop in his hands, standing in front of a quite neighborhood street and garden background, the weather is rainy, high photorealistic quality.\n"
     ]
    },
    {
     "name": "stderr",
     "output_type": "stream",
     "text": [
      "100%|██████████| 15/15 [00:07<00:00,  1.95it/s]\n",
      " 14%|█▍        | 141/1000 [22:37<2:16:10,  9.51s/it]"
     ]
    },
    {
     "name": "stdout",
     "output_type": "stream",
     "text": [
      "A long shot view of a sad boy holding a black cardboard box with a number from the Zara webshop in his hands, standing in front of a appartment building background, the weather is rainy, high photorealistic quality.\n"
     ]
    },
    {
     "name": "stderr",
     "output_type": "stream",
     "text": [
      "100%|██████████| 15/15 [00:07<00:00,  1.93it/s]\n",
      " 14%|█▍        | 142/1000 [22:46<2:16:03,  9.51s/it]"
     ]
    },
    {
     "name": "stdout",
     "output_type": "stream",
     "text": [
      "A low angle view of a happy boy holding a black cardboard box with a barcode from the H&M webshop in his hands, standing in front of a busy city street and people background, the weather is snowy, high photorealistic quality.\n"
     ]
    },
    {
     "name": "stderr",
     "output_type": "stream",
     "text": [
      "100%|██████████| 15/15 [00:07<00:00,  1.94it/s]\n",
      " 14%|█▍        | 143/1000 [22:56<2:16:07,  9.53s/it]"
     ]
    },
    {
     "name": "stdout",
     "output_type": "stream",
     "text": [
      "A close-up view of an angry man holding a brown cardboard box with black tape from the Coolblue webshop in his hands, standing in front of a quite neighborhood street and garden background, the weather is sunny, high photorealistic quality.\n"
     ]
    },
    {
     "name": "stderr",
     "output_type": "stream",
     "text": [
      "100%|██████████| 15/15 [00:07<00:00,  1.91it/s]\n",
      " 14%|█▍        | 144/1000 [23:06<2:16:24,  9.56s/it]"
     ]
    },
    {
     "name": "stdout",
     "output_type": "stream",
     "text": [
      "A full shot view of a frowning person holding a black cardboard box with a barcode from the Bol.com webshop in her hands, standing in front of a busy city street and people background, the weather is snowy, high photorealistic quality.\n"
     ]
    },
    {
     "name": "stderr",
     "output_type": "stream",
     "text": [
      "100%|██████████| 15/15 [00:07<00:00,  1.93it/s]\n",
      " 14%|█▍        | 145/1000 [23:15<2:15:53,  9.54s/it]"
     ]
    },
    {
     "name": "stdout",
     "output_type": "stream",
     "text": [
      "A long shot view of a frowning person holding a black cardboard box with a barcode from the Bol.com webshop in her hands, standing in front of a quite neighborhood street and cars background, the weather is rainy, high photorealistic quality.\n"
     ]
    },
    {
     "name": "stderr",
     "output_type": "stream",
     "text": [
      "100%|██████████| 15/15 [00:07<00:00,  1.94it/s]\n",
      " 15%|█▍        | 146/1000 [23:25<2:15:49,  9.54s/it]"
     ]
    },
    {
     "name": "stdout",
     "output_type": "stream",
     "text": [
      "A close-up view of an angry woman holding a black cardboard box with green tape from the Zara webshop in her hands, standing in front of a city center background, the weather is cloudy, high photorealistic quality.\n"
     ]
    },
    {
     "name": "stderr",
     "output_type": "stream",
     "text": [
      "100%|██████████| 15/15 [00:07<00:00,  1.94it/s]\n",
      " 15%|█▍        | 147/1000 [23:34<2:15:25,  9.53s/it]"
     ]
    },
    {
     "name": "stdout",
     "output_type": "stream",
     "text": [
      "A medium shot view of a frowning person holding a colorful cardboard box with red tape from the Coolblue webshop in her hands, standing in front of a quite neighborhood street and garden background, the weather is cloudy, high photorealistic quality.\n"
     ]
    },
    {
     "name": "stderr",
     "output_type": "stream",
     "text": [
      "100%|██████████| 15/15 [00:08<00:00,  1.87it/s]\n",
      " 15%|█▍        | 148/1000 [23:44<2:16:05,  9.58s/it]"
     ]
    },
    {
     "name": "stdout",
     "output_type": "stream",
     "text": [
      "A long shot view of an old lady holding a black cardboard box with blue tape from the Amazon webshop in her hands, standing in front of a garbage curb background, the weather is snowy, high photorealistic quality.\n"
     ]
    },
    {
     "name": "stderr",
     "output_type": "stream",
     "text": [
      "100%|██████████| 15/15 [00:07<00:00,  1.92it/s]\n",
      " 15%|█▍        | 149/1000 [23:53<2:15:43,  9.57s/it]"
     ]
    },
    {
     "name": "stdout",
     "output_type": "stream",
     "text": [
      "A close-up view of a young woman holding a brown cardboard box with yellow tape from the Zalando webshop in her hands, standing in front of a quite neighborhood street and cars background, the weather is rainy, high photorealistic quality.\n"
     ]
    },
    {
     "name": "stderr",
     "output_type": "stream",
     "text": [
      "100%|██████████| 15/15 [00:07<00:00,  1.93it/s]\n",
      " 15%|█▌        | 150/1000 [24:03<2:15:22,  9.56s/it]"
     ]
    },
    {
     "name": "stdout",
     "output_type": "stream",
     "text": [
      "A close-up view of a smiling woman holding a colorful cardboard box with a number from the Nike webshop in her hands, standing in front of a busy city street and cars background, the weather is rainy, high photorealistic quality.\n"
     ]
    },
    {
     "name": "stderr",
     "output_type": "stream",
     "text": [
      "100%|██████████| 15/15 [00:07<00:00,  1.92it/s]\n",
      " 15%|█▌        | 151/1000 [24:12<2:14:47,  9.53s/it]"
     ]
    },
    {
     "name": "stdout",
     "output_type": "stream",
     "text": [
      "A full shot view of a sad lady holding a black cardboard box with red tape from the Nike webshop in her hands, standing in front of a busy city street and people background, the weather is sunny, high photorealistic quality.\n"
     ]
    },
    {
     "name": "stderr",
     "output_type": "stream",
     "text": [
      "100%|██████████| 15/15 [00:07<00:00,  1.95it/s]\n",
      " 15%|█▌        | 152/1000 [24:22<2:14:22,  9.51s/it]"
     ]
    },
    {
     "name": "stdout",
     "output_type": "stream",
     "text": [
      "A high angle view of an angry man holding a brown cardboard box with a barcode from the Bol.com webshop in his hands, standing in front of a quite neighborhood street and garden background, the weather is snowy, high photorealistic quality.\n"
     ]
    },
    {
     "name": "stderr",
     "output_type": "stream",
     "text": [
      "100%|██████████| 15/15 [00:07<00:00,  1.96it/s]\n",
      " 15%|█▌        | 153/1000 [24:31<2:13:25,  9.45s/it]"
     ]
    },
    {
     "name": "stdout",
     "output_type": "stream",
     "text": [
      "A low angle view of an angry man holding a black cardboard box with a qr code from the Coolblue webshop in his hands, standing in front of a garbage curb background, the weather is rainy, high photorealistic quality.\n"
     ]
    },
    {
     "name": "stderr",
     "output_type": "stream",
     "text": [
      "100%|██████████| 15/15 [00:07<00:00,  1.95it/s]\n",
      " 15%|█▌        | 154/1000 [24:41<2:13:17,  9.45s/it]"
     ]
    },
    {
     "name": "stdout",
     "output_type": "stream",
     "text": [
      "A medium shot view of an angry man holding a colorful cardboard box with blue tape from a webshop in his hands, standing in front of a busy city street and people background, the weather is rainy, high photorealistic quality.\n"
     ]
    },
    {
     "name": "stderr",
     "output_type": "stream",
     "text": [
      "100%|██████████| 15/15 [00:07<00:00,  1.89it/s]\n",
      " 16%|█▌        | 155/1000 [24:50<2:14:10,  9.53s/it]"
     ]
    },
    {
     "name": "stdout",
     "output_type": "stream",
     "text": [
      "A high angle view of a frowning woman holding a brown cardboard box with red tape from the Coolblue webshop in her hands, standing in front of a garbage curb background, the weather is cloudy, high photorealistic quality.\n"
     ]
    },
    {
     "name": "stderr",
     "output_type": "stream",
     "text": [
      "100%|██████████| 15/15 [00:08<00:00,  1.85it/s]\n",
      " 16%|█▌        | 156/1000 [25:00<2:15:24,  9.63s/it]"
     ]
    },
    {
     "name": "stdout",
     "output_type": "stream",
     "text": [
      "A high angle view of a happy woman holding a brown cardboard box with black tape from the Coolblue webshop in her hands, standing in front of a busy city street and people background, the weather is cloudy, high photorealistic quality.\n"
     ]
    },
    {
     "name": "stderr",
     "output_type": "stream",
     "text": [
      "100%|██████████| 15/15 [00:08<00:00,  1.75it/s]\n",
      " 16%|█▌        | 157/1000 [25:10<2:18:02,  9.83s/it]"
     ]
    },
    {
     "name": "stdout",
     "output_type": "stream",
     "text": [
      "A low angle view of a young person holding a colorful cardboard box with a number from the Bol.com webshop in her hands, standing in front of a quite neighborhood street and trees background, the weather is sunny, high photorealistic quality.\n"
     ]
    },
    {
     "name": "stderr",
     "output_type": "stream",
     "text": [
      "100%|██████████| 15/15 [00:08<00:00,  1.78it/s]\n",
      " 16%|█▌        | 158/1000 [25:21<2:21:13, 10.06s/it]"
     ]
    },
    {
     "name": "stdout",
     "output_type": "stream",
     "text": [
      "A low angle view of a happy man holding a colorful cardboard box with a barcode from the Zalando webshop in his hands, standing in front of a city center background, the weather is sunny, high photorealistic quality.\n"
     ]
    },
    {
     "name": "stderr",
     "output_type": "stream",
     "text": [
      "100%|██████████| 15/15 [00:08<00:00,  1.77it/s]\n",
      " 16%|█▌        | 159/1000 [25:32<2:23:20, 10.23s/it]"
     ]
    },
    {
     "name": "stdout",
     "output_type": "stream",
     "text": [
      "A close-up view of an angry boy holding a colorful cardboard box with green tape from the Zara webshop in his hands, standing in front of a in the street background, the weather is snowy, high photorealistic quality.\n"
     ]
    },
    {
     "name": "stderr",
     "output_type": "stream",
     "text": [
      "100%|██████████| 15/15 [00:10<00:00,  1.41it/s]\n",
      " 16%|█▌        | 160/1000 [25:44<2:33:42, 10.98s/it]"
     ]
    },
    {
     "name": "stdout",
     "output_type": "stream",
     "text": [
      "A long shot view of a young person holding a brown cardboard box with red tape from a webshop in her hands, standing in front of a busy city street and cars background, the weather is sunny, high photorealistic quality.\n"
     ]
    },
    {
     "name": "stderr",
     "output_type": "stream",
     "text": [
      "100%|██████████| 15/15 [00:10<00:00,  1.41it/s]\n",
      " 16%|█▌        | 161/1000 [25:57<2:40:39, 11.49s/it]"
     ]
    },
    {
     "name": "stdout",
     "output_type": "stream",
     "text": [
      "A full shot view of a happy man holding a black cardboard box with blue tape from the Zalando webshop in his hands, standing in front of a garbage curb background, the weather is snowy, high photorealistic quality.\n"
     ]
    },
    {
     "name": "stderr",
     "output_type": "stream",
     "text": [
      "100%|██████████| 15/15 [00:09<00:00,  1.62it/s]\n",
      " 16%|█▌        | 162/1000 [26:09<2:40:53, 11.52s/it]"
     ]
    },
    {
     "name": "stdout",
     "output_type": "stream",
     "text": [
      "A high angle view of a sad person holding a colorful cardboard box with red tape from the Nike webshop in her hands, standing in front of a busy city street and cars background, the weather is snowy, high photorealistic quality.\n"
     ]
    },
    {
     "name": "stderr",
     "output_type": "stream",
     "text": [
      "100%|██████████| 15/15 [00:11<00:00,  1.31it/s]\n",
      " 16%|█▋        | 163/1000 [26:22<2:49:37, 12.16s/it]"
     ]
    },
    {
     "name": "stdout",
     "output_type": "stream",
     "text": [
      "A close-up view of a happy man holding a brown cardboard box with a number from the Zalando webshop in his hands, standing in front of a busy city street and people background, the weather is sunny, high photorealistic quality.\n"
     ]
    },
    {
     "name": "stderr",
     "output_type": "stream",
     "text": [
      "100%|██████████| 15/15 [00:11<00:00,  1.35it/s]\n",
      " 16%|█▋        | 164/1000 [26:35<2:53:31, 12.45s/it]"
     ]
    },
    {
     "name": "stdout",
     "output_type": "stream",
     "text": [
      "A medium shot view of a happy lady holding a white cardboard box with red tape from the H&M webshop in her hands, standing in front of a appartment building background, the weather is snowy, high photorealistic quality.\n"
     ]
    },
    {
     "name": "stderr",
     "output_type": "stream",
     "text": [
      "100%|██████████| 15/15 [00:10<00:00,  1.38it/s]\n",
      " 16%|█▋        | 165/1000 [26:48<2:54:54, 12.57s/it]"
     ]
    },
    {
     "name": "stdout",
     "output_type": "stream",
     "text": [
      "A long shot view of a sad lady holding a white cardboard box with a number from the H&M webshop in her hands, standing in front of a busy city street and people background, the weather is snowy, high photorealistic quality.\n"
     ]
    },
    {
     "name": "stderr",
     "output_type": "stream",
     "text": [
      "100%|██████████| 15/15 [00:10<00:00,  1.39it/s]\n",
      " 17%|█▋        | 166/1000 [27:01<2:55:42, 12.64s/it]"
     ]
    },
    {
     "name": "stdout",
     "output_type": "stream",
     "text": [
      "A close-up view of a young boy holding a white cardboard box with black tape from the Nike webshop in his hands, standing in front of a quite neighborhood street and trees background, the weather is rainy, high photorealistic quality.\n"
     ]
    },
    {
     "name": "stderr",
     "output_type": "stream",
     "text": [
      "100%|██████████| 15/15 [00:10<00:00,  1.39it/s]\n",
      " 17%|█▋        | 167/1000 [27:14<2:56:03, 12.68s/it]"
     ]
    },
    {
     "name": "stdout",
     "output_type": "stream",
     "text": [
      "A low angle view of an old person holding a white cardboard box with blue tape from the Adidas webshop in her hands, standing in front of a appartment building background, the weather is cloudy, high photorealistic quality.\n"
     ]
    },
    {
     "name": "stderr",
     "output_type": "stream",
     "text": [
      "100%|██████████| 15/15 [00:10<00:00,  1.40it/s]\n",
      " 17%|█▋        | 168/1000 [27:27<2:56:01, 12.69s/it]"
     ]
    },
    {
     "name": "stdout",
     "output_type": "stream",
     "text": [
      "A medium shot view of a happy lady holding a brown cardboard box with a number from a webshop in her hands, standing in front of a quite neighborhood street and garden background, the weather is snowy, high photorealistic quality.\n"
     ]
    },
    {
     "name": "stderr",
     "output_type": "stream",
     "text": [
      "100%|██████████| 15/15 [00:10<00:00,  1.41it/s]\n",
      " 17%|█▋        | 169/1000 [27:39<2:55:47, 12.69s/it]"
     ]
    },
    {
     "name": "stdout",
     "output_type": "stream",
     "text": [
      "A medium shot view of an old person holding a brown cardboard box with green tape from the Coolblue webshop in her hands, standing in front of a busy city street and people background, the weather is sunny, high photorealistic quality.\n"
     ]
    },
    {
     "name": "stderr",
     "output_type": "stream",
     "text": [
      "100%|██████████| 15/15 [00:10<00:00,  1.40it/s]\n",
      " 17%|█▋        | 170/1000 [27:52<2:55:38, 12.70s/it]"
     ]
    },
    {
     "name": "stdout",
     "output_type": "stream",
     "text": [
      "A low angle view of a frowning boy holding a colorful cardboard box with a number from the H&M webshop in his hands, standing in front of a quite neighborhood street and garden background, the weather is snowy, high photorealistic quality.\n"
     ]
    },
    {
     "name": "stderr",
     "output_type": "stream",
     "text": [
      "100%|██████████| 15/15 [00:10<00:00,  1.39it/s]\n",
      " 17%|█▋        | 171/1000 [28:05<2:56:04, 12.74s/it]"
     ]
    },
    {
     "name": "stdout",
     "output_type": "stream",
     "text": [
      "A high angle view of an old boy holding a black cardboard box with a qr code from the Bol.com webshop in his hands, standing in front of a quite neighborhood street and cars background, the weather is sunny, high photorealistic quality.\n"
     ]
    },
    {
     "name": "stderr",
     "output_type": "stream",
     "text": [
      "100%|██████████| 15/15 [00:10<00:00,  1.39it/s]\n",
      " 17%|█▋        | 172/1000 [28:18<2:56:08, 12.76s/it]"
     ]
    },
    {
     "name": "stdout",
     "output_type": "stream",
     "text": [
      "A long shot view of a young man holding a black cardboard box with yellow tape from the H&M webshop in his hands, standing in front of a busy city street and cars background, the weather is sunny, high photorealistic quality.\n"
     ]
    },
    {
     "name": "stderr",
     "output_type": "stream",
     "text": [
      "100%|██████████| 15/15 [00:09<00:00,  1.60it/s]\n",
      " 17%|█▋        | 173/1000 [28:29<2:50:14, 12.35s/it]"
     ]
    },
    {
     "name": "stdout",
     "output_type": "stream",
     "text": [
      "A full shot view of a happy woman holding a colorful cardboard box with blue tape from the Amazon webshop in her hands, standing in front of a garbage curb background, the weather is cloudy, high photorealistic quality.\n"
     ]
    },
    {
     "name": "stderr",
     "output_type": "stream",
     "text": [
      "100%|██████████| 15/15 [00:07<00:00,  1.89it/s]\n",
      " 17%|█▋        | 174/1000 [28:39<2:38:53, 11.54s/it]"
     ]
    },
    {
     "name": "stdout",
     "output_type": "stream",
     "text": [
      "A medium shot view of a sad boy holding a brown cardboard box with red tape from the Zalando webshop in his hands, standing in front of a appartment building background, the weather is cloudy, high photorealistic quality.\n"
     ]
    },
    {
     "name": "stderr",
     "output_type": "stream",
     "text": [
      "100%|██████████| 15/15 [00:08<00:00,  1.84it/s]\n",
      " 18%|█▊        | 175/1000 [28:49<2:31:43, 11.03s/it]"
     ]
    },
    {
     "name": "stdout",
     "output_type": "stream",
     "text": [
      "A full shot view of a sad boy holding a black cardboard box with blue tape from a webshop in his hands, standing in front of a busy city street and cars background, the weather is sunny, high photorealistic quality.\n"
     ]
    },
    {
     "name": "stderr",
     "output_type": "stream",
     "text": [
      "100%|██████████| 15/15 [00:08<00:00,  1.70it/s]\n",
      " 18%|█▊        | 176/1000 [28:59<2:30:38, 10.97s/it]"
     ]
    },
    {
     "name": "stdout",
     "output_type": "stream",
     "text": [
      "A full shot view of a sad boy holding a white cardboard box with yellow tape from a webshop in his hands, standing in front of a busy city street and cars background, the weather is cloudy, high photorealistic quality.\n"
     ]
    },
    {
     "name": "stderr",
     "output_type": "stream",
     "text": [
      "100%|██████████| 15/15 [00:09<00:00,  1.60it/s]\n",
      " 18%|█▊        | 177/1000 [29:11<2:33:21, 11.18s/it]"
     ]
    },
    {
     "name": "stdout",
     "output_type": "stream",
     "text": [
      "A long shot view of an angry lady holding a white cardboard box with yellow tape from the Nike webshop in her hands, standing in front of a quite neighborhood street and trees background, the weather is cloudy, high photorealistic quality.\n"
     ]
    },
    {
     "name": "stderr",
     "output_type": "stream",
     "text": [
      "100%|██████████| 15/15 [00:11<00:00,  1.31it/s]\n",
      " 18%|█▊        | 178/1000 [29:25<2:43:30, 11.94s/it]"
     ]
    },
    {
     "name": "stdout",
     "output_type": "stream",
     "text": [
      "A low angle view of an angry person holding a black cardboard box with black tape from the Zara webshop in her hands, standing in front of a in the street background, the weather is cloudy, high photorealistic quality.\n"
     ]
    },
    {
     "name": "stderr",
     "output_type": "stream",
     "text": [
      "100%|██████████| 15/15 [00:08<00:00,  1.81it/s]\n",
      " 18%|█▊        | 179/1000 [29:35<2:35:43, 11.38s/it]"
     ]
    },
    {
     "name": "stdout",
     "output_type": "stream",
     "text": [
      "A medium shot view of a sad boy holding a black cardboard box with a qr code from the Zalando webshop in his hands, standing in front of a busy city street and cars background, the weather is rainy, high photorealistic quality.\n"
     ]
    },
    {
     "name": "stderr",
     "output_type": "stream",
     "text": [
      "100%|██████████| 15/15 [00:08<00:00,  1.74it/s]\n",
      " 18%|█▊        | 180/1000 [29:45<2:32:10, 11.14s/it]"
     ]
    },
    {
     "name": "stdout",
     "output_type": "stream",
     "text": [
      "A close-up view of a young boy holding a colorful cardboard box with a qr code from the Amazon webshop in his hands, standing in front of a appartment building background, the weather is sunny, high photorealistic quality.\n"
     ]
    },
    {
     "name": "stderr",
     "output_type": "stream",
     "text": [
      "100%|██████████| 15/15 [00:08<00:00,  1.84it/s]\n",
      " 18%|█▊        | 181/1000 [29:56<2:27:43, 10.82s/it]"
     ]
    },
    {
     "name": "stdout",
     "output_type": "stream",
     "text": [
      "A medium shot view of a smiling man holding a white cardboard box with red tape from the Zara webshop in his hands, standing in front of a quite neighborhood street and cars background, the weather is cloudy, high photorealistic quality.\n"
     ]
    },
    {
     "name": "stderr",
     "output_type": "stream",
     "text": [
      "100%|██████████| 15/15 [00:08<00:00,  1.82it/s]\n",
      " 18%|█▊        | 182/1000 [30:06<2:24:09, 10.57s/it]"
     ]
    },
    {
     "name": "stdout",
     "output_type": "stream",
     "text": [
      "A close-up view of a young woman holding a brown cardboard box with black tape from a webshop in her hands, standing in front of a city center background, the weather is sunny, high photorealistic quality.\n"
     ]
    },
    {
     "name": "stderr",
     "output_type": "stream",
     "text": [
      "100%|██████████| 15/15 [00:07<00:00,  1.90it/s]\n",
      " 18%|█▊        | 183/1000 [30:15<2:20:54, 10.35s/it]"
     ]
    },
    {
     "name": "stdout",
     "output_type": "stream",
     "text": [
      "A long shot view of a young person holding a colorful cardboard box with blue tape from the Bol.com webshop in her hands, standing in front of a appartment building background, the weather is rainy, high photorealistic quality.\n"
     ]
    },
    {
     "name": "stderr",
     "output_type": "stream",
     "text": [
      "100%|██████████| 15/15 [00:08<00:00,  1.68it/s]\n",
      " 18%|█▊        | 184/1000 [30:26<2:22:27, 10.48s/it]"
     ]
    },
    {
     "name": "stdout",
     "output_type": "stream",
     "text": [
      "A medium shot view of an angry man holding a white cardboard box with black tape from the Zara webshop in his hands, standing in front of a quite neighborhood street and garden background, the weather is sunny, high photorealistic quality.\n"
     ]
    },
    {
     "name": "stderr",
     "output_type": "stream",
     "text": [
      "100%|██████████| 15/15 [00:08<00:00,  1.80it/s]\n",
      " 18%|█▊        | 185/1000 [30:36<2:20:24, 10.34s/it]"
     ]
    },
    {
     "name": "stdout",
     "output_type": "stream",
     "text": [
      "A full shot view of an angry boy holding a white cardboard box with a qr code from the Amazon webshop in his hands, standing in front of a city center background, the weather is snowy, high photorealistic quality.\n"
     ]
    },
    {
     "name": "stderr",
     "output_type": "stream",
     "text": [
      "100%|██████████| 15/15 [00:08<00:00,  1.80it/s]\n",
      " 19%|█▊        | 186/1000 [30:46<2:18:45, 10.23s/it]"
     ]
    },
    {
     "name": "stdout",
     "output_type": "stream",
     "text": [
      "A full shot view of a happy man holding a white cardboard box with a number from the Coolblue webshop in his hands, standing in front of a quite neighborhood street and trees background, the weather is cloudy, high photorealistic quality.\n"
     ]
    },
    {
     "name": "stderr",
     "output_type": "stream",
     "text": [
      "100%|██████████| 15/15 [00:07<00:00,  1.92it/s]\n",
      " 19%|█▊        | 187/1000 [30:56<2:15:49, 10.02s/it]"
     ]
    },
    {
     "name": "stdout",
     "output_type": "stream",
     "text": [
      "A close-up view of a happy person holding a white cardboard box with a qr code from the Nike webshop in her hands, standing in front of a busy city street and cars background, the weather is rainy, high photorealistic quality.\n"
     ]
    },
    {
     "name": "stderr",
     "output_type": "stream",
     "text": [
      "100%|██████████| 15/15 [00:07<00:00,  1.94it/s]\n",
      " 19%|█▉        | 188/1000 [31:05<2:13:08,  9.84s/it]"
     ]
    },
    {
     "name": "stdout",
     "output_type": "stream",
     "text": [
      "A low angle view of a sad person holding a colorful cardboard box with a qr code from the Zalando webshop in her hands, standing in front of a quite neighborhood street and trees background, the weather is cloudy, high photorealistic quality.\n"
     ]
    },
    {
     "name": "stderr",
     "output_type": "stream",
     "text": [
      "100%|██████████| 15/15 [00:07<00:00,  1.90it/s]\n",
      " 19%|█▉        | 189/1000 [31:15<2:14:21,  9.94s/it]"
     ]
    },
    {
     "name": "stdout",
     "output_type": "stream",
     "text": [
      "A close-up view of a happy lady holding a colorful cardboard box with yellow tape from the Bol.com webshop in her hands, standing in front of a garbage curb background, the weather is snowy, high photorealistic quality.\n"
     ]
    },
    {
     "name": "stderr",
     "output_type": "stream",
     "text": [
      "100%|██████████| 15/15 [00:08<00:00,  1.79it/s]\n",
      " 19%|█▉        | 190/1000 [31:26<2:16:07, 10.08s/it]"
     ]
    },
    {
     "name": "stdout",
     "output_type": "stream",
     "text": [
      "A long shot view of a sad boy holding a white cardboard box with a qr code from the Bol.com webshop in his hands, standing in front of a in the street background, the weather is snowy, high photorealistic quality.\n"
     ]
    },
    {
     "name": "stderr",
     "output_type": "stream",
     "text": [
      "100%|██████████| 15/15 [00:07<00:00,  1.90it/s]\n",
      " 19%|█▉        | 191/1000 [31:35<2:14:04,  9.94s/it]"
     ]
    },
    {
     "name": "stdout",
     "output_type": "stream",
     "text": [
      "A full shot view of an old man holding a black cardboard box with green tape from the Zara webshop in his hands, standing in front of a busy city street and cars background, the weather is snowy, high photorealistic quality.\n"
     ]
    },
    {
     "name": "stderr",
     "output_type": "stream",
     "text": [
      "100%|██████████| 15/15 [00:08<00:00,  1.77it/s]\n",
      " 19%|█▉        | 192/1000 [31:45<2:14:41, 10.00s/it]"
     ]
    },
    {
     "name": "stdout",
     "output_type": "stream",
     "text": [
      "A high angle view of a frowning person holding a black cardboard box with a number from the Zara webshop in her hands, standing in front of a quite neighborhood street and garden background, the weather is snowy, high photorealistic quality.\n"
     ]
    },
    {
     "name": "stderr",
     "output_type": "stream",
     "text": [
      "100%|██████████| 15/15 [00:07<00:00,  1.89it/s]\n",
      " 19%|█▉        | 193/1000 [31:55<2:12:50,  9.88s/it]"
     ]
    },
    {
     "name": "stdout",
     "output_type": "stream",
     "text": [
      "A high angle view of an old lady holding a black cardboard box with red tape from the Bol.com webshop in her hands, standing in front of a quite neighborhood street and trees background, the weather is snowy, high photorealistic quality.\n"
     ]
    },
    {
     "name": "stderr",
     "output_type": "stream",
     "text": [
      "100%|██████████| 15/15 [00:07<00:00,  1.92it/s]\n",
      " 19%|█▉        | 194/1000 [32:04<2:10:58,  9.75s/it]"
     ]
    },
    {
     "name": "stdout",
     "output_type": "stream",
     "text": [
      "A long shot view of an angry lady holding a colorful cardboard box with black tape from the Nike webshop in her hands, standing in front of a busy city street and people background, the weather is rainy, high photorealistic quality.\n"
     ]
    },
    {
     "name": "stderr",
     "output_type": "stream",
     "text": [
      "100%|██████████| 15/15 [00:07<00:00,  1.88it/s]\n",
      " 20%|█▉        | 195/1000 [32:14<2:10:30,  9.73s/it]"
     ]
    },
    {
     "name": "stdout",
     "output_type": "stream",
     "text": [
      "A full shot view of a frowning person holding a brown cardboard box with black tape from the Coolblue webshop in her hands, standing in front of a quite neighborhood street and garden background, the weather is cloudy, high photorealistic quality.\n"
     ]
    },
    {
     "name": "stderr",
     "output_type": "stream",
     "text": [
      "100%|██████████| 15/15 [00:07<00:00,  1.94it/s]\n",
      " 20%|█▉        | 196/1000 [32:24<2:09:11,  9.64s/it]"
     ]
    },
    {
     "name": "stdout",
     "output_type": "stream",
     "text": [
      "A medium shot view of a happy person holding a brown cardboard box with black tape from the Nike webshop in her hands, standing in front of a quite neighborhood street and trees background, the weather is snowy, high photorealistic quality.\n"
     ]
    },
    {
     "name": "stderr",
     "output_type": "stream",
     "text": [
      "100%|██████████| 15/15 [00:07<00:00,  1.89it/s]\n",
      " 20%|█▉        | 197/1000 [32:33<2:08:52,  9.63s/it]"
     ]
    },
    {
     "name": "stdout",
     "output_type": "stream",
     "text": [
      "A high angle view of an angry lady holding a white cardboard box with yellow tape from the Zara webshop in her hands, standing in front of a busy city street and cars background, the weather is cloudy, high photorealistic quality.\n"
     ]
    },
    {
     "name": "stderr",
     "output_type": "stream",
     "text": [
      "100%|██████████| 15/15 [00:07<00:00,  1.95it/s]\n",
      " 20%|█▉        | 198/1000 [32:43<2:07:58,  9.57s/it]"
     ]
    },
    {
     "name": "stdout",
     "output_type": "stream",
     "text": [
      "A full shot view of a sad man holding a black cardboard box with yellow tape from the Amazon webshop in his hands, standing in front of a appartment building background, the weather is sunny, high photorealistic quality.\n"
     ]
    },
    {
     "name": "stderr",
     "output_type": "stream",
     "text": [
      "100%|██████████| 15/15 [00:07<00:00,  1.96it/s]\n",
      " 20%|█▉        | 199/1000 [32:52<2:06:51,  9.50s/it]"
     ]
    },
    {
     "name": "stdout",
     "output_type": "stream",
     "text": [
      "A close-up view of a young lady holding a black cardboard box with a qr code from the Zalando webshop in her hands, standing in front of a city center background, the weather is sunny, high photorealistic quality.\n"
     ]
    },
    {
     "name": "stderr",
     "output_type": "stream",
     "text": [
      "100%|██████████| 15/15 [00:07<00:00,  1.96it/s]\n",
      " 20%|██        | 200/1000 [33:01<2:05:50,  9.44s/it]"
     ]
    },
    {
     "name": "stdout",
     "output_type": "stream",
     "text": [
      "A high angle view of a young person holding a brown cardboard box with red tape from the Adidas webshop in her hands, standing in front of a garbage curb background, the weather is cloudy, high photorealistic quality.\n"
     ]
    },
    {
     "name": "stderr",
     "output_type": "stream",
     "text": [
      "100%|██████████| 15/15 [00:07<00:00,  1.96it/s]\n",
      " 20%|██        | 201/1000 [33:11<2:05:27,  9.42s/it]"
     ]
    },
    {
     "name": "stdout",
     "output_type": "stream",
     "text": [
      "A low angle view of an angry boy holding a brown cardboard box with red tape from the Zara webshop in his hands, standing in front of a appartment building background, the weather is sunny, high photorealistic quality.\n"
     ]
    },
    {
     "name": "stderr",
     "output_type": "stream",
     "text": [
      "100%|██████████| 15/15 [00:07<00:00,  1.93it/s]\n",
      " 20%|██        | 202/1000 [33:20<2:05:35,  9.44s/it]"
     ]
    },
    {
     "name": "stdout",
     "output_type": "stream",
     "text": [
      "A high angle view of a frowning woman holding a colorful cardboard box with yellow tape from the Adidas webshop in her hands, standing in front of a in the street background, the weather is snowy, high photorealistic quality.\n"
     ]
    },
    {
     "name": "stderr",
     "output_type": "stream",
     "text": [
      "100%|██████████| 15/15 [00:07<00:00,  1.91it/s]\n",
      " 20%|██        | 203/1000 [33:30<2:05:46,  9.47s/it]"
     ]
    },
    {
     "name": "stdout",
     "output_type": "stream",
     "text": [
      "A low angle view of a sad woman holding a brown cardboard box with yellow tape from the Coolblue webshop in her hands, standing in front of a garbage curb background, the weather is rainy, high photorealistic quality.\n"
     ]
    },
    {
     "name": "stderr",
     "output_type": "stream",
     "text": [
      "100%|██████████| 15/15 [00:07<00:00,  1.94it/s]\n",
      " 20%|██        | 204/1000 [33:39<2:05:49,  9.48s/it]"
     ]
    },
    {
     "name": "stdout",
     "output_type": "stream",
     "text": [
      "A medium shot view of a smiling boy holding a black cardboard box with a number from the Nike webshop in his hands, standing in front of a quite neighborhood street and garden background, the weather is cloudy, high photorealistic quality.\n"
     ]
    },
    {
     "name": "stderr",
     "output_type": "stream",
     "text": [
      "100%|██████████| 15/15 [00:08<00:00,  1.76it/s]\n",
      " 20%|██        | 205/1000 [33:49<2:08:55,  9.73s/it]"
     ]
    },
    {
     "name": "stdout",
     "output_type": "stream",
     "text": [
      "A close-up view of a sad person holding a black cardboard box with black tape from the Amazon webshop in her hands, standing in front of a garbage curb background, the weather is snowy, high photorealistic quality.\n"
     ]
    },
    {
     "name": "stderr",
     "output_type": "stream",
     "text": [
      "100%|██████████| 15/15 [00:08<00:00,  1.85it/s]\n",
      " 21%|██        | 206/1000 [33:59<2:09:33,  9.79s/it]"
     ]
    },
    {
     "name": "stdout",
     "output_type": "stream",
     "text": [
      "A low angle view of an angry lady holding a black cardboard box with blue tape from the Nike webshop in her hands, standing in front of a busy city street and cars background, the weather is sunny, high photorealistic quality.\n"
     ]
    },
    {
     "name": "stderr",
     "output_type": "stream",
     "text": [
      "100%|██████████| 15/15 [00:07<00:00,  1.94it/s]\n",
      " 21%|██        | 207/1000 [34:09<2:07:43,  9.66s/it]"
     ]
    },
    {
     "name": "stdout",
     "output_type": "stream",
     "text": [
      "A long shot view of a frowning person holding a brown cardboard box with black tape from the Adidas webshop in her hands, standing in front of a busy city street and cars background, the weather is sunny, high photorealistic quality.\n"
     ]
    },
    {
     "name": "stderr",
     "output_type": "stream",
     "text": [
      "100%|██████████| 15/15 [00:07<00:00,  1.96it/s]\n",
      " 21%|██        | 208/1000 [34:18<2:06:34,  9.59s/it]"
     ]
    },
    {
     "name": "stdout",
     "output_type": "stream",
     "text": [
      "A medium shot view of an old person holding a black cardboard box with yellow tape from a webshop in her hands, standing in front of a garbage curb background, the weather is rainy, high photorealistic quality.\n"
     ]
    },
    {
     "name": "stderr",
     "output_type": "stream",
     "text": [
      "100%|██████████| 15/15 [00:07<00:00,  1.95it/s]\n",
      " 21%|██        | 209/1000 [34:28<2:05:37,  9.53s/it]"
     ]
    },
    {
     "name": "stdout",
     "output_type": "stream",
     "text": [
      "A medium shot view of a frowning man holding a white cardboard box with blue tape from a webshop in his hands, standing in front of a garbage curb background, the weather is snowy, high photorealistic quality.\n"
     ]
    },
    {
     "name": "stderr",
     "output_type": "stream",
     "text": [
      "100%|██████████| 15/15 [00:07<00:00,  1.94it/s]\n",
      " 21%|██        | 210/1000 [34:37<2:05:16,  9.51s/it]"
     ]
    },
    {
     "name": "stdout",
     "output_type": "stream",
     "text": [
      "A full shot view of a young man holding a brown cardboard box with yellow tape from the Bol.com webshop in his hands, standing in front of a quite neighborhood street and trees background, the weather is rainy, high photorealistic quality.\n"
     ]
    },
    {
     "name": "stderr",
     "output_type": "stream",
     "text": [
      "100%|██████████| 15/15 [00:07<00:00,  1.92it/s]\n",
      " 21%|██        | 211/1000 [34:47<2:05:12,  9.52s/it]"
     ]
    },
    {
     "name": "stdout",
     "output_type": "stream",
     "text": [
      "A full shot view of an angry lady holding a brown cardboard box with black tape from the Coolblue webshop in her hands, standing in front of a quite neighborhood street and cars background, the weather is cloudy, high photorealistic quality.\n"
     ]
    },
    {
     "name": "stderr",
     "output_type": "stream",
     "text": [
      "100%|██████████| 15/15 [00:08<00:00,  1.86it/s]\n",
      " 21%|██        | 212/1000 [34:56<2:05:33,  9.56s/it]"
     ]
    },
    {
     "name": "stdout",
     "output_type": "stream",
     "text": [
      "A low angle view of a smiling boy holding a white cardboard box with black tape from the Coolblue webshop in his hands, standing in front of a quite neighborhood street and cars background, the weather is sunny, high photorealistic quality.\n"
     ]
    },
    {
     "name": "stderr",
     "output_type": "stream",
     "text": [
      "100%|██████████| 15/15 [00:07<00:00,  1.89it/s]\n",
      " 21%|██▏       | 213/1000 [35:06<2:06:24,  9.64s/it]"
     ]
    },
    {
     "name": "stdout",
     "output_type": "stream",
     "text": [
      "A close-up view of a young woman holding a brown cardboard box with a qr code from the Bol.com webshop in her hands, standing in front of a in the street background, the weather is sunny, high photorealistic quality.\n"
     ]
    },
    {
     "name": "stderr",
     "output_type": "stream",
     "text": [
      "100%|██████████| 15/15 [00:08<00:00,  1.73it/s]\n",
      " 21%|██▏       | 214/1000 [35:17<2:10:50,  9.99s/it]"
     ]
    },
    {
     "name": "stdout",
     "output_type": "stream",
     "text": [
      "A low angle view of an angry person holding a white cardboard box with yellow tape from the Zara webshop in her hands, standing in front of a quite neighborhood street and garden background, the weather is rainy, high photorealistic quality.\n"
     ]
    },
    {
     "name": "stderr",
     "output_type": "stream",
     "text": [
      "100%|██████████| 15/15 [00:08<00:00,  1.80it/s]\n",
      " 22%|██▏       | 215/1000 [35:27<2:11:13, 10.03s/it]"
     ]
    },
    {
     "name": "stdout",
     "output_type": "stream",
     "text": [
      "A long shot view of a happy woman holding a brown cardboard box with red tape from the Zara webshop in her hands, standing in front of a quite neighborhood street and trees background, the weather is snowy, high photorealistic quality.\n"
     ]
    },
    {
     "name": "stderr",
     "output_type": "stream",
     "text": [
      "100%|██████████| 15/15 [00:08<00:00,  1.73it/s]\n",
      " 22%|██▏       | 216/1000 [35:37<2:12:47, 10.16s/it]"
     ]
    },
    {
     "name": "stdout",
     "output_type": "stream",
     "text": [
      "A low angle view of an old man holding a brown cardboard box with a qr code from the Zara webshop in his hands, standing in front of a quite neighborhood street and trees background, the weather is rainy, high photorealistic quality.\n"
     ]
    },
    {
     "name": "stderr",
     "output_type": "stream",
     "text": [
      "100%|██████████| 15/15 [00:08<00:00,  1.83it/s]\n",
      " 22%|██▏       | 217/1000 [35:47<2:11:59, 10.11s/it]"
     ]
    },
    {
     "name": "stdout",
     "output_type": "stream",
     "text": [
      "A long shot view of a smiling person holding a colorful cardboard box with yellow tape from a webshop in her hands, standing in front of a quite neighborhood street and garden background, the weather is snowy, high photorealistic quality.\n"
     ]
    },
    {
     "name": "stderr",
     "output_type": "stream",
     "text": [
      "100%|██████████| 15/15 [00:09<00:00,  1.66it/s]\n",
      " 22%|██▏       | 218/1000 [35:58<2:14:30, 10.32s/it]"
     ]
    },
    {
     "name": "stdout",
     "output_type": "stream",
     "text": [
      "A long shot view of an old man holding a white cardboard box with blue tape from the Zalando webshop in his hands, standing in front of a appartment building background, the weather is snowy, high photorealistic quality.\n"
     ]
    },
    {
     "name": "stderr",
     "output_type": "stream",
     "text": [
      "100%|██████████| 15/15 [00:08<00:00,  1.74it/s]\n",
      " 22%|██▏       | 219/1000 [36:09<2:15:34, 10.41s/it]"
     ]
    },
    {
     "name": "stdout",
     "output_type": "stream",
     "text": [
      "A low angle view of a frowning lady holding a white cardboard box with a barcode from the Zalando webshop in her hands, standing in front of a garbage curb background, the weather is cloudy, high photorealistic quality.\n"
     ]
    },
    {
     "name": "stderr",
     "output_type": "stream",
     "text": [
      "100%|██████████| 15/15 [00:08<00:00,  1.79it/s]\n",
      " 22%|██▏       | 220/1000 [36:19<2:14:23, 10.34s/it]"
     ]
    },
    {
     "name": "stdout",
     "output_type": "stream",
     "text": [
      "A close-up view of an angry person holding a colorful cardboard box with a qr code from the Zara webshop in her hands, standing in front of a appartment building background, the weather is sunny, high photorealistic quality.\n"
     ]
    },
    {
     "name": "stderr",
     "output_type": "stream",
     "text": [
      "100%|██████████| 15/15 [00:07<00:00,  1.90it/s]\n",
      " 22%|██▏       | 221/1000 [36:29<2:11:34, 10.13s/it]"
     ]
    },
    {
     "name": "stdout",
     "output_type": "stream",
     "text": [
      "A full shot view of an angry man holding a white cardboard box with blue tape from the Coolblue webshop in his hands, standing in front of a quite neighborhood street and cars background, the weather is sunny, high photorealistic quality.\n"
     ]
    },
    {
     "name": "stderr",
     "output_type": "stream",
     "text": [
      "100%|██████████| 15/15 [00:08<00:00,  1.73it/s]\n",
      " 22%|██▏       | 222/1000 [36:39<2:13:05, 10.26s/it]"
     ]
    },
    {
     "name": "stdout",
     "output_type": "stream",
     "text": [
      "A full shot view of an angry lady holding a black cardboard box with yellow tape from the Coolblue webshop in her hands, standing in front of a quite neighborhood street and cars background, the weather is sunny, high photorealistic quality.\n"
     ]
    },
    {
     "name": "stderr",
     "output_type": "stream",
     "text": [
      "100%|██████████| 15/15 [00:08<00:00,  1.75it/s]\n",
      " 22%|██▏       | 223/1000 [36:50<2:13:32, 10.31s/it]"
     ]
    },
    {
     "name": "stdout",
     "output_type": "stream",
     "text": [
      "A high angle view of an angry person holding a black cardboard box with blue tape from the H&M webshop in her hands, standing in front of a quite neighborhood street and trees background, the weather is snowy, high photorealistic quality.\n"
     ]
    },
    {
     "name": "stderr",
     "output_type": "stream",
     "text": [
      "100%|██████████| 15/15 [00:08<00:00,  1.79it/s]\n",
      " 22%|██▏       | 224/1000 [37:00<2:12:45, 10.26s/it]"
     ]
    },
    {
     "name": "stdout",
     "output_type": "stream",
     "text": [
      "A close-up view of a frowning person holding a black cardboard box with a barcode from the Zalando webshop in her hands, standing in front of a busy city street and cars background, the weather is cloudy, high photorealistic quality.\n"
     ]
    },
    {
     "name": "stderr",
     "output_type": "stream",
     "text": [
      "100%|██████████| 15/15 [00:08<00:00,  1.76it/s]\n",
      " 22%|██▎       | 225/1000 [37:10<2:12:07, 10.23s/it]"
     ]
    },
    {
     "name": "stdout",
     "output_type": "stream",
     "text": [
      "A low angle view of a smiling lady holding a white cardboard box with blue tape from the Coolblue webshop in her hands, standing in front of a appartment building background, the weather is rainy, high photorealistic quality.\n"
     ]
    },
    {
     "name": "stderr",
     "output_type": "stream",
     "text": [
      "100%|██████████| 15/15 [00:08<00:00,  1.81it/s]\n",
      " 23%|██▎       | 226/1000 [37:20<2:11:49, 10.22s/it]"
     ]
    },
    {
     "name": "stdout",
     "output_type": "stream",
     "text": [
      "A full shot view of a sad boy holding a brown cardboard box with green tape from the Adidas webshop in his hands, standing in front of a quite neighborhood street and cars background, the weather is snowy, high photorealistic quality.\n"
     ]
    },
    {
     "name": "stderr",
     "output_type": "stream",
     "text": [
      "100%|██████████| 15/15 [00:08<00:00,  1.80it/s]\n",
      " 23%|██▎       | 227/1000 [37:31<2:12:35, 10.29s/it]"
     ]
    },
    {
     "name": "stdout",
     "output_type": "stream",
     "text": [
      "A full shot view of a happy boy holding a brown cardboard box with a number from the Adidas webshop in his hands, standing in front of a busy city street and people background, the weather is rainy, high photorealistic quality.\n"
     ]
    },
    {
     "name": "stderr",
     "output_type": "stream",
     "text": [
      "100%|██████████| 15/15 [00:11<00:00,  1.30it/s]\n",
      " 23%|██▎       | 228/1000 [37:44<2:25:22, 11.30s/it]"
     ]
    },
    {
     "name": "stdout",
     "output_type": "stream",
     "text": [
      "A full shot view of a sad person holding a white cardboard box with green tape from the Coolblue webshop in her hands, standing in front of a quite neighborhood street and garden background, the weather is sunny, high photorealistic quality.\n"
     ]
    },
    {
     "name": "stderr",
     "output_type": "stream",
     "text": [
      "100%|██████████| 15/15 [00:11<00:00,  1.30it/s]\n",
      " 23%|██▎       | 229/1000 [37:58<2:34:33, 12.03s/it]"
     ]
    },
    {
     "name": "stdout",
     "output_type": "stream",
     "text": [
      "A high angle view of a young woman holding a black cardboard box with yellow tape from the Adidas webshop in her hands, standing in front of a garbage curb background, the weather is cloudy, high photorealistic quality.\n"
     ]
    },
    {
     "name": "stderr",
     "output_type": "stream",
     "text": [
      "100%|██████████| 15/15 [00:11<00:00,  1.36it/s]\n",
      " 23%|██▎       | 230/1000 [38:11<2:38:34, 12.36s/it]"
     ]
    },
    {
     "name": "stdout",
     "output_type": "stream",
     "text": [
      "A low angle view of a smiling woman holding a white cardboard box with black tape from the Adidas webshop in her hands, standing in front of a city center background, the weather is cloudy, high photorealistic quality.\n"
     ]
    },
    {
     "name": "stderr",
     "output_type": "stream",
     "text": [
      "100%|██████████| 15/15 [00:10<00:00,  1.44it/s]\n",
      " 23%|██▎       | 231/1000 [38:24<2:38:37, 12.38s/it]"
     ]
    },
    {
     "name": "stdout",
     "output_type": "stream",
     "text": [
      "A low angle view of a frowning woman holding a colorful cardboard box with a barcode from the Zalando webshop in her hands, standing in front of a appartment building background, the weather is snowy, high photorealistic quality.\n"
     ]
    },
    {
     "name": "stderr",
     "output_type": "stream",
     "text": [
      "100%|██████████| 15/15 [00:10<00:00,  1.41it/s]\n",
      " 23%|██▎       | 232/1000 [38:36<2:39:38, 12.47s/it]"
     ]
    },
    {
     "name": "stdout",
     "output_type": "stream",
     "text": [
      "A low angle view of an angry man holding a white cardboard box with yellow tape from the Coolblue webshop in his hands, standing in front of a quite neighborhood street and cars background, the weather is cloudy, high photorealistic quality.\n"
     ]
    },
    {
     "name": "stderr",
     "output_type": "stream",
     "text": [
      "100%|██████████| 15/15 [00:10<00:00,  1.41it/s]\n",
      " 23%|██▎       | 233/1000 [38:49<2:40:04, 12.52s/it]"
     ]
    },
    {
     "name": "stdout",
     "output_type": "stream",
     "text": [
      "A medium shot view of an old person holding a black cardboard box with a barcode from the Bol.com webshop in her hands, standing in front of a busy city street and people background, the weather is sunny, high photorealistic quality.\n"
     ]
    },
    {
     "name": "stderr",
     "output_type": "stream",
     "text": [
      "100%|██████████| 15/15 [00:10<00:00,  1.40it/s]\n",
      " 23%|██▎       | 234/1000 [39:02<2:40:27, 12.57s/it]"
     ]
    },
    {
     "name": "stdout",
     "output_type": "stream",
     "text": [
      "A close-up view of a smiling woman holding a white cardboard box with a qr code from the Adidas webshop in her hands, standing in front of a city center background, the weather is snowy, high photorealistic quality.\n"
     ]
    },
    {
     "name": "stderr",
     "output_type": "stream",
     "text": [
      "100%|██████████| 15/15 [00:10<00:00,  1.36it/s]\n",
      " 24%|██▎       | 235/1000 [39:15<2:41:46, 12.69s/it]"
     ]
    },
    {
     "name": "stdout",
     "output_type": "stream",
     "text": [
      "A long shot view of a smiling lady holding a colorful cardboard box with a barcode from the Adidas webshop in her hands, standing in front of a appartment building background, the weather is cloudy, high photorealistic quality.\n"
     ]
    },
    {
     "name": "stderr",
     "output_type": "stream",
     "text": [
      "100%|██████████| 15/15 [00:10<00:00,  1.40it/s]\n",
      " 24%|██▎       | 236/1000 [39:27<2:41:28, 12.68s/it]"
     ]
    },
    {
     "name": "stdout",
     "output_type": "stream",
     "text": [
      "A long shot view of an old person holding a black cardboard box with a qr code from the Nike webshop in her hands, standing in front of a quite neighborhood street and trees background, the weather is snowy, high photorealistic quality.\n"
     ]
    },
    {
     "name": "stderr",
     "output_type": "stream",
     "text": [
      "100%|██████████| 15/15 [00:10<00:00,  1.40it/s]\n",
      " 24%|██▎       | 237/1000 [39:40<2:41:28, 12.70s/it]"
     ]
    },
    {
     "name": "stdout",
     "output_type": "stream",
     "text": [
      "A high angle view of a happy lady holding a colorful cardboard box with a qr code from the H&M webshop in her hands, standing in front of a city center background, the weather is sunny, high photorealistic quality.\n"
     ]
    },
    {
     "name": "stderr",
     "output_type": "stream",
     "text": [
      "100%|██████████| 15/15 [00:10<00:00,  1.40it/s]\n",
      " 24%|██▍       | 238/1000 [39:53<2:41:01, 12.68s/it]"
     ]
    },
    {
     "name": "stdout",
     "output_type": "stream",
     "text": [
      "A long shot view of a sad boy holding a white cardboard box with a number from the Nike webshop in his hands, standing in front of a appartment building background, the weather is sunny, high photorealistic quality.\n"
     ]
    },
    {
     "name": "stderr",
     "output_type": "stream",
     "text": [
      "100%|██████████| 15/15 [00:10<00:00,  1.41it/s]\n",
      " 24%|██▍       | 239/1000 [40:05<2:40:47, 12.68s/it]"
     ]
    },
    {
     "name": "stdout",
     "output_type": "stream",
     "text": [
      "A long shot view of a young lady holding a brown cardboard box with blue tape from the Coolblue webshop in her hands, standing in front of a appartment building background, the weather is snowy, high photorealistic quality.\n"
     ]
    },
    {
     "name": "stderr",
     "output_type": "stream",
     "text": [
      "100%|██████████| 15/15 [00:10<00:00,  1.41it/s]\n",
      " 24%|██▍       | 240/1000 [40:18<2:40:29, 12.67s/it]"
     ]
    },
    {
     "name": "stdout",
     "output_type": "stream",
     "text": [
      "A medium shot view of a happy woman holding a brown cardboard box with a barcode from the Coolblue webshop in her hands, standing in front of a busy city street and people background, the weather is cloudy, high photorealistic quality.\n"
     ]
    },
    {
     "name": "stderr",
     "output_type": "stream",
     "text": [
      "100%|██████████| 15/15 [00:10<00:00,  1.38it/s]\n",
      " 24%|██▍       | 241/1000 [40:31<2:41:25, 12.76s/it]"
     ]
    },
    {
     "name": "stdout",
     "output_type": "stream",
     "text": [
      "A low angle view of a young man holding a brown cardboard box with a number from the Nike webshop in his hands, standing in front of a busy city street and cars background, the weather is rainy, high photorealistic quality.\n"
     ]
    },
    {
     "name": "stderr",
     "output_type": "stream",
     "text": [
      "100%|██████████| 15/15 [00:10<00:00,  1.38it/s]\n",
      " 24%|██▍       | 242/1000 [40:44<2:41:37, 12.79s/it]"
     ]
    },
    {
     "name": "stdout",
     "output_type": "stream",
     "text": [
      "A close-up view of a young boy holding a colorful cardboard box with red tape from the H&M webshop in his hands, standing in front of a quite neighborhood street and cars background, the weather is sunny, high photorealistic quality.\n"
     ]
    },
    {
     "name": "stderr",
     "output_type": "stream",
     "text": [
      "100%|██████████| 15/15 [00:11<00:00,  1.31it/s]\n",
      " 24%|██▍       | 243/1000 [40:57<2:43:52, 12.99s/it]"
     ]
    },
    {
     "name": "stdout",
     "output_type": "stream",
     "text": [
      "A high angle view of an old lady holding a colorful cardboard box with a qr code from the Adidas webshop in her hands, standing in front of a quite neighborhood street and trees background, the weather is rainy, high photorealistic quality.\n"
     ]
    },
    {
     "name": "stderr",
     "output_type": "stream",
     "text": [
      "100%|██████████| 15/15 [00:10<00:00,  1.40it/s]\n",
      " 24%|██▍       | 244/1000 [41:10<2:42:31, 12.90s/it]"
     ]
    },
    {
     "name": "stdout",
     "output_type": "stream",
     "text": [
      "A medium shot view of a frowning person holding a black cardboard box with red tape from the Amazon webshop in her hands, standing in front of a busy city street and cars background, the weather is rainy, high photorealistic quality.\n"
     ]
    },
    {
     "name": "stderr",
     "output_type": "stream",
     "text": [
      "100%|██████████| 15/15 [00:10<00:00,  1.39it/s]\n",
      " 24%|██▍       | 245/1000 [41:23<2:41:50, 12.86s/it]"
     ]
    },
    {
     "name": "stdout",
     "output_type": "stream",
     "text": [
      "A close-up view of a sad person holding a black cardboard box with a qr code from a webshop in her hands, standing in front of a busy city street and cars background, the weather is rainy, high photorealistic quality.\n"
     ]
    },
    {
     "name": "stderr",
     "output_type": "stream",
     "text": [
      "100%|██████████| 15/15 [00:10<00:00,  1.42it/s]\n",
      " 25%|██▍       | 246/1000 [41:35<2:41:25, 12.85s/it]"
     ]
    },
    {
     "name": "stdout",
     "output_type": "stream",
     "text": [
      "A full shot view of a happy boy holding a white cardboard box with yellow tape from the Coolblue webshop in his hands, standing in front of a quite neighborhood street and trees background, the weather is cloudy, high photorealistic quality.\n"
     ]
    },
    {
     "name": "stderr",
     "output_type": "stream",
     "text": [
      "100%|██████████| 15/15 [00:11<00:00,  1.33it/s]\n",
      " 25%|██▍       | 247/1000 [41:49<2:42:52, 12.98s/it]"
     ]
    },
    {
     "name": "stdout",
     "output_type": "stream",
     "text": [
      "A close-up view of a frowning boy holding a colorful cardboard box with green tape from the Nike webshop in his hands, standing in front of a city center background, the weather is sunny, high photorealistic quality.\n"
     ]
    },
    {
     "name": "stderr",
     "output_type": "stream",
     "text": [
      "100%|██████████| 15/15 [00:10<00:00,  1.41it/s]\n",
      " 25%|██▍       | 248/1000 [42:01<2:41:32, 12.89s/it]"
     ]
    },
    {
     "name": "stdout",
     "output_type": "stream",
     "text": [
      "A low angle view of an angry lady holding a white cardboard box with black tape from the Adidas webshop in her hands, standing in front of a quite neighborhood street and garden background, the weather is sunny, high photorealistic quality.\n"
     ]
    },
    {
     "name": "stderr",
     "output_type": "stream",
     "text": [
      "100%|██████████| 15/15 [00:09<00:00,  1.59it/s]\n",
      " 25%|██▍       | 249/1000 [42:13<2:37:43, 12.60s/it]"
     ]
    },
    {
     "name": "stdout",
     "output_type": "stream",
     "text": [
      "A long shot view of a happy woman holding a white cardboard box with a number from the Amazon webshop in her hands, standing in front of a quite neighborhood street and trees background, the weather is sunny, high photorealistic quality.\n"
     ]
    },
    {
     "name": "stderr",
     "output_type": "stream",
     "text": [
      "100%|██████████| 15/15 [00:10<00:00,  1.42it/s]\n",
      " 25%|██▌       | 250/1000 [42:26<2:38:12, 12.66s/it]"
     ]
    },
    {
     "name": "stdout",
     "output_type": "stream",
     "text": [
      "A long shot view of an angry lady holding a colorful cardboard box with a number from the Zalando webshop in her hands, standing in front of a appartment building background, the weather is cloudy, high photorealistic quality.\n"
     ]
    },
    {
     "name": "stderr",
     "output_type": "stream",
     "text": [
      "100%|██████████| 15/15 [00:09<00:00,  1.54it/s]\n",
      " 25%|██▌       | 251/1000 [42:38<2:34:31, 12.38s/it]"
     ]
    },
    {
     "name": "stdout",
     "output_type": "stream",
     "text": [
      "A high angle view of a smiling lady holding a white cardboard box with a number from the Nike webshop in her hands, standing in front of a city center background, the weather is snowy, high photorealistic quality.\n"
     ]
    },
    {
     "name": "stderr",
     "output_type": "stream",
     "text": [
      "100%|██████████| 15/15 [00:08<00:00,  1.72it/s]\n",
      " 25%|██▌       | 252/1000 [42:49<2:28:13, 11.89s/it]"
     ]
    },
    {
     "name": "stdout",
     "output_type": "stream",
     "text": [
      "A medium shot view of a frowning boy holding a colorful cardboard box with a qr code from the Adidas webshop in his hands, standing in front of a appartment building background, the weather is cloudy, high photorealistic quality.\n"
     ]
    },
    {
     "name": "stderr",
     "output_type": "stream",
     "text": [
      "100%|██████████| 15/15 [00:08<00:00,  1.84it/s]\n",
      " 25%|██▌       | 253/1000 [42:59<2:21:21, 11.35s/it]"
     ]
    },
    {
     "name": "stdout",
     "output_type": "stream",
     "text": [
      "A low angle view of a frowning boy holding a colorful cardboard box with a barcode from the Amazon webshop in his hands, standing in front of a quite neighborhood street and trees background, the weather is snowy, high photorealistic quality.\n"
     ]
    },
    {
     "name": "stderr",
     "output_type": "stream",
     "text": [
      "100%|██████████| 15/15 [00:08<00:00,  1.86it/s]\n",
      " 25%|██▌       | 254/1000 [43:08<2:15:13, 10.88s/it]"
     ]
    },
    {
     "name": "stdout",
     "output_type": "stream",
     "text": [
      "A close-up view of a smiling woman holding a colorful cardboard box with a qr code from the Bol.com webshop in her hands, standing in front of a busy city street and cars background, the weather is cloudy, high photorealistic quality.\n"
     ]
    },
    {
     "name": "stderr",
     "output_type": "stream",
     "text": [
      "100%|██████████| 15/15 [00:08<00:00,  1.87it/s]\n",
      " 26%|██▌       | 255/1000 [43:18<2:10:59, 10.55s/it]"
     ]
    },
    {
     "name": "stdout",
     "output_type": "stream",
     "text": [
      "A high angle view of a smiling person holding a colorful cardboard box with black tape from the Amazon webshop in her hands, standing in front of a quite neighborhood street and cars background, the weather is sunny, high photorealistic quality.\n"
     ]
    },
    {
     "name": "stderr",
     "output_type": "stream",
     "text": [
      "100%|██████████| 15/15 [00:08<00:00,  1.86it/s]\n",
      " 26%|██▌       | 256/1000 [43:28<2:08:00, 10.32s/it]"
     ]
    },
    {
     "name": "stdout",
     "output_type": "stream",
     "text": [
      "A close-up view of a young man holding a black cardboard box with green tape from the Coolblue webshop in his hands, standing in front of a busy city street and people background, the weather is cloudy, high photorealistic quality.\n"
     ]
    },
    {
     "name": "stderr",
     "output_type": "stream",
     "text": [
      "100%|██████████| 15/15 [00:08<00:00,  1.86it/s]\n",
      " 26%|██▌       | 257/1000 [43:38<2:05:48, 10.16s/it]"
     ]
    },
    {
     "name": "stdout",
     "output_type": "stream",
     "text": [
      "A high angle view of a frowning woman holding a white cardboard box with blue tape from the Zalando webshop in her hands, standing in front of a quite neighborhood street and cars background, the weather is cloudy, high photorealistic quality.\n"
     ]
    },
    {
     "name": "stderr",
     "output_type": "stream",
     "text": [
      "100%|██████████| 15/15 [00:08<00:00,  1.86it/s]\n",
      " 26%|██▌       | 258/1000 [43:48<2:04:20, 10.05s/it]"
     ]
    },
    {
     "name": "stdout",
     "output_type": "stream",
     "text": [
      "A medium shot view of an old woman holding a white cardboard box with yellow tape from the Amazon webshop in her hands, standing in front of a quite neighborhood street and cars background, the weather is sunny, high photorealistic quality.\n"
     ]
    },
    {
     "name": "stderr",
     "output_type": "stream",
     "text": [
      "100%|██████████| 15/15 [00:08<00:00,  1.86it/s]\n",
      " 26%|██▌       | 259/1000 [43:57<2:03:09,  9.97s/it]"
     ]
    },
    {
     "name": "stdout",
     "output_type": "stream",
     "text": [
      "A full shot view of a happy woman holding a brown cardboard box with green tape from the Bol.com webshop in her hands, standing in front of a appartment building background, the weather is sunny, high photorealistic quality.\n"
     ]
    },
    {
     "name": "stderr",
     "output_type": "stream",
     "text": [
      "100%|██████████| 15/15 [00:08<00:00,  1.86it/s]\n",
      " 26%|██▌       | 260/1000 [44:07<2:02:16,  9.91s/it]"
     ]
    },
    {
     "name": "stdout",
     "output_type": "stream",
     "text": [
      "A low angle view of a young woman holding a colorful cardboard box with black tape from the Coolblue webshop in her hands, standing in front of a appartment building background, the weather is sunny, high photorealistic quality.\n"
     ]
    },
    {
     "name": "stderr",
     "output_type": "stream",
     "text": [
      "100%|██████████| 15/15 [00:08<00:00,  1.86it/s]\n",
      " 26%|██▌       | 261/1000 [44:17<2:01:36,  9.87s/it]"
     ]
    },
    {
     "name": "stdout",
     "output_type": "stream",
     "text": [
      "A long shot view of a smiling boy holding a black cardboard box with red tape from the Zalando webshop in his hands, standing in front of a busy city street and cars background, the weather is rainy, high photorealistic quality.\n"
     ]
    },
    {
     "name": "stderr",
     "output_type": "stream",
     "text": [
      "100%|██████████| 15/15 [00:08<00:00,  1.70it/s]\n",
      " 26%|██▌       | 262/1000 [44:28<2:04:28, 10.12s/it]"
     ]
    },
    {
     "name": "stdout",
     "output_type": "stream",
     "text": [
      "A high angle view of an old person holding a black cardboard box with green tape from the Zalando webshop in her hands, standing in front of a garbage curb background, the weather is rainy, high photorealistic quality.\n"
     ]
    },
    {
     "name": "stderr",
     "output_type": "stream",
     "text": [
      "100%|██████████| 15/15 [00:08<00:00,  1.84it/s]\n",
      " 26%|██▋       | 263/1000 [44:38<2:03:45, 10.07s/it]"
     ]
    },
    {
     "name": "stdout",
     "output_type": "stream",
     "text": [
      "A high angle view of a sad boy holding a white cardboard box with yellow tape from a webshop in his hands, standing in front of a busy city street and people background, the weather is cloudy, high photorealistic quality.\n"
     ]
    },
    {
     "name": "stderr",
     "output_type": "stream",
     "text": [
      "100%|██████████| 15/15 [00:08<00:00,  1.86it/s]\n",
      " 26%|██▋       | 264/1000 [44:47<2:02:33,  9.99s/it]"
     ]
    },
    {
     "name": "stdout",
     "output_type": "stream",
     "text": [
      "A close-up view of a smiling woman holding a black cardboard box with a number from the Zalando webshop in her hands, standing in front of a garbage curb background, the weather is rainy, high photorealistic quality.\n"
     ]
    },
    {
     "name": "stderr",
     "output_type": "stream",
     "text": [
      "100%|██████████| 15/15 [00:08<00:00,  1.85it/s]\n",
      " 26%|██▋       | 265/1000 [44:57<2:01:42,  9.94s/it]"
     ]
    },
    {
     "name": "stdout",
     "output_type": "stream",
     "text": [
      "A high angle view of a frowning boy holding a black cardboard box with a qr code from the Coolblue webshop in his hands, standing in front of a busy city street and cars background, the weather is rainy, high photorealistic quality.\n"
     ]
    },
    {
     "name": "stderr",
     "output_type": "stream",
     "text": [
      "100%|██████████| 15/15 [00:08<00:00,  1.71it/s]\n",
      " 27%|██▋       | 266/1000 [45:08<2:03:36, 10.10s/it]"
     ]
    },
    {
     "name": "stdout",
     "output_type": "stream",
     "text": [
      "A high angle view of a sad lady holding a brown cardboard box with a qr code from a webshop in her hands, standing in front of a in the street background, the weather is cloudy, high photorealistic quality.\n"
     ]
    },
    {
     "name": "stderr",
     "output_type": "stream",
     "text": [
      "100%|██████████| 15/15 [00:08<00:00,  1.86it/s]\n",
      " 27%|██▋       | 267/1000 [45:18<2:02:36, 10.04s/it]"
     ]
    },
    {
     "name": "stdout",
     "output_type": "stream",
     "text": [
      "A high angle view of an angry person holding a black cardboard box with a qr code from the Nike webshop in her hands, standing in front of a busy city street and people background, the weather is snowy, high photorealistic quality.\n"
     ]
    },
    {
     "name": "stderr",
     "output_type": "stream",
     "text": [
      "100%|██████████| 15/15 [00:08<00:00,  1.87it/s]\n",
      " 27%|██▋       | 268/1000 [45:27<2:01:19,  9.94s/it]"
     ]
    },
    {
     "name": "stdout",
     "output_type": "stream",
     "text": [
      "A close-up view of an old woman holding a colorful cardboard box with red tape from the H&M webshop in her hands, standing in front of a garbage curb background, the weather is rainy, high photorealistic quality.\n"
     ]
    },
    {
     "name": "stderr",
     "output_type": "stream",
     "text": [
      "100%|██████████| 15/15 [00:08<00:00,  1.85it/s]\n",
      " 27%|██▋       | 269/1000 [45:37<2:00:41,  9.91s/it]"
     ]
    },
    {
     "name": "stdout",
     "output_type": "stream",
     "text": [
      "A low angle view of a sad person holding a brown cardboard box with yellow tape from the Bol.com webshop in her hands, standing in front of a busy city street and people background, the weather is cloudy, high photorealistic quality.\n"
     ]
    },
    {
     "name": "stderr",
     "output_type": "stream",
     "text": [
      "100%|██████████| 15/15 [00:08<00:00,  1.86it/s]\n",
      " 27%|██▋       | 270/1000 [45:47<2:00:02,  9.87s/it]"
     ]
    },
    {
     "name": "stdout",
     "output_type": "stream",
     "text": [
      "A full shot view of an angry person holding a black cardboard box with red tape from the Zara webshop in her hands, standing in front of a in the street background, the weather is cloudy, high photorealistic quality.\n"
     ]
    },
    {
     "name": "stderr",
     "output_type": "stream",
     "text": [
      "100%|██████████| 15/15 [00:08<00:00,  1.67it/s]\n",
      " 27%|██▋       | 271/1000 [45:58<2:03:23, 10.16s/it]"
     ]
    },
    {
     "name": "stdout",
     "output_type": "stream",
     "text": [
      "A full shot view of a smiling man holding a brown cardboard box with a barcode from the H&M webshop in his hands, standing in front of a appartment building background, the weather is sunny, high photorealistic quality.\n"
     ]
    },
    {
     "name": "stderr",
     "output_type": "stream",
     "text": [
      "100%|██████████| 15/15 [00:08<00:00,  1.84it/s]\n",
      " 27%|██▋       | 272/1000 [46:08<2:02:30, 10.10s/it]"
     ]
    },
    {
     "name": "stdout",
     "output_type": "stream",
     "text": [
      "A full shot view of a sad lady holding a brown cardboard box with red tape from the Bol.com webshop in her hands, standing in front of a in the street background, the weather is sunny, high photorealistic quality.\n"
     ]
    },
    {
     "name": "stderr",
     "output_type": "stream",
     "text": [
      "100%|██████████| 15/15 [00:08<00:00,  1.79it/s]\n",
      " 27%|██▋       | 273/1000 [46:18<2:02:58, 10.15s/it]"
     ]
    },
    {
     "name": "stdout",
     "output_type": "stream",
     "text": [
      "A low angle view of a happy lady holding a black cardboard box with a number from the Zalando webshop in her hands, standing in front of a in the street background, the weather is snowy, high photorealistic quality.\n"
     ]
    },
    {
     "name": "stderr",
     "output_type": "stream",
     "text": [
      "100%|██████████| 15/15 [00:08<00:00,  1.86it/s]\n",
      " 27%|██▋       | 274/1000 [46:28<2:01:34, 10.05s/it]"
     ]
    },
    {
     "name": "stdout",
     "output_type": "stream",
     "text": [
      "A long shot view of an old man holding a colorful cardboard box with a number from the H&M webshop in his hands, standing in front of a quite neighborhood street and cars background, the weather is rainy, high photorealistic quality.\n"
     ]
    },
    {
     "name": "stderr",
     "output_type": "stream",
     "text": [
      "100%|██████████| 15/15 [00:08<00:00,  1.85it/s]\n",
      " 28%|██▊       | 275/1000 [46:38<2:00:38,  9.98s/it]"
     ]
    },
    {
     "name": "stdout",
     "output_type": "stream",
     "text": [
      "A close-up view of an angry woman holding a white cardboard box with blue tape from the H&M webshop in her hands, standing in front of a city center background, the weather is rainy, high photorealistic quality.\n"
     ]
    },
    {
     "name": "stderr",
     "output_type": "stream",
     "text": [
      "100%|██████████| 15/15 [00:08<00:00,  1.86it/s]\n",
      " 28%|██▊       | 276/1000 [46:47<1:59:41,  9.92s/it]"
     ]
    },
    {
     "name": "stdout",
     "output_type": "stream",
     "text": [
      "A low angle view of an angry woman holding a brown cardboard box with a barcode from the Zara webshop in her hands, standing in front of a quite neighborhood street and trees background, the weather is cloudy, high photorealistic quality.\n"
     ]
    },
    {
     "name": "stderr",
     "output_type": "stream",
     "text": [
      "100%|██████████| 15/15 [00:08<00:00,  1.86it/s]\n",
      " 28%|██▊       | 277/1000 [46:57<1:58:54,  9.87s/it]"
     ]
    },
    {
     "name": "stdout",
     "output_type": "stream",
     "text": [
      "A long shot view of an angry lady holding a black cardboard box with a qr code from the Coolblue webshop in her hands, standing in front of a garbage curb background, the weather is cloudy, high photorealistic quality.\n"
     ]
    },
    {
     "name": "stderr",
     "output_type": "stream",
     "text": [
      "100%|██████████| 15/15 [00:08<00:00,  1.86it/s]\n",
      " 28%|██▊       | 278/1000 [47:07<1:58:20,  9.83s/it]"
     ]
    },
    {
     "name": "stdout",
     "output_type": "stream",
     "text": [
      "A high angle view of a frowning man holding a colorful cardboard box with a number from the Coolblue webshop in his hands, standing in front of a in the street background, the weather is rainy, high photorealistic quality.\n"
     ]
    },
    {
     "name": "stderr",
     "output_type": "stream",
     "text": [
      "100%|██████████| 15/15 [00:08<00:00,  1.86it/s]\n",
      " 28%|██▊       | 279/1000 [47:17<1:57:57,  9.82s/it]"
     ]
    },
    {
     "name": "stdout",
     "output_type": "stream",
     "text": [
      "A close-up view of a frowning woman holding a black cardboard box with a qr code from the Bol.com webshop in her hands, standing in front of a appartment building background, the weather is sunny, high photorealistic quality.\n"
     ]
    },
    {
     "name": "stderr",
     "output_type": "stream",
     "text": [
      "100%|██████████| 15/15 [00:08<00:00,  1.86it/s]\n",
      " 28%|██▊       | 280/1000 [47:26<1:57:34,  9.80s/it]"
     ]
    },
    {
     "name": "stdout",
     "output_type": "stream",
     "text": [
      "A full shot view of an angry man holding a white cardboard box with a qr code from the Amazon webshop in his hands, standing in front of a quite neighborhood street and garden background, the weather is cloudy, high photorealistic quality.\n"
     ]
    },
    {
     "name": "stderr",
     "output_type": "stream",
     "text": [
      "100%|██████████| 15/15 [00:08<00:00,  1.86it/s]\n",
      " 28%|██▊       | 281/1000 [47:36<1:57:12,  9.78s/it]"
     ]
    },
    {
     "name": "stdout",
     "output_type": "stream",
     "text": [
      "A close-up view of a young lady holding a colorful cardboard box with blue tape from the Adidas webshop in her hands, standing in front of a busy city street and people background, the weather is cloudy, high photorealistic quality.\n"
     ]
    },
    {
     "name": "stderr",
     "output_type": "stream",
     "text": [
      "100%|██████████| 15/15 [00:08<00:00,  1.86it/s]\n",
      " 28%|██▊       | 282/1000 [47:46<1:56:55,  9.77s/it]"
     ]
    },
    {
     "name": "stdout",
     "output_type": "stream",
     "text": [
      "A high angle view of an old woman holding a black cardboard box with a barcode from the Adidas webshop in her hands, standing in front of a quite neighborhood street and cars background, the weather is sunny, high photorealistic quality.\n"
     ]
    },
    {
     "name": "stderr",
     "output_type": "stream",
     "text": [
      "100%|██████████| 15/15 [00:08<00:00,  1.86it/s]\n",
      " 28%|██▊       | 283/1000 [47:56<1:56:48,  9.77s/it]"
     ]
    },
    {
     "name": "stdout",
     "output_type": "stream",
     "text": [
      "A full shot view of a frowning person holding a colorful cardboard box with a number from the Nike webshop in her hands, standing in front of a busy city street and cars background, the weather is snowy, high photorealistic quality.\n"
     ]
    },
    {
     "name": "stderr",
     "output_type": "stream",
     "text": [
      "100%|██████████| 15/15 [00:08<00:00,  1.86it/s]\n",
      " 28%|██▊       | 284/1000 [48:06<1:56:41,  9.78s/it]"
     ]
    },
    {
     "name": "stdout",
     "output_type": "stream",
     "text": [
      "A long shot view of an old woman holding a brown cardboard box with yellow tape from the H&M webshop in her hands, standing in front of a quite neighborhood street and trees background, the weather is rainy, high photorealistic quality.\n"
     ]
    },
    {
     "name": "stderr",
     "output_type": "stream",
     "text": [
      "100%|██████████| 15/15 [00:08<00:00,  1.86it/s]\n",
      " 28%|██▊       | 285/1000 [48:15<1:56:25,  9.77s/it]"
     ]
    },
    {
     "name": "stdout",
     "output_type": "stream",
     "text": [
      "A high angle view of a smiling man holding a white cardboard box with a number from the Coolblue webshop in his hands, standing in front of a quite neighborhood street and trees background, the weather is rainy, high photorealistic quality.\n"
     ]
    },
    {
     "name": "stderr",
     "output_type": "stream",
     "text": [
      "100%|██████████| 15/15 [00:08<00:00,  1.84it/s]\n",
      " 29%|██▊       | 286/1000 [48:25<1:56:41,  9.81s/it]"
     ]
    },
    {
     "name": "stdout",
     "output_type": "stream",
     "text": [
      "A close-up view of an angry man holding a white cardboard box with red tape from the H&M webshop in his hands, standing in front of a city center background, the weather is cloudy, high photorealistic quality.\n"
     ]
    },
    {
     "name": "stderr",
     "output_type": "stream",
     "text": [
      "100%|██████████| 15/15 [00:07<00:00,  1.91it/s]\n",
      " 29%|██▊       | 287/1000 [48:35<1:56:31,  9.81s/it]"
     ]
    },
    {
     "name": "stdout",
     "output_type": "stream",
     "text": [
      "A low angle view of a smiling man holding a colorful cardboard box with green tape from the Adidas webshop in his hands, standing in front of a quite neighborhood street and cars background, the weather is snowy, high photorealistic quality.\n"
     ]
    },
    {
     "name": "stderr",
     "output_type": "stream",
     "text": [
      "100%|██████████| 15/15 [00:12<00:00,  1.17it/s]\n",
      " 29%|██▉       | 288/1000 [48:50<2:15:18, 11.40s/it]"
     ]
    },
    {
     "name": "stdout",
     "output_type": "stream",
     "text": [
      "A long shot view of an angry person holding a colorful cardboard box with green tape from the Adidas webshop in her hands, standing in front of a in the street background, the weather is sunny, high photorealistic quality.\n"
     ]
    },
    {
     "name": "stderr",
     "output_type": "stream",
     "text": [
      "100%|██████████| 15/15 [00:09<00:00,  1.60it/s]\n",
      " 29%|██▉       | 289/1000 [49:01<2:14:26, 11.35s/it]"
     ]
    },
    {
     "name": "stdout",
     "output_type": "stream",
     "text": [
      "A full shot view of a happy person holding a black cardboard box with blue tape from the Zara webshop in her hands, standing in front of a busy city street and cars background, the weather is sunny, high photorealistic quality.\n"
     ]
    },
    {
     "name": "stderr",
     "output_type": "stream",
     "text": [
      "100%|██████████| 15/15 [00:09<00:00,  1.59it/s]\n",
      " 29%|██▉       | 290/1000 [49:13<2:14:06, 11.33s/it]"
     ]
    },
    {
     "name": "stdout",
     "output_type": "stream",
     "text": [
      "A high angle view of a smiling lady holding a colorful cardboard box with a barcode from the Nike webshop in her hands, standing in front of a quite neighborhood street and trees background, the weather is snowy, high photorealistic quality.\n"
     ]
    },
    {
     "name": "stderr",
     "output_type": "stream",
     "text": [
      "100%|██████████| 15/15 [00:09<00:00,  1.52it/s]\n",
      " 29%|██▉       | 291/1000 [49:24<2:15:02, 11.43s/it]"
     ]
    },
    {
     "name": "stdout",
     "output_type": "stream",
     "text": [
      "A high angle view of a frowning man holding a black cardboard box with blue tape from the Bol.com webshop in his hands, standing in front of a quite neighborhood street and trees background, the weather is rainy, high photorealistic quality.\n"
     ]
    },
    {
     "name": "stderr",
     "output_type": "stream",
     "text": [
      "100%|██████████| 15/15 [00:11<00:00,  1.34it/s]\n",
      " 29%|██▉       | 292/1000 [49:37<2:20:09, 11.88s/it]"
     ]
    },
    {
     "name": "stdout",
     "output_type": "stream",
     "text": [
      "A low angle view of a sad woman holding a black cardboard box with a qr code from the Zalando webshop in her hands, standing in front of a garbage curb background, the weather is snowy, high photorealistic quality.\n"
     ]
    },
    {
     "name": "stderr",
     "output_type": "stream",
     "text": [
      "100%|██████████| 15/15 [00:10<00:00,  1.48it/s]\n",
      " 29%|██▉       | 293/1000 [49:49<2:19:57, 11.88s/it]"
     ]
    },
    {
     "name": "stdout",
     "output_type": "stream",
     "text": [
      "A long shot view of a smiling man holding a colorful cardboard box with green tape from the Adidas webshop in his hands, standing in front of a quite neighborhood street and trees background, the weather is snowy, high photorealistic quality.\n"
     ]
    },
    {
     "name": "stderr",
     "output_type": "stream",
     "text": [
      "100%|██████████| 15/15 [00:08<00:00,  1.73it/s]\n",
      " 29%|██▉       | 294/1000 [49:59<2:14:25, 11.42s/it]"
     ]
    },
    {
     "name": "stdout",
     "output_type": "stream",
     "text": [
      "A high angle view of a sad boy holding a white cardboard box with a barcode from the Coolblue webshop in his hands, standing in front of a busy city street and cars background, the weather is cloudy, high photorealistic quality.\n"
     ]
    },
    {
     "name": "stderr",
     "output_type": "stream",
     "text": [
      "100%|██████████| 15/15 [00:09<00:00,  1.63it/s]\n",
      " 30%|██▉       | 295/1000 [50:10<2:12:31, 11.28s/it]"
     ]
    },
    {
     "name": "stdout",
     "output_type": "stream",
     "text": [
      "A low angle view of a young person holding a colorful cardboard box with a number from the H&M webshop in her hands, standing in front of a appartment building background, the weather is rainy, high photorealistic quality.\n"
     ]
    },
    {
     "name": "stderr",
     "output_type": "stream",
     "text": [
      "100%|██████████| 15/15 [00:08<00:00,  1.72it/s]\n",
      " 30%|██▉       | 296/1000 [50:21<2:09:38, 11.05s/it]"
     ]
    },
    {
     "name": "stdout",
     "output_type": "stream",
     "text": [
      "A high angle view of an old woman holding a black cardboard box with yellow tape from the Amazon webshop in her hands, standing in front of a quite neighborhood street and trees background, the weather is cloudy, high photorealistic quality.\n"
     ]
    },
    {
     "name": "stderr",
     "output_type": "stream",
     "text": [
      "100%|██████████| 15/15 [00:08<00:00,  1.73it/s]\n",
      " 30%|██▉       | 297/1000 [50:31<2:07:11, 10.86s/it]"
     ]
    },
    {
     "name": "stdout",
     "output_type": "stream",
     "text": [
      "A close-up view of a happy lady holding a white cardboard box with a number from the Zara webshop in her hands, standing in front of a appartment building background, the weather is snowy, high photorealistic quality.\n"
     ]
    },
    {
     "name": "stderr",
     "output_type": "stream",
     "text": [
      "100%|██████████| 15/15 [00:09<00:00,  1.57it/s]\n",
      " 30%|██▉       | 298/1000 [50:43<2:08:48, 11.01s/it]"
     ]
    },
    {
     "name": "stdout",
     "output_type": "stream",
     "text": [
      "A full shot view of a happy boy holding a brown cardboard box with yellow tape from the Zalando webshop in his hands, standing in front of a quite neighborhood street and garden background, the weather is cloudy, high photorealistic quality.\n"
     ]
    },
    {
     "name": "stderr",
     "output_type": "stream",
     "text": [
      "100%|██████████| 15/15 [00:08<00:00,  1.72it/s]\n",
      " 30%|██▉       | 299/1000 [50:53<2:06:40, 10.84s/it]"
     ]
    },
    {
     "name": "stdout",
     "output_type": "stream",
     "text": [
      "A medium shot view of a smiling person holding a colorful cardboard box with yellow tape from the Amazon webshop in her hands, standing in front of a quite neighborhood street and trees background, the weather is sunny, high photorealistic quality.\n"
     ]
    },
    {
     "name": "stderr",
     "output_type": "stream",
     "text": [
      "100%|██████████| 15/15 [00:08<00:00,  1.72it/s]\n",
      " 30%|███       | 300/1000 [51:04<2:05:12, 10.73s/it]"
     ]
    },
    {
     "name": "stdout",
     "output_type": "stream",
     "text": [
      "A close-up view of a sad man holding a colorful cardboard box with red tape from the Zara webshop in his hands, standing in front of a quite neighborhood street and garden background, the weather is sunny, high photorealistic quality.\n"
     ]
    },
    {
     "name": "stderr",
     "output_type": "stream",
     "text": [
      "100%|██████████| 15/15 [00:08<00:00,  1.73it/s]\n",
      " 30%|███       | 301/1000 [51:14<2:03:59, 10.64s/it]"
     ]
    },
    {
     "name": "stdout",
     "output_type": "stream",
     "text": [
      "A high angle view of a smiling man holding a brown cardboard box with a number from the Bol.com webshop in his hands, standing in front of a in the street background, the weather is sunny, high photorealistic quality.\n"
     ]
    },
    {
     "name": "stderr",
     "output_type": "stream",
     "text": [
      "100%|██████████| 15/15 [00:09<00:00,  1.51it/s]\n",
      " 30%|███       | 302/1000 [51:26<2:07:36, 10.97s/it]"
     ]
    },
    {
     "name": "stdout",
     "output_type": "stream",
     "text": [
      "A medium shot view of a young woman holding a colorful cardboard box with black tape from the Adidas webshop in her hands, standing in front of a busy city street and cars background, the weather is rainy, high photorealistic quality.\n"
     ]
    },
    {
     "name": "stderr",
     "output_type": "stream",
     "text": [
      "100%|██████████| 15/15 [00:09<00:00,  1.50it/s]\n",
      " 30%|███       | 303/1000 [51:38<2:10:09, 11.20s/it]"
     ]
    },
    {
     "name": "stdout",
     "output_type": "stream",
     "text": [
      "A long shot view of a sad boy holding a colorful cardboard box with a barcode from the Coolblue webshop in his hands, standing in front of a busy city street and people background, the weather is sunny, high photorealistic quality.\n"
     ]
    },
    {
     "name": "stderr",
     "output_type": "stream",
     "text": [
      "100%|██████████| 15/15 [00:08<00:00,  1.70it/s]\n",
      " 30%|███       | 304/1000 [51:48<2:07:57, 11.03s/it]"
     ]
    },
    {
     "name": "stdout",
     "output_type": "stream",
     "text": [
      "A full shot view of a frowning woman holding a white cardboard box with black tape from the Bol.com webshop in her hands, standing in front of a quite neighborhood street and trees background, the weather is snowy, high photorealistic quality.\n"
     ]
    },
    {
     "name": "stderr",
     "output_type": "stream",
     "text": [
      "100%|██████████| 15/15 [00:08<00:00,  1.72it/s]\n",
      " 30%|███       | 305/1000 [51:59<2:06:05, 10.89s/it]"
     ]
    },
    {
     "name": "stdout",
     "output_type": "stream",
     "text": [
      "A close-up view of a smiling person holding a brown cardboard box with black tape from a webshop in her hands, standing in front of a busy city street and people background, the weather is cloudy, high photorealistic quality.\n"
     ]
    },
    {
     "name": "stderr",
     "output_type": "stream",
     "text": [
      "100%|██████████| 15/15 [00:10<00:00,  1.46it/s]\n",
      " 31%|███       | 306/1000 [52:11<2:10:13, 11.26s/it]"
     ]
    },
    {
     "name": "stdout",
     "output_type": "stream",
     "text": [
      "A medium shot view of an angry boy holding a brown cardboard box with green tape from the Zalando webshop in his hands, standing in front of a quite neighborhood street and cars background, the weather is cloudy, high photorealistic quality.\n"
     ]
    },
    {
     "name": "stderr",
     "output_type": "stream",
     "text": [
      "100%|██████████| 15/15 [00:08<00:00,  1.71it/s]\n",
      " 31%|███       | 307/1000 [52:21<2:07:25, 11.03s/it]"
     ]
    },
    {
     "name": "stdout",
     "output_type": "stream",
     "text": [
      "A low angle view of a smiling woman holding a brown cardboard box with a barcode from the Zara webshop in her hands, standing in front of a busy city street and people background, the weather is cloudy, high photorealistic quality.\n"
     ]
    },
    {
     "name": "stderr",
     "output_type": "stream",
     "text": [
      "100%|██████████| 15/15 [00:08<00:00,  1.72it/s]\n",
      " 31%|███       | 308/1000 [52:32<2:05:30, 10.88s/it]"
     ]
    },
    {
     "name": "stdout",
     "output_type": "stream",
     "text": [
      "A low angle view of an old woman holding a white cardboard box with blue tape from the Amazon webshop in her hands, standing in front of a city center background, the weather is snowy, high photorealistic quality.\n"
     ]
    },
    {
     "name": "stderr",
     "output_type": "stream",
     "text": [
      "100%|██████████| 15/15 [00:08<00:00,  1.73it/s]\n",
      " 31%|███       | 309/1000 [52:42<2:03:52, 10.76s/it]"
     ]
    },
    {
     "name": "stdout",
     "output_type": "stream",
     "text": [
      "A low angle view of an old lady holding a white cardboard box with black tape from the Zalando webshop in her hands, standing in front of a garbage curb background, the weather is snowy, high photorealistic quality.\n"
     ]
    },
    {
     "name": "stderr",
     "output_type": "stream",
     "text": [
      "100%|██████████| 15/15 [00:08<00:00,  1.72it/s]\n",
      " 31%|███       | 310/1000 [52:53<2:02:58, 10.69s/it]"
     ]
    },
    {
     "name": "stdout",
     "output_type": "stream",
     "text": [
      "A high angle view of a happy man holding a brown cardboard box with yellow tape from a webshop in his hands, standing in front of a in the street background, the weather is cloudy, high photorealistic quality.\n"
     ]
    },
    {
     "name": "stderr",
     "output_type": "stream",
     "text": [
      "100%|██████████| 15/15 [00:08<00:00,  1.71it/s]\n",
      " 31%|███       | 311/1000 [53:03<2:02:17, 10.65s/it]"
     ]
    },
    {
     "name": "stdout",
     "output_type": "stream",
     "text": [
      "A close-up view of a happy lady holding a black cardboard box with black tape from the Amazon webshop in her hands, standing in front of a quite neighborhood street and trees background, the weather is rainy, high photorealistic quality.\n"
     ]
    },
    {
     "name": "stderr",
     "output_type": "stream",
     "text": [
      "100%|██████████| 15/15 [00:09<00:00,  1.52it/s]\n",
      " 31%|███       | 312/1000 [53:15<2:05:41, 10.96s/it]"
     ]
    },
    {
     "name": "stdout",
     "output_type": "stream",
     "text": [
      "A long shot view of a happy boy holding a black cardboard box with green tape from the Bol.com webshop in his hands, standing in front of a busy city street and people background, the weather is cloudy, high photorealistic quality.\n"
     ]
    },
    {
     "name": "stderr",
     "output_type": "stream",
     "text": [
      "100%|██████████| 15/15 [00:15<00:00,  1.03s/it]\n",
      " 31%|███▏      | 313/1000 [53:33<2:28:28, 12.97s/it]"
     ]
    },
    {
     "name": "stdout",
     "output_type": "stream",
     "text": [
      "A long shot view of a frowning lady holding a black cardboard box with black tape from the Amazon webshop in her hands, standing in front of a quite neighborhood street and cars background, the weather is rainy, high photorealistic quality.\n"
     ]
    },
    {
     "name": "stderr",
     "output_type": "stream",
     "text": [
      "100%|██████████| 15/15 [00:15<00:00,  1.04s/it]\n",
      " 31%|███▏      | 314/1000 [53:50<2:44:17, 14.37s/it]"
     ]
    },
    {
     "name": "stdout",
     "output_type": "stream",
     "text": [
      "A high angle view of an old man holding a colorful cardboard box with a qr code from the Coolblue webshop in his hands, standing in front of a busy city street and people background, the weather is snowy, high photorealistic quality.\n"
     ]
    },
    {
     "name": "stderr",
     "output_type": "stream",
     "text": [
      "100%|██████████| 15/15 [00:11<00:00,  1.34it/s]\n",
      " 32%|███▏      | 315/1000 [54:04<2:40:25, 14.05s/it]"
     ]
    },
    {
     "name": "stdout",
     "output_type": "stream",
     "text": [
      "A full shot view of a sad woman holding a black cardboard box with a number from the Bol.com webshop in her hands, standing in front of a quite neighborhood street and cars background, the weather is snowy, high photorealistic quality.\n"
     ]
    },
    {
     "name": "stderr",
     "output_type": "stream",
     "text": [
      "100%|██████████| 15/15 [00:09<00:00,  1.54it/s]\n",
      " 32%|███▏      | 316/1000 [54:16<2:32:40, 13.39s/it]"
     ]
    },
    {
     "name": "stdout",
     "output_type": "stream",
     "text": [
      "A close-up view of an old person holding a brown cardboard box with a number from the H&M webshop in her hands, standing in front of a city center background, the weather is cloudy, high photorealistic quality.\n"
     ]
    },
    {
     "name": "stderr",
     "output_type": "stream",
     "text": [
      "100%|██████████| 15/15 [00:09<00:00,  1.65it/s]\n",
      " 32%|███▏      | 317/1000 [54:26<2:23:55, 12.64s/it]"
     ]
    },
    {
     "name": "stdout",
     "output_type": "stream",
     "text": [
      "A long shot view of a young man holding a colorful cardboard box with black tape from the Amazon webshop in his hands, standing in front of a garbage curb background, the weather is rainy, high photorealistic quality.\n"
     ]
    },
    {
     "name": "stderr",
     "output_type": "stream",
     "text": [
      "100%|██████████| 15/15 [00:08<00:00,  1.75it/s]\n",
      " 32%|███▏      | 318/1000 [54:37<2:15:41, 11.94s/it]"
     ]
    },
    {
     "name": "stdout",
     "output_type": "stream",
     "text": [
      "A long shot view of a frowning man holding a colorful cardboard box with yellow tape from the Zalando webshop in his hands, standing in front of a in the street background, the weather is snowy, high photorealistic quality.\n"
     ]
    },
    {
     "name": "stderr",
     "output_type": "stream",
     "text": [
      "100%|██████████| 15/15 [00:08<00:00,  1.70it/s]\n",
      " 32%|███▏      | 319/1000 [54:48<2:12:08, 11.64s/it]"
     ]
    },
    {
     "name": "stdout",
     "output_type": "stream",
     "text": [
      "A high angle view of an angry lady holding a white cardboard box with a barcode from the Adidas webshop in her hands, standing in front of a quite neighborhood street and garden background, the weather is sunny, high photorealistic quality.\n"
     ]
    },
    {
     "name": "stderr",
     "output_type": "stream",
     "text": [
      "100%|██████████| 15/15 [00:09<00:00,  1.65it/s]\n",
      " 32%|███▏      | 320/1000 [54:59<2:09:34, 11.43s/it]"
     ]
    },
    {
     "name": "stdout",
     "output_type": "stream",
     "text": [
      "A long shot view of a happy person holding a colorful cardboard box with yellow tape from a webshop in her hands, standing in front of a quite neighborhood street and garden background, the weather is cloudy, high photorealistic quality.\n"
     ]
    },
    {
     "name": "stderr",
     "output_type": "stream",
     "text": [
      "100%|██████████| 15/15 [00:08<00:00,  1.78it/s]\n",
      " 32%|███▏      | 321/1000 [55:09<2:05:07, 11.06s/it]"
     ]
    },
    {
     "name": "stdout",
     "output_type": "stream",
     "text": [
      "A close-up view of a smiling person holding a colorful cardboard box with yellow tape from a webshop in her hands, standing in front of a quite neighborhood street and cars background, the weather is rainy, high photorealistic quality.\n"
     ]
    },
    {
     "name": "stderr",
     "output_type": "stream",
     "text": [
      "100%|██████████| 15/15 [00:07<00:00,  1.88it/s]\n",
      " 32%|███▏      | 322/1000 [55:18<2:00:13, 10.64s/it]"
     ]
    },
    {
     "name": "stdout",
     "output_type": "stream",
     "text": [
      "A medium shot view of an angry boy holding a black cardboard box with a number from the Zalando webshop in his hands, standing in front of a quite neighborhood street and trees background, the weather is rainy, high photorealistic quality.\n"
     ]
    },
    {
     "name": "stderr",
     "output_type": "stream",
     "text": [
      "100%|██████████| 15/15 [00:08<00:00,  1.76it/s]\n",
      " 32%|███▏      | 323/1000 [55:29<1:58:42, 10.52s/it]"
     ]
    },
    {
     "name": "stdout",
     "output_type": "stream",
     "text": [
      "A long shot view of an angry boy holding a white cardboard box with a number from the Adidas webshop in his hands, standing in front of a city center background, the weather is cloudy, high photorealistic quality.\n"
     ]
    },
    {
     "name": "stderr",
     "output_type": "stream",
     "text": [
      "100%|██████████| 15/15 [00:07<00:00,  1.88it/s]\n",
      " 32%|███▏      | 324/1000 [55:38<1:55:46, 10.28s/it]"
     ]
    },
    {
     "name": "stdout",
     "output_type": "stream",
     "text": [
      "A high angle view of a smiling person holding a colorful cardboard box with yellow tape from the Coolblue webshop in her hands, standing in front of a quite neighborhood street and trees background, the weather is rainy, high photorealistic quality.\n"
     ]
    },
    {
     "name": "stderr",
     "output_type": "stream",
     "text": [
      "100%|██████████| 15/15 [00:08<00:00,  1.83it/s]\n",
      " 32%|███▎      | 325/1000 [55:49<1:55:15, 10.25s/it]"
     ]
    },
    {
     "name": "stdout",
     "output_type": "stream",
     "text": [
      "A medium shot view of a sad lady holding a white cardboard box with red tape from the Zara webshop in her hands, standing in front of a quite neighborhood street and trees background, the weather is snowy, high photorealistic quality.\n"
     ]
    },
    {
     "name": "stderr",
     "output_type": "stream",
     "text": [
      "100%|██████████| 15/15 [00:08<00:00,  1.78it/s]\n",
      " 33%|███▎      | 326/1000 [55:59<1:55:09, 10.25s/it]"
     ]
    },
    {
     "name": "stdout",
     "output_type": "stream",
     "text": [
      "A high angle view of a sad man holding a white cardboard box with blue tape from the Zara webshop in his hands, standing in front of a quite neighborhood street and trees background, the weather is rainy, high photorealistic quality.\n"
     ]
    },
    {
     "name": "stderr",
     "output_type": "stream",
     "text": [
      "100%|██████████| 15/15 [00:08<00:00,  1.83it/s]\n",
      " 33%|███▎      | 327/1000 [56:09<1:55:25, 10.29s/it]"
     ]
    },
    {
     "name": "stdout",
     "output_type": "stream",
     "text": [
      "A long shot view of a frowning man holding a black cardboard box with a qr code from a webshop in his hands, standing in front of a busy city street and cars background, the weather is rainy, high photorealistic quality.\n"
     ]
    },
    {
     "name": "stderr",
     "output_type": "stream",
     "text": [
      "100%|██████████| 15/15 [00:08<00:00,  1.74it/s]\n",
      " 33%|███▎      | 328/1000 [56:20<1:56:06, 10.37s/it]"
     ]
    },
    {
     "name": "stdout",
     "output_type": "stream",
     "text": [
      "A long shot view of an angry man holding a colorful cardboard box with yellow tape from a webshop in his hands, standing in front of a garbage curb background, the weather is rainy, high photorealistic quality.\n"
     ]
    },
    {
     "name": "stderr",
     "output_type": "stream",
     "text": [
      "100%|██████████| 15/15 [00:08<00:00,  1.86it/s]\n",
      " 33%|███▎      | 329/1000 [56:30<1:54:28, 10.24s/it]"
     ]
    },
    {
     "name": "stdout",
     "output_type": "stream",
     "text": [
      "A close-up view of a frowning woman holding a brown cardboard box with a barcode from the Coolblue webshop in her hands, standing in front of a busy city street and people background, the weather is sunny, high photorealistic quality.\n"
     ]
    },
    {
     "name": "stderr",
     "output_type": "stream",
     "text": [
      "100%|██████████| 15/15 [00:08<00:00,  1.82it/s]\n",
      " 33%|███▎      | 330/1000 [56:40<1:53:12, 10.14s/it]"
     ]
    },
    {
     "name": "stdout",
     "output_type": "stream",
     "text": [
      "A close-up view of a happy woman holding a black cardboard box with green tape from the Coolblue webshop in her hands, standing in front of a busy city street and people background, the weather is cloudy, high photorealistic quality.\n"
     ]
    },
    {
     "name": "stderr",
     "output_type": "stream",
     "text": [
      "100%|██████████| 15/15 [00:07<00:00,  1.92it/s]\n",
      " 33%|███▎      | 331/1000 [56:49<1:50:37,  9.92s/it]"
     ]
    },
    {
     "name": "stdout",
     "output_type": "stream",
     "text": [
      "A long shot view of an old man holding a brown cardboard box with green tape from the H&M webshop in his hands, standing in front of a garbage curb background, the weather is cloudy, high photorealistic quality.\n"
     ]
    },
    {
     "name": "stderr",
     "output_type": "stream",
     "text": [
      "100%|██████████| 15/15 [00:07<00:00,  1.91it/s]\n",
      " 33%|███▎      | 332/1000 [56:59<1:49:02,  9.79s/it]"
     ]
    },
    {
     "name": "stdout",
     "output_type": "stream",
     "text": [
      "A medium shot view of a smiling lady holding a black cardboard box with red tape from the Nike webshop in her hands, standing in front of a in the street background, the weather is sunny, high photorealistic quality.\n"
     ]
    },
    {
     "name": "stderr",
     "output_type": "stream",
     "text": [
      "100%|██████████| 15/15 [00:07<00:00,  1.92it/s]\n",
      " 33%|███▎      | 333/1000 [57:08<1:47:40,  9.69s/it]"
     ]
    },
    {
     "name": "stdout",
     "output_type": "stream",
     "text": [
      "A full shot view of a sad boy holding a brown cardboard box with a number from the Amazon webshop in his hands, standing in front of a busy city street and cars background, the weather is sunny, high photorealistic quality.\n"
     ]
    },
    {
     "name": "stderr",
     "output_type": "stream",
     "text": [
      "100%|██████████| 15/15 [00:07<00:00,  1.91it/s]\n",
      " 33%|███▎      | 334/1000 [57:17<1:46:49,  9.62s/it]"
     ]
    },
    {
     "name": "stdout",
     "output_type": "stream",
     "text": [
      "A medium shot view of a sad woman holding a colorful cardboard box with a qr code from the Coolblue webshop in her hands, standing in front of a in the street background, the weather is snowy, high photorealistic quality.\n"
     ]
    },
    {
     "name": "stderr",
     "output_type": "stream",
     "text": [
      "100%|██████████| 15/15 [00:07<00:00,  1.91it/s]\n",
      " 34%|███▎      | 335/1000 [57:27<1:46:09,  9.58s/it]"
     ]
    },
    {
     "name": "stdout",
     "output_type": "stream",
     "text": [
      "A close-up view of a happy boy holding a black cardboard box with red tape from the Zalando webshop in his hands, standing in front of a quite neighborhood street and trees background, the weather is rainy, high photorealistic quality.\n"
     ]
    },
    {
     "name": "stderr",
     "output_type": "stream",
     "text": [
      "100%|██████████| 15/15 [00:07<00:00,  1.92it/s]\n",
      " 34%|███▎      | 336/1000 [57:36<1:45:27,  9.53s/it]"
     ]
    },
    {
     "name": "stdout",
     "output_type": "stream",
     "text": [
      "A long shot view of a sad lady holding a colorful cardboard box with black tape from the Adidas webshop in her hands, standing in front of a quite neighborhood street and trees background, the weather is sunny, high photorealistic quality.\n"
     ]
    },
    {
     "name": "stderr",
     "output_type": "stream",
     "text": [
      "100%|██████████| 15/15 [00:07<00:00,  1.92it/s]\n",
      " 34%|███▎      | 337/1000 [57:46<1:45:00,  9.50s/it]"
     ]
    },
    {
     "name": "stdout",
     "output_type": "stream",
     "text": [
      "A high angle view of a frowning woman holding a brown cardboard box with blue tape from the Coolblue webshop in her hands, standing in front of a busy city street and cars background, the weather is cloudy, high photorealistic quality.\n"
     ]
    },
    {
     "name": "stderr",
     "output_type": "stream",
     "text": [
      "100%|██████████| 15/15 [00:07<00:00,  1.91it/s]\n",
      " 34%|███▍      | 338/1000 [57:55<1:44:43,  9.49s/it]"
     ]
    },
    {
     "name": "stdout",
     "output_type": "stream",
     "text": [
      "A medium shot view of a young woman holding a brown cardboard box with yellow tape from the Zalando webshop in her hands, standing in front of a busy city street and cars background, the weather is sunny, high photorealistic quality.\n"
     ]
    },
    {
     "name": "stderr",
     "output_type": "stream",
     "text": [
      "100%|██████████| 15/15 [00:07<00:00,  1.93it/s]\n",
      " 34%|███▍      | 339/1000 [58:05<1:44:34,  9.49s/it]"
     ]
    },
    {
     "name": "stdout",
     "output_type": "stream",
     "text": [
      "A close-up view of a sad boy holding a colorful cardboard box with red tape from the H&M webshop in his hands, standing in front of a quite neighborhood street and cars background, the weather is cloudy, high photorealistic quality.\n"
     ]
    },
    {
     "name": "stderr",
     "output_type": "stream",
     "text": [
      "100%|██████████| 15/15 [00:07<00:00,  1.93it/s]\n",
      " 34%|███▍      | 340/1000 [58:14<1:44:13,  9.48s/it]"
     ]
    },
    {
     "name": "stdout",
     "output_type": "stream",
     "text": [
      "A close-up view of a sad boy holding a colorful cardboard box with red tape from the H&M webshop in his hands, standing in front of a city center background, the weather is snowy, high photorealistic quality.\n"
     ]
    },
    {
     "name": "stderr",
     "output_type": "stream",
     "text": [
      "100%|██████████| 15/15 [00:07<00:00,  1.91it/s]\n",
      " 34%|███▍      | 341/1000 [58:24<1:44:05,  9.48s/it]"
     ]
    },
    {
     "name": "stdout",
     "output_type": "stream",
     "text": [
      "A high angle view of an old lady holding a colorful cardboard box with blue tape from the Adidas webshop in her hands, standing in front of a busy city street and cars background, the weather is snowy, high photorealistic quality.\n"
     ]
    },
    {
     "name": "stderr",
     "output_type": "stream",
     "text": [
      "100%|██████████| 15/15 [00:07<00:00,  1.90it/s]\n",
      " 34%|███▍      | 342/1000 [58:33<1:44:02,  9.49s/it]"
     ]
    },
    {
     "name": "stdout",
     "output_type": "stream",
     "text": [
      "A medium shot view of a smiling lady holding a white cardboard box with red tape from the Zara webshop in her hands, standing in front of a busy city street and people background, the weather is snowy, high photorealistic quality.\n"
     ]
    },
    {
     "name": "stderr",
     "output_type": "stream",
     "text": [
      "100%|██████████| 15/15 [00:07<00:00,  1.92it/s]\n",
      " 34%|███▍      | 343/1000 [58:43<1:43:59,  9.50s/it]"
     ]
    },
    {
     "name": "stdout",
     "output_type": "stream",
     "text": [
      "A medium shot view of a young lady holding a brown cardboard box with a qr code from the Nike webshop in her hands, standing in front of a garbage curb background, the weather is snowy, high photorealistic quality.\n"
     ]
    },
    {
     "name": "stderr",
     "output_type": "stream",
     "text": [
      "100%|██████████| 15/15 [00:07<00:00,  1.91it/s]\n",
      " 34%|███▍      | 344/1000 [58:52<1:43:43,  9.49s/it]"
     ]
    },
    {
     "name": "stdout",
     "output_type": "stream",
     "text": [
      "A low angle view of an angry boy holding a brown cardboard box with blue tape from the H&M webshop in his hands, standing in front of a busy city street and cars background, the weather is sunny, high photorealistic quality.\n"
     ]
    },
    {
     "name": "stderr",
     "output_type": "stream",
     "text": [
      "100%|██████████| 15/15 [00:07<00:00,  1.91it/s]\n",
      " 34%|███▍      | 345/1000 [59:02<1:43:59,  9.53s/it]"
     ]
    },
    {
     "name": "stdout",
     "output_type": "stream",
     "text": [
      "A medium shot view of an angry woman holding a brown cardboard box with black tape from the Zara webshop in her hands, standing in front of a appartment building background, the weather is rainy, high photorealistic quality.\n"
     ]
    },
    {
     "name": "stderr",
     "output_type": "stream",
     "text": [
      "100%|██████████| 15/15 [00:07<00:00,  1.90it/s]\n",
      " 35%|███▍      | 346/1000 [59:11<1:43:59,  9.54s/it]"
     ]
    },
    {
     "name": "stdout",
     "output_type": "stream",
     "text": [
      "A long shot view of a sad woman holding a black cardboard box with red tape from the Coolblue webshop in her hands, standing in front of a busy city street and people background, the weather is cloudy, high photorealistic quality.\n"
     ]
    },
    {
     "name": "stderr",
     "output_type": "stream",
     "text": [
      "100%|██████████| 15/15 [00:07<00:00,  1.94it/s]\n",
      " 35%|███▍      | 347/1000 [59:21<1:43:21,  9.50s/it]"
     ]
    },
    {
     "name": "stdout",
     "output_type": "stream",
     "text": [
      "A long shot view of a smiling boy holding a colorful cardboard box with red tape from the Zalando webshop in his hands, standing in front of a in the street background, the weather is rainy, high photorealistic quality.\n"
     ]
    },
    {
     "name": "stderr",
     "output_type": "stream",
     "text": [
      "100%|██████████| 15/15 [00:07<00:00,  1.95it/s]\n",
      " 35%|███▍      | 348/1000 [59:30<1:42:44,  9.45s/it]"
     ]
    },
    {
     "name": "stdout",
     "output_type": "stream",
     "text": [
      "A long shot view of an angry lady holding a brown cardboard box with a number from the Zalando webshop in her hands, standing in front of a quite neighborhood street and garden background, the weather is snowy, high photorealistic quality.\n"
     ]
    },
    {
     "name": "stderr",
     "output_type": "stream",
     "text": [
      "100%|██████████| 15/15 [00:07<00:00,  1.93it/s]\n",
      " 35%|███▍      | 349/1000 [59:39<1:42:22,  9.44s/it]"
     ]
    },
    {
     "name": "stdout",
     "output_type": "stream",
     "text": [
      "A high angle view of a sad person holding a white cardboard box with a number from the Adidas webshop in her hands, standing in front of a quite neighborhood street and trees background, the weather is rainy, high photorealistic quality.\n"
     ]
    },
    {
     "name": "stderr",
     "output_type": "stream",
     "text": [
      "100%|██████████| 15/15 [00:07<00:00,  1.94it/s]\n",
      " 35%|███▌      | 350/1000 [59:49<1:42:02,  9.42s/it]"
     ]
    },
    {
     "name": "stdout",
     "output_type": "stream",
     "text": [
      "A high angle view of a frowning person holding a brown cardboard box with yellow tape from the H&M webshop in her hands, standing in front of a appartment building background, the weather is snowy, high photorealistic quality.\n"
     ]
    },
    {
     "name": "stderr",
     "output_type": "stream",
     "text": [
      "100%|██████████| 15/15 [00:07<00:00,  1.94it/s]\n",
      " 35%|███▌      | 351/1000 [59:58<1:41:38,  9.40s/it]"
     ]
    },
    {
     "name": "stdout",
     "output_type": "stream",
     "text": [
      "A low angle view of an old lady holding a white cardboard box with a barcode from the Nike webshop in her hands, standing in front of a busy city street and people background, the weather is cloudy, high photorealistic quality.\n"
     ]
    },
    {
     "name": "stderr",
     "output_type": "stream",
     "text": [
      "100%|██████████| 15/15 [00:07<00:00,  1.93it/s]\n",
      " 35%|███▌      | 352/1000 [1:00:08<1:41:29,  9.40s/it]"
     ]
    },
    {
     "name": "stdout",
     "output_type": "stream",
     "text": [
      "A low angle view of an old boy holding a white cardboard box with a barcode from the Amazon webshop in his hands, standing in front of a busy city street and cars background, the weather is snowy, high photorealistic quality.\n"
     ]
    },
    {
     "name": "stderr",
     "output_type": "stream",
     "text": [
      "100%|██████████| 15/15 [00:07<00:00,  1.94it/s]\n",
      " 35%|███▌      | 353/1000 [1:00:17<1:41:13,  9.39s/it]"
     ]
    },
    {
     "name": "stdout",
     "output_type": "stream",
     "text": [
      "A long shot view of an angry person holding a white cardboard box with yellow tape from the Amazon webshop in her hands, standing in front of a quite neighborhood street and cars background, the weather is cloudy, high photorealistic quality.\n"
     ]
    },
    {
     "name": "stderr",
     "output_type": "stream",
     "text": [
      "100%|██████████| 15/15 [00:07<00:00,  1.94it/s]\n",
      " 35%|███▌      | 354/1000 [1:00:26<1:40:57,  9.38s/it]"
     ]
    },
    {
     "name": "stdout",
     "output_type": "stream",
     "text": [
      "A medium shot view of a sad person holding a colorful cardboard box with a qr code from the Nike webshop in her hands, standing in front of a appartment building background, the weather is sunny, high photorealistic quality.\n"
     ]
    },
    {
     "name": "stderr",
     "output_type": "stream",
     "text": [
      "100%|██████████| 15/15 [00:07<00:00,  1.94it/s]\n",
      " 36%|███▌      | 355/1000 [1:00:36<1:40:50,  9.38s/it]"
     ]
    },
    {
     "name": "stdout",
     "output_type": "stream",
     "text": [
      "A low angle view of a sad boy holding a colorful cardboard box with blue tape from the Adidas webshop in his hands, standing in front of a appartment building background, the weather is rainy, high photorealistic quality.\n"
     ]
    },
    {
     "name": "stderr",
     "output_type": "stream",
     "text": [
      "100%|██████████| 15/15 [00:07<00:00,  1.94it/s]\n",
      " 36%|███▌      | 356/1000 [1:00:45<1:40:29,  9.36s/it]"
     ]
    },
    {
     "name": "stdout",
     "output_type": "stream",
     "text": [
      "A high angle view of an old boy holding a brown cardboard box with a number from the Zara webshop in his hands, standing in front of a quite neighborhood street and cars background, the weather is rainy, high photorealistic quality.\n"
     ]
    },
    {
     "name": "stderr",
     "output_type": "stream",
     "text": [
      "100%|██████████| 15/15 [00:07<00:00,  1.93it/s]\n",
      " 36%|███▌      | 357/1000 [1:00:54<1:40:22,  9.37s/it]"
     ]
    },
    {
     "name": "stdout",
     "output_type": "stream",
     "text": [
      "A long shot view of a frowning person holding a brown cardboard box with blue tape from a webshop in her hands, standing in front of a busy city street and cars background, the weather is cloudy, high photorealistic quality.\n"
     ]
    },
    {
     "name": "stderr",
     "output_type": "stream",
     "text": [
      "100%|██████████| 15/15 [00:07<00:00,  1.94it/s]\n",
      " 36%|███▌      | 358/1000 [1:01:04<1:40:15,  9.37s/it]"
     ]
    },
    {
     "name": "stdout",
     "output_type": "stream",
     "text": [
      "A long shot view of a frowning lady holding a white cardboard box with black tape from the Amazon webshop in her hands, standing in front of a busy city street and people background, the weather is cloudy, high photorealistic quality.\n"
     ]
    },
    {
     "name": "stderr",
     "output_type": "stream",
     "text": [
      "100%|██████████| 15/15 [00:07<00:00,  1.94it/s]\n",
      " 36%|███▌      | 359/1000 [1:01:13<1:40:10,  9.38s/it]"
     ]
    },
    {
     "name": "stdout",
     "output_type": "stream",
     "text": [
      "A close-up view of a happy person holding a colorful cardboard box with blue tape from the Amazon webshop in her hands, standing in front of a garbage curb background, the weather is sunny, high photorealistic quality.\n"
     ]
    },
    {
     "name": "stderr",
     "output_type": "stream",
     "text": [
      "100%|██████████| 15/15 [00:07<00:00,  1.94it/s]\n",
      " 36%|███▌      | 360/1000 [1:01:23<1:40:04,  9.38s/it]"
     ]
    },
    {
     "name": "stdout",
     "output_type": "stream",
     "text": [
      "A medium shot view of a frowning man holding a black cardboard box with a number from the Amazon webshop in his hands, standing in front of a busy city street and cars background, the weather is rainy, high photorealistic quality.\n"
     ]
    },
    {
     "name": "stderr",
     "output_type": "stream",
     "text": [
      "100%|██████████| 15/15 [00:07<00:00,  1.93it/s]\n",
      " 36%|███▌      | 361/1000 [1:01:32<1:39:50,  9.38s/it]"
     ]
    },
    {
     "name": "stdout",
     "output_type": "stream",
     "text": [
      "A long shot view of an angry man holding a black cardboard box with red tape from the Adidas webshop in his hands, standing in front of a quite neighborhood street and garden background, the weather is rainy, high photorealistic quality.\n"
     ]
    },
    {
     "name": "stderr",
     "output_type": "stream",
     "text": [
      "100%|██████████| 15/15 [00:07<00:00,  1.94it/s]\n",
      " 36%|███▌      | 362/1000 [1:01:41<1:39:38,  9.37s/it]"
     ]
    },
    {
     "name": "stdout",
     "output_type": "stream",
     "text": [
      "A close-up view of a young boy holding a colorful cardboard box with yellow tape from a webshop in his hands, standing in front of a quite neighborhood street and garden background, the weather is rainy, high photorealistic quality.\n"
     ]
    },
    {
     "name": "stderr",
     "output_type": "stream",
     "text": [
      "100%|██████████| 15/15 [00:07<00:00,  1.94it/s]\n",
      " 36%|███▋      | 363/1000 [1:01:51<1:39:30,  9.37s/it]"
     ]
    },
    {
     "name": "stdout",
     "output_type": "stream",
     "text": [
      "A medium shot view of a sad boy holding a brown cardboard box with green tape from a webshop in his hands, standing in front of a busy city street and cars background, the weather is cloudy, high photorealistic quality.\n"
     ]
    },
    {
     "name": "stderr",
     "output_type": "stream",
     "text": [
      "100%|██████████| 15/15 [00:07<00:00,  1.94it/s]\n",
      " 36%|███▋      | 364/1000 [1:02:00<1:39:17,  9.37s/it]"
     ]
    },
    {
     "name": "stdout",
     "output_type": "stream",
     "text": [
      "A long shot view of an old woman holding a white cardboard box with red tape from the Coolblue webshop in her hands, standing in front of a garbage curb background, the weather is snowy, high photorealistic quality.\n"
     ]
    },
    {
     "name": "stderr",
     "output_type": "stream",
     "text": [
      "100%|██████████| 15/15 [00:07<00:00,  1.94it/s]\n",
      " 36%|███▋      | 365/1000 [1:02:09<1:39:15,  9.38s/it]"
     ]
    },
    {
     "name": "stdout",
     "output_type": "stream",
     "text": [
      "A high angle view of a frowning man holding a brown cardboard box with yellow tape from the Zara webshop in his hands, standing in front of a city center background, the weather is rainy, high photorealistic quality.\n"
     ]
    },
    {
     "name": "stderr",
     "output_type": "stream",
     "text": [
      "100%|██████████| 15/15 [00:07<00:00,  1.94it/s]\n",
      " 37%|███▋      | 366/1000 [1:02:19<1:39:05,  9.38s/it]"
     ]
    },
    {
     "name": "stdout",
     "output_type": "stream",
     "text": [
      "A high angle view of a frowning man holding a brown cardboard box with a number from the Coolblue webshop in his hands, standing in front of a garbage curb background, the weather is cloudy, high photorealistic quality.\n"
     ]
    },
    {
     "name": "stderr",
     "output_type": "stream",
     "text": [
      "100%|██████████| 15/15 [00:07<00:00,  1.93it/s]\n",
      " 37%|███▋      | 367/1000 [1:02:28<1:39:03,  9.39s/it]"
     ]
    },
    {
     "name": "stdout",
     "output_type": "stream",
     "text": [
      "A close-up view of a smiling boy holding a brown cardboard box with green tape from the Bol.com webshop in his hands, standing in front of a busy city street and cars background, the weather is rainy, high photorealistic quality.\n"
     ]
    },
    {
     "name": "stderr",
     "output_type": "stream",
     "text": [
      "100%|██████████| 15/15 [00:07<00:00,  1.94it/s]\n",
      " 37%|███▋      | 368/1000 [1:02:38<1:38:57,  9.40s/it]"
     ]
    },
    {
     "name": "stdout",
     "output_type": "stream",
     "text": [
      "A long shot view of an old man holding a black cardboard box with a qr code from a webshop in his hands, standing in front of a busy city street and cars background, the weather is sunny, high photorealistic quality.\n"
     ]
    },
    {
     "name": "stderr",
     "output_type": "stream",
     "text": [
      "100%|██████████| 15/15 [00:07<00:00,  1.93it/s]\n",
      " 37%|███▋      | 369/1000 [1:02:47<1:38:44,  9.39s/it]"
     ]
    },
    {
     "name": "stdout",
     "output_type": "stream",
     "text": [
      "A low angle view of an old person holding a colorful cardboard box with black tape from the Bol.com webshop in her hands, standing in front of a busy city street and cars background, the weather is rainy, high photorealistic quality.\n"
     ]
    },
    {
     "name": "stderr",
     "output_type": "stream",
     "text": [
      "100%|██████████| 15/15 [00:07<00:00,  1.94it/s]\n",
      " 37%|███▋      | 370/1000 [1:02:56<1:38:26,  9.38s/it]"
     ]
    },
    {
     "name": "stdout",
     "output_type": "stream",
     "text": [
      "A medium shot view of an angry boy holding a brown cardboard box with green tape from the Bol.com webshop in his hands, standing in front of a busy city street and cars background, the weather is sunny, high photorealistic quality.\n"
     ]
    },
    {
     "name": "stderr",
     "output_type": "stream",
     "text": [
      "100%|██████████| 15/15 [00:07<00:00,  1.95it/s]\n",
      " 37%|███▋      | 371/1000 [1:03:06<1:38:29,  9.40s/it]"
     ]
    },
    {
     "name": "stdout",
     "output_type": "stream",
     "text": [
      "A long shot view of a sad man holding a black cardboard box with blue tape from the Coolblue webshop in his hands, standing in front of a appartment building background, the weather is rainy, high photorealistic quality.\n"
     ]
    },
    {
     "name": "stderr",
     "output_type": "stream",
     "text": [
      "100%|██████████| 15/15 [00:07<00:00,  1.92it/s]\n",
      " 37%|███▋      | 372/1000 [1:03:15<1:38:31,  9.41s/it]"
     ]
    },
    {
     "name": "stdout",
     "output_type": "stream",
     "text": [
      "A full shot view of an old boy holding a brown cardboard box with red tape from the Amazon webshop in his hands, standing in front of a city center background, the weather is rainy, high photorealistic quality.\n"
     ]
    },
    {
     "name": "stderr",
     "output_type": "stream",
     "text": [
      "100%|██████████| 15/15 [00:07<00:00,  1.95it/s]\n",
      " 37%|███▋      | 373/1000 [1:03:25<1:38:24,  9.42s/it]"
     ]
    },
    {
     "name": "stdout",
     "output_type": "stream",
     "text": [
      "A close-up view of an old person holding a colorful cardboard box with yellow tape from the Amazon webshop in her hands, standing in front of a quite neighborhood street and trees background, the weather is snowy, high photorealistic quality.\n"
     ]
    },
    {
     "name": "stderr",
     "output_type": "stream",
     "text": [
      "100%|██████████| 15/15 [00:07<00:00,  1.94it/s]\n",
      " 37%|███▋      | 374/1000 [1:03:34<1:38:01,  9.39s/it]"
     ]
    },
    {
     "name": "stdout",
     "output_type": "stream",
     "text": [
      "A close-up view of a young man holding a white cardboard box with black tape from the Zalando webshop in his hands, standing in front of a quite neighborhood street and cars background, the weather is snowy, high photorealistic quality.\n"
     ]
    },
    {
     "name": "stderr",
     "output_type": "stream",
     "text": [
      "100%|██████████| 15/15 [00:07<00:00,  1.93it/s]\n",
      " 38%|███▊      | 375/1000 [1:03:43<1:38:03,  9.41s/it]"
     ]
    },
    {
     "name": "stdout",
     "output_type": "stream",
     "text": [
      "A high angle view of a happy boy holding a black cardboard box with a number from the Adidas webshop in his hands, standing in front of a garbage curb background, the weather is snowy, high photorealistic quality.\n"
     ]
    },
    {
     "name": "stderr",
     "output_type": "stream",
     "text": [
      "100%|██████████| 15/15 [00:07<00:00,  1.94it/s]\n",
      " 38%|███▊      | 376/1000 [1:03:53<1:37:58,  9.42s/it]"
     ]
    },
    {
     "name": "stdout",
     "output_type": "stream",
     "text": [
      "A low angle view of a happy woman holding a colorful cardboard box with a qr code from the Zara webshop in her hands, standing in front of a garbage curb background, the weather is rainy, high photorealistic quality.\n"
     ]
    },
    {
     "name": "stderr",
     "output_type": "stream",
     "text": [
      "100%|██████████| 15/15 [00:07<00:00,  1.94it/s]\n",
      " 38%|███▊      | 377/1000 [1:04:02<1:37:33,  9.40s/it]"
     ]
    },
    {
     "name": "stdout",
     "output_type": "stream",
     "text": [
      "A close-up view of a smiling person holding a colorful cardboard box with red tape from the H&M webshop in her hands, standing in front of a appartment building background, the weather is cloudy, high photorealistic quality.\n"
     ]
    },
    {
     "name": "stderr",
     "output_type": "stream",
     "text": [
      "100%|██████████| 15/15 [00:07<00:00,  1.93it/s]\n",
      " 38%|███▊      | 378/1000 [1:04:12<1:37:22,  9.39s/it]"
     ]
    },
    {
     "name": "stdout",
     "output_type": "stream",
     "text": [
      "A high angle view of a frowning boy holding a brown cardboard box with blue tape from the Coolblue webshop in his hands, standing in front of a appartment building background, the weather is snowy, high photorealistic quality.\n"
     ]
    },
    {
     "name": "stderr",
     "output_type": "stream",
     "text": [
      "100%|██████████| 15/15 [00:07<00:00,  1.95it/s]\n",
      " 38%|███▊      | 379/1000 [1:04:21<1:37:04,  9.38s/it]"
     ]
    },
    {
     "name": "stdout",
     "output_type": "stream",
     "text": [
      "A low angle view of an old person holding a brown cardboard box with a barcode from the Zalando webshop in her hands, standing in front of a garbage curb background, the weather is snowy, high photorealistic quality.\n"
     ]
    },
    {
     "name": "stderr",
     "output_type": "stream",
     "text": [
      "100%|██████████| 15/15 [00:07<00:00,  1.93it/s]\n",
      " 38%|███▊      | 380/1000 [1:04:30<1:36:50,  9.37s/it]"
     ]
    },
    {
     "name": "stdout",
     "output_type": "stream",
     "text": [
      "A full shot view of a happy man holding a brown cardboard box with black tape from the Coolblue webshop in his hands, standing in front of a quite neighborhood street and trees background, the weather is snowy, high photorealistic quality.\n"
     ]
    },
    {
     "name": "stderr",
     "output_type": "stream",
     "text": [
      "100%|██████████| 15/15 [00:07<00:00,  1.94it/s]\n",
      " 38%|███▊      | 381/1000 [1:04:40<1:36:36,  9.36s/it]"
     ]
    },
    {
     "name": "stdout",
     "output_type": "stream",
     "text": [
      "A medium shot view of an angry lady holding a brown cardboard box with a number from the Zalando webshop in her hands, standing in front of a in the street background, the weather is cloudy, high photorealistic quality.\n"
     ]
    },
    {
     "name": "stderr",
     "output_type": "stream",
     "text": [
      "100%|██████████| 15/15 [00:07<00:00,  1.96it/s]\n",
      " 38%|███▊      | 382/1000 [1:04:49<1:36:23,  9.36s/it]"
     ]
    },
    {
     "name": "stdout",
     "output_type": "stream",
     "text": [
      "A close-up view of a frowning boy holding a colorful cardboard box with yellow tape from a webshop in his hands, standing in front of a busy city street and people background, the weather is rainy, high photorealistic quality.\n"
     ]
    },
    {
     "name": "stderr",
     "output_type": "stream",
     "text": [
      "100%|██████████| 15/15 [00:07<00:00,  1.94it/s]\n",
      " 38%|███▊      | 383/1000 [1:04:58<1:36:16,  9.36s/it]"
     ]
    },
    {
     "name": "stdout",
     "output_type": "stream",
     "text": [
      "A medium shot view of a smiling lady holding a brown cardboard box with blue tape from the Bol.com webshop in her hands, standing in front of a busy city street and cars background, the weather is snowy, high photorealistic quality.\n"
     ]
    },
    {
     "name": "stderr",
     "output_type": "stream",
     "text": [
      "100%|██████████| 15/15 [00:07<00:00,  1.94it/s]\n",
      " 38%|███▊      | 384/1000 [1:05:08<1:36:09,  9.37s/it]"
     ]
    },
    {
     "name": "stdout",
     "output_type": "stream",
     "text": [
      "A low angle view of a happy boy holding a white cardboard box with black tape from the Nike webshop in his hands, standing in front of a quite neighborhood street and trees background, the weather is sunny, high photorealistic quality.\n"
     ]
    },
    {
     "name": "stderr",
     "output_type": "stream",
     "text": [
      "100%|██████████| 15/15 [00:07<00:00,  1.93it/s]\n",
      " 38%|███▊      | 385/1000 [1:05:17<1:36:00,  9.37s/it]"
     ]
    },
    {
     "name": "stdout",
     "output_type": "stream",
     "text": [
      "A long shot view of a sad person holding a black cardboard box with blue tape from the Bol.com webshop in her hands, standing in front of a garbage curb background, the weather is cloudy, high photorealistic quality.\n"
     ]
    },
    {
     "name": "stderr",
     "output_type": "stream",
     "text": [
      "100%|██████████| 15/15 [00:07<00:00,  1.94it/s]\n",
      " 39%|███▊      | 386/1000 [1:05:27<1:35:54,  9.37s/it]"
     ]
    },
    {
     "name": "stdout",
     "output_type": "stream",
     "text": [
      "A close-up view of an old lady holding a brown cardboard box with blue tape from the Nike webshop in her hands, standing in front of a city center background, the weather is sunny, high photorealistic quality.\n"
     ]
    },
    {
     "name": "stderr",
     "output_type": "stream",
     "text": [
      "100%|██████████| 15/15 [00:07<00:00,  1.94it/s]\n",
      " 39%|███▊      | 387/1000 [1:05:36<1:35:43,  9.37s/it]"
     ]
    },
    {
     "name": "stdout",
     "output_type": "stream",
     "text": [
      "A close-up view of a smiling boy holding a brown cardboard box with a qr code from the Adidas webshop in his hands, standing in front of a quite neighborhood street and garden background, the weather is snowy, high photorealistic quality.\n"
     ]
    },
    {
     "name": "stderr",
     "output_type": "stream",
     "text": [
      "100%|██████████| 15/15 [00:07<00:00,  1.94it/s]\n",
      " 39%|███▉      | 388/1000 [1:05:45<1:35:39,  9.38s/it]"
     ]
    },
    {
     "name": "stdout",
     "output_type": "stream",
     "text": [
      "A low angle view of a young person holding a black cardboard box with blue tape from the Nike webshop in her hands, standing in front of a busy city street and people background, the weather is snowy, high photorealistic quality.\n"
     ]
    },
    {
     "name": "stderr",
     "output_type": "stream",
     "text": [
      "100%|██████████| 15/15 [00:07<00:00,  1.94it/s]\n",
      " 39%|███▉      | 389/1000 [1:05:55<1:35:18,  9.36s/it]"
     ]
    },
    {
     "name": "stdout",
     "output_type": "stream",
     "text": [
      "A long shot view of a frowning man holding a black cardboard box with green tape from the Amazon webshop in his hands, standing in front of a in the street background, the weather is snowy, high photorealistic quality.\n"
     ]
    },
    {
     "name": "stderr",
     "output_type": "stream",
     "text": [
      "100%|██████████| 15/15 [00:07<00:00,  1.93it/s]\n",
      " 39%|███▉      | 390/1000 [1:06:04<1:35:14,  9.37s/it]"
     ]
    },
    {
     "name": "stdout",
     "output_type": "stream",
     "text": [
      "A full shot view of a smiling person holding a colorful cardboard box with a qr code from the Coolblue webshop in her hands, standing in front of a quite neighborhood street and trees background, the weather is rainy, high photorealistic quality.\n"
     ]
    },
    {
     "name": "stderr",
     "output_type": "stream",
     "text": [
      "100%|██████████| 15/15 [00:07<00:00,  1.94it/s]\n",
      " 39%|███▉      | 391/1000 [1:06:13<1:35:03,  9.36s/it]"
     ]
    },
    {
     "name": "stdout",
     "output_type": "stream",
     "text": [
      "A high angle view of a smiling boy holding a brown cardboard box with a qr code from the Adidas webshop in his hands, standing in front of a garbage curb background, the weather is cloudy, high photorealistic quality.\n"
     ]
    },
    {
     "name": "stderr",
     "output_type": "stream",
     "text": [
      "100%|██████████| 15/15 [00:07<00:00,  1.94it/s]\n",
      " 39%|███▉      | 392/1000 [1:06:23<1:34:47,  9.35s/it]"
     ]
    },
    {
     "name": "stdout",
     "output_type": "stream",
     "text": [
      "A medium shot view of a smiling man holding a colorful cardboard box with a barcode from the Nike webshop in his hands, standing in front of a quite neighborhood street and cars background, the weather is snowy, high photorealistic quality.\n"
     ]
    },
    {
     "name": "stderr",
     "output_type": "stream",
     "text": [
      "100%|██████████| 15/15 [00:07<00:00,  1.93it/s]\n",
      " 39%|███▉      | 393/1000 [1:06:32<1:34:47,  9.37s/it]"
     ]
    },
    {
     "name": "stdout",
     "output_type": "stream",
     "text": [
      "A medium shot view of a frowning woman holding a brown cardboard box with red tape from the Zara webshop in her hands, standing in front of a quite neighborhood street and garden background, the weather is snowy, high photorealistic quality.\n"
     ]
    },
    {
     "name": "stderr",
     "output_type": "stream",
     "text": [
      "100%|██████████| 15/15 [00:07<00:00,  1.93it/s]\n",
      " 39%|███▉      | 394/1000 [1:06:42<1:34:47,  9.38s/it]"
     ]
    },
    {
     "name": "stdout",
     "output_type": "stream",
     "text": [
      "A long shot view of a happy woman holding a colorful cardboard box with red tape from the Adidas webshop in her hands, standing in front of a garbage curb background, the weather is snowy, high photorealistic quality.\n"
     ]
    },
    {
     "name": "stderr",
     "output_type": "stream",
     "text": [
      "100%|██████████| 15/15 [00:07<00:00,  1.94it/s]\n",
      " 40%|███▉      | 395/1000 [1:06:51<1:34:29,  9.37s/it]"
     ]
    },
    {
     "name": "stdout",
     "output_type": "stream",
     "text": [
      "A medium shot view of an old boy holding a colorful cardboard box with a barcode from the Zalando webshop in his hands, standing in front of a busy city street and cars background, the weather is snowy, high photorealistic quality.\n"
     ]
    },
    {
     "name": "stderr",
     "output_type": "stream",
     "text": [
      "100%|██████████| 15/15 [00:07<00:00,  1.93it/s]\n",
      " 40%|███▉      | 396/1000 [1:07:00<1:34:22,  9.37s/it]"
     ]
    },
    {
     "name": "stdout",
     "output_type": "stream",
     "text": [
      "A close-up view of an angry person holding a colorful cardboard box with green tape from the Amazon webshop in her hands, standing in front of a in the street background, the weather is cloudy, high photorealistic quality.\n"
     ]
    },
    {
     "name": "stderr",
     "output_type": "stream",
     "text": [
      "100%|██████████| 15/15 [00:07<00:00,  1.94it/s]\n",
      " 40%|███▉      | 397/1000 [1:07:10<1:34:17,  9.38s/it]"
     ]
    },
    {
     "name": "stdout",
     "output_type": "stream",
     "text": [
      "A close-up view of a smiling boy holding a white cardboard box with green tape from the Bol.com webshop in his hands, standing in front of a quite neighborhood street and trees background, the weather is rainy, high photorealistic quality.\n"
     ]
    },
    {
     "name": "stderr",
     "output_type": "stream",
     "text": [
      "100%|██████████| 15/15 [00:07<00:00,  1.94it/s]\n",
      " 40%|███▉      | 398/1000 [1:07:19<1:34:08,  9.38s/it]"
     ]
    },
    {
     "name": "stdout",
     "output_type": "stream",
     "text": [
      "A high angle view of an angry lady holding a black cardboard box with a number from the Coolblue webshop in her hands, standing in front of a appartment building background, the weather is snowy, high photorealistic quality.\n"
     ]
    },
    {
     "name": "stderr",
     "output_type": "stream",
     "text": [
      "100%|██████████| 15/15 [00:07<00:00,  1.94it/s]\n",
      " 40%|███▉      | 399/1000 [1:07:28<1:33:59,  9.38s/it]"
     ]
    },
    {
     "name": "stdout",
     "output_type": "stream",
     "text": [
      "A medium shot view of a frowning person holding a colorful cardboard box with a qr code from the Nike webshop in her hands, standing in front of a garbage curb background, the weather is snowy, high photorealistic quality.\n"
     ]
    },
    {
     "name": "stderr",
     "output_type": "stream",
     "text": [
      "100%|██████████| 15/15 [00:07<00:00,  1.93it/s]\n",
      " 40%|████      | 400/1000 [1:07:38<1:33:50,  9.38s/it]"
     ]
    },
    {
     "name": "stdout",
     "output_type": "stream",
     "text": [
      "A medium shot view of a smiling person holding a black cardboard box with black tape from a webshop in her hands, standing in front of a busy city street and people background, the weather is cloudy, high photorealistic quality.\n"
     ]
    },
    {
     "name": "stderr",
     "output_type": "stream",
     "text": [
      "100%|██████████| 15/15 [00:07<00:00,  1.93it/s]\n",
      " 40%|████      | 401/1000 [1:07:47<1:33:44,  9.39s/it]"
     ]
    },
    {
     "name": "stdout",
     "output_type": "stream",
     "text": [
      "A medium shot view of a frowning lady holding a brown cardboard box with black tape from the Nike webshop in her hands, standing in front of a garbage curb background, the weather is cloudy, high photorealistic quality.\n"
     ]
    },
    {
     "name": "stderr",
     "output_type": "stream",
     "text": [
      "100%|██████████| 15/15 [00:07<00:00,  1.94it/s]\n",
      " 40%|████      | 402/1000 [1:07:57<1:33:36,  9.39s/it]"
     ]
    },
    {
     "name": "stdout",
     "output_type": "stream",
     "text": [
      "A long shot view of an angry boy holding a colorful cardboard box with yellow tape from the Coolblue webshop in his hands, standing in front of a quite neighborhood street and garden background, the weather is sunny, high photorealistic quality.\n"
     ]
    },
    {
     "name": "stderr",
     "output_type": "stream",
     "text": [
      "100%|██████████| 15/15 [00:07<00:00,  1.94it/s]\n",
      " 40%|████      | 403/1000 [1:08:06<1:33:18,  9.38s/it]"
     ]
    },
    {
     "name": "stdout",
     "output_type": "stream",
     "text": [
      "A long shot view of a smiling boy holding a colorful cardboard box with a barcode from the Zalando webshop in his hands, standing in front of a quite neighborhood street and trees background, the weather is sunny, high photorealistic quality.\n"
     ]
    },
    {
     "name": "stderr",
     "output_type": "stream",
     "text": [
      "100%|██████████| 15/15 [00:07<00:00,  1.93it/s]\n",
      " 40%|████      | 404/1000 [1:08:15<1:33:07,  9.37s/it]"
     ]
    },
    {
     "name": "stdout",
     "output_type": "stream",
     "text": [
      "A close-up view of a smiling lady holding a white cardboard box with a barcode from a webshop in her hands, standing in front of a city center background, the weather is rainy, high photorealistic quality.\n"
     ]
    },
    {
     "name": "stderr",
     "output_type": "stream",
     "text": [
      "100%|██████████| 15/15 [00:07<00:00,  1.94it/s]\n",
      " 40%|████      | 405/1000 [1:08:25<1:33:01,  9.38s/it]"
     ]
    },
    {
     "name": "stdout",
     "output_type": "stream",
     "text": [
      "A close-up view of a frowning lady holding a black cardboard box with black tape from the Bol.com webshop in her hands, standing in front of a busy city street and people background, the weather is rainy, high photorealistic quality.\n"
     ]
    },
    {
     "name": "stderr",
     "output_type": "stream",
     "text": [
      "100%|██████████| 15/15 [00:07<00:00,  1.94it/s]\n",
      " 41%|████      | 406/1000 [1:08:34<1:32:46,  9.37s/it]"
     ]
    },
    {
     "name": "stdout",
     "output_type": "stream",
     "text": [
      "A long shot view of a young boy holding a colorful cardboard box with a barcode from the Zara webshop in his hands, standing in front of a city center background, the weather is sunny, high photorealistic quality.\n"
     ]
    },
    {
     "name": "stderr",
     "output_type": "stream",
     "text": [
      "100%|██████████| 15/15 [00:07<00:00,  1.93it/s]\n",
      " 41%|████      | 407/1000 [1:08:43<1:32:41,  9.38s/it]"
     ]
    },
    {
     "name": "stdout",
     "output_type": "stream",
     "text": [
      "A full shot view of a happy boy holding a brown cardboard box with black tape from the Zara webshop in his hands, standing in front of a quite neighborhood street and cars background, the weather is rainy, high photorealistic quality.\n"
     ]
    },
    {
     "name": "stderr",
     "output_type": "stream",
     "text": [
      "100%|██████████| 15/15 [00:07<00:00,  1.94it/s]\n",
      " 41%|████      | 408/1000 [1:08:53<1:32:32,  9.38s/it]"
     ]
    },
    {
     "name": "stdout",
     "output_type": "stream",
     "text": [
      "A low angle view of an angry person holding a colorful cardboard box with a number from the H&M webshop in her hands, standing in front of a busy city street and people background, the weather is sunny, high photorealistic quality.\n"
     ]
    },
    {
     "name": "stderr",
     "output_type": "stream",
     "text": [
      "100%|██████████| 15/15 [00:07<00:00,  1.94it/s]\n",
      " 41%|████      | 409/1000 [1:09:02<1:32:30,  9.39s/it]"
     ]
    },
    {
     "name": "stdout",
     "output_type": "stream",
     "text": [
      "A low angle view of an old lady holding a brown cardboard box with yellow tape from the Adidas webshop in her hands, standing in front of a busy city street and people background, the weather is cloudy, high photorealistic quality.\n"
     ]
    },
    {
     "name": "stderr",
     "output_type": "stream",
     "text": [
      "100%|██████████| 15/15 [00:07<00:00,  1.94it/s]\n",
      " 41%|████      | 410/1000 [1:09:12<1:32:21,  9.39s/it]"
     ]
    },
    {
     "name": "stdout",
     "output_type": "stream",
     "text": [
      "A long shot view of an old person holding a brown cardboard box with black tape from the Bol.com webshop in her hands, standing in front of a in the street background, the weather is rainy, high photorealistic quality.\n"
     ]
    },
    {
     "name": "stderr",
     "output_type": "stream",
     "text": [
      "100%|██████████| 15/15 [00:07<00:00,  1.93it/s]\n",
      " 41%|████      | 411/1000 [1:09:21<1:32:11,  9.39s/it]"
     ]
    },
    {
     "name": "stdout",
     "output_type": "stream",
     "text": [
      "A low angle view of a sad man holding a brown cardboard box with red tape from the Adidas webshop in his hands, standing in front of a city center background, the weather is cloudy, high photorealistic quality.\n"
     ]
    },
    {
     "name": "stderr",
     "output_type": "stream",
     "text": [
      "100%|██████████| 15/15 [00:07<00:00,  1.93it/s]\n",
      " 41%|████      | 412/1000 [1:09:30<1:32:06,  9.40s/it]"
     ]
    },
    {
     "name": "stdout",
     "output_type": "stream",
     "text": [
      "A high angle view of an angry person holding a black cardboard box with black tape from the Nike webshop in her hands, standing in front of a appartment building background, the weather is cloudy, high photorealistic quality.\n"
     ]
    },
    {
     "name": "stderr",
     "output_type": "stream",
     "text": [
      "100%|██████████| 15/15 [00:07<00:00,  1.94it/s]\n",
      " 41%|████▏     | 413/1000 [1:09:40<1:31:48,  9.38s/it]"
     ]
    },
    {
     "name": "stdout",
     "output_type": "stream",
     "text": [
      "A full shot view of a sad man holding a white cardboard box with a barcode from the H&M webshop in his hands, standing in front of a busy city street and cars background, the weather is cloudy, high photorealistic quality.\n"
     ]
    },
    {
     "name": "stderr",
     "output_type": "stream",
     "text": [
      "100%|██████████| 15/15 [00:07<00:00,  1.93it/s]\n",
      " 41%|████▏     | 414/1000 [1:09:49<1:31:39,  9.38s/it]"
     ]
    },
    {
     "name": "stdout",
     "output_type": "stream",
     "text": [
      "A close-up view of a smiling lady holding a white cardboard box with yellow tape from the Bol.com webshop in her hands, standing in front of a busy city street and people background, the weather is snowy, high photorealistic quality.\n"
     ]
    },
    {
     "name": "stderr",
     "output_type": "stream",
     "text": [
      "100%|██████████| 15/15 [00:07<00:00,  1.94it/s]\n",
      " 42%|████▏     | 415/1000 [1:09:59<1:31:31,  9.39s/it]"
     ]
    },
    {
     "name": "stdout",
     "output_type": "stream",
     "text": [
      "A medium shot view of a smiling person holding a brown cardboard box with a barcode from the Zara webshop in her hands, standing in front of a in the street background, the weather is snowy, high photorealistic quality.\n"
     ]
    },
    {
     "name": "stderr",
     "output_type": "stream",
     "text": [
      "100%|██████████| 15/15 [00:07<00:00,  1.94it/s]\n",
      " 42%|████▏     | 416/1000 [1:10:08<1:31:17,  9.38s/it]"
     ]
    },
    {
     "name": "stdout",
     "output_type": "stream",
     "text": [
      "A medium shot view of a young boy holding a colorful cardboard box with yellow tape from the H&M webshop in his hands, standing in front of a in the street background, the weather is rainy, high photorealistic quality.\n"
     ]
    },
    {
     "name": "stderr",
     "output_type": "stream",
     "text": [
      "100%|██████████| 15/15 [00:07<00:00,  1.93it/s]\n",
      " 42%|████▏     | 417/1000 [1:10:17<1:31:06,  9.38s/it]"
     ]
    },
    {
     "name": "stdout",
     "output_type": "stream",
     "text": [
      "A medium shot view of a smiling person holding a brown cardboard box with blue tape from the Adidas webshop in her hands, standing in front of a city center background, the weather is snowy, high photorealistic quality.\n"
     ]
    },
    {
     "name": "stderr",
     "output_type": "stream",
     "text": [
      "100%|██████████| 15/15 [00:07<00:00,  1.94it/s]\n",
      " 42%|████▏     | 418/1000 [1:10:27<1:31:03,  9.39s/it]"
     ]
    },
    {
     "name": "stdout",
     "output_type": "stream",
     "text": [
      "A full shot view of a smiling man holding a colorful cardboard box with black tape from the Zalando webshop in his hands, standing in front of a appartment building background, the weather is cloudy, high photorealistic quality.\n"
     ]
    },
    {
     "name": "stderr",
     "output_type": "stream",
     "text": [
      "100%|██████████| 15/15 [00:07<00:00,  1.94it/s]\n",
      " 42%|████▏     | 419/1000 [1:10:36<1:30:52,  9.38s/it]"
     ]
    },
    {
     "name": "stdout",
     "output_type": "stream",
     "text": [
      "A medium shot view of a happy woman holding a brown cardboard box with blue tape from the Nike webshop in her hands, standing in front of a garbage curb background, the weather is cloudy, high photorealistic quality.\n"
     ]
    },
    {
     "name": "stderr",
     "output_type": "stream",
     "text": [
      "100%|██████████| 15/15 [00:07<00:00,  1.94it/s]\n",
      " 42%|████▏     | 420/1000 [1:10:45<1:30:42,  9.38s/it]"
     ]
    },
    {
     "name": "stdout",
     "output_type": "stream",
     "text": [
      "A full shot view of an old boy holding a black cardboard box with yellow tape from the Zalando webshop in his hands, standing in front of a in the street background, the weather is cloudy, high photorealistic quality.\n"
     ]
    },
    {
     "name": "stderr",
     "output_type": "stream",
     "text": [
      "100%|██████████| 15/15 [00:07<00:00,  1.93it/s]\n",
      " 42%|████▏     | 421/1000 [1:10:55<1:30:35,  9.39s/it]"
     ]
    },
    {
     "name": "stdout",
     "output_type": "stream",
     "text": [
      "A low angle view of a sad woman holding a colorful cardboard box with a qr code from a webshop in her hands, standing in front of a appartment building background, the weather is cloudy, high photorealistic quality.\n"
     ]
    },
    {
     "name": "stderr",
     "output_type": "stream",
     "text": [
      "100%|██████████| 15/15 [00:07<00:00,  1.95it/s]\n",
      " 42%|████▏     | 422/1000 [1:11:04<1:30:17,  9.37s/it]"
     ]
    },
    {
     "name": "stdout",
     "output_type": "stream",
     "text": [
      "A close-up view of a young lady holding a white cardboard box with blue tape from a webshop in her hands, standing in front of a in the street background, the weather is cloudy, high photorealistic quality.\n"
     ]
    },
    {
     "name": "stderr",
     "output_type": "stream",
     "text": [
      "100%|██████████| 15/15 [00:07<00:00,  1.94it/s]\n",
      " 42%|████▏     | 423/1000 [1:11:14<1:30:14,  9.38s/it]"
     ]
    },
    {
     "name": "stdout",
     "output_type": "stream",
     "text": [
      "A medium shot view of a happy woman holding a black cardboard box with blue tape from the Adidas webshop in her hands, standing in front of a quite neighborhood street and garden background, the weather is sunny, high photorealistic quality.\n"
     ]
    },
    {
     "name": "stderr",
     "output_type": "stream",
     "text": [
      "100%|██████████| 15/15 [00:07<00:00,  1.94it/s]\n",
      " 42%|████▏     | 424/1000 [1:11:23<1:30:00,  9.38s/it]"
     ]
    },
    {
     "name": "stdout",
     "output_type": "stream",
     "text": [
      "A long shot view of a happy person holding a colorful cardboard box with a qr code from the Bol.com webshop in her hands, standing in front of a appartment building background, the weather is snowy, high photorealistic quality.\n"
     ]
    },
    {
     "name": "stderr",
     "output_type": "stream",
     "text": [
      "100%|██████████| 15/15 [00:07<00:00,  1.93it/s]\n",
      " 42%|████▎     | 425/1000 [1:11:32<1:29:57,  9.39s/it]"
     ]
    },
    {
     "name": "stdout",
     "output_type": "stream",
     "text": [
      "A full shot view of a young man holding a brown cardboard box with red tape from the Zara webshop in his hands, standing in front of a in the street background, the weather is rainy, high photorealistic quality.\n"
     ]
    },
    {
     "name": "stderr",
     "output_type": "stream",
     "text": [
      "100%|██████████| 15/15 [00:07<00:00,  1.95it/s]\n",
      " 43%|████▎     | 426/1000 [1:11:42<1:29:56,  9.40s/it]"
     ]
    },
    {
     "name": "stdout",
     "output_type": "stream",
     "text": [
      "A close-up view of a smiling man holding a brown cardboard box with a barcode from the Coolblue webshop in his hands, standing in front of a quite neighborhood street and trees background, the weather is snowy, high photorealistic quality.\n"
     ]
    },
    {
     "name": "stderr",
     "output_type": "stream",
     "text": [
      "100%|██████████| 15/15 [00:07<00:00,  1.94it/s]\n",
      " 43%|████▎     | 427/1000 [1:11:51<1:29:47,  9.40s/it]"
     ]
    },
    {
     "name": "stdout",
     "output_type": "stream",
     "text": [
      "A high angle view of a young boy holding a brown cardboard box with green tape from the Nike webshop in his hands, standing in front of a quite neighborhood street and trees background, the weather is rainy, high photorealistic quality.\n"
     ]
    },
    {
     "name": "stderr",
     "output_type": "stream",
     "text": [
      "100%|██████████| 15/15 [00:07<00:00,  1.93it/s]\n",
      " 43%|████▎     | 428/1000 [1:12:01<1:29:42,  9.41s/it]"
     ]
    },
    {
     "name": "stdout",
     "output_type": "stream",
     "text": [
      "A medium shot view of an angry woman holding a brown cardboard box with blue tape from the Bol.com webshop in her hands, standing in front of a appartment building background, the weather is cloudy, high photorealistic quality.\n"
     ]
    },
    {
     "name": "stderr",
     "output_type": "stream",
     "text": [
      "100%|██████████| 15/15 [00:07<00:00,  1.93it/s]\n",
      " 43%|████▎     | 429/1000 [1:12:10<1:29:28,  9.40s/it]"
     ]
    },
    {
     "name": "stdout",
     "output_type": "stream",
     "text": [
      "A medium shot view of an angry person holding a black cardboard box with red tape from the Zalando webshop in her hands, standing in front of a appartment building background, the weather is cloudy, high photorealistic quality.\n"
     ]
    },
    {
     "name": "stderr",
     "output_type": "stream",
     "text": [
      "100%|██████████| 15/15 [00:07<00:00,  1.93it/s]\n",
      " 43%|████▎     | 430/1000 [1:12:19<1:29:18,  9.40s/it]"
     ]
    },
    {
     "name": "stdout",
     "output_type": "stream",
     "text": [
      "A close-up view of a frowning person holding a colorful cardboard box with a qr code from a webshop in her hands, standing in front of a quite neighborhood street and cars background, the weather is rainy, high photorealistic quality.\n"
     ]
    },
    {
     "name": "stderr",
     "output_type": "stream",
     "text": [
      "100%|██████████| 15/15 [00:07<00:00,  1.94it/s]\n",
      " 43%|████▎     | 431/1000 [1:12:29<1:29:04,  9.39s/it]"
     ]
    },
    {
     "name": "stdout",
     "output_type": "stream",
     "text": [
      "A full shot view of a frowning man holding a brown cardboard box with red tape from the Bol.com webshop in his hands, standing in front of a garbage curb background, the weather is snowy, high photorealistic quality.\n"
     ]
    },
    {
     "name": "stderr",
     "output_type": "stream",
     "text": [
      "100%|██████████| 15/15 [00:07<00:00,  1.94it/s]\n",
      " 43%|████▎     | 432/1000 [1:12:38<1:28:43,  9.37s/it]"
     ]
    },
    {
     "name": "stdout",
     "output_type": "stream",
     "text": [
      "A high angle view of a smiling man holding a colorful cardboard box with red tape from the Adidas webshop in his hands, standing in front of a garbage curb background, the weather is cloudy, high photorealistic quality.\n"
     ]
    },
    {
     "name": "stderr",
     "output_type": "stream",
     "text": [
      "100%|██████████| 15/15 [00:07<00:00,  1.94it/s]\n",
      " 43%|████▎     | 433/1000 [1:12:47<1:28:29,  9.37s/it]"
     ]
    },
    {
     "name": "stdout",
     "output_type": "stream",
     "text": [
      "A high angle view of a young woman holding a brown cardboard box with a qr code from the Adidas webshop in her hands, standing in front of a quite neighborhood street and cars background, the weather is cloudy, high photorealistic quality.\n"
     ]
    },
    {
     "name": "stderr",
     "output_type": "stream",
     "text": [
      "100%|██████████| 15/15 [00:07<00:00,  1.93it/s]\n",
      " 43%|████▎     | 434/1000 [1:12:57<1:28:22,  9.37s/it]"
     ]
    },
    {
     "name": "stdout",
     "output_type": "stream",
     "text": [
      "A medium shot view of a smiling woman holding a black cardboard box with green tape from the Amazon webshop in her hands, standing in front of a quite neighborhood street and cars background, the weather is cloudy, high photorealistic quality.\n"
     ]
    },
    {
     "name": "stderr",
     "output_type": "stream",
     "text": [
      "100%|██████████| 15/15 [00:07<00:00,  1.93it/s]\n",
      " 44%|████▎     | 435/1000 [1:13:06<1:28:12,  9.37s/it]"
     ]
    },
    {
     "name": "stdout",
     "output_type": "stream",
     "text": [
      "A low angle view of a smiling woman holding a black cardboard box with a qr code from the Bol.com webshop in her hands, standing in front of a appartment building background, the weather is sunny, high photorealistic quality.\n"
     ]
    },
    {
     "name": "stderr",
     "output_type": "stream",
     "text": [
      "100%|██████████| 15/15 [00:07<00:00,  1.94it/s]\n",
      " 44%|████▎     | 436/1000 [1:13:16<1:28:07,  9.37s/it]"
     ]
    },
    {
     "name": "stdout",
     "output_type": "stream",
     "text": [
      "A high angle view of a happy lady holding a colorful cardboard box with a number from the Zalando webshop in her hands, standing in front of a quite neighborhood street and garden background, the weather is snowy, high photorealistic quality.\n"
     ]
    },
    {
     "name": "stderr",
     "output_type": "stream",
     "text": [
      "100%|██████████| 15/15 [00:07<00:00,  1.94it/s]\n",
      " 44%|████▎     | 437/1000 [1:13:25<1:28:02,  9.38s/it]"
     ]
    },
    {
     "name": "stdout",
     "output_type": "stream",
     "text": [
      "A full shot view of a happy man holding a black cardboard box with black tape from the Coolblue webshop in his hands, standing in front of a city center background, the weather is rainy, high photorealistic quality.\n"
     ]
    },
    {
     "name": "stderr",
     "output_type": "stream",
     "text": [
      "100%|██████████| 15/15 [00:07<00:00,  1.94it/s]\n",
      " 44%|████▍     | 438/1000 [1:13:34<1:27:44,  9.37s/it]"
     ]
    },
    {
     "name": "stdout",
     "output_type": "stream",
     "text": [
      "A high angle view of a happy man holding a brown cardboard box with a number from a webshop in his hands, standing in front of a appartment building background, the weather is rainy, high photorealistic quality.\n"
     ]
    },
    {
     "name": "stderr",
     "output_type": "stream",
     "text": [
      "100%|██████████| 15/15 [00:07<00:00,  1.92it/s]\n",
      " 44%|████▍     | 439/1000 [1:13:44<1:27:44,  9.38s/it]"
     ]
    },
    {
     "name": "stdout",
     "output_type": "stream",
     "text": [
      "A close-up view of an angry man holding a white cardboard box with a qr code from the Zalando webshop in his hands, standing in front of a garbage curb background, the weather is rainy, high photorealistic quality.\n"
     ]
    },
    {
     "name": "stderr",
     "output_type": "stream",
     "text": [
      "100%|██████████| 15/15 [00:07<00:00,  1.94it/s]\n",
      " 44%|████▍     | 440/1000 [1:13:53<1:27:28,  9.37s/it]"
     ]
    },
    {
     "name": "stdout",
     "output_type": "stream",
     "text": [
      "A low angle view of a smiling man holding a colorful cardboard box with blue tape from the Bol.com webshop in his hands, standing in front of a busy city street and people background, the weather is cloudy, high photorealistic quality.\n"
     ]
    },
    {
     "name": "stderr",
     "output_type": "stream",
     "text": [
      "100%|██████████| 15/15 [00:07<00:00,  1.94it/s]\n",
      " 44%|████▍     | 441/1000 [1:14:02<1:27:17,  9.37s/it]"
     ]
    },
    {
     "name": "stdout",
     "output_type": "stream",
     "text": [
      "A full shot view of a sad lady holding a white cardboard box with red tape from the Zara webshop in her hands, standing in front of a quite neighborhood street and garden background, the weather is sunny, high photorealistic quality.\n"
     ]
    },
    {
     "name": "stderr",
     "output_type": "stream",
     "text": [
      "100%|██████████| 15/15 [00:07<00:00,  1.94it/s]\n",
      " 44%|████▍     | 442/1000 [1:14:12<1:27:06,  9.37s/it]"
     ]
    },
    {
     "name": "stdout",
     "output_type": "stream",
     "text": [
      "A high angle view of an old lady holding a colorful cardboard box with green tape from the Coolblue webshop in her hands, standing in front of a quite neighborhood street and cars background, the weather is rainy, high photorealistic quality.\n"
     ]
    },
    {
     "name": "stderr",
     "output_type": "stream",
     "text": [
      "100%|██████████| 15/15 [00:07<00:00,  1.95it/s]\n",
      " 44%|████▍     | 443/1000 [1:14:21<1:26:53,  9.36s/it]"
     ]
    },
    {
     "name": "stdout",
     "output_type": "stream",
     "text": [
      "A long shot view of a happy boy holding a colorful cardboard box with blue tape from the H&M webshop in his hands, standing in front of a busy city street and people background, the weather is sunny, high photorealistic quality.\n"
     ]
    },
    {
     "name": "stderr",
     "output_type": "stream",
     "text": [
      "100%|██████████| 15/15 [00:07<00:00,  1.93it/s]\n",
      " 44%|████▍     | 444/1000 [1:14:31<1:26:54,  9.38s/it]"
     ]
    },
    {
     "name": "stdout",
     "output_type": "stream",
     "text": [
      "A low angle view of an old person holding a brown cardboard box with a number from the H&M webshop in her hands, standing in front of a garbage curb background, the weather is sunny, high photorealistic quality.\n"
     ]
    },
    {
     "name": "stderr",
     "output_type": "stream",
     "text": [
      "100%|██████████| 15/15 [00:07<00:00,  1.94it/s]\n",
      " 44%|████▍     | 445/1000 [1:14:40<1:26:40,  9.37s/it]"
     ]
    },
    {
     "name": "stdout",
     "output_type": "stream",
     "text": [
      "A high angle view of a sad man holding a colorful cardboard box with yellow tape from the H&M webshop in his hands, standing in front of a appartment building background, the weather is sunny, high photorealistic quality.\n"
     ]
    },
    {
     "name": "stderr",
     "output_type": "stream",
     "text": [
      "100%|██████████| 15/15 [00:07<00:00,  1.94it/s]\n",
      " 45%|████▍     | 446/1000 [1:14:49<1:26:26,  9.36s/it]"
     ]
    },
    {
     "name": "stdout",
     "output_type": "stream",
     "text": [
      "A close-up view of a frowning man holding a white cardboard box with black tape from the Coolblue webshop in his hands, standing in front of a busy city street and cars background, the weather is cloudy, high photorealistic quality.\n"
     ]
    },
    {
     "name": "stderr",
     "output_type": "stream",
     "text": [
      "100%|██████████| 15/15 [00:07<00:00,  1.93it/s]\n",
      " 45%|████▍     | 447/1000 [1:14:59<1:26:20,  9.37s/it]"
     ]
    },
    {
     "name": "stdout",
     "output_type": "stream",
     "text": [
      "A low angle view of an old lady holding a colorful cardboard box with red tape from the Amazon webshop in her hands, standing in front of a in the street background, the weather is snowy, high photorealistic quality.\n"
     ]
    },
    {
     "name": "stderr",
     "output_type": "stream",
     "text": [
      "100%|██████████| 15/15 [00:07<00:00,  1.94it/s]\n",
      " 45%|████▍     | 448/1000 [1:15:08<1:26:09,  9.36s/it]"
     ]
    },
    {
     "name": "stdout",
     "output_type": "stream",
     "text": [
      "A high angle view of an old woman holding a white cardboard box with black tape from the Bol.com webshop in her hands, standing in front of a busy city street and cars background, the weather is cloudy, high photorealistic quality.\n"
     ]
    },
    {
     "name": "stderr",
     "output_type": "stream",
     "text": [
      "100%|██████████| 15/15 [00:07<00:00,  1.94it/s]\n",
      " 45%|████▍     | 449/1000 [1:15:17<1:26:05,  9.37s/it]"
     ]
    },
    {
     "name": "stdout",
     "output_type": "stream",
     "text": [
      "A full shot view of an old person holding a black cardboard box with red tape from the Coolblue webshop in her hands, standing in front of a busy city street and cars background, the weather is rainy, high photorealistic quality.\n"
     ]
    },
    {
     "name": "stderr",
     "output_type": "stream",
     "text": [
      "100%|██████████| 15/15 [00:07<00:00,  1.95it/s]\n",
      " 45%|████▌     | 450/1000 [1:15:27<1:25:58,  9.38s/it]"
     ]
    },
    {
     "name": "stdout",
     "output_type": "stream",
     "text": [
      "A long shot view of an old woman holding a brown cardboard box with blue tape from the Zalando webshop in her hands, standing in front of a busy city street and people background, the weather is cloudy, high photorealistic quality.\n"
     ]
    },
    {
     "name": "stderr",
     "output_type": "stream",
     "text": [
      "100%|██████████| 15/15 [00:07<00:00,  1.94it/s]\n",
      " 45%|████▌     | 451/1000 [1:15:36<1:25:53,  9.39s/it]"
     ]
    },
    {
     "name": "stdout",
     "output_type": "stream",
     "text": [
      "A high angle view of a smiling lady holding a brown cardboard box with red tape from the Zara webshop in her hands, standing in front of a garbage curb background, the weather is cloudy, high photorealistic quality.\n"
     ]
    },
    {
     "name": "stderr",
     "output_type": "stream",
     "text": [
      "100%|██████████| 15/15 [00:07<00:00,  1.95it/s]\n",
      " 45%|████▌     | 452/1000 [1:15:46<1:25:41,  9.38s/it]"
     ]
    },
    {
     "name": "stdout",
     "output_type": "stream",
     "text": [
      "A medium shot view of an old woman holding a white cardboard box with red tape from the Nike webshop in her hands, standing in front of a quite neighborhood street and trees background, the weather is sunny, high photorealistic quality.\n"
     ]
    },
    {
     "name": "stderr",
     "output_type": "stream",
     "text": [
      "100%|██████████| 15/15 [00:07<00:00,  1.93it/s]\n",
      " 45%|████▌     | 453/1000 [1:15:55<1:25:34,  9.39s/it]"
     ]
    },
    {
     "name": "stdout",
     "output_type": "stream",
     "text": [
      "A close-up view of a frowning man holding a black cardboard box with black tape from the Zara webshop in his hands, standing in front of a busy city street and cars background, the weather is snowy, high photorealistic quality.\n"
     ]
    },
    {
     "name": "stderr",
     "output_type": "stream",
     "text": [
      "100%|██████████| 15/15 [00:07<00:00,  1.93it/s]\n",
      " 45%|████▌     | 454/1000 [1:16:04<1:25:23,  9.38s/it]"
     ]
    },
    {
     "name": "stdout",
     "output_type": "stream",
     "text": [
      "A full shot view of an old person holding a white cardboard box with blue tape from the Nike webshop in her hands, standing in front of a busy city street and cars background, the weather is rainy, high photorealistic quality.\n"
     ]
    },
    {
     "name": "stderr",
     "output_type": "stream",
     "text": [
      "100%|██████████| 15/15 [00:07<00:00,  1.94it/s]\n",
      " 46%|████▌     | 455/1000 [1:16:14<1:25:10,  9.38s/it]"
     ]
    },
    {
     "name": "stdout",
     "output_type": "stream",
     "text": [
      "A full shot view of a smiling man holding a white cardboard box with black tape from a webshop in his hands, standing in front of a quite neighborhood street and garden background, the weather is sunny, high photorealistic quality.\n"
     ]
    },
    {
     "name": "stderr",
     "output_type": "stream",
     "text": [
      "100%|██████████| 15/15 [00:07<00:00,  1.94it/s]\n",
      " 46%|████▌     | 456/1000 [1:16:23<1:24:59,  9.37s/it]"
     ]
    },
    {
     "name": "stdout",
     "output_type": "stream",
     "text": [
      "A high angle view of an old boy holding a colorful cardboard box with red tape from the Adidas webshop in his hands, standing in front of a busy city street and cars background, the weather is sunny, high photorealistic quality.\n"
     ]
    },
    {
     "name": "stderr",
     "output_type": "stream",
     "text": [
      "100%|██████████| 15/15 [00:07<00:00,  1.93it/s]\n",
      " 46%|████▌     | 457/1000 [1:16:33<1:25:01,  9.40s/it]"
     ]
    },
    {
     "name": "stdout",
     "output_type": "stream",
     "text": [
      "A high angle view of a young person holding a black cardboard box with black tape from the Amazon webshop in her hands, standing in front of a busy city street and cars background, the weather is rainy, high photorealistic quality.\n"
     ]
    },
    {
     "name": "stderr",
     "output_type": "stream",
     "text": [
      "100%|██████████| 15/15 [00:07<00:00,  1.93it/s]\n",
      " 46%|████▌     | 458/1000 [1:16:42<1:24:54,  9.40s/it]"
     ]
    },
    {
     "name": "stdout",
     "output_type": "stream",
     "text": [
      "A close-up view of an angry woman holding a brown cardboard box with green tape from the Zalando webshop in her hands, standing in front of a in the street background, the weather is cloudy, high photorealistic quality.\n"
     ]
    },
    {
     "name": "stderr",
     "output_type": "stream",
     "text": [
      "100%|██████████| 15/15 [00:07<00:00,  1.94it/s]\n",
      " 46%|████▌     | 459/1000 [1:16:51<1:24:36,  9.38s/it]"
     ]
    },
    {
     "name": "stdout",
     "output_type": "stream",
     "text": [
      "A long shot view of an old man holding a brown cardboard box with green tape from the Zara webshop in his hands, standing in front of a garbage curb background, the weather is cloudy, high photorealistic quality.\n"
     ]
    },
    {
     "name": "stderr",
     "output_type": "stream",
     "text": [
      "100%|██████████| 15/15 [00:07<00:00,  1.94it/s]\n",
      " 46%|████▌     | 460/1000 [1:17:01<1:24:27,  9.38s/it]"
     ]
    },
    {
     "name": "stdout",
     "output_type": "stream",
     "text": [
      "A full shot view of a frowning lady holding a black cardboard box with a barcode from the H&M webshop in her hands, standing in front of a quite neighborhood street and garden background, the weather is snowy, high photorealistic quality.\n"
     ]
    },
    {
     "name": "stderr",
     "output_type": "stream",
     "text": [
      "100%|██████████| 15/15 [00:07<00:00,  1.94it/s]\n",
      " 46%|████▌     | 461/1000 [1:17:10<1:24:10,  9.37s/it]"
     ]
    },
    {
     "name": "stdout",
     "output_type": "stream",
     "text": [
      "A medium shot view of a frowning lady holding a brown cardboard box with green tape from the Zalando webshop in her hands, standing in front of a in the street background, the weather is cloudy, high photorealistic quality.\n"
     ]
    },
    {
     "name": "stderr",
     "output_type": "stream",
     "text": [
      "100%|██████████| 15/15 [00:07<00:00,  1.94it/s]\n",
      " 46%|████▌     | 462/1000 [1:17:19<1:24:01,  9.37s/it]"
     ]
    },
    {
     "name": "stdout",
     "output_type": "stream",
     "text": [
      "A close-up view of a young boy holding a white cardboard box with a barcode from the Coolblue webshop in his hands, standing in front of a busy city street and people background, the weather is rainy, high photorealistic quality.\n"
     ]
    },
    {
     "name": "stderr",
     "output_type": "stream",
     "text": [
      "100%|██████████| 15/15 [00:07<00:00,  1.94it/s]\n",
      " 46%|████▋     | 463/1000 [1:17:29<1:23:58,  9.38s/it]"
     ]
    },
    {
     "name": "stdout",
     "output_type": "stream",
     "text": [
      "A full shot view of a smiling lady holding a white cardboard box with red tape from the Adidas webshop in her hands, standing in front of a quite neighborhood street and garden background, the weather is cloudy, high photorealistic quality.\n"
     ]
    },
    {
     "name": "stderr",
     "output_type": "stream",
     "text": [
      "100%|██████████| 15/15 [00:07<00:00,  1.95it/s]\n",
      " 46%|████▋     | 464/1000 [1:17:38<1:23:46,  9.38s/it]"
     ]
    },
    {
     "name": "stdout",
     "output_type": "stream",
     "text": [
      "A high angle view of a sad woman holding a brown cardboard box with black tape from the Nike webshop in her hands, standing in front of a city center background, the weather is cloudy, high photorealistic quality.\n"
     ]
    },
    {
     "name": "stderr",
     "output_type": "stream",
     "text": [
      "100%|██████████| 15/15 [00:07<00:00,  1.94it/s]\n",
      " 46%|████▋     | 465/1000 [1:17:48<1:23:44,  9.39s/it]"
     ]
    },
    {
     "name": "stdout",
     "output_type": "stream",
     "text": [
      "A full shot view of an old boy holding a colorful cardboard box with black tape from a webshop in his hands, standing in front of a quite neighborhood street and trees background, the weather is sunny, high photorealistic quality.\n"
     ]
    },
    {
     "name": "stderr",
     "output_type": "stream",
     "text": [
      "100%|██████████| 15/15 [00:07<00:00,  1.95it/s]\n",
      " 47%|████▋     | 466/1000 [1:17:57<1:23:34,  9.39s/it]"
     ]
    },
    {
     "name": "stdout",
     "output_type": "stream",
     "text": [
      "A low angle view of a sad man holding a black cardboard box with black tape from the Amazon webshop in his hands, standing in front of a appartment building background, the weather is sunny, high photorealistic quality.\n"
     ]
    },
    {
     "name": "stderr",
     "output_type": "stream",
     "text": [
      "100%|██████████| 15/15 [00:07<00:00,  1.94it/s]\n",
      " 47%|████▋     | 467/1000 [1:18:06<1:23:22,  9.39s/it]"
     ]
    },
    {
     "name": "stdout",
     "output_type": "stream",
     "text": [
      "A medium shot view of an old man holding a brown cardboard box with green tape from the Zara webshop in his hands, standing in front of a quite neighborhood street and cars background, the weather is cloudy, high photorealistic quality.\n"
     ]
    },
    {
     "name": "stderr",
     "output_type": "stream",
     "text": [
      "100%|██████████| 15/15 [00:07<00:00,  1.94it/s]\n",
      " 47%|████▋     | 468/1000 [1:18:16<1:23:14,  9.39s/it]"
     ]
    },
    {
     "name": "stdout",
     "output_type": "stream",
     "text": [
      "A medium shot view of a frowning boy holding a black cardboard box with black tape from a webshop in his hands, standing in front of a quite neighborhood street and garden background, the weather is snowy, high photorealistic quality.\n"
     ]
    },
    {
     "name": "stderr",
     "output_type": "stream",
     "text": [
      "100%|██████████| 15/15 [00:07<00:00,  1.94it/s]\n",
      " 47%|████▋     | 469/1000 [1:18:25<1:22:55,  9.37s/it]"
     ]
    },
    {
     "name": "stdout",
     "output_type": "stream",
     "text": [
      "A long shot view of a young woman holding a brown cardboard box with yellow tape from a webshop in her hands, standing in front of a busy city street and cars background, the weather is cloudy, high photorealistic quality.\n"
     ]
    },
    {
     "name": "stderr",
     "output_type": "stream",
     "text": [
      "100%|██████████| 15/15 [00:07<00:00,  1.93it/s]\n",
      " 47%|████▋     | 470/1000 [1:18:35<1:22:57,  9.39s/it]"
     ]
    },
    {
     "name": "stdout",
     "output_type": "stream",
     "text": [
      "A long shot view of an angry lady holding a black cardboard box with yellow tape from the Amazon webshop in her hands, standing in front of a busy city street and cars background, the weather is rainy, high photorealistic quality.\n"
     ]
    },
    {
     "name": "stderr",
     "output_type": "stream",
     "text": [
      "100%|██████████| 15/15 [00:07<00:00,  1.93it/s]\n",
      " 47%|████▋     | 471/1000 [1:18:44<1:23:10,  9.43s/it]"
     ]
    },
    {
     "name": "stdout",
     "output_type": "stream",
     "text": [
      "A medium shot view of an angry lady holding a colorful cardboard box with blue tape from a webshop in her hands, standing in front of a quite neighborhood street and trees background, the weather is rainy, high photorealistic quality.\n"
     ]
    },
    {
     "name": "stderr",
     "output_type": "stream",
     "text": [
      "100%|██████████| 15/15 [00:07<00:00,  1.94it/s]\n",
      " 47%|████▋     | 472/1000 [1:18:54<1:23:04,  9.44s/it]"
     ]
    },
    {
     "name": "stdout",
     "output_type": "stream",
     "text": [
      "A low angle view of a sad man holding a colorful cardboard box with a barcode from the Nike webshop in his hands, standing in front of a in the street background, the weather is rainy, high photorealistic quality.\n"
     ]
    },
    {
     "name": "stderr",
     "output_type": "stream",
     "text": [
      "100%|██████████| 15/15 [00:07<00:00,  1.94it/s]\n",
      " 47%|████▋     | 473/1000 [1:19:03<1:22:43,  9.42s/it]"
     ]
    },
    {
     "name": "stdout",
     "output_type": "stream",
     "text": [
      "A close-up view of a young boy holding a black cardboard box with red tape from the Nike webshop in his hands, standing in front of a quite neighborhood street and garden background, the weather is cloudy, high photorealistic quality.\n"
     ]
    },
    {
     "name": "stderr",
     "output_type": "stream",
     "text": [
      "100%|██████████| 15/15 [00:07<00:00,  1.94it/s]\n",
      " 47%|████▋     | 474/1000 [1:19:12<1:22:18,  9.39s/it]"
     ]
    },
    {
     "name": "stdout",
     "output_type": "stream",
     "text": [
      "A close-up view of a happy person holding a white cardboard box with blue tape from the Coolblue webshop in her hands, standing in front of a garbage curb background, the weather is rainy, high photorealistic quality.\n"
     ]
    },
    {
     "name": "stderr",
     "output_type": "stream",
     "text": [
      "100%|██████████| 15/15 [00:07<00:00,  1.93it/s]\n",
      " 48%|████▊     | 475/1000 [1:19:22<1:22:06,  9.38s/it]"
     ]
    },
    {
     "name": "stdout",
     "output_type": "stream",
     "text": [
      "A low angle view of an angry man holding a black cardboard box with a barcode from the Coolblue webshop in his hands, standing in front of a quite neighborhood street and trees background, the weather is sunny, high photorealistic quality.\n"
     ]
    },
    {
     "name": "stderr",
     "output_type": "stream",
     "text": [
      "100%|██████████| 15/15 [00:07<00:00,  1.93it/s]\n",
      " 48%|████▊     | 476/1000 [1:19:31<1:21:56,  9.38s/it]"
     ]
    },
    {
     "name": "stdout",
     "output_type": "stream",
     "text": [
      "A full shot view of an angry man holding a brown cardboard box with yellow tape from the Nike webshop in his hands, standing in front of a in the street background, the weather is snowy, high photorealistic quality.\n"
     ]
    },
    {
     "name": "stderr",
     "output_type": "stream",
     "text": [
      "100%|██████████| 15/15 [00:07<00:00,  1.94it/s]\n",
      " 48%|████▊     | 477/1000 [1:19:40<1:22:00,  9.41s/it]"
     ]
    },
    {
     "name": "stdout",
     "output_type": "stream",
     "text": [
      "A high angle view of a happy person holding a brown cardboard box with green tape from a webshop in her hands, standing in front of a quite neighborhood street and cars background, the weather is rainy, high photorealistic quality.\n"
     ]
    },
    {
     "name": "stderr",
     "output_type": "stream",
     "text": [
      "100%|██████████| 15/15 [00:07<00:00,  1.93it/s]\n",
      " 48%|████▊     | 478/1000 [1:19:50<1:22:07,  9.44s/it]"
     ]
    },
    {
     "name": "stdout",
     "output_type": "stream",
     "text": [
      "A full shot view of an old woman holding a colorful cardboard box with a number from the Amazon webshop in her hands, standing in front of a city center background, the weather is rainy, high photorealistic quality.\n"
     ]
    },
    {
     "name": "stderr",
     "output_type": "stream",
     "text": [
      "100%|██████████| 15/15 [00:07<00:00,  1.94it/s]\n",
      " 48%|████▊     | 479/1000 [1:19:59<1:22:04,  9.45s/it]"
     ]
    },
    {
     "name": "stdout",
     "output_type": "stream",
     "text": [
      "A long shot view of a young man holding a white cardboard box with a barcode from the Zalando webshop in his hands, standing in front of a quite neighborhood street and garden background, the weather is sunny, high photorealistic quality.\n"
     ]
    },
    {
     "name": "stderr",
     "output_type": "stream",
     "text": [
      "100%|██████████| 15/15 [00:07<00:00,  1.94it/s]\n",
      " 48%|████▊     | 480/1000 [1:20:09<1:21:45,  9.43s/it]"
     ]
    },
    {
     "name": "stdout",
     "output_type": "stream",
     "text": [
      "A close-up view of a smiling man holding a brown cardboard box with yellow tape from a webshop in his hands, standing in front of a quite neighborhood street and trees background, the weather is snowy, high photorealistic quality.\n"
     ]
    },
    {
     "name": "stderr",
     "output_type": "stream",
     "text": [
      "100%|██████████| 15/15 [00:07<00:00,  1.89it/s]\n",
      " 48%|████▊     | 481/1000 [1:20:19<1:22:24,  9.53s/it]"
     ]
    },
    {
     "name": "stdout",
     "output_type": "stream",
     "text": [
      "A high angle view of an angry person holding a white cardboard box with red tape from the Adidas webshop in her hands, standing in front of a quite neighborhood street and cars background, the weather is rainy, high photorealistic quality.\n"
     ]
    },
    {
     "name": "stderr",
     "output_type": "stream",
     "text": [
      "100%|██████████| 15/15 [00:07<00:00,  1.95it/s]\n",
      " 48%|████▊     | 482/1000 [1:20:28<1:21:55,  9.49s/it]"
     ]
    },
    {
     "name": "stdout",
     "output_type": "stream",
     "text": [
      "A full shot view of a frowning person holding a brown cardboard box with blue tape from the Nike webshop in her hands, standing in front of a busy city street and people background, the weather is sunny, high photorealistic quality.\n"
     ]
    },
    {
     "name": "stderr",
     "output_type": "stream",
     "text": [
      "100%|██████████| 15/15 [00:07<00:00,  1.96it/s]\n",
      " 48%|████▊     | 483/1000 [1:20:37<1:21:28,  9.46s/it]"
     ]
    },
    {
     "name": "stdout",
     "output_type": "stream",
     "text": [
      "A full shot view of a happy person holding a white cardboard box with blue tape from the Adidas webshop in her hands, standing in front of a city center background, the weather is snowy, high photorealistic quality.\n"
     ]
    },
    {
     "name": "stderr",
     "output_type": "stream",
     "text": [
      "100%|██████████| 15/15 [00:07<00:00,  1.96it/s]\n",
      " 48%|████▊     | 484/1000 [1:20:47<1:21:06,  9.43s/it]"
     ]
    },
    {
     "name": "stdout",
     "output_type": "stream",
     "text": [
      "A high angle view of a young man holding a brown cardboard box with a qr code from the H&M webshop in his hands, standing in front of a city center background, the weather is cloudy, high photorealistic quality.\n"
     ]
    },
    {
     "name": "stderr",
     "output_type": "stream",
     "text": [
      "100%|██████████| 15/15 [00:07<00:00,  1.95it/s]\n",
      " 48%|████▊     | 485/1000 [1:20:56<1:20:36,  9.39s/it]"
     ]
    },
    {
     "name": "stdout",
     "output_type": "stream",
     "text": [
      "A medium shot view of a smiling man holding a colorful cardboard box with blue tape from the Coolblue webshop in his hands, standing in front of a in the street background, the weather is sunny, high photorealistic quality.\n"
     ]
    },
    {
     "name": "stderr",
     "output_type": "stream",
     "text": [
      "100%|██████████| 15/15 [00:07<00:00,  1.95it/s]\n",
      " 49%|████▊     | 486/1000 [1:21:05<1:20:23,  9.38s/it]"
     ]
    },
    {
     "name": "stdout",
     "output_type": "stream",
     "text": [
      "A medium shot view of a young person holding a white cardboard box with red tape from a webshop in her hands, standing in front of a city center background, the weather is cloudy, high photorealistic quality.\n"
     ]
    },
    {
     "name": "stderr",
     "output_type": "stream",
     "text": [
      "100%|██████████| 15/15 [00:07<00:00,  1.96it/s]\n",
      " 49%|████▊     | 487/1000 [1:21:15<1:20:14,  9.39s/it]"
     ]
    },
    {
     "name": "stdout",
     "output_type": "stream",
     "text": [
      "A long shot view of a sad man holding a brown cardboard box with red tape from the Coolblue webshop in his hands, standing in front of a quite neighborhood street and garden background, the weather is sunny, high photorealistic quality.\n"
     ]
    },
    {
     "name": "stderr",
     "output_type": "stream",
     "text": [
      "100%|██████████| 15/15 [00:07<00:00,  1.96it/s]\n",
      " 49%|████▉     | 488/1000 [1:21:24<1:19:56,  9.37s/it]"
     ]
    },
    {
     "name": "stdout",
     "output_type": "stream",
     "text": [
      "A close-up view of a young lady holding a white cardboard box with a number from the Coolblue webshop in her hands, standing in front of a busy city street and cars background, the weather is cloudy, high photorealistic quality.\n"
     ]
    },
    {
     "name": "stderr",
     "output_type": "stream",
     "text": [
      "100%|██████████| 15/15 [00:07<00:00,  1.95it/s]\n",
      " 49%|████▉     | 489/1000 [1:21:33<1:19:40,  9.36s/it]"
     ]
    },
    {
     "name": "stdout",
     "output_type": "stream",
     "text": [
      "A low angle view of an old woman holding a white cardboard box with a number from the Coolblue webshop in her hands, standing in front of a appartment building background, the weather is snowy, high photorealistic quality.\n"
     ]
    },
    {
     "name": "stderr",
     "output_type": "stream",
     "text": [
      "100%|██████████| 15/15 [00:07<00:00,  1.95it/s]\n",
      " 49%|████▉     | 490/1000 [1:21:43<1:19:29,  9.35s/it]"
     ]
    },
    {
     "name": "stdout",
     "output_type": "stream",
     "text": [
      "A high angle view of a sad woman holding a brown cardboard box with a qr code from the Amazon webshop in her hands, standing in front of a busy city street and cars background, the weather is sunny, high photorealistic quality.\n"
     ]
    },
    {
     "name": "stderr",
     "output_type": "stream",
     "text": [
      "100%|██████████| 15/15 [00:07<00:00,  1.94it/s]\n",
      " 49%|████▉     | 491/1000 [1:21:52<1:19:22,  9.36s/it]"
     ]
    },
    {
     "name": "stdout",
     "output_type": "stream",
     "text": [
      "A long shot view of a sad woman holding a colorful cardboard box with a qr code from the Zalando webshop in her hands, standing in front of a garbage curb background, the weather is cloudy, high photorealistic quality.\n"
     ]
    },
    {
     "name": "stderr",
     "output_type": "stream",
     "text": [
      "100%|██████████| 15/15 [00:07<00:00,  1.95it/s]\n",
      " 49%|████▉     | 492/1000 [1:22:01<1:19:12,  9.36s/it]"
     ]
    },
    {
     "name": "stdout",
     "output_type": "stream",
     "text": [
      "A close-up view of a young woman holding a white cardboard box with a number from the Zalando webshop in her hands, standing in front of a quite neighborhood street and garden background, the weather is snowy, high photorealistic quality.\n"
     ]
    },
    {
     "name": "stderr",
     "output_type": "stream",
     "text": [
      "100%|██████████| 15/15 [00:07<00:00,  1.95it/s]\n",
      " 49%|████▉     | 493/1000 [1:22:11<1:18:54,  9.34s/it]"
     ]
    },
    {
     "name": "stdout",
     "output_type": "stream",
     "text": [
      "A close-up view of a sad person holding a colorful cardboard box with red tape from the Zalando webshop in her hands, standing in front of a garbage curb background, the weather is snowy, high photorealistic quality.\n"
     ]
    },
    {
     "name": "stderr",
     "output_type": "stream",
     "text": [
      "100%|██████████| 15/15 [00:07<00:00,  1.95it/s]\n",
      " 49%|████▉     | 494/1000 [1:22:20<1:18:42,  9.33s/it]"
     ]
    },
    {
     "name": "stdout",
     "output_type": "stream",
     "text": [
      "A medium shot view of an old person holding a white cardboard box with a qr code from the Coolblue webshop in her hands, standing in front of a appartment building background, the weather is snowy, high photorealistic quality.\n"
     ]
    },
    {
     "name": "stderr",
     "output_type": "stream",
     "text": [
      "100%|██████████| 15/15 [00:07<00:00,  1.96it/s]\n",
      " 50%|████▉     | 495/1000 [1:22:29<1:18:39,  9.35s/it]"
     ]
    },
    {
     "name": "stdout",
     "output_type": "stream",
     "text": [
      "A close-up view of a sad lady holding a black cardboard box with yellow tape from a webshop in her hands, standing in front of a busy city street and cars background, the weather is cloudy, high photorealistic quality.\n"
     ]
    },
    {
     "name": "stderr",
     "output_type": "stream",
     "text": [
      "100%|██████████| 15/15 [00:07<00:00,  1.94it/s]\n",
      " 50%|████▉     | 496/1000 [1:22:39<1:18:30,  9.35s/it]"
     ]
    },
    {
     "name": "stdout",
     "output_type": "stream",
     "text": [
      "A low angle view of a happy woman holding a white cardboard box with blue tape from the Amazon webshop in her hands, standing in front of a quite neighborhood street and trees background, the weather is sunny, high photorealistic quality.\n"
     ]
    },
    {
     "name": "stderr",
     "output_type": "stream",
     "text": [
      "100%|██████████| 15/15 [00:07<00:00,  1.94it/s]\n",
      " 50%|████▉     | 497/1000 [1:22:48<1:18:31,  9.37s/it]"
     ]
    },
    {
     "name": "stdout",
     "output_type": "stream",
     "text": [
      "A full shot view of a frowning boy holding a colorful cardboard box with a qr code from the Coolblue webshop in his hands, standing in front of a quite neighborhood street and cars background, the weather is sunny, high photorealistic quality.\n"
     ]
    },
    {
     "name": "stderr",
     "output_type": "stream",
     "text": [
      "100%|██████████| 15/15 [00:07<00:00,  1.93it/s]\n",
      " 50%|████▉     | 498/1000 [1:22:58<1:18:26,  9.38s/it]"
     ]
    },
    {
     "name": "stdout",
     "output_type": "stream",
     "text": [
      "A close-up view of a frowning lady holding a colorful cardboard box with a qr code from the Bol.com webshop in her hands, standing in front of a garbage curb background, the weather is sunny, high photorealistic quality.\n"
     ]
    },
    {
     "name": "stderr",
     "output_type": "stream",
     "text": [
      "100%|██████████| 15/15 [00:07<00:00,  1.97it/s]\n",
      " 50%|████▉     | 499/1000 [1:23:07<1:18:05,  9.35s/it]"
     ]
    },
    {
     "name": "stdout",
     "output_type": "stream",
     "text": [
      "A close-up view of a frowning woman holding a white cardboard box with black tape from the Zara webshop in her hands, standing in front of a garbage curb background, the weather is cloudy, high photorealistic quality.\n"
     ]
    },
    {
     "name": "stderr",
     "output_type": "stream",
     "text": [
      "100%|██████████| 15/15 [00:07<00:00,  1.97it/s]\n",
      " 50%|█████     | 500/1000 [1:23:16<1:17:40,  9.32s/it]"
     ]
    },
    {
     "name": "stdout",
     "output_type": "stream",
     "text": [
      "A close-up view of a frowning boy holding a colorful cardboard box with a barcode from the H&M webshop in his hands, standing in front of a busy city street and cars background, the weather is cloudy, high photorealistic quality.\n"
     ]
    },
    {
     "name": "stderr",
     "output_type": "stream",
     "text": [
      "100%|██████████| 15/15 [00:07<00:00,  1.96it/s]\n",
      " 50%|█████     | 501/1000 [1:23:26<1:17:39,  9.34s/it]"
     ]
    },
    {
     "name": "stdout",
     "output_type": "stream",
     "text": [
      "A high angle view of a young person holding a colorful cardboard box with red tape from the Bol.com webshop in her hands, standing in front of a quite neighborhood street and trees background, the weather is cloudy, high photorealistic quality.\n"
     ]
    },
    {
     "name": "stderr",
     "output_type": "stream",
     "text": [
      "100%|██████████| 15/15 [00:07<00:00,  1.96it/s]\n",
      " 50%|█████     | 502/1000 [1:23:35<1:17:32,  9.34s/it]"
     ]
    },
    {
     "name": "stdout",
     "output_type": "stream",
     "text": [
      "A low angle view of a sad man holding a black cardboard box with red tape from the Zalando webshop in his hands, standing in front of a city center background, the weather is cloudy, high photorealistic quality.\n"
     ]
    },
    {
     "name": "stderr",
     "output_type": "stream",
     "text": [
      "100%|██████████| 15/15 [00:07<00:00,  1.93it/s]\n",
      " 50%|█████     | 503/1000 [1:23:44<1:17:26,  9.35s/it]"
     ]
    },
    {
     "name": "stdout",
     "output_type": "stream",
     "text": [
      "A medium shot view of a happy woman holding a colorful cardboard box with red tape from the Nike webshop in her hands, standing in front of a appartment building background, the weather is sunny, high photorealistic quality.\n"
     ]
    },
    {
     "name": "stderr",
     "output_type": "stream",
     "text": [
      "100%|██████████| 15/15 [00:07<00:00,  1.94it/s]\n",
      " 50%|█████     | 504/1000 [1:23:54<1:17:23,  9.36s/it]"
     ]
    },
    {
     "name": "stdout",
     "output_type": "stream",
     "text": [
      "A high angle view of a frowning man holding a brown cardboard box with a qr code from the Coolblue webshop in his hands, standing in front of a in the street background, the weather is rainy, high photorealistic quality.\n"
     ]
    },
    {
     "name": "stderr",
     "output_type": "stream",
     "text": [
      "100%|██████████| 15/15 [00:07<00:00,  1.95it/s]\n",
      " 50%|█████     | 505/1000 [1:24:03<1:17:05,  9.34s/it]"
     ]
    },
    {
     "name": "stdout",
     "output_type": "stream",
     "text": [
      "A low angle view of a frowning lady holding a colorful cardboard box with a barcode from the H&M webshop in her hands, standing in front of a city center background, the weather is snowy, high photorealistic quality.\n"
     ]
    },
    {
     "name": "stderr",
     "output_type": "stream",
     "text": [
      "100%|██████████| 15/15 [00:07<00:00,  1.88it/s]\n",
      " 51%|█████     | 506/1000 [1:24:13<1:17:48,  9.45s/it]"
     ]
    },
    {
     "name": "stdout",
     "output_type": "stream",
     "text": [
      "A close-up view of a sad lady holding a white cardboard box with red tape from the Zara webshop in her hands, standing in front of a city center background, the weather is snowy, high photorealistic quality.\n"
     ]
    },
    {
     "name": "stderr",
     "output_type": "stream",
     "text": [
      "100%|██████████| 15/15 [00:07<00:00,  1.93it/s]\n",
      " 51%|█████     | 507/1000 [1:24:22<1:17:26,  9.42s/it]"
     ]
    },
    {
     "name": "stdout",
     "output_type": "stream",
     "text": [
      "A close-up view of a frowning lady holding a black cardboard box with a number from the Bol.com webshop in her hands, standing in front of a garbage curb background, the weather is rainy, high photorealistic quality.\n"
     ]
    },
    {
     "name": "stderr",
     "output_type": "stream",
     "text": [
      "100%|██████████| 15/15 [00:07<00:00,  1.91it/s]\n",
      " 51%|█████     | 508/1000 [1:24:32<1:17:51,  9.49s/it]"
     ]
    },
    {
     "name": "stdout",
     "output_type": "stream",
     "text": [
      "A close-up view of a smiling woman holding a colorful cardboard box with yellow tape from a webshop in her hands, standing in front of a quite neighborhood street and cars background, the weather is rainy, high photorealistic quality.\n"
     ]
    },
    {
     "name": "stderr",
     "output_type": "stream",
     "text": [
      "100%|██████████| 15/15 [00:07<00:00,  1.91it/s]\n",
      " 51%|█████     | 509/1000 [1:24:41<1:17:55,  9.52s/it]"
     ]
    },
    {
     "name": "stdout",
     "output_type": "stream",
     "text": [
      "A high angle view of a frowning boy holding a white cardboard box with a barcode from the H&M webshop in his hands, standing in front of a busy city street and people background, the weather is cloudy, high photorealistic quality.\n"
     ]
    },
    {
     "name": "stderr",
     "output_type": "stream",
     "text": [
      "100%|██████████| 15/15 [00:09<00:00,  1.61it/s]\n",
      " 51%|█████     | 510/1000 [1:24:53<1:22:06, 10.05s/it]"
     ]
    },
    {
     "name": "stdout",
     "output_type": "stream",
     "text": [
      "A long shot view of a sad man holding a colorful cardboard box with a qr code from the Zara webshop in his hands, standing in front of a quite neighborhood street and trees background, the weather is cloudy, high photorealistic quality.\n"
     ]
    },
    {
     "name": "stderr",
     "output_type": "stream",
     "text": [
      "100%|██████████| 15/15 [00:09<00:00,  1.65it/s]\n",
      " 51%|█████     | 511/1000 [1:25:04<1:24:36, 10.38s/it]"
     ]
    },
    {
     "name": "stdout",
     "output_type": "stream",
     "text": [
      "A medium shot view of a smiling woman holding a white cardboard box with green tape from the Coolblue webshop in her hands, standing in front of a appartment building background, the weather is rainy, high photorealistic quality.\n"
     ]
    },
    {
     "name": "stderr",
     "output_type": "stream",
     "text": [
      "100%|██████████| 15/15 [00:08<00:00,  1.72it/s]\n",
      " 51%|█████     | 512/1000 [1:25:14<1:25:16, 10.49s/it]"
     ]
    },
    {
     "name": "stdout",
     "output_type": "stream",
     "text": [
      "A full shot view of an old person holding a white cardboard box with a barcode from the Adidas webshop in her hands, standing in front of a city center background, the weather is sunny, high photorealistic quality.\n"
     ]
    },
    {
     "name": "stderr",
     "output_type": "stream",
     "text": [
      "100%|██████████| 15/15 [00:08<00:00,  1.78it/s]\n",
      " 51%|█████▏    | 513/1000 [1:25:25<1:26:04, 10.60s/it]"
     ]
    },
    {
     "name": "stdout",
     "output_type": "stream",
     "text": [
      "A high angle view of a happy person holding a colorful cardboard box with a barcode from the Adidas webshop in her hands, standing in front of a quite neighborhood street and trees background, the weather is rainy, high photorealistic quality.\n"
     ]
    },
    {
     "name": "stderr",
     "output_type": "stream",
     "text": [
      "100%|██████████| 15/15 [00:09<00:00,  1.51it/s]\n",
      " 51%|█████▏    | 514/1000 [1:25:38<1:30:01, 11.11s/it]"
     ]
    },
    {
     "name": "stdout",
     "output_type": "stream",
     "text": [
      "A high angle view of a sad boy holding a white cardboard box with a barcode from the Adidas webshop in his hands, standing in front of a busy city street and cars background, the weather is sunny, high photorealistic quality.\n"
     ]
    },
    {
     "name": "stderr",
     "output_type": "stream",
     "text": [
      "100%|██████████| 15/15 [00:09<00:00,  1.50it/s]\n",
      " 52%|█████▏    | 515/1000 [1:25:50<1:32:00, 11.38s/it]"
     ]
    },
    {
     "name": "stdout",
     "output_type": "stream",
     "text": [
      "A high angle view of a sad person holding a colorful cardboard box with green tape from the Amazon webshop in her hands, standing in front of a quite neighborhood street and garden background, the weather is sunny, high photorealistic quality.\n"
     ]
    },
    {
     "name": "stderr",
     "output_type": "stream",
     "text": [
      "100%|██████████| 15/15 [00:08<00:00,  1.72it/s]\n",
      " 52%|█████▏    | 516/1000 [1:26:00<1:29:43, 11.12s/it]"
     ]
    },
    {
     "name": "stdout",
     "output_type": "stream",
     "text": [
      "A full shot view of a young boy holding a brown cardboard box with red tape from the H&M webshop in his hands, standing in front of a busy city street and cars background, the weather is sunny, high photorealistic quality.\n"
     ]
    },
    {
     "name": "stderr",
     "output_type": "stream",
     "text": [
      "100%|██████████| 15/15 [00:08<00:00,  1.70it/s]\n",
      " 52%|█████▏    | 517/1000 [1:26:11<1:28:23, 10.98s/it]"
     ]
    },
    {
     "name": "stdout",
     "output_type": "stream",
     "text": [
      "A long shot view of a young woman holding a brown cardboard box with yellow tape from the Adidas webshop in her hands, standing in front of a busy city street and cars background, the weather is sunny, high photorealistic quality.\n"
     ]
    },
    {
     "name": "stderr",
     "output_type": "stream",
     "text": [
      "100%|██████████| 15/15 [00:08<00:00,  1.75it/s]\n",
      " 52%|█████▏    | 518/1000 [1:26:21<1:26:47, 10.80s/it]"
     ]
    },
    {
     "name": "stdout",
     "output_type": "stream",
     "text": [
      "A medium shot view of a young boy holding a white cardboard box with a qr code from the H&M webshop in his hands, standing in front of a appartment building background, the weather is rainy, high photorealistic quality.\n"
     ]
    },
    {
     "name": "stderr",
     "output_type": "stream",
     "text": [
      "100%|██████████| 15/15 [00:09<00:00,  1.58it/s]\n",
      " 52%|█████▏    | 519/1000 [1:26:33<1:28:05, 10.99s/it]"
     ]
    },
    {
     "name": "stdout",
     "output_type": "stream",
     "text": [
      "A close-up view of a frowning woman holding a white cardboard box with a qr code from the Zara webshop in her hands, standing in front of a garbage curb background, the weather is rainy, high photorealistic quality.\n"
     ]
    },
    {
     "name": "stderr",
     "output_type": "stream",
     "text": [
      "100%|██████████| 15/15 [00:09<00:00,  1.64it/s]\n",
      " 52%|█████▏    | 520/1000 [1:26:44<1:28:40, 11.09s/it]"
     ]
    },
    {
     "name": "stdout",
     "output_type": "stream",
     "text": [
      "A full shot view of a frowning person holding a black cardboard box with black tape from the Bol.com webshop in her hands, standing in front of a busy city street and cars background, the weather is cloudy, high photorealistic quality.\n"
     ]
    },
    {
     "name": "stderr",
     "output_type": "stream",
     "text": [
      "100%|██████████| 15/15 [00:09<00:00,  1.62it/s]\n",
      " 52%|█████▏    | 521/1000 [1:26:55<1:28:39, 11.11s/it]"
     ]
    },
    {
     "name": "stdout",
     "output_type": "stream",
     "text": [
      "A close-up view of a frowning man holding a black cardboard box with blue tape from the Coolblue webshop in his hands, standing in front of a appartment building background, the weather is snowy, high photorealistic quality.\n"
     ]
    },
    {
     "name": "stderr",
     "output_type": "stream",
     "text": [
      "100%|██████████| 15/15 [00:08<00:00,  1.75it/s]\n",
      " 52%|█████▏    | 522/1000 [1:27:05<1:26:40, 10.88s/it]"
     ]
    },
    {
     "name": "stdout",
     "output_type": "stream",
     "text": [
      "A long shot view of a happy boy holding a white cardboard box with red tape from the H&M webshop in his hands, standing in front of a garbage curb background, the weather is rainy, high photorealistic quality.\n"
     ]
    },
    {
     "name": "stderr",
     "output_type": "stream",
     "text": [
      "100%|██████████| 15/15 [00:09<00:00,  1.65it/s]\n",
      " 52%|█████▏    | 523/1000 [1:27:17<1:27:13, 10.97s/it]"
     ]
    },
    {
     "name": "stdout",
     "output_type": "stream",
     "text": [
      "A long shot view of a frowning woman holding a black cardboard box with yellow tape from the Nike webshop in her hands, standing in front of a in the street background, the weather is snowy, high photorealistic quality.\n"
     ]
    },
    {
     "name": "stderr",
     "output_type": "stream",
     "text": [
      "100%|██████████| 15/15 [00:09<00:00,  1.65it/s]\n",
      " 52%|█████▏    | 524/1000 [1:27:28<1:27:07, 10.98s/it]"
     ]
    },
    {
     "name": "stdout",
     "output_type": "stream",
     "text": [
      "A full shot view of an angry woman holding a black cardboard box with blue tape from the Nike webshop in her hands, standing in front of a quite neighborhood street and cars background, the weather is cloudy, high photorealistic quality.\n"
     ]
    },
    {
     "name": "stderr",
     "output_type": "stream",
     "text": [
      "100%|██████████| 15/15 [00:09<00:00,  1.64it/s]\n",
      " 52%|█████▎    | 525/1000 [1:27:39<1:27:15, 11.02s/it]"
     ]
    },
    {
     "name": "stdout",
     "output_type": "stream",
     "text": [
      "A close-up view of a happy man holding a colorful cardboard box with a number from a webshop in his hands, standing in front of a busy city street and cars background, the weather is cloudy, high photorealistic quality.\n"
     ]
    },
    {
     "name": "stderr",
     "output_type": "stream",
     "text": [
      "100%|██████████| 15/15 [00:09<00:00,  1.63it/s]\n",
      " 53%|█████▎    | 526/1000 [1:27:50<1:27:54, 11.13s/it]"
     ]
    },
    {
     "name": "stdout",
     "output_type": "stream",
     "text": [
      "A medium shot view of a happy person holding a white cardboard box with black tape from a webshop in her hands, standing in front of a in the street background, the weather is cloudy, high photorealistic quality.\n"
     ]
    },
    {
     "name": "stderr",
     "output_type": "stream",
     "text": [
      "100%|██████████| 15/15 [00:09<00:00,  1.57it/s]\n",
      " 53%|█████▎    | 527/1000 [1:28:02<1:29:21, 11.33s/it]"
     ]
    },
    {
     "name": "stdout",
     "output_type": "stream",
     "text": [
      "A medium shot view of an angry boy holding a brown cardboard box with blue tape from the Adidas webshop in his hands, standing in front of a busy city street and people background, the weather is cloudy, high photorealistic quality.\n"
     ]
    },
    {
     "name": "stderr",
     "output_type": "stream",
     "text": [
      "100%|██████████| 15/15 [00:09<00:00,  1.53it/s]\n",
      " 53%|█████▎    | 528/1000 [1:28:14<1:30:50, 11.55s/it]"
     ]
    },
    {
     "name": "stdout",
     "output_type": "stream",
     "text": [
      "A full shot view of a young lady holding a white cardboard box with blue tape from a webshop in her hands, standing in front of a busy city street and cars background, the weather is sunny, high photorealistic quality.\n"
     ]
    },
    {
     "name": "stderr",
     "output_type": "stream",
     "text": [
      "100%|██████████| 15/15 [00:08<00:00,  1.73it/s]\n",
      " 53%|█████▎    | 529/1000 [1:28:24<1:28:12, 11.24s/it]"
     ]
    },
    {
     "name": "stdout",
     "output_type": "stream",
     "text": [
      "A close-up view of a sad person holding a white cardboard box with yellow tape from the Adidas webshop in her hands, standing in front of a busy city street and people background, the weather is sunny, high photorealistic quality.\n"
     ]
    },
    {
     "name": "stderr",
     "output_type": "stream",
     "text": [
      "100%|██████████| 15/15 [00:10<00:00,  1.45it/s]\n",
      " 53%|█████▎    | 530/1000 [1:28:37<1:31:29, 11.68s/it]"
     ]
    },
    {
     "name": "stdout",
     "output_type": "stream",
     "text": [
      "A medium shot view of a smiling lady holding a black cardboard box with black tape from the Nike webshop in her hands, standing in front of a quite neighborhood street and cars background, the weather is snowy, high photorealistic quality.\n"
     ]
    },
    {
     "name": "stderr",
     "output_type": "stream",
     "text": [
      "100%|██████████| 15/15 [00:09<00:00,  1.60it/s]\n",
      " 53%|█████▎    | 531/1000 [1:28:48<1:30:02, 11.52s/it]"
     ]
    },
    {
     "name": "stdout",
     "output_type": "stream",
     "text": [
      "A long shot view of a young lady holding a black cardboard box with a qr code from the Amazon webshop in her hands, standing in front of a garbage curb background, the weather is rainy, high photorealistic quality.\n"
     ]
    },
    {
     "name": "stderr",
     "output_type": "stream",
     "text": [
      "100%|██████████| 15/15 [00:08<00:00,  1.83it/s]\n",
      " 53%|█████▎    | 532/1000 [1:28:58<1:26:06, 11.04s/it]"
     ]
    },
    {
     "name": "stdout",
     "output_type": "stream",
     "text": [
      "A high angle view of a smiling person holding a brown cardboard box with green tape from the Nike webshop in her hands, standing in front of a quite neighborhood street and cars background, the weather is sunny, high photorealistic quality.\n"
     ]
    },
    {
     "name": "stderr",
     "output_type": "stream",
     "text": [
      "100%|██████████| 15/15 [00:08<00:00,  1.83it/s]\n",
      " 53%|█████▎    | 533/1000 [1:29:08<1:23:18, 10.70s/it]"
     ]
    },
    {
     "name": "stdout",
     "output_type": "stream",
     "text": [
      "A low angle view of a young lady holding a colorful cardboard box with green tape from the H&M webshop in her hands, standing in front of a quite neighborhood street and garden background, the weather is cloudy, high photorealistic quality.\n"
     ]
    },
    {
     "name": "stderr",
     "output_type": "stream",
     "text": [
      "100%|██████████| 15/15 [00:08<00:00,  1.83it/s]\n",
      " 53%|█████▎    | 534/1000 [1:29:18<1:21:14, 10.46s/it]"
     ]
    },
    {
     "name": "stdout",
     "output_type": "stream",
     "text": [
      "A low angle view of an old person holding a white cardboard box with a number from the Zalando webshop in her hands, standing in front of a busy city street and cars background, the weather is sunny, high photorealistic quality.\n"
     ]
    },
    {
     "name": "stderr",
     "output_type": "stream",
     "text": [
      "100%|██████████| 15/15 [00:08<00:00,  1.83it/s]\n",
      " 54%|█████▎    | 535/1000 [1:29:28<1:19:45, 10.29s/it]"
     ]
    },
    {
     "name": "stdout",
     "output_type": "stream",
     "text": [
      "A high angle view of an old boy holding a white cardboard box with green tape from the H&M webshop in his hands, standing in front of a quite neighborhood street and cars background, the weather is sunny, high photorealistic quality.\n"
     ]
    },
    {
     "name": "stderr",
     "output_type": "stream",
     "text": [
      "100%|██████████| 15/15 [00:08<00:00,  1.83it/s]\n",
      " 54%|█████▎    | 536/1000 [1:29:38<1:18:43, 10.18s/it]"
     ]
    },
    {
     "name": "stdout",
     "output_type": "stream",
     "text": [
      "A medium shot view of an old person holding a brown cardboard box with yellow tape from the Adidas webshop in her hands, standing in front of a garbage curb background, the weather is sunny, high photorealistic quality.\n"
     ]
    },
    {
     "name": "stderr",
     "output_type": "stream",
     "text": [
      "100%|██████████| 15/15 [00:08<00:00,  1.82it/s]\n",
      " 54%|█████▎    | 537/1000 [1:29:48<1:18:03, 10.12s/it]"
     ]
    },
    {
     "name": "stdout",
     "output_type": "stream",
     "text": [
      "A low angle view of a sad person holding a black cardboard box with red tape from the Bol.com webshop in her hands, standing in front of a city center background, the weather is sunny, high photorealistic quality.\n"
     ]
    },
    {
     "name": "stderr",
     "output_type": "stream",
     "text": [
      "100%|██████████| 15/15 [00:08<00:00,  1.82it/s]\n",
      " 54%|█████▍    | 538/1000 [1:29:58<1:17:32, 10.07s/it]"
     ]
    },
    {
     "name": "stdout",
     "output_type": "stream",
     "text": [
      "A medium shot view of a happy man holding a brown cardboard box with a qr code from the Adidas webshop in his hands, standing in front of a quite neighborhood street and garden background, the weather is rainy, high photorealistic quality.\n"
     ]
    },
    {
     "name": "stderr",
     "output_type": "stream",
     "text": [
      "100%|██████████| 15/15 [00:08<00:00,  1.83it/s]\n",
      " 54%|█████▍    | 539/1000 [1:30:08<1:17:04, 10.03s/it]"
     ]
    },
    {
     "name": "stdout",
     "output_type": "stream",
     "text": [
      "A close-up view of a sad person holding a brown cardboard box with yellow tape from the H&M webshop in her hands, standing in front of a appartment building background, the weather is rainy, high photorealistic quality.\n"
     ]
    },
    {
     "name": "stderr",
     "output_type": "stream",
     "text": [
      "100%|██████████| 15/15 [00:08<00:00,  1.83it/s]\n",
      " 54%|█████▍    | 540/1000 [1:30:18<1:16:38, 10.00s/it]"
     ]
    },
    {
     "name": "stdout",
     "output_type": "stream",
     "text": [
      "A low angle view of an old woman holding a brown cardboard box with green tape from the Coolblue webshop in her hands, standing in front of a quite neighborhood street and garden background, the weather is sunny, high photorealistic quality.\n"
     ]
    },
    {
     "name": "stderr",
     "output_type": "stream",
     "text": [
      "100%|██████████| 15/15 [00:08<00:00,  1.84it/s]\n",
      " 54%|█████▍    | 541/1000 [1:30:28<1:16:17,  9.97s/it]"
     ]
    },
    {
     "name": "stdout",
     "output_type": "stream",
     "text": [
      "A low angle view of a smiling man holding a white cardboard box with green tape from the Zara webshop in his hands, standing in front of a quite neighborhood street and garden background, the weather is rainy, high photorealistic quality.\n"
     ]
    },
    {
     "name": "stderr",
     "output_type": "stream",
     "text": [
      "100%|██████████| 15/15 [00:08<00:00,  1.84it/s]\n",
      " 54%|█████▍    | 542/1000 [1:30:38<1:15:59,  9.95s/it]"
     ]
    },
    {
     "name": "stdout",
     "output_type": "stream",
     "text": [
      "A close-up view of a smiling boy holding a black cardboard box with blue tape from the Amazon webshop in his hands, standing in front of a quite neighborhood street and trees background, the weather is snowy, high photorealistic quality.\n"
     ]
    },
    {
     "name": "stderr",
     "output_type": "stream",
     "text": [
      "100%|██████████| 15/15 [00:08<00:00,  1.84it/s]\n",
      " 54%|█████▍    | 543/1000 [1:30:47<1:15:39,  9.93s/it]"
     ]
    },
    {
     "name": "stdout",
     "output_type": "stream",
     "text": [
      "A high angle view of a young lady holding a black cardboard box with a qr code from the Bol.com webshop in her hands, standing in front of a quite neighborhood street and trees background, the weather is sunny, high photorealistic quality.\n"
     ]
    },
    {
     "name": "stderr",
     "output_type": "stream",
     "text": [
      "100%|██████████| 15/15 [00:08<00:00,  1.80it/s]\n",
      " 54%|█████▍    | 544/1000 [1:30:57<1:15:47,  9.97s/it]"
     ]
    },
    {
     "name": "stdout",
     "output_type": "stream",
     "text": [
      "A long shot view of a sad woman holding a colorful cardboard box with a qr code from the H&M webshop in her hands, standing in front of a quite neighborhood street and trees background, the weather is cloudy, high photorealistic quality.\n"
     ]
    },
    {
     "name": "stderr",
     "output_type": "stream",
     "text": [
      "100%|██████████| 15/15 [00:08<00:00,  1.83it/s]\n",
      " 55%|█████▍    | 545/1000 [1:31:07<1:15:29,  9.96s/it]"
     ]
    },
    {
     "name": "stdout",
     "output_type": "stream",
     "text": [
      "A long shot view of a sad boy holding a white cardboard box with black tape from the Coolblue webshop in his hands, standing in front of a in the street background, the weather is rainy, high photorealistic quality.\n"
     ]
    },
    {
     "name": "stderr",
     "output_type": "stream",
     "text": [
      "100%|██████████| 15/15 [00:08<00:00,  1.84it/s]\n",
      " 55%|█████▍    | 546/1000 [1:31:17<1:15:08,  9.93s/it]"
     ]
    },
    {
     "name": "stdout",
     "output_type": "stream",
     "text": [
      "A low angle view of an angry lady holding a black cardboard box with a qr code from the Nike webshop in her hands, standing in front of a quite neighborhood street and trees background, the weather is rainy, high photorealistic quality.\n"
     ]
    },
    {
     "name": "stderr",
     "output_type": "stream",
     "text": [
      "100%|██████████| 15/15 [00:08<00:00,  1.74it/s]\n",
      " 55%|█████▍    | 547/1000 [1:31:28<1:17:20, 10.24s/it]"
     ]
    },
    {
     "name": "stdout",
     "output_type": "stream",
     "text": [
      "A close-up view of a young boy holding a brown cardboard box with a barcode from the Bol.com webshop in his hands, standing in front of a appartment building background, the weather is snowy, high photorealistic quality.\n"
     ]
    },
    {
     "name": "stderr",
     "output_type": "stream",
     "text": [
      "100%|██████████| 15/15 [00:09<00:00,  1.54it/s]\n",
      " 55%|█████▍    | 548/1000 [1:31:40<1:19:59, 10.62s/it]"
     ]
    },
    {
     "name": "stdout",
     "output_type": "stream",
     "text": [
      "A full shot view of an old woman holding a brown cardboard box with yellow tape from the H&M webshop in her hands, standing in front of a quite neighborhood street and cars background, the weather is cloudy, high photorealistic quality.\n"
     ]
    },
    {
     "name": "stderr",
     "output_type": "stream",
     "text": [
      "100%|██████████| 15/15 [00:08<00:00,  1.80it/s]\n",
      " 55%|█████▍    | 549/1000 [1:31:52<1:24:11, 11.20s/it]"
     ]
    },
    {
     "name": "stdout",
     "output_type": "stream",
     "text": [
      "A low angle view of a frowning lady holding a brown cardboard box with a barcode from the Zalando webshop in her hands, standing in front of a in the street background, the weather is rainy, high photorealistic quality.\n"
     ]
    },
    {
     "name": "stderr",
     "output_type": "stream",
     "text": [
      "100%|██████████| 15/15 [00:09<00:00,  1.62it/s]\n",
      " 55%|█████▌    | 550/1000 [1:32:04<1:24:42, 11.29s/it]"
     ]
    },
    {
     "name": "stdout",
     "output_type": "stream",
     "text": [
      "A close-up view of an old man holding a brown cardboard box with red tape from the Coolblue webshop in his hands, standing in front of a busy city street and people background, the weather is rainy, high photorealistic quality.\n"
     ]
    },
    {
     "name": "stderr",
     "output_type": "stream",
     "text": [
      "100%|██████████| 15/15 [00:08<00:00,  1.87it/s]\n",
      " 55%|█████▌    | 551/1000 [1:32:13<1:20:57, 10.82s/it]"
     ]
    },
    {
     "name": "stdout",
     "output_type": "stream",
     "text": [
      "A full shot view of a frowning lady holding a colorful cardboard box with yellow tape from the Nike webshop in her hands, standing in front of a busy city street and people background, the weather is snowy, high photorealistic quality.\n"
     ]
    },
    {
     "name": "stderr",
     "output_type": "stream",
     "text": [
      "100%|██████████| 15/15 [00:07<00:00,  1.90it/s]\n",
      " 55%|█████▌    | 552/1000 [1:32:23<1:18:03, 10.45s/it]"
     ]
    },
    {
     "name": "stdout",
     "output_type": "stream",
     "text": [
      "A close-up view of a sad boy holding a brown cardboard box with blue tape from the Adidas webshop in his hands, standing in front of a city center background, the weather is sunny, high photorealistic quality.\n"
     ]
    },
    {
     "name": "stderr",
     "output_type": "stream",
     "text": [
      "100%|██████████| 15/15 [00:07<00:00,  1.88it/s]\n",
      " 55%|█████▌    | 553/1000 [1:32:33<1:16:12, 10.23s/it]"
     ]
    },
    {
     "name": "stdout",
     "output_type": "stream",
     "text": [
      "A medium shot view of a smiling woman holding a colorful cardboard box with a qr code from the Amazon webshop in her hands, standing in front of a appartment building background, the weather is rainy, high photorealistic quality.\n"
     ]
    },
    {
     "name": "stderr",
     "output_type": "stream",
     "text": [
      "100%|██████████| 15/15 [00:07<00:00,  1.88it/s]\n",
      " 55%|█████▌    | 554/1000 [1:32:43<1:15:01, 10.09s/it]"
     ]
    },
    {
     "name": "stdout",
     "output_type": "stream",
     "text": [
      "A close-up view of a young woman holding a brown cardboard box with red tape from the Nike webshop in her hands, standing in front of a quite neighborhood street and garden background, the weather is cloudy, high photorealistic quality.\n"
     ]
    },
    {
     "name": "stderr",
     "output_type": "stream",
     "text": [
      "100%|██████████| 15/15 [00:08<00:00,  1.85it/s]\n",
      " 56%|█████▌    | 555/1000 [1:32:52<1:14:12, 10.01s/it]"
     ]
    },
    {
     "name": "stdout",
     "output_type": "stream",
     "text": [
      "A low angle view of a frowning lady holding a white cardboard box with yellow tape from the H&M webshop in her hands, standing in front of a busy city street and people background, the weather is snowy, high photorealistic quality.\n"
     ]
    },
    {
     "name": "stderr",
     "output_type": "stream",
     "text": [
      "100%|██████████| 15/15 [00:07<00:00,  1.89it/s]\n",
      " 56%|█████▌    | 556/1000 [1:33:02<1:13:12,  9.89s/it]"
     ]
    },
    {
     "name": "stdout",
     "output_type": "stream",
     "text": [
      "A close-up view of a frowning woman holding a white cardboard box with yellow tape from the Amazon webshop in her hands, standing in front of a busy city street and people background, the weather is rainy, high photorealistic quality.\n"
     ]
    },
    {
     "name": "stderr",
     "output_type": "stream",
     "text": [
      "100%|██████████| 15/15 [00:07<00:00,  1.89it/s]\n",
      " 56%|█████▌    | 557/1000 [1:33:12<1:12:44,  9.85s/it]"
     ]
    },
    {
     "name": "stdout",
     "output_type": "stream",
     "text": [
      "A high angle view of a sad lady holding a brown cardboard box with a barcode from the Zalando webshop in her hands, standing in front of a garbage curb background, the weather is snowy, high photorealistic quality.\n"
     ]
    },
    {
     "name": "stderr",
     "output_type": "stream",
     "text": [
      "100%|██████████| 15/15 [00:08<00:00,  1.85it/s]\n",
      " 56%|█████▌    | 558/1000 [1:33:22<1:12:26,  9.83s/it]"
     ]
    },
    {
     "name": "stdout",
     "output_type": "stream",
     "text": [
      "A full shot view of a young person holding a white cardboard box with a barcode from the Coolblue webshop in her hands, standing in front of a quite neighborhood street and garden background, the weather is cloudy, high photorealistic quality.\n"
     ]
    },
    {
     "name": "stderr",
     "output_type": "stream",
     "text": [
      "100%|██████████| 15/15 [00:08<00:00,  1.84it/s]\n",
      " 56%|█████▌    | 559/1000 [1:33:31<1:12:19,  9.84s/it]"
     ]
    },
    {
     "name": "stdout",
     "output_type": "stream",
     "text": [
      "A high angle view of a smiling woman holding a colorful cardboard box with green tape from the Adidas webshop in her hands, standing in front of a in the street background, the weather is cloudy, high photorealistic quality.\n"
     ]
    },
    {
     "name": "stderr",
     "output_type": "stream",
     "text": [
      "100%|██████████| 15/15 [00:08<00:00,  1.86it/s]\n",
      " 56%|█████▌    | 560/1000 [1:33:41<1:12:06,  9.83s/it]"
     ]
    },
    {
     "name": "stdout",
     "output_type": "stream",
     "text": [
      "A low angle view of a young person holding a brown cardboard box with a number from a webshop in her hands, standing in front of a city center background, the weather is cloudy, high photorealistic quality.\n"
     ]
    },
    {
     "name": "stderr",
     "output_type": "stream",
     "text": [
      "100%|██████████| 15/15 [00:07<00:00,  1.88it/s]\n",
      " 56%|█████▌    | 561/1000 [1:33:51<1:11:57,  9.84s/it]"
     ]
    },
    {
     "name": "stdout",
     "output_type": "stream",
     "text": [
      "A close-up view of an old man holding a white cardboard box with a number from the Nike webshop in his hands, standing in front of a quite neighborhood street and trees background, the weather is snowy, high photorealistic quality.\n"
     ]
    },
    {
     "name": "stderr",
     "output_type": "stream",
     "text": [
      "100%|██████████| 15/15 [00:08<00:00,  1.85it/s]\n",
      " 56%|█████▌    | 562/1000 [1:34:01<1:11:52,  9.84s/it]"
     ]
    },
    {
     "name": "stdout",
     "output_type": "stream",
     "text": [
      "A high angle view of a smiling boy holding a colorful cardboard box with yellow tape from the Zara webshop in his hands, standing in front of a garbage curb background, the weather is rainy, high photorealistic quality.\n"
     ]
    },
    {
     "name": "stderr",
     "output_type": "stream",
     "text": [
      "100%|██████████| 15/15 [00:07<00:00,  1.88it/s]\n",
      " 56%|█████▋    | 563/1000 [1:34:11<1:11:23,  9.80s/it]"
     ]
    },
    {
     "name": "stdout",
     "output_type": "stream",
     "text": [
      "A long shot view of an old woman holding a brown cardboard box with red tape from the Adidas webshop in her hands, standing in front of a quite neighborhood street and cars background, the weather is snowy, high photorealistic quality.\n"
     ]
    },
    {
     "name": "stderr",
     "output_type": "stream",
     "text": [
      "100%|██████████| 15/15 [00:08<00:00,  1.83it/s]\n",
      " 56%|█████▋    | 564/1000 [1:34:21<1:11:29,  9.84s/it]"
     ]
    },
    {
     "name": "stdout",
     "output_type": "stream",
     "text": [
      "A close-up view of a young woman holding a white cardboard box with red tape from the Amazon webshop in her hands, standing in front of a appartment building background, the weather is cloudy, high photorealistic quality.\n"
     ]
    },
    {
     "name": "stderr",
     "output_type": "stream",
     "text": [
      "100%|██████████| 15/15 [00:07<00:00,  1.90it/s]\n",
      " 56%|█████▋    | 565/1000 [1:34:30<1:10:46,  9.76s/it]"
     ]
    },
    {
     "name": "stdout",
     "output_type": "stream",
     "text": [
      "A medium shot view of a young man holding a brown cardboard box with blue tape from the Zara webshop in his hands, standing in front of a busy city street and cars background, the weather is rainy, high photorealistic quality.\n"
     ]
    },
    {
     "name": "stderr",
     "output_type": "stream",
     "text": [
      "100%|██████████| 15/15 [00:08<00:00,  1.87it/s]\n",
      " 57%|█████▋    | 566/1000 [1:34:40<1:10:28,  9.74s/it]"
     ]
    },
    {
     "name": "stdout",
     "output_type": "stream",
     "text": [
      "A medium shot view of a young person holding a brown cardboard box with a qr code from the H&M webshop in her hands, standing in front of a appartment building background, the weather is sunny, high photorealistic quality.\n"
     ]
    },
    {
     "name": "stderr",
     "output_type": "stream",
     "text": [
      "100%|██████████| 15/15 [00:08<00:00,  1.84it/s]\n",
      " 57%|█████▋    | 567/1000 [1:34:50<1:11:01,  9.84s/it]"
     ]
    },
    {
     "name": "stdout",
     "output_type": "stream",
     "text": [
      "A high angle view of a frowning lady holding a brown cardboard box with a barcode from the Zara webshop in her hands, standing in front of a quite neighborhood street and cars background, the weather is snowy, high photorealistic quality.\n"
     ]
    },
    {
     "name": "stderr",
     "output_type": "stream",
     "text": [
      "100%|██████████| 15/15 [00:08<00:00,  1.84it/s]\n",
      " 57%|█████▋    | 568/1000 [1:35:00<1:10:58,  9.86s/it]"
     ]
    },
    {
     "name": "stdout",
     "output_type": "stream",
     "text": [
      "A full shot view of an angry lady holding a colorful cardboard box with a qr code from the Zara webshop in her hands, standing in front of a busy city street and cars background, the weather is rainy, high photorealistic quality.\n"
     ]
    },
    {
     "name": "stderr",
     "output_type": "stream",
     "text": [
      "100%|██████████| 15/15 [00:08<00:00,  1.76it/s]\n",
      " 57%|█████▋    | 569/1000 [1:35:10<1:12:20, 10.07s/it]"
     ]
    },
    {
     "name": "stdout",
     "output_type": "stream",
     "text": [
      "A full shot view of a young man holding a colorful cardboard box with a barcode from the Zalando webshop in his hands, standing in front of a appartment building background, the weather is snowy, high photorealistic quality.\n"
     ]
    },
    {
     "name": "stderr",
     "output_type": "stream",
     "text": [
      "100%|██████████| 15/15 [00:08<00:00,  1.81it/s]\n",
      " 57%|█████▋    | 570/1000 [1:35:20<1:12:05, 10.06s/it]"
     ]
    },
    {
     "name": "stdout",
     "output_type": "stream",
     "text": [
      "A long shot view of a smiling lady holding a white cardboard box with a barcode from the H&M webshop in her hands, standing in front of a busy city street and people background, the weather is cloudy, high photorealistic quality.\n"
     ]
    },
    {
     "name": "stderr",
     "output_type": "stream",
     "text": [
      "100%|██████████| 15/15 [00:08<00:00,  1.73it/s]\n",
      " 57%|█████▋    | 571/1000 [1:35:31<1:14:05, 10.36s/it]"
     ]
    },
    {
     "name": "stdout",
     "output_type": "stream",
     "text": [
      "A long shot view of a smiling person holding a white cardboard box with blue tape from the Zalando webshop in her hands, standing in front of a quite neighborhood street and garden background, the weather is rainy, high photorealistic quality.\n"
     ]
    },
    {
     "name": "stderr",
     "output_type": "stream",
     "text": [
      "100%|██████████| 15/15 [00:08<00:00,  1.74it/s]\n",
      " 57%|█████▋    | 572/1000 [1:35:42<1:14:08, 10.39s/it]"
     ]
    },
    {
     "name": "stdout",
     "output_type": "stream",
     "text": [
      "A low angle view of a sad woman holding a colorful cardboard box with red tape from the Bol.com webshop in her hands, standing in front of a quite neighborhood street and cars background, the weather is rainy, high photorealistic quality.\n"
     ]
    },
    {
     "name": "stderr",
     "output_type": "stream",
     "text": [
      "100%|██████████| 15/15 [00:07<00:00,  1.91it/s]\n",
      " 57%|█████▋    | 573/1000 [1:35:51<1:12:08, 10.14s/it]"
     ]
    },
    {
     "name": "stdout",
     "output_type": "stream",
     "text": [
      "A long shot view of an old man holding a white cardboard box with red tape from the H&M webshop in his hands, standing in front of a busy city street and cars background, the weather is snowy, high photorealistic quality.\n"
     ]
    },
    {
     "name": "stderr",
     "output_type": "stream",
     "text": [
      "100%|██████████| 15/15 [00:07<00:00,  1.90it/s]\n",
      " 57%|█████▋    | 574/1000 [1:36:01<1:10:39,  9.95s/it]"
     ]
    },
    {
     "name": "stdout",
     "output_type": "stream",
     "text": [
      "A low angle view of an angry person holding a colorful cardboard box with black tape from the Zara webshop in her hands, standing in front of a quite neighborhood street and trees background, the weather is cloudy, high photorealistic quality.\n"
     ]
    },
    {
     "name": "stderr",
     "output_type": "stream",
     "text": [
      "100%|██████████| 15/15 [00:07<00:00,  1.91it/s]\n",
      " 57%|█████▊    | 575/1000 [1:36:11<1:09:36,  9.83s/it]"
     ]
    },
    {
     "name": "stdout",
     "output_type": "stream",
     "text": [
      "A full shot view of an angry boy holding a brown cardboard box with black tape from the H&M webshop in his hands, standing in front of a quite neighborhood street and cars background, the weather is rainy, high photorealistic quality.\n"
     ]
    },
    {
     "name": "stderr",
     "output_type": "stream",
     "text": [
      "100%|██████████| 15/15 [00:07<00:00,  1.91it/s]\n",
      " 58%|█████▊    | 576/1000 [1:36:20<1:08:40,  9.72s/it]"
     ]
    },
    {
     "name": "stdout",
     "output_type": "stream",
     "text": [
      "A low angle view of a young lady holding a black cardboard box with a qr code from the Zalando webshop in her hands, standing in front of a quite neighborhood street and cars background, the weather is snowy, high photorealistic quality.\n"
     ]
    },
    {
     "name": "stderr",
     "output_type": "stream",
     "text": [
      "100%|██████████| 15/15 [00:07<00:00,  1.91it/s]\n",
      " 58%|█████▊    | 577/1000 [1:36:30<1:08:02,  9.65s/it]"
     ]
    },
    {
     "name": "stdout",
     "output_type": "stream",
     "text": [
      "A full shot view of an angry boy holding a black cardboard box with black tape from a webshop in his hands, standing in front of a garbage curb background, the weather is rainy, high photorealistic quality.\n"
     ]
    },
    {
     "name": "stderr",
     "output_type": "stream",
     "text": [
      "100%|██████████| 15/15 [00:07<00:00,  1.92it/s]\n",
      " 58%|█████▊    | 578/1000 [1:36:39<1:07:26,  9.59s/it]"
     ]
    },
    {
     "name": "stdout",
     "output_type": "stream",
     "text": [
      "A medium shot view of a sad woman holding a brown cardboard box with blue tape from the Zara webshop in her hands, standing in front of a garbage curb background, the weather is cloudy, high photorealistic quality.\n"
     ]
    },
    {
     "name": "stderr",
     "output_type": "stream",
     "text": [
      "100%|██████████| 15/15 [00:07<00:00,  1.91it/s]\n",
      " 58%|█████▊    | 579/1000 [1:36:48<1:07:01,  9.55s/it]"
     ]
    },
    {
     "name": "stdout",
     "output_type": "stream",
     "text": [
      "A high angle view of an old man holding a white cardboard box with a barcode from the Coolblue webshop in his hands, standing in front of a busy city street and cars background, the weather is rainy, high photorealistic quality.\n"
     ]
    },
    {
     "name": "stderr",
     "output_type": "stream",
     "text": [
      "100%|██████████| 15/15 [00:07<00:00,  1.92it/s]\n",
      " 58%|█████▊    | 580/1000 [1:36:58<1:06:41,  9.53s/it]"
     ]
    },
    {
     "name": "stdout",
     "output_type": "stream",
     "text": [
      "A long shot view of a sad man holding a black cardboard box with blue tape from the Bol.com webshop in his hands, standing in front of a in the street background, the weather is rainy, high photorealistic quality.\n"
     ]
    },
    {
     "name": "stderr",
     "output_type": "stream",
     "text": [
      "100%|██████████| 15/15 [00:07<00:00,  1.90it/s]\n",
      " 58%|█████▊    | 581/1000 [1:37:07<1:06:33,  9.53s/it]"
     ]
    },
    {
     "name": "stdout",
     "output_type": "stream",
     "text": [
      "A medium shot view of a smiling boy holding a brown cardboard box with a number from the Nike webshop in his hands, standing in front of a quite neighborhood street and garden background, the weather is cloudy, high photorealistic quality.\n"
     ]
    },
    {
     "name": "stderr",
     "output_type": "stream",
     "text": [
      "100%|██████████| 15/15 [00:07<00:00,  1.91it/s]\n",
      " 58%|█████▊    | 582/1000 [1:37:17<1:06:20,  9.52s/it]"
     ]
    },
    {
     "name": "stdout",
     "output_type": "stream",
     "text": [
      "A long shot view of an angry lady holding a white cardboard box with a barcode from the Zalando webshop in her hands, standing in front of a city center background, the weather is snowy, high photorealistic quality.\n"
     ]
    },
    {
     "name": "stderr",
     "output_type": "stream",
     "text": [
      "100%|██████████| 15/15 [00:07<00:00,  1.92it/s]\n",
      " 58%|█████▊    | 583/1000 [1:37:26<1:06:04,  9.51s/it]"
     ]
    },
    {
     "name": "stdout",
     "output_type": "stream",
     "text": [
      "A long shot view of an angry boy holding a white cardboard box with a qr code from the Zara webshop in his hands, standing in front of a busy city street and cars background, the weather is snowy, high photorealistic quality.\n"
     ]
    },
    {
     "name": "stderr",
     "output_type": "stream",
     "text": [
      "100%|██████████| 15/15 [00:07<00:00,  1.90it/s]\n",
      " 58%|█████▊    | 584/1000 [1:37:36<1:05:58,  9.52s/it]"
     ]
    },
    {
     "name": "stdout",
     "output_type": "stream",
     "text": [
      "A full shot view of a happy person holding a colorful cardboard box with red tape from a webshop in her hands, standing in front of a city center background, the weather is sunny, high photorealistic quality.\n"
     ]
    },
    {
     "name": "stderr",
     "output_type": "stream",
     "text": [
      "100%|██████████| 15/15 [00:07<00:00,  1.91it/s]\n",
      " 58%|█████▊    | 585/1000 [1:37:45<1:05:44,  9.50s/it]"
     ]
    },
    {
     "name": "stdout",
     "output_type": "stream",
     "text": [
      "A low angle view of a happy boy holding a white cardboard box with green tape from the Coolblue webshop in his hands, standing in front of a appartment building background, the weather is snowy, high photorealistic quality.\n"
     ]
    },
    {
     "name": "stderr",
     "output_type": "stream",
     "text": [
      "100%|██████████| 15/15 [00:07<00:00,  1.90it/s]\n",
      " 59%|█████▊    | 586/1000 [1:37:55<1:05:36,  9.51s/it]"
     ]
    },
    {
     "name": "stdout",
     "output_type": "stream",
     "text": [
      "A medium shot view of an angry woman holding a brown cardboard box with a qr code from the Zalando webshop in her hands, standing in front of a garbage curb background, the weather is rainy, high photorealistic quality.\n"
     ]
    },
    {
     "name": "stderr",
     "output_type": "stream",
     "text": [
      "100%|██████████| 15/15 [00:07<00:00,  1.91it/s]\n",
      " 59%|█████▊    | 587/1000 [1:38:04<1:05:25,  9.51s/it]"
     ]
    },
    {
     "name": "stdout",
     "output_type": "stream",
     "text": [
      "A long shot view of an old man holding a colorful cardboard box with a qr code from the Adidas webshop in his hands, standing in front of a appartment building background, the weather is rainy, high photorealistic quality.\n"
     ]
    },
    {
     "name": "stderr",
     "output_type": "stream",
     "text": [
      "100%|██████████| 15/15 [00:07<00:00,  1.91it/s]\n",
      " 59%|█████▉    | 588/1000 [1:38:14<1:05:15,  9.50s/it]"
     ]
    },
    {
     "name": "stdout",
     "output_type": "stream",
     "text": [
      "A high angle view of an angry person holding a black cardboard box with green tape from the Adidas webshop in her hands, standing in front of a busy city street and people background, the weather is cloudy, high photorealistic quality.\n"
     ]
    },
    {
     "name": "stderr",
     "output_type": "stream",
     "text": [
      "100%|██████████| 15/15 [00:07<00:00,  1.91it/s]\n",
      " 59%|█████▉    | 589/1000 [1:38:23<1:05:08,  9.51s/it]"
     ]
    },
    {
     "name": "stdout",
     "output_type": "stream",
     "text": [
      "A medium shot view of a young man holding a black cardboard box with red tape from the H&M webshop in his hands, standing in front of a quite neighborhood street and trees background, the weather is sunny, high photorealistic quality.\n"
     ]
    },
    {
     "name": "stderr",
     "output_type": "stream",
     "text": [
      "100%|██████████| 15/15 [00:07<00:00,  1.91it/s]\n",
      " 59%|█████▉    | 590/1000 [1:38:33<1:04:55,  9.50s/it]"
     ]
    },
    {
     "name": "stdout",
     "output_type": "stream",
     "text": [
      "A close-up view of a frowning woman holding a brown cardboard box with black tape from the Zara webshop in her hands, standing in front of a quite neighborhood street and cars background, the weather is sunny, high photorealistic quality.\n"
     ]
    },
    {
     "name": "stderr",
     "output_type": "stream",
     "text": [
      "100%|██████████| 15/15 [00:07<00:00,  1.89it/s]\n",
      " 59%|█████▉    | 591/1000 [1:38:43<1:04:57,  9.53s/it]"
     ]
    },
    {
     "name": "stdout",
     "output_type": "stream",
     "text": [
      "A full shot view of an angry boy holding a white cardboard box with yellow tape from the Coolblue webshop in his hands, standing in front of a in the street background, the weather is sunny, high photorealistic quality.\n"
     ]
    },
    {
     "name": "stderr",
     "output_type": "stream",
     "text": [
      "100%|██████████| 15/15 [00:07<00:00,  1.90it/s]\n",
      " 59%|█████▉    | 592/1000 [1:38:52<1:04:49,  9.53s/it]"
     ]
    },
    {
     "name": "stdout",
     "output_type": "stream",
     "text": [
      "A long shot view of a happy boy holding a colorful cardboard box with red tape from the Zalando webshop in his hands, standing in front of a quite neighborhood street and garden background, the weather is rainy, high photorealistic quality.\n"
     ]
    },
    {
     "name": "stderr",
     "output_type": "stream",
     "text": [
      "100%|██████████| 15/15 [00:07<00:00,  1.91it/s]\n",
      " 59%|█████▉    | 593/1000 [1:39:02<1:04:39,  9.53s/it]"
     ]
    },
    {
     "name": "stdout",
     "output_type": "stream",
     "text": [
      "A close-up view of an angry boy holding a white cardboard box with yellow tape from the Adidas webshop in his hands, standing in front of a quite neighborhood street and cars background, the weather is cloudy, high photorealistic quality.\n"
     ]
    },
    {
     "name": "stderr",
     "output_type": "stream",
     "text": [
      "100%|██████████| 15/15 [00:07<00:00,  1.92it/s]\n",
      " 59%|█████▉    | 594/1000 [1:39:11<1:04:20,  9.51s/it]"
     ]
    },
    {
     "name": "stdout",
     "output_type": "stream",
     "text": [
      "A full shot view of a smiling lady holding a brown cardboard box with a barcode from the Nike webshop in her hands, standing in front of a busy city street and cars background, the weather is sunny, high photorealistic quality.\n"
     ]
    },
    {
     "name": "stderr",
     "output_type": "stream",
     "text": [
      "100%|██████████| 15/15 [00:07<00:00,  1.91it/s]\n",
      " 60%|█████▉    | 595/1000 [1:39:21<1:04:09,  9.50s/it]"
     ]
    },
    {
     "name": "stdout",
     "output_type": "stream",
     "text": [
      "A medium shot view of a young lady holding a brown cardboard box with a qr code from the Amazon webshop in her hands, standing in front of a quite neighborhood street and trees background, the weather is sunny, high photorealistic quality.\n"
     ]
    },
    {
     "name": "stderr",
     "output_type": "stream",
     "text": [
      "100%|██████████| 15/15 [00:07<00:00,  1.91it/s]\n",
      " 60%|█████▉    | 596/1000 [1:39:30<1:03:55,  9.49s/it]"
     ]
    },
    {
     "name": "stdout",
     "output_type": "stream",
     "text": [
      "A full shot view of a sad boy holding a black cardboard box with green tape from the Zalando webshop in his hands, standing in front of a city center background, the weather is cloudy, high photorealistic quality.\n"
     ]
    },
    {
     "name": "stderr",
     "output_type": "stream",
     "text": [
      "100%|██████████| 15/15 [00:07<00:00,  1.91it/s]\n",
      " 60%|█████▉    | 597/1000 [1:39:40<1:03:47,  9.50s/it]"
     ]
    },
    {
     "name": "stdout",
     "output_type": "stream",
     "text": [
      "A medium shot view of a happy lady holding a black cardboard box with a qr code from the Zalando webshop in her hands, standing in front of a quite neighborhood street and trees background, the weather is rainy, high photorealistic quality.\n"
     ]
    },
    {
     "name": "stderr",
     "output_type": "stream",
     "text": [
      "100%|██████████| 15/15 [00:07<00:00,  1.91it/s]\n",
      " 60%|█████▉    | 598/1000 [1:39:49<1:03:43,  9.51s/it]"
     ]
    },
    {
     "name": "stdout",
     "output_type": "stream",
     "text": [
      "A high angle view of a smiling person holding a white cardboard box with green tape from the Zara webshop in her hands, standing in front of a appartment building background, the weather is snowy, high photorealistic quality.\n"
     ]
    },
    {
     "name": "stderr",
     "output_type": "stream",
     "text": [
      "100%|██████████| 15/15 [00:07<00:00,  1.90it/s]\n",
      " 60%|█████▉    | 599/1000 [1:39:59<1:03:37,  9.52s/it]"
     ]
    },
    {
     "name": "stdout",
     "output_type": "stream",
     "text": [
      "A medium shot view of a smiling person holding a brown cardboard box with blue tape from a webshop in her hands, standing in front of a in the street background, the weather is rainy, high photorealistic quality.\n"
     ]
    },
    {
     "name": "stderr",
     "output_type": "stream",
     "text": [
      "100%|██████████| 15/15 [00:07<00:00,  1.91it/s]\n",
      " 60%|██████    | 600/1000 [1:40:08<1:03:24,  9.51s/it]"
     ]
    },
    {
     "name": "stdout",
     "output_type": "stream",
     "text": [
      "A full shot view of a sad man holding a white cardboard box with yellow tape from the Nike webshop in his hands, standing in front of a busy city street and cars background, the weather is snowy, high photorealistic quality.\n"
     ]
    },
    {
     "name": "stderr",
     "output_type": "stream",
     "text": [
      "100%|██████████| 15/15 [00:07<00:00,  1.90it/s]\n",
      " 60%|██████    | 601/1000 [1:40:18<1:03:21,  9.53s/it]"
     ]
    },
    {
     "name": "stdout",
     "output_type": "stream",
     "text": [
      "A full shot view of a frowning man holding a white cardboard box with black tape from the Zara webshop in his hands, standing in front of a quite neighborhood street and cars background, the weather is sunny, high photorealistic quality.\n"
     ]
    },
    {
     "name": "stderr",
     "output_type": "stream",
     "text": [
      "100%|██████████| 15/15 [00:07<00:00,  1.91it/s]\n",
      " 60%|██████    | 602/1000 [1:40:27<1:03:09,  9.52s/it]"
     ]
    },
    {
     "name": "stdout",
     "output_type": "stream",
     "text": [
      "A low angle view of a happy person holding a colorful cardboard box with a barcode from the Nike webshop in her hands, standing in front of a in the street background, the weather is sunny, high photorealistic quality.\n"
     ]
    },
    {
     "name": "stderr",
     "output_type": "stream",
     "text": [
      "100%|██████████| 15/15 [00:07<00:00,  1.91it/s]\n",
      " 60%|██████    | 603/1000 [1:40:37<1:03:02,  9.53s/it]"
     ]
    },
    {
     "name": "stdout",
     "output_type": "stream",
     "text": [
      "A close-up view of a happy person holding a black cardboard box with a barcode from the Nike webshop in her hands, standing in front of a in the street background, the weather is rainy, high photorealistic quality.\n"
     ]
    },
    {
     "name": "stderr",
     "output_type": "stream",
     "text": [
      "100%|██████████| 15/15 [00:07<00:00,  1.91it/s]\n",
      " 60%|██████    | 604/1000 [1:40:46<1:02:46,  9.51s/it]"
     ]
    },
    {
     "name": "stdout",
     "output_type": "stream",
     "text": [
      "A long shot view of an angry boy holding a brown cardboard box with yellow tape from a webshop in his hands, standing in front of a busy city street and cars background, the weather is sunny, high photorealistic quality.\n"
     ]
    },
    {
     "name": "stderr",
     "output_type": "stream",
     "text": [
      "100%|██████████| 15/15 [00:07<00:00,  1.90it/s]\n",
      " 60%|██████    | 605/1000 [1:40:56<1:02:40,  9.52s/it]"
     ]
    },
    {
     "name": "stdout",
     "output_type": "stream",
     "text": [
      "A low angle view of an old boy holding a brown cardboard box with a barcode from the Nike webshop in his hands, standing in front of a busy city street and cars background, the weather is snowy, high photorealistic quality.\n"
     ]
    },
    {
     "name": "stderr",
     "output_type": "stream",
     "text": [
      "100%|██████████| 15/15 [00:07<00:00,  1.92it/s]\n",
      " 61%|██████    | 606/1000 [1:41:05<1:02:28,  9.51s/it]"
     ]
    },
    {
     "name": "stdout",
     "output_type": "stream",
     "text": [
      "A close-up view of a sad person holding a brown cardboard box with red tape from the Nike webshop in her hands, standing in front of a busy city street and cars background, the weather is sunny, high photorealistic quality.\n"
     ]
    },
    {
     "name": "stderr",
     "output_type": "stream",
     "text": [
      "100%|██████████| 15/15 [00:07<00:00,  1.91it/s]\n",
      " 61%|██████    | 607/1000 [1:41:15<1:02:16,  9.51s/it]"
     ]
    },
    {
     "name": "stdout",
     "output_type": "stream",
     "text": [
      "A full shot view of a smiling person holding a white cardboard box with blue tape from the Adidas webshop in her hands, standing in front of a quite neighborhood street and cars background, the weather is cloudy, high photorealistic quality.\n"
     ]
    },
    {
     "name": "stderr",
     "output_type": "stream",
     "text": [
      "100%|██████████| 15/15 [00:07<00:00,  1.90it/s]\n",
      " 61%|██████    | 608/1000 [1:41:24<1:02:08,  9.51s/it]"
     ]
    },
    {
     "name": "stdout",
     "output_type": "stream",
     "text": [
      "A high angle view of a sad lady holding a white cardboard box with yellow tape from the Amazon webshop in her hands, standing in front of a in the street background, the weather is snowy, high photorealistic quality.\n"
     ]
    },
    {
     "name": "stderr",
     "output_type": "stream",
     "text": [
      "100%|██████████| 15/15 [00:07<00:00,  1.91it/s]\n",
      " 61%|██████    | 609/1000 [1:41:34<1:01:58,  9.51s/it]"
     ]
    },
    {
     "name": "stdout",
     "output_type": "stream",
     "text": [
      "A medium shot view of an old woman holding a black cardboard box with a barcode from the Zara webshop in her hands, standing in front of a city center background, the weather is snowy, high photorealistic quality.\n"
     ]
    },
    {
     "name": "stderr",
     "output_type": "stream",
     "text": [
      "100%|██████████| 15/15 [00:07<00:00,  1.91it/s]\n",
      " 61%|██████    | 610/1000 [1:41:43<1:01:44,  9.50s/it]"
     ]
    },
    {
     "name": "stdout",
     "output_type": "stream",
     "text": [
      "A close-up view of a young man holding a black cardboard box with blue tape from the Bol.com webshop in his hands, standing in front of a city center background, the weather is cloudy, high photorealistic quality.\n"
     ]
    },
    {
     "name": "stderr",
     "output_type": "stream",
     "text": [
      "100%|██████████| 15/15 [00:07<00:00,  1.90it/s]\n",
      " 61%|██████    | 611/1000 [1:41:53<1:01:42,  9.52s/it]"
     ]
    },
    {
     "name": "stdout",
     "output_type": "stream",
     "text": [
      "A long shot view of a young lady holding a black cardboard box with a barcode from the Nike webshop in her hands, standing in front of a busy city street and people background, the weather is sunny, high photorealistic quality.\n"
     ]
    },
    {
     "name": "stderr",
     "output_type": "stream",
     "text": [
      "100%|██████████| 15/15 [00:07<00:00,  1.91it/s]\n",
      " 61%|██████    | 612/1000 [1:42:02<1:01:30,  9.51s/it]"
     ]
    },
    {
     "name": "stdout",
     "output_type": "stream",
     "text": [
      "A low angle view of an angry boy holding a black cardboard box with black tape from the Bol.com webshop in his hands, standing in front of a busy city street and people background, the weather is cloudy, high photorealistic quality.\n"
     ]
    },
    {
     "name": "stderr",
     "output_type": "stream",
     "text": [
      "100%|██████████| 15/15 [00:07<00:00,  1.91it/s]\n",
      " 61%|██████▏   | 613/1000 [1:42:12<1:01:23,  9.52s/it]"
     ]
    },
    {
     "name": "stdout",
     "output_type": "stream",
     "text": [
      "A low angle view of a frowning boy holding a colorful cardboard box with green tape from the Coolblue webshop in his hands, standing in front of a garbage curb background, the weather is rainy, high photorealistic quality.\n"
     ]
    },
    {
     "name": "stderr",
     "output_type": "stream",
     "text": [
      "100%|██████████| 15/15 [00:07<00:00,  1.91it/s]\n",
      " 61%|██████▏   | 614/1000 [1:42:21<1:01:10,  9.51s/it]"
     ]
    },
    {
     "name": "stdout",
     "output_type": "stream",
     "text": [
      "A long shot view of a frowning woman holding a black cardboard box with green tape from the Bol.com webshop in her hands, standing in front of a city center background, the weather is snowy, high photorealistic quality.\n"
     ]
    },
    {
     "name": "stderr",
     "output_type": "stream",
     "text": [
      "100%|██████████| 15/15 [00:07<00:00,  1.91it/s]\n",
      " 62%|██████▏   | 615/1000 [1:42:31<1:01:00,  9.51s/it]"
     ]
    },
    {
     "name": "stdout",
     "output_type": "stream",
     "text": [
      "A full shot view of a happy lady holding a colorful cardboard box with a barcode from the Coolblue webshop in her hands, standing in front of a quite neighborhood street and garden background, the weather is rainy, high photorealistic quality.\n"
     ]
    },
    {
     "name": "stderr",
     "output_type": "stream",
     "text": [
      "100%|██████████| 15/15 [00:07<00:00,  1.91it/s]\n",
      " 62%|██████▏   | 616/1000 [1:42:40<1:00:49,  9.50s/it]"
     ]
    },
    {
     "name": "stdout",
     "output_type": "stream",
     "text": [
      "A long shot view of an angry man holding a colorful cardboard box with red tape from the Coolblue webshop in his hands, standing in front of a quite neighborhood street and cars background, the weather is snowy, high photorealistic quality.\n"
     ]
    },
    {
     "name": "stderr",
     "output_type": "stream",
     "text": [
      "100%|██████████| 15/15 [00:07<00:00,  1.91it/s]\n",
      " 62%|██████▏   | 617/1000 [1:42:50<1:00:37,  9.50s/it]"
     ]
    },
    {
     "name": "stdout",
     "output_type": "stream",
     "text": [
      "A close-up view of a frowning boy holding a black cardboard box with green tape from the Amazon webshop in his hands, standing in front of a in the street background, the weather is cloudy, high photorealistic quality.\n"
     ]
    },
    {
     "name": "stderr",
     "output_type": "stream",
     "text": [
      "100%|██████████| 15/15 [00:08<00:00,  1.82it/s]\n",
      " 62%|██████▏   | 618/1000 [1:43:00<1:01:56,  9.73s/it]"
     ]
    },
    {
     "name": "stdout",
     "output_type": "stream",
     "text": [
      "A close-up view of a young lady holding a brown cardboard box with black tape from the Coolblue webshop in her hands, standing in front of a appartment building background, the weather is snowy, high photorealistic quality.\n"
     ]
    },
    {
     "name": "stderr",
     "output_type": "stream",
     "text": [
      "100%|██████████| 15/15 [00:08<00:00,  1.76it/s]\n",
      " 62%|██████▏   | 619/1000 [1:43:11<1:03:52, 10.06s/it]"
     ]
    },
    {
     "name": "stdout",
     "output_type": "stream",
     "text": [
      "A close-up view of a smiling woman holding a colorful cardboard box with green tape from the Zara webshop in her hands, standing in front of a quite neighborhood street and cars background, the weather is sunny, high photorealistic quality.\n"
     ]
    },
    {
     "name": "stderr",
     "output_type": "stream",
     "text": [
      "100%|██████████| 15/15 [00:09<00:00,  1.61it/s]\n",
      " 62%|██████▏   | 620/1000 [1:43:22<1:06:21, 10.48s/it]"
     ]
    },
    {
     "name": "stdout",
     "output_type": "stream",
     "text": [
      "A full shot view of a frowning woman holding a black cardboard box with black tape from the Zalando webshop in her hands, standing in front of a appartment building background, the weather is rainy, high photorealistic quality.\n"
     ]
    },
    {
     "name": "stderr",
     "output_type": "stream",
     "text": [
      "100%|██████████| 15/15 [00:08<00:00,  1.77it/s]\n",
      " 62%|██████▏   | 621/1000 [1:43:33<1:06:16, 10.49s/it]"
     ]
    },
    {
     "name": "stdout",
     "output_type": "stream",
     "text": [
      "A close-up view of a frowning person holding a colorful cardboard box with black tape from the Zara webshop in her hands, standing in front of a city center background, the weather is rainy, high photorealistic quality.\n"
     ]
    },
    {
     "name": "stderr",
     "output_type": "stream",
     "text": [
      "100%|██████████| 15/15 [00:10<00:00,  1.44it/s]\n",
      " 62%|██████▏   | 622/1000 [1:43:45<1:09:50, 11.09s/it]"
     ]
    },
    {
     "name": "stdout",
     "output_type": "stream",
     "text": [
      "A medium shot view of a frowning man holding a black cardboard box with yellow tape from the Zalando webshop in his hands, standing in front of a busy city street and people background, the weather is sunny, high photorealistic quality.\n"
     ]
    },
    {
     "name": "stderr",
     "output_type": "stream",
     "text": [
      "100%|██████████| 15/15 [00:15<00:00,  1.02s/it]\n",
      " 62%|██████▏   | 623/1000 [1:44:13<1:40:19, 15.97s/it]"
     ]
    },
    {
     "name": "stdout",
     "output_type": "stream",
     "text": [
      "A long shot view of a happy person holding a white cardboard box with black tape from the Amazon webshop in her hands, standing in front of a busy city street and cars background, the weather is rainy, high photorealistic quality.\n"
     ]
    },
    {
     "name": "stderr",
     "output_type": "stream",
     "text": [
      "100%|██████████| 15/15 [00:50<00:00,  3.37s/it]\n",
      " 62%|██████▏   | 624/1000 [1:45:10<2:58:04, 28.42s/it]"
     ]
    },
    {
     "name": "stdout",
     "output_type": "stream",
     "text": [
      "A long shot view of a frowning man holding a brown cardboard box with red tape from the Amazon webshop in his hands, standing in front of a appartment building background, the weather is sunny, high photorealistic quality.\n"
     ]
    },
    {
     "name": "stderr",
     "output_type": "stream",
     "text": [
      "100%|██████████| 15/15 [00:19<00:00,  1.29s/it]\n",
      " 62%|██████▎   | 625/1000 [1:45:32<2:44:31, 26.33s/it]"
     ]
    },
    {
     "name": "stdout",
     "output_type": "stream",
     "text": [
      "A full shot view of a sad boy holding a colorful cardboard box with blue tape from the Bol.com webshop in his hands, standing in front of a garbage curb background, the weather is cloudy, high photorealistic quality.\n"
     ]
    },
    {
     "name": "stderr",
     "output_type": "stream",
     "text": [
      "100%|██████████| 15/15 [00:15<00:00,  1.02s/it]\n",
      " 63%|██████▎   | 626/1000 [1:45:49<2:27:13, 23.62s/it]"
     ]
    },
    {
     "name": "stdout",
     "output_type": "stream",
     "text": [
      "A low angle view of a happy woman holding a colorful cardboard box with yellow tape from the Adidas webshop in her hands, standing in front of a in the street background, the weather is snowy, high photorealistic quality.\n"
     ]
    },
    {
     "name": "stderr",
     "output_type": "stream",
     "text": [
      "100%|██████████| 15/15 [00:09<00:00,  1.65it/s]\n",
      " 63%|██████▎   | 627/1000 [1:46:00<2:03:10, 19.81s/it]"
     ]
    },
    {
     "name": "stdout",
     "output_type": "stream",
     "text": [
      "A high angle view of a frowning person holding a black cardboard box with blue tape from the Amazon webshop in her hands, standing in front of a quite neighborhood street and cars background, the weather is snowy, high photorealistic quality.\n"
     ]
    },
    {
     "name": "stderr",
     "output_type": "stream",
     "text": [
      "100%|██████████| 15/15 [00:08<00:00,  1.75it/s]\n",
      " 63%|██████▎   | 628/1000 [1:46:10<1:45:06, 16.95s/it]"
     ]
    },
    {
     "name": "stdout",
     "output_type": "stream",
     "text": [
      "A close-up view of a sad boy holding a black cardboard box with black tape from the H&M webshop in his hands, standing in front of a city center background, the weather is sunny, high photorealistic quality.\n"
     ]
    },
    {
     "name": "stderr",
     "output_type": "stream",
     "text": [
      "100%|██████████| 15/15 [00:08<00:00,  1.75it/s]\n",
      " 63%|██████▎   | 629/1000 [1:46:20<1:32:30, 14.96s/it]"
     ]
    },
    {
     "name": "stdout",
     "output_type": "stream",
     "text": [
      "A close-up view of a smiling woman holding a colorful cardboard box with red tape from a webshop in her hands, standing in front of a appartment building background, the weather is snowy, high photorealistic quality.\n"
     ]
    },
    {
     "name": "stderr",
     "output_type": "stream",
     "text": [
      "100%|██████████| 15/15 [00:08<00:00,  1.75it/s]\n",
      " 63%|██████▎   | 630/1000 [1:46:31<1:23:49, 13.59s/it]"
     ]
    },
    {
     "name": "stdout",
     "output_type": "stream",
     "text": [
      "A long shot view of an old person holding a white cardboard box with a barcode from the Bol.com webshop in her hands, standing in front of a busy city street and cars background, the weather is rainy, high photorealistic quality.\n"
     ]
    },
    {
     "name": "stderr",
     "output_type": "stream",
     "text": [
      "100%|██████████| 15/15 [00:08<00:00,  1.75it/s]\n",
      " 63%|██████▎   | 631/1000 [1:46:41<1:17:26, 12.59s/it]"
     ]
    },
    {
     "name": "stdout",
     "output_type": "stream",
     "text": [
      "A low angle view of a happy woman holding a black cardboard box with red tape from the Coolblue webshop in her hands, standing in front of a appartment building background, the weather is cloudy, high photorealistic quality.\n"
     ]
    },
    {
     "name": "stderr",
     "output_type": "stream",
     "text": [
      "100%|██████████| 15/15 [00:08<00:00,  1.76it/s]\n",
      " 63%|██████▎   | 632/1000 [1:46:51<1:12:46, 11.86s/it]"
     ]
    },
    {
     "name": "stdout",
     "output_type": "stream",
     "text": [
      "A low angle view of a smiling woman holding a colorful cardboard box with a barcode from the H&M webshop in her hands, standing in front of a quite neighborhood street and cars background, the weather is rainy, high photorealistic quality.\n"
     ]
    },
    {
     "name": "stderr",
     "output_type": "stream",
     "text": [
      "100%|██████████| 15/15 [00:08<00:00,  1.76it/s]\n",
      " 63%|██████▎   | 633/1000 [1:47:01<1:09:27, 11.35s/it]"
     ]
    },
    {
     "name": "stdout",
     "output_type": "stream",
     "text": [
      "A low angle view of a smiling boy holding a brown cardboard box with a barcode from the Zalando webshop in his hands, standing in front of a quite neighborhood street and garden background, the weather is rainy, high photorealistic quality.\n"
     ]
    },
    {
     "name": "stderr",
     "output_type": "stream",
     "text": [
      "100%|██████████| 15/15 [00:08<00:00,  1.76it/s]\n",
      " 63%|██████▎   | 634/1000 [1:47:12<1:07:15, 11.02s/it]"
     ]
    },
    {
     "name": "stdout",
     "output_type": "stream",
     "text": [
      "A full shot view of a frowning man holding a colorful cardboard box with green tape from a webshop in his hands, standing in front of a busy city street and people background, the weather is rainy, high photorealistic quality.\n"
     ]
    },
    {
     "name": "stderr",
     "output_type": "stream",
     "text": [
      "100%|██████████| 15/15 [00:09<00:00,  1.54it/s]\n",
      " 64%|██████▎   | 635/1000 [1:47:24<1:08:45, 11.30s/it]"
     ]
    },
    {
     "name": "stdout",
     "output_type": "stream",
     "text": [
      "A full shot view of an old boy holding a black cardboard box with green tape from the Amazon webshop in his hands, standing in front of a quite neighborhood street and trees background, the weather is rainy, high photorealistic quality.\n"
     ]
    },
    {
     "name": "stderr",
     "output_type": "stream",
     "text": [
      "100%|██████████| 15/15 [00:13<00:00,  1.10it/s]\n",
      " 64%|██████▎   | 636/1000 [1:47:40<1:17:13, 12.73s/it]"
     ]
    },
    {
     "name": "stdout",
     "output_type": "stream",
     "text": [
      "A close-up view of a young person holding a brown cardboard box with a qr code from the Adidas webshop in her hands, standing in front of a city center background, the weather is sunny, high photorealistic quality.\n"
     ]
    },
    {
     "name": "stderr",
     "output_type": "stream",
     "text": [
      "100%|██████████| 15/15 [00:17<00:00,  1.17s/it]\n",
      " 64%|██████▎   | 637/1000 [1:47:59<1:29:08, 14.73s/it]"
     ]
    },
    {
     "name": "stdout",
     "output_type": "stream",
     "text": [
      "A low angle view of a smiling boy holding a black cardboard box with black tape from the Zalando webshop in his hands, standing in front of a busy city street and cars background, the weather is snowy, high photorealistic quality.\n"
     ]
    },
    {
     "name": "stderr",
     "output_type": "stream",
     "text": [
      "100%|██████████| 15/15 [00:12<00:00,  1.20it/s]\n",
      " 64%|██████▍   | 638/1000 [1:48:13<1:28:16, 14.63s/it]"
     ]
    },
    {
     "name": "stdout",
     "output_type": "stream",
     "text": [
      "A close-up view of an angry woman holding a white cardboard box with blue tape from the Coolblue webshop in her hands, standing in front of a quite neighborhood street and cars background, the weather is cloudy, high photorealistic quality.\n"
     ]
    },
    {
     "name": "stderr",
     "output_type": "stream",
     "text": [
      "100%|██████████| 15/15 [00:08<00:00,  1.74it/s]\n",
      " 64%|██████▍   | 639/1000 [1:48:25<1:21:33, 13.56s/it]"
     ]
    },
    {
     "name": "stdout",
     "output_type": "stream",
     "text": [
      "A long shot view of a happy woman holding a brown cardboard box with blue tape from the Adidas webshop in her hands, standing in front of a quite neighborhood street and cars background, the weather is rainy, high photorealistic quality.\n"
     ]
    },
    {
     "name": "stderr",
     "output_type": "stream",
     "text": [
      "100%|██████████| 15/15 [00:12<00:00,  1.21it/s]\n",
      " 64%|██████▍   | 640/1000 [1:48:39<1:22:54, 13.82s/it]"
     ]
    },
    {
     "name": "stdout",
     "output_type": "stream",
     "text": [
      "A close-up view of a frowning man holding a colorful cardboard box with a number from the H&M webshop in his hands, standing in front of a quite neighborhood street and cars background, the weather is cloudy, high photorealistic quality.\n"
     ]
    },
    {
     "name": "stderr",
     "output_type": "stream",
     "text": [
      "100%|██████████| 15/15 [00:08<00:00,  1.71it/s]\n",
      " 64%|██████▍   | 641/1000 [1:48:50<1:17:00, 12.87s/it]"
     ]
    },
    {
     "name": "stdout",
     "output_type": "stream",
     "text": [
      "A close-up view of a young lady holding a black cardboard box with a number from the Bol.com webshop in her hands, standing in front of a busy city street and cars background, the weather is snowy, high photorealistic quality.\n"
     ]
    },
    {
     "name": "stderr",
     "output_type": "stream",
     "text": [
      "100%|██████████| 15/15 [00:10<00:00,  1.38it/s]\n",
      " 64%|██████▍   | 642/1000 [1:49:03<1:18:32, 13.16s/it]"
     ]
    },
    {
     "name": "stdout",
     "output_type": "stream",
     "text": [
      "A low angle view of a frowning woman holding a brown cardboard box with green tape from a webshop in her hands, standing in front of a in the street background, the weather is sunny, high photorealistic quality.\n"
     ]
    },
    {
     "name": "stderr",
     "output_type": "stream",
     "text": [
      "100%|██████████| 15/15 [00:10<00:00,  1.45it/s]\n",
      " 64%|██████▍   | 643/1000 [1:49:15<1:16:14, 12.81s/it]"
     ]
    },
    {
     "name": "stdout",
     "output_type": "stream",
     "text": [
      "A long shot view of an angry man holding a black cardboard box with green tape from the Adidas webshop in his hands, standing in front of a busy city street and people background, the weather is snowy, high photorealistic quality.\n"
     ]
    },
    {
     "name": "stderr",
     "output_type": "stream",
     "text": [
      "100%|██████████| 15/15 [00:08<00:00,  1.72it/s]\n",
      " 64%|██████▍   | 644/1000 [1:49:26<1:11:49, 12.11s/it]"
     ]
    },
    {
     "name": "stdout",
     "output_type": "stream",
     "text": [
      "A medium shot view of a happy man holding a white cardboard box with red tape from the Nike webshop in his hands, standing in front of a garbage curb background, the weather is sunny, high photorealistic quality.\n"
     ]
    },
    {
     "name": "stderr",
     "output_type": "stream",
     "text": [
      "100%|██████████| 15/15 [00:10<00:00,  1.48it/s]\n",
      " 64%|██████▍   | 645/1000 [1:49:38<1:11:20, 12.06s/it]"
     ]
    },
    {
     "name": "stdout",
     "output_type": "stream",
     "text": [
      "A close-up view of a young boy holding a brown cardboard box with blue tape from the Zalando webshop in his hands, standing in front of a busy city street and people background, the weather is cloudy, high photorealistic quality.\n"
     ]
    },
    {
     "name": "stderr",
     "output_type": "stream",
     "text": [
      "100%|██████████| 15/15 [00:07<00:00,  1.93it/s]\n",
      " 65%|██████▍   | 646/1000 [1:49:47<1:06:31, 11.28s/it]"
     ]
    },
    {
     "name": "stdout",
     "output_type": "stream",
     "text": [
      "A long shot view of a frowning woman holding a black cardboard box with green tape from the Coolblue webshop in her hands, standing in front of a quite neighborhood street and cars background, the weather is rainy, high photorealistic quality.\n"
     ]
    },
    {
     "name": "stderr",
     "output_type": "stream",
     "text": [
      "100%|██████████| 15/15 [00:08<00:00,  1.67it/s]\n",
      " 65%|██████▍   | 647/1000 [1:49:58<1:05:35, 11.15s/it]"
     ]
    },
    {
     "name": "stdout",
     "output_type": "stream",
     "text": [
      "A low angle view of an old person holding a black cardboard box with a barcode from the Bol.com webshop in her hands, standing in front of a busy city street and cars background, the weather is sunny, high photorealistic quality.\n"
     ]
    },
    {
     "name": "stderr",
     "output_type": "stream",
     "text": [
      "100%|██████████| 15/15 [00:09<00:00,  1.57it/s]\n",
      " 65%|██████▍   | 648/1000 [1:50:09<1:05:37, 11.19s/it]"
     ]
    },
    {
     "name": "stdout",
     "output_type": "stream",
     "text": [
      "A close-up view of a young woman holding a colorful cardboard box with black tape from the Bol.com webshop in her hands, standing in front of a busy city street and people background, the weather is sunny, high photorealistic quality.\n"
     ]
    },
    {
     "name": "stderr",
     "output_type": "stream",
     "text": [
      "100%|██████████| 15/15 [00:07<00:00,  1.97it/s]\n",
      " 65%|██████▍   | 649/1000 [1:50:19<1:02:15, 10.64s/it]"
     ]
    },
    {
     "name": "stdout",
     "output_type": "stream",
     "text": [
      "A close-up view of a frowning person holding a black cardboard box with red tape from the Zara webshop in her hands, standing in front of a appartment building background, the weather is cloudy, high photorealistic quality.\n"
     ]
    },
    {
     "name": "stderr",
     "output_type": "stream",
     "text": [
      "100%|██████████| 15/15 [00:09<00:00,  1.59it/s]\n",
      " 65%|██████▌   | 650/1000 [1:50:30<1:02:58, 10.80s/it]"
     ]
    },
    {
     "name": "stdout",
     "output_type": "stream",
     "text": [
      "A low angle view of a young lady holding a colorful cardboard box with a barcode from the Zalando webshop in her hands, standing in front of a in the street background, the weather is rainy, high photorealistic quality.\n"
     ]
    },
    {
     "name": "stderr",
     "output_type": "stream",
     "text": [
      "100%|██████████| 15/15 [00:10<00:00,  1.41it/s]\n",
      " 65%|██████▌   | 651/1000 [1:50:42<1:05:26, 11.25s/it]"
     ]
    },
    {
     "name": "stdout",
     "output_type": "stream",
     "text": [
      "A long shot view of an angry lady holding a white cardboard box with a qr code from the Zara webshop in her hands, standing in front of a quite neighborhood street and garden background, the weather is snowy, high photorealistic quality.\n"
     ]
    },
    {
     "name": "stderr",
     "output_type": "stream",
     "text": [
      "100%|██████████| 15/15 [00:12<00:00,  1.19it/s]\n",
      " 65%|██████▌   | 652/1000 [1:50:57<1:10:28, 12.15s/it]"
     ]
    },
    {
     "name": "stdout",
     "output_type": "stream",
     "text": [
      "A high angle view of a happy person holding a black cardboard box with a qr code from the Nike webshop in her hands, standing in front of a in the street background, the weather is cloudy, high photorealistic quality.\n"
     ]
    },
    {
     "name": "stderr",
     "output_type": "stream",
     "text": [
      "100%|██████████| 15/15 [00:07<00:00,  1.92it/s]\n",
      " 65%|██████▌   | 653/1000 [1:51:06<1:05:30, 11.33s/it]"
     ]
    },
    {
     "name": "stdout",
     "output_type": "stream",
     "text": [
      "A long shot view of an angry lady holding a white cardboard box with yellow tape from the Adidas webshop in her hands, standing in front of a quite neighborhood street and cars background, the weather is snowy, high photorealistic quality.\n"
     ]
    },
    {
     "name": "stderr",
     "output_type": "stream",
     "text": [
      "100%|██████████| 15/15 [00:07<00:00,  1.91it/s]\n",
      " 65%|██████▌   | 654/1000 [1:51:15<1:02:04, 10.77s/it]"
     ]
    },
    {
     "name": "stdout",
     "output_type": "stream",
     "text": [
      "A medium shot view of an old lady holding a white cardboard box with a number from the Adidas webshop in her hands, standing in front of a quite neighborhood street and trees background, the weather is snowy, high photorealistic quality.\n"
     ]
    },
    {
     "name": "stderr",
     "output_type": "stream",
     "text": [
      "100%|██████████| 15/15 [00:07<00:00,  1.91it/s]\n",
      " 66%|██████▌   | 655/1000 [1:51:25<59:41, 10.38s/it]  "
     ]
    },
    {
     "name": "stdout",
     "output_type": "stream",
     "text": [
      "A close-up view of a smiling boy holding a brown cardboard box with blue tape from the Nike webshop in his hands, standing in front of a quite neighborhood street and trees background, the weather is rainy, high photorealistic quality.\n"
     ]
    },
    {
     "name": "stderr",
     "output_type": "stream",
     "text": [
      "100%|██████████| 15/15 [00:07<00:00,  1.91it/s]\n",
      " 66%|██████▌   | 656/1000 [1:51:34<58:00, 10.12s/it]"
     ]
    },
    {
     "name": "stdout",
     "output_type": "stream",
     "text": [
      "A full shot view of a smiling lady holding a white cardboard box with yellow tape from the H&M webshop in her hands, standing in front of a busy city street and people background, the weather is rainy, high photorealistic quality.\n"
     ]
    },
    {
     "name": "stderr",
     "output_type": "stream",
     "text": [
      "100%|██████████| 15/15 [00:07<00:00,  1.90it/s]\n",
      " 66%|██████▌   | 657/1000 [1:51:44<56:51,  9.94s/it]"
     ]
    },
    {
     "name": "stdout",
     "output_type": "stream",
     "text": [
      "A high angle view of an angry person holding a black cardboard box with blue tape from the H&M webshop in her hands, standing in front of a quite neighborhood street and trees background, the weather is snowy, high photorealistic quality.\n"
     ]
    },
    {
     "name": "stderr",
     "output_type": "stream",
     "text": [
      "100%|██████████| 15/15 [00:07<00:00,  1.90it/s]\n",
      " 66%|██████▌   | 658/1000 [1:51:53<55:57,  9.82s/it]"
     ]
    },
    {
     "name": "stdout",
     "output_type": "stream",
     "text": [
      "A close-up view of a sad boy holding a colorful cardboard box with green tape from the H&M webshop in his hands, standing in front of a quite neighborhood street and cars background, the weather is sunny, high photorealistic quality.\n"
     ]
    },
    {
     "name": "stderr",
     "output_type": "stream",
     "text": [
      "100%|██████████| 15/15 [00:07<00:00,  1.92it/s]\n",
      " 66%|██████▌   | 659/1000 [1:52:03<55:11,  9.71s/it]"
     ]
    },
    {
     "name": "stdout",
     "output_type": "stream",
     "text": [
      "A low angle view of a sad boy holding a white cardboard box with blue tape from the Coolblue webshop in his hands, standing in front of a busy city street and cars background, the weather is snowy, high photorealistic quality.\n"
     ]
    },
    {
     "name": "stderr",
     "output_type": "stream",
     "text": [
      "100%|██████████| 15/15 [00:07<00:00,  1.91it/s]\n",
      " 66%|██████▌   | 660/1000 [1:52:12<54:38,  9.64s/it]"
     ]
    },
    {
     "name": "stdout",
     "output_type": "stream",
     "text": [
      "A medium shot view of a smiling woman holding a colorful cardboard box with black tape from the Coolblue webshop in her hands, standing in front of a busy city street and cars background, the weather is rainy, high photorealistic quality.\n"
     ]
    },
    {
     "name": "stderr",
     "output_type": "stream",
     "text": [
      "100%|██████████| 15/15 [00:07<00:00,  1.90it/s]\n",
      " 66%|██████▌   | 661/1000 [1:52:22<54:20,  9.62s/it]"
     ]
    },
    {
     "name": "stdout",
     "output_type": "stream",
     "text": [
      "A full shot view of a young man holding a black cardboard box with a qr code from the Zara webshop in his hands, standing in front of a quite neighborhood street and garden background, the weather is snowy, high photorealistic quality.\n"
     ]
    },
    {
     "name": "stderr",
     "output_type": "stream",
     "text": [
      "100%|██████████| 15/15 [00:07<00:00,  1.90it/s]\n",
      " 66%|██████▌   | 662/1000 [1:52:32<54:07,  9.61s/it]"
     ]
    },
    {
     "name": "stdout",
     "output_type": "stream",
     "text": [
      "A full shot view of a smiling woman holding a black cardboard box with a barcode from the Nike webshop in her hands, standing in front of a appartment building background, the weather is sunny, high photorealistic quality.\n"
     ]
    },
    {
     "name": "stderr",
     "output_type": "stream",
     "text": [
      "100%|██████████| 15/15 [00:07<00:00,  1.91it/s]\n",
      " 66%|██████▋   | 663/1000 [1:52:41<53:42,  9.56s/it]"
     ]
    },
    {
     "name": "stdout",
     "output_type": "stream",
     "text": [
      "A full shot view of a frowning person holding a brown cardboard box with red tape from the H&M webshop in her hands, standing in front of a in the street background, the weather is rainy, high photorealistic quality.\n"
     ]
    },
    {
     "name": "stderr",
     "output_type": "stream",
     "text": [
      "100%|██████████| 15/15 [00:07<00:00,  1.91it/s]\n",
      " 66%|██████▋   | 664/1000 [1:52:51<53:34,  9.57s/it]"
     ]
    },
    {
     "name": "stdout",
     "output_type": "stream",
     "text": [
      "A low angle view of a frowning person holding a black cardboard box with black tape from the Amazon webshop in her hands, standing in front of a busy city street and people background, the weather is cloudy, high photorealistic quality.\n"
     ]
    },
    {
     "name": "stderr",
     "output_type": "stream",
     "text": [
      "100%|██████████| 15/15 [00:07<00:00,  1.92it/s]\n",
      " 66%|██████▋   | 665/1000 [1:53:00<53:10,  9.52s/it]"
     ]
    },
    {
     "name": "stdout",
     "output_type": "stream",
     "text": [
      "A close-up view of an angry man holding a colorful cardboard box with a number from the Zara webshop in his hands, standing in front of a quite neighborhood street and garden background, the weather is sunny, high photorealistic quality.\n"
     ]
    },
    {
     "name": "stderr",
     "output_type": "stream",
     "text": [
      "100%|██████████| 15/15 [00:07<00:00,  1.92it/s]\n",
      " 67%|██████▋   | 666/1000 [1:53:09<52:52,  9.50s/it]"
     ]
    },
    {
     "name": "stdout",
     "output_type": "stream",
     "text": [
      "A long shot view of an old person holding a brown cardboard box with a number from the Zalando webshop in her hands, standing in front of a quite neighborhood street and cars background, the weather is rainy, high photorealistic quality.\n"
     ]
    },
    {
     "name": "stderr",
     "output_type": "stream",
     "text": [
      "100%|██████████| 15/15 [00:07<00:00,  1.91it/s]\n",
      " 67%|██████▋   | 667/1000 [1:53:19<52:42,  9.50s/it]"
     ]
    },
    {
     "name": "stdout",
     "output_type": "stream",
     "text": [
      "A full shot view of a sad man holding a colorful cardboard box with black tape from the H&M webshop in his hands, standing in front of a in the street background, the weather is sunny, high photorealistic quality.\n"
     ]
    },
    {
     "name": "stderr",
     "output_type": "stream",
     "text": [
      "100%|██████████| 15/15 [00:07<00:00,  1.91it/s]\n",
      " 67%|██████▋   | 668/1000 [1:53:28<52:27,  9.48s/it]"
     ]
    },
    {
     "name": "stdout",
     "output_type": "stream",
     "text": [
      "A low angle view of an angry man holding a brown cardboard box with a qr code from the Zalando webshop in his hands, standing in front of a quite neighborhood street and cars background, the weather is snowy, high photorealistic quality.\n"
     ]
    },
    {
     "name": "stderr",
     "output_type": "stream",
     "text": [
      "100%|██████████| 15/15 [00:07<00:00,  1.92it/s]\n",
      " 67%|██████▋   | 669/1000 [1:53:38<52:20,  9.49s/it]"
     ]
    },
    {
     "name": "stdout",
     "output_type": "stream",
     "text": [
      "A full shot view of an old person holding a white cardboard box with a qr code from the Coolblue webshop in her hands, standing in front of a quite neighborhood street and garden background, the weather is cloudy, high photorealistic quality.\n"
     ]
    },
    {
     "name": "stderr",
     "output_type": "stream",
     "text": [
      "100%|██████████| 15/15 [00:07<00:00,  1.93it/s]\n",
      " 67%|██████▋   | 670/1000 [1:53:47<52:00,  9.46s/it]"
     ]
    },
    {
     "name": "stdout",
     "output_type": "stream",
     "text": [
      "A high angle view of a frowning boy holding a black cardboard box with black tape from the Adidas webshop in his hands, standing in front of a appartment building background, the weather is rainy, high photorealistic quality.\n"
     ]
    },
    {
     "name": "stderr",
     "output_type": "stream",
     "text": [
      "100%|██████████| 15/15 [00:07<00:00,  1.91it/s]\n",
      " 67%|██████▋   | 671/1000 [1:53:57<51:51,  9.46s/it]"
     ]
    },
    {
     "name": "stdout",
     "output_type": "stream",
     "text": [
      "A high angle view of a sad man holding a white cardboard box with black tape from the H&M webshop in his hands, standing in front of a city center background, the weather is cloudy, high photorealistic quality.\n"
     ]
    },
    {
     "name": "stderr",
     "output_type": "stream",
     "text": [
      "100%|██████████| 15/15 [00:07<00:00,  1.92it/s]\n",
      " 67%|██████▋   | 672/1000 [1:54:06<51:40,  9.45s/it]"
     ]
    },
    {
     "name": "stdout",
     "output_type": "stream",
     "text": [
      "A full shot view of a sad man holding a black cardboard box with red tape from the Bol.com webshop in his hands, standing in front of a in the street background, the weather is snowy, high photorealistic quality.\n"
     ]
    },
    {
     "name": "stderr",
     "output_type": "stream",
     "text": [
      "100%|██████████| 15/15 [00:07<00:00,  1.90it/s]\n",
      " 67%|██████▋   | 673/1000 [1:54:16<51:34,  9.46s/it]"
     ]
    },
    {
     "name": "stdout",
     "output_type": "stream",
     "text": [
      "A long shot view of an old man holding a brown cardboard box with blue tape from the Bol.com webshop in his hands, standing in front of a quite neighborhood street and garden background, the weather is sunny, high photorealistic quality.\n"
     ]
    },
    {
     "name": "stderr",
     "output_type": "stream",
     "text": [
      "100%|██████████| 15/15 [00:08<00:00,  1.80it/s]\n",
      " 67%|██████▋   | 674/1000 [1:54:26<52:16,  9.62s/it]"
     ]
    },
    {
     "name": "stdout",
     "output_type": "stream",
     "text": [
      "A full shot view of a frowning woman holding a brown cardboard box with black tape from the Adidas webshop in her hands, standing in front of a quite neighborhood street and trees background, the weather is cloudy, high photorealistic quality.\n"
     ]
    },
    {
     "name": "stderr",
     "output_type": "stream",
     "text": [
      "100%|██████████| 15/15 [00:07<00:00,  1.91it/s]\n",
      " 68%|██████▊   | 675/1000 [1:54:35<51:51,  9.58s/it]"
     ]
    },
    {
     "name": "stdout",
     "output_type": "stream",
     "text": [
      "A close-up view of an old boy holding a brown cardboard box with blue tape from the Zara webshop in his hands, standing in front of a busy city street and people background, the weather is cloudy, high photorealistic quality.\n"
     ]
    },
    {
     "name": "stderr",
     "output_type": "stream",
     "text": [
      "100%|██████████| 15/15 [00:07<00:00,  1.90it/s]\n",
      " 68%|██████▊   | 676/1000 [1:54:45<51:36,  9.56s/it]"
     ]
    },
    {
     "name": "stdout",
     "output_type": "stream",
     "text": [
      "A low angle view of a sad boy holding a black cardboard box with black tape from the Bol.com webshop in his hands, standing in front of a city center background, the weather is rainy, high photorealistic quality.\n"
     ]
    },
    {
     "name": "stderr",
     "output_type": "stream",
     "text": [
      "100%|██████████| 15/15 [00:07<00:00,  1.89it/s]\n",
      " 68%|██████▊   | 677/1000 [1:54:54<51:25,  9.55s/it]"
     ]
    },
    {
     "name": "stdout",
     "output_type": "stream",
     "text": [
      "A long shot view of a frowning person holding a black cardboard box with a number from a webshop in her hands, standing in front of a quite neighborhood street and cars background, the weather is sunny, high photorealistic quality.\n"
     ]
    },
    {
     "name": "stderr",
     "output_type": "stream",
     "text": [
      "100%|██████████| 15/15 [00:07<00:00,  1.91it/s]\n",
      " 68%|██████▊   | 678/1000 [1:55:04<51:09,  9.53s/it]"
     ]
    },
    {
     "name": "stdout",
     "output_type": "stream",
     "text": [
      "A close-up view of a frowning man holding a black cardboard box with green tape from the H&M webshop in his hands, standing in front of a busy city street and people background, the weather is snowy, high photorealistic quality.\n"
     ]
    },
    {
     "name": "stderr",
     "output_type": "stream",
     "text": [
      "100%|██████████| 15/15 [00:07<00:00,  1.92it/s]\n",
      " 68%|██████▊   | 679/1000 [1:55:13<50:54,  9.51s/it]"
     ]
    },
    {
     "name": "stdout",
     "output_type": "stream",
     "text": [
      "A full shot view of an angry man holding a black cardboard box with red tape from the Zara webshop in his hands, standing in front of a busy city street and people background, the weather is snowy, high photorealistic quality.\n"
     ]
    },
    {
     "name": "stderr",
     "output_type": "stream",
     "text": [
      "100%|██████████| 15/15 [00:07<00:00,  1.91it/s]\n",
      " 68%|██████▊   | 680/1000 [1:55:23<50:45,  9.52s/it]"
     ]
    },
    {
     "name": "stdout",
     "output_type": "stream",
     "text": [
      "A medium shot view of a young person holding a colorful cardboard box with red tape from the H&M webshop in her hands, standing in front of a quite neighborhood street and cars background, the weather is sunny, high photorealistic quality.\n"
     ]
    },
    {
     "name": "stderr",
     "output_type": "stream",
     "text": [
      "100%|██████████| 15/15 [00:07<00:00,  1.92it/s]\n",
      " 68%|██████▊   | 681/1000 [1:55:32<50:30,  9.50s/it]"
     ]
    },
    {
     "name": "stdout",
     "output_type": "stream",
     "text": [
      "A low angle view of a smiling lady holding a brown cardboard box with yellow tape from the H&M webshop in her hands, standing in front of a city center background, the weather is sunny, high photorealistic quality.\n"
     ]
    },
    {
     "name": "stderr",
     "output_type": "stream",
     "text": [
      "100%|██████████| 15/15 [00:07<00:00,  1.91it/s]\n",
      " 68%|██████▊   | 682/1000 [1:55:42<50:19,  9.50s/it]"
     ]
    },
    {
     "name": "stdout",
     "output_type": "stream",
     "text": [
      "A medium shot view of a sad boy holding a black cardboard box with red tape from the Nike webshop in his hands, standing in front of a garbage curb background, the weather is cloudy, high photorealistic quality.\n"
     ]
    },
    {
     "name": "stderr",
     "output_type": "stream",
     "text": [
      "100%|██████████| 15/15 [00:07<00:00,  1.91it/s]\n",
      " 68%|██████▊   | 683/1000 [1:55:51<50:08,  9.49s/it]"
     ]
    },
    {
     "name": "stdout",
     "output_type": "stream",
     "text": [
      "A high angle view of a happy person holding a white cardboard box with blue tape from a webshop in her hands, standing in front of a busy city street and cars background, the weather is cloudy, high photorealistic quality.\n"
     ]
    },
    {
     "name": "stderr",
     "output_type": "stream",
     "text": [
      "100%|██████████| 15/15 [00:15<00:00,  1.00s/it]\n",
      " 68%|██████▊   | 684/1000 [1:56:09<1:03:35, 12.07s/it]"
     ]
    },
    {
     "name": "stdout",
     "output_type": "stream",
     "text": [
      "A low angle view of an angry man holding a colorful cardboard box with a barcode from the Nike webshop in his hands, standing in front of a busy city street and people background, the weather is sunny, high photorealistic quality.\n"
     ]
    },
    {
     "name": "stderr",
     "output_type": "stream",
     "text": [
      "100%|██████████| 15/15 [00:12<00:00,  1.23it/s]\n",
      " 68%|██████▊   | 685/1000 [1:56:23<1:06:44, 12.71s/it]"
     ]
    },
    {
     "name": "stdout",
     "output_type": "stream",
     "text": [
      "A high angle view of a sad boy holding a brown cardboard box with green tape from the H&M webshop in his hands, standing in front of a garbage curb background, the weather is rainy, high photorealistic quality.\n"
     ]
    },
    {
     "name": "stderr",
     "output_type": "stream",
     "text": [
      "100%|██████████| 15/15 [00:09<00:00,  1.64it/s]\n",
      " 69%|██████▊   | 686/1000 [1:56:34<1:03:35, 12.15s/it]"
     ]
    },
    {
     "name": "stdout",
     "output_type": "stream",
     "text": [
      "A full shot view of a frowning boy holding a colorful cardboard box with red tape from the H&M webshop in his hands, standing in front of a quite neighborhood street and cars background, the weather is rainy, high photorealistic quality.\n"
     ]
    },
    {
     "name": "stderr",
     "output_type": "stream",
     "text": [
      "100%|██████████| 15/15 [00:08<00:00,  1.67it/s]\n",
      " 69%|██████▊   | 687/1000 [1:56:45<1:00:59, 11.69s/it]"
     ]
    },
    {
     "name": "stdout",
     "output_type": "stream",
     "text": [
      "A low angle view of a smiling person holding a white cardboard box with blue tape from the Adidas webshop in her hands, standing in front of a in the street background, the weather is cloudy, high photorealistic quality.\n"
     ]
    },
    {
     "name": "stderr",
     "output_type": "stream",
     "text": [
      "100%|██████████| 15/15 [00:09<00:00,  1.60it/s]\n",
      " 69%|██████▉   | 688/1000 [1:56:56<59:48, 11.50s/it]  "
     ]
    },
    {
     "name": "stdout",
     "output_type": "stream",
     "text": [
      "A low angle view of a happy person holding a white cardboard box with a qr code from the Coolblue webshop in her hands, standing in front of a busy city street and people background, the weather is sunny, high photorealistic quality.\n"
     ]
    },
    {
     "name": "stderr",
     "output_type": "stream",
     "text": [
      "100%|██████████| 15/15 [00:08<00:00,  1.70it/s]\n",
      " 69%|██████▉   | 689/1000 [1:57:07<58:25, 11.27s/it]"
     ]
    },
    {
     "name": "stdout",
     "output_type": "stream",
     "text": [
      "A medium shot view of an old lady holding a colorful cardboard box with yellow tape from the Nike webshop in her hands, standing in front of a quite neighborhood street and garden background, the weather is cloudy, high photorealistic quality.\n"
     ]
    },
    {
     "name": "stderr",
     "output_type": "stream",
     "text": [
      "100%|██████████| 15/15 [00:11<00:00,  1.26it/s]\n",
      " 69%|██████▉   | 690/1000 [1:57:20<1:02:05, 12.02s/it]"
     ]
    },
    {
     "name": "stdout",
     "output_type": "stream",
     "text": [
      "A medium shot view of a frowning woman holding a colorful cardboard box with black tape from the Adidas webshop in her hands, standing in front of a appartment building background, the weather is rainy, high photorealistic quality.\n"
     ]
    },
    {
     "name": "stderr",
     "output_type": "stream",
     "text": [
      "100%|██████████| 15/15 [00:11<00:00,  1.33it/s]\n",
      " 69%|██████▉   | 691/1000 [1:57:34<1:04:28, 12.52s/it]"
     ]
    },
    {
     "name": "stdout",
     "output_type": "stream",
     "text": [
      "A close-up view of a happy lady holding a brown cardboard box with a barcode from the Zalando webshop in her hands, standing in front of a appartment building background, the weather is snowy, high photorealistic quality.\n"
     ]
    },
    {
     "name": "stderr",
     "output_type": "stream",
     "text": [
      "100%|██████████| 15/15 [00:17<00:00,  1.19s/it]\n",
      " 69%|██████▉   | 692/1000 [1:57:54<1:15:06, 14.63s/it]"
     ]
    },
    {
     "name": "stdout",
     "output_type": "stream",
     "text": [
      "A long shot view of an angry person holding a colorful cardboard box with a qr code from the Coolblue webshop in her hands, standing in front of a busy city street and people background, the weather is sunny, high photorealistic quality.\n"
     ]
    },
    {
     "name": "stderr",
     "output_type": "stream",
     "text": [
      "100%|██████████| 15/15 [00:21<00:00,  1.44s/it]\n",
      " 69%|██████▉   | 693/1000 [1:58:18<1:29:58, 17.59s/it]"
     ]
    },
    {
     "name": "stdout",
     "output_type": "stream",
     "text": [
      "A medium shot view of a happy person holding a black cardboard box with a number from the Zara webshop in her hands, standing in front of a city center background, the weather is sunny, high photorealistic quality.\n"
     ]
    },
    {
     "name": "stderr",
     "output_type": "stream",
     "text": [
      "100%|██████████| 15/15 [00:11<00:00,  1.30it/s]\n",
      " 69%|██████▉   | 694/1000 [1:58:31<1:22:59, 16.27s/it]"
     ]
    },
    {
     "name": "stdout",
     "output_type": "stream",
     "text": [
      "A close-up view of a happy person holding a black cardboard box with yellow tape from a webshop in her hands, standing in front of a quite neighborhood street and garden background, the weather is snowy, high photorealistic quality.\n"
     ]
    },
    {
     "name": "stderr",
     "output_type": "stream",
     "text": [
      "100%|██████████| 15/15 [00:08<00:00,  1.76it/s]\n",
      " 70%|██████▉   | 695/1000 [1:58:41<1:13:22, 14.44s/it]"
     ]
    },
    {
     "name": "stdout",
     "output_type": "stream",
     "text": [
      "A high angle view of an old lady holding a black cardboard box with yellow tape from the Amazon webshop in her hands, standing in front of a quite neighborhood street and cars background, the weather is rainy, high photorealistic quality.\n"
     ]
    },
    {
     "name": "stderr",
     "output_type": "stream",
     "text": [
      "100%|██████████| 15/15 [00:08<00:00,  1.76it/s]\n",
      " 70%|██████▉   | 696/1000 [1:58:52<1:06:39, 13.16s/it]"
     ]
    },
    {
     "name": "stdout",
     "output_type": "stream",
     "text": [
      "A high angle view of an old man holding a white cardboard box with blue tape from the Bol.com webshop in his hands, standing in front of a quite neighborhood street and garden background, the weather is cloudy, high photorealistic quality.\n"
     ]
    },
    {
     "name": "stderr",
     "output_type": "stream",
     "text": [
      "100%|██████████| 15/15 [00:08<00:00,  1.75it/s]\n",
      " 70%|██████▉   | 697/1000 [1:59:02<1:01:58, 12.27s/it]"
     ]
    },
    {
     "name": "stdout",
     "output_type": "stream",
     "text": [
      "A long shot view of a smiling boy holding a black cardboard box with blue tape from a webshop in his hands, standing in front of a busy city street and cars background, the weather is cloudy, high photorealistic quality.\n"
     ]
    },
    {
     "name": "stderr",
     "output_type": "stream",
     "text": [
      "100%|██████████| 15/15 [00:08<00:00,  1.76it/s]\n",
      " 70%|██████▉   | 698/1000 [1:59:12<58:33, 11.64s/it]  "
     ]
    },
    {
     "name": "stdout",
     "output_type": "stream",
     "text": [
      "A full shot view of a smiling person holding a white cardboard box with green tape from the Amazon webshop in her hands, standing in front of a busy city street and cars background, the weather is cloudy, high photorealistic quality.\n"
     ]
    },
    {
     "name": "stderr",
     "output_type": "stream",
     "text": [
      "100%|██████████| 15/15 [00:08<00:00,  1.75it/s]\n",
      " 70%|██████▉   | 699/1000 [1:59:22<56:11, 11.20s/it]"
     ]
    },
    {
     "name": "stdout",
     "output_type": "stream",
     "text": [
      "A long shot view of an angry woman holding a brown cardboard box with black tape from the Bol.com webshop in her hands, standing in front of a quite neighborhood street and trees background, the weather is snowy, high photorealistic quality.\n"
     ]
    },
    {
     "name": "stderr",
     "output_type": "stream",
     "text": [
      "100%|██████████| 15/15 [00:08<00:00,  1.76it/s]\n",
      " 70%|███████   | 700/1000 [1:59:32<54:26, 10.89s/it]"
     ]
    },
    {
     "name": "stdout",
     "output_type": "stream",
     "text": [
      "A long shot view of an angry person holding a colorful cardboard box with yellow tape from a webshop in her hands, standing in front of a busy city street and cars background, the weather is sunny, high photorealistic quality.\n"
     ]
    },
    {
     "name": "stderr",
     "output_type": "stream",
     "text": [
      "100%|██████████| 15/15 [00:08<00:00,  1.76it/s]\n",
      " 70%|███████   | 701/1000 [1:59:42<53:09, 10.67s/it]"
     ]
    },
    {
     "name": "stdout",
     "output_type": "stream",
     "text": [
      "A low angle view of a happy person holding a black cardboard box with blue tape from the Bol.com webshop in her hands, standing in front of a quite neighborhood street and garden background, the weather is sunny, high photorealistic quality.\n"
     ]
    },
    {
     "name": "stderr",
     "output_type": "stream",
     "text": [
      "100%|██████████| 15/15 [00:08<00:00,  1.75it/s]\n",
      " 70%|███████   | 702/1000 [1:59:53<52:17, 10.53s/it]"
     ]
    },
    {
     "name": "stdout",
     "output_type": "stream",
     "text": [
      "A medium shot view of a happy person holding a brown cardboard box with a number from a webshop in her hands, standing in front of a in the street background, the weather is sunny, high photorealistic quality.\n"
     ]
    },
    {
     "name": "stderr",
     "output_type": "stream",
     "text": [
      "100%|██████████| 15/15 [00:08<00:00,  1.76it/s]\n",
      " 70%|███████   | 703/1000 [2:00:03<51:36, 10.43s/it]"
     ]
    },
    {
     "name": "stdout",
     "output_type": "stream",
     "text": [
      "A high angle view of an old boy holding a brown cardboard box with a number from the Amazon webshop in his hands, standing in front of a city center background, the weather is cloudy, high photorealistic quality.\n"
     ]
    },
    {
     "name": "stderr",
     "output_type": "stream",
     "text": [
      "100%|██████████| 15/15 [00:08<00:00,  1.75it/s]\n",
      " 70%|███████   | 704/1000 [2:00:13<51:05, 10.36s/it]"
     ]
    },
    {
     "name": "stdout",
     "output_type": "stream",
     "text": [
      "A medium shot view of an old woman holding a white cardboard box with a barcode from the Coolblue webshop in her hands, standing in front of a city center background, the weather is cloudy, high photorealistic quality.\n"
     ]
    },
    {
     "name": "stderr",
     "output_type": "stream",
     "text": [
      "100%|██████████| 15/15 [00:08<00:00,  1.76it/s]\n",
      " 70%|███████   | 705/1000 [2:00:23<50:37, 10.30s/it]"
     ]
    },
    {
     "name": "stdout",
     "output_type": "stream",
     "text": [
      "A high angle view of a smiling lady holding a colorful cardboard box with yellow tape from a webshop in her hands, standing in front of a in the street background, the weather is sunny, high photorealistic quality.\n"
     ]
    },
    {
     "name": "stderr",
     "output_type": "stream",
     "text": [
      "100%|██████████| 15/15 [00:08<00:00,  1.76it/s]\n",
      " 71%|███████   | 706/1000 [2:00:33<50:13, 10.25s/it]"
     ]
    },
    {
     "name": "stdout",
     "output_type": "stream",
     "text": [
      "A medium shot view of a smiling woman holding a white cardboard box with yellow tape from the Amazon webshop in her hands, standing in front of a quite neighborhood street and trees background, the weather is snowy, high photorealistic quality.\n"
     ]
    },
    {
     "name": "stderr",
     "output_type": "stream",
     "text": [
      "100%|██████████| 15/15 [00:08<00:00,  1.75it/s]\n",
      " 71%|███████   | 707/1000 [2:00:44<49:56, 10.23s/it]"
     ]
    },
    {
     "name": "stdout",
     "output_type": "stream",
     "text": [
      "A high angle view of a happy person holding a black cardboard box with a number from a webshop in her hands, standing in front of a appartment building background, the weather is rainy, high photorealistic quality.\n"
     ]
    },
    {
     "name": "stderr",
     "output_type": "stream",
     "text": [
      "100%|██████████| 15/15 [00:08<00:00,  1.75it/s]\n",
      " 71%|███████   | 708/1000 [2:00:54<49:45, 10.22s/it]"
     ]
    },
    {
     "name": "stdout",
     "output_type": "stream",
     "text": [
      "A low angle view of a sad person holding a white cardboard box with a number from the Coolblue webshop in her hands, standing in front of a quite neighborhood street and trees background, the weather is snowy, high photorealistic quality.\n"
     ]
    },
    {
     "name": "stderr",
     "output_type": "stream",
     "text": [
      "100%|██████████| 15/15 [00:08<00:00,  1.76it/s]\n",
      " 71%|███████   | 709/1000 [2:01:04<49:31, 10.21s/it]"
     ]
    },
    {
     "name": "stdout",
     "output_type": "stream",
     "text": [
      "A low angle view of an angry woman holding a colorful cardboard box with green tape from the H&M webshop in her hands, standing in front of a garbage curb background, the weather is rainy, high photorealistic quality.\n"
     ]
    },
    {
     "name": "stderr",
     "output_type": "stream",
     "text": [
      "100%|██████████| 15/15 [00:08<00:00,  1.75it/s]\n",
      " 71%|███████   | 710/1000 [2:01:14<49:20, 10.21s/it]"
     ]
    },
    {
     "name": "stdout",
     "output_type": "stream",
     "text": [
      "A low angle view of a happy person holding a brown cardboard box with a barcode from a webshop in her hands, standing in front of a quite neighborhood street and cars background, the weather is sunny, high photorealistic quality.\n"
     ]
    },
    {
     "name": "stderr",
     "output_type": "stream",
     "text": [
      "100%|██████████| 15/15 [00:08<00:00,  1.75it/s]\n",
      " 71%|███████   | 711/1000 [2:01:24<49:04, 10.19s/it]"
     ]
    },
    {
     "name": "stdout",
     "output_type": "stream",
     "text": [
      "A close-up view of an angry man holding a colorful cardboard box with blue tape from the Bol.com webshop in his hands, standing in front of a quite neighborhood street and cars background, the weather is snowy, high photorealistic quality.\n"
     ]
    },
    {
     "name": "stderr",
     "output_type": "stream",
     "text": [
      "100%|██████████| 15/15 [00:08<00:00,  1.75it/s]\n",
      " 71%|███████   | 712/1000 [2:01:34<48:52, 10.18s/it]"
     ]
    },
    {
     "name": "stdout",
     "output_type": "stream",
     "text": [
      "A high angle view of a young man holding a black cardboard box with blue tape from the Bol.com webshop in his hands, standing in front of a quite neighborhood street and cars background, the weather is snowy, high photorealistic quality.\n"
     ]
    },
    {
     "name": "stderr",
     "output_type": "stream",
     "text": [
      "100%|██████████| 15/15 [00:08<00:00,  1.76it/s]\n",
      " 71%|███████▏  | 713/1000 [2:01:45<48:42, 10.18s/it]"
     ]
    },
    {
     "name": "stdout",
     "output_type": "stream",
     "text": [
      "A low angle view of an angry boy holding a brown cardboard box with blue tape from the Zara webshop in his hands, standing in front of a busy city street and cars background, the weather is cloudy, high photorealistic quality.\n"
     ]
    },
    {
     "name": "stderr",
     "output_type": "stream",
     "text": [
      "100%|██████████| 15/15 [00:08<00:00,  1.76it/s]\n",
      " 71%|███████▏  | 714/1000 [2:01:55<48:35, 10.20s/it]"
     ]
    },
    {
     "name": "stdout",
     "output_type": "stream",
     "text": [
      "A high angle view of a frowning man holding a white cardboard box with a number from the Amazon webshop in his hands, standing in front of a city center background, the weather is snowy, high photorealistic quality.\n"
     ]
    },
    {
     "name": "stderr",
     "output_type": "stream",
     "text": [
      "100%|██████████| 15/15 [00:08<00:00,  1.75it/s]\n",
      " 72%|███████▏  | 715/1000 [2:02:05<48:28, 10.21s/it]"
     ]
    },
    {
     "name": "stdout",
     "output_type": "stream",
     "text": [
      "A long shot view of an old lady holding a colorful cardboard box with a barcode from the Zalando webshop in her hands, standing in front of a garbage curb background, the weather is cloudy, high photorealistic quality.\n"
     ]
    },
    {
     "name": "stderr",
     "output_type": "stream",
     "text": [
      "100%|██████████| 15/15 [00:08<00:00,  1.76it/s]\n",
      " 72%|███████▏  | 716/1000 [2:02:15<48:14, 10.19s/it]"
     ]
    },
    {
     "name": "stdout",
     "output_type": "stream",
     "text": [
      "A close-up view of a frowning woman holding a white cardboard box with a barcode from the Zara webshop in her hands, standing in front of a quite neighborhood street and cars background, the weather is rainy, high photorealistic quality.\n"
     ]
    },
    {
     "name": "stderr",
     "output_type": "stream",
     "text": [
      "100%|██████████| 15/15 [00:08<00:00,  1.75it/s]\n",
      " 72%|███████▏  | 717/1000 [2:02:25<48:05, 10.20s/it]"
     ]
    },
    {
     "name": "stdout",
     "output_type": "stream",
     "text": [
      "A low angle view of an old lady holding a white cardboard box with a barcode from a webshop in her hands, standing in front of a quite neighborhood street and trees background, the weather is snowy, high photorealistic quality.\n"
     ]
    },
    {
     "name": "stderr",
     "output_type": "stream",
     "text": [
      "100%|██████████| 15/15 [00:08<00:00,  1.75it/s]\n",
      " 72%|███████▏  | 718/1000 [2:02:36<47:56, 10.20s/it]"
     ]
    },
    {
     "name": "stdout",
     "output_type": "stream",
     "text": [
      "A high angle view of an old lady holding a white cardboard box with red tape from the Zara webshop in her hands, standing in front of a busy city street and cars background, the weather is sunny, high photorealistic quality.\n"
     ]
    },
    {
     "name": "stderr",
     "output_type": "stream",
     "text": [
      "100%|██████████| 15/15 [00:08<00:00,  1.77it/s]\n",
      " 72%|███████▏  | 719/1000 [2:02:46<47:43, 10.19s/it]"
     ]
    },
    {
     "name": "stdout",
     "output_type": "stream",
     "text": [
      "A full shot view of an angry boy holding a white cardboard box with yellow tape from the Bol.com webshop in his hands, standing in front of a appartment building background, the weather is sunny, high photorealistic quality.\n"
     ]
    },
    {
     "name": "stderr",
     "output_type": "stream",
     "text": [
      "100%|██████████| 15/15 [00:08<00:00,  1.75it/s]\n",
      " 72%|███████▏  | 720/1000 [2:02:56<47:39, 10.21s/it]"
     ]
    },
    {
     "name": "stdout",
     "output_type": "stream",
     "text": [
      "A high angle view of a happy man holding a brown cardboard box with green tape from a webshop in his hands, standing in front of a in the street background, the weather is snowy, high photorealistic quality.\n"
     ]
    },
    {
     "name": "stderr",
     "output_type": "stream",
     "text": [
      "100%|██████████| 15/15 [00:08<00:00,  1.74it/s]\n",
      " 72%|███████▏  | 721/1000 [2:03:07<47:49, 10.29s/it]"
     ]
    },
    {
     "name": "stdout",
     "output_type": "stream",
     "text": [
      "A full shot view of an angry person holding a colorful cardboard box with black tape from the Zara webshop in her hands, standing in front of a appartment building background, the weather is rainy, high photorealistic quality.\n"
     ]
    },
    {
     "name": "stderr",
     "output_type": "stream",
     "text": [
      "100%|██████████| 15/15 [00:08<00:00,  1.76it/s]\n",
      " 72%|███████▏  | 722/1000 [2:03:17<47:40, 10.29s/it]"
     ]
    },
    {
     "name": "stdout",
     "output_type": "stream",
     "text": [
      "A medium shot view of a frowning boy holding a brown cardboard box with blue tape from the Zara webshop in his hands, standing in front of a garbage curb background, the weather is cloudy, high photorealistic quality.\n"
     ]
    },
    {
     "name": "stderr",
     "output_type": "stream",
     "text": [
      "100%|██████████| 15/15 [00:08<00:00,  1.74it/s]\n",
      " 72%|███████▏  | 723/1000 [2:03:27<47:32, 10.30s/it]"
     ]
    },
    {
     "name": "stdout",
     "output_type": "stream",
     "text": [
      "A medium shot view of an angry woman holding a black cardboard box with a number from the Nike webshop in her hands, standing in front of a busy city street and cars background, the weather is sunny, high photorealistic quality.\n"
     ]
    },
    {
     "name": "stderr",
     "output_type": "stream",
     "text": [
      "100%|██████████| 15/15 [00:08<00:00,  1.75it/s]\n",
      " 72%|███████▏  | 724/1000 [2:03:37<47:11, 10.26s/it]"
     ]
    },
    {
     "name": "stdout",
     "output_type": "stream",
     "text": [
      "A high angle view of a smiling person holding a colorful cardboard box with a barcode from the Amazon webshop in her hands, standing in front of a in the street background, the weather is snowy, high photorealistic quality.\n"
     ]
    },
    {
     "name": "stderr",
     "output_type": "stream",
     "text": [
      "100%|██████████| 15/15 [00:08<00:00,  1.75it/s]\n",
      " 72%|███████▎  | 725/1000 [2:03:48<46:58, 10.25s/it]"
     ]
    },
    {
     "name": "stdout",
     "output_type": "stream",
     "text": [
      "A low angle view of an angry person holding a white cardboard box with yellow tape from the Zalando webshop in her hands, standing in front of a city center background, the weather is cloudy, high photorealistic quality.\n"
     ]
    },
    {
     "name": "stderr",
     "output_type": "stream",
     "text": [
      "100%|██████████| 15/15 [00:08<00:00,  1.75it/s]\n",
      " 73%|███████▎  | 726/1000 [2:03:58<46:42, 10.23s/it]"
     ]
    },
    {
     "name": "stdout",
     "output_type": "stream",
     "text": [
      "A full shot view of a happy woman holding a black cardboard box with a number from the Zalando webshop in her hands, standing in front of a appartment building background, the weather is snowy, high photorealistic quality.\n"
     ]
    },
    {
     "name": "stderr",
     "output_type": "stream",
     "text": [
      "100%|██████████| 15/15 [00:08<00:00,  1.75it/s]\n",
      " 73%|███████▎  | 727/1000 [2:04:08<46:28, 10.21s/it]"
     ]
    },
    {
     "name": "stdout",
     "output_type": "stream",
     "text": [
      "A medium shot view of a smiling person holding a black cardboard box with black tape from the Zara webshop in her hands, standing in front of a busy city street and cars background, the weather is rainy, high photorealistic quality.\n"
     ]
    },
    {
     "name": "stderr",
     "output_type": "stream",
     "text": [
      "100%|██████████| 15/15 [00:08<00:00,  1.75it/s]\n",
      " 73%|███████▎  | 728/1000 [2:04:18<46:15, 10.20s/it]"
     ]
    },
    {
     "name": "stdout",
     "output_type": "stream",
     "text": [
      "A long shot view of a smiling lady holding a brown cardboard box with green tape from the Amazon webshop in her hands, standing in front of a quite neighborhood street and garden background, the weather is rainy, high photorealistic quality.\n"
     ]
    },
    {
     "name": "stderr",
     "output_type": "stream",
     "text": [
      "100%|██████████| 15/15 [00:08<00:00,  1.75it/s]\n",
      " 73%|███████▎  | 729/1000 [2:04:28<46:04, 10.20s/it]"
     ]
    },
    {
     "name": "stdout",
     "output_type": "stream",
     "text": [
      "A full shot view of an old person holding a white cardboard box with a number from the Amazon webshop in her hands, standing in front of a quite neighborhood street and cars background, the weather is cloudy, high photorealistic quality.\n"
     ]
    },
    {
     "name": "stderr",
     "output_type": "stream",
     "text": [
      "100%|██████████| 15/15 [00:08<00:00,  1.75it/s]\n",
      " 73%|███████▎  | 730/1000 [2:04:39<45:55, 10.21s/it]"
     ]
    },
    {
     "name": "stdout",
     "output_type": "stream",
     "text": [
      "A close-up view of a smiling boy holding a colorful cardboard box with black tape from the Nike webshop in his hands, standing in front of a garbage curb background, the weather is rainy, high photorealistic quality.\n"
     ]
    },
    {
     "name": "stderr",
     "output_type": "stream",
     "text": [
      "100%|██████████| 15/15 [00:08<00:00,  1.74it/s]\n",
      " 73%|███████▎  | 731/1000 [2:04:49<45:50, 10.22s/it]"
     ]
    },
    {
     "name": "stdout",
     "output_type": "stream",
     "text": [
      "A close-up view of an angry woman holding a colorful cardboard box with a qr code from the Zalando webshop in her hands, standing in front of a busy city street and people background, the weather is snowy, high photorealistic quality.\n"
     ]
    },
    {
     "name": "stderr",
     "output_type": "stream",
     "text": [
      "100%|██████████| 15/15 [00:08<00:00,  1.75it/s]\n",
      " 73%|███████▎  | 732/1000 [2:04:59<45:34, 10.21s/it]"
     ]
    },
    {
     "name": "stdout",
     "output_type": "stream",
     "text": [
      "A full shot view of a young person holding a white cardboard box with black tape from the Nike webshop in her hands, standing in front of a garbage curb background, the weather is sunny, high photorealistic quality.\n"
     ]
    },
    {
     "name": "stderr",
     "output_type": "stream",
     "text": [
      "100%|██████████| 15/15 [00:08<00:00,  1.75it/s]\n",
      " 73%|███████▎  | 733/1000 [2:05:09<45:23, 10.20s/it]"
     ]
    },
    {
     "name": "stdout",
     "output_type": "stream",
     "text": [
      "A low angle view of a young person holding a black cardboard box with black tape from the Bol.com webshop in her hands, standing in front of a quite neighborhood street and cars background, the weather is sunny, high photorealistic quality.\n"
     ]
    },
    {
     "name": "stderr",
     "output_type": "stream",
     "text": [
      "100%|██████████| 15/15 [00:08<00:00,  1.76it/s]\n",
      " 73%|███████▎  | 734/1000 [2:05:19<45:09, 10.19s/it]"
     ]
    },
    {
     "name": "stdout",
     "output_type": "stream",
     "text": [
      "A long shot view of a frowning person holding a black cardboard box with a qr code from the Nike webshop in her hands, standing in front of a city center background, the weather is snowy, high photorealistic quality.\n"
     ]
    },
    {
     "name": "stderr",
     "output_type": "stream",
     "text": [
      "100%|██████████| 15/15 [00:08<00:00,  1.75it/s]\n",
      " 74%|███████▎  | 735/1000 [2:05:30<45:03, 10.20s/it]"
     ]
    },
    {
     "name": "stdout",
     "output_type": "stream",
     "text": [
      "A high angle view of a happy man holding a brown cardboard box with a barcode from the Amazon webshop in his hands, standing in front of a busy city street and people background, the weather is snowy, high photorealistic quality.\n"
     ]
    },
    {
     "name": "stderr",
     "output_type": "stream",
     "text": [
      "100%|██████████| 15/15 [00:08<00:00,  1.75it/s]\n",
      " 74%|███████▎  | 736/1000 [2:05:40<44:52, 10.20s/it]"
     ]
    },
    {
     "name": "stdout",
     "output_type": "stream",
     "text": [
      "A full shot view of an old lady holding a white cardboard box with green tape from the Bol.com webshop in her hands, standing in front of a in the street background, the weather is snowy, high photorealistic quality.\n"
     ]
    },
    {
     "name": "stderr",
     "output_type": "stream",
     "text": [
      "100%|██████████| 15/15 [00:08<00:00,  1.76it/s]\n",
      " 74%|███████▎  | 737/1000 [2:05:50<44:40, 10.19s/it]"
     ]
    },
    {
     "name": "stdout",
     "output_type": "stream",
     "text": [
      "A full shot view of a young person holding a brown cardboard box with blue tape from the Nike webshop in her hands, standing in front of a garbage curb background, the weather is snowy, high photorealistic quality.\n"
     ]
    },
    {
     "name": "stderr",
     "output_type": "stream",
     "text": [
      "100%|██████████| 15/15 [00:08<00:00,  1.75it/s]\n",
      " 74%|███████▍  | 738/1000 [2:06:00<44:30, 10.19s/it]"
     ]
    },
    {
     "name": "stdout",
     "output_type": "stream",
     "text": [
      "A full shot view of an old woman holding a black cardboard box with yellow tape from the Amazon webshop in her hands, standing in front of a garbage curb background, the weather is sunny, high photorealistic quality.\n"
     ]
    },
    {
     "name": "stderr",
     "output_type": "stream",
     "text": [
      "100%|██████████| 15/15 [00:08<00:00,  1.76it/s]\n",
      " 74%|███████▍  | 739/1000 [2:06:10<44:17, 10.18s/it]"
     ]
    },
    {
     "name": "stdout",
     "output_type": "stream",
     "text": [
      "A medium shot view of a frowning lady holding a brown cardboard box with green tape from the Zara webshop in her hands, standing in front of a quite neighborhood street and trees background, the weather is cloudy, high photorealistic quality.\n"
     ]
    },
    {
     "name": "stderr",
     "output_type": "stream",
     "text": [
      "100%|██████████| 15/15 [00:08<00:00,  1.76it/s]\n",
      " 74%|███████▍  | 740/1000 [2:06:20<44:06, 10.18s/it]"
     ]
    },
    {
     "name": "stdout",
     "output_type": "stream",
     "text": [
      "A long shot view of an angry man holding a brown cardboard box with a qr code from the Amazon webshop in his hands, standing in front of a appartment building background, the weather is snowy, high photorealistic quality.\n"
     ]
    },
    {
     "name": "stderr",
     "output_type": "stream",
     "text": [
      "100%|██████████| 15/15 [00:08<00:00,  1.75it/s]\n",
      " 74%|███████▍  | 741/1000 [2:06:31<43:57, 10.18s/it]"
     ]
    },
    {
     "name": "stdout",
     "output_type": "stream",
     "text": [
      "A full shot view of a smiling boy holding a brown cardboard box with black tape from the Adidas webshop in his hands, standing in front of a garbage curb background, the weather is rainy, high photorealistic quality.\n"
     ]
    },
    {
     "name": "stderr",
     "output_type": "stream",
     "text": [
      "100%|██████████| 15/15 [00:08<00:00,  1.75it/s]\n",
      " 74%|███████▍  | 742/1000 [2:06:41<43:48, 10.19s/it]"
     ]
    },
    {
     "name": "stdout",
     "output_type": "stream",
     "text": [
      "A full shot view of a frowning woman holding a brown cardboard box with a number from the Nike webshop in her hands, standing in front of a quite neighborhood street and garden background, the weather is sunny, high photorealistic quality.\n"
     ]
    },
    {
     "name": "stderr",
     "output_type": "stream",
     "text": [
      "100%|██████████| 15/15 [00:08<00:00,  1.75it/s]\n",
      " 74%|███████▍  | 743/1000 [2:06:51<43:40, 10.20s/it]"
     ]
    },
    {
     "name": "stdout",
     "output_type": "stream",
     "text": [
      "A high angle view of a young person holding a colorful cardboard box with green tape from the Bol.com webshop in her hands, standing in front of a busy city street and people background, the weather is rainy, high photorealistic quality.\n"
     ]
    },
    {
     "name": "stderr",
     "output_type": "stream",
     "text": [
      "100%|██████████| 15/15 [00:08<00:00,  1.77it/s]\n",
      " 74%|███████▍  | 744/1000 [2:07:01<43:23, 10.17s/it]"
     ]
    },
    {
     "name": "stdout",
     "output_type": "stream",
     "text": [
      "A close-up view of a smiling woman holding a white cardboard box with a number from the Bol.com webshop in her hands, standing in front of a appartment building background, the weather is sunny, high photorealistic quality.\n"
     ]
    },
    {
     "name": "stderr",
     "output_type": "stream",
     "text": [
      "100%|██████████| 15/15 [00:08<00:00,  1.75it/s]\n",
      " 74%|███████▍  | 745/1000 [2:07:11<43:16, 10.18s/it]"
     ]
    },
    {
     "name": "stdout",
     "output_type": "stream",
     "text": [
      "A high angle view of a smiling woman holding a colorful cardboard box with a qr code from the Nike webshop in her hands, standing in front of a busy city street and people background, the weather is sunny, high photorealistic quality.\n"
     ]
    },
    {
     "name": "stderr",
     "output_type": "stream",
     "text": [
      "100%|██████████| 15/15 [00:08<00:00,  1.76it/s]\n",
      " 75%|███████▍  | 746/1000 [2:07:21<43:03, 10.17s/it]"
     ]
    },
    {
     "name": "stdout",
     "output_type": "stream",
     "text": [
      "A close-up view of a sad woman holding a black cardboard box with a barcode from the H&M webshop in her hands, standing in front of a quite neighborhood street and garden background, the weather is cloudy, high photorealistic quality.\n"
     ]
    },
    {
     "name": "stderr",
     "output_type": "stream",
     "text": [
      "100%|██████████| 15/15 [00:08<00:00,  1.76it/s]\n",
      " 75%|███████▍  | 747/1000 [2:07:32<42:56, 10.18s/it]"
     ]
    },
    {
     "name": "stdout",
     "output_type": "stream",
     "text": [
      "A full shot view of a sad woman holding a colorful cardboard box with blue tape from the Coolblue webshop in her hands, standing in front of a quite neighborhood street and cars background, the weather is rainy, high photorealistic quality.\n"
     ]
    },
    {
     "name": "stderr",
     "output_type": "stream",
     "text": [
      "100%|██████████| 15/15 [00:08<00:00,  1.76it/s]\n",
      " 75%|███████▍  | 748/1000 [2:07:42<42:57, 10.23s/it]"
     ]
    },
    {
     "name": "stdout",
     "output_type": "stream",
     "text": [
      "A close-up view of a young lady holding a black cardboard box with green tape from the Zalando webshop in her hands, standing in front of a garbage curb background, the weather is sunny, high photorealistic quality.\n"
     ]
    },
    {
     "name": "stderr",
     "output_type": "stream",
     "text": [
      "100%|██████████| 15/15 [00:11<00:00,  1.34it/s]\n",
      " 75%|███████▍  | 749/1000 [2:07:56<47:07, 11.26s/it]"
     ]
    },
    {
     "name": "stdout",
     "output_type": "stream",
     "text": [
      "A low angle view of an old woman holding a white cardboard box with a number from the Adidas webshop in her hands, standing in front of a busy city street and cars background, the weather is rainy, high photorealistic quality.\n"
     ]
    },
    {
     "name": "stderr",
     "output_type": "stream",
     "text": [
      "100%|██████████| 15/15 [00:17<00:00,  1.16s/it]\n",
      " 75%|███████▌  | 750/1000 [2:08:15<57:10, 13.72s/it]"
     ]
    },
    {
     "name": "stdout",
     "output_type": "stream",
     "text": [
      "A long shot view of a frowning lady holding a black cardboard box with blue tape from the H&M webshop in her hands, standing in front of a garbage curb background, the weather is rainy, high photorealistic quality.\n"
     ]
    },
    {
     "name": "stderr",
     "output_type": "stream",
     "text": [
      "100%|██████████| 15/15 [00:28<00:00,  1.92s/it]\n",
      " 75%|███████▌  | 751/1000 [2:08:46<1:18:01, 18.80s/it]"
     ]
    },
    {
     "name": "stdout",
     "output_type": "stream",
     "text": [
      "A long shot view of a frowning person holding a black cardboard box with blue tape from the Bol.com webshop in her hands, standing in front of a quite neighborhood street and trees background, the weather is sunny, high photorealistic quality.\n"
     ]
    },
    {
     "name": "stderr",
     "output_type": "stream",
     "text": [
      "100%|██████████| 15/15 [00:08<00:00,  1.73it/s]\n",
      " 75%|███████▌  | 752/1000 [2:08:56<1:07:15, 16.27s/it]"
     ]
    },
    {
     "name": "stdout",
     "output_type": "stream",
     "text": [
      "A full shot view of a smiling person holding a white cardboard box with yellow tape from the Coolblue webshop in her hands, standing in front of a busy city street and people background, the weather is cloudy, high photorealistic quality.\n"
     ]
    },
    {
     "name": "stderr",
     "output_type": "stream",
     "text": [
      "100%|██████████| 15/15 [00:18<00:00,  1.25s/it]\n",
      " 75%|███████▌  | 753/1000 [2:09:17<1:12:16, 17.56s/it]"
     ]
    },
    {
     "name": "stdout",
     "output_type": "stream",
     "text": [
      "A long shot view of an angry woman holding a white cardboard box with yellow tape from the H&M webshop in her hands, standing in front of a busy city street and cars background, the weather is sunny, high photorealistic quality.\n"
     ]
    },
    {
     "name": "stderr",
     "output_type": "stream",
     "text": [
      "100%|██████████| 15/15 [00:15<00:00,  1.00s/it]\n",
      " 75%|███████▌  | 754/1000 [2:09:34<1:12:07, 17.59s/it]"
     ]
    },
    {
     "name": "stdout",
     "output_type": "stream",
     "text": [
      "A long shot view of a frowning lady holding a colorful cardboard box with black tape from the H&M webshop in her hands, standing in front of a garbage curb background, the weather is cloudy, high photorealistic quality.\n"
     ]
    },
    {
     "name": "stderr",
     "output_type": "stream",
     "text": [
      "100%|██████████| 15/15 [00:22<00:00,  1.49s/it]\n",
      " 76%|███████▌  | 755/1000 [2:09:59<1:20:50, 19.80s/it]"
     ]
    },
    {
     "name": "stdout",
     "output_type": "stream",
     "text": [
      "A close-up view of a smiling lady holding a brown cardboard box with green tape from the H&M webshop in her hands, standing in front of a appartment building background, the weather is cloudy, high photorealistic quality.\n"
     ]
    },
    {
     "name": "stderr",
     "output_type": "stream",
     "text": [
      "100%|██████████| 15/15 [00:11<00:00,  1.33it/s]\n",
      " 76%|███████▌  | 756/1000 [2:10:13<1:12:25, 17.81s/it]"
     ]
    },
    {
     "name": "stdout",
     "output_type": "stream",
     "text": [
      "A full shot view of an angry woman holding a brown cardboard box with yellow tape from the Coolblue webshop in her hands, standing in front of a busy city street and people background, the weather is snowy, high photorealistic quality.\n"
     ]
    },
    {
     "name": "stderr",
     "output_type": "stream",
     "text": [
      "100%|██████████| 15/15 [00:15<00:00,  1.05s/it]\n",
      " 76%|███████▌  | 757/1000 [2:10:34<1:16:36, 18.92s/it]"
     ]
    },
    {
     "name": "stdout",
     "output_type": "stream",
     "text": [
      "A medium shot view of a young lady holding a colorful cardboard box with yellow tape from the Bol.com webshop in her hands, standing in front of a quite neighborhood street and trees background, the weather is snowy, high photorealistic quality.\n"
     ]
    },
    {
     "name": "stderr",
     "output_type": "stream",
     "text": [
      "100%|██████████| 15/15 [00:17<00:00,  1.16s/it]\n",
      " 76%|███████▌  | 758/1000 [2:10:53<1:16:44, 19.03s/it]"
     ]
    },
    {
     "name": "stdout",
     "output_type": "stream",
     "text": [
      "A high angle view of a young woman holding a white cardboard box with yellow tape from the Nike webshop in her hands, standing in front of a appartment building background, the weather is cloudy, high photorealistic quality.\n"
     ]
    },
    {
     "name": "stderr",
     "output_type": "stream",
     "text": [
      "100%|██████████| 15/15 [00:11<00:00,  1.35it/s]\n",
      " 76%|███████▌  | 759/1000 [2:11:06<1:09:10, 17.22s/it]"
     ]
    },
    {
     "name": "stdout",
     "output_type": "stream",
     "text": [
      "A medium shot view of a smiling person holding a colorful cardboard box with a number from the Bol.com webshop in her hands, standing in front of a city center background, the weather is sunny, high photorealistic quality.\n"
     ]
    },
    {
     "name": "stderr",
     "output_type": "stream",
     "text": [
      "100%|██████████| 15/15 [00:11<00:00,  1.29it/s]\n",
      " 76%|███████▌  | 760/1000 [2:11:20<1:04:26, 16.11s/it]"
     ]
    },
    {
     "name": "stdout",
     "output_type": "stream",
     "text": [
      "A high angle view of a frowning lady holding a black cardboard box with green tape from the Bol.com webshop in her hands, standing in front of a busy city street and people background, the weather is snowy, high photorealistic quality.\n"
     ]
    },
    {
     "name": "stderr",
     "output_type": "stream",
     "text": [
      "100%|██████████| 15/15 [00:33<00:00,  2.22s/it]\n",
      " 76%|███████▌  | 761/1000 [2:11:56<1:28:18, 22.17s/it]"
     ]
    },
    {
     "name": "stdout",
     "output_type": "stream",
     "text": [
      "A medium shot view of a frowning woman holding a brown cardboard box with a number from the Nike webshop in her hands, standing in front of a quite neighborhood street and trees background, the weather is snowy, high photorealistic quality.\n"
     ]
    },
    {
     "name": "stderr",
     "output_type": "stream",
     "text": [
      "100%|██████████| 15/15 [00:34<00:00,  2.28s/it]\n",
      " 76%|███████▌  | 762/1000 [2:12:32<1:44:45, 26.41s/it]"
     ]
    },
    {
     "name": "stdout",
     "output_type": "stream",
     "text": [
      "A medium shot view of a happy woman holding a brown cardboard box with a number from the Zalando webshop in her hands, standing in front of a quite neighborhood street and garden background, the weather is sunny, high photorealistic quality.\n"
     ]
    },
    {
     "name": "stderr",
     "output_type": "stream",
     "text": [
      "100%|██████████| 15/15 [00:31<00:00,  2.12s/it]\n",
      " 76%|███████▋  | 763/1000 [2:13:11<1:58:31, 30.00s/it]"
     ]
    },
    {
     "name": "stdout",
     "output_type": "stream",
     "text": [
      "A low angle view of a smiling man holding a white cardboard box with green tape from the Zalando webshop in his hands, standing in front of a city center background, the weather is rainy, high photorealistic quality.\n"
     ]
    },
    {
     "name": "stderr",
     "output_type": "stream",
     "text": [
      "100%|██████████| 15/15 [01:20<00:00,  5.40s/it]\n",
      " 76%|███████▋  | 764/1000 [2:14:34<3:00:09, 45.80s/it]"
     ]
    },
    {
     "name": "stdout",
     "output_type": "stream",
     "text": [
      "A full shot view of a young boy holding a black cardboard box with blue tape from the Bol.com webshop in his hands, standing in front of a appartment building background, the weather is rainy, high photorealistic quality.\n"
     ]
    },
    {
     "name": "stderr",
     "output_type": "stream",
     "text": [
      "100%|██████████| 15/15 [00:08<00:00,  1.76it/s]\n",
      " 76%|███████▋  | 765/1000 [2:14:44<2:17:34, 35.13s/it]"
     ]
    },
    {
     "name": "stdout",
     "output_type": "stream",
     "text": [
      "A full shot view of a young boy holding a brown cardboard box with yellow tape from the Amazon webshop in his hands, standing in front of a busy city street and people background, the weather is snowy, high photorealistic quality.\n"
     ]
    },
    {
     "name": "stderr",
     "output_type": "stream",
     "text": [
      "100%|██████████| 15/15 [00:08<00:00,  1.75it/s]\n",
      " 77%|███████▋  | 766/1000 [2:14:54<1:47:49, 27.65s/it]"
     ]
    },
    {
     "name": "stdout",
     "output_type": "stream",
     "text": [
      "A low angle view of a young person holding a brown cardboard box with red tape from the H&M webshop in her hands, standing in front of a garbage curb background, the weather is cloudy, high photorealistic quality.\n"
     ]
    },
    {
     "name": "stderr",
     "output_type": "stream",
     "text": [
      "100%|██████████| 15/15 [00:08<00:00,  1.75it/s]\n",
      " 77%|███████▋  | 767/1000 [2:15:04<1:27:00, 22.41s/it]"
     ]
    },
    {
     "name": "stdout",
     "output_type": "stream",
     "text": [
      "A high angle view of a happy boy holding a black cardboard box with blue tape from a webshop in his hands, standing in front of a in the street background, the weather is sunny, high photorealistic quality.\n"
     ]
    },
    {
     "name": "stderr",
     "output_type": "stream",
     "text": [
      "100%|██████████| 15/15 [00:08<00:00,  1.76it/s]\n",
      " 77%|███████▋  | 768/1000 [2:15:15<1:12:54, 18.86s/it]"
     ]
    },
    {
     "name": "stdout",
     "output_type": "stream",
     "text": [
      "A full shot view of a smiling lady holding a colorful cardboard box with yellow tape from the Zalando webshop in her hands, standing in front of a city center background, the weather is rainy, high photorealistic quality.\n"
     ]
    },
    {
     "name": "stderr",
     "output_type": "stream",
     "text": [
      "100%|██████████| 15/15 [00:08<00:00,  1.75it/s]\n",
      " 77%|███████▋  | 769/1000 [2:15:25<1:02:36, 16.26s/it]"
     ]
    },
    {
     "name": "stdout",
     "output_type": "stream",
     "text": [
      "A close-up view of a happy person holding a black cardboard box with green tape from the Coolblue webshop in her hands, standing in front of a quite neighborhood street and cars background, the weather is cloudy, high photorealistic quality.\n"
     ]
    },
    {
     "name": "stderr",
     "output_type": "stream",
     "text": [
      "100%|██████████| 15/15 [00:08<00:00,  1.76it/s]\n",
      " 77%|███████▋  | 770/1000 [2:15:35<55:21, 14.44s/it]  "
     ]
    },
    {
     "name": "stdout",
     "output_type": "stream",
     "text": [
      "A long shot view of a smiling lady holding a white cardboard box with red tape from the H&M webshop in her hands, standing in front of a quite neighborhood street and garden background, the weather is sunny, high photorealistic quality.\n"
     ]
    },
    {
     "name": "stderr",
     "output_type": "stream",
     "text": [
      "100%|██████████| 15/15 [00:08<00:00,  1.76it/s]\n",
      " 77%|███████▋  | 771/1000 [2:15:45<50:12, 13.16s/it]"
     ]
    },
    {
     "name": "stdout",
     "output_type": "stream",
     "text": [
      "A medium shot view of a frowning woman holding a brown cardboard box with yellow tape from the Bol.com webshop in her hands, standing in front of a quite neighborhood street and garden background, the weather is snowy, high photorealistic quality.\n"
     ]
    },
    {
     "name": "stderr",
     "output_type": "stream",
     "text": [
      "100%|██████████| 15/15 [00:08<00:00,  1.76it/s]\n",
      " 77%|███████▋  | 772/1000 [2:15:55<46:36, 12.27s/it]"
     ]
    },
    {
     "name": "stdout",
     "output_type": "stream",
     "text": [
      "A close-up view of a smiling man holding a colorful cardboard box with a number from the Bol.com webshop in his hands, standing in front of a quite neighborhood street and garden background, the weather is sunny, high photorealistic quality.\n"
     ]
    },
    {
     "name": "stderr",
     "output_type": "stream",
     "text": [
      "100%|██████████| 15/15 [00:08<00:00,  1.75it/s]\n",
      " 77%|███████▋  | 773/1000 [2:16:06<44:07, 11.66s/it]"
     ]
    },
    {
     "name": "stdout",
     "output_type": "stream",
     "text": [
      "A low angle view of an old boy holding a black cardboard box with yellow tape from the Nike webshop in his hands, standing in front of a city center background, the weather is sunny, high photorealistic quality.\n"
     ]
    },
    {
     "name": "stderr",
     "output_type": "stream",
     "text": [
      "100%|██████████| 15/15 [00:08<00:00,  1.76it/s]\n",
      " 77%|███████▋  | 774/1000 [2:16:16<42:15, 11.22s/it]"
     ]
    },
    {
     "name": "stdout",
     "output_type": "stream",
     "text": [
      "A high angle view of a frowning man holding a brown cardboard box with green tape from the H&M webshop in his hands, standing in front of a city center background, the weather is sunny, high photorealistic quality.\n"
     ]
    },
    {
     "name": "stderr",
     "output_type": "stream",
     "text": [
      "100%|██████████| 15/15 [00:08<00:00,  1.74it/s]\n",
      " 78%|███████▊  | 775/1000 [2:16:26<41:01, 10.94s/it]"
     ]
    },
    {
     "name": "stdout",
     "output_type": "stream",
     "text": [
      "A high angle view of a happy lady holding a colorful cardboard box with a qr code from the Coolblue webshop in her hands, standing in front of a in the street background, the weather is sunny, high photorealistic quality.\n"
     ]
    },
    {
     "name": "stderr",
     "output_type": "stream",
     "text": [
      "100%|██████████| 15/15 [00:08<00:00,  1.75it/s]\n",
      " 78%|███████▊  | 776/1000 [2:16:36<40:02, 10.72s/it]"
     ]
    },
    {
     "name": "stdout",
     "output_type": "stream",
     "text": [
      "A full shot view of an old person holding a brown cardboard box with a number from the Zalando webshop in her hands, standing in front of a busy city street and people background, the weather is cloudy, high photorealistic quality.\n"
     ]
    },
    {
     "name": "stderr",
     "output_type": "stream",
     "text": [
      "100%|██████████| 15/15 [00:08<00:00,  1.76it/s]\n",
      " 78%|███████▊  | 777/1000 [2:16:47<39:15, 10.56s/it]"
     ]
    },
    {
     "name": "stdout",
     "output_type": "stream",
     "text": [
      "A full shot view of a frowning boy holding a white cardboard box with black tape from the Adidas webshop in his hands, standing in front of a appartment building background, the weather is sunny, high photorealistic quality.\n"
     ]
    },
    {
     "name": "stderr",
     "output_type": "stream",
     "text": [
      "100%|██████████| 15/15 [00:08<00:00,  1.76it/s]\n",
      " 78%|███████▊  | 778/1000 [2:16:57<38:40, 10.45s/it]"
     ]
    },
    {
     "name": "stdout",
     "output_type": "stream",
     "text": [
      "A full shot view of a sad lady holding a brown cardboard box with green tape from the Amazon webshop in her hands, standing in front of a quite neighborhood street and garden background, the weather is rainy, high photorealistic quality.\n"
     ]
    },
    {
     "name": "stderr",
     "output_type": "stream",
     "text": [
      "100%|██████████| 15/15 [00:22<00:00,  1.49s/it]\n",
      " 78%|███████▊  | 779/1000 [2:17:22<54:36, 14.83s/it]"
     ]
    },
    {
     "name": "stdout",
     "output_type": "stream",
     "text": [
      "A high angle view of an old boy holding a black cardboard box with a qr code from the Bol.com webshop in his hands, standing in front of a garbage curb background, the weather is rainy, high photorealistic quality.\n"
     ]
    },
    {
     "name": "stderr",
     "output_type": "stream",
     "text": [
      "100%|██████████| 15/15 [01:23<00:00,  5.58s/it]\n",
      " 78%|███████▊  | 780/1000 [2:18:48<2:13:02, 36.28s/it]"
     ]
    },
    {
     "name": "stdout",
     "output_type": "stream",
     "text": [
      "A full shot view of an old person holding a white cardboard box with green tape from the H&M webshop in her hands, standing in front of a busy city street and people background, the weather is rainy, high photorealistic quality.\n"
     ]
    },
    {
     "name": "stderr",
     "output_type": "stream",
     "text": [
      "100%|██████████| 15/15 [00:13<00:00,  1.08it/s]\n",
      " 78%|███████▊  | 781/1000 [2:19:04<1:50:11, 30.19s/it]"
     ]
    },
    {
     "name": "stdout",
     "output_type": "stream",
     "text": [
      "A long shot view of a smiling lady holding a white cardboard box with black tape from the Nike webshop in her hands, standing in front of a city center background, the weather is rainy, high photorealistic quality.\n"
     ]
    },
    {
     "name": "stderr",
     "output_type": "stream",
     "text": [
      "100%|██████████| 15/15 [00:14<00:00,  1.05it/s]\n",
      " 78%|███████▊  | 782/1000 [2:19:20<1:34:37, 26.04s/it]"
     ]
    },
    {
     "name": "stdout",
     "output_type": "stream",
     "text": [
      "A full shot view of an old boy holding a brown cardboard box with a number from the Bol.com webshop in his hands, standing in front of a quite neighborhood street and trees background, the weather is rainy, high photorealistic quality.\n"
     ]
    },
    {
     "name": "stderr",
     "output_type": "stream",
     "text": [
      "100%|██████████| 15/15 [00:14<00:00,  1.06it/s]\n",
      " 78%|███████▊  | 783/1000 [2:19:37<1:23:26, 23.07s/it]"
     ]
    },
    {
     "name": "stdout",
     "output_type": "stream",
     "text": [
      "A low angle view of a smiling lady holding a colorful cardboard box with a number from the Adidas webshop in her hands, standing in front of a garbage curb background, the weather is cloudy, high photorealistic quality.\n"
     ]
    },
    {
     "name": "stderr",
     "output_type": "stream",
     "text": [
      "100%|██████████| 15/15 [00:13<00:00,  1.07it/s]\n",
      " 78%|███████▊  | 784/1000 [2:19:53<1:15:25, 20.95s/it]"
     ]
    },
    {
     "name": "stdout",
     "output_type": "stream",
     "text": [
      "A high angle view of a frowning woman holding a white cardboard box with red tape from the Coolblue webshop in her hands, standing in front of a garbage curb background, the weather is sunny, high photorealistic quality.\n"
     ]
    },
    {
     "name": "stderr",
     "output_type": "stream",
     "text": [
      "100%|██████████| 15/15 [00:13<00:00,  1.11it/s]\n",
      " 78%|███████▊  | 785/1000 [2:20:08<1:09:18, 19.34s/it]"
     ]
    },
    {
     "name": "stdout",
     "output_type": "stream",
     "text": [
      "A full shot view of a frowning person holding a black cardboard box with a number from the Zara webshop in her hands, standing in front of a garbage curb background, the weather is cloudy, high photorealistic quality.\n"
     ]
    },
    {
     "name": "stderr",
     "output_type": "stream",
     "text": [
      "100%|██████████| 15/15 [00:14<00:00,  1.05it/s]\n",
      " 79%|███████▊  | 786/1000 [2:20:24<1:05:41, 18.42s/it]"
     ]
    },
    {
     "name": "stdout",
     "output_type": "stream",
     "text": [
      "A low angle view of a young boy holding a black cardboard box with blue tape from the Zara webshop in his hands, standing in front of a garbage curb background, the weather is sunny, high photorealistic quality.\n"
     ]
    },
    {
     "name": "stderr",
     "output_type": "stream",
     "text": [
      "100%|██████████| 15/15 [00:14<00:00,  1.03it/s]\n",
      " 79%|███████▊  | 787/1000 [2:20:41<1:03:35, 17.91s/it]"
     ]
    },
    {
     "name": "stdout",
     "output_type": "stream",
     "text": [
      "A close-up view of a happy lady holding a black cardboard box with a barcode from the Coolblue webshop in her hands, standing in front of a quite neighborhood street and cars background, the weather is rainy, high photorealistic quality.\n"
     ]
    },
    {
     "name": "stderr",
     "output_type": "stream",
     "text": [
      "100%|██████████| 15/15 [00:14<00:00,  1.05it/s]\n",
      " 79%|███████▉  | 788/1000 [2:20:58<1:01:35, 17.43s/it]"
     ]
    },
    {
     "name": "stdout",
     "output_type": "stream",
     "text": [
      "A long shot view of a happy person holding a colorful cardboard box with a barcode from the Zalando webshop in her hands, standing in front of a quite neighborhood street and trees background, the weather is sunny, high photorealistic quality.\n"
     ]
    },
    {
     "name": "stderr",
     "output_type": "stream",
     "text": [
      "100%|██████████| 15/15 [00:14<00:00,  1.05it/s]\n",
      " 79%|███████▉  | 789/1000 [2:21:14<1:00:03, 17.08s/it]"
     ]
    },
    {
     "name": "stdout",
     "output_type": "stream",
     "text": [
      "A medium shot view of an old person holding a brown cardboard box with a qr code from the Zalando webshop in her hands, standing in front of a city center background, the weather is sunny, high photorealistic quality.\n"
     ]
    },
    {
     "name": "stderr",
     "output_type": "stream",
     "text": [
      "100%|██████████| 15/15 [00:14<00:00,  1.04it/s]\n",
      " 79%|███████▉  | 790/1000 [2:21:30<59:01, 16.86s/it]  "
     ]
    },
    {
     "name": "stdout",
     "output_type": "stream",
     "text": [
      "A long shot view of a smiling boy holding a black cardboard box with yellow tape from the Zara webshop in his hands, standing in front of a garbage curb background, the weather is cloudy, high photorealistic quality.\n"
     ]
    },
    {
     "name": "stderr",
     "output_type": "stream",
     "text": [
      "100%|██████████| 15/15 [00:13<00:00,  1.08it/s]\n",
      " 79%|███████▉  | 791/1000 [2:21:46<57:49, 16.60s/it]"
     ]
    },
    {
     "name": "stdout",
     "output_type": "stream",
     "text": [
      "A close-up view of a frowning person holding a brown cardboard box with red tape from the Coolblue webshop in her hands, standing in front of a busy city street and people background, the weather is sunny, high photorealistic quality.\n"
     ]
    },
    {
     "name": "stderr",
     "output_type": "stream",
     "text": [
      "100%|██████████| 15/15 [00:14<00:00,  1.07it/s]\n",
      " 79%|███████▉  | 792/1000 [2:22:02<56:57, 16.43s/it]"
     ]
    },
    {
     "name": "stdout",
     "output_type": "stream",
     "text": [
      "A low angle view of an old boy holding a black cardboard box with black tape from the Zara webshop in his hands, standing in front of a quite neighborhood street and trees background, the weather is rainy, high photorealistic quality.\n"
     ]
    },
    {
     "name": "stderr",
     "output_type": "stream",
     "text": [
      "100%|██████████| 15/15 [00:14<00:00,  1.01it/s]\n",
      " 79%|███████▉  | 793/1000 [2:22:19<57:12, 16.58s/it]"
     ]
    },
    {
     "name": "stdout",
     "output_type": "stream",
     "text": [
      "A close-up view of an old person holding a black cardboard box with green tape from the Nike webshop in her hands, standing in front of a quite neighborhood street and garden background, the weather is cloudy, high photorealistic quality.\n"
     ]
    },
    {
     "name": "stderr",
     "output_type": "stream",
     "text": [
      "100%|██████████| 15/15 [00:14<00:00,  1.06it/s]\n",
      " 79%|███████▉  | 794/1000 [2:22:35<56:29, 16.45s/it]"
     ]
    },
    {
     "name": "stdout",
     "output_type": "stream",
     "text": [
      "A long shot view of a young woman holding a black cardboard box with a barcode from the H&M webshop in her hands, standing in front of a quite neighborhood street and cars background, the weather is sunny, high photorealistic quality.\n"
     ]
    },
    {
     "name": "stderr",
     "output_type": "stream",
     "text": [
      "100%|██████████| 15/15 [00:14<00:00,  1.06it/s]\n",
      " 80%|███████▉  | 795/1000 [2:22:51<55:59, 16.39s/it]"
     ]
    },
    {
     "name": "stdout",
     "output_type": "stream",
     "text": [
      "A long shot view of a happy woman holding a black cardboard box with red tape from the Zara webshop in her hands, standing in front of a busy city street and people background, the weather is sunny, high photorealistic quality.\n"
     ]
    },
    {
     "name": "stderr",
     "output_type": "stream",
     "text": [
      "100%|██████████| 15/15 [00:14<00:00,  1.06it/s]\n",
      " 80%|███████▉  | 796/1000 [2:23:08<55:35, 16.35s/it]"
     ]
    },
    {
     "name": "stdout",
     "output_type": "stream",
     "text": [
      "A medium shot view of an angry person holding a black cardboard box with black tape from the Adidas webshop in her hands, standing in front of a in the street background, the weather is rainy, high photorealistic quality.\n"
     ]
    },
    {
     "name": "stderr",
     "output_type": "stream",
     "text": [
      "100%|██████████| 15/15 [00:14<00:00,  1.04it/s]\n",
      " 80%|███████▉  | 797/1000 [2:23:24<55:26, 16.39s/it]"
     ]
    },
    {
     "name": "stdout",
     "output_type": "stream",
     "text": [
      "A long shot view of a smiling woman holding a colorful cardboard box with blue tape from the Nike webshop in her hands, standing in front of a busy city street and people background, the weather is cloudy, high photorealistic quality.\n"
     ]
    },
    {
     "name": "stderr",
     "output_type": "stream",
     "text": [
      "100%|██████████| 15/15 [00:14<00:00,  1.06it/s]\n",
      " 80%|███████▉  | 798/1000 [2:23:40<54:54, 16.31s/it]"
     ]
    },
    {
     "name": "stdout",
     "output_type": "stream",
     "text": [
      "A high angle view of an old boy holding a black cardboard box with blue tape from the Bol.com webshop in his hands, standing in front of a busy city street and cars background, the weather is rainy, high photorealistic quality.\n"
     ]
    },
    {
     "name": "stderr",
     "output_type": "stream",
     "text": [
      "100%|██████████| 15/15 [00:13<00:00,  1.07it/s]\n",
      " 80%|███████▉  | 799/1000 [2:23:56<54:16, 16.20s/it]"
     ]
    },
    {
     "name": "stdout",
     "output_type": "stream",
     "text": [
      "A long shot view of an angry lady holding a colorful cardboard box with a number from the Nike webshop in her hands, standing in front of a quite neighborhood street and cars background, the weather is rainy, high photorealistic quality.\n"
     ]
    },
    {
     "name": "stderr",
     "output_type": "stream",
     "text": [
      "100%|██████████| 15/15 [00:29<00:00,  1.97s/it]\n",
      " 80%|████████  | 800/1000 [2:24:29<1:10:46, 21.23s/it]"
     ]
    },
    {
     "name": "stdout",
     "output_type": "stream",
     "text": [
      "A low angle view of a smiling man holding a black cardboard box with red tape from the Amazon webshop in his hands, standing in front of a city center background, the weather is rainy, high photorealistic quality.\n"
     ]
    },
    {
     "name": "stderr",
     "output_type": "stream",
     "text": [
      "100%|██████████| 15/15 [01:28<00:00,  5.92s/it]\n",
      " 80%|████████  | 801/1000 [2:26:00<2:19:53, 42.18s/it]"
     ]
    },
    {
     "name": "stdout",
     "output_type": "stream",
     "text": [
      "A full shot view of an old woman holding a colorful cardboard box with a qr code from the Nike webshop in her hands, standing in front of a busy city street and cars background, the weather is rainy, high photorealistic quality.\n"
     ]
    },
    {
     "name": "stderr",
     "output_type": "stream",
     "text": [
      "100%|██████████| 15/15 [01:36<00:00,  6.46s/it]\n",
      " 80%|████████  | 802/1000 [2:27:41<3:16:54, 59.67s/it]"
     ]
    },
    {
     "name": "stdout",
     "output_type": "stream",
     "text": [
      "A medium shot view of a smiling man holding a brown cardboard box with yellow tape from the Bol.com webshop in his hands, standing in front of a busy city street and cars background, the weather is snowy, high photorealistic quality.\n"
     ]
    },
    {
     "name": "stderr",
     "output_type": "stream",
     "text": [
      "100%|██████████| 15/15 [00:23<00:00,  1.59s/it]\n",
      " 80%|████████  | 803/1000 [2:28:07<2:42:39, 49.54s/it]"
     ]
    },
    {
     "name": "stdout",
     "output_type": "stream",
     "text": [
      "A close-up view of an old person holding a white cardboard box with a number from the H&M webshop in her hands, standing in front of a garbage curb background, the weather is snowy, high photorealistic quality.\n"
     ]
    },
    {
     "name": "stderr",
     "output_type": "stream",
     "text": [
      "100%|██████████| 15/15 [00:16<00:00,  1.13s/it]\n",
      " 80%|████████  | 804/1000 [2:28:26<2:11:55, 40.38s/it]"
     ]
    },
    {
     "name": "stdout",
     "output_type": "stream",
     "text": [
      "A long shot view of a sad lady holding a black cardboard box with green tape from the Bol.com webshop in her hands, standing in front of a quite neighborhood street and garden background, the weather is cloudy, high photorealistic quality.\n"
     ]
    },
    {
     "name": "stderr",
     "output_type": "stream",
     "text": [
      "100%|██████████| 15/15 [00:22<00:00,  1.50s/it]\n",
      " 80%|████████  | 805/1000 [2:28:50<1:55:45, 35.62s/it]"
     ]
    },
    {
     "name": "stdout",
     "output_type": "stream",
     "text": [
      "A medium shot view of a smiling person holding a brown cardboard box with a qr code from the H&M webshop in her hands, standing in front of a garbage curb background, the weather is sunny, high photorealistic quality.\n"
     ]
    },
    {
     "name": "stderr",
     "output_type": "stream",
     "text": [
      "100%|██████████| 15/15 [00:22<00:00,  1.49s/it]\n",
      " 81%|████████  | 806/1000 [2:29:15<1:44:55, 32.45s/it]"
     ]
    },
    {
     "name": "stdout",
     "output_type": "stream",
     "text": [
      "A close-up view of a young boy holding a black cardboard box with red tape from the Coolblue webshop in his hands, standing in front of a busy city street and cars background, the weather is sunny, high photorealistic quality.\n"
     ]
    },
    {
     "name": "stderr",
     "output_type": "stream",
     "text": [
      "100%|██████████| 15/15 [00:56<00:00,  3.80s/it]\n",
      " 81%|████████  | 807/1000 [2:30:14<2:09:58, 40.41s/it]"
     ]
    },
    {
     "name": "stdout",
     "output_type": "stream",
     "text": [
      "A medium shot view of an angry man holding a black cardboard box with red tape from the Amazon webshop in his hands, standing in front of a quite neighborhood street and cars background, the weather is sunny, high photorealistic quality.\n"
     ]
    },
    {
     "name": "stderr",
     "output_type": "stream",
     "text": [
      "100%|██████████| 15/15 [00:14<00:00,  1.02it/s]\n",
      " 81%|████████  | 808/1000 [2:30:31<1:46:31, 33.29s/it]"
     ]
    },
    {
     "name": "stdout",
     "output_type": "stream",
     "text": [
      "A high angle view of a happy woman holding a brown cardboard box with blue tape from the Amazon webshop in her hands, standing in front of a quite neighborhood street and garden background, the weather is sunny, high photorealistic quality.\n"
     ]
    },
    {
     "name": "stderr",
     "output_type": "stream",
     "text": [
      "100%|██████████| 15/15 [00:14<00:00,  1.02it/s]\n",
      " 81%|████████  | 809/1000 [2:30:48<1:30:06, 28.30s/it]"
     ]
    },
    {
     "name": "stdout",
     "output_type": "stream",
     "text": [
      "A medium shot view of an angry lady holding a black cardboard box with blue tape from the Zalando webshop in her hands, standing in front of a appartment building background, the weather is snowy, high photorealistic quality.\n"
     ]
    },
    {
     "name": "stderr",
     "output_type": "stream",
     "text": [
      "100%|██████████| 15/15 [00:14<00:00,  1.03it/s]\n",
      " 81%|████████  | 810/1000 [2:31:04<1:18:31, 24.80s/it]"
     ]
    },
    {
     "name": "stdout",
     "output_type": "stream",
     "text": [
      "A long shot view of a happy person holding a brown cardboard box with blue tape from the Zalando webshop in her hands, standing in front of a city center background, the weather is cloudy, high photorealistic quality.\n"
     ]
    },
    {
     "name": "stderr",
     "output_type": "stream",
     "text": [
      "100%|██████████| 15/15 [00:14<00:00,  1.02it/s]\n",
      " 81%|████████  | 811/1000 [2:31:21<1:10:33, 22.40s/it]"
     ]
    },
    {
     "name": "stdout",
     "output_type": "stream",
     "text": [
      "A medium shot view of a frowning woman holding a white cardboard box with blue tape from the Amazon webshop in her hands, standing in front of a garbage curb background, the weather is sunny, high photorealistic quality.\n"
     ]
    },
    {
     "name": "stderr",
     "output_type": "stream",
     "text": [
      "100%|██████████| 15/15 [00:14<00:00,  1.04it/s]\n",
      " 81%|████████  | 812/1000 [2:31:37<1:04:35, 20.61s/it]"
     ]
    },
    {
     "name": "stdout",
     "output_type": "stream",
     "text": [
      "A long shot view of a frowning boy holding a colorful cardboard box with black tape from the Amazon webshop in his hands, standing in front of a quite neighborhood street and trees background, the weather is sunny, high photorealistic quality.\n"
     ]
    },
    {
     "name": "stderr",
     "output_type": "stream",
     "text": [
      "100%|██████████| 15/15 [00:14<00:00,  1.02it/s]\n",
      " 81%|████████▏ | 813/1000 [2:31:54<1:00:33, 19.43s/it]"
     ]
    },
    {
     "name": "stdout",
     "output_type": "stream",
     "text": [
      "A high angle view of an old lady holding a black cardboard box with a barcode from the Amazon webshop in her hands, standing in front of a appartment building background, the weather is sunny, high photorealistic quality.\n"
     ]
    },
    {
     "name": "stderr",
     "output_type": "stream",
     "text": [
      "100%|██████████| 15/15 [00:14<00:00,  1.02it/s]\n",
      " 81%|████████▏ | 814/1000 [2:32:11<57:45, 18.63s/it]  "
     ]
    },
    {
     "name": "stdout",
     "output_type": "stream",
     "text": [
      "A long shot view of a young woman holding a colorful cardboard box with a barcode from the Bol.com webshop in her hands, standing in front of a busy city street and cars background, the weather is cloudy, high photorealistic quality.\n"
     ]
    },
    {
     "name": "stderr",
     "output_type": "stream",
     "text": [
      "100%|██████████| 15/15 [00:14<00:00,  1.03it/s]\n",
      " 82%|████████▏ | 815/1000 [2:32:27<55:31, 18.01s/it]"
     ]
    },
    {
     "name": "stdout",
     "output_type": "stream",
     "text": [
      "A close-up view of a sad woman holding a white cardboard box with black tape from a webshop in her hands, standing in front of a quite neighborhood street and garden background, the weather is sunny, high photorealistic quality.\n"
     ]
    },
    {
     "name": "stderr",
     "output_type": "stream",
     "text": [
      "100%|██████████| 15/15 [00:19<00:00,  1.30s/it]\n",
      " 82%|████████▏ | 816/1000 [2:32:49<58:34, 19.10s/it]"
     ]
    },
    {
     "name": "stdout",
     "output_type": "stream",
     "text": [
      "A close-up view of a young boy holding a white cardboard box with green tape from the Nike webshop in his hands, standing in front of a city center background, the weather is sunny, high photorealistic quality.\n"
     ]
    },
    {
     "name": "stderr",
     "output_type": "stream",
     "text": [
      "100%|██████████| 15/15 [06:22<00:00, 25.50s/it]\n",
      " 82%|████████▏ | 817/1000 [2:39:13<6:32:17, 128.62s/it]"
     ]
    },
    {
     "name": "stdout",
     "output_type": "stream",
     "text": [
      "A close-up view of a sad man holding a brown cardboard box with blue tape from the Adidas webshop in his hands, standing in front of a busy city street and cars background, the weather is rainy, high photorealistic quality.\n"
     ]
    },
    {
     "name": "stderr",
     "output_type": "stream",
     "text": [
      "100%|██████████| 15/15 [00:08<00:00,  1.79it/s]\n",
      " 82%|████████▏ | 818/1000 [2:39:23<4:42:12, 93.03s/it] "
     ]
    },
    {
     "name": "stdout",
     "output_type": "stream",
     "text": [
      "A medium shot view of a happy woman holding a black cardboard box with black tape from the Amazon webshop in her hands, standing in front of a quite neighborhood street and cars background, the weather is cloudy, high photorealistic quality.\n"
     ]
    },
    {
     "name": "stderr",
     "output_type": "stream",
     "text": [
      "100%|██████████| 15/15 [00:08<00:00,  1.79it/s]\n",
      " 82%|████████▏ | 819/1000 [2:39:33<3:25:32, 68.13s/it]"
     ]
    },
    {
     "name": "stdout",
     "output_type": "stream",
     "text": [
      "A medium shot view of a frowning person holding a black cardboard box with yellow tape from the Bol.com webshop in her hands, standing in front of a appartment building background, the weather is cloudy, high photorealistic quality.\n"
     ]
    },
    {
     "name": "stderr",
     "output_type": "stream",
     "text": [
      "100%|██████████| 15/15 [00:17<00:00,  1.16s/it]\n",
      " 82%|████████▏ | 820/1000 [2:39:53<2:40:26, 53.48s/it]"
     ]
    },
    {
     "name": "stdout",
     "output_type": "stream",
     "text": [
      "A medium shot view of a frowning boy holding a white cardboard box with a qr code from the Coolblue webshop in his hands, standing in front of a quite neighborhood street and trees background, the weather is sunny, high photorealistic quality.\n"
     ]
    },
    {
     "name": "stderr",
     "output_type": "stream",
     "text": [
      "100%|██████████| 15/15 [00:08<00:00,  1.87it/s]\n",
      " 82%|████████▏ | 821/1000 [2:40:02<2:00:23, 40.35s/it]"
     ]
    },
    {
     "name": "stdout",
     "output_type": "stream",
     "text": [
      "A low angle view of a smiling woman holding a white cardboard box with yellow tape from the Coolblue webshop in her hands, standing in front of a city center background, the weather is cloudy, high photorealistic quality.\n"
     ]
    },
    {
     "name": "stderr",
     "output_type": "stream",
     "text": [
      "100%|██████████| 15/15 [00:07<00:00,  1.90it/s]\n",
      " 82%|████████▏ | 822/1000 [2:40:12<1:32:19, 31.12s/it]"
     ]
    },
    {
     "name": "stdout",
     "output_type": "stream",
     "text": [
      "A high angle view of a young lady holding a white cardboard box with black tape from the Amazon webshop in her hands, standing in front of a quite neighborhood street and garden background, the weather is sunny, high photorealistic quality.\n"
     ]
    },
    {
     "name": "stderr",
     "output_type": "stream",
     "text": [
      "100%|██████████| 15/15 [00:07<00:00,  1.92it/s]\n",
      " 82%|████████▏ | 823/1000 [2:40:21<1:12:37, 24.62s/it]"
     ]
    },
    {
     "name": "stdout",
     "output_type": "stream",
     "text": [
      "A full shot view of an old woman holding a black cardboard box with black tape from the Zalando webshop in her hands, standing in front of a busy city street and people background, the weather is snowy, high photorealistic quality.\n"
     ]
    },
    {
     "name": "stderr",
     "output_type": "stream",
     "text": [
      "100%|██████████| 15/15 [00:09<00:00,  1.62it/s]\n",
      " 82%|████████▏ | 824/1000 [2:40:32<1:00:20, 20.57s/it]"
     ]
    },
    {
     "name": "stdout",
     "output_type": "stream",
     "text": [
      "A full shot view of an old lady holding a colorful cardboard box with red tape from the Zalando webshop in her hands, standing in front of a garbage curb background, the weather is cloudy, high photorealistic quality.\n"
     ]
    },
    {
     "name": "stderr",
     "output_type": "stream",
     "text": [
      "100%|██████████| 15/15 [00:08<00:00,  1.77it/s]\n",
      " 82%|████████▎ | 825/1000 [2:40:43<50:57, 17.47s/it]  "
     ]
    },
    {
     "name": "stdout",
     "output_type": "stream",
     "text": [
      "A close-up view of an angry person holding a brown cardboard box with blue tape from the Amazon webshop in her hands, standing in front of a busy city street and people background, the weather is snowy, high photorealistic quality.\n"
     ]
    },
    {
     "name": "stderr",
     "output_type": "stream",
     "text": [
      "100%|██████████| 15/15 [00:12<00:00,  1.16it/s]\n",
      " 83%|████████▎ | 826/1000 [2:40:58<48:22, 16.68s/it]"
     ]
    },
    {
     "name": "stdout",
     "output_type": "stream",
     "text": [
      "A full shot view of an angry man holding a black cardboard box with green tape from the H&M webshop in his hands, standing in front of a busy city street and cars background, the weather is snowy, high photorealistic quality.\n"
     ]
    },
    {
     "name": "stderr",
     "output_type": "stream",
     "text": [
      "100%|██████████| 15/15 [00:16<00:00,  1.10s/it]\n",
      " 83%|████████▎ | 827/1000 [2:41:16<49:46, 17.26s/it]"
     ]
    },
    {
     "name": "stdout",
     "output_type": "stream",
     "text": [
      "A high angle view of an angry man holding a black cardboard box with yellow tape from the H&M webshop in his hands, standing in front of a city center background, the weather is rainy, high photorealistic quality.\n"
     ]
    },
    {
     "name": "stderr",
     "output_type": "stream",
     "text": [
      "100%|██████████| 15/15 [00:08<00:00,  1.69it/s]\n",
      " 83%|████████▎ | 828/1000 [2:41:27<43:46, 15.27s/it]"
     ]
    },
    {
     "name": "stdout",
     "output_type": "stream",
     "text": [
      "A medium shot view of a frowning man holding a black cardboard box with blue tape from a webshop in his hands, standing in front of a garbage curb background, the weather is rainy, high photorealistic quality.\n"
     ]
    },
    {
     "name": "stderr",
     "output_type": "stream",
     "text": [
      "100%|██████████| 15/15 [00:08<00:00,  1.80it/s]\n",
      " 83%|████████▎ | 829/1000 [2:41:37<39:01, 13.69s/it]"
     ]
    },
    {
     "name": "stdout",
     "output_type": "stream",
     "text": [
      "A close-up view of an angry person holding a black cardboard box with blue tape from the Bol.com webshop in her hands, standing in front of a in the street background, the weather is cloudy, high photorealistic quality.\n"
     ]
    },
    {
     "name": "stderr",
     "output_type": "stream",
     "text": [
      "100%|██████████| 15/15 [00:08<00:00,  1.81it/s]\n",
      " 83%|████████▎ | 830/1000 [2:41:47<35:40, 12.59s/it]"
     ]
    },
    {
     "name": "stdout",
     "output_type": "stream",
     "text": [
      "A medium shot view of an old boy holding a brown cardboard box with red tape from the Amazon webshop in his hands, standing in front of a busy city street and people background, the weather is snowy, high photorealistic quality.\n"
     ]
    },
    {
     "name": "stderr",
     "output_type": "stream",
     "text": [
      "100%|██████████| 15/15 [00:14<00:00,  1.01it/s]\n",
      " 83%|████████▎ | 831/1000 [2:42:06<40:50, 14.50s/it]"
     ]
    },
    {
     "name": "stdout",
     "output_type": "stream",
     "text": [
      "A high angle view of a smiling lady holding a colorful cardboard box with a qr code from the H&M webshop in her hands, standing in front of a busy city street and cars background, the weather is rainy, high photorealistic quality.\n"
     ]
    },
    {
     "name": "stderr",
     "output_type": "stream",
     "text": [
      "100%|██████████| 15/15 [00:10<00:00,  1.39it/s]\n",
      " 83%|████████▎ | 832/1000 [2:42:18<38:53, 13.89s/it]"
     ]
    },
    {
     "name": "stdout",
     "output_type": "stream",
     "text": [
      "A high angle view of a smiling boy holding a brown cardboard box with red tape from the H&M webshop in his hands, standing in front of a busy city street and people background, the weather is cloudy, high photorealistic quality.\n"
     ]
    },
    {
     "name": "stderr",
     "output_type": "stream",
     "text": [
      "100%|██████████| 15/15 [00:07<00:00,  1.95it/s]\n",
      " 83%|████████▎ | 833/1000 [2:42:28<34:52, 12.53s/it]"
     ]
    },
    {
     "name": "stdout",
     "output_type": "stream",
     "text": [
      "A long shot view of a young lady holding a brown cardboard box with blue tape from the Nike webshop in her hands, standing in front of a quite neighborhood street and trees background, the weather is cloudy, high photorealistic quality.\n"
     ]
    },
    {
     "name": "stderr",
     "output_type": "stream",
     "text": [
      "100%|██████████| 15/15 [00:07<00:00,  1.97it/s]\n",
      " 83%|████████▎ | 834/1000 [2:42:37<32:00, 11.57s/it]"
     ]
    },
    {
     "name": "stdout",
     "output_type": "stream",
     "text": [
      "A close-up view of a smiling boy holding a colorful cardboard box with green tape from the H&M webshop in his hands, standing in front of a busy city street and people background, the weather is cloudy, high photorealistic quality.\n"
     ]
    },
    {
     "name": "stderr",
     "output_type": "stream",
     "text": [
      "100%|██████████| 15/15 [00:07<00:00,  1.90it/s]\n",
      " 84%|████████▎ | 835/1000 [2:42:46<30:09, 10.97s/it]"
     ]
    },
    {
     "name": "stdout",
     "output_type": "stream",
     "text": [
      "A close-up view of a sad man holding a black cardboard box with yellow tape from the Zalando webshop in his hands, standing in front of a in the street background, the weather is sunny, high photorealistic quality.\n"
     ]
    },
    {
     "name": "stderr",
     "output_type": "stream",
     "text": [
      "100%|██████████| 15/15 [00:08<00:00,  1.81it/s]\n",
      " 84%|████████▎ | 836/1000 [2:42:56<29:07, 10.66s/it]"
     ]
    },
    {
     "name": "stdout",
     "output_type": "stream",
     "text": [
      "A low angle view of a sad boy holding a white cardboard box with blue tape from the Coolblue webshop in his hands, standing in front of a quite neighborhood street and cars background, the weather is snowy, high photorealistic quality.\n"
     ]
    },
    {
     "name": "stderr",
     "output_type": "stream",
     "text": [
      "100%|██████████| 15/15 [00:08<00:00,  1.86it/s]\n",
      " 84%|████████▎ | 837/1000 [2:43:06<28:11, 10.38s/it]"
     ]
    },
    {
     "name": "stdout",
     "output_type": "stream",
     "text": [
      "A high angle view of a frowning person holding a colorful cardboard box with yellow tape from the Zara webshop in her hands, standing in front of a appartment building background, the weather is cloudy, high photorealistic quality.\n"
     ]
    },
    {
     "name": "stderr",
     "output_type": "stream",
     "text": [
      "100%|██████████| 15/15 [00:08<00:00,  1.81it/s]\n",
      " 84%|████████▍ | 838/1000 [2:43:16<27:43, 10.27s/it]"
     ]
    },
    {
     "name": "stdout",
     "output_type": "stream",
     "text": [
      "A full shot view of an old man holding a brown cardboard box with green tape from the Bol.com webshop in his hands, standing in front of a garbage curb background, the weather is cloudy, high photorealistic quality.\n"
     ]
    },
    {
     "name": "stderr",
     "output_type": "stream",
     "text": [
      "100%|██████████| 15/15 [00:08<00:00,  1.77it/s]\n",
      " 84%|████████▍ | 839/1000 [2:43:26<27:30, 10.25s/it]"
     ]
    },
    {
     "name": "stdout",
     "output_type": "stream",
     "text": [
      "A close-up view of a sad person holding a black cardboard box with a barcode from the Amazon webshop in her hands, standing in front of a quite neighborhood street and trees background, the weather is cloudy, high photorealistic quality.\n"
     ]
    },
    {
     "name": "stderr",
     "output_type": "stream",
     "text": [
      "100%|██████████| 15/15 [00:08<00:00,  1.77it/s]\n",
      " 84%|████████▍ | 840/1000 [2:43:37<27:19, 10.25s/it]"
     ]
    },
    {
     "name": "stdout",
     "output_type": "stream",
     "text": [
      "A full shot view of an old lady holding a black cardboard box with red tape from the Bol.com webshop in her hands, standing in front of a quite neighborhood street and garden background, the weather is rainy, high photorealistic quality.\n"
     ]
    },
    {
     "name": "stderr",
     "output_type": "stream",
     "text": [
      "100%|██████████| 15/15 [00:08<00:00,  1.83it/s]\n",
      " 84%|████████▍ | 841/1000 [2:43:46<26:50, 10.13s/it]"
     ]
    },
    {
     "name": "stdout",
     "output_type": "stream",
     "text": [
      "A medium shot view of a sad man holding a black cardboard box with yellow tape from the Coolblue webshop in his hands, standing in front of a appartment building background, the weather is snowy, high photorealistic quality.\n"
     ]
    },
    {
     "name": "stderr",
     "output_type": "stream",
     "text": [
      "100%|██████████| 15/15 [00:08<00:00,  1.87it/s]\n",
      " 84%|████████▍ | 842/1000 [2:43:56<26:19, 10.00s/it]"
     ]
    },
    {
     "name": "stdout",
     "output_type": "stream",
     "text": [
      "A medium shot view of an angry boy holding a colorful cardboard box with black tape from the Bol.com webshop in his hands, standing in front of a quite neighborhood street and trees background, the weather is rainy, high photorealistic quality.\n"
     ]
    },
    {
     "name": "stderr",
     "output_type": "stream",
     "text": [
      "100%|██████████| 15/15 [00:07<00:00,  1.92it/s]\n",
      " 84%|████████▍ | 843/1000 [2:44:06<25:52,  9.89s/it]"
     ]
    },
    {
     "name": "stdout",
     "output_type": "stream",
     "text": [
      "A long shot view of a young person holding a white cardboard box with blue tape from a webshop in her hands, standing in front of a busy city street and cars background, the weather is cloudy, high photorealistic quality.\n"
     ]
    },
    {
     "name": "stderr",
     "output_type": "stream",
     "text": [
      "100%|██████████| 15/15 [00:08<00:00,  1.80it/s]\n",
      " 84%|████████▍ | 844/1000 [2:44:16<25:50,  9.94s/it]"
     ]
    },
    {
     "name": "stdout",
     "output_type": "stream",
     "text": [
      "A long shot view of an angry boy holding a black cardboard box with red tape from the Zalando webshop in his hands, standing in front of a in the street background, the weather is sunny, high photorealistic quality.\n"
     ]
    },
    {
     "name": "stderr",
     "output_type": "stream",
     "text": [
      "100%|██████████| 15/15 [00:08<00:00,  1.78it/s]\n",
      " 84%|████████▍ | 845/1000 [2:44:26<25:49, 10.00s/it]"
     ]
    },
    {
     "name": "stdout",
     "output_type": "stream",
     "text": [
      "A medium shot view of a sad boy holding a brown cardboard box with a barcode from the Zara webshop in his hands, standing in front of a quite neighborhood street and garden background, the weather is sunny, high photorealistic quality.\n"
     ]
    },
    {
     "name": "stderr",
     "output_type": "stream",
     "text": [
      "100%|██████████| 15/15 [00:08<00:00,  1.74it/s]\n",
      " 85%|████████▍ | 846/1000 [2:44:36<25:53, 10.09s/it]"
     ]
    },
    {
     "name": "stdout",
     "output_type": "stream",
     "text": [
      "A close-up view of an old man holding a black cardboard box with black tape from the Coolblue webshop in his hands, standing in front of a quite neighborhood street and cars background, the weather is sunny, high photorealistic quality.\n"
     ]
    },
    {
     "name": "stderr",
     "output_type": "stream",
     "text": [
      "100%|██████████| 15/15 [00:08<00:00,  1.80it/s]\n",
      " 85%|████████▍ | 847/1000 [2:44:46<25:43, 10.09s/it]"
     ]
    },
    {
     "name": "stdout",
     "output_type": "stream",
     "text": [
      "A high angle view of a frowning lady holding a colorful cardboard box with a qr code from the Nike webshop in her hands, standing in front of a quite neighborhood street and trees background, the weather is cloudy, high photorealistic quality.\n"
     ]
    },
    {
     "name": "stderr",
     "output_type": "stream",
     "text": [
      "100%|██████████| 15/15 [00:08<00:00,  1.78it/s]\n",
      " 85%|████████▍ | 848/1000 [2:44:56<25:33, 10.09s/it]"
     ]
    },
    {
     "name": "stdout",
     "output_type": "stream",
     "text": [
      "A close-up view of a frowning woman holding a brown cardboard box with a barcode from the H&M webshop in her hands, standing in front of a busy city street and cars background, the weather is snowy, high photorealistic quality.\n"
     ]
    },
    {
     "name": "stderr",
     "output_type": "stream",
     "text": [
      "100%|██████████| 15/15 [00:08<00:00,  1.79it/s]\n",
      " 85%|████████▍ | 849/1000 [2:45:07<25:21, 10.08s/it]"
     ]
    },
    {
     "name": "stdout",
     "output_type": "stream",
     "text": [
      "A long shot view of a smiling lady holding a black cardboard box with blue tape from the Bol.com webshop in her hands, standing in front of a city center background, the weather is snowy, high photorealistic quality.\n"
     ]
    },
    {
     "name": "stderr",
     "output_type": "stream",
     "text": [
      "100%|██████████| 15/15 [00:08<00:00,  1.87it/s]\n",
      " 85%|████████▌ | 850/1000 [2:45:16<24:57,  9.98s/it]"
     ]
    },
    {
     "name": "stdout",
     "output_type": "stream",
     "text": [
      "A close-up view of a young woman holding a colorful cardboard box with a barcode from the Coolblue webshop in her hands, standing in front of a quite neighborhood street and trees background, the weather is cloudy, high photorealistic quality.\n"
     ]
    },
    {
     "name": "stderr",
     "output_type": "stream",
     "text": [
      "100%|██████████| 15/15 [00:08<00:00,  1.81it/s]\n",
      " 85%|████████▌ | 851/1000 [2:45:26<24:44,  9.97s/it]"
     ]
    },
    {
     "name": "stdout",
     "output_type": "stream",
     "text": [
      "A medium shot view of an angry person holding a colorful cardboard box with a qr code from the Nike webshop in her hands, standing in front of a quite neighborhood street and garden background, the weather is sunny, high photorealistic quality.\n"
     ]
    },
    {
     "name": "stderr",
     "output_type": "stream",
     "text": [
      "100%|██████████| 15/15 [00:08<00:00,  1.76it/s]\n",
      " 85%|████████▌ | 852/1000 [2:45:36<24:45, 10.04s/it]"
     ]
    },
    {
     "name": "stdout",
     "output_type": "stream",
     "text": [
      "A full shot view of a smiling lady holding a colorful cardboard box with a number from the Zalando webshop in her hands, standing in front of a appartment building background, the weather is snowy, high photorealistic quality.\n"
     ]
    },
    {
     "name": "stderr",
     "output_type": "stream",
     "text": [
      "100%|██████████| 15/15 [00:08<00:00,  1.81it/s]\n",
      " 85%|████████▌ | 853/1000 [2:45:46<24:33, 10.02s/it]"
     ]
    },
    {
     "name": "stdout",
     "output_type": "stream",
     "text": [
      "A long shot view of a smiling lady holding a brown cardboard box with a number from the Coolblue webshop in her hands, standing in front of a in the street background, the weather is cloudy, high photorealistic quality.\n"
     ]
    },
    {
     "name": "stderr",
     "output_type": "stream",
     "text": [
      "100%|██████████| 15/15 [00:08<00:00,  1.68it/s]\n",
      " 85%|████████▌ | 854/1000 [2:45:57<24:58, 10.26s/it]"
     ]
    },
    {
     "name": "stdout",
     "output_type": "stream",
     "text": [
      "A low angle view of an old person holding a black cardboard box with blue tape from the Zalando webshop in her hands, standing in front of a busy city street and people background, the weather is cloudy, high photorealistic quality.\n"
     ]
    },
    {
     "name": "stderr",
     "output_type": "stream",
     "text": [
      "100%|██████████| 15/15 [00:10<00:00,  1.39it/s]\n",
      " 86%|████████▌ | 855/1000 [2:46:10<26:39, 11.03s/it]"
     ]
    },
    {
     "name": "stdout",
     "output_type": "stream",
     "text": [
      "A close-up view of a young lady holding a black cardboard box with a qr code from the Zara webshop in her hands, standing in front of a quite neighborhood street and cars background, the weather is sunny, high photorealistic quality.\n"
     ]
    },
    {
     "name": "stderr",
     "output_type": "stream",
     "text": [
      "100%|██████████| 15/15 [00:07<00:00,  1.88it/s]\n",
      " 86%|████████▌ | 856/1000 [2:46:20<25:34, 10.65s/it]"
     ]
    },
    {
     "name": "stdout",
     "output_type": "stream",
     "text": [
      "A full shot view of an old person holding a black cardboard box with blue tape from a webshop in her hands, standing in front of a quite neighborhood street and garden background, the weather is rainy, high photorealistic quality.\n"
     ]
    },
    {
     "name": "stderr",
     "output_type": "stream",
     "text": [
      "100%|██████████| 15/15 [00:09<00:00,  1.60it/s]\n",
      " 86%|████████▌ | 857/1000 [2:46:31<25:47, 10.82s/it]"
     ]
    },
    {
     "name": "stdout",
     "output_type": "stream",
     "text": [
      "A full shot view of an old person holding a white cardboard box with yellow tape from the Zara webshop in her hands, standing in front of a quite neighborhood street and garden background, the weather is rainy, high photorealistic quality.\n"
     ]
    },
    {
     "name": "stderr",
     "output_type": "stream",
     "text": [
      "100%|██████████| 15/15 [00:09<00:00,  1.55it/s]\n",
      " 86%|████████▌ | 858/1000 [2:46:42<26:04, 11.02s/it]"
     ]
    },
    {
     "name": "stdout",
     "output_type": "stream",
     "text": [
      "A long shot view of an old man holding a brown cardboard box with a barcode from a webshop in his hands, standing in front of a quite neighborhood street and cars background, the weather is snowy, high photorealistic quality.\n"
     ]
    },
    {
     "name": "stderr",
     "output_type": "stream",
     "text": [
      "100%|██████████| 15/15 [00:08<00:00,  1.69it/s]\n",
      " 86%|████████▌ | 859/1000 [2:46:53<25:38, 10.91s/it]"
     ]
    },
    {
     "name": "stdout",
     "output_type": "stream",
     "text": [
      "A close-up view of a frowning boy holding a colorful cardboard box with green tape from a webshop in his hands, standing in front of a quite neighborhood street and trees background, the weather is snowy, high photorealistic quality.\n"
     ]
    },
    {
     "name": "stderr",
     "output_type": "stream",
     "text": [
      "100%|██████████| 15/15 [00:13<00:00,  1.09it/s]\n",
      " 86%|████████▌ | 860/1000 [2:47:11<30:31, 13.09s/it]"
     ]
    },
    {
     "name": "stdout",
     "output_type": "stream",
     "text": [
      "A close-up view of a happy boy holding a white cardboard box with black tape from the Coolblue webshop in his hands, standing in front of a appartment building background, the weather is rainy, high photorealistic quality.\n"
     ]
    },
    {
     "name": "stderr",
     "output_type": "stream",
     "text": [
      "100%|██████████| 15/15 [00:09<00:00,  1.50it/s]\n",
      " 86%|████████▌ | 861/1000 [2:47:23<29:19, 12.66s/it]"
     ]
    },
    {
     "name": "stdout",
     "output_type": "stream",
     "text": [
      "A high angle view of a smiling woman holding a colorful cardboard box with a number from the Coolblue webshop in her hands, standing in front of a appartment building background, the weather is cloudy, high photorealistic quality.\n"
     ]
    },
    {
     "name": "stderr",
     "output_type": "stream",
     "text": [
      "100%|██████████| 15/15 [00:07<00:00,  1.96it/s]\n",
      " 86%|████████▌ | 862/1000 [2:47:32<26:47, 11.65s/it]"
     ]
    },
    {
     "name": "stdout",
     "output_type": "stream",
     "text": [
      "A long shot view of an angry woman holding a white cardboard box with a number from the Adidas webshop in her hands, standing in front of a quite neighborhood street and trees background, the weather is sunny, high photorealistic quality.\n"
     ]
    },
    {
     "name": "stderr",
     "output_type": "stream",
     "text": [
      "100%|██████████| 15/15 [00:07<00:00,  1.97it/s]\n",
      " 86%|████████▋ | 863/1000 [2:47:42<25:00, 10.95s/it]"
     ]
    },
    {
     "name": "stdout",
     "output_type": "stream",
     "text": [
      "A high angle view of a sad man holding a colorful cardboard box with blue tape from a webshop in his hands, standing in front of a in the street background, the weather is rainy, high photorealistic quality.\n"
     ]
    },
    {
     "name": "stderr",
     "output_type": "stream",
     "text": [
      "100%|██████████| 15/15 [00:07<00:00,  1.97it/s]\n",
      " 86%|████████▋ | 864/1000 [2:47:51<23:42, 10.46s/it]"
     ]
    },
    {
     "name": "stdout",
     "output_type": "stream",
     "text": [
      "A full shot view of a young man holding a white cardboard box with green tape from a webshop in his hands, standing in front of a city center background, the weather is sunny, high photorealistic quality.\n"
     ]
    },
    {
     "name": "stderr",
     "output_type": "stream",
     "text": [
      "100%|██████████| 15/15 [00:08<00:00,  1.75it/s]\n",
      " 86%|████████▋ | 865/1000 [2:48:01<23:32, 10.46s/it]"
     ]
    },
    {
     "name": "stdout",
     "output_type": "stream",
     "text": [
      "A long shot view of a young lady holding a brown cardboard box with black tape from the Coolblue webshop in her hands, standing in front of a city center background, the weather is sunny, high photorealistic quality.\n"
     ]
    },
    {
     "name": "stderr",
     "output_type": "stream",
     "text": [
      "100%|██████████| 15/15 [00:09<00:00,  1.58it/s]\n",
      " 87%|████████▋ | 866/1000 [2:48:13<23:53, 10.70s/it]"
     ]
    },
    {
     "name": "stdout",
     "output_type": "stream",
     "text": [
      "A full shot view of a happy woman holding a black cardboard box with yellow tape from the Adidas webshop in her hands, standing in front of a quite neighborhood street and trees background, the weather is sunny, high photorealistic quality.\n"
     ]
    },
    {
     "name": "stderr",
     "output_type": "stream",
     "text": [
      "100%|██████████| 15/15 [00:08<00:00,  1.80it/s]\n",
      " 87%|████████▋ | 867/1000 [2:48:23<23:18, 10.52s/it]"
     ]
    },
    {
     "name": "stdout",
     "output_type": "stream",
     "text": [
      "A long shot view of a happy man holding a white cardboard box with green tape from the Adidas webshop in his hands, standing in front of a appartment building background, the weather is rainy, high photorealistic quality.\n"
     ]
    },
    {
     "name": "stderr",
     "output_type": "stream",
     "text": [
      "100%|██████████| 15/15 [00:08<00:00,  1.81it/s]\n",
      " 87%|████████▋ | 868/1000 [2:48:33<22:51, 10.39s/it]"
     ]
    },
    {
     "name": "stdout",
     "output_type": "stream",
     "text": [
      "A full shot view of a frowning lady holding a brown cardboard box with yellow tape from the H&M webshop in her hands, standing in front of a busy city street and people background, the weather is snowy, high photorealistic quality.\n"
     ]
    },
    {
     "name": "stderr",
     "output_type": "stream",
     "text": [
      "100%|██████████| 15/15 [00:08<00:00,  1.83it/s]\n",
      " 87%|████████▋ | 869/1000 [2:48:43<22:23, 10.25s/it]"
     ]
    },
    {
     "name": "stdout",
     "output_type": "stream",
     "text": [
      "A long shot view of a young man holding a brown cardboard box with a barcode from the H&M webshop in his hands, standing in front of a garbage curb background, the weather is cloudy, high photorealistic quality.\n"
     ]
    },
    {
     "name": "stderr",
     "output_type": "stream",
     "text": [
      "100%|██████████| 15/15 [00:08<00:00,  1.72it/s]\n",
      " 87%|████████▋ | 870/1000 [2:48:53<22:15, 10.28s/it]"
     ]
    },
    {
     "name": "stdout",
     "output_type": "stream",
     "text": [
      "A medium shot view of a frowning boy holding a brown cardboard box with red tape from the Coolblue webshop in his hands, standing in front of a city center background, the weather is cloudy, high photorealistic quality.\n"
     ]
    },
    {
     "name": "stderr",
     "output_type": "stream",
     "text": [
      "100%|██████████| 15/15 [00:09<00:00,  1.60it/s]\n",
      " 87%|████████▋ | 871/1000 [2:49:04<22:42, 10.56s/it]"
     ]
    },
    {
     "name": "stdout",
     "output_type": "stream",
     "text": [
      "A close-up view of a young person holding a black cardboard box with blue tape from the Zalando webshop in her hands, standing in front of a busy city street and cars background, the weather is cloudy, high photorealistic quality.\n"
     ]
    },
    {
     "name": "stderr",
     "output_type": "stream",
     "text": [
      "100%|██████████| 15/15 [00:10<00:00,  1.40it/s]\n",
      " 87%|████████▋ | 872/1000 [2:49:17<24:00, 11.25s/it]"
     ]
    },
    {
     "name": "stdout",
     "output_type": "stream",
     "text": [
      "A medium shot view of a young woman holding a colorful cardboard box with a qr code from the H&M webshop in her hands, standing in front of a quite neighborhood street and trees background, the weather is snowy, high photorealistic quality.\n"
     ]
    },
    {
     "name": "stderr",
     "output_type": "stream",
     "text": [
      "100%|██████████| 15/15 [00:11<00:00,  1.32it/s]\n",
      " 87%|████████▋ | 873/1000 [2:49:31<25:09, 11.88s/it]"
     ]
    },
    {
     "name": "stdout",
     "output_type": "stream",
     "text": [
      "A full shot view of a sad lady holding a white cardboard box with yellow tape from the Zara webshop in her hands, standing in front of a city center background, the weather is sunny, high photorealistic quality.\n"
     ]
    },
    {
     "name": "stderr",
     "output_type": "stream",
     "text": [
      "100%|██████████| 15/15 [00:07<00:00,  1.95it/s]\n",
      " 87%|████████▋ | 874/1000 [2:49:40<23:23, 11.14s/it]"
     ]
    },
    {
     "name": "stdout",
     "output_type": "stream",
     "text": [
      "A close-up view of a frowning person holding a black cardboard box with black tape from the Zara webshop in her hands, standing in front of a appartment building background, the weather is sunny, high photorealistic quality.\n"
     ]
    },
    {
     "name": "stderr",
     "output_type": "stream",
     "text": [
      "100%|██████████| 15/15 [00:16<00:00,  1.10s/it]\n",
      " 88%|████████▊ | 875/1000 [2:49:58<27:38, 13.27s/it]"
     ]
    },
    {
     "name": "stdout",
     "output_type": "stream",
     "text": [
      "A close-up view of a sad man holding a black cardboard box with blue tape from the Coolblue webshop in his hands, standing in front of a quite neighborhood street and cars background, the weather is rainy, high photorealistic quality.\n"
     ]
    },
    {
     "name": "stderr",
     "output_type": "stream",
     "text": [
      "100%|██████████| 15/15 [00:08<00:00,  1.78it/s]\n",
      " 88%|████████▊ | 876/1000 [2:50:08<25:27, 12.32s/it]"
     ]
    },
    {
     "name": "stdout",
     "output_type": "stream",
     "text": [
      "A low angle view of an old woman holding a brown cardboard box with a barcode from the Zara webshop in her hands, standing in front of a quite neighborhood street and trees background, the weather is sunny, high photorealistic quality.\n"
     ]
    },
    {
     "name": "stderr",
     "output_type": "stream",
     "text": [
      "100%|██████████| 15/15 [00:07<00:00,  1.90it/s]\n",
      " 88%|████████▊ | 877/1000 [2:50:18<23:35, 11.51s/it]"
     ]
    },
    {
     "name": "stdout",
     "output_type": "stream",
     "text": [
      "A full shot view of a happy lady holding a brown cardboard box with blue tape from the Zara webshop in her hands, standing in front of a appartment building background, the weather is cloudy, high photorealistic quality.\n"
     ]
    },
    {
     "name": "stderr",
     "output_type": "stream",
     "text": [
      "100%|██████████| 15/15 [00:07<00:00,  1.94it/s]\n",
      " 88%|████████▊ | 878/1000 [2:50:27<22:04, 10.85s/it]"
     ]
    },
    {
     "name": "stdout",
     "output_type": "stream",
     "text": [
      "A close-up view of a happy lady holding a brown cardboard box with a number from the Bol.com webshop in her hands, standing in front of a busy city street and cars background, the weather is sunny, high photorealistic quality.\n"
     ]
    },
    {
     "name": "stderr",
     "output_type": "stream",
     "text": [
      "100%|██████████| 15/15 [00:08<00:00,  1.84it/s]\n",
      " 88%|████████▊ | 879/1000 [2:50:37<21:16, 10.55s/it]"
     ]
    },
    {
     "name": "stdout",
     "output_type": "stream",
     "text": [
      "A close-up view of a smiling man holding a brown cardboard box with a number from a webshop in his hands, standing in front of a appartment building background, the weather is rainy, high photorealistic quality.\n"
     ]
    },
    {
     "name": "stderr",
     "output_type": "stream",
     "text": [
      "100%|██████████| 15/15 [00:09<00:00,  1.52it/s]\n",
      " 88%|████████▊ | 880/1000 [2:50:49<21:48, 10.90s/it]"
     ]
    },
    {
     "name": "stdout",
     "output_type": "stream",
     "text": [
      "A low angle view of a frowning man holding a white cardboard box with a barcode from the Nike webshop in his hands, standing in front of a busy city street and people background, the weather is sunny, high photorealistic quality.\n"
     ]
    },
    {
     "name": "stderr",
     "output_type": "stream",
     "text": [
      "100%|██████████| 15/15 [00:09<00:00,  1.59it/s]\n",
      " 88%|████████▊ | 881/1000 [2:51:00<21:44, 10.96s/it]"
     ]
    },
    {
     "name": "stdout",
     "output_type": "stream",
     "text": [
      "A high angle view of an old lady holding a brown cardboard box with black tape from the H&M webshop in her hands, standing in front of a busy city street and cars background, the weather is rainy, high photorealistic quality.\n"
     ]
    },
    {
     "name": "stderr",
     "output_type": "stream",
     "text": [
      "100%|██████████| 15/15 [00:08<00:00,  1.84it/s]\n",
      " 88%|████████▊ | 882/1000 [2:51:10<20:56, 10.65s/it]"
     ]
    },
    {
     "name": "stdout",
     "output_type": "stream",
     "text": [
      "A low angle view of a happy woman holding a black cardboard box with a barcode from the Adidas webshop in her hands, standing in front of a in the street background, the weather is rainy, high photorealistic quality.\n"
     ]
    },
    {
     "name": "stderr",
     "output_type": "stream",
     "text": [
      "100%|██████████| 15/15 [00:09<00:00,  1.65it/s]\n",
      " 88%|████████▊ | 883/1000 [2:51:21<20:57, 10.74s/it]"
     ]
    },
    {
     "name": "stdout",
     "output_type": "stream",
     "text": [
      "A low angle view of an old lady holding a colorful cardboard box with red tape from the Bol.com webshop in her hands, standing in front of a busy city street and cars background, the weather is rainy, high photorealistic quality.\n"
     ]
    },
    {
     "name": "stderr",
     "output_type": "stream",
     "text": [
      "100%|██████████| 15/15 [00:07<00:00,  1.89it/s]\n",
      " 88%|████████▊ | 884/1000 [2:51:30<20:05, 10.40s/it]"
     ]
    },
    {
     "name": "stdout",
     "output_type": "stream",
     "text": [
      "A medium shot view of a frowning boy holding a white cardboard box with a qr code from the Amazon webshop in his hands, standing in front of a appartment building background, the weather is snowy, high photorealistic quality.\n"
     ]
    },
    {
     "name": "stderr",
     "output_type": "stream",
     "text": [
      "100%|██████████| 15/15 [00:07<00:00,  1.93it/s]\n",
      " 88%|████████▊ | 885/1000 [2:51:40<19:24, 10.12s/it]"
     ]
    },
    {
     "name": "stdout",
     "output_type": "stream",
     "text": [
      "A full shot view of an angry man holding a colorful cardboard box with black tape from the Coolblue webshop in his hands, standing in front of a garbage curb background, the weather is cloudy, high photorealistic quality.\n"
     ]
    },
    {
     "name": "stderr",
     "output_type": "stream",
     "text": [
      "100%|██████████| 15/15 [00:07<00:00,  1.92it/s]\n",
      " 89%|████████▊ | 886/1000 [2:51:49<18:52,  9.93s/it]"
     ]
    },
    {
     "name": "stdout",
     "output_type": "stream",
     "text": [
      "A medium shot view of a sad man holding a colorful cardboard box with green tape from the H&M webshop in his hands, standing in front of a appartment building background, the weather is sunny, high photorealistic quality.\n"
     ]
    },
    {
     "name": "stderr",
     "output_type": "stream",
     "text": [
      "100%|██████████| 15/15 [00:07<00:00,  1.93it/s]\n",
      " 89%|████████▊ | 887/1000 [2:51:59<18:28,  9.81s/it]"
     ]
    },
    {
     "name": "stdout",
     "output_type": "stream",
     "text": [
      "A medium shot view of a frowning lady holding a white cardboard box with a barcode from the Amazon webshop in her hands, standing in front of a busy city street and people background, the weather is sunny, high photorealistic quality.\n"
     ]
    },
    {
     "name": "stderr",
     "output_type": "stream",
     "text": [
      "100%|██████████| 15/15 [00:07<00:00,  1.93it/s]\n",
      " 89%|████████▉ | 888/1000 [2:52:08<18:06,  9.70s/it]"
     ]
    },
    {
     "name": "stdout",
     "output_type": "stream",
     "text": [
      "A long shot view of a young person holding a white cardboard box with a qr code from a webshop in her hands, standing in front of a busy city street and cars background, the weather is sunny, high photorealistic quality.\n"
     ]
    },
    {
     "name": "stderr",
     "output_type": "stream",
     "text": [
      "100%|██████████| 15/15 [00:07<00:00,  1.94it/s]\n",
      " 89%|████████▉ | 889/1000 [2:52:18<17:50,  9.64s/it]"
     ]
    },
    {
     "name": "stdout",
     "output_type": "stream",
     "text": [
      "A full shot view of a young person holding a colorful cardboard box with black tape from the H&M webshop in her hands, standing in front of a busy city street and people background, the weather is sunny, high photorealistic quality.\n"
     ]
    },
    {
     "name": "stderr",
     "output_type": "stream",
     "text": [
      "100%|██████████| 15/15 [00:08<00:00,  1.86it/s]\n",
      " 89%|████████▉ | 890/1000 [2:52:28<17:48,  9.71s/it]"
     ]
    },
    {
     "name": "stdout",
     "output_type": "stream",
     "text": [
      "A medium shot view of a frowning lady holding a black cardboard box with black tape from a webshop in her hands, standing in front of a garbage curb background, the weather is cloudy, high photorealistic quality.\n"
     ]
    },
    {
     "name": "stderr",
     "output_type": "stream",
     "text": [
      "100%|██████████| 15/15 [00:08<00:00,  1.74it/s]\n",
      " 89%|████████▉ | 891/1000 [2:52:38<18:00,  9.91s/it]"
     ]
    },
    {
     "name": "stdout",
     "output_type": "stream",
     "text": [
      "A long shot view of an angry woman holding a white cardboard box with yellow tape from the Zara webshop in her hands, standing in front of a garbage curb background, the weather is cloudy, high photorealistic quality.\n"
     ]
    },
    {
     "name": "stderr",
     "output_type": "stream",
     "text": [
      "100%|██████████| 15/15 [00:08<00:00,  1.85it/s]\n",
      " 89%|████████▉ | 892/1000 [2:52:48<17:45,  9.87s/it]"
     ]
    },
    {
     "name": "stdout",
     "output_type": "stream",
     "text": [
      "A full shot view of a young lady holding a black cardboard box with yellow tape from the Bol.com webshop in her hands, standing in front of a garbage curb background, the weather is cloudy, high photorealistic quality.\n"
     ]
    },
    {
     "name": "stderr",
     "output_type": "stream",
     "text": [
      "100%|██████████| 15/15 [00:07<00:00,  1.95it/s]\n",
      " 89%|████████▉ | 893/1000 [2:52:57<17:18,  9.71s/it]"
     ]
    },
    {
     "name": "stdout",
     "output_type": "stream",
     "text": [
      "A full shot view of an angry boy holding a brown cardboard box with a qr code from the Adidas webshop in his hands, standing in front of a garbage curb background, the weather is snowy, high photorealistic quality.\n"
     ]
    },
    {
     "name": "stderr",
     "output_type": "stream",
     "text": [
      "100%|██████████| 15/15 [00:11<00:00,  1.33it/s]\n",
      " 89%|████████▉ | 894/1000 [2:53:10<18:53, 10.70s/it]"
     ]
    },
    {
     "name": "stdout",
     "output_type": "stream",
     "text": [
      "A full shot view of an angry woman holding a colorful cardboard box with yellow tape from the Adidas webshop in her hands, standing in front of a in the street background, the weather is snowy, high photorealistic quality.\n"
     ]
    },
    {
     "name": "stderr",
     "output_type": "stream",
     "text": [
      "100%|██████████| 15/15 [00:09<00:00,  1.65it/s]\n",
      " 90%|████████▉ | 895/1000 [2:53:21<18:49, 10.76s/it]"
     ]
    },
    {
     "name": "stdout",
     "output_type": "stream",
     "text": [
      "A low angle view of a sad woman holding a black cardboard box with a number from the H&M webshop in her hands, standing in front of a busy city street and people background, the weather is cloudy, high photorealistic quality.\n"
     ]
    },
    {
     "name": "stderr",
     "output_type": "stream",
     "text": [
      "100%|██████████| 15/15 [00:12<00:00,  1.25it/s]\n",
      " 90%|████████▉ | 896/1000 [2:53:35<20:30, 11.83s/it]"
     ]
    },
    {
     "name": "stdout",
     "output_type": "stream",
     "text": [
      "A close-up view of a young lady holding a brown cardboard box with a barcode from the H&M webshop in her hands, standing in front of a appartment building background, the weather is cloudy, high photorealistic quality.\n"
     ]
    },
    {
     "name": "stderr",
     "output_type": "stream",
     "text": [
      "100%|██████████| 15/15 [00:32<00:00,  2.14s/it]\n",
      " 90%|████████▉ | 897/1000 [2:54:09<31:43, 18.48s/it]"
     ]
    },
    {
     "name": "stdout",
     "output_type": "stream",
     "text": [
      "A high angle view of an old woman holding a brown cardboard box with a qr code from the Amazon webshop in her hands, standing in front of a city center background, the weather is cloudy, high photorealistic quality.\n"
     ]
    },
    {
     "name": "stderr",
     "output_type": "stream",
     "text": [
      "100%|██████████| 15/15 [00:09<00:00,  1.58it/s]\n",
      " 90%|████████▉ | 898/1000 [2:54:21<27:44, 16.32s/it]"
     ]
    },
    {
     "name": "stdout",
     "output_type": "stream",
     "text": [
      "A long shot view of an angry woman holding a colorful cardboard box with a number from the Adidas webshop in her hands, standing in front of a city center background, the weather is sunny, high photorealistic quality.\n"
     ]
    },
    {
     "name": "stderr",
     "output_type": "stream",
     "text": [
      "100%|██████████| 15/15 [00:09<00:00,  1.62it/s]\n",
      " 90%|████████▉ | 899/1000 [2:54:34<25:51, 15.37s/it]"
     ]
    },
    {
     "name": "stdout",
     "output_type": "stream",
     "text": [
      "A low angle view of an old woman holding a white cardboard box with black tape from the Amazon webshop in her hands, standing in front of a in the street background, the weather is snowy, high photorealistic quality.\n"
     ]
    },
    {
     "name": "stderr",
     "output_type": "stream",
     "text": [
      "100%|██████████| 15/15 [00:15<00:00,  1.05s/it]\n",
      " 90%|█████████ | 900/1000 [2:54:52<27:01, 16.22s/it]"
     ]
    },
    {
     "name": "stdout",
     "output_type": "stream",
     "text": [
      "A close-up view of an old man holding a brown cardboard box with red tape from the Zara webshop in his hands, standing in front of a in the street background, the weather is cloudy, high photorealistic quality.\n"
     ]
    },
    {
     "name": "stderr",
     "output_type": "stream",
     "text": [
      "100%|██████████| 15/15 [00:09<00:00,  1.51it/s]\n",
      " 90%|█████████ | 901/1000 [2:55:04<24:28, 14.84s/it]"
     ]
    },
    {
     "name": "stdout",
     "output_type": "stream",
     "text": [
      "A long shot view of a young lady holding a colorful cardboard box with yellow tape from the Adidas webshop in her hands, standing in front of a garbage curb background, the weather is snowy, high photorealistic quality.\n"
     ]
    },
    {
     "name": "stderr",
     "output_type": "stream",
     "text": [
      "100%|██████████| 15/15 [00:09<00:00,  1.55it/s]\n",
      " 90%|█████████ | 902/1000 [2:55:15<22:39, 13.87s/it]"
     ]
    },
    {
     "name": "stdout",
     "output_type": "stream",
     "text": [
      "A high angle view of a happy person holding a black cardboard box with a barcode from the Bol.com webshop in her hands, standing in front of a in the street background, the weather is snowy, high photorealistic quality.\n"
     ]
    },
    {
     "name": "stderr",
     "output_type": "stream",
     "text": [
      "100%|██████████| 15/15 [00:08<00:00,  1.78it/s]\n",
      " 90%|█████████ | 903/1000 [2:55:25<20:36, 12.75s/it]"
     ]
    },
    {
     "name": "stdout",
     "output_type": "stream",
     "text": [
      "A long shot view of a frowning woman holding a white cardboard box with blue tape from a webshop in her hands, standing in front of a quite neighborhood street and trees background, the weather is rainy, high photorealistic quality.\n"
     ]
    },
    {
     "name": "stderr",
     "output_type": "stream",
     "text": [
      "100%|██████████| 15/15 [00:08<00:00,  1.68it/s]\n",
      " 90%|█████████ | 904/1000 [2:55:36<19:24, 12.14s/it]"
     ]
    },
    {
     "name": "stdout",
     "output_type": "stream",
     "text": [
      "A close-up view of a happy person holding a brown cardboard box with a number from the Amazon webshop in her hands, standing in front of a garbage curb background, the weather is snowy, high photorealistic quality.\n"
     ]
    },
    {
     "name": "stderr",
     "output_type": "stream",
     "text": [
      "100%|██████████| 15/15 [00:15<00:00,  1.04s/it]\n",
      " 90%|█████████ | 905/1000 [2:55:54<21:53, 13.83s/it]"
     ]
    },
    {
     "name": "stdout",
     "output_type": "stream",
     "text": [
      "A medium shot view of an old person holding a brown cardboard box with red tape from the Coolblue webshop in her hands, standing in front of a busy city street and people background, the weather is cloudy, high photorealistic quality.\n"
     ]
    },
    {
     "name": "stderr",
     "output_type": "stream",
     "text": [
      "100%|██████████| 15/15 [00:21<00:00,  1.42s/it]\n",
      " 91%|█████████ | 906/1000 [2:56:17<26:01, 16.61s/it]"
     ]
    },
    {
     "name": "stdout",
     "output_type": "stream",
     "text": [
      "A close-up view of a sad lady holding a colorful cardboard box with a barcode from the Adidas webshop in her hands, standing in front of a quite neighborhood street and cars background, the weather is rainy, high photorealistic quality.\n"
     ]
    },
    {
     "name": "stderr",
     "output_type": "stream",
     "text": [
      "100%|██████████| 15/15 [00:16<00:00,  1.11s/it]\n",
      " 91%|█████████ | 907/1000 [2:56:35<26:33, 17.14s/it]"
     ]
    },
    {
     "name": "stdout",
     "output_type": "stream",
     "text": [
      "A long shot view of a happy man holding a white cardboard box with a barcode from the Adidas webshop in his hands, standing in front of a appartment building background, the weather is cloudy, high photorealistic quality.\n"
     ]
    },
    {
     "name": "stderr",
     "output_type": "stream",
     "text": [
      "100%|██████████| 15/15 [00:14<00:00,  1.03it/s]\n",
      " 91%|█████████ | 908/1000 [2:56:52<25:52, 16.87s/it]"
     ]
    },
    {
     "name": "stdout",
     "output_type": "stream",
     "text": [
      "A close-up view of a young woman holding a brown cardboard box with green tape from the Bol.com webshop in her hands, standing in front of a in the street background, the weather is cloudy, high photorealistic quality.\n"
     ]
    },
    {
     "name": "stderr",
     "output_type": "stream",
     "text": [
      "100%|██████████| 15/15 [00:11<00:00,  1.33it/s]\n",
      " 91%|█████████ | 909/1000 [2:57:05<23:56, 15.78s/it]"
     ]
    },
    {
     "name": "stdout",
     "output_type": "stream",
     "text": [
      "A medium shot view of an old lady holding a white cardboard box with red tape from the Nike webshop in her hands, standing in front of a in the street background, the weather is cloudy, high photorealistic quality.\n"
     ]
    },
    {
     "name": "stderr",
     "output_type": "stream",
     "text": [
      "100%|██████████| 15/15 [00:14<00:00,  1.06it/s]\n",
      " 91%|█████████ | 910/1000 [2:57:21<23:51, 15.90s/it]"
     ]
    },
    {
     "name": "stdout",
     "output_type": "stream",
     "text": [
      "A medium shot view of an angry lady holding a black cardboard box with black tape from the Nike webshop in her hands, standing in front of a quite neighborhood street and cars background, the weather is sunny, high photorealistic quality.\n"
     ]
    },
    {
     "name": "stderr",
     "output_type": "stream",
     "text": [
      "100%|██████████| 15/15 [00:12<00:00,  1.18it/s]\n",
      " 91%|█████████ | 911/1000 [2:57:36<23:19, 15.72s/it]"
     ]
    },
    {
     "name": "stdout",
     "output_type": "stream",
     "text": [
      "A full shot view of a young woman holding a white cardboard box with red tape from the H&M webshop in her hands, standing in front of a busy city street and people background, the weather is snowy, high photorealistic quality.\n"
     ]
    },
    {
     "name": "stderr",
     "output_type": "stream",
     "text": [
      "100%|██████████| 15/15 [00:11<00:00,  1.35it/s]\n",
      " 91%|█████████ | 912/1000 [2:57:49<21:49, 14.88s/it]"
     ]
    },
    {
     "name": "stdout",
     "output_type": "stream",
     "text": [
      "A close-up view of a sad woman holding a colorful cardboard box with a qr code from the Bol.com webshop in her hands, standing in front of a city center background, the weather is cloudy, high photorealistic quality.\n"
     ]
    },
    {
     "name": "stderr",
     "output_type": "stream",
     "text": [
      "100%|██████████| 15/15 [00:08<00:00,  1.84it/s]\n",
      " 91%|█████████▏| 913/1000 [2:58:00<19:46, 13.64s/it]"
     ]
    },
    {
     "name": "stdout",
     "output_type": "stream",
     "text": [
      "A low angle view of a smiling boy holding a brown cardboard box with black tape from the Zalando webshop in his hands, standing in front of a city center background, the weather is cloudy, high photorealistic quality.\n"
     ]
    },
    {
     "name": "stderr",
     "output_type": "stream",
     "text": [
      "100%|██████████| 15/15 [00:11<00:00,  1.29it/s]\n",
      " 91%|█████████▏| 914/1000 [2:58:14<19:44, 13.78s/it]"
     ]
    },
    {
     "name": "stdout",
     "output_type": "stream",
     "text": [
      "A long shot view of a happy person holding a black cardboard box with red tape from the Zara webshop in her hands, standing in front of a in the street background, the weather is snowy, high photorealistic quality.\n"
     ]
    },
    {
     "name": "stderr",
     "output_type": "stream",
     "text": [
      "100%|██████████| 15/15 [00:20<00:00,  1.33s/it]\n",
      " 92%|█████████▏| 915/1000 [2:58:36<22:54, 16.18s/it]"
     ]
    },
    {
     "name": "stdout",
     "output_type": "stream",
     "text": [
      "A long shot view of a frowning man holding a white cardboard box with black tape from a webshop in his hands, standing in front of a appartment building background, the weather is sunny, high photorealistic quality.\n"
     ]
    },
    {
     "name": "stderr",
     "output_type": "stream",
     "text": [
      "100%|██████████| 15/15 [00:10<00:00,  1.39it/s]\n",
      " 92%|█████████▏| 916/1000 [2:58:49<21:14, 15.18s/it]"
     ]
    },
    {
     "name": "stdout",
     "output_type": "stream",
     "text": [
      "A long shot view of a smiling boy holding a white cardboard box with a qr code from the Coolblue webshop in his hands, standing in front of a quite neighborhood street and trees background, the weather is cloudy, high photorealistic quality.\n"
     ]
    },
    {
     "name": "stderr",
     "output_type": "stream",
     "text": [
      "100%|██████████| 15/15 [00:16<00:00,  1.10s/it]\n",
      " 92%|█████████▏| 917/1000 [2:59:07<22:22, 16.17s/it]"
     ]
    },
    {
     "name": "stdout",
     "output_type": "stream",
     "text": [
      "A long shot view of a young boy holding a colorful cardboard box with red tape from the Adidas webshop in his hands, standing in front of a appartment building background, the weather is sunny, high photorealistic quality.\n"
     ]
    },
    {
     "name": "stderr",
     "output_type": "stream",
     "text": [
      "100%|██████████| 15/15 [00:11<00:00,  1.28it/s]\n",
      " 92%|█████████▏| 918/1000 [2:59:21<21:04, 15.43s/it]"
     ]
    },
    {
     "name": "stdout",
     "output_type": "stream",
     "text": [
      "A medium shot view of an angry boy holding a white cardboard box with red tape from the Coolblue webshop in his hands, standing in front of a busy city street and people background, the weather is sunny, high photorealistic quality.\n"
     ]
    },
    {
     "name": "stderr",
     "output_type": "stream",
     "text": [
      "100%|██████████| 15/15 [00:09<00:00,  1.57it/s]\n",
      " 92%|█████████▏| 919/1000 [2:59:32<19:06, 14.16s/it]"
     ]
    },
    {
     "name": "stdout",
     "output_type": "stream",
     "text": [
      "A low angle view of a frowning man holding a black cardboard box with green tape from the Zara webshop in his hands, standing in front of a quite neighborhood street and cars background, the weather is rainy, high photorealistic quality.\n"
     ]
    },
    {
     "name": "stderr",
     "output_type": "stream",
     "text": [
      "100%|██████████| 15/15 [00:09<00:00,  1.53it/s]\n",
      " 92%|█████████▏| 920/1000 [2:59:44<17:48, 13.36s/it]"
     ]
    },
    {
     "name": "stdout",
     "output_type": "stream",
     "text": [
      "A close-up view of a young man holding a brown cardboard box with red tape from a webshop in his hands, standing in front of a appartment building background, the weather is snowy, high photorealistic quality.\n"
     ]
    },
    {
     "name": "stderr",
     "output_type": "stream",
     "text": [
      "100%|██████████| 15/15 [00:08<00:00,  1.73it/s]\n",
      " 92%|█████████▏| 921/1000 [2:59:54<16:22, 12.44s/it]"
     ]
    },
    {
     "name": "stdout",
     "output_type": "stream",
     "text": [
      "A long shot view of a sad person holding a colorful cardboard box with a qr code from the H&M webshop in her hands, standing in front of a quite neighborhood street and cars background, the weather is rainy, high photorealistic quality.\n"
     ]
    },
    {
     "name": "stderr",
     "output_type": "stream",
     "text": [
      "100%|██████████| 15/15 [00:07<00:00,  1.94it/s]\n",
      " 92%|█████████▏| 922/1000 [3:00:03<15:00, 11.55s/it]"
     ]
    },
    {
     "name": "stdout",
     "output_type": "stream",
     "text": [
      "A long shot view of a smiling woman holding a brown cardboard box with a number from the Zalando webshop in her hands, standing in front of a garbage curb background, the weather is sunny, high photorealistic quality.\n"
     ]
    },
    {
     "name": "stderr",
     "output_type": "stream",
     "text": [
      "100%|██████████| 15/15 [00:09<00:00,  1.66it/s]\n",
      " 92%|█████████▏| 923/1000 [3:00:14<14:27, 11.27s/it]"
     ]
    },
    {
     "name": "stdout",
     "output_type": "stream",
     "text": [
      "A low angle view of a smiling boy holding a colorful cardboard box with a number from the Zalando webshop in his hands, standing in front of a quite neighborhood street and trees background, the weather is sunny, high photorealistic quality.\n"
     ]
    },
    {
     "name": "stderr",
     "output_type": "stream",
     "text": [
      "100%|██████████| 15/15 [00:09<00:00,  1.65it/s]\n",
      " 92%|█████████▏| 924/1000 [3:00:25<14:14, 11.25s/it]"
     ]
    },
    {
     "name": "stdout",
     "output_type": "stream",
     "text": [
      "A high angle view of an old man holding a white cardboard box with red tape from a webshop in his hands, standing in front of a quite neighborhood street and trees background, the weather is cloudy, high photorealistic quality.\n"
     ]
    },
    {
     "name": "stderr",
     "output_type": "stream",
     "text": [
      "100%|██████████| 15/15 [00:08<00:00,  1.87it/s]\n",
      " 92%|█████████▎| 925/1000 [3:00:35<13:30, 10.80s/it]"
     ]
    },
    {
     "name": "stdout",
     "output_type": "stream",
     "text": [
      "A close-up view of a happy person holding a brown cardboard box with a qr code from the Amazon webshop in her hands, standing in front of a quite neighborhood street and trees background, the weather is rainy, high photorealistic quality.\n"
     ]
    },
    {
     "name": "stderr",
     "output_type": "stream",
     "text": [
      "100%|██████████| 15/15 [00:09<00:00,  1.60it/s]\n",
      " 93%|█████████▎| 926/1000 [3:00:46<13:31, 10.97s/it]"
     ]
    },
    {
     "name": "stdout",
     "output_type": "stream",
     "text": [
      "A close-up view of a smiling lady holding a black cardboard box with red tape from the Coolblue webshop in her hands, standing in front of a busy city street and people background, the weather is snowy, high photorealistic quality.\n"
     ]
    },
    {
     "name": "stderr",
     "output_type": "stream",
     "text": [
      "100%|██████████| 15/15 [00:12<00:00,  1.25it/s]\n",
      " 93%|█████████▎| 927/1000 [3:01:00<14:20, 11.79s/it]"
     ]
    },
    {
     "name": "stdout",
     "output_type": "stream",
     "text": [
      "A medium shot view of an old boy holding a colorful cardboard box with a qr code from the Zalando webshop in his hands, standing in front of a quite neighborhood street and trees background, the weather is rainy, high photorealistic quality.\n"
     ]
    },
    {
     "name": "stderr",
     "output_type": "stream",
     "text": [
      "100%|██████████| 15/15 [00:14<00:00,  1.06it/s]\n",
      " 93%|█████████▎| 928/1000 [3:01:16<15:37, 13.03s/it]"
     ]
    },
    {
     "name": "stdout",
     "output_type": "stream",
     "text": [
      "A long shot view of a sad woman holding a colorful cardboard box with black tape from the H&M webshop in her hands, standing in front of a in the street background, the weather is cloudy, high photorealistic quality.\n"
     ]
    },
    {
     "name": "stderr",
     "output_type": "stream",
     "text": [
      "100%|██████████| 15/15 [00:09<00:00,  1.61it/s]\n",
      " 93%|█████████▎| 929/1000 [3:01:27<14:42, 12.43s/it]"
     ]
    },
    {
     "name": "stdout",
     "output_type": "stream",
     "text": [
      "A long shot view of a sad man holding a white cardboard box with green tape from the Zalando webshop in his hands, standing in front of a busy city street and cars background, the weather is rainy, high photorealistic quality.\n"
     ]
    },
    {
     "name": "stderr",
     "output_type": "stream",
     "text": [
      "100%|██████████| 15/15 [00:08<00:00,  1.77it/s]\n",
      " 93%|█████████▎| 930/1000 [3:01:37<13:41, 11.74s/it]"
     ]
    },
    {
     "name": "stdout",
     "output_type": "stream",
     "text": [
      "A long shot view of an old person holding a black cardboard box with red tape from the Zalando webshop in her hands, standing in front of a city center background, the weather is snowy, high photorealistic quality.\n"
     ]
    },
    {
     "name": "stderr",
     "output_type": "stream",
     "text": [
      "100%|██████████| 15/15 [00:09<00:00,  1.57it/s]\n",
      " 93%|█████████▎| 931/1000 [3:01:48<13:19, 11.59s/it]"
     ]
    },
    {
     "name": "stdout",
     "output_type": "stream",
     "text": [
      "A low angle view of an angry boy holding a black cardboard box with a qr code from the Adidas webshop in his hands, standing in front of a busy city street and cars background, the weather is cloudy, high photorealistic quality.\n"
     ]
    },
    {
     "name": "stderr",
     "output_type": "stream",
     "text": [
      "100%|██████████| 15/15 [00:09<00:00,  1.66it/s]\n",
      " 93%|█████████▎| 932/1000 [3:01:59<12:56, 11.42s/it]"
     ]
    },
    {
     "name": "stdout",
     "output_type": "stream",
     "text": [
      "A long shot view of a smiling boy holding a black cardboard box with green tape from the Bol.com webshop in his hands, standing in front of a quite neighborhood street and garden background, the weather is sunny, high photorealistic quality.\n"
     ]
    },
    {
     "name": "stderr",
     "output_type": "stream",
     "text": [
      "100%|██████████| 15/15 [00:11<00:00,  1.35it/s]\n",
      " 93%|█████████▎| 933/1000 [3:02:12<13:11, 11.82s/it]"
     ]
    },
    {
     "name": "stdout",
     "output_type": "stream",
     "text": [
      "A long shot view of a young person holding a brown cardboard box with red tape from the Adidas webshop in her hands, standing in front of a quite neighborhood street and garden background, the weather is snowy, high photorealistic quality.\n"
     ]
    },
    {
     "name": "stderr",
     "output_type": "stream",
     "text": [
      "100%|██████████| 15/15 [00:08<00:00,  1.69it/s]\n",
      " 93%|█████████▎| 934/1000 [3:02:23<12:34, 11.43s/it]"
     ]
    },
    {
     "name": "stdout",
     "output_type": "stream",
     "text": [
      "A high angle view of a smiling woman holding a black cardboard box with blue tape from the Adidas webshop in her hands, standing in front of a city center background, the weather is cloudy, high photorealistic quality.\n"
     ]
    },
    {
     "name": "stderr",
     "output_type": "stream",
     "text": [
      "100%|██████████| 15/15 [00:07<00:00,  1.88it/s]\n",
      " 94%|█████████▎| 935/1000 [3:02:32<11:47, 10.88s/it]"
     ]
    },
    {
     "name": "stdout",
     "output_type": "stream",
     "text": [
      "A full shot view of an angry boy holding a colorful cardboard box with a barcode from a webshop in his hands, standing in front of a quite neighborhood street and garden background, the weather is rainy, high photorealistic quality.\n"
     ]
    },
    {
     "name": "stderr",
     "output_type": "stream",
     "text": [
      "100%|██████████| 15/15 [00:08<00:00,  1.86it/s]\n",
      " 94%|█████████▎| 936/1000 [3:02:42<11:13, 10.52s/it]"
     ]
    },
    {
     "name": "stdout",
     "output_type": "stream",
     "text": [
      "A full shot view of a smiling man holding a black cardboard box with blue tape from the Zalando webshop in his hands, standing in front of a in the street background, the weather is cloudy, high photorealistic quality.\n"
     ]
    },
    {
     "name": "stderr",
     "output_type": "stream",
     "text": [
      "100%|██████████| 15/15 [00:07<00:00,  1.95it/s]\n",
      " 94%|█████████▎| 937/1000 [3:02:51<10:40, 10.16s/it]"
     ]
    },
    {
     "name": "stdout",
     "output_type": "stream",
     "text": [
      "A full shot view of an angry person holding a brown cardboard box with a barcode from the Amazon webshop in her hands, standing in front of a city center background, the weather is sunny, high photorealistic quality.\n"
     ]
    },
    {
     "name": "stderr",
     "output_type": "stream",
     "text": [
      "100%|██████████| 15/15 [00:09<00:00,  1.56it/s]\n",
      " 94%|█████████▍| 938/1000 [3:03:02<10:51, 10.50s/it]"
     ]
    },
    {
     "name": "stdout",
     "output_type": "stream",
     "text": [
      "A full shot view of a sad lady holding a brown cardboard box with yellow tape from the Zara webshop in her hands, standing in front of a quite neighborhood street and trees background, the weather is cloudy, high photorealistic quality.\n"
     ]
    },
    {
     "name": "stderr",
     "output_type": "stream",
     "text": [
      "100%|██████████| 15/15 [00:11<00:00,  1.35it/s]\n",
      " 94%|█████████▍| 939/1000 [3:03:15<11:24, 11.22s/it]"
     ]
    },
    {
     "name": "stdout",
     "output_type": "stream",
     "text": [
      "A high angle view of a happy boy holding a colorful cardboard box with black tape from the Nike webshop in his hands, standing in front of a garbage curb background, the weather is snowy, high photorealistic quality.\n"
     ]
    },
    {
     "name": "stderr",
     "output_type": "stream",
     "text": [
      "100%|██████████| 15/15 [00:11<00:00,  1.26it/s]\n",
      " 94%|█████████▍| 940/1000 [3:03:29<11:56, 11.94s/it]"
     ]
    },
    {
     "name": "stdout",
     "output_type": "stream",
     "text": [
      "A low angle view of an angry boy holding a brown cardboard box with green tape from the Zara webshop in his hands, standing in front of a quite neighborhood street and trees background, the weather is snowy, high photorealistic quality.\n"
     ]
    },
    {
     "name": "stderr",
     "output_type": "stream",
     "text": [
      "100%|██████████| 15/15 [00:09<00:00,  1.55it/s]\n",
      " 94%|█████████▍| 941/1000 [3:03:40<11:34, 11.78s/it]"
     ]
    },
    {
     "name": "stdout",
     "output_type": "stream",
     "text": [
      "A high angle view of a frowning lady holding a white cardboard box with blue tape from the Bol.com webshop in her hands, standing in front of a garbage curb background, the weather is cloudy, high photorealistic quality.\n"
     ]
    },
    {
     "name": "stderr",
     "output_type": "stream",
     "text": [
      "100%|██████████| 15/15 [00:08<00:00,  1.73it/s]\n",
      " 94%|█████████▍| 942/1000 [3:03:51<10:59, 11.38s/it]"
     ]
    },
    {
     "name": "stdout",
     "output_type": "stream",
     "text": [
      "A long shot view of a sad person holding a black cardboard box with blue tape from a webshop in her hands, standing in front of a city center background, the weather is rainy, high photorealistic quality.\n"
     ]
    },
    {
     "name": "stderr",
     "output_type": "stream",
     "text": [
      "100%|██████████| 15/15 [00:08<00:00,  1.72it/s]\n",
      " 94%|█████████▍| 943/1000 [3:04:01<10:32, 11.09s/it]"
     ]
    },
    {
     "name": "stdout",
     "output_type": "stream",
     "text": [
      "A medium shot view of an angry man holding a black cardboard box with a number from the Zara webshop in his hands, standing in front of a appartment building background, the weather is sunny, high photorealistic quality.\n"
     ]
    },
    {
     "name": "stderr",
     "output_type": "stream",
     "text": [
      "100%|██████████| 15/15 [00:09<00:00,  1.62it/s]\n",
      " 94%|█████████▍| 944/1000 [3:04:12<10:19, 11.07s/it]"
     ]
    },
    {
     "name": "stdout",
     "output_type": "stream",
     "text": [
      "A high angle view of a smiling man holding a black cardboard box with black tape from the Bol.com webshop in his hands, standing in front of a busy city street and people background, the weather is snowy, high photorealistic quality.\n"
     ]
    },
    {
     "name": "stderr",
     "output_type": "stream",
     "text": [
      "100%|██████████| 15/15 [00:08<00:00,  1.80it/s]\n",
      " 94%|█████████▍| 945/1000 [3:04:22<09:51, 10.75s/it]"
     ]
    },
    {
     "name": "stdout",
     "output_type": "stream",
     "text": [
      "A close-up view of a young lady holding a white cardboard box with yellow tape from the Zalando webshop in her hands, standing in front of a quite neighborhood street and garden background, the weather is cloudy, high photorealistic quality.\n"
     ]
    },
    {
     "name": "stderr",
     "output_type": "stream",
     "text": [
      "100%|██████████| 15/15 [00:08<00:00,  1.80it/s]\n",
      " 95%|█████████▍| 946/1000 [3:04:32<09:28, 10.53s/it]"
     ]
    },
    {
     "name": "stdout",
     "output_type": "stream",
     "text": [
      "A low angle view of an old person holding a white cardboard box with red tape from the Bol.com webshop in her hands, standing in front of a quite neighborhood street and garden background, the weather is sunny, high photorealistic quality.\n"
     ]
    },
    {
     "name": "stderr",
     "output_type": "stream",
     "text": [
      "100%|██████████| 15/15 [00:08<00:00,  1.80it/s]\n",
      " 95%|█████████▍| 947/1000 [3:04:42<09:12, 10.42s/it]"
     ]
    },
    {
     "name": "stdout",
     "output_type": "stream",
     "text": [
      "A high angle view of an angry lady holding a brown cardboard box with black tape from the Nike webshop in her hands, standing in front of a busy city street and cars background, the weather is cloudy, high photorealistic quality.\n"
     ]
    },
    {
     "name": "stderr",
     "output_type": "stream",
     "text": [
      "100%|██████████| 15/15 [00:08<00:00,  1.70it/s]\n",
      " 95%|█████████▍| 948/1000 [3:04:53<09:02, 10.44s/it]"
     ]
    },
    {
     "name": "stdout",
     "output_type": "stream",
     "text": [
      "A long shot view of a young man holding a black cardboard box with green tape from a webshop in his hands, standing in front of a quite neighborhood street and garden background, the weather is sunny, high photorealistic quality.\n"
     ]
    },
    {
     "name": "stderr",
     "output_type": "stream",
     "text": [
      "100%|██████████| 15/15 [00:11<00:00,  1.29it/s]\n",
      " 95%|█████████▍| 949/1000 [3:05:06<09:35, 11.29s/it]"
     ]
    },
    {
     "name": "stdout",
     "output_type": "stream",
     "text": [
      "A medium shot view of a young person holding a brown cardboard box with a barcode from the Zara webshop in her hands, standing in front of a quite neighborhood street and cars background, the weather is rainy, high photorealistic quality.\n"
     ]
    },
    {
     "name": "stderr",
     "output_type": "stream",
     "text": [
      "100%|██████████| 15/15 [00:15<00:00,  1.02s/it]\n",
      " 95%|█████████▌| 950/1000 [3:05:25<11:24, 13.68s/it]"
     ]
    },
    {
     "name": "stdout",
     "output_type": "stream",
     "text": [
      "A full shot view of a sad lady holding a colorful cardboard box with a barcode from the Bol.com webshop in her hands, standing in front of a garbage curb background, the weather is cloudy, high photorealistic quality.\n"
     ]
    },
    {
     "name": "stderr",
     "output_type": "stream",
     "text": [
      "100%|██████████| 15/15 [00:08<00:00,  1.79it/s]\n",
      " 95%|█████████▌| 951/1000 [3:05:35<10:16, 12.58s/it]"
     ]
    },
    {
     "name": "stdout",
     "output_type": "stream",
     "text": [
      "A high angle view of a frowning woman holding a white cardboard box with yellow tape from a webshop in her hands, standing in front of a busy city street and cars background, the weather is sunny, high photorealistic quality.\n"
     ]
    },
    {
     "name": "stderr",
     "output_type": "stream",
     "text": [
      "100%|██████████| 15/15 [00:07<00:00,  1.91it/s]\n",
      " 95%|█████████▌| 952/1000 [3:05:45<09:20, 11.68s/it]"
     ]
    },
    {
     "name": "stdout",
     "output_type": "stream",
     "text": [
      "A medium shot view of a young boy holding a white cardboard box with a qr code from the Zalando webshop in his hands, standing in front of a busy city street and cars background, the weather is rainy, high photorealistic quality.\n"
     ]
    },
    {
     "name": "stderr",
     "output_type": "stream",
     "text": [
      "100%|██████████| 15/15 [00:07<00:00,  1.97it/s]\n",
      " 95%|█████████▌| 953/1000 [3:05:54<08:35, 10.96s/it]"
     ]
    },
    {
     "name": "stdout",
     "output_type": "stream",
     "text": [
      "A full shot view of a sad lady holding a brown cardboard box with blue tape from the Bol.com webshop in her hands, standing in front of a busy city street and cars background, the weather is sunny, high photorealistic quality.\n"
     ]
    },
    {
     "name": "stderr",
     "output_type": "stream",
     "text": [
      "100%|██████████| 15/15 [00:08<00:00,  1.81it/s]\n",
      " 95%|█████████▌| 954/1000 [3:06:04<08:11, 10.67s/it]"
     ]
    },
    {
     "name": "stdout",
     "output_type": "stream",
     "text": [
      "A medium shot view of an old woman holding a colorful cardboard box with yellow tape from the Adidas webshop in her hands, standing in front of a quite neighborhood street and cars background, the weather is sunny, high photorealistic quality.\n"
     ]
    },
    {
     "name": "stderr",
     "output_type": "stream",
     "text": [
      "100%|██████████| 15/15 [00:07<00:00,  1.97it/s]\n",
      " 96%|█████████▌| 955/1000 [3:06:14<07:42, 10.27s/it]"
     ]
    },
    {
     "name": "stdout",
     "output_type": "stream",
     "text": [
      "A close-up view of an angry man holding a colorful cardboard box with a barcode from the Zalando webshop in his hands, standing in front of a quite neighborhood street and cars background, the weather is sunny, high photorealistic quality.\n"
     ]
    },
    {
     "name": "stderr",
     "output_type": "stream",
     "text": [
      "100%|██████████| 15/15 [00:08<00:00,  1.84it/s]\n",
      " 96%|█████████▌| 956/1000 [3:06:23<07:26, 10.14s/it]"
     ]
    },
    {
     "name": "stdout",
     "output_type": "stream",
     "text": [
      "A medium shot view of a young person holding a brown cardboard box with yellow tape from the Bol.com webshop in her hands, standing in front of a city center background, the weather is cloudy, high photorealistic quality.\n"
     ]
    },
    {
     "name": "stderr",
     "output_type": "stream",
     "text": [
      "100%|██████████| 15/15 [00:07<00:00,  1.90it/s]\n",
      " 96%|█████████▌| 957/1000 [3:06:33<07:08,  9.95s/it]"
     ]
    },
    {
     "name": "stdout",
     "output_type": "stream",
     "text": [
      "A long shot view of a happy person holding a black cardboard box with yellow tape from the Adidas webshop in her hands, standing in front of a quite neighborhood street and trees background, the weather is sunny, high photorealistic quality.\n"
     ]
    },
    {
     "name": "stderr",
     "output_type": "stream",
     "text": [
      "100%|██████████| 15/15 [00:08<00:00,  1.86it/s]\n",
      " 96%|█████████▌| 958/1000 [3:06:43<06:55,  9.90s/it]"
     ]
    },
    {
     "name": "stdout",
     "output_type": "stream",
     "text": [
      "A low angle view of a happy man holding a white cardboard box with yellow tape from the Amazon webshop in his hands, standing in front of a busy city street and people background, the weather is sunny, high photorealistic quality.\n"
     ]
    },
    {
     "name": "stderr",
     "output_type": "stream",
     "text": [
      "100%|██████████| 15/15 [00:08<00:00,  1.82it/s]\n",
      " 96%|█████████▌| 959/1000 [3:06:53<06:52, 10.05s/it]"
     ]
    },
    {
     "name": "stdout",
     "output_type": "stream",
     "text": [
      "A long shot view of an old man holding a colorful cardboard box with a number from a webshop in his hands, standing in front of a in the street background, the weather is snowy, high photorealistic quality.\n"
     ]
    },
    {
     "name": "stderr",
     "output_type": "stream",
     "text": [
      "100%|██████████| 15/15 [00:11<00:00,  1.32it/s]\n",
      " 96%|█████████▌| 960/1000 [3:07:07<07:28, 11.20s/it]"
     ]
    },
    {
     "name": "stdout",
     "output_type": "stream",
     "text": [
      "A low angle view of an angry lady holding a black cardboard box with yellow tape from the Nike webshop in her hands, standing in front of a in the street background, the weather is cloudy, high photorealistic quality.\n"
     ]
    },
    {
     "name": "stderr",
     "output_type": "stream",
     "text": [
      "100%|██████████| 15/15 [00:08<00:00,  1.74it/s]\n",
      " 96%|█████████▌| 961/1000 [3:07:17<07:07, 10.95s/it]"
     ]
    },
    {
     "name": "stdout",
     "output_type": "stream",
     "text": [
      "A high angle view of a smiling woman holding a colorful cardboard box with a number from the H&M webshop in her hands, standing in front of a in the street background, the weather is rainy, high photorealistic quality.\n"
     ]
    },
    {
     "name": "stderr",
     "output_type": "stream",
     "text": [
      "100%|██████████| 15/15 [00:09<00:00,  1.56it/s]\n",
      " 96%|█████████▌| 962/1000 [3:07:29<07:00, 11.07s/it]"
     ]
    },
    {
     "name": "stdout",
     "output_type": "stream",
     "text": [
      "A medium shot view of an angry person holding a black cardboard box with red tape from the Zara webshop in her hands, standing in front of a quite neighborhood street and garden background, the weather is snowy, high photorealistic quality.\n"
     ]
    },
    {
     "name": "stderr",
     "output_type": "stream",
     "text": [
      "100%|██████████| 15/15 [00:08<00:00,  1.79it/s]\n",
      " 96%|█████████▋| 963/1000 [3:07:39<06:39, 10.79s/it]"
     ]
    },
    {
     "name": "stdout",
     "output_type": "stream",
     "text": [
      "A full shot view of a frowning boy holding a black cardboard box with a qr code from the Coolblue webshop in his hands, standing in front of a quite neighborhood street and cars background, the weather is cloudy, high photorealistic quality.\n"
     ]
    },
    {
     "name": "stderr",
     "output_type": "stream",
     "text": [
      "100%|██████████| 15/15 [00:09<00:00,  1.60it/s]\n",
      " 96%|█████████▋| 964/1000 [3:07:50<06:31, 10.87s/it]"
     ]
    },
    {
     "name": "stdout",
     "output_type": "stream",
     "text": [
      "A close-up view of a frowning boy holding a colorful cardboard box with a barcode from the Zara webshop in his hands, standing in front of a in the street background, the weather is snowy, high photorealistic quality.\n"
     ]
    },
    {
     "name": "stderr",
     "output_type": "stream",
     "text": [
      "100%|██████████| 15/15 [00:07<00:00,  1.96it/s]\n",
      " 96%|█████████▋| 965/1000 [3:07:59<06:04, 10.40s/it]"
     ]
    },
    {
     "name": "stdout",
     "output_type": "stream",
     "text": [
      "A long shot view of a frowning woman holding a brown cardboard box with black tape from the H&M webshop in her hands, standing in front of a appartment building background, the weather is sunny, high photorealistic quality.\n"
     ]
    },
    {
     "name": "stderr",
     "output_type": "stream",
     "text": [
      "100%|██████████| 15/15 [00:07<00:00,  1.94it/s]\n",
      " 97%|█████████▋| 966/1000 [3:08:09<05:43, 10.09s/it]"
     ]
    },
    {
     "name": "stdout",
     "output_type": "stream",
     "text": [
      "A full shot view of an angry lady holding a black cardboard box with a barcode from the Adidas webshop in her hands, standing in front of a quite neighborhood street and trees background, the weather is snowy, high photorealistic quality.\n"
     ]
    },
    {
     "name": "stderr",
     "output_type": "stream",
     "text": [
      "100%|██████████| 15/15 [00:07<00:00,  1.96it/s]\n",
      " 97%|█████████▋| 967/1000 [3:08:18<05:25,  9.86s/it]"
     ]
    },
    {
     "name": "stdout",
     "output_type": "stream",
     "text": [
      "A full shot view of a happy man holding a brown cardboard box with black tape from the Nike webshop in his hands, standing in front of a quite neighborhood street and cars background, the weather is snowy, high photorealistic quality.\n"
     ]
    },
    {
     "name": "stderr",
     "output_type": "stream",
     "text": [
      "100%|██████████| 15/15 [00:07<00:00,  1.95it/s]\n",
      " 97%|█████████▋| 968/1000 [3:08:27<05:11,  9.73s/it]"
     ]
    },
    {
     "name": "stdout",
     "output_type": "stream",
     "text": [
      "A high angle view of a smiling boy holding a black cardboard box with red tape from the Zalando webshop in his hands, standing in front of a busy city street and people background, the weather is rainy, high photorealistic quality.\n"
     ]
    },
    {
     "name": "stderr",
     "output_type": "stream",
     "text": [
      "100%|██████████| 15/15 [00:07<00:00,  1.97it/s]\n",
      " 97%|█████████▋| 969/1000 [3:08:37<04:58,  9.63s/it]"
     ]
    },
    {
     "name": "stdout",
     "output_type": "stream",
     "text": [
      "A full shot view of an old lady holding a black cardboard box with black tape from the Bol.com webshop in her hands, standing in front of a busy city street and people background, the weather is sunny, high photorealistic quality.\n"
     ]
    },
    {
     "name": "stderr",
     "output_type": "stream",
     "text": [
      "100%|██████████| 15/15 [00:08<00:00,  1.85it/s]\n",
      " 97%|█████████▋| 970/1000 [3:08:47<04:51,  9.71s/it]"
     ]
    },
    {
     "name": "stdout",
     "output_type": "stream",
     "text": [
      "A long shot view of an angry lady holding a colorful cardboard box with a qr code from the Zara webshop in her hands, standing in front of a city center background, the weather is sunny, high photorealistic quality.\n"
     ]
    },
    {
     "name": "stderr",
     "output_type": "stream",
     "text": [
      "100%|██████████| 15/15 [00:08<00:00,  1.76it/s]\n",
      " 97%|█████████▋| 971/1000 [3:08:57<04:45,  9.85s/it]"
     ]
    },
    {
     "name": "stdout",
     "output_type": "stream",
     "text": [
      "A medium shot view of a sad boy holding a colorful cardboard box with red tape from the Nike webshop in his hands, standing in front of a busy city street and people background, the weather is rainy, high photorealistic quality.\n"
     ]
    },
    {
     "name": "stderr",
     "output_type": "stream",
     "text": [
      "100%|██████████| 15/15 [00:08<00:00,  1.70it/s]\n",
      " 97%|█████████▋| 972/1000 [3:09:16<05:57, 12.75s/it]"
     ]
    },
    {
     "name": "stdout",
     "output_type": "stream",
     "text": [
      "A full shot view of a smiling lady holding a colorful cardboard box with yellow tape from the Coolblue webshop in her hands, standing in front of a quite neighborhood street and cars background, the weather is sunny, high photorealistic quality.\n"
     ]
    },
    {
     "name": "stderr",
     "output_type": "stream",
     "text": [
      "100%|██████████| 15/15 [00:10<00:00,  1.46it/s]\n",
      " 97%|█████████▋| 973/1000 [3:09:28<05:38, 12.53s/it]"
     ]
    },
    {
     "name": "stdout",
     "output_type": "stream",
     "text": [
      "A high angle view of an old woman holding a white cardboard box with a number from the Adidas webshop in her hands, standing in front of a quite neighborhood street and garden background, the weather is sunny, high photorealistic quality.\n"
     ]
    },
    {
     "name": "stderr",
     "output_type": "stream",
     "text": [
      "100%|██████████| 15/15 [00:09<00:00,  1.61it/s]\n",
      " 97%|█████████▋| 974/1000 [3:09:39<05:14, 12.09s/it]"
     ]
    },
    {
     "name": "stdout",
     "output_type": "stream",
     "text": [
      "A full shot view of an angry woman holding a colorful cardboard box with a number from the Bol.com webshop in her hands, standing in front of a busy city street and people background, the weather is cloudy, high photorealistic quality.\n"
     ]
    },
    {
     "name": "stderr",
     "output_type": "stream",
     "text": [
      "100%|██████████| 15/15 [00:08<00:00,  1.69it/s]\n",
      " 98%|█████████▊| 975/1000 [3:09:50<04:51, 11.64s/it]"
     ]
    },
    {
     "name": "stdout",
     "output_type": "stream",
     "text": [
      "A close-up view of a young person holding a brown cardboard box with black tape from the Coolblue webshop in her hands, standing in front of a appartment building background, the weather is sunny, high photorealistic quality.\n"
     ]
    },
    {
     "name": "stderr",
     "output_type": "stream",
     "text": [
      "100%|██████████| 15/15 [00:08<00:00,  1.86it/s]\n",
      " 98%|█████████▊| 976/1000 [3:10:00<04:25, 11.07s/it]"
     ]
    },
    {
     "name": "stdout",
     "output_type": "stream",
     "text": [
      "A low angle view of an old person holding a colorful cardboard box with green tape from the Amazon webshop in her hands, standing in front of a busy city street and cars background, the weather is rainy, high photorealistic quality.\n"
     ]
    },
    {
     "name": "stderr",
     "output_type": "stream",
     "text": [
      "100%|██████████| 15/15 [00:08<00:00,  1.78it/s]\n",
      " 98%|█████████▊| 977/1000 [3:10:10<04:08, 10.79s/it]"
     ]
    },
    {
     "name": "stdout",
     "output_type": "stream",
     "text": [
      "A full shot view of a frowning person holding a colorful cardboard box with green tape from the Amazon webshop in her hands, standing in front of a quite neighborhood street and trees background, the weather is cloudy, high photorealistic quality.\n"
     ]
    },
    {
     "name": "stderr",
     "output_type": "stream",
     "text": [
      "100%|██████████| 15/15 [00:08<00:00,  1.77it/s]\n",
      " 98%|█████████▊| 978/1000 [3:10:20<03:53, 10.63s/it]"
     ]
    },
    {
     "name": "stdout",
     "output_type": "stream",
     "text": [
      "A full shot view of a frowning woman holding a brown cardboard box with black tape from the H&M webshop in her hands, standing in front of a city center background, the weather is cloudy, high photorealistic quality.\n"
     ]
    },
    {
     "name": "stderr",
     "output_type": "stream",
     "text": [
      "100%|██████████| 15/15 [00:08<00:00,  1.83it/s]\n",
      " 98%|█████████▊| 979/1000 [3:10:30<03:38, 10.41s/it]"
     ]
    },
    {
     "name": "stdout",
     "output_type": "stream",
     "text": [
      "A close-up view of a happy man holding a brown cardboard box with a number from the Nike webshop in his hands, standing in front of a busy city street and cars background, the weather is sunny, high photorealistic quality.\n"
     ]
    },
    {
     "name": "stderr",
     "output_type": "stream",
     "text": [
      "100%|██████████| 15/15 [00:09<00:00,  1.51it/s]\n",
      " 98%|█████████▊| 980/1000 [3:10:42<03:38, 10.93s/it]"
     ]
    },
    {
     "name": "stdout",
     "output_type": "stream",
     "text": [
      "A high angle view of a smiling man holding a black cardboard box with green tape from the Nike webshop in his hands, standing in front of a city center background, the weather is rainy, high photorealistic quality.\n"
     ]
    },
    {
     "name": "stderr",
     "output_type": "stream",
     "text": [
      "100%|██████████| 15/15 [00:12<00:00,  1.22it/s]\n",
      " 98%|█████████▊| 981/1000 [3:10:56<03:46, 11.91s/it]"
     ]
    },
    {
     "name": "stdout",
     "output_type": "stream",
     "text": [
      "A low angle view of a sad boy holding a colorful cardboard box with a qr code from the Bol.com webshop in his hands, standing in front of a appartment building background, the weather is sunny, high photorealistic quality.\n"
     ]
    },
    {
     "name": "stderr",
     "output_type": "stream",
     "text": [
      "100%|██████████| 15/15 [00:10<00:00,  1.46it/s]\n",
      " 98%|█████████▊| 982/1000 [3:11:08<03:35, 11.95s/it]"
     ]
    },
    {
     "name": "stdout",
     "output_type": "stream",
     "text": [
      "A medium shot view of an old boy holding a black cardboard box with black tape from a webshop in his hands, standing in front of a in the street background, the weather is cloudy, high photorealistic quality.\n"
     ]
    },
    {
     "name": "stderr",
     "output_type": "stream",
     "text": [
      "100%|██████████| 15/15 [00:09<00:00,  1.63it/s]\n",
      " 98%|█████████▊| 983/1000 [3:11:19<03:18, 11.67s/it]"
     ]
    },
    {
     "name": "stdout",
     "output_type": "stream",
     "text": [
      "A full shot view of a young person holding a white cardboard box with a barcode from the Nike webshop in her hands, standing in front of a quite neighborhood street and trees background, the weather is snowy, high photorealistic quality.\n"
     ]
    },
    {
     "name": "stderr",
     "output_type": "stream",
     "text": [
      "100%|██████████| 15/15 [00:09<00:00,  1.64it/s]\n",
      " 98%|█████████▊| 984/1000 [3:11:30<03:03, 11.45s/it]"
     ]
    },
    {
     "name": "stdout",
     "output_type": "stream",
     "text": [
      "A close-up view of a young man holding a white cardboard box with black tape from the Bol.com webshop in his hands, standing in front of a appartment building background, the weather is snowy, high photorealistic quality.\n"
     ]
    },
    {
     "name": "stderr",
     "output_type": "stream",
     "text": [
      "100%|██████████| 15/15 [00:09<00:00,  1.66it/s]\n",
      " 98%|█████████▊| 985/1000 [3:11:41<02:48, 11.25s/it]"
     ]
    },
    {
     "name": "stdout",
     "output_type": "stream",
     "text": [
      "A close-up view of an angry boy holding a brown cardboard box with black tape from the Coolblue webshop in his hands, standing in front of a city center background, the weather is rainy, high photorealistic quality.\n"
     ]
    },
    {
     "name": "stderr",
     "output_type": "stream",
     "text": [
      "100%|██████████| 15/15 [00:09<00:00,  1.59it/s]\n",
      " 99%|█████████▊| 986/1000 [3:11:52<02:37, 11.23s/it]"
     ]
    },
    {
     "name": "stdout",
     "output_type": "stream",
     "text": [
      "A long shot view of a young man holding a black cardboard box with a number from the Zara webshop in his hands, standing in front of a quite neighborhood street and garden background, the weather is snowy, high photorealistic quality.\n"
     ]
    },
    {
     "name": "stderr",
     "output_type": "stream",
     "text": [
      "100%|██████████| 15/15 [00:09<00:00,  1.63it/s]\n",
      " 99%|█████████▊| 987/1000 [3:12:03<02:24, 11.15s/it]"
     ]
    },
    {
     "name": "stdout",
     "output_type": "stream",
     "text": [
      "A full shot view of an angry boy holding a white cardboard box with black tape from the Nike webshop in his hands, standing in front of a quite neighborhood street and trees background, the weather is rainy, high photorealistic quality.\n"
     ]
    },
    {
     "name": "stderr",
     "output_type": "stream",
     "text": [
      "100%|██████████| 15/15 [00:11<00:00,  1.27it/s]\n",
      " 99%|█████████▉| 988/1000 [3:12:17<02:22, 11.87s/it]"
     ]
    },
    {
     "name": "stdout",
     "output_type": "stream",
     "text": [
      "A long shot view of an angry man holding a brown cardboard box with green tape from the Coolblue webshop in his hands, standing in front of a busy city street and people background, the weather is rainy, high photorealistic quality.\n"
     ]
    },
    {
     "name": "stderr",
     "output_type": "stream",
     "text": [
      "100%|██████████| 15/15 [00:08<00:00,  1.70it/s]\n",
      " 99%|█████████▉| 989/1000 [3:12:27<02:06, 11.48s/it]"
     ]
    },
    {
     "name": "stdout",
     "output_type": "stream",
     "text": [
      "A high angle view of a frowning boy holding a brown cardboard box with black tape from the Adidas webshop in his hands, standing in front of a busy city street and people background, the weather is snowy, high photorealistic quality.\n"
     ]
    },
    {
     "name": "stderr",
     "output_type": "stream",
     "text": [
      "100%|██████████| 15/15 [00:08<00:00,  1.71it/s]\n",
      " 99%|█████████▉| 990/1000 [3:12:38<01:51, 11.18s/it]"
     ]
    },
    {
     "name": "stdout",
     "output_type": "stream",
     "text": [
      "A high angle view of an angry lady holding a colorful cardboard box with black tape from the Coolblue webshop in her hands, standing in front of a city center background, the weather is rainy, high photorealistic quality.\n"
     ]
    },
    {
     "name": "stderr",
     "output_type": "stream",
     "text": [
      "100%|██████████| 15/15 [00:09<00:00,  1.61it/s]\n",
      " 99%|█████████▉| 991/1000 [3:12:49<01:40, 11.15s/it]"
     ]
    },
    {
     "name": "stdout",
     "output_type": "stream",
     "text": [
      "A low angle view of an old boy holding a brown cardboard box with a qr code from the Adidas webshop in his hands, standing in front of a garbage curb background, the weather is rainy, high photorealistic quality.\n"
     ]
    },
    {
     "name": "stderr",
     "output_type": "stream",
     "text": [
      "100%|██████████| 15/15 [00:09<00:00,  1.61it/s]\n",
      " 99%|█████████▉| 992/1000 [3:13:00<01:29, 11.15s/it]"
     ]
    },
    {
     "name": "stdout",
     "output_type": "stream",
     "text": [
      "A long shot view of an old boy holding a white cardboard box with yellow tape from the Zara webshop in his hands, standing in front of a in the street background, the weather is sunny, high photorealistic quality.\n"
     ]
    },
    {
     "name": "stderr",
     "output_type": "stream",
     "text": [
      "100%|██████████| 15/15 [00:09<00:00,  1.54it/s]\n",
      " 99%|█████████▉| 993/1000 [3:13:12<01:19, 11.29s/it]"
     ]
    },
    {
     "name": "stdout",
     "output_type": "stream",
     "text": [
      "A high angle view of an old man holding a black cardboard box with green tape from the Coolblue webshop in his hands, standing in front of a quite neighborhood street and garden background, the weather is sunny, high photorealistic quality.\n"
     ]
    },
    {
     "name": "stderr",
     "output_type": "stream",
     "text": [
      "100%|██████████| 15/15 [00:08<00:00,  1.69it/s]\n",
      " 99%|█████████▉| 994/1000 [3:13:22<01:06, 11.07s/it]"
     ]
    },
    {
     "name": "stdout",
     "output_type": "stream",
     "text": [
      "A high angle view of an old lady holding a colorful cardboard box with a qr code from the Nike webshop in her hands, standing in front of a in the street background, the weather is rainy, high photorealistic quality.\n"
     ]
    },
    {
     "name": "stderr",
     "output_type": "stream",
     "text": [
      "100%|██████████| 15/15 [00:08<00:00,  1.76it/s]\n",
      "100%|█████████▉| 995/1000 [3:13:33<00:54, 10.84s/it]"
     ]
    },
    {
     "name": "stdout",
     "output_type": "stream",
     "text": [
      "A close-up view of a young man holding a colorful cardboard box with yellow tape from the Zara webshop in his hands, standing in front of a garbage curb background, the weather is sunny, high photorealistic quality.\n"
     ]
    },
    {
     "name": "stderr",
     "output_type": "stream",
     "text": [
      "100%|██████████| 15/15 [00:08<00:00,  1.75it/s]\n",
      "100%|█████████▉| 996/1000 [3:13:43<00:42, 10.67s/it]"
     ]
    },
    {
     "name": "stdout",
     "output_type": "stream",
     "text": [
      "A long shot view of an angry boy holding a black cardboard box with a number from the Bol.com webshop in his hands, standing in front of a in the street background, the weather is sunny, high photorealistic quality.\n"
     ]
    },
    {
     "name": "stderr",
     "output_type": "stream",
     "text": [
      "100%|██████████| 15/15 [00:09<00:00,  1.65it/s]\n",
      "100%|█████████▉| 997/1000 [3:13:54<00:32, 10.74s/it]"
     ]
    },
    {
     "name": "stdout",
     "output_type": "stream",
     "text": [
      "A close-up view of a frowning lady holding a colorful cardboard box with red tape from the Zalando webshop in her hands, standing in front of a quite neighborhood street and garden background, the weather is cloudy, high photorealistic quality.\n"
     ]
    },
    {
     "name": "stderr",
     "output_type": "stream",
     "text": [
      "100%|██████████| 15/15 [00:09<00:00,  1.62it/s]\n",
      "100%|█████████▉| 998/1000 [3:14:05<00:21, 10.83s/it]"
     ]
    },
    {
     "name": "stdout",
     "output_type": "stream",
     "text": [
      "A low angle view of a happy woman holding a brown cardboard box with green tape from the Nike webshop in her hands, standing in front of a busy city street and people background, the weather is sunny, high photorealistic quality.\n"
     ]
    },
    {
     "name": "stderr",
     "output_type": "stream",
     "text": [
      "100%|██████████| 15/15 [00:09<00:00,  1.62it/s]\n",
      "100%|█████████▉| 999/1000 [3:14:16<00:10, 10.92s/it]"
     ]
    },
    {
     "name": "stdout",
     "output_type": "stream",
     "text": [
      "A close-up view of a young boy holding a colorful cardboard box with black tape from a webshop in his hands, standing in front of a busy city street and people background, the weather is rainy, high photorealistic quality.\n"
     ]
    },
    {
     "name": "stderr",
     "output_type": "stream",
     "text": [
      "100%|██████████| 15/15 [00:09<00:00,  1.59it/s]\n",
      "100%|██████████| 1000/1000 [3:14:27<00:00, 11.67s/it]\n"
     ]
    }
   ],
   "source": [
    "generate_images(\"lllyasviel/control_v11p_sd15_scribble\", \"stablediffusionapi/realistic-vision-v20-2047\", 1)"
   ]
  }
 ],
 "metadata": {
  "kernelspec": {
   "display_name": ".myvenv",
   "language": "python",
   "name": "python3"
  },
  "language_info": {
   "codemirror_mode": {
    "name": "ipython",
    "version": 3
   },
   "file_extension": ".py",
   "mimetype": "text/x-python",
   "name": "python",
   "nbconvert_exporter": "python",
   "pygments_lexer": "ipython3",
   "version": "3.11.8"
  }
 },
 "nbformat": 4,
 "nbformat_minor": 2
}
