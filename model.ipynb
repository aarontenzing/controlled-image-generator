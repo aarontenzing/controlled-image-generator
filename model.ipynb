{
 "cells": [
  {
   "cell_type": "code",
   "execution_count": 2,
   "metadata": {},
   "outputs": [
    {
     "name": "stderr",
     "output_type": "stream",
     "text": [
      "c:\\Users\\aaron\\Documents\\git\\controlnet\\.myvenv\\Lib\\site-packages\\tqdm\\auto.py:21: TqdmWarning: IProgress not found. Please update jupyter and ipywidgets. See https://ipywidgets.readthedocs.io/en/stable/user_install.html\n",
      "  from .autonotebook import tqdm as notebook_tqdm\n"
     ]
    }
   ],
   "source": [
    "import torch\n",
    "from diffusers import StableDiffusionControlNetPipeline, ControlNetModel\n",
    "from diffusers import EulerDiscreteScheduler, EulerAncestralDiscreteScheduler # Euler Discrete Scheduler, Euler A\n",
    "from diffusers import DPMSolverMultistepScheduler # DPM++ 2M Karras\n",
    "from diffusers import DDIMScheduler # DDIM sampler\n",
    "from diffusers import KDPM2DiscreteScheduler # DPM2 sampler\n",
    "from diffusers.utils import load_image\n",
    "from tqdm import tqdm\n",
    "from prompt import prompt_generator, prompt_generator_no_human # Prompt generation\n",
    "import glob\n",
    "import os\n",
    "import csv"
   ]
  },
  {
   "cell_type": "markdown",
   "metadata": {},
   "source": [
    "Samplers (schedulers): https://huggingface.co/docs/diffusers/api/schedulers/overview"
   ]
  },
  {
   "cell_type": "code",
   "execution_count": 3,
   "metadata": {},
   "outputs": [
    {
     "name": "stdout",
     "output_type": "stream",
     "text": [
      "Torch version: 2.2.2+cu121\n",
      "Is CUDA enabled? True\n"
     ]
    }
   ],
   "source": [
    "print(\"Torch version:\",torch.__version__)\n",
    "print(\"Is CUDA enabled?\",torch.cuda.is_available())"
   ]
  },
  {
   "cell_type": "markdown",
   "metadata": {},
   "source": [
    "https://thepythoncode.com/article/control-generated-images-with-controlnet-with-huggingface#code"
   ]
  },
  {
   "cell_type": "markdown",
   "metadata": {},
   "source": [
    "# First Pipeline: ControlNet + Stable Diffusion "
   ]
  },
  {
   "cell_type": "code",
   "execution_count": null,
   "metadata": {},
   "outputs": [
    {
     "name": "stderr",
     "output_type": "stream",
     "text": [
      "unet\\diffusion_pytorch_model.safetensors not found\n",
      "Loading pipeline components...: 100%|██████████| 6/6 [00:10<00:00,  1.82s/it]\n",
      "You have disabled the safety checker for <class 'diffusers.pipelines.controlnet.pipeline_controlnet.StableDiffusionControlNetPipeline'> by passing `safety_checker=None`. Ensure that you abide to the conditions of the Stable Diffusion license and do not expose unfiltered results in services or applications open to the public. Both the diffusers team and Hugging Face strongly recommend to keep the safety filter enabled in all public facing circumstances, disabling it only for use-cases that involve analyzing network behavior or auditing its results. For more information, please have a look at https://github.com/huggingface/diffusers/pull/254 .\n"
     ]
    }
   ],
   "source": [
    "# ControlNet model\n",
    "controlnet = ControlNetModel.from_pretrained(\"lllyasviel/control_v11p_sd15_scribble\", torch_dtype=torch.float16)\n",
    "\n",
    "# Define stable diffusion pipeline with controlnet\n",
    "# We use the realistic-vision-v20-2047 model for this example (finetunned on realistic images of people)\n",
    "pipe = StableDiffusionControlNetPipeline.from_pretrained(\"stablediffusionapi/realistic-vision-v20-2047\", controlnet=controlnet, safety_checker=None, torch_dtype=torch.float16)\n",
    "DPM = DPMSolverMultistepScheduler(use_karras_sigmas=True)\n",
    "pipe.scheduler = DPM.from_config(pipe.scheduler.config)\n",
    "\n",
    "# Enable efficient implementations using xformers for faster inference\n",
    "pipe.enable_xformers_memory_efficient_attention()\n",
    "pipe.enable_model_cpu_offload()"
   ]
  },
  {
   "cell_type": "code",
   "execution_count": 26,
   "metadata": {},
   "outputs": [
    {
     "name": "stdout",
     "output_type": "stream",
     "text": [
      "Prompt: A medium shot view of an old man holding a brown cardboard box with black tape from the Zara webshop in his hands, standing in front of a quite neighborhood street and cars background, the weather is rainy, high photorealistic quality.\n"
     ]
    },
    {
     "name": "stderr",
     "output_type": "stream",
     "text": [
      "100%|██████████| 18/18 [00:09<00:00,  1.97it/s]\n"
     ]
    },
    {
     "name": "stdout",
     "output_type": "stream",
     "text": [
      "Save test.jpg!\n"
     ]
    }
   ],
   "source": [
    "# Load wireframe image\n",
    "image_input = load_image(\"wireframes\\\\3_4.jpg\")\n",
    "\n",
    "# Prompt\n",
    "prompt = prompt_generator()\n",
    "print(\"Prompt:\",prompt)\n",
    "neg_prompt = \"disfigured, not realistic, low quality\"\n",
    "# Run the pipeline\n",
    "image_output = pipe(prompt=prompt, negative_prompt=neg_prompt, image=image_input, num_inference_steps=18).images[0]\n",
    "\n",
    "# Save the output\n",
    "image_output.save(\"test.jpg\")\n",
    "print(\"Save test.jpg!\")"
   ]
  },
  {
   "cell_type": "markdown",
   "metadata": {},
   "source": [
    "# Generating first synthetic dataset"
   ]
  },
  {
   "cell_type": "markdown",
   "metadata": {},
   "source": [
    "**Wireframes** are drawn in the bottom half region of the window, so they can easily be held by a person.\n",
    "Next, we will generate our synthetic data containing those wireframes, located in the directory **outputs**.\n",
    "- I generate random prompts\n",
    "- Then, I will validate them\n",
    "- Finally, I will only keep the images with a single box in the image (classifier)"
   ]
  },
  {
   "cell_type": "markdown",
   "metadata": {},
   "source": [
    "*ControlNet model*: lllyasviel/control_v11p_sd15_scribble\"\n",
    "\n",
    "*Stable diffusion model*: stablediffusionapi/realistic-vision-v20-2047"
   ]
  },
  {
   "cell_type": "code",
   "execution_count": 4,
   "metadata": {},
   "outputs": [],
   "source": [
    "def generate_images(controlnet_model_path, sd_model_path, prompt_human, infer_steps):\n",
    "    \n",
    "    ''' Main function to generate images from wireframes '''   \n",
    "\n",
    "    # ControlNet model\n",
    "    controlnet = ControlNetModel.from_pretrained(controlnet_model_path, torch_dtype=torch.float16)\n",
    "\n",
    "    # Define stable diffusion pipeline with controlnet\n",
    "    pipe = StableDiffusionControlNetPipeline.from_pretrained(sd_model_path, controlnet=controlnet, safety_checker=None, torch_dtype=torch.float16)\n",
    "    \n",
    "    # Define the scheduler for the pipeline\n",
    "    # DPM = DPMSolverMultistepScheduler(use_karras_sigmas=True) # DPM++ 2M Karras\n",
    "    pipe.scheduler = KDPM2DiscreteScheduler.from_config(pipe.scheduler.config)\n",
    "\n",
    "    # Enable efficient implementations using xformers for faster inference\n",
    "    pipe.enable_xformers_memory_efficient_attention()\n",
    "    pipe.enable_model_cpu_offload()\n",
    "    \n",
    "    # Read the files in the directory\n",
    "    files = os.listdir(\"wireframes\")\n",
    "    sorted_files = sorted(files, key=lambda x: int(x.split('.')[0]))\n",
    "    # sorted_files = sorted(files, key=lambda x: (int(x.split('_')[0]), int(x.split('_')[1].split('.')[0]))) \n",
    "\n",
    "    with tqdm(total=len(sorted_files), desc=\"Generating images\", unit=\"images\", leave=False) as pbar:\n",
    "        # Generate images from wireframes\n",
    "        for file in sorted_files:\n",
    "            image_input = load_image(\"wireframes\\\\\" + file)\n",
    "            prompt = prompt_generator_no_human() if prompt_human == 0 else prompt_generator()\n",
    "            print(\"Prompt: \\n\", prompt)\n",
    "            image_output = pipe(prompt=prompt, negative_prompt=\"flat background, disfigured, unrealistic, low quality\", image=image_input, num_inference_steps = infer_steps).images[0]\n",
    "            image_output.save(os.path.join(\"outputs\", os.path.basename(file)))\n",
    "            os.remove(os.path.join(\"wireframes\", file))\n",
    "            prompt_human = not prompt_human # toggle switch\n",
    "            \n",
    "            # Update progress bar\n",
    "            pbar.update(1)\n",
    "        "
   ]
  },
  {
   "cell_type": "code",
   "execution_count": 5,
   "metadata": {},
   "outputs": [
    {
     "name": "stderr",
     "output_type": "stream",
     "text": [
      "vae\\diffusion_pytorch_model.safetensors not found\n",
      "Loading pipeline components...:   0%|          | 0/6 [00:00<?, ?it/s]c:\\Users\\aaron\\Documents\\git\\controlnet\\.myvenv\\Lib\\site-packages\\transformers\\models\\clip\\feature_extraction_clip.py:28: FutureWarning: The class CLIPFeatureExtractor is deprecated and will be removed in version 5 of Transformers. Please use CLIPImageProcessor instead.\n",
      "  warnings.warn(\n",
      "Loading pipeline components...: 100%|██████████| 6/6 [00:05<00:00,  1.05it/s]\n",
      "You have disabled the safety checker for <class 'diffusers.pipelines.controlnet.pipeline_controlnet.StableDiffusionControlNetPipeline'> by passing `safety_checker=None`. Ensure that you abide to the conditions of the Stable Diffusion license and do not expose unfiltered results in services or applications open to the public. Both the diffusers team and Hugging Face strongly recommend to keep the safety filter enabled in all public facing circumstances, disabling it only for use-cases that involve analyzing network behavior or auditing its results. For more information, please have a look at https://github.com/huggingface/diffusers/pull/254 .\n",
      "Generating images:   0%|          | 0/2478 [00:00<?, ?images/s]"
     ]
    },
    {
     "name": "stdout",
     "output_type": "stream",
     "text": [
      "Prompt: \n",
      " A medium shot view of an old boy holding a colorful cardboard box with a barcode from a webshop in his hands, standing in front of a city center background, the weather is cloudy, high photorealistic quality.\n"
     ]
    },
    {
     "name": "stderr",
     "output_type": "stream",
     "text": [
      "100%|██████████| 15/15 [00:15<00:00,  1.04s/it]\n",
      "Generating images:   0%|          | 1/2478 [00:19<13:20:46, 19.40s/images]"
     ]
    },
    {
     "name": "stdout",
     "output_type": "stream",
     "text": [
      "Prompt: \n",
      " A medium shot view of a black cardboard box with blue tape from the Coolblue webshop, in front of a busy city street and people background, the weather is snowy, high photorealistic quality.\n"
     ]
    },
    {
     "name": "stderr",
     "output_type": "stream",
     "text": [
      "100%|██████████| 15/15 [00:14<00:00,  1.01it/s]\n",
      "Generating images:   0%|          | 2/2478 [00:37<12:37:54, 18.37s/images]"
     ]
    },
    {
     "name": "stdout",
     "output_type": "stream",
     "text": [
      "Prompt: \n",
      " A medium shot view of an old person holding a black cardboard box with blue tape from the Nike webshop in her hands, standing in front of a busy city street and cars background, the weather is cloudy, high photorealistic quality.\n"
     ]
    },
    {
     "name": "stderr",
     "output_type": "stream",
     "text": [
      "100%|██████████| 15/15 [00:14<00:00,  1.02it/s]\n",
      "Generating images:   0%|          | 3/2478 [00:54<12:24:12, 18.04s/images]"
     ]
    },
    {
     "name": "stdout",
     "output_type": "stream",
     "text": [
      "Prompt: \n",
      " A medium shot view of a brown cardboard box with a barcode from the Amazon webshop, in front of a busy city street and people background, the weather is rainy, high photorealistic quality.\n"
     ]
    },
    {
     "name": "stderr",
     "output_type": "stream",
     "text": [
      "100%|██████████| 15/15 [00:14<00:00,  1.01it/s]\n",
      "Generating images:   0%|          | 4/2478 [01:12<12:21:32, 17.98s/images]"
     ]
    },
    {
     "name": "stdout",
     "output_type": "stream",
     "text": [
      "Prompt: \n",
      " A medium shot view of a happy man holding a white cardboard box with yellow tape from a webshop in his hands, standing in front of a garbage curb background, the weather is cloudy, high photorealistic quality.\n"
     ]
    },
    {
     "name": "stderr",
     "output_type": "stream",
     "text": [
      "100%|██████████| 15/15 [00:17<00:00,  1.14s/it]\n",
      "Generating images:   0%|          | 5/2478 [01:36<13:42:13, 19.95s/images]"
     ]
    },
    {
     "name": "stdout",
     "output_type": "stream",
     "text": [
      "Prompt: \n",
      " A medium shot view of a white cardboard box with blue tape from the Nike webshop, in front of a busy city street and people background, the weather is rainy, high photorealistic quality.\n"
     ]
    },
    {
     "name": "stderr",
     "output_type": "stream",
     "text": [
      "100%|██████████| 15/15 [00:15<00:00,  1.05s/it]\n",
      "Generating images:   0%|          | 6/2478 [01:55<13:34:31, 19.77s/images]"
     ]
    },
    {
     "name": "stdout",
     "output_type": "stream",
     "text": [
      "Prompt: \n",
      " A medium shot view of an angry boy holding a brown cardboard box with red tape from the Coolblue webshop in his hands, standing in front of a appartment building background, the weather is rainy, high photorealistic quality.\n"
     ]
    },
    {
     "name": "stderr",
     "output_type": "stream",
     "text": [
      "100%|██████████| 15/15 [00:15<00:00,  1.03s/it]\n",
      "Generating images:   0%|          | 7/2478 [02:14<13:18:39, 19.39s/images]"
     ]
    },
    {
     "name": "stdout",
     "output_type": "stream",
     "text": [
      "Prompt: \n",
      " A medium shot view of a colorful cardboard box with a number from the Amazon webshop, in front of a doorstep of a house background, the weather is snowy, high photorealistic quality.\n"
     ]
    },
    {
     "name": "stderr",
     "output_type": "stream",
     "text": [
      "100%|██████████| 15/15 [00:15<00:00,  1.03s/it]\n",
      "Generating images:   0%|          | 8/2478 [02:32<13:06:11, 19.10s/images]"
     ]
    },
    {
     "name": "stdout",
     "output_type": "stream",
     "text": [
      "Prompt: \n",
      " A medium shot view of a smiling person holding a brown cardboard box with a number from the Amazon webshop in her hands, standing in front of a street background, the weather is cloudy, high photorealistic quality.\n"
     ]
    },
    {
     "name": "stderr",
     "output_type": "stream",
     "text": [
      "100%|██████████| 15/15 [00:15<00:00,  1.02s/it]\n",
      "Generating images:   0%|          | 9/2478 [02:51<12:58:37, 18.92s/images]"
     ]
    },
    {
     "name": "stdout",
     "output_type": "stream",
     "text": [
      "Prompt: \n",
      " A medium shot view of a brown cardboard box with blue tape from a webshop, in front of a quite neighborhood street and cars background, the weather is snowy, high photorealistic quality.\n"
     ]
    },
    {
     "name": "stderr",
     "output_type": "stream",
     "text": [
      "100%|██████████| 15/15 [00:15<00:00,  1.06s/it]\n",
      "Generating images:   0%|          | 10/2478 [03:10<13:08:11, 19.16s/images]"
     ]
    },
    {
     "name": "stdout",
     "output_type": "stream",
     "text": [
      "Prompt: \n",
      " A medium shot view of a smiling man holding a colorful cardboard box with green tape from the Adidas webshop in his hands, standing in front of a quite neighborhood street and trees background, the weather is snowy, high photorealistic quality.\n"
     ]
    },
    {
     "name": "stderr",
     "output_type": "stream",
     "text": [
      "100%|██████████| 15/15 [00:16<00:00,  1.08s/it]\n",
      "Generating images:   0%|          | 11/2478 [03:30<13:16:29, 19.37s/images]"
     ]
    },
    {
     "name": "stdout",
     "output_type": "stream",
     "text": [
      "Prompt: \n",
      " A medium shot view of a black cardboard box with blue tape from the Coolblue webshop, in front of a quite neighborhood street and cars background, the weather is rainy, high photorealistic quality.\n"
     ]
    },
    {
     "name": "stderr",
     "output_type": "stream",
     "text": [
      "100%|██████████| 15/15 [00:16<00:00,  1.07s/it]\n",
      "Generating images:   0%|          | 12/2478 [03:50<13:21:24, 19.50s/images]"
     ]
    },
    {
     "name": "stdout",
     "output_type": "stream",
     "text": [
      "Prompt: \n",
      " A medium shot view of an angry boy holding a black cardboard box with a qr code from the Nike webshop in his hands, standing in front of a busy city street and cars background, the weather is cloudy, high photorealistic quality.\n"
     ]
    },
    {
     "name": "stderr",
     "output_type": "stream",
     "text": [
      "100%|██████████| 15/15 [00:16<00:00,  1.11s/it]\n",
      "Generating images:   1%|          | 13/2478 [04:10<13:32:03, 19.77s/images]"
     ]
    },
    {
     "name": "stdout",
     "output_type": "stream",
     "text": [
      "Prompt: \n",
      " A medium shot view of a white cardboard box with red tape from a webshop, in front of a quite neighborhood street and cars background, the weather is cloudy, high photorealistic quality.\n"
     ]
    },
    {
     "name": "stderr",
     "output_type": "stream",
     "text": [
      "100%|██████████| 15/15 [00:16<00:00,  1.08s/it]\n",
      "Generating images:   1%|          | 14/2478 [04:30<13:37:15, 19.90s/images]"
     ]
    },
    {
     "name": "stdout",
     "output_type": "stream",
     "text": [
      "Prompt: \n",
      " A medium shot view of a frowning boy holding a brown cardboard box with black tape from the Adidas webshop in his hands, standing in front of a city center background, the weather is rainy, high photorealistic quality.\n"
     ]
    },
    {
     "name": "stderr",
     "output_type": "stream",
     "text": [
      "100%|██████████| 15/15 [00:15<00:00,  1.06s/it]\n",
      "Generating images:   1%|          | 15/2478 [04:50<13:31:11, 19.76s/images]"
     ]
    },
    {
     "name": "stdout",
     "output_type": "stream",
     "text": [
      "Prompt: \n",
      " A medium shot view of a brown cardboard box with a barcode from the Coolblue webshop, in front of a street background, the weather is sunny, high photorealistic quality.\n"
     ]
    },
    {
     "name": "stderr",
     "output_type": "stream",
     "text": [
      "100%|██████████| 15/15 [00:16<00:00,  1.07s/it]\n",
      "Generating images:   1%|          | 16/2478 [05:09<13:26:31, 19.66s/images]"
     ]
    },
    {
     "name": "stdout",
     "output_type": "stream",
     "text": [
      "Prompt: \n",
      " A medium shot view of a smiling boy holding a colorful cardboard box with green tape from the Amazon webshop in his hands, standing in front of a appartment building background, the weather is cloudy, high photorealistic quality.\n"
     ]
    },
    {
     "name": "stderr",
     "output_type": "stream",
     "text": [
      "100%|██████████| 15/15 [00:15<00:00,  1.02s/it]\n",
      "Generating images:   1%|          | 17/2478 [05:29<13:22:03, 19.55s/images]"
     ]
    },
    {
     "name": "stdout",
     "output_type": "stream",
     "text": [
      "Prompt: \n",
      " A medium shot view of a colorful cardboard box with blue tape from the Zara webshop, in front of a garbage curb background, the weather is sunny, high photorealistic quality.\n"
     ]
    },
    {
     "name": "stderr",
     "output_type": "stream",
     "text": [
      "100%|██████████| 15/15 [00:15<00:00,  1.04s/it]\n",
      "Generating images:   1%|          | 18/2478 [05:48<13:15:09, 19.39s/images]"
     ]
    },
    {
     "name": "stdout",
     "output_type": "stream",
     "text": [
      "Prompt: \n",
      " A medium shot view of a smiling person holding a white cardboard box with a qr code from the Nike webshop in her hands, standing in front of a quite neighborhood street and cars background, the weather is snowy, high photorealistic quality.\n"
     ]
    },
    {
     "name": "stderr",
     "output_type": "stream",
     "text": [
      "100%|██████████| 15/15 [00:15<00:00,  1.02s/it]\n",
      "Generating images:   1%|          | 19/2478 [06:06<13:06:35, 19.19s/images]"
     ]
    },
    {
     "name": "stdout",
     "output_type": "stream",
     "text": [
      "Prompt: \n",
      " A medium shot view of a brown cardboard box with blue tape from the Nike webshop, in front of a doorstep of a house background, the weather is rainy, high photorealistic quality.\n"
     ]
    },
    {
     "name": "stderr",
     "output_type": "stream",
     "text": [
      "100%|██████████| 15/15 [00:15<00:00,  1.03s/it]\n",
      "Generating images:   1%|          | 20/2478 [06:25<13:02:55, 19.11s/images]"
     ]
    },
    {
     "name": "stdout",
     "output_type": "stream",
     "text": [
      "Prompt: \n",
      " A medium shot view of a frowning person holding a black cardboard box with red tape from the Amazon webshop in her hands, standing in front of a garbage curb background, the weather is sunny, high photorealistic quality.\n"
     ]
    },
    {
     "name": "stderr",
     "output_type": "stream",
     "text": [
      "100%|██████████| 15/15 [00:15<00:00,  1.06s/it]\n",
      "Generating images:   1%|          | 21/2478 [06:45<13:05:10, 19.17s/images]"
     ]
    },
    {
     "name": "stdout",
     "output_type": "stream",
     "text": [
      "Prompt: \n",
      " A medium shot view of a white cardboard box with a qr code from the Coolblue webshop, in front of a street background, the weather is rainy, high photorealistic quality.\n"
     ]
    },
    {
     "name": "stderr",
     "output_type": "stream",
     "text": [
      "100%|██████████| 15/15 [00:15<00:00,  1.04s/it]\n",
      "Generating images:   1%|          | 22/2478 [07:04<13:02:05, 19.11s/images]"
     ]
    },
    {
     "name": "stdout",
     "output_type": "stream",
     "text": [
      "Prompt: \n",
      " A medium shot view of an old lady holding a black cardboard box with green tape from the Coolblue webshop in her hands, standing in front of a garbage curb background, the weather is sunny, high photorealistic quality.\n"
     ]
    },
    {
     "name": "stderr",
     "output_type": "stream",
     "text": [
      "100%|██████████| 15/15 [00:15<00:00,  1.04s/it]\n",
      "Generating images:   1%|          | 23/2478 [07:22<12:58:09, 19.02s/images]"
     ]
    },
    {
     "name": "stdout",
     "output_type": "stream",
     "text": [
      "Prompt: \n",
      " A medium shot view of a colorful cardboard box with yellow tape from the Coolblue webshop, in front of a quite neighborhood street and garden background, the weather is rainy, high photorealistic quality.\n"
     ]
    },
    {
     "name": "stderr",
     "output_type": "stream",
     "text": [
      "100%|██████████| 15/15 [00:15<00:00,  1.04s/it]\n",
      "Generating images:   1%|          | 24/2478 [07:41<12:55:31, 18.96s/images]"
     ]
    },
    {
     "name": "stdout",
     "output_type": "stream",
     "text": [
      "Prompt: \n",
      " A medium shot view of a young boy holding a colorful cardboard box with yellow tape from the Amazon webshop in his hands, standing in front of a city center background, the weather is cloudy, high photorealistic quality.\n"
     ]
    },
    {
     "name": "stderr",
     "output_type": "stream",
     "text": [
      "100%|██████████| 15/15 [00:15<00:00,  1.04s/it]\n",
      "Generating images:   1%|          | 25/2478 [08:00<12:53:04, 18.91s/images]"
     ]
    },
    {
     "name": "stdout",
     "output_type": "stream",
     "text": [
      "Prompt: \n",
      " A medium shot view of a white cardboard box with blue tape from the Amazon webshop, in front of a busy city street and cars background, the weather is cloudy, high photorealistic quality.\n"
     ]
    },
    {
     "name": "stderr",
     "output_type": "stream",
     "text": [
      "100%|██████████| 15/15 [00:15<00:00,  1.05s/it]\n",
      "Generating images:   1%|          | 26/2478 [08:19<12:53:00, 18.92s/images]"
     ]
    },
    {
     "name": "stdout",
     "output_type": "stream",
     "text": [
      "Prompt: \n",
      " A medium shot view of a sad man holding a brown cardboard box with blue tape from a webshop in his hands, standing in front of a appartment building background, the weather is cloudy, high photorealistic quality.\n"
     ]
    },
    {
     "name": "stderr",
     "output_type": "stream",
     "text": [
      "100%|██████████| 15/15 [00:15<00:00,  1.06s/it]\n",
      "Generating images:   1%|          | 27/2478 [08:38<12:57:05, 19.02s/images]"
     ]
    },
    {
     "name": "stdout",
     "output_type": "stream",
     "text": [
      "Prompt: \n",
      " A medium shot view of a brown cardboard box with blue tape from the Zara webshop, in front of a quite neighborhood street and trees background, the weather is rainy, high photorealistic quality.\n"
     ]
    },
    {
     "name": "stderr",
     "output_type": "stream",
     "text": [
      "100%|██████████| 15/15 [00:15<00:00,  1.04s/it]\n",
      "Generating images:   1%|          | 28/2478 [08:57<12:48:57, 18.83s/images]"
     ]
    },
    {
     "name": "stdout",
     "output_type": "stream",
     "text": [
      "Prompt: \n",
      " A medium shot view of an old man holding a colorful cardboard box with a qr code from the Amazon webshop in his hands, standing in front of a garbage curb background, the weather is rainy, high photorealistic quality.\n"
     ]
    },
    {
     "name": "stderr",
     "output_type": "stream",
     "text": [
      "100%|██████████| 15/15 [00:14<00:00,  1.02it/s]\n",
      "Generating images:   1%|          | 29/2478 [09:14<12:33:15, 18.45s/images]"
     ]
    },
    {
     "name": "stdout",
     "output_type": "stream",
     "text": [
      "Prompt: \n",
      " A medium shot view of a colorful cardboard box with green tape from a webshop, in front of a garbage curb background, the weather is cloudy, high photorealistic quality.\n"
     ]
    },
    {
     "name": "stderr",
     "output_type": "stream",
     "text": [
      "100%|██████████| 15/15 [00:14<00:00,  1.02it/s]\n",
      "Generating images:   1%|          | 30/2478 [09:32<12:21:06, 18.16s/images]"
     ]
    },
    {
     "name": "stdout",
     "output_type": "stream",
     "text": [
      "Prompt: \n",
      " A medium shot view of a smiling lady holding a brown cardboard box with blue tape from the Amazon webshop in her hands, standing in front of a busy city street and cars background, the weather is snowy, high photorealistic quality.\n"
     ]
    },
    {
     "name": "stderr",
     "output_type": "stream",
     "text": [
      "100%|██████████| 15/15 [00:14<00:00,  1.01it/s]\n",
      "Generating images:   1%|▏         | 31/2478 [09:50<12:18:23, 18.11s/images]"
     ]
    },
    {
     "name": "stdout",
     "output_type": "stream",
     "text": [
      "Prompt: \n",
      " A medium shot view of a colorful cardboard box with a barcode from the Adidas webshop, in front of a busy city street and cars background, the weather is cloudy, high photorealistic quality.\n"
     ]
    },
    {
     "name": "stderr",
     "output_type": "stream",
     "text": [
      "100%|██████████| 15/15 [00:14<00:00,  1.02it/s]\n",
      "Generating images:   1%|▏         | 32/2478 [10:07<12:10:36, 17.92s/images]"
     ]
    },
    {
     "name": "stdout",
     "output_type": "stream",
     "text": [
      "Prompt: \n",
      " A medium shot view of a young person holding a brown cardboard box with blue tape from the Amazon webshop in her hands, standing in front of a quite neighborhood street and cars background, the weather is rainy, high photorealistic quality.\n"
     ]
    },
    {
     "name": "stderr",
     "output_type": "stream",
     "text": [
      "100%|██████████| 15/15 [00:14<00:00,  1.02it/s]\n",
      "Generating images:   1%|▏         | 33/2478 [10:25<12:06:10, 17.82s/images]"
     ]
    },
    {
     "name": "stdout",
     "output_type": "stream",
     "text": [
      "Prompt: \n",
      " A medium shot view of a brown cardboard box with a barcode from a webshop, in front of a street background, the weather is rainy, high photorealistic quality.\n"
     ]
    },
    {
     "name": "stderr",
     "output_type": "stream",
     "text": [
      "100%|██████████| 15/15 [00:14<00:00,  1.01it/s]\n",
      "Generating images:   1%|▏         | 34/2478 [10:42<12:02:33, 17.74s/images]"
     ]
    },
    {
     "name": "stdout",
     "output_type": "stream",
     "text": [
      "Prompt: \n",
      " A medium shot view of a smiling man holding a white cardboard box with green tape from the Adidas webshop in his hands, standing in front of a street background, the weather is rainy, high photorealistic quality.\n"
     ]
    },
    {
     "name": "stderr",
     "output_type": "stream",
     "text": [
      "100%|██████████| 15/15 [00:14<00:00,  1.02it/s]\n",
      "Generating images:   1%|▏         | 35/2478 [11:00<11:58:54, 17.66s/images]"
     ]
    },
    {
     "name": "stdout",
     "output_type": "stream",
     "text": [
      "Prompt: \n",
      " A medium shot view of a brown cardboard box with a barcode from the Nike webshop, in front of a quite neighborhood street and cars background, the weather is cloudy, high photorealistic quality.\n"
     ]
    },
    {
     "name": "stderr",
     "output_type": "stream",
     "text": [
      "100%|██████████| 15/15 [00:15<00:00,  1.01s/it]\n",
      "Generating images:   1%|▏         | 36/2478 [11:18<12:02:35, 17.75s/images]"
     ]
    },
    {
     "name": "stdout",
     "output_type": "stream",
     "text": [
      "Prompt: \n",
      " A medium shot view of a sad lady holding a black cardboard box with black tape from the Nike webshop in her hands, standing in front of a garbage curb background, the weather is sunny, high photorealistic quality.\n"
     ]
    },
    {
     "name": "stderr",
     "output_type": "stream",
     "text": [
      "100%|██████████| 15/15 [00:14<00:00,  1.01it/s]\n",
      "Generating images:   1%|▏         | 37/2478 [11:35<12:01:16, 17.73s/images]"
     ]
    },
    {
     "name": "stdout",
     "output_type": "stream",
     "text": [
      "Prompt: \n",
      " A medium shot view of a colorful cardboard box with green tape from the Zara webshop, in front of a doorstep of a house background, the weather is snowy, high photorealistic quality.\n"
     ]
    },
    {
     "name": "stderr",
     "output_type": "stream",
     "text": [
      "100%|██████████| 15/15 [00:14<00:00,  1.01it/s]\n",
      "Generating images:   2%|▏         | 38/2478 [11:53<12:00:13, 17.71s/images]"
     ]
    },
    {
     "name": "stdout",
     "output_type": "stream",
     "text": [
      "Prompt: \n",
      " A medium shot view of a frowning man holding a colorful cardboard box with a barcode from the Nike webshop in his hands, standing in front of a street background, the weather is snowy, high photorealistic quality.\n"
     ]
    },
    {
     "name": "stderr",
     "output_type": "stream",
     "text": [
      "100%|██████████| 15/15 [00:14<00:00,  1.00it/s]\n",
      "Generating images:   2%|▏         | 39/2478 [12:11<12:00:50, 17.73s/images]"
     ]
    },
    {
     "name": "stdout",
     "output_type": "stream",
     "text": [
      "Prompt: \n",
      " A medium shot view of a brown cardboard box with a qr code from a webshop, in front of a doorstep of a house background, the weather is rainy, high photorealistic quality.\n"
     ]
    },
    {
     "name": "stderr",
     "output_type": "stream",
     "text": [
      "100%|██████████| 15/15 [00:14<00:00,  1.00it/s]\n",
      "Generating images:   2%|▏         | 40/2478 [12:29<12:00:21, 17.73s/images]"
     ]
    },
    {
     "name": "stdout",
     "output_type": "stream",
     "text": [
      "Prompt: \n",
      " A medium shot view of a young person holding a black cardboard box with a qr code from the Zara webshop in her hands, standing in front of a street background, the weather is rainy, high photorealistic quality.\n"
     ]
    },
    {
     "name": "stderr",
     "output_type": "stream",
     "text": [
      "100%|██████████| 15/15 [00:14<00:00,  1.01it/s]\n",
      "Generating images:   2%|▏         | 41/2478 [12:46<11:58:58, 17.70s/images]"
     ]
    },
    {
     "name": "stdout",
     "output_type": "stream",
     "text": [
      "Prompt: \n",
      " A medium shot view of a colorful cardboard box with blue tape from a webshop, in front of a doorstep of a house background, the weather is sunny, high photorealistic quality.\n"
     ]
    },
    {
     "name": "stderr",
     "output_type": "stream",
     "text": [
      "100%|██████████| 15/15 [00:15<00:00,  1.01s/it]\n",
      "Generating images:   2%|▏         | 42/2478 [13:04<12:01:47, 17.78s/images]"
     ]
    },
    {
     "name": "stdout",
     "output_type": "stream",
     "text": [
      "Prompt: \n",
      " A medium shot view of a happy person holding a black cardboard box with a qr code from the Coolblue webshop in her hands, standing in front of a garbage curb background, the weather is snowy, high photorealistic quality.\n"
     ]
    },
    {
     "name": "stderr",
     "output_type": "stream",
     "text": [
      "100%|██████████| 15/15 [00:14<00:00,  1.00it/s]\n",
      "Generating images:   2%|▏         | 43/2478 [13:22<12:01:25, 17.78s/images]"
     ]
    },
    {
     "name": "stdout",
     "output_type": "stream",
     "text": [
      "Prompt: \n",
      " A medium shot view of a brown cardboard box with a qr code from a webshop, in front of a appartment building background, the weather is snowy, high photorealistic quality.\n"
     ]
    },
    {
     "name": "stderr",
     "output_type": "stream",
     "text": [
      "100%|██████████| 15/15 [00:14<00:00,  1.00it/s]\n",
      "Generating images:   2%|▏         | 44/2478 [13:40<12:00:45, 17.77s/images]"
     ]
    },
    {
     "name": "stdout",
     "output_type": "stream",
     "text": [
      "Prompt: \n",
      " A medium shot view of a smiling person holding a colorful cardboard box with a number from the Amazon webshop in her hands, standing in front of a busy city street and people background, the weather is cloudy, high photorealistic quality.\n"
     ]
    },
    {
     "name": "stderr",
     "output_type": "stream",
     "text": [
      "100%|██████████| 15/15 [00:14<00:00,  1.00it/s]\n",
      "Generating images:   2%|▏         | 45/2478 [13:57<11:59:01, 17.73s/images]"
     ]
    },
    {
     "name": "stdout",
     "output_type": "stream",
     "text": [
      "Prompt: \n",
      " A medium shot view of a colorful cardboard box with black tape from the Amazon webshop, in front of a busy city street and people background, the weather is rainy, high photorealistic quality.\n"
     ]
    },
    {
     "name": "stderr",
     "output_type": "stream",
     "text": [
      "100%|██████████| 15/15 [00:14<00:00,  1.00it/s]\n",
      "Generating images:   2%|▏         | 46/2478 [14:15<11:59:45, 17.76s/images]"
     ]
    },
    {
     "name": "stdout",
     "output_type": "stream",
     "text": [
      "Prompt: \n",
      " A medium shot view of a smiling boy holding a white cardboard box with blue tape from the Amazon webshop in his hands, standing in front of a quite neighborhood street and trees background, the weather is sunny, high photorealistic quality.\n"
     ]
    },
    {
     "name": "stderr",
     "output_type": "stream",
     "text": [
      "100%|██████████| 15/15 [00:14<00:00,  1.00it/s]\n",
      "Generating images:   2%|▏         | 47/2478 [14:33<11:58:16, 17.73s/images]"
     ]
    },
    {
     "name": "stdout",
     "output_type": "stream",
     "text": [
      "Prompt: \n",
      " A medium shot view of a white cardboard box with blue tape from the Adidas webshop, in front of a doorstep of a house background, the weather is sunny, high photorealistic quality.\n"
     ]
    },
    {
     "name": "stderr",
     "output_type": "stream",
     "text": [
      "100%|██████████| 15/15 [00:14<00:00,  1.01it/s]\n",
      "Generating images:   2%|▏         | 48/2478 [14:50<11:55:08, 17.66s/images]"
     ]
    },
    {
     "name": "stdout",
     "output_type": "stream",
     "text": [
      "Prompt: \n",
      " A medium shot view of a smiling woman holding a black cardboard box with a number from the Coolblue webshop in her hands, standing in front of a busy city street and people background, the weather is snowy, high photorealistic quality.\n"
     ]
    },
    {
     "name": "stderr",
     "output_type": "stream",
     "text": [
      "100%|██████████| 15/15 [00:14<00:00,  1.01it/s]\n",
      "Generating images:   2%|▏         | 49/2478 [15:08<11:53:09, 17.62s/images]"
     ]
    },
    {
     "name": "stdout",
     "output_type": "stream",
     "text": [
      "Prompt: \n",
      " A medium shot view of a brown cardboard box with red tape from the Zara webshop, in front of a busy city street and people background, the weather is rainy, high photorealistic quality.\n"
     ]
    },
    {
     "name": "stderr",
     "output_type": "stream",
     "text": [
      "100%|██████████| 15/15 [00:14<00:00,  1.01it/s]\n",
      "Generating images:   2%|▏         | 50/2478 [15:25<11:52:13, 17.60s/images]"
     ]
    },
    {
     "name": "stdout",
     "output_type": "stream",
     "text": [
      "Prompt: \n",
      " A medium shot view of a happy man holding a black cardboard box with a barcode from the Coolblue webshop in his hands, standing in front of a doorstep of a house background, the weather is cloudy, high photorealistic quality.\n"
     ]
    },
    {
     "name": "stderr",
     "output_type": "stream",
     "text": [
      "100%|██████████| 15/15 [00:14<00:00,  1.01it/s]\n",
      "Generating images:   2%|▏         | 51/2478 [15:43<11:51:47, 17.60s/images]"
     ]
    },
    {
     "name": "stdout",
     "output_type": "stream",
     "text": [
      "Prompt: \n",
      " A medium shot view of a brown cardboard box with black tape from a webshop, in front of a appartment building background, the weather is snowy, high photorealistic quality.\n"
     ]
    },
    {
     "name": "stderr",
     "output_type": "stream",
     "text": [
      "100%|██████████| 15/15 [00:14<00:00,  1.01it/s]\n",
      "Generating images:   2%|▏         | 52/2478 [16:01<11:52:47, 17.63s/images]"
     ]
    },
    {
     "name": "stdout",
     "output_type": "stream",
     "text": [
      "Prompt: \n",
      " A medium shot view of an old woman holding a white cardboard box with a number from the Coolblue webshop in her hands, standing in front of a quite neighborhood street and trees background, the weather is cloudy, high photorealistic quality.\n"
     ]
    },
    {
     "name": "stderr",
     "output_type": "stream",
     "text": [
      "100%|██████████| 15/15 [00:14<00:00,  1.01it/s]\n",
      "Generating images:   2%|▏         | 53/2478 [16:18<11:51:35, 17.61s/images]"
     ]
    },
    {
     "name": "stdout",
     "output_type": "stream",
     "text": [
      "Prompt: \n",
      " A medium shot view of a colorful cardboard box with blue tape from the Zara webshop, in front of a busy city street and cars background, the weather is sunny, high photorealistic quality.\n"
     ]
    },
    {
     "name": "stderr",
     "output_type": "stream",
     "text": [
      "100%|██████████| 15/15 [00:14<00:00,  1.01it/s]\n",
      "Generating images:   2%|▏         | 54/2478 [16:36<11:52:04, 17.63s/images]"
     ]
    },
    {
     "name": "stdout",
     "output_type": "stream",
     "text": [
      "Prompt: \n",
      " A medium shot view of an angry boy holding a brown cardboard box with a number from the Amazon webshop in his hands, standing in front of a city center background, the weather is snowy, high photorealistic quality.\n"
     ]
    },
    {
     "name": "stderr",
     "output_type": "stream",
     "text": [
      "100%|██████████| 15/15 [00:14<00:00,  1.01it/s]\n",
      "Generating images:   2%|▏         | 55/2478 [16:54<11:52:04, 17.63s/images]"
     ]
    },
    {
     "name": "stdout",
     "output_type": "stream",
     "text": [
      "Prompt: \n",
      " A medium shot view of a white cardboard box with green tape from a webshop, in front of a busy city street and people background, the weather is sunny, high photorealistic quality.\n"
     ]
    },
    {
     "name": "stderr",
     "output_type": "stream",
     "text": [
      "100%|██████████| 15/15 [00:14<00:00,  1.00it/s]\n",
      "Generating images:   2%|▏         | 56/2478 [17:11<11:53:03, 17.66s/images]"
     ]
    },
    {
     "name": "stdout",
     "output_type": "stream",
     "text": [
      "Prompt: \n",
      " A medium shot view of a sad man holding a white cardboard box with a barcode from the Coolblue webshop in his hands, standing in front of a garbage curb background, the weather is cloudy, high photorealistic quality.\n"
     ]
    },
    {
     "name": "stderr",
     "output_type": "stream",
     "text": [
      "100%|██████████| 15/15 [00:14<00:00,  1.01it/s]\n",
      "Generating images:   2%|▏         | 57/2478 [17:29<11:51:17, 17.63s/images]"
     ]
    },
    {
     "name": "stdout",
     "output_type": "stream",
     "text": [
      "Prompt: \n",
      " A medium shot view of a brown cardboard box with blue tape from a webshop, in front of a quite neighborhood street and trees background, the weather is rainy, high photorealistic quality.\n"
     ]
    },
    {
     "name": "stderr",
     "output_type": "stream",
     "text": [
      "100%|██████████| 15/15 [00:14<00:00,  1.01it/s]\n",
      "Generating images:   2%|▏         | 58/2478 [17:46<11:50:34, 17.62s/images]"
     ]
    },
    {
     "name": "stdout",
     "output_type": "stream",
     "text": [
      "Prompt: \n",
      " A medium shot view of a smiling man holding a black cardboard box with a barcode from a webshop in his hands, standing in front of a appartment building background, the weather is sunny, high photorealistic quality.\n"
     ]
    },
    {
     "name": "stderr",
     "output_type": "stream",
     "text": [
      "100%|██████████| 15/15 [00:14<00:00,  1.01it/s]\n",
      "Generating images:   2%|▏         | 59/2478 [18:04<11:50:23, 17.62s/images]"
     ]
    },
    {
     "name": "stdout",
     "output_type": "stream",
     "text": [
      "Prompt: \n",
      " A medium shot view of a black cardboard box with black tape from the Coolblue webshop, in front of a appartment building background, the weather is rainy, high photorealistic quality.\n"
     ]
    },
    {
     "name": "stderr",
     "output_type": "stream",
     "text": [
      "100%|██████████| 15/15 [00:14<00:00,  1.01it/s]\n",
      "Generating images:   2%|▏         | 60/2478 [18:22<11:50:37, 17.63s/images]"
     ]
    },
    {
     "name": "stdout",
     "output_type": "stream",
     "text": [
      "Prompt: \n",
      " A medium shot view of a sad man holding a colorful cardboard box with a number from the Adidas webshop in his hands, standing in front of a busy city street and people background, the weather is cloudy, high photorealistic quality.\n"
     ]
    },
    {
     "name": "stderr",
     "output_type": "stream",
     "text": [
      "100%|██████████| 15/15 [00:15<00:00,  1.01s/it]\n",
      "Generating images:   2%|▏         | 61/2478 [18:40<11:53:32, 17.71s/images]"
     ]
    },
    {
     "name": "stdout",
     "output_type": "stream",
     "text": [
      "Prompt: \n",
      " A medium shot view of a black cardboard box with yellow tape from the Nike webshop, in front of a quite neighborhood street and cars background, the weather is cloudy, high photorealistic quality.\n"
     ]
    },
    {
     "name": "stderr",
     "output_type": "stream",
     "text": [
      "100%|██████████| 15/15 [00:14<00:00,  1.00it/s]\n",
      "Generating images:   3%|▎         | 62/2478 [18:57<11:53:52, 17.73s/images]"
     ]
    },
    {
     "name": "stdout",
     "output_type": "stream",
     "text": [
      "Prompt: \n",
      " A medium shot view of a happy woman holding a black cardboard box with a barcode from the Amazon webshop in her hands, standing in front of a busy city street and cars background, the weather is rainy, high photorealistic quality.\n"
     ]
    },
    {
     "name": "stderr",
     "output_type": "stream",
     "text": [
      "100%|██████████| 15/15 [00:15<00:00,  1.00s/it]\n",
      "Generating images:   3%|▎         | 63/2478 [19:15<11:54:28, 17.75s/images]"
     ]
    },
    {
     "name": "stdout",
     "output_type": "stream",
     "text": [
      "Prompt: \n",
      " A medium shot view of a white cardboard box with a barcode from the Adidas webshop, in front of a quite neighborhood street and cars background, the weather is snowy, high photorealistic quality.\n"
     ]
    },
    {
     "name": "stderr",
     "output_type": "stream",
     "text": [
      "100%|██████████| 15/15 [00:14<00:00,  1.01it/s]\n",
      "Generating images:   3%|▎         | 64/2478 [19:33<11:53:27, 17.73s/images]"
     ]
    },
    {
     "name": "stdout",
     "output_type": "stream",
     "text": [
      "Prompt: \n",
      " A medium shot view of a frowning man holding a colorful cardboard box with a barcode from a webshop in his hands, standing in front of a busy city street and cars background, the weather is rainy, high photorealistic quality.\n"
     ]
    },
    {
     "name": "stderr",
     "output_type": "stream",
     "text": [
      "100%|██████████| 15/15 [00:15<00:00,  1.00s/it]\n",
      "Generating images:   3%|▎         | 65/2478 [19:51<11:54:32, 17.77s/images]"
     ]
    },
    {
     "name": "stdout",
     "output_type": "stream",
     "text": [
      "Prompt: \n",
      " A medium shot view of a colorful cardboard box with a number from the Amazon webshop, in front of a quite neighborhood street and cars background, the weather is sunny, high photorealistic quality.\n"
     ]
    },
    {
     "name": "stderr",
     "output_type": "stream",
     "text": [
      "100%|██████████| 15/15 [00:14<00:00,  1.00it/s]\n",
      "Generating images:   3%|▎         | 66/2478 [20:08<11:53:14, 17.74s/images]"
     ]
    },
    {
     "name": "stdout",
     "output_type": "stream",
     "text": [
      "Prompt: \n",
      " A medium shot view of a sad person holding a white cardboard box with blue tape from the Zara webshop in her hands, standing in front of a busy city street and cars background, the weather is snowy, high photorealistic quality.\n"
     ]
    },
    {
     "name": "stderr",
     "output_type": "stream",
     "text": [
      "100%|██████████| 15/15 [00:14<00:00,  1.01it/s]\n",
      "Generating images:   3%|▎         | 67/2478 [20:26<11:50:26, 17.68s/images]"
     ]
    },
    {
     "name": "stdout",
     "output_type": "stream",
     "text": [
      "Prompt: \n",
      " A medium shot view of a colorful cardboard box with black tape from the Nike webshop, in front of a quite neighborhood street and garden background, the weather is sunny, high photorealistic quality.\n"
     ]
    },
    {
     "name": "stderr",
     "output_type": "stream",
     "text": [
      "100%|██████████| 15/15 [00:14<00:00,  1.01it/s]\n",
      "Generating images:   3%|▎         | 68/2478 [20:44<11:51:01, 17.70s/images]"
     ]
    },
    {
     "name": "stdout",
     "output_type": "stream",
     "text": [
      "Prompt: \n",
      " A medium shot view of an old person holding a black cardboard box with black tape from the Zara webshop in her hands, standing in front of a busy city street and people background, the weather is sunny, high photorealistic quality.\n"
     ]
    },
    {
     "name": "stderr",
     "output_type": "stream",
     "text": [
      "100%|██████████| 15/15 [00:14<00:00,  1.01it/s]\n",
      "Generating images:   3%|▎         | 69/2478 [21:01<11:49:49, 17.68s/images]"
     ]
    },
    {
     "name": "stdout",
     "output_type": "stream",
     "text": [
      "Prompt: \n",
      " A medium shot view of a colorful cardboard box with a barcode from the Zara webshop, in front of a busy city street and cars background, the weather is snowy, high photorealistic quality.\n"
     ]
    },
    {
     "name": "stderr",
     "output_type": "stream",
     "text": [
      "100%|██████████| 15/15 [00:14<00:00,  1.01it/s]\n",
      "Generating images:   3%|▎         | 70/2478 [21:19<11:49:23, 17.68s/images]"
     ]
    },
    {
     "name": "stdout",
     "output_type": "stream",
     "text": [
      "Prompt: \n",
      " A medium shot view of an old lady holding a brown cardboard box with a number from the Coolblue webshop in her hands, standing in front of a quite neighborhood street and garden background, the weather is rainy, high photorealistic quality.\n"
     ]
    },
    {
     "name": "stderr",
     "output_type": "stream",
     "text": [
      "100%|██████████| 15/15 [00:14<00:00,  1.01it/s]\n",
      "Generating images:   3%|▎         | 71/2478 [21:37<11:49:19, 17.68s/images]"
     ]
    },
    {
     "name": "stdout",
     "output_type": "stream",
     "text": [
      "Prompt: \n",
      " A medium shot view of a black cardboard box with a number from the Zara webshop, in front of a garbage curb background, the weather is sunny, high photorealistic quality.\n"
     ]
    },
    {
     "name": "stderr",
     "output_type": "stream",
     "text": [
      "100%|██████████| 15/15 [00:14<00:00,  1.01it/s]\n",
      "Generating images:   3%|▎         | 72/2478 [21:54<11:47:53, 17.65s/images]"
     ]
    },
    {
     "name": "stdout",
     "output_type": "stream",
     "text": [
      "Prompt: \n",
      " A medium shot view of a happy boy holding a black cardboard box with blue tape from a webshop in his hands, standing in front of a doorstep of a house background, the weather is cloudy, high photorealistic quality.\n"
     ]
    },
    {
     "name": "stderr",
     "output_type": "stream",
     "text": [
      "100%|██████████| 15/15 [00:14<00:00,  1.01it/s]\n",
      "Generating images:   3%|▎         | 73/2478 [22:12<11:46:05, 17.62s/images]"
     ]
    },
    {
     "name": "stdout",
     "output_type": "stream",
     "text": [
      "Prompt: \n",
      " A medium shot view of a black cardboard box with red tape from the Coolblue webshop, in front of a quite neighborhood street and garden background, the weather is cloudy, high photorealistic quality.\n"
     ]
    },
    {
     "name": "stderr",
     "output_type": "stream",
     "text": [
      "100%|██████████| 15/15 [00:14<00:00,  1.01it/s]\n",
      "Generating images:   3%|▎         | 74/2478 [22:29<11:45:49, 17.62s/images]"
     ]
    },
    {
     "name": "stdout",
     "output_type": "stream",
     "text": [
      "Prompt: \n",
      " A medium shot view of a happy boy holding a colorful cardboard box with a barcode from the Amazon webshop in his hands, standing in front of a quite neighborhood street and cars background, the weather is sunny, high photorealistic quality.\n"
     ]
    },
    {
     "name": "stderr",
     "output_type": "stream",
     "text": [
      "100%|██████████| 15/15 [00:14<00:00,  1.01it/s]\n",
      "Generating images:   3%|▎         | 75/2478 [22:47<11:46:00, 17.63s/images]"
     ]
    },
    {
     "name": "stdout",
     "output_type": "stream",
     "text": [
      "Prompt: \n",
      " A medium shot view of a brown cardboard box with a barcode from the Nike webshop, in front of a street background, the weather is sunny, high photorealistic quality.\n"
     ]
    },
    {
     "name": "stderr",
     "output_type": "stream",
     "text": [
      "100%|██████████| 15/15 [00:14<00:00,  1.01it/s]\n",
      "Generating images:   3%|▎         | 76/2478 [23:05<11:45:38, 17.63s/images]"
     ]
    },
    {
     "name": "stdout",
     "output_type": "stream",
     "text": [
      "Prompt: \n",
      " A medium shot view of a frowning woman holding a brown cardboard box with black tape from the Coolblue webshop in her hands, standing in front of a busy city street and cars background, the weather is snowy, high photorealistic quality.\n"
     ]
    },
    {
     "name": "stderr",
     "output_type": "stream",
     "text": [
      "100%|██████████| 15/15 [00:14<00:00,  1.01it/s]\n",
      "Generating images:   3%|▎         | 77/2478 [23:22<11:44:34, 17.61s/images]"
     ]
    },
    {
     "name": "stdout",
     "output_type": "stream",
     "text": [
      "Prompt: \n",
      " A medium shot view of a brown cardboard box with yellow tape from the Nike webshop, in front of a appartment building background, the weather is rainy, high photorealistic quality.\n"
     ]
    },
    {
     "name": "stderr",
     "output_type": "stream",
     "text": [
      "100%|██████████| 15/15 [00:14<00:00,  1.01it/s]\n",
      "Generating images:   3%|▎         | 78/2478 [23:40<11:44:20, 17.61s/images]"
     ]
    },
    {
     "name": "stdout",
     "output_type": "stream",
     "text": [
      "Prompt: \n",
      " A medium shot view of a happy person holding a black cardboard box with green tape from the Nike webshop in her hands, standing in front of a appartment building background, the weather is sunny, high photorealistic quality.\n"
     ]
    },
    {
     "name": "stderr",
     "output_type": "stream",
     "text": [
      "100%|██████████| 15/15 [00:14<00:00,  1.00it/s]\n",
      "Generating images:   3%|▎         | 79/2478 [23:58<11:45:03, 17.63s/images]"
     ]
    },
    {
     "name": "stdout",
     "output_type": "stream",
     "text": [
      "Prompt: \n",
      " A medium shot view of a colorful cardboard box with black tape from the Coolblue webshop, in front of a appartment building background, the weather is cloudy, high photorealistic quality.\n"
     ]
    },
    {
     "name": "stderr",
     "output_type": "stream",
     "text": [
      "100%|██████████| 15/15 [00:14<00:00,  1.01it/s]\n",
      "Generating images:   3%|▎         | 80/2478 [24:15<11:43:47, 17.61s/images]"
     ]
    },
    {
     "name": "stdout",
     "output_type": "stream",
     "text": [
      "Prompt: \n",
      " A medium shot view of a sad boy holding a brown cardboard box with a barcode from the Zara webshop in his hands, standing in front of a quite neighborhood street and cars background, the weather is cloudy, high photorealistic quality.\n"
     ]
    },
    {
     "name": "stderr",
     "output_type": "stream",
     "text": [
      "100%|██████████| 15/15 [00:15<00:00,  1.01s/it]\n",
      "Generating images:   3%|▎         | 81/2478 [24:33<11:52:53, 17.84s/images]"
     ]
    },
    {
     "name": "stdout",
     "output_type": "stream",
     "text": [
      "Prompt: \n",
      " A medium shot view of a colorful cardboard box with red tape from the Zara webshop, in front of a city center background, the weather is rainy, high photorealistic quality.\n"
     ]
    },
    {
     "name": "stderr",
     "output_type": "stream",
     "text": [
      "100%|██████████| 15/15 [00:14<00:00,  1.06it/s]\n",
      "Generating images:   3%|▎         | 82/2478 [24:51<11:45:16, 17.66s/images]"
     ]
    },
    {
     "name": "stdout",
     "output_type": "stream",
     "text": [
      "Prompt: \n",
      " A medium shot view of a happy man holding a colorful cardboard box with yellow tape from the Zara webshop in his hands, standing in front of a garbage curb background, the weather is sunny, high photorealistic quality.\n"
     ]
    },
    {
     "name": "stderr",
     "output_type": "stream",
     "text": [
      "100%|██████████| 15/15 [00:13<00:00,  1.11it/s]\n",
      "Generating images:   3%|▎         | 83/2478 [25:07<11:26:35, 17.20s/images]"
     ]
    },
    {
     "name": "stdout",
     "output_type": "stream",
     "text": [
      "Prompt: \n",
      " A medium shot view of a black cardboard box with green tape from the Nike webshop, in front of a city center background, the weather is rainy, high photorealistic quality.\n"
     ]
    },
    {
     "name": "stderr",
     "output_type": "stream",
     "text": [
      "100%|██████████| 15/15 [00:13<00:00,  1.11it/s]\n",
      "Generating images:   3%|▎         | 84/2478 [25:23<11:12:44, 16.86s/images]"
     ]
    },
    {
     "name": "stdout",
     "output_type": "stream",
     "text": [
      "Prompt: \n",
      " A medium shot view of a frowning lady holding a colorful cardboard box with a qr code from a webshop in her hands, standing in front of a busy city street and cars background, the weather is sunny, high photorealistic quality.\n"
     ]
    },
    {
     "name": "stderr",
     "output_type": "stream",
     "text": [
      "100%|██████████| 15/15 [00:13<00:00,  1.11it/s]\n",
      "Generating images:   3%|▎         | 85/2478 [25:39<11:02:56, 16.62s/images]"
     ]
    },
    {
     "name": "stdout",
     "output_type": "stream",
     "text": [
      "Prompt: \n",
      " A medium shot view of a colorful cardboard box with yellow tape from the Coolblue webshop, in front of a city center background, the weather is cloudy, high photorealistic quality.\n"
     ]
    },
    {
     "name": "stderr",
     "output_type": "stream",
     "text": [
      "100%|██████████| 15/15 [00:13<00:00,  1.11it/s]\n",
      "Generating images:   3%|▎         | 86/2478 [25:55<10:55:43, 16.45s/images]"
     ]
    },
    {
     "name": "stdout",
     "output_type": "stream",
     "text": [
      "Prompt: \n",
      " A medium shot view of a sad man holding a colorful cardboard box with green tape from the Nike webshop in his hands, standing in front of a city center background, the weather is cloudy, high photorealistic quality.\n"
     ]
    },
    {
     "name": "stderr",
     "output_type": "stream",
     "text": [
      "100%|██████████| 15/15 [00:13<00:00,  1.11it/s]\n",
      "Generating images:   4%|▎         | 87/2478 [26:11<10:52:06, 16.36s/images]"
     ]
    },
    {
     "name": "stdout",
     "output_type": "stream",
     "text": [
      "Prompt: \n",
      " A medium shot view of a brown cardboard box with a qr code from a webshop, in front of a quite neighborhood street and garden background, the weather is snowy, high photorealistic quality.\n"
     ]
    },
    {
     "name": "stderr",
     "output_type": "stream",
     "text": [
      "100%|██████████| 15/15 [00:14<00:00,  1.05it/s]\n",
      "Generating images:   4%|▎         | 88/2478 [26:28<11:01:39, 16.61s/images]"
     ]
    },
    {
     "name": "stdout",
     "output_type": "stream",
     "text": [
      "Prompt: \n",
      " A medium shot view of a young person holding a black cardboard box with a barcode from the Zara webshop in her hands, standing in front of a busy city street and people background, the weather is sunny, high photorealistic quality.\n"
     ]
    },
    {
     "name": "stderr",
     "output_type": "stream",
     "text": [
      "100%|██████████| 15/15 [00:13<00:00,  1.10it/s]\n",
      "Generating images:   4%|▎         | 89/2478 [26:45<10:57:34, 16.52s/images]"
     ]
    },
    {
     "name": "stdout",
     "output_type": "stream",
     "text": [
      "Prompt: \n",
      " A medium shot view of a brown cardboard box with a number from the Amazon webshop, in front of a busy city street and cars background, the weather is snowy, high photorealistic quality.\n"
     ]
    },
    {
     "name": "stderr",
     "output_type": "stream",
     "text": [
      "100%|██████████| 15/15 [00:14<00:00,  1.06it/s]\n",
      "Generating images:   4%|▎         | 90/2478 [27:02<11:05:35, 16.72s/images]"
     ]
    },
    {
     "name": "stdout",
     "output_type": "stream",
     "text": [
      "Prompt: \n",
      " A medium shot view of a smiling man holding a white cardboard box with blue tape from the Adidas webshop in his hands, standing in front of a quite neighborhood street and garden background, the weather is snowy, high photorealistic quality.\n"
     ]
    },
    {
     "name": "stderr",
     "output_type": "stream",
     "text": [
      "100%|██████████| 15/15 [00:15<00:00,  1.05s/it]\n",
      "Generating images:   4%|▎         | 91/2478 [27:21<11:29:22, 17.33s/images]"
     ]
    },
    {
     "name": "stdout",
     "output_type": "stream",
     "text": [
      "Prompt: \n",
      " A medium shot view of a brown cardboard box with a barcode from the Amazon webshop, in front of a quite neighborhood street and trees background, the weather is sunny, high photorealistic quality.\n"
     ]
    },
    {
     "name": "stderr",
     "output_type": "stream",
     "text": [
      "100%|██████████| 15/15 [00:15<00:00,  1.03s/it]\n",
      "Generating images:   4%|▎         | 92/2478 [27:39<11:40:01, 17.60s/images]"
     ]
    },
    {
     "name": "stdout",
     "output_type": "stream",
     "text": [
      "Prompt: \n",
      " A medium shot view of a young woman holding a colorful cardboard box with a number from the Coolblue webshop in her hands, standing in front of a busy city street and people background, the weather is cloudy, high photorealistic quality.\n"
     ]
    },
    {
     "name": "stderr",
     "output_type": "stream",
     "text": [
      "100%|██████████| 15/15 [00:14<00:00,  1.04it/s]\n",
      "Generating images:   4%|▍         | 93/2478 [27:56<11:34:14, 17.47s/images]"
     ]
    },
    {
     "name": "stdout",
     "output_type": "stream",
     "text": [
      "Prompt: \n",
      " A medium shot view of a black cardboard box with a barcode from the Zara webshop, in front of a doorstep of a house background, the weather is rainy, high photorealistic quality.\n"
     ]
    },
    {
     "name": "stderr",
     "output_type": "stream",
     "text": [
      "100%|██████████| 15/15 [00:15<00:00,  1.01s/it]\n",
      "Generating images:   4%|▍         | 94/2478 [28:14<11:38:33, 17.58s/images]"
     ]
    },
    {
     "name": "stdout",
     "output_type": "stream",
     "text": [
      "Prompt: \n",
      " A medium shot view of an old boy holding a white cardboard box with black tape from the Nike webshop in his hands, standing in front of a quite neighborhood street and garden background, the weather is cloudy, high photorealistic quality.\n"
     ]
    },
    {
     "name": "stderr",
     "output_type": "stream",
     "text": [
      "100%|██████████| 15/15 [00:14<00:00,  1.05it/s]\n",
      "Generating images:   4%|▍         | 95/2478 [28:31<11:32:39, 17.44s/images]"
     ]
    },
    {
     "name": "stdout",
     "output_type": "stream",
     "text": [
      "Prompt: \n",
      " A medium shot view of a colorful cardboard box with red tape from the Zara webshop, in front of a garbage curb background, the weather is cloudy, high photorealistic quality.\n"
     ]
    },
    {
     "name": "stderr",
     "output_type": "stream",
     "text": [
      "100%|██████████| 15/15 [00:14<00:00,  1.05it/s]\n",
      "Generating images:   4%|▍         | 96/2478 [28:48<11:28:05, 17.33s/images]"
     ]
    },
    {
     "name": "stdout",
     "output_type": "stream",
     "text": [
      "Prompt: \n",
      " A medium shot view of an angry person holding a white cardboard box with a qr code from the Amazon webshop in her hands, standing in front of a appartment building background, the weather is snowy, high photorealistic quality.\n"
     ]
    },
    {
     "name": "stderr",
     "output_type": "stream",
     "text": [
      "100%|██████████| 15/15 [00:14<00:00,  1.03it/s]\n",
      "Generating images:   4%|▍         | 97/2478 [29:05<11:28:15, 17.34s/images]"
     ]
    },
    {
     "name": "stdout",
     "output_type": "stream",
     "text": [
      "Prompt: \n",
      " A medium shot view of a white cardboard box with yellow tape from the Nike webshop, in front of a street background, the weather is sunny, high photorealistic quality.\n"
     ]
    },
    {
     "name": "stderr",
     "output_type": "stream",
     "text": [
      "100%|██████████| 15/15 [00:14<00:00,  1.03it/s]\n",
      "Generating images:   4%|▍         | 98/2478 [29:23<11:27:43, 17.34s/images]"
     ]
    },
    {
     "name": "stdout",
     "output_type": "stream",
     "text": [
      "Prompt: \n",
      " A medium shot view of a sad lady holding a brown cardboard box with a number from the Zara webshop in her hands, standing in front of a street background, the weather is cloudy, high photorealistic quality.\n"
     ]
    },
    {
     "name": "stderr",
     "output_type": "stream",
     "text": [
      "100%|██████████| 15/15 [00:14<00:00,  1.05it/s]\n",
      "Generating images:   4%|▍         | 99/2478 [29:40<11:25:11, 17.28s/images]"
     ]
    },
    {
     "name": "stdout",
     "output_type": "stream",
     "text": [
      "Prompt: \n",
      " A medium shot view of a black cardboard box with a qr code from the Nike webshop, in front of a city center background, the weather is rainy, high photorealistic quality.\n"
     ]
    },
    {
     "name": "stderr",
     "output_type": "stream",
     "text": [
      "100%|██████████| 15/15 [00:14<00:00,  1.01it/s]\n",
      "Generating images:   4%|▍         | 100/2478 [29:58<11:29:21, 17.39s/images]"
     ]
    },
    {
     "name": "stdout",
     "output_type": "stream",
     "text": [
      "Prompt: \n",
      " A medium shot view of a frowning boy holding a brown cardboard box with red tape from the Zara webshop in his hands, standing in front of a city center background, the weather is sunny, high photorealistic quality.\n"
     ]
    },
    {
     "name": "stderr",
     "output_type": "stream",
     "text": [
      "100%|██████████| 15/15 [00:14<00:00,  1.02it/s]\n",
      "Generating images:   4%|▍         | 101/2478 [30:15<11:31:32, 17.46s/images]"
     ]
    },
    {
     "name": "stdout",
     "output_type": "stream",
     "text": [
      "Prompt: \n",
      " A medium shot view of a brown cardboard box with a number from the Zara webshop, in front of a quite neighborhood street and trees background, the weather is snowy, high photorealistic quality.\n"
     ]
    },
    {
     "name": "stderr",
     "output_type": "stream",
     "text": [
      "100%|██████████| 15/15 [00:14<00:00,  1.05it/s]\n",
      "Generating images:   4%|▍         | 102/2478 [30:32<11:25:51, 17.32s/images]"
     ]
    },
    {
     "name": "stdout",
     "output_type": "stream",
     "text": [
      "Prompt: \n",
      " A medium shot view of a frowning person holding a brown cardboard box with a number from the Adidas webshop in her hands, standing in front of a appartment building background, the weather is cloudy, high photorealistic quality.\n"
     ]
    },
    {
     "name": "stderr",
     "output_type": "stream",
     "text": [
      "100%|██████████| 15/15 [00:14<00:00,  1.04it/s]\n",
      "Generating images:   4%|▍         | 103/2478 [30:49<11:24:49, 17.30s/images]"
     ]
    },
    {
     "name": "stdout",
     "output_type": "stream",
     "text": [
      "Prompt: \n",
      " A medium shot view of a brown cardboard box with blue tape from a webshop, in front of a busy city street and people background, the weather is snowy, high photorealistic quality.\n"
     ]
    },
    {
     "name": "stderr",
     "output_type": "stream",
     "text": [
      "100%|██████████| 15/15 [00:14<00:00,  1.03it/s]\n",
      "Generating images:   4%|▍         | 104/2478 [31:07<11:27:08, 17.37s/images]"
     ]
    },
    {
     "name": "stdout",
     "output_type": "stream",
     "text": [
      "Prompt: \n",
      " A medium shot view of a sad person holding a brown cardboard box with a number from the Coolblue webshop in her hands, standing in front of a quite neighborhood street and garden background, the weather is sunny, high photorealistic quality.\n"
     ]
    },
    {
     "name": "stderr",
     "output_type": "stream",
     "text": [
      "100%|██████████| 15/15 [00:14<00:00,  1.03it/s]\n",
      "Generating images:   4%|▍         | 105/2478 [31:24<11:26:45, 17.36s/images]"
     ]
    },
    {
     "name": "stdout",
     "output_type": "stream",
     "text": [
      "Prompt: \n",
      " A medium shot view of a colorful cardboard box with a barcode from the Adidas webshop, in front of a appartment building background, the weather is sunny, high photorealistic quality.\n"
     ]
    },
    {
     "name": "stderr",
     "output_type": "stream",
     "text": [
      "100%|██████████| 15/15 [00:15<00:00,  1.02s/it]\n",
      "Generating images:   4%|▍         | 106/2478 [31:43<11:38:36, 17.67s/images]"
     ]
    },
    {
     "name": "stdout",
     "output_type": "stream",
     "text": [
      "Prompt: \n",
      " A medium shot view of a frowning boy holding a colorful cardboard box with blue tape from a webshop in his hands, standing in front of a street background, the weather is rainy, high photorealistic quality.\n"
     ]
    },
    {
     "name": "stderr",
     "output_type": "stream",
     "text": [
      "100%|██████████| 15/15 [00:14<00:00,  1.04it/s]\n",
      "Generating images:   4%|▍         | 107/2478 [32:00<11:32:47, 17.53s/images]"
     ]
    },
    {
     "name": "stdout",
     "output_type": "stream",
     "text": [
      "Prompt: \n",
      " A medium shot view of a black cardboard box with blue tape from the Amazon webshop, in front of a appartment building background, the weather is snowy, high photorealistic quality.\n"
     ]
    },
    {
     "name": "stderr",
     "output_type": "stream",
     "text": [
      "100%|██████████| 15/15 [00:14<00:00,  1.01it/s]\n",
      "Generating images:   4%|▍         | 108/2478 [32:17<11:32:50, 17.54s/images]"
     ]
    },
    {
     "name": "stdout",
     "output_type": "stream",
     "text": [
      "Prompt: \n",
      " A medium shot view of an angry woman holding a black cardboard box with a barcode from the Zara webshop in her hands, standing in front of a city center background, the weather is cloudy, high photorealistic quality.\n"
     ]
    },
    {
     "name": "stderr",
     "output_type": "stream",
     "text": [
      "100%|██████████| 15/15 [00:14<00:00,  1.04it/s]\n",
      "Generating images:   4%|▍         | 109/2478 [32:35<11:28:55, 17.45s/images]"
     ]
    },
    {
     "name": "stdout",
     "output_type": "stream",
     "text": [
      "Prompt: \n",
      " A medium shot view of a brown cardboard box with blue tape from a webshop, in front of a quite neighborhood street and garden background, the weather is cloudy, high photorealistic quality.\n"
     ]
    },
    {
     "name": "stderr",
     "output_type": "stream",
     "text": [
      "100%|██████████| 15/15 [00:14<00:00,  1.05it/s]\n",
      "Generating images:   4%|▍         | 110/2478 [32:52<11:23:54, 17.33s/images]"
     ]
    },
    {
     "name": "stdout",
     "output_type": "stream",
     "text": [
      "Prompt: \n",
      " A medium shot view of a frowning woman holding a brown cardboard box with a barcode from the Coolblue webshop in her hands, standing in front of a quite neighborhood street and garden background, the weather is cloudy, high photorealistic quality.\n"
     ]
    },
    {
     "name": "stderr",
     "output_type": "stream",
     "text": [
      "100%|██████████| 15/15 [00:14<00:00,  1.00it/s]\n",
      "Generating images:   4%|▍         | 111/2478 [33:10<11:33:43, 17.59s/images]"
     ]
    },
    {
     "name": "stdout",
     "output_type": "stream",
     "text": [
      "Prompt: \n",
      " A medium shot view of a brown cardboard box with blue tape from a webshop, in front of a appartment building background, the weather is cloudy, high photorealistic quality.\n"
     ]
    },
    {
     "name": "stderr",
     "output_type": "stream",
     "text": [
      "100%|██████████| 15/15 [00:17<00:00,  1.16s/it]\n",
      "Generating images:   5%|▍         | 112/2478 [33:31<12:09:11, 18.49s/images]"
     ]
    },
    {
     "name": "stdout",
     "output_type": "stream",
     "text": [
      "Prompt: \n",
      " A medium shot view of an angry man holding a brown cardboard box with green tape from the Zara webshop in his hands, standing in front of a street background, the weather is cloudy, high photorealistic quality.\n"
     ]
    },
    {
     "name": "stderr",
     "output_type": "stream",
     "text": [
      "100%|██████████| 15/15 [00:14<00:00,  1.04it/s]\n",
      "Generating images:   5%|▍         | 113/2478 [33:48<11:54:29, 18.13s/images]"
     ]
    },
    {
     "name": "stdout",
     "output_type": "stream",
     "text": [
      "Prompt: \n",
      " A medium shot view of a white cardboard box with red tape from the Coolblue webshop, in front of a street background, the weather is snowy, high photorealistic quality.\n"
     ]
    },
    {
     "name": "stderr",
     "output_type": "stream",
     "text": [
      "100%|██████████| 15/15 [00:16<00:00,  1.13s/it]\n",
      "Generating images:   5%|▍         | 114/2478 [34:09<12:25:41, 18.93s/images]"
     ]
    },
    {
     "name": "stdout",
     "output_type": "stream",
     "text": [
      "Prompt: \n",
      " A medium shot view of a happy boy holding a black cardboard box with a number from the Coolblue webshop in his hands, standing in front of a busy city street and people background, the weather is rainy, high photorealistic quality.\n"
     ]
    },
    {
     "name": "stderr",
     "output_type": "stream",
     "text": [
      "100%|██████████| 15/15 [00:17<00:00,  1.16s/it]\n",
      "Generating images:   5%|▍         | 115/2478 [34:29<12:45:04, 19.43s/images]"
     ]
    },
    {
     "name": "stdout",
     "output_type": "stream",
     "text": [
      "Prompt: \n",
      " A medium shot view of a black cardboard box with green tape from the Amazon webshop, in front of a busy city street and people background, the weather is sunny, high photorealistic quality.\n"
     ]
    },
    {
     "name": "stderr",
     "output_type": "stream",
     "text": [
      "100%|██████████| 15/15 [00:21<00:00,  1.41s/it]\n",
      "Generating images:   5%|▍         | 116/2478 [34:54<13:46:58, 21.01s/images]"
     ]
    },
    {
     "name": "stdout",
     "output_type": "stream",
     "text": [
      "Prompt: \n",
      " A medium shot view of a frowning woman holding a brown cardboard box with green tape from a webshop in her hands, standing in front of a garbage curb background, the weather is rainy, high photorealistic quality.\n"
     ]
    },
    {
     "name": "stderr",
     "output_type": "stream",
     "text": [
      "100%|██████████| 15/15 [00:20<00:00,  1.34s/it]\n",
      "Generating images:   5%|▍         | 117/2478 [35:18<14:19:42, 21.85s/images]"
     ]
    },
    {
     "name": "stdout",
     "output_type": "stream",
     "text": [
      "Prompt: \n",
      " A medium shot view of a colorful cardboard box with red tape from the Zara webshop, in front of a busy city street and people background, the weather is snowy, high photorealistic quality.\n"
     ]
    },
    {
     "name": "stderr",
     "output_type": "stream",
     "text": [
      "100%|██████████| 15/15 [00:15<00:00,  1.04s/it]\n",
      "Generating images:   5%|▍         | 118/2478 [35:36<13:43:22, 20.93s/images]"
     ]
    },
    {
     "name": "stdout",
     "output_type": "stream",
     "text": [
      "Prompt: \n",
      " A medium shot view of a sad person holding a black cardboard box with green tape from the Adidas webshop in her hands, standing in front of a busy city street and cars background, the weather is snowy, high photorealistic quality.\n"
     ]
    },
    {
     "name": "stderr",
     "output_type": "stream",
     "text": [
      "100%|██████████| 15/15 [00:16<00:00,  1.08s/it]\n",
      "Generating images:   5%|▍         | 119/2478 [35:56<13:32:03, 20.65s/images]"
     ]
    },
    {
     "name": "stdout",
     "output_type": "stream",
     "text": [
      "Prompt: \n",
      " A medium shot view of a brown cardboard box with blue tape from the Nike webshop, in front of a street background, the weather is snowy, high photorealistic quality.\n"
     ]
    },
    {
     "name": "stderr",
     "output_type": "stream",
     "text": [
      "100%|██████████| 15/15 [00:14<00:00,  1.03it/s]\n",
      "Generating images:   5%|▍         | 120/2478 [36:14<12:53:26, 19.68s/images]"
     ]
    },
    {
     "name": "stdout",
     "output_type": "stream",
     "text": [
      "Prompt: \n",
      " A medium shot view of an angry boy holding a white cardboard box with yellow tape from the Zara webshop in his hands, standing in front of a street background, the weather is cloudy, high photorealistic quality.\n"
     ]
    },
    {
     "name": "stderr",
     "output_type": "stream",
     "text": [
      "100%|██████████| 15/15 [00:13<00:00,  1.09it/s]\n",
      "Generating images:   5%|▍         | 121/2478 [36:30<12:14:07, 18.69s/images]"
     ]
    },
    {
     "name": "stdout",
     "output_type": "stream",
     "text": [
      "Prompt: \n",
      " A medium shot view of a white cardboard box with red tape from a webshop, in front of a busy city street and cars background, the weather is cloudy, high photorealistic quality.\n"
     ]
    },
    {
     "name": "stderr",
     "output_type": "stream",
     "text": [
      "100%|██████████| 15/15 [00:13<00:00,  1.09it/s]\n",
      "Generating images:   5%|▍         | 122/2478 [36:47<11:48:07, 18.03s/images]"
     ]
    },
    {
     "name": "stdout",
     "output_type": "stream",
     "text": [
      "Prompt: \n",
      " A medium shot view of a happy lady holding a brown cardboard box with black tape from the Amazon webshop in her hands, standing in front of a busy city street and cars background, the weather is snowy, high photorealistic quality.\n"
     ]
    },
    {
     "name": "stderr",
     "output_type": "stream",
     "text": [
      "100%|██████████| 15/15 [00:13<00:00,  1.09it/s]\n",
      "Generating images:   5%|▍         | 123/2478 [37:03<11:28:28, 17.54s/images]"
     ]
    },
    {
     "name": "stdout",
     "output_type": "stream",
     "text": [
      "Prompt: \n",
      " A medium shot view of a black cardboard box with green tape from the Adidas webshop, in front of a appartment building background, the weather is cloudy, high photorealistic quality.\n"
     ]
    },
    {
     "name": "stderr",
     "output_type": "stream",
     "text": [
      "100%|██████████| 15/15 [00:13<00:00,  1.10it/s]\n",
      "Generating images:   5%|▌         | 124/2478 [37:19<11:12:19, 17.14s/images]"
     ]
    },
    {
     "name": "stdout",
     "output_type": "stream",
     "text": [
      "Prompt: \n",
      " A medium shot view of a frowning woman holding a black cardboard box with a number from the Zara webshop in her hands, standing in front of a busy city street and people background, the weather is snowy, high photorealistic quality.\n"
     ]
    },
    {
     "name": "stderr",
     "output_type": "stream",
     "text": [
      "100%|██████████| 15/15 [00:13<00:00,  1.09it/s]\n",
      "Generating images:   5%|▌         | 125/2478 [37:36<11:02:45, 16.90s/images]"
     ]
    },
    {
     "name": "stdout",
     "output_type": "stream",
     "text": [
      "Prompt: \n",
      " A medium shot view of a colorful cardboard box with black tape from the Nike webshop, in front of a doorstep of a house background, the weather is snowy, high photorealistic quality.\n"
     ]
    },
    {
     "name": "stderr",
     "output_type": "stream",
     "text": [
      "100%|██████████| 15/15 [00:13<00:00,  1.10it/s]\n",
      "Generating images:   5%|▌         | 126/2478 [37:52<10:54:28, 16.70s/images]"
     ]
    },
    {
     "name": "stdout",
     "output_type": "stream",
     "text": [
      "Prompt: \n",
      " A medium shot view of a smiling person holding a black cardboard box with a number from a webshop in her hands, standing in front of a busy city street and people background, the weather is rainy, high photorealistic quality.\n"
     ]
    },
    {
     "name": "stderr",
     "output_type": "stream",
     "text": [
      "100%|██████████| 15/15 [00:13<00:00,  1.10it/s]\n",
      "Generating images:   5%|▌         | 127/2478 [38:08<10:49:25, 16.57s/images]"
     ]
    },
    {
     "name": "stdout",
     "output_type": "stream",
     "text": [
      "Prompt: \n",
      " A medium shot view of a black cardboard box with a barcode from the Nike webshop, in front of a busy city street and people background, the weather is cloudy, high photorealistic quality.\n"
     ]
    },
    {
     "name": "stderr",
     "output_type": "stream",
     "text": [
      "100%|██████████| 15/15 [00:13<00:00,  1.08it/s]\n",
      "Generating images:   5%|▌         | 128/2478 [38:25<10:48:45, 16.56s/images]"
     ]
    },
    {
     "name": "stdout",
     "output_type": "stream",
     "text": [
      "Prompt: \n",
      " A medium shot view of a young woman holding a black cardboard box with yellow tape from the Amazon webshop in her hands, standing in front of a doorstep of a house background, the weather is cloudy, high photorealistic quality.\n"
     ]
    },
    {
     "name": "stderr",
     "output_type": "stream",
     "text": [
      "100%|██████████| 15/15 [00:14<00:00,  1.07it/s]\n",
      "Generating images:   5%|▌         | 129/2478 [38:42<10:51:42, 16.65s/images]"
     ]
    },
    {
     "name": "stdout",
     "output_type": "stream",
     "text": [
      "Prompt: \n",
      " A medium shot view of a brown cardboard box with a number from the Adidas webshop, in front of a quite neighborhood street and garden background, the weather is cloudy, high photorealistic quality.\n"
     ]
    },
    {
     "name": "stderr",
     "output_type": "stream",
     "text": [
      "100%|██████████| 15/15 [00:13<00:00,  1.08it/s]\n",
      "Generating images:   5%|▌         | 130/2478 [38:58<10:49:20, 16.59s/images]"
     ]
    },
    {
     "name": "stdout",
     "output_type": "stream",
     "text": [
      "Prompt: \n",
      " A medium shot view of a smiling woman holding a brown cardboard box with red tape from the Amazon webshop in her hands, standing in front of a doorstep of a house background, the weather is rainy, high photorealistic quality.\n"
     ]
    },
    {
     "name": "stderr",
     "output_type": "stream",
     "text": [
      "100%|██████████| 15/15 [00:13<00:00,  1.10it/s]\n",
      "Generating images:   5%|▌         | 131/2478 [39:14<10:45:13, 16.49s/images]"
     ]
    },
    {
     "name": "stdout",
     "output_type": "stream",
     "text": [
      "Prompt: \n",
      " A medium shot view of a brown cardboard box with yellow tape from the Adidas webshop, in front of a quite neighborhood street and cars background, the weather is snowy, high photorealistic quality.\n"
     ]
    },
    {
     "name": "stderr",
     "output_type": "stream",
     "text": [
      "100%|██████████| 15/15 [00:13<00:00,  1.11it/s]\n",
      "Generating images:   5%|▌         | 132/2478 [39:30<10:40:27, 16.38s/images]"
     ]
    },
    {
     "name": "stdout",
     "output_type": "stream",
     "text": [
      "Prompt: \n",
      " A medium shot view of a smiling person holding a colorful cardboard box with red tape from the Nike webshop in her hands, standing in front of a quite neighborhood street and cars background, the weather is snowy, high photorealistic quality.\n"
     ]
    },
    {
     "name": "stderr",
     "output_type": "stream",
     "text": [
      "100%|██████████| 15/15 [00:13<00:00,  1.10it/s]\n",
      "Generating images:   5%|▌         | 133/2478 [39:47<10:38:41, 16.34s/images]"
     ]
    },
    {
     "name": "stdout",
     "output_type": "stream",
     "text": [
      "Prompt: \n",
      " A medium shot view of a black cardboard box with black tape from the Adidas webshop, in front of a doorstep of a house background, the weather is sunny, high photorealistic quality.\n"
     ]
    },
    {
     "name": "stderr",
     "output_type": "stream",
     "text": [
      "100%|██████████| 15/15 [00:13<00:00,  1.10it/s]\n",
      "Generating images:   5%|▌         | 134/2478 [40:03<10:37:13, 16.31s/images]"
     ]
    },
    {
     "name": "stdout",
     "output_type": "stream",
     "text": [
      "Prompt: \n",
      " A medium shot view of a sad person holding a brown cardboard box with black tape from a webshop in her hands, standing in front of a quite neighborhood street and trees background, the weather is cloudy, high photorealistic quality.\n"
     ]
    },
    {
     "name": "stderr",
     "output_type": "stream",
     "text": [
      "100%|██████████| 15/15 [00:13<00:00,  1.11it/s]\n",
      "Generating images:   5%|▌         | 135/2478 [40:19<10:34:57, 16.26s/images]"
     ]
    },
    {
     "name": "stdout",
     "output_type": "stream",
     "text": [
      "Prompt: \n",
      " A medium shot view of a brown cardboard box with green tape from the Adidas webshop, in front of a city center background, the weather is sunny, high photorealistic quality.\n"
     ]
    },
    {
     "name": "stderr",
     "output_type": "stream",
     "text": [
      "100%|██████████| 15/15 [00:13<00:00,  1.09it/s]\n",
      "Generating images:   5%|▌         | 136/2478 [40:35<10:34:41, 16.26s/images]"
     ]
    },
    {
     "name": "stdout",
     "output_type": "stream",
     "text": [
      "Prompt: \n",
      " A medium shot view of a smiling person holding a white cardboard box with green tape from the Zara webshop in her hands, standing in front of a doorstep of a house background, the weather is cloudy, high photorealistic quality.\n"
     ]
    },
    {
     "name": "stderr",
     "output_type": "stream",
     "text": [
      "100%|██████████| 15/15 [00:13<00:00,  1.10it/s]\n",
      "Generating images:   6%|▌         | 137/2478 [40:52<10:34:30, 16.26s/images]"
     ]
    },
    {
     "name": "stdout",
     "output_type": "stream",
     "text": [
      "Prompt: \n",
      " A medium shot view of a black cardboard box with a barcode from a webshop, in front of a quite neighborhood street and cars background, the weather is snowy, high photorealistic quality.\n"
     ]
    },
    {
     "name": "stderr",
     "output_type": "stream",
     "text": [
      "100%|██████████| 15/15 [00:14<00:00,  1.03it/s]\n",
      "Generating images:   6%|▌         | 138/2478 [41:09<10:48:03, 16.62s/images]"
     ]
    },
    {
     "name": "stdout",
     "output_type": "stream",
     "text": [
      "Prompt: \n",
      " A medium shot view of an old woman holding a white cardboard box with blue tape from a webshop in her hands, standing in front of a quite neighborhood street and cars background, the weather is rainy, high photorealistic quality.\n"
     ]
    },
    {
     "name": "stderr",
     "output_type": "stream",
     "text": [
      "100%|██████████| 15/15 [00:14<00:00,  1.07it/s]\n",
      "Generating images:   6%|▌         | 139/2478 [41:26<10:47:36, 16.61s/images]"
     ]
    },
    {
     "name": "stdout",
     "output_type": "stream",
     "text": [
      "Prompt: \n",
      " A medium shot view of a colorful cardboard box with black tape from the Coolblue webshop, in front of a quite neighborhood street and garden background, the weather is cloudy, high photorealistic quality.\n"
     ]
    },
    {
     "name": "stderr",
     "output_type": "stream",
     "text": [
      "100%|██████████| 15/15 [00:13<00:00,  1.10it/s]\n",
      "Generating images:   6%|▌         | 140/2478 [41:42<10:43:10, 16.51s/images]"
     ]
    },
    {
     "name": "stdout",
     "output_type": "stream",
     "text": [
      "Prompt: \n",
      " A medium shot view of a young man holding a brown cardboard box with black tape from the Nike webshop in his hands, standing in front of a appartment building background, the weather is cloudy, high photorealistic quality.\n"
     ]
    },
    {
     "name": "stderr",
     "output_type": "stream",
     "text": [
      "100%|██████████| 15/15 [00:13<00:00,  1.09it/s]\n",
      "Generating images:   6%|▌         | 141/2478 [41:58<10:40:58, 16.46s/images]"
     ]
    },
    {
     "name": "stdout",
     "output_type": "stream",
     "text": [
      "Prompt: \n",
      " A medium shot view of a colorful cardboard box with a number from the Amazon webshop, in front of a busy city street and cars background, the weather is cloudy, high photorealistic quality.\n"
     ]
    },
    {
     "name": "stderr",
     "output_type": "stream",
     "text": [
      "100%|██████████| 15/15 [00:14<00:00,  1.02it/s]\n",
      "Generating images:   6%|▌         | 142/2478 [42:16<10:52:22, 16.76s/images]"
     ]
    },
    {
     "name": "stdout",
     "output_type": "stream",
     "text": [
      "Prompt: \n",
      " A medium shot view of a happy lady holding a brown cardboard box with a qr code from the Amazon webshop in her hands, standing in front of a busy city street and people background, the weather is snowy, high photorealistic quality.\n"
     ]
    },
    {
     "name": "stderr",
     "output_type": "stream",
     "text": [
      "100%|██████████| 15/15 [00:13<00:00,  1.11it/s]\n",
      "Generating images:   6%|▌         | 143/2478 [42:32<10:44:47, 16.57s/images]"
     ]
    },
    {
     "name": "stdout",
     "output_type": "stream",
     "text": [
      "Prompt: \n",
      " A medium shot view of a black cardboard box with yellow tape from the Nike webshop, in front of a quite neighborhood street and garden background, the weather is rainy, high photorealistic quality.\n"
     ]
    },
    {
     "name": "stderr",
     "output_type": "stream",
     "text": [
      "100%|██████████| 15/15 [00:13<00:00,  1.11it/s]\n",
      "Generating images:   6%|▌         | 144/2478 [42:48<10:39:20, 16.44s/images]"
     ]
    },
    {
     "name": "stdout",
     "output_type": "stream",
     "text": [
      "Prompt: \n",
      " A medium shot view of a sad man holding a colorful cardboard box with blue tape from the Nike webshop in his hands, standing in front of a appartment building background, the weather is snowy, high photorealistic quality.\n"
     ]
    },
    {
     "name": "stderr",
     "output_type": "stream",
     "text": [
      "100%|██████████| 15/15 [00:13<00:00,  1.10it/s]\n",
      "Generating images:   6%|▌         | 145/2478 [43:04<10:36:07, 16.36s/images]"
     ]
    },
    {
     "name": "stdout",
     "output_type": "stream",
     "text": [
      "Prompt: \n",
      " A medium shot view of a white cardboard box with a number from the Zara webshop, in front of a appartment building background, the weather is rainy, high photorealistic quality.\n"
     ]
    },
    {
     "name": "stderr",
     "output_type": "stream",
     "text": [
      "100%|██████████| 15/15 [00:13<00:00,  1.08it/s]\n",
      "Generating images:   6%|▌         | 146/2478 [43:21<10:40:29, 16.48s/images]"
     ]
    },
    {
     "name": "stdout",
     "output_type": "stream",
     "text": [
      "Prompt: \n",
      " A medium shot view of a young woman holding a black cardboard box with a barcode from the Nike webshop in her hands, standing in front of a busy city street and people background, the weather is rainy, high photorealistic quality.\n"
     ]
    },
    {
     "name": "stderr",
     "output_type": "stream",
     "text": [
      "100%|██████████| 15/15 [00:13<00:00,  1.07it/s]\n",
      "Generating images:   6%|▌         | 147/2478 [43:38<10:43:37, 16.57s/images]"
     ]
    },
    {
     "name": "stdout",
     "output_type": "stream",
     "text": [
      "Prompt: \n",
      " A medium shot view of a brown cardboard box with yellow tape from the Zara webshop, in front of a busy city street and people background, the weather is sunny, high photorealistic quality.\n"
     ]
    },
    {
     "name": "stderr",
     "output_type": "stream",
     "text": [
      "100%|██████████| 15/15 [00:14<00:00,  1.03it/s]\n",
      "Generating images:   6%|▌         | 148/2478 [43:56<10:58:33, 16.96s/images]"
     ]
    },
    {
     "name": "stdout",
     "output_type": "stream",
     "text": [
      "Prompt: \n",
      " A medium shot view of a happy boy holding a colorful cardboard box with yellow tape from the Nike webshop in his hands, standing in front of a quite neighborhood street and cars background, the weather is rainy, high photorealistic quality.\n"
     ]
    },
    {
     "name": "stderr",
     "output_type": "stream",
     "text": [
      "100%|██████████| 15/15 [00:20<00:00,  1.34s/it]\n",
      "Generating images:   6%|▌         | 149/2478 [44:19<12:15:38, 18.95s/images]"
     ]
    },
    {
     "name": "stdout",
     "output_type": "stream",
     "text": [
      "Prompt: \n",
      " A medium shot view of a brown cardboard box with blue tape from the Nike webshop, in front of a quite neighborhood street and garden background, the weather is cloudy, high photorealistic quality.\n"
     ]
    },
    {
     "name": "stderr",
     "output_type": "stream",
     "text": [
      "100%|██████████| 15/15 [00:18<00:00,  1.27s/it]\n",
      "Generating images:   6%|▌         | 150/2478 [44:41<12:53:33, 19.94s/images]"
     ]
    },
    {
     "name": "stdout",
     "output_type": "stream",
     "text": [
      "Prompt: \n",
      " A medium shot view of a young man holding a brown cardboard box with a qr code from the Amazon webshop in his hands, standing in front of a doorstep of a house background, the weather is snowy, high photorealistic quality.\n"
     ]
    },
    {
     "name": "stderr",
     "output_type": "stream",
     "text": [
      "100%|██████████| 15/15 [00:18<00:00,  1.25s/it]\n",
      "Generating images:   6%|▌         | 151/2478 [45:03<13:18:01, 20.58s/images]"
     ]
    },
    {
     "name": "stdout",
     "output_type": "stream",
     "text": [
      "Prompt: \n",
      " A medium shot view of a colorful cardboard box with green tape from the Zara webshop, in front of a city center background, the weather is rainy, high photorealistic quality.\n"
     ]
    },
    {
     "name": "stderr",
     "output_type": "stream",
     "text": [
      "100%|██████████| 15/15 [00:18<00:00,  1.26s/it]\n",
      "Generating images:   6%|▌         | 152/2478 [45:26<13:35:44, 21.04s/images]"
     ]
    },
    {
     "name": "stdout",
     "output_type": "stream",
     "text": [
      "Prompt: \n",
      " A medium shot view of a young person holding a black cardboard box with yellow tape from the Zara webshop in her hands, standing in front of a busy city street and people background, the weather is rainy, high photorealistic quality.\n"
     ]
    },
    {
     "name": "stderr",
     "output_type": "stream",
     "text": [
      "100%|██████████| 15/15 [00:18<00:00,  1.26s/it]\n",
      "Generating images:   6%|▌         | 153/2478 [45:48<13:49:07, 21.40s/images]"
     ]
    },
    {
     "name": "stdout",
     "output_type": "stream",
     "text": [
      "Prompt: \n",
      " A medium shot view of a brown cardboard box with a qr code from a webshop, in front of a garbage curb background, the weather is snowy, high photorealistic quality.\n"
     ]
    },
    {
     "name": "stderr",
     "output_type": "stream",
     "text": [
      "100%|██████████| 15/15 [00:18<00:00,  1.27s/it]\n",
      "Generating images:   6%|▌         | 154/2478 [46:10<14:01:57, 21.74s/images]"
     ]
    },
    {
     "name": "stdout",
     "output_type": "stream",
     "text": [
      "Prompt: \n",
      " A medium shot view of an old person holding a black cardboard box with a number from the Zara webshop in her hands, standing in front of a quite neighborhood street and cars background, the weather is snowy, high photorealistic quality.\n"
     ]
    },
    {
     "name": "stderr",
     "output_type": "stream",
     "text": [
      "100%|██████████| 15/15 [00:18<00:00,  1.26s/it]\n",
      "Generating images:   6%|▋         | 155/2478 [46:33<14:08:02, 21.90s/images]"
     ]
    },
    {
     "name": "stdout",
     "output_type": "stream",
     "text": [
      "Prompt: \n",
      " A medium shot view of a black cardboard box with yellow tape from the Zara webshop, in front of a street background, the weather is cloudy, high photorealistic quality.\n"
     ]
    },
    {
     "name": "stderr",
     "output_type": "stream",
     "text": [
      "100%|██████████| 15/15 [00:19<00:00,  1.32s/it]\n",
      "Generating images:   6%|▋         | 156/2478 [46:56<14:24:13, 22.33s/images]"
     ]
    },
    {
     "name": "stdout",
     "output_type": "stream",
     "text": [
      "Prompt: \n",
      " A medium shot view of an angry lady holding a brown cardboard box with red tape from the Amazon webshop in her hands, standing in front of a quite neighborhood street and cars background, the weather is sunny, high photorealistic quality.\n"
     ]
    },
    {
     "name": "stderr",
     "output_type": "stream",
     "text": [
      "100%|██████████| 15/15 [00:19<00:00,  1.28s/it]\n",
      "Generating images:   6%|▋         | 157/2478 [47:19<14:28:05, 22.44s/images]"
     ]
    },
    {
     "name": "stdout",
     "output_type": "stream",
     "text": [
      "Prompt: \n",
      " A medium shot view of a white cardboard box with blue tape from the Adidas webshop, in front of a busy city street and cars background, the weather is cloudy, high photorealistic quality.\n"
     ]
    },
    {
     "name": "stderr",
     "output_type": "stream",
     "text": [
      "100%|██████████| 15/15 [00:19<00:00,  1.31s/it]\n",
      "Generating images:   6%|▋         | 158/2478 [47:42<14:36:14, 22.66s/images]"
     ]
    },
    {
     "name": "stdout",
     "output_type": "stream",
     "text": [
      "Prompt: \n",
      " A medium shot view of an angry boy holding a black cardboard box with a number from the Nike webshop in his hands, standing in front of a doorstep of a house background, the weather is snowy, high photorealistic quality.\n"
     ]
    },
    {
     "name": "stderr",
     "output_type": "stream",
     "text": [
      "100%|██████████| 15/15 [00:20<00:00,  1.34s/it]\n",
      "Generating images:   6%|▋         | 159/2478 [48:05<14:47:18, 22.96s/images]"
     ]
    },
    {
     "name": "stdout",
     "output_type": "stream",
     "text": [
      "Prompt: \n",
      " A medium shot view of a white cardboard box with a number from the Adidas webshop, in front of a doorstep of a house background, the weather is cloudy, high photorealistic quality.\n"
     ]
    },
    {
     "name": "stderr",
     "output_type": "stream",
     "text": [
      "100%|██████████| 15/15 [00:19<00:00,  1.28s/it]\n",
      "Generating images:   6%|▋         | 160/2478 [48:28<14:42:30, 22.84s/images]"
     ]
    },
    {
     "name": "stdout",
     "output_type": "stream",
     "text": [
      "Prompt: \n",
      " A medium shot view of a smiling person holding a black cardboard box with a barcode from the Coolblue webshop in her hands, standing in front of a quite neighborhood street and garden background, the weather is rainy, high photorealistic quality.\n"
     ]
    },
    {
     "name": "stderr",
     "output_type": "stream",
     "text": [
      "100%|██████████| 15/15 [00:19<00:00,  1.27s/it]\n",
      "Generating images:   6%|▋         | 161/2478 [48:51<14:39:05, 22.76s/images]"
     ]
    },
    {
     "name": "stdout",
     "output_type": "stream",
     "text": [
      "Prompt: \n",
      " A medium shot view of a black cardboard box with green tape from the Amazon webshop, in front of a street background, the weather is snowy, high photorealistic quality.\n"
     ]
    },
    {
     "name": "stderr",
     "output_type": "stream",
     "text": [
      "100%|██████████| 15/15 [00:20<00:00,  1.35s/it]\n",
      "Generating images:   7%|▋         | 162/2478 [49:14<14:51:23, 23.09s/images]"
     ]
    },
    {
     "name": "stdout",
     "output_type": "stream",
     "text": [
      "Prompt: \n",
      " A medium shot view of a sad lady holding a white cardboard box with yellow tape from the Zara webshop in her hands, standing in front of a appartment building background, the weather is snowy, high photorealistic quality.\n"
     ]
    },
    {
     "name": "stderr",
     "output_type": "stream",
     "text": [
      "100%|██████████| 15/15 [00:18<00:00,  1.25s/it]\n",
      "Generating images:   7%|▋         | 163/2478 [49:36<14:37:06, 22.73s/images]"
     ]
    },
    {
     "name": "stdout",
     "output_type": "stream",
     "text": [
      "Prompt: \n",
      " A medium shot view of a colorful cardboard box with red tape from the Zara webshop, in front of a garbage curb background, the weather is rainy, high photorealistic quality.\n"
     ]
    },
    {
     "name": "stderr",
     "output_type": "stream",
     "text": [
      "100%|██████████| 15/15 [00:15<00:00,  1.03s/it]\n",
      "Generating images:   7%|▋         | 164/2478 [49:55<13:44:05, 21.37s/images]"
     ]
    },
    {
     "name": "stdout",
     "output_type": "stream",
     "text": [
      "Prompt: \n",
      " A medium shot view of an old person holding a white cardboard box with a number from the Zara webshop in her hands, standing in front of a appartment building background, the weather is snowy, high photorealistic quality.\n"
     ]
    },
    {
     "name": "stderr",
     "output_type": "stream",
     "text": [
      "100%|██████████| 15/15 [00:14<00:00,  1.06it/s]\n",
      "Generating images:   7%|▋         | 165/2478 [50:11<12:50:34, 19.99s/images]"
     ]
    },
    {
     "name": "stdout",
     "output_type": "stream",
     "text": [
      "Prompt: \n",
      " A medium shot view of a black cardboard box with green tape from the Amazon webshop, in front of a quite neighborhood street and garden background, the weather is cloudy, high photorealistic quality.\n"
     ]
    },
    {
     "name": "stderr",
     "output_type": "stream",
     "text": [
      "100%|██████████| 15/15 [00:13<00:00,  1.11it/s]\n",
      "Generating images:   7%|▋         | 166/2478 [50:28<12:05:59, 18.84s/images]"
     ]
    },
    {
     "name": "stdout",
     "output_type": "stream",
     "text": [
      "Prompt: \n",
      " A medium shot view of a happy woman holding a brown cardboard box with red tape from a webshop in her hands, standing in front of a quite neighborhood street and garden background, the weather is snowy, high photorealistic quality.\n"
     ]
    },
    {
     "name": "stderr",
     "output_type": "stream",
     "text": [
      "100%|██████████| 15/15 [00:13<00:00,  1.09it/s]\n",
      "Generating images:   7%|▋         | 167/2478 [50:44<11:36:51, 18.09s/images]"
     ]
    },
    {
     "name": "stdout",
     "output_type": "stream",
     "text": [
      "Prompt: \n",
      " A medium shot view of a white cardboard box with red tape from the Zara webshop, in front of a garbage curb background, the weather is rainy, high photorealistic quality.\n"
     ]
    },
    {
     "name": "stderr",
     "output_type": "stream",
     "text": [
      "100%|██████████| 15/15 [00:13<00:00,  1.09it/s]\n",
      "Generating images:   7%|▋         | 168/2478 [51:00<11:16:40, 17.58s/images]"
     ]
    },
    {
     "name": "stdout",
     "output_type": "stream",
     "text": [
      "Prompt: \n",
      " A medium shot view of a frowning person holding a colorful cardboard box with red tape from a webshop in her hands, standing in front of a city center background, the weather is snowy, high photorealistic quality.\n"
     ]
    },
    {
     "name": "stderr",
     "output_type": "stream",
     "text": [
      "100%|██████████| 15/15 [00:13<00:00,  1.11it/s]\n",
      "Generating images:   7%|▋         | 169/2478 [51:16<10:59:44, 17.14s/images]"
     ]
    },
    {
     "name": "stdout",
     "output_type": "stream",
     "text": [
      "Prompt: \n",
      " A medium shot view of a colorful cardboard box with blue tape from the Coolblue webshop, in front of a appartment building background, the weather is rainy, high photorealistic quality.\n"
     ]
    },
    {
     "name": "stderr",
     "output_type": "stream",
     "text": [
      "100%|██████████| 15/15 [00:13<00:00,  1.09it/s]\n",
      "Generating images:   7%|▋         | 170/2478 [51:33<10:49:59, 16.90s/images]"
     ]
    },
    {
     "name": "stdout",
     "output_type": "stream",
     "text": [
      "Prompt: \n",
      " A medium shot view of a sad lady holding a brown cardboard box with red tape from the Nike webshop in her hands, standing in front of a busy city street and people background, the weather is cloudy, high photorealistic quality.\n"
     ]
    },
    {
     "name": "stderr",
     "output_type": "stream",
     "text": [
      "100%|██████████| 15/15 [00:14<00:00,  1.05it/s]\n",
      "Generating images:   7%|▋         | 171/2478 [51:50<10:52:13, 16.96s/images]"
     ]
    },
    {
     "name": "stdout",
     "output_type": "stream",
     "text": [
      "Prompt: \n",
      " A medium shot view of a brown cardboard box with a qr code from the Amazon webshop, in front of a quite neighborhood street and trees background, the weather is rainy, high photorealistic quality.\n"
     ]
    },
    {
     "name": "stderr",
     "output_type": "stream",
     "text": [
      "100%|██████████| 15/15 [00:14<00:00,  1.05it/s]\n",
      "Generating images:   7%|▋         | 172/2478 [52:07<10:52:13, 16.97s/images]"
     ]
    },
    {
     "name": "stdout",
     "output_type": "stream",
     "text": [
      "Prompt: \n",
      " A medium shot view of an angry person holding a brown cardboard box with yellow tape from a webshop in her hands, standing in front of a quite neighborhood street and trees background, the weather is snowy, high photorealistic quality.\n"
     ]
    },
    {
     "name": "stderr",
     "output_type": "stream",
     "text": [
      "100%|██████████| 15/15 [00:14<00:00,  1.05it/s]\n",
      "Generating images:   7%|▋         | 173/2478 [52:24<10:51:18, 16.95s/images]"
     ]
    },
    {
     "name": "stdout",
     "output_type": "stream",
     "text": [
      "Prompt: \n",
      " A medium shot view of a colorful cardboard box with yellow tape from the Zara webshop, in front of a quite neighborhood street and garden background, the weather is sunny, high photorealistic quality.\n"
     ]
    },
    {
     "name": "stderr",
     "output_type": "stream",
     "text": [
      "100%|██████████| 15/15 [00:13<00:00,  1.10it/s]\n",
      "Generating images:   7%|▋         | 174/2478 [52:40<10:44:31, 16.78s/images]"
     ]
    },
    {
     "name": "stdout",
     "output_type": "stream",
     "text": [
      "Prompt: \n",
      " A medium shot view of a young man holding a black cardboard box with a barcode from the Amazon webshop in his hands, standing in front of a quite neighborhood street and cars background, the weather is cloudy, high photorealistic quality.\n"
     ]
    },
    {
     "name": "stderr",
     "output_type": "stream",
     "text": [
      "100%|██████████| 15/15 [00:15<00:00,  1.00s/it]\n",
      "Generating images:   7%|▋         | 175/2478 [52:58<10:57:08, 17.12s/images]"
     ]
    },
    {
     "name": "stdout",
     "output_type": "stream",
     "text": [
      "Prompt: \n",
      " A medium shot view of a white cardboard box with a qr code from the Nike webshop, in front of a city center background, the weather is rainy, high photorealistic quality.\n"
     ]
    },
    {
     "name": "stderr",
     "output_type": "stream",
     "text": [
      "100%|██████████| 15/15 [00:14<00:00,  1.03it/s]\n",
      "Generating images:   7%|▋         | 176/2478 [53:15<10:57:58, 17.15s/images]"
     ]
    },
    {
     "name": "stdout",
     "output_type": "stream",
     "text": [
      "Prompt: \n",
      " A medium shot view of a frowning man holding a brown cardboard box with a number from the Zara webshop in his hands, standing in front of a city center background, the weather is rainy, high photorealistic quality.\n"
     ]
    },
    {
     "name": "stderr",
     "output_type": "stream",
     "text": [
      "100%|██████████| 15/15 [00:14<00:00,  1.03it/s]\n",
      "Generating images:   7%|▋         | 177/2478 [53:33<11:00:05, 17.21s/images]"
     ]
    },
    {
     "name": "stdout",
     "output_type": "stream",
     "text": [
      "Prompt: \n",
      " A medium shot view of a brown cardboard box with green tape from the Zara webshop, in front of a garbage curb background, the weather is snowy, high photorealistic quality.\n"
     ]
    },
    {
     "name": "stderr",
     "output_type": "stream",
     "text": [
      "100%|██████████| 15/15 [00:14<00:00,  1.04it/s]\n",
      "Generating images:   7%|▋         | 178/2478 [53:50<11:00:20, 17.23s/images]"
     ]
    },
    {
     "name": "stdout",
     "output_type": "stream",
     "text": [
      "Prompt: \n",
      " A medium shot view of a sad person holding a white cardboard box with red tape from the Amazon webshop in her hands, standing in front of a city center background, the weather is sunny, high photorealistic quality.\n"
     ]
    },
    {
     "name": "stderr",
     "output_type": "stream",
     "text": [
      "100%|██████████| 15/15 [00:14<00:00,  1.03it/s]\n",
      "Generating images:   7%|▋         | 179/2478 [54:07<11:00:36, 17.24s/images]"
     ]
    },
    {
     "name": "stdout",
     "output_type": "stream",
     "text": [
      "Prompt: \n",
      " A medium shot view of a white cardboard box with a barcode from the Nike webshop, in front of a busy city street and people background, the weather is snowy, high photorealistic quality.\n"
     ]
    },
    {
     "name": "stderr",
     "output_type": "stream",
     "text": [
      "100%|██████████| 15/15 [00:14<00:00,  1.03it/s]\n",
      "Generating images:   7%|▋         | 180/2478 [54:24<11:00:46, 17.25s/images]"
     ]
    },
    {
     "name": "stdout",
     "output_type": "stream",
     "text": [
      "Prompt: \n",
      " A medium shot view of a sad person holding a white cardboard box with a number from a webshop in her hands, standing in front of a quite neighborhood street and cars background, the weather is cloudy, high photorealistic quality.\n"
     ]
    },
    {
     "name": "stderr",
     "output_type": "stream",
     "text": [
      "100%|██████████| 15/15 [00:14<00:00,  1.04it/s]\n",
      "Generating images:   7%|▋         | 181/2478 [54:42<11:00:09, 17.24s/images]"
     ]
    },
    {
     "name": "stdout",
     "output_type": "stream",
     "text": [
      "Prompt: \n",
      " A medium shot view of a colorful cardboard box with green tape from the Adidas webshop, in front of a quite neighborhood street and trees background, the weather is rainy, high photorealistic quality.\n"
     ]
    },
    {
     "name": "stderr",
     "output_type": "stream",
     "text": [
      "100%|██████████| 15/15 [00:14<00:00,  1.04it/s]\n",
      "Generating images:   7%|▋         | 182/2478 [54:59<10:58:55, 17.22s/images]"
     ]
    },
    {
     "name": "stdout",
     "output_type": "stream",
     "text": [
      "Prompt: \n",
      " A medium shot view of an angry woman holding a colorful cardboard box with red tape from the Zara webshop in her hands, standing in front of a appartment building background, the weather is cloudy, high photorealistic quality.\n"
     ]
    },
    {
     "name": "stderr",
     "output_type": "stream",
     "text": [
      "100%|██████████| 15/15 [00:14<00:00,  1.03it/s]\n",
      "Generating images:   7%|▋         | 183/2478 [55:16<10:58:43, 17.22s/images]"
     ]
    },
    {
     "name": "stdout",
     "output_type": "stream",
     "text": [
      "Prompt: \n",
      " A medium shot view of a black cardboard box with black tape from a webshop, in front of a busy city street and cars background, the weather is rainy, high photorealistic quality.\n"
     ]
    },
    {
     "name": "stderr",
     "output_type": "stream",
     "text": [
      "100%|██████████| 15/15 [00:14<00:00,  1.03it/s]\n",
      "Generating images:   7%|▋         | 184/2478 [55:33<10:59:03, 17.24s/images]"
     ]
    },
    {
     "name": "stdout",
     "output_type": "stream",
     "text": [
      "Prompt: \n",
      " A medium shot view of a smiling man holding a colorful cardboard box with a barcode from the Adidas webshop in his hands, standing in front of a quite neighborhood street and garden background, the weather is rainy, high photorealistic quality.\n"
     ]
    },
    {
     "name": "stderr",
     "output_type": "stream",
     "text": [
      "100%|██████████| 15/15 [00:14<00:00,  1.04it/s]\n",
      "Generating images:   7%|▋         | 185/2478 [55:51<11:00:46, 17.29s/images]"
     ]
    },
    {
     "name": "stdout",
     "output_type": "stream",
     "text": [
      "Prompt: \n",
      " A medium shot view of a white cardboard box with a barcode from the Adidas webshop, in front of a appartment building background, the weather is cloudy, high photorealistic quality.\n"
     ]
    },
    {
     "name": "stderr",
     "output_type": "stream",
     "text": [
      "100%|██████████| 15/15 [00:14<00:00,  1.04it/s]\n",
      "Generating images:   8%|▊         | 186/2478 [56:08<10:59:50, 17.27s/images]"
     ]
    },
    {
     "name": "stdout",
     "output_type": "stream",
     "text": [
      "Prompt: \n",
      " A medium shot view of a sad boy holding a brown cardboard box with black tape from the Zara webshop in his hands, standing in front of a busy city street and cars background, the weather is sunny, high photorealistic quality.\n"
     ]
    },
    {
     "name": "stderr",
     "output_type": "stream",
     "text": [
      "100%|██████████| 15/15 [00:14<00:00,  1.03it/s]\n",
      "Generating images:   8%|▊         | 187/2478 [56:25<10:59:07, 17.26s/images]"
     ]
    },
    {
     "name": "stdout",
     "output_type": "stream",
     "text": [
      "Prompt: \n",
      " A medium shot view of a black cardboard box with green tape from the Zara webshop, in front of a busy city street and cars background, the weather is snowy, high photorealistic quality.\n"
     ]
    },
    {
     "name": "stderr",
     "output_type": "stream",
     "text": [
      "100%|██████████| 15/15 [00:14<00:00,  1.04it/s]\n",
      "Generating images:   8%|▊         | 188/2478 [56:42<10:59:35, 17.28s/images]"
     ]
    },
    {
     "name": "stdout",
     "output_type": "stream",
     "text": [
      "Prompt: \n",
      " A medium shot view of a sad boy holding a black cardboard box with black tape from the Amazon webshop in his hands, standing in front of a quite neighborhood street and trees background, the weather is sunny, high photorealistic quality.\n"
     ]
    },
    {
     "name": "stderr",
     "output_type": "stream",
     "text": [
      "100%|██████████| 15/15 [00:14<00:00,  1.04it/s]\n",
      "Generating images:   8%|▊         | 189/2478 [57:00<10:58:11, 17.25s/images]"
     ]
    },
    {
     "name": "stdout",
     "output_type": "stream",
     "text": [
      "Prompt: \n",
      " A medium shot view of a colorful cardboard box with a qr code from the Zara webshop, in front of a city center background, the weather is cloudy, high photorealistic quality.\n"
     ]
    },
    {
     "name": "stderr",
     "output_type": "stream",
     "text": [
      "100%|██████████| 15/15 [00:14<00:00,  1.03it/s]\n",
      "Generating images:   8%|▊         | 190/2478 [57:17<10:57:31, 17.24s/images]"
     ]
    },
    {
     "name": "stdout",
     "output_type": "stream",
     "text": [
      "Prompt: \n",
      " A medium shot view of an old man holding a black cardboard box with black tape from the Zara webshop in his hands, standing in front of a garbage curb background, the weather is cloudy, high photorealistic quality.\n"
     ]
    },
    {
     "name": "stderr",
     "output_type": "stream",
     "text": [
      "100%|██████████| 15/15 [00:14<00:00,  1.03it/s]\n",
      "Generating images:   8%|▊         | 191/2478 [57:34<10:58:10, 17.27s/images]"
     ]
    },
    {
     "name": "stdout",
     "output_type": "stream",
     "text": [
      "Prompt: \n",
      " A medium shot view of a colorful cardboard box with a number from a webshop, in front of a doorstep of a house background, the weather is rainy, high photorealistic quality.\n"
     ]
    },
    {
     "name": "stderr",
     "output_type": "stream",
     "text": [
      "100%|██████████| 15/15 [00:14<00:00,  1.04it/s]\n",
      "Generating images:   8%|▊         | 192/2478 [57:51<10:56:42, 17.24s/images]"
     ]
    },
    {
     "name": "stdout",
     "output_type": "stream",
     "text": [
      "Prompt: \n",
      " A medium shot view of a sad woman holding a black cardboard box with a qr code from the Coolblue webshop in her hands, standing in front of a garbage curb background, the weather is snowy, high photorealistic quality.\n"
     ]
    },
    {
     "name": "stderr",
     "output_type": "stream",
     "text": [
      "100%|██████████| 15/15 [00:14<00:00,  1.03it/s]\n",
      "Generating images:   8%|▊         | 193/2478 [58:09<10:56:20, 17.23s/images]"
     ]
    },
    {
     "name": "stdout",
     "output_type": "stream",
     "text": [
      "Prompt: \n",
      " A medium shot view of a black cardboard box with a number from the Coolblue webshop, in front of a quite neighborhood street and trees background, the weather is rainy, high photorealistic quality.\n"
     ]
    },
    {
     "name": "stderr",
     "output_type": "stream",
     "text": [
      "100%|██████████| 15/15 [00:14<00:00,  1.03it/s]\n",
      "Generating images:   8%|▊         | 194/2478 [58:26<10:57:33, 17.27s/images]"
     ]
    },
    {
     "name": "stdout",
     "output_type": "stream",
     "text": [
      "Prompt: \n",
      " A medium shot view of a happy lady holding a colorful cardboard box with yellow tape from a webshop in her hands, standing in front of a quite neighborhood street and garden background, the weather is rainy, high photorealistic quality.\n"
     ]
    },
    {
     "name": "stderr",
     "output_type": "stream",
     "text": [
      "100%|██████████| 15/15 [00:14<00:00,  1.03it/s]\n",
      "Generating images:   8%|▊         | 195/2478 [58:43<10:56:53, 17.26s/images]"
     ]
    },
    {
     "name": "stdout",
     "output_type": "stream",
     "text": [
      "Prompt: \n",
      " A medium shot view of a brown cardboard box with a barcode from the Nike webshop, in front of a quite neighborhood street and trees background, the weather is sunny, high photorealistic quality.\n"
     ]
    },
    {
     "name": "stderr",
     "output_type": "stream",
     "text": [
      "100%|██████████| 15/15 [00:14<00:00,  1.03it/s]\n",
      "Generating images:   8%|▊         | 196/2478 [59:00<10:56:40, 17.27s/images]"
     ]
    },
    {
     "name": "stdout",
     "output_type": "stream",
     "text": [
      "Prompt: \n",
      " A medium shot view of an angry lady holding a black cardboard box with yellow tape from the Nike webshop in her hands, standing in front of a doorstep of a house background, the weather is cloudy, high photorealistic quality.\n"
     ]
    },
    {
     "name": "stderr",
     "output_type": "stream",
     "text": [
      "100%|██████████| 15/15 [00:14<00:00,  1.04it/s]\n",
      "Generating images:   8%|▊         | 197/2478 [59:18<10:55:39, 17.25s/images]"
     ]
    },
    {
     "name": "stdout",
     "output_type": "stream",
     "text": [
      "Prompt: \n",
      " A medium shot view of a brown cardboard box with blue tape from a webshop, in front of a busy city street and cars background, the weather is sunny, high photorealistic quality.\n"
     ]
    },
    {
     "name": "stderr",
     "output_type": "stream",
     "text": [
      "100%|██████████| 15/15 [00:14<00:00,  1.04it/s]\n",
      "Generating images:   8%|▊         | 198/2478 [59:35<10:54:41, 17.23s/images]"
     ]
    },
    {
     "name": "stdout",
     "output_type": "stream",
     "text": [
      "Prompt: \n",
      " A medium shot view of a smiling lady holding a black cardboard box with green tape from a webshop in her hands, standing in front of a busy city street and people background, the weather is rainy, high photorealistic quality.\n"
     ]
    },
    {
     "name": "stderr",
     "output_type": "stream",
     "text": [
      "100%|██████████| 15/15 [00:14<00:00,  1.03it/s]\n",
      "Generating images:   8%|▊         | 199/2478 [59:52<10:55:21, 17.25s/images]"
     ]
    },
    {
     "name": "stdout",
     "output_type": "stream",
     "text": [
      "Prompt: \n",
      " A medium shot view of a brown cardboard box with yellow tape from the Zara webshop, in front of a city center background, the weather is cloudy, high photorealistic quality.\n"
     ]
    },
    {
     "name": "stderr",
     "output_type": "stream",
     "text": [
      "100%|██████████| 15/15 [00:14<00:00,  1.04it/s]\n",
      "Generating images:   8%|▊         | 200/2478 [1:00:09<10:54:50, 17.25s/images]"
     ]
    },
    {
     "name": "stdout",
     "output_type": "stream",
     "text": [
      "Prompt: \n",
      " A medium shot view of a smiling person holding a black cardboard box with a barcode from the Amazon webshop in her hands, standing in front of a city center background, the weather is cloudy, high photorealistic quality.\n"
     ]
    },
    {
     "name": "stderr",
     "output_type": "stream",
     "text": [
      "100%|██████████| 15/15 [00:14<00:00,  1.03it/s]\n",
      "Generating images:   8%|▊         | 201/2478 [1:00:27<10:54:54, 17.26s/images]"
     ]
    },
    {
     "name": "stdout",
     "output_type": "stream",
     "text": [
      "Prompt: \n",
      " A medium shot view of a white cardboard box with a barcode from the Adidas webshop, in front of a city center background, the weather is snowy, high photorealistic quality.\n"
     ]
    },
    {
     "name": "stderr",
     "output_type": "stream",
     "text": [
      "100%|██████████| 15/15 [00:14<00:00,  1.04it/s]\n",
      "Generating images:   8%|▊         | 202/2478 [1:00:44<10:54:20, 17.25s/images]"
     ]
    },
    {
     "name": "stdout",
     "output_type": "stream",
     "text": [
      "Prompt: \n",
      " A medium shot view of a frowning man holding a brown cardboard box with yellow tape from the Coolblue webshop in his hands, standing in front of a street background, the weather is cloudy, high photorealistic quality.\n"
     ]
    },
    {
     "name": "stderr",
     "output_type": "stream",
     "text": [
      "100%|██████████| 15/15 [00:14<00:00,  1.02it/s]\n",
      "Generating images:   8%|▊         | 203/2478 [1:01:01<10:57:19, 17.34s/images]"
     ]
    },
    {
     "name": "stdout",
     "output_type": "stream",
     "text": [
      "Prompt: \n",
      " A medium shot view of a brown cardboard box with a barcode from the Amazon webshop, in front of a quite neighborhood street and trees background, the weather is rainy, high photorealistic quality.\n"
     ]
    },
    {
     "name": "stderr",
     "output_type": "stream",
     "text": [
      "100%|██████████| 15/15 [00:14<00:00,  1.04it/s]\n",
      "Generating images:   8%|▊         | 204/2478 [1:01:19<10:57:30, 17.35s/images]"
     ]
    },
    {
     "name": "stdout",
     "output_type": "stream",
     "text": [
      "Prompt: \n",
      " A medium shot view of a young lady holding a brown cardboard box with black tape from the Zara webshop in her hands, standing in front of a quite neighborhood street and cars background, the weather is sunny, high photorealistic quality.\n"
     ]
    },
    {
     "name": "stderr",
     "output_type": "stream",
     "text": [
      "100%|██████████| 15/15 [00:14<00:00,  1.02it/s]\n",
      "Generating images:   8%|▊         | 205/2478 [1:01:36<10:58:27, 17.38s/images]"
     ]
    },
    {
     "name": "stdout",
     "output_type": "stream",
     "text": [
      "Prompt: \n",
      " A medium shot view of a brown cardboard box with green tape from the Adidas webshop, in front of a quite neighborhood street and trees background, the weather is cloudy, high photorealistic quality.\n"
     ]
    },
    {
     "name": "stderr",
     "output_type": "stream",
     "text": [
      "100%|██████████| 15/15 [00:14<00:00,  1.04it/s]\n",
      "Generating images:   8%|▊         | 206/2478 [1:01:53<10:55:59, 17.32s/images]"
     ]
    },
    {
     "name": "stdout",
     "output_type": "stream",
     "text": [
      "Prompt: \n",
      " A medium shot view of a frowning man holding a white cardboard box with a qr code from the Nike webshop in his hands, standing in front of a city center background, the weather is sunny, high photorealistic quality.\n"
     ]
    },
    {
     "name": "stderr",
     "output_type": "stream",
     "text": [
      "100%|██████████| 15/15 [00:14<00:00,  1.04it/s]\n",
      "Generating images:   8%|▊         | 207/2478 [1:02:11<10:54:56, 17.30s/images]"
     ]
    },
    {
     "name": "stdout",
     "output_type": "stream",
     "text": [
      "Prompt: \n",
      " A medium shot view of a black cardboard box with a qr code from a webshop, in front of a appartment building background, the weather is rainy, high photorealistic quality.\n"
     ]
    },
    {
     "name": "stderr",
     "output_type": "stream",
     "text": [
      "100%|██████████| 15/15 [00:14<00:00,  1.03it/s]\n",
      "Generating images:   8%|▊         | 208/2478 [1:02:28<10:53:51, 17.28s/images]"
     ]
    },
    {
     "name": "stdout",
     "output_type": "stream",
     "text": [
      "Prompt: \n",
      " A medium shot view of a smiling man holding a black cardboard box with red tape from a webshop in his hands, standing in front of a doorstep of a house background, the weather is rainy, high photorealistic quality.\n"
     ]
    },
    {
     "name": "stderr",
     "output_type": "stream",
     "text": [
      "100%|██████████| 15/15 [00:14<00:00,  1.03it/s]\n",
      "Generating images:   8%|▊         | 209/2478 [1:02:45<10:53:38, 17.28s/images]"
     ]
    },
    {
     "name": "stdout",
     "output_type": "stream",
     "text": [
      "Prompt: \n",
      " A medium shot view of a brown cardboard box with a number from the Zara webshop, in front of a doorstep of a house background, the weather is cloudy, high photorealistic quality.\n"
     ]
    },
    {
     "name": "stderr",
     "output_type": "stream",
     "text": [
      "100%|██████████| 15/15 [00:14<00:00,  1.03it/s]\n",
      "Generating images:   8%|▊         | 210/2478 [1:03:03<10:53:39, 17.29s/images]"
     ]
    },
    {
     "name": "stdout",
     "output_type": "stream",
     "text": [
      "Prompt: \n",
      " A medium shot view of a smiling woman holding a white cardboard box with a number from the Adidas webshop in her hands, standing in front of a street background, the weather is cloudy, high photorealistic quality.\n"
     ]
    },
    {
     "name": "stderr",
     "output_type": "stream",
     "text": [
      "100%|██████████| 15/15 [00:15<00:00,  1.02s/it]\n",
      "Generating images:   9%|▊         | 211/2478 [1:03:21<11:11:21, 17.77s/images]"
     ]
    },
    {
     "name": "stdout",
     "output_type": "stream",
     "text": [
      "Prompt: \n",
      " A medium shot view of a brown cardboard box with green tape from the Amazon webshop, in front of a appartment building background, the weather is cloudy, high photorealistic quality.\n"
     ]
    },
    {
     "name": "stderr",
     "output_type": "stream",
     "text": [
      "100%|██████████| 15/15 [00:16<00:00,  1.13s/it]\n",
      "Generating images:   9%|▊         | 212/2478 [1:03:42<11:38:19, 18.49s/images]"
     ]
    },
    {
     "name": "stdout",
     "output_type": "stream",
     "text": [
      "Prompt: \n",
      " A medium shot view of an old person holding a white cardboard box with yellow tape from the Nike webshop in her hands, standing in front of a quite neighborhood street and trees background, the weather is snowy, high photorealistic quality.\n"
     ]
    },
    {
     "name": "stderr",
     "output_type": "stream",
     "text": [
      "100%|██████████| 15/15 [00:15<00:00,  1.00s/it]\n",
      "Generating images:   9%|▊         | 213/2478 [1:04:00<11:34:24, 18.39s/images]"
     ]
    },
    {
     "name": "stdout",
     "output_type": "stream",
     "text": [
      "Prompt: \n",
      " A medium shot view of a brown cardboard box with red tape from the Amazon webshop, in front of a city center background, the weather is cloudy, high photorealistic quality.\n"
     ]
    },
    {
     "name": "stderr",
     "output_type": "stream",
     "text": [
      "100%|██████████| 15/15 [00:18<00:00,  1.26s/it]\n",
      "Generating images:   9%|▊         | 214/2478 [1:04:23<12:24:25, 19.73s/images]"
     ]
    },
    {
     "name": "stdout",
     "output_type": "stream",
     "text": [
      "Prompt: \n",
      " A medium shot view of a happy boy holding a black cardboard box with a qr code from the Nike webshop in his hands, standing in front of a appartment building background, the weather is sunny, high photorealistic quality.\n"
     ]
    },
    {
     "name": "stderr",
     "output_type": "stream",
     "text": [
      "100%|██████████| 15/15 [00:19<00:00,  1.31s/it]\n",
      "Generating images:   9%|▊         | 215/2478 [1:04:46<13:04:06, 20.79s/images]"
     ]
    },
    {
     "name": "stdout",
     "output_type": "stream",
     "text": [
      "Prompt: \n",
      " A medium shot view of a white cardboard box with a qr code from the Zara webshop, in front of a quite neighborhood street and garden background, the weather is rainy, high photorealistic quality.\n"
     ]
    },
    {
     "name": "stderr",
     "output_type": "stream",
     "text": [
      "100%|██████████| 15/15 [00:15<00:00,  1.03s/it]\n",
      "Generating images:   9%|▊         | 216/2478 [1:05:04<12:34:54, 20.02s/images]"
     ]
    },
    {
     "name": "stdout",
     "output_type": "stream",
     "text": [
      "Prompt: \n",
      " A medium shot view of an angry person holding a brown cardboard box with black tape from the Coolblue webshop in her hands, standing in front of a doorstep of a house background, the weather is cloudy, high photorealistic quality.\n"
     ]
    },
    {
     "name": "stderr",
     "output_type": "stream",
     "text": [
      "100%|██████████| 15/15 [00:14<00:00,  1.02it/s]\n",
      "Generating images:   9%|▉         | 217/2478 [1:05:22<12:05:04, 19.24s/images]"
     ]
    },
    {
     "name": "stdout",
     "output_type": "stream",
     "text": [
      "Prompt: \n",
      " A medium shot view of a colorful cardboard box with yellow tape from a webshop, in front of a busy city street and people background, the weather is snowy, high photorealistic quality.\n"
     ]
    },
    {
     "name": "stderr",
     "output_type": "stream",
     "text": [
      "100%|██████████| 15/15 [00:14<00:00,  1.04it/s]\n",
      "Generating images:   9%|▉         | 218/2478 [1:05:39<11:40:37, 18.60s/images]"
     ]
    },
    {
     "name": "stdout",
     "output_type": "stream",
     "text": [
      "Prompt: \n",
      " A medium shot view of an old person holding a black cardboard box with a qr code from the Amazon webshop in her hands, standing in front of a city center background, the weather is snowy, high photorealistic quality.\n"
     ]
    },
    {
     "name": "stderr",
     "output_type": "stream",
     "text": [
      "100%|██████████| 15/15 [00:13<00:00,  1.10it/s]\n",
      "Generating images:   9%|▉         | 219/2478 [1:05:55<11:12:59, 17.87s/images]"
     ]
    },
    {
     "name": "stdout",
     "output_type": "stream",
     "text": [
      "Prompt: \n",
      " A medium shot view of a black cardboard box with black tape from the Adidas webshop, in front of a appartment building background, the weather is snowy, high photorealistic quality.\n"
     ]
    },
    {
     "name": "stderr",
     "output_type": "stream",
     "text": [
      "100%|██████████| 15/15 [00:13<00:00,  1.11it/s]\n",
      "Generating images:   9%|▉         | 220/2478 [1:06:11<10:55:06, 17.41s/images]"
     ]
    },
    {
     "name": "stdout",
     "output_type": "stream",
     "text": [
      "Prompt: \n",
      " A medium shot view of a smiling person holding a white cardboard box with yellow tape from a webshop in her hands, standing in front of a busy city street and cars background, the weather is rainy, high photorealistic quality.\n"
     ]
    },
    {
     "name": "stderr",
     "output_type": "stream",
     "text": [
      "100%|██████████| 15/15 [00:15<00:00,  1.05s/it]\n",
      "Generating images:   9%|▉         | 221/2478 [1:06:30<11:12:07, 17.87s/images]"
     ]
    },
    {
     "name": "stdout",
     "output_type": "stream",
     "text": [
      "Prompt: \n",
      " A medium shot view of a white cardboard box with red tape from the Adidas webshop, in front of a quite neighborhood street and cars background, the weather is snowy, high photorealistic quality.\n"
     ]
    },
    {
     "name": "stderr",
     "output_type": "stream",
     "text": [
      "100%|██████████| 15/15 [00:14<00:00,  1.00it/s]\n",
      "Generating images:   9%|▉         | 222/2478 [1:06:48<11:11:31, 17.86s/images]"
     ]
    },
    {
     "name": "stdout",
     "output_type": "stream",
     "text": [
      "Prompt: \n",
      " A medium shot view of an angry man holding a black cardboard box with a number from the Adidas webshop in his hands, standing in front of a appartment building background, the weather is sunny, high photorealistic quality.\n"
     ]
    },
    {
     "name": "stderr",
     "output_type": "stream",
     "text": [
      "100%|██████████| 15/15 [00:16<00:00,  1.08s/it]\n",
      "Generating images:   9%|▉         | 223/2478 [1:07:07<11:27:19, 18.29s/images]"
     ]
    },
    {
     "name": "stdout",
     "output_type": "stream",
     "text": [
      "Prompt: \n",
      " A medium shot view of a white cardboard box with a barcode from the Zara webshop, in front of a doorstep of a house background, the weather is snowy, high photorealistic quality.\n"
     ]
    },
    {
     "name": "stderr",
     "output_type": "stream",
     "text": [
      "100%|██████████| 15/15 [00:15<00:00,  1.04s/it]\n",
      "Generating images:   9%|▉         | 224/2478 [1:07:26<11:29:39, 18.36s/images]"
     ]
    },
    {
     "name": "stdout",
     "output_type": "stream",
     "text": [
      "Prompt: \n",
      " A medium shot view of a sad lady holding a brown cardboard box with red tape from the Adidas webshop in her hands, standing in front of a quite neighborhood street and garden background, the weather is snowy, high photorealistic quality.\n"
     ]
    },
    {
     "name": "stderr",
     "output_type": "stream",
     "text": [
      "100%|██████████| 15/15 [00:13<00:00,  1.10it/s]\n",
      "Generating images:   9%|▉         | 225/2478 [1:07:42<11:10:58, 17.87s/images]"
     ]
    },
    {
     "name": "stdout",
     "output_type": "stream",
     "text": [
      "Prompt: \n",
      " A medium shot view of a colorful cardboard box with yellow tape from the Nike webshop, in front of a city center background, the weather is snowy, high photorealistic quality.\n"
     ]
    },
    {
     "name": "stderr",
     "output_type": "stream",
     "text": [
      "100%|██████████| 15/15 [00:14<00:00,  1.03it/s]\n",
      "Generating images:   9%|▉         | 226/2478 [1:08:00<11:09:25, 17.84s/images]"
     ]
    },
    {
     "name": "stdout",
     "output_type": "stream",
     "text": [
      "Prompt: \n",
      " A medium shot view of a sad man holding a brown cardboard box with black tape from the Amazon webshop in his hands, standing in front of a busy city street and people background, the weather is rainy, high photorealistic quality.\n"
     ]
    },
    {
     "name": "stderr",
     "output_type": "stream",
     "text": [
      "100%|██████████| 15/15 [00:15<00:00,  1.06s/it]\n",
      "Generating images:   9%|▉         | 227/2478 [1:08:19<11:18:19, 18.08s/images]"
     ]
    },
    {
     "name": "stdout",
     "output_type": "stream",
     "text": [
      "Prompt: \n",
      " A medium shot view of a colorful cardboard box with blue tape from a webshop, in front of a quite neighborhood street and trees background, the weather is cloudy, high photorealistic quality.\n"
     ]
    },
    {
     "name": "stderr",
     "output_type": "stream",
     "text": [
      "100%|██████████| 15/15 [00:13<00:00,  1.09it/s]\n",
      "Generating images:   9%|▉         | 228/2478 [1:08:35<10:59:01, 17.57s/images]"
     ]
    },
    {
     "name": "stdout",
     "output_type": "stream",
     "text": [
      "Prompt: \n",
      " A medium shot view of a frowning lady holding a brown cardboard box with black tape from the Nike webshop in her hands, standing in front of a quite neighborhood street and trees background, the weather is cloudy, high photorealistic quality.\n"
     ]
    },
    {
     "name": "stderr",
     "output_type": "stream",
     "text": [
      "100%|██████████| 15/15 [00:13<00:00,  1.10it/s]\n",
      "Generating images:   9%|▉         | 229/2478 [1:08:52<10:44:54, 17.21s/images]"
     ]
    },
    {
     "name": "stdout",
     "output_type": "stream",
     "text": [
      "Prompt: \n",
      " A medium shot view of a black cardboard box with black tape from a webshop, in front of a doorstep of a house background, the weather is snowy, high photorealistic quality.\n"
     ]
    },
    {
     "name": "stderr",
     "output_type": "stream",
     "text": [
      "100%|██████████| 15/15 [00:13<00:00,  1.10it/s]\n",
      "Generating images:   9%|▉         | 230/2478 [1:09:08<10:33:26, 16.91s/images]"
     ]
    },
    {
     "name": "stdout",
     "output_type": "stream",
     "text": [
      "Prompt: \n",
      " A medium shot view of a sad person holding a brown cardboard box with black tape from the Amazon webshop in her hands, standing in front of a busy city street and cars background, the weather is sunny, high photorealistic quality.\n"
     ]
    },
    {
     "name": "stderr",
     "output_type": "stream",
     "text": [
      "100%|██████████| 15/15 [00:13<00:00,  1.11it/s]\n",
      "Generating images:   9%|▉         | 231/2478 [1:09:24<10:24:00, 16.66s/images]"
     ]
    },
    {
     "name": "stdout",
     "output_type": "stream",
     "text": [
      "Prompt: \n",
      " A medium shot view of a black cardboard box with yellow tape from a webshop, in front of a busy city street and cars background, the weather is rainy, high photorealistic quality.\n"
     ]
    },
    {
     "name": "stderr",
     "output_type": "stream",
     "text": [
      "100%|██████████| 15/15 [00:13<00:00,  1.11it/s]\n",
      "Generating images:   9%|▉         | 232/2478 [1:09:40<10:17:57, 16.51s/images]"
     ]
    },
    {
     "name": "stdout",
     "output_type": "stream",
     "text": [
      "Prompt: \n",
      " A medium shot view of a young woman holding a black cardboard box with a number from the Nike webshop in her hands, standing in front of a garbage curb background, the weather is sunny, high photorealistic quality.\n"
     ]
    },
    {
     "name": "stderr",
     "output_type": "stream",
     "text": [
      "100%|██████████| 15/15 [00:13<00:00,  1.08it/s]\n",
      "Generating images:   9%|▉         | 233/2478 [1:09:57<10:17:47, 16.51s/images]"
     ]
    },
    {
     "name": "stdout",
     "output_type": "stream",
     "text": [
      "Prompt: \n",
      " A medium shot view of a black cardboard box with a qr code from the Nike webshop, in front of a doorstep of a house background, the weather is sunny, high photorealistic quality.\n"
     ]
    },
    {
     "name": "stderr",
     "output_type": "stream",
     "text": [
      "100%|██████████| 15/15 [00:13<00:00,  1.08it/s]\n",
      "Generating images:   9%|▉         | 234/2478 [1:10:13<10:21:35, 16.62s/images]"
     ]
    },
    {
     "name": "stdout",
     "output_type": "stream",
     "text": [
      "Prompt: \n",
      " A medium shot view of an angry boy holding a brown cardboard box with black tape from a webshop in his hands, standing in front of a quite neighborhood street and cars background, the weather is rainy, high photorealistic quality.\n"
     ]
    },
    {
     "name": "stderr",
     "output_type": "stream",
     "text": [
      "100%|██████████| 15/15 [00:14<00:00,  1.05it/s]\n",
      "Generating images:   9%|▉         | 235/2478 [1:10:31<10:31:27, 16.89s/images]"
     ]
    },
    {
     "name": "stdout",
     "output_type": "stream",
     "text": [
      "Prompt: \n",
      " A medium shot view of a black cardboard box with black tape from the Zara webshop, in front of a quite neighborhood street and trees background, the weather is sunny, high photorealistic quality.\n"
     ]
    },
    {
     "name": "stderr",
     "output_type": "stream",
     "text": [
      "100%|██████████| 15/15 [00:15<00:00,  1.07s/it]\n",
      "Generating images:  10%|▉         | 236/2478 [1:10:50<10:52:54, 17.47s/images]"
     ]
    },
    {
     "name": "stdout",
     "output_type": "stream",
     "text": [
      "Prompt: \n",
      " A medium shot view of a young woman holding a black cardboard box with yellow tape from the Coolblue webshop in her hands, standing in front of a quite neighborhood street and garden background, the weather is cloudy, high photorealistic quality.\n"
     ]
    },
    {
     "name": "stderr",
     "output_type": "stream",
     "text": [
      "100%|██████████| 15/15 [00:14<00:00,  1.04it/s]\n",
      "Generating images:  10%|▉         | 237/2478 [1:11:07<10:49:41, 17.39s/images]"
     ]
    },
    {
     "name": "stdout",
     "output_type": "stream",
     "text": [
      "Prompt: \n",
      " A medium shot view of a brown cardboard box with red tape from the Nike webshop, in front of a street background, the weather is cloudy, high photorealistic quality.\n"
     ]
    },
    {
     "name": "stderr",
     "output_type": "stream",
     "text": [
      "100%|██████████| 15/15 [00:15<00:00,  1.01s/it]\n",
      "Generating images:  10%|▉         | 238/2478 [1:11:25<10:58:22, 17.63s/images]"
     ]
    },
    {
     "name": "stdout",
     "output_type": "stream",
     "text": [
      "Prompt: \n",
      " A medium shot view of an angry man holding a brown cardboard box with green tape from the Adidas webshop in his hands, standing in front of a street background, the weather is cloudy, high photorealistic quality.\n"
     ]
    },
    {
     "name": "stderr",
     "output_type": "stream",
     "text": [
      "100%|██████████| 15/15 [00:14<00:00,  1.04it/s]\n",
      "Generating images:  10%|▉         | 239/2478 [1:11:42<10:52:45, 17.49s/images]"
     ]
    },
    {
     "name": "stdout",
     "output_type": "stream",
     "text": [
      "Prompt: \n",
      " A medium shot view of a colorful cardboard box with blue tape from the Amazon webshop, in front of a city center background, the weather is sunny, high photorealistic quality.\n"
     ]
    },
    {
     "name": "stderr",
     "output_type": "stream",
     "text": [
      "100%|██████████| 15/15 [00:14<00:00,  1.00it/s]\n",
      "Generating images:  10%|▉         | 240/2478 [1:12:00<10:58:59, 17.67s/images]"
     ]
    },
    {
     "name": "stdout",
     "output_type": "stream",
     "text": [
      "Prompt: \n",
      " A medium shot view of a frowning woman holding a brown cardboard box with a number from the Zara webshop in her hands, standing in front of a garbage curb background, the weather is sunny, high photorealistic quality.\n"
     ]
    },
    {
     "name": "stderr",
     "output_type": "stream",
     "text": [
      "100%|██████████| 15/15 [00:15<00:00,  1.01s/it]\n",
      "Generating images:  10%|▉         | 241/2478 [1:12:18<11:01:55, 17.75s/images]"
     ]
    },
    {
     "name": "stdout",
     "output_type": "stream",
     "text": [
      "Prompt: \n",
      " A medium shot view of a black cardboard box with green tape from the Coolblue webshop, in front of a city center background, the weather is sunny, high photorealistic quality.\n"
     ]
    },
    {
     "name": "stderr",
     "output_type": "stream",
     "text": [
      "100%|██████████| 15/15 [00:15<00:00,  1.06s/it]\n",
      "Generating images:  10%|▉         | 242/2478 [1:12:38<11:17:41, 18.18s/images]"
     ]
    },
    {
     "name": "stdout",
     "output_type": "stream",
     "text": [
      "Prompt: \n",
      " A medium shot view of an angry person holding a black cardboard box with a qr code from the Adidas webshop in her hands, standing in front of a city center background, the weather is snowy, high photorealistic quality.\n"
     ]
    },
    {
     "name": "stderr",
     "output_type": "stream",
     "text": [
      "100%|██████████| 15/15 [00:18<00:00,  1.24s/it]\n",
      "Generating images:  10%|▉         | 243/2478 [1:13:00<11:59:16, 19.31s/images]"
     ]
    },
    {
     "name": "stdout",
     "output_type": "stream",
     "text": [
      "Prompt: \n",
      " A medium shot view of a white cardboard box with a number from the Amazon webshop, in front of a garbage curb background, the weather is sunny, high photorealistic quality.\n"
     ]
    },
    {
     "name": "stderr",
     "output_type": "stream",
     "text": [
      "100%|██████████| 15/15 [00:18<00:00,  1.25s/it]\n",
      "Generating images:  10%|▉         | 244/2478 [1:13:22<12:30:59, 20.17s/images]"
     ]
    },
    {
     "name": "stdout",
     "output_type": "stream",
     "text": [
      "Prompt: \n",
      " A medium shot view of a young woman holding a black cardboard box with a number from a webshop in her hands, standing in front of a garbage curb background, the weather is sunny, high photorealistic quality.\n"
     ]
    },
    {
     "name": "stderr",
     "output_type": "stream",
     "text": [
      "100%|██████████| 15/15 [00:17<00:00,  1.14s/it]\n",
      "Generating images:  10%|▉         | 245/2478 [1:13:42<12:34:55, 20.28s/images]"
     ]
    },
    {
     "name": "stdout",
     "output_type": "stream",
     "text": [
      "Prompt: \n",
      " A medium shot view of a black cardboard box with black tape from the Zara webshop, in front of a quite neighborhood street and garden background, the weather is cloudy, high photorealistic quality.\n"
     ]
    },
    {
     "name": "stderr",
     "output_type": "stream",
     "text": [
      "100%|██████████| 15/15 [00:15<00:00,  1.03s/it]\n",
      "Generating images:  10%|▉         | 246/2478 [1:14:00<12:10:45, 19.64s/images]"
     ]
    },
    {
     "name": "stdout",
     "output_type": "stream",
     "text": [
      "Prompt: \n",
      " A medium shot view of a smiling person holding a brown cardboard box with a number from the Nike webshop in her hands, standing in front of a garbage curb background, the weather is sunny, high photorealistic quality.\n"
     ]
    },
    {
     "name": "stderr",
     "output_type": "stream",
     "text": [
      "100%|██████████| 15/15 [00:18<00:00,  1.22s/it]\n",
      "Generating images:  10%|▉         | 247/2478 [1:14:22<12:35:58, 20.33s/images]"
     ]
    },
    {
     "name": "stdout",
     "output_type": "stream",
     "text": [
      "Prompt: \n",
      " A medium shot view of a black cardboard box with a number from the Zara webshop, in front of a busy city street and cars background, the weather is sunny, high photorealistic quality.\n"
     ]
    },
    {
     "name": "stderr",
     "output_type": "stream",
     "text": [
      "100%|██████████| 15/15 [00:18<00:00,  1.25s/it]\n",
      "Generating images:  10%|█         | 248/2478 [1:14:44<12:54:16, 20.83s/images]"
     ]
    },
    {
     "name": "stdout",
     "output_type": "stream",
     "text": [
      "Prompt: \n",
      " A medium shot view of a young man holding a black cardboard box with red tape from the Coolblue webshop in his hands, standing in front of a quite neighborhood street and trees background, the weather is cloudy, high photorealistic quality.\n"
     ]
    },
    {
     "name": "stderr",
     "output_type": "stream",
     "text": [
      "100%|██████████| 15/15 [00:18<00:00,  1.25s/it]\n",
      "Generating images:  10%|█         | 249/2478 [1:15:06<13:06:46, 21.18s/images]"
     ]
    },
    {
     "name": "stdout",
     "output_type": "stream",
     "text": [
      "Prompt: \n",
      " A medium shot view of a black cardboard box with red tape from the Coolblue webshop, in front of a street background, the weather is cloudy, high photorealistic quality.\n"
     ]
    },
    {
     "name": "stderr",
     "output_type": "stream",
     "text": [
      "100%|██████████| 15/15 [00:18<00:00,  1.25s/it]\n",
      "Generating images:  10%|█         | 250/2478 [1:15:28<13:15:30, 21.42s/images]"
     ]
    },
    {
     "name": "stdout",
     "output_type": "stream",
     "text": [
      "Prompt: \n",
      " A medium shot view of a happy woman holding a brown cardboard box with red tape from the Amazon webshop in her hands, standing in front of a quite neighborhood street and garden background, the weather is rainy, high photorealistic quality.\n"
     ]
    },
    {
     "name": "stderr",
     "output_type": "stream",
     "text": [
      "100%|██████████| 15/15 [00:18<00:00,  1.25s/it]\n",
      "Generating images:  10%|█         | 251/2478 [1:15:50<13:22:14, 21.61s/images]"
     ]
    },
    {
     "name": "stdout",
     "output_type": "stream",
     "text": [
      "Prompt: \n",
      " A medium shot view of a white cardboard box with a qr code from the Adidas webshop, in front of a appartment building background, the weather is sunny, high photorealistic quality.\n"
     ]
    },
    {
     "name": "stderr",
     "output_type": "stream",
     "text": [
      "100%|██████████| 15/15 [00:18<00:00,  1.25s/it]\n",
      "Generating images:  10%|█         | 252/2478 [1:16:12<13:26:35, 21.74s/images]"
     ]
    },
    {
     "name": "stdout",
     "output_type": "stream",
     "text": [
      "Prompt: \n",
      " A medium shot view of a frowning boy holding a white cardboard box with yellow tape from the Zara webshop in his hands, standing in front of a appartment building background, the weather is cloudy, high photorealistic quality.\n"
     ]
    },
    {
     "name": "stderr",
     "output_type": "stream",
     "text": [
      "100%|██████████| 15/15 [00:18<00:00,  1.26s/it]\n",
      "Generating images:  10%|█         | 253/2478 [1:16:35<13:32:07, 21.90s/images]"
     ]
    },
    {
     "name": "stdout",
     "output_type": "stream",
     "text": [
      "Prompt: \n",
      " A medium shot view of a black cardboard box with a number from a webshop, in front of a garbage curb background, the weather is rainy, high photorealistic quality.\n"
     ]
    },
    {
     "name": "stderr",
     "output_type": "stream",
     "text": [
      "100%|██████████| 15/15 [00:18<00:00,  1.26s/it]\n",
      "Generating images:  10%|█         | 254/2478 [1:16:57<13:34:30, 21.97s/images]"
     ]
    },
    {
     "name": "stdout",
     "output_type": "stream",
     "text": [
      "Prompt: \n",
      " A medium shot view of a frowning person holding a brown cardboard box with yellow tape from a webshop in her hands, standing in front of a busy city street and cars background, the weather is snowy, high photorealistic quality.\n"
     ]
    },
    {
     "name": "stderr",
     "output_type": "stream",
     "text": [
      "100%|██████████| 15/15 [00:18<00:00,  1.26s/it]\n",
      "Generating images:  10%|█         | 255/2478 [1:17:19<13:36:48, 22.05s/images]"
     ]
    },
    {
     "name": "stdout",
     "output_type": "stream",
     "text": [
      "Prompt: \n",
      " A medium shot view of a black cardboard box with a number from the Zara webshop, in front of a street background, the weather is rainy, high photorealistic quality.\n"
     ]
    },
    {
     "name": "stderr",
     "output_type": "stream",
     "text": [
      "100%|██████████| 15/15 [00:18<00:00,  1.25s/it]\n",
      "Generating images:  10%|█         | 256/2478 [1:17:41<13:37:09, 22.07s/images]"
     ]
    },
    {
     "name": "stdout",
     "output_type": "stream",
     "text": [
      "Prompt: \n",
      " A medium shot view of a frowning boy holding a colorful cardboard box with blue tape from the Coolblue webshop in his hands, standing in front of a garbage curb background, the weather is snowy, high photorealistic quality.\n"
     ]
    },
    {
     "name": "stderr",
     "output_type": "stream",
     "text": [
      "100%|██████████| 15/15 [00:18<00:00,  1.25s/it]\n",
      "Generating images:  10%|█         | 257/2478 [1:18:03<13:36:56, 22.07s/images]"
     ]
    },
    {
     "name": "stdout",
     "output_type": "stream",
     "text": [
      "Prompt: \n",
      " A medium shot view of a brown cardboard box with a number from the Coolblue webshop, in front of a street background, the weather is rainy, high photorealistic quality.\n"
     ]
    },
    {
     "name": "stderr",
     "output_type": "stream",
     "text": [
      "100%|██████████| 15/15 [00:19<00:00,  1.29s/it]\n",
      "Generating images:  10%|█         | 258/2478 [1:18:26<13:43:17, 22.25s/images]"
     ]
    },
    {
     "name": "stdout",
     "output_type": "stream",
     "text": [
      "Prompt: \n",
      " A medium shot view of an angry woman holding a white cardboard box with a barcode from the Coolblue webshop in her hands, standing in front of a city center background, the weather is sunny, high photorealistic quality.\n"
     ]
    },
    {
     "name": "stderr",
     "output_type": "stream",
     "text": [
      "100%|██████████| 15/15 [00:18<00:00,  1.26s/it]\n",
      "Generating images:  10%|█         | 259/2478 [1:18:48<13:42:59, 22.25s/images]"
     ]
    },
    {
     "name": "stdout",
     "output_type": "stream",
     "text": [
      "Prompt: \n",
      " A medium shot view of a white cardboard box with black tape from the Zara webshop, in front of a city center background, the weather is snowy, high photorealistic quality.\n"
     ]
    },
    {
     "name": "stderr",
     "output_type": "stream",
     "text": [
      "100%|██████████| 15/15 [00:18<00:00,  1.25s/it]\n",
      "Generating images:  10%|█         | 260/2478 [1:19:10<13:40:44, 22.20s/images]"
     ]
    },
    {
     "name": "stdout",
     "output_type": "stream",
     "text": [
      "Prompt: \n",
      " A medium shot view of an angry lady holding a brown cardboard box with black tape from the Zara webshop in her hands, standing in front of a quite neighborhood street and cars background, the weather is cloudy, high photorealistic quality.\n"
     ]
    },
    {
     "name": "stderr",
     "output_type": "stream",
     "text": [
      "100%|██████████| 15/15 [00:18<00:00,  1.26s/it]\n",
      "Generating images:  11%|█         | 261/2478 [1:19:32<13:40:09, 22.20s/images]"
     ]
    },
    {
     "name": "stdout",
     "output_type": "stream",
     "text": [
      "Prompt: \n",
      " A medium shot view of a black cardboard box with black tape from the Zara webshop, in front of a doorstep of a house background, the weather is rainy, high photorealistic quality.\n"
     ]
    },
    {
     "name": "stderr",
     "output_type": "stream",
     "text": [
      "100%|██████████| 15/15 [00:18<00:00,  1.25s/it]\n",
      "Generating images:  11%|█         | 262/2478 [1:19:54<13:37:49, 22.14s/images]"
     ]
    },
    {
     "name": "stdout",
     "output_type": "stream",
     "text": [
      "Prompt: \n",
      " A medium shot view of a young boy holding a brown cardboard box with a qr code from the Nike webshop in his hands, standing in front of a doorstep of a house background, the weather is sunny, high photorealistic quality.\n"
     ]
    },
    {
     "name": "stderr",
     "output_type": "stream",
     "text": [
      "100%|██████████| 15/15 [00:18<00:00,  1.25s/it]\n",
      "Generating images:  11%|█         | 263/2478 [1:20:16<13:35:27, 22.09s/images]"
     ]
    },
    {
     "name": "stdout",
     "output_type": "stream",
     "text": [
      "Prompt: \n",
      " A medium shot view of a colorful cardboard box with green tape from the Zara webshop, in front of a appartment building background, the weather is rainy, high photorealistic quality.\n"
     ]
    },
    {
     "name": "stderr",
     "output_type": "stream",
     "text": [
      "100%|██████████| 15/15 [00:18<00:00,  1.25s/it]\n",
      "Generating images:  11%|█         | 264/2478 [1:20:38<13:34:36, 22.08s/images]"
     ]
    },
    {
     "name": "stdout",
     "output_type": "stream",
     "text": [
      "Prompt: \n",
      " A medium shot view of a young boy holding a brown cardboard box with yellow tape from a webshop in his hands, standing in front of a street background, the weather is sunny, high photorealistic quality.\n"
     ]
    },
    {
     "name": "stderr",
     "output_type": "stream",
     "text": [
      "100%|██████████| 15/15 [00:18<00:00,  1.26s/it]\n",
      "Generating images:  11%|█         | 265/2478 [1:21:01<13:34:23, 22.08s/images]"
     ]
    },
    {
     "name": "stdout",
     "output_type": "stream",
     "text": [
      "Prompt: \n",
      " A medium shot view of a brown cardboard box with black tape from the Nike webshop, in front of a city center background, the weather is rainy, high photorealistic quality.\n"
     ]
    },
    {
     "name": "stderr",
     "output_type": "stream",
     "text": [
      "100%|██████████| 15/15 [00:17<00:00,  1.15s/it]\n",
      "Generating images:  11%|█         | 266/2478 [1:21:21<13:12:52, 21.51s/images]"
     ]
    },
    {
     "name": "stdout",
     "output_type": "stream",
     "text": [
      "Prompt: \n",
      " A medium shot view of a happy boy holding a black cardboard box with green tape from the Adidas webshop in his hands, standing in front of a city center background, the weather is rainy, high photorealistic quality.\n"
     ]
    },
    {
     "name": "stderr",
     "output_type": "stream",
     "text": [
      "100%|██████████| 15/15 [00:17<00:00,  1.16s/it]\n",
      "Generating images:  11%|█         | 267/2478 [1:21:41<13:02:32, 21.24s/images]"
     ]
    },
    {
     "name": "stdout",
     "output_type": "stream",
     "text": [
      "Prompt: \n",
      " A medium shot view of a brown cardboard box with black tape from the Coolblue webshop, in front of a quite neighborhood street and garden background, the weather is sunny, high photorealistic quality.\n"
     ]
    },
    {
     "name": "stderr",
     "output_type": "stream",
     "text": [
      "100%|██████████| 15/15 [00:18<00:00,  1.25s/it]\n",
      "Generating images:  11%|█         | 268/2478 [1:22:03<13:10:19, 21.46s/images]"
     ]
    },
    {
     "name": "stdout",
     "output_type": "stream",
     "text": [
      "Prompt: \n",
      " A medium shot view of an old woman holding a brown cardboard box with a qr code from a webshop in her hands, standing in front of a busy city street and people background, the weather is cloudy, high photorealistic quality.\n"
     ]
    },
    {
     "name": "stderr",
     "output_type": "stream",
     "text": [
      "100%|██████████| 15/15 [00:19<00:00,  1.28s/it]\n",
      "Generating images:  11%|█         | 269/2478 [1:22:26<13:22:54, 21.81s/images]"
     ]
    },
    {
     "name": "stdout",
     "output_type": "stream",
     "text": [
      "Prompt: \n",
      " A medium shot view of a white cardboard box with green tape from the Adidas webshop, in front of a garbage curb background, the weather is sunny, high photorealistic quality.\n"
     ]
    },
    {
     "name": "stderr",
     "output_type": "stream",
     "text": [
      "100%|██████████| 15/15 [00:19<00:00,  1.28s/it]\n",
      "Generating images:  11%|█         | 270/2478 [1:22:49<13:33:42, 22.11s/images]"
     ]
    },
    {
     "name": "stdout",
     "output_type": "stream",
     "text": [
      "Prompt: \n",
      " A medium shot view of an old person holding a white cardboard box with green tape from the Zara webshop in her hands, standing in front of a street background, the weather is cloudy, high photorealistic quality.\n"
     ]
    },
    {
     "name": "stderr",
     "output_type": "stream",
     "text": [
      "100%|██████████| 15/15 [00:19<00:00,  1.33s/it]\n",
      "Generating images:  11%|█         | 271/2478 [1:23:12<13:47:50, 22.51s/images]"
     ]
    },
    {
     "name": "stdout",
     "output_type": "stream",
     "text": [
      "Prompt: \n",
      " A medium shot view of a brown cardboard box with red tape from the Adidas webshop, in front of a garbage curb background, the weather is cloudy, high photorealistic quality.\n"
     ]
    },
    {
     "name": "stderr",
     "output_type": "stream",
     "text": [
      "100%|██████████| 15/15 [00:19<00:00,  1.28s/it]\n",
      "Generating images:  11%|█         | 272/2478 [1:23:35<13:49:45, 22.57s/images]"
     ]
    },
    {
     "name": "stdout",
     "output_type": "stream",
     "text": [
      "Prompt: \n",
      " A medium shot view of a sad boy holding a white cardboard box with a number from the Coolblue webshop in his hands, standing in front of a busy city street and cars background, the weather is sunny, high photorealistic quality.\n"
     ]
    },
    {
     "name": "stderr",
     "output_type": "stream",
     "text": [
      "100%|██████████| 15/15 [00:15<00:00,  1.05s/it]\n",
      "Generating images:  11%|█         | 273/2478 [1:23:53<13:02:32, 21.29s/images]"
     ]
    },
    {
     "name": "stdout",
     "output_type": "stream",
     "text": [
      "Prompt: \n",
      " A medium shot view of a white cardboard box with a number from the Adidas webshop, in front of a quite neighborhood street and garden background, the weather is snowy, high photorealistic quality.\n"
     ]
    },
    {
     "name": "stderr",
     "output_type": "stream",
     "text": [
      "100%|██████████| 15/15 [00:17<00:00,  1.18s/it]\n",
      "Generating images:  11%|█         | 274/2478 [1:24:14<12:59:03, 21.21s/images]"
     ]
    },
    {
     "name": "stdout",
     "output_type": "stream",
     "text": [
      "Prompt: \n",
      " A medium shot view of an angry person holding a colorful cardboard box with red tape from the Nike webshop in her hands, standing in front of a quite neighborhood street and cars background, the weather is rainy, high photorealistic quality.\n"
     ]
    },
    {
     "name": "stderr",
     "output_type": "stream",
     "text": [
      "100%|██████████| 15/15 [00:18<00:00,  1.25s/it]\n",
      "Generating images:  11%|█         | 275/2478 [1:24:36<13:07:19, 21.44s/images]"
     ]
    },
    {
     "name": "stdout",
     "output_type": "stream",
     "text": [
      "Prompt: \n",
      " A medium shot view of a brown cardboard box with a qr code from the Zara webshop, in front of a quite neighborhood street and trees background, the weather is rainy, high photorealistic quality.\n"
     ]
    },
    {
     "name": "stderr",
     "output_type": "stream",
     "text": [
      "100%|██████████| 15/15 [00:19<00:00,  1.27s/it]\n",
      "Generating images:  11%|█         | 276/2478 [1:24:59<13:16:41, 21.71s/images]"
     ]
    },
    {
     "name": "stdout",
     "output_type": "stream",
     "text": [
      "Prompt: \n",
      " A medium shot view of a sad man holding a white cardboard box with yellow tape from the Amazon webshop in his hands, standing in front of a quite neighborhood street and garden background, the weather is cloudy, high photorealistic quality.\n"
     ]
    },
    {
     "name": "stderr",
     "output_type": "stream",
     "text": [
      "100%|██████████| 15/15 [00:18<00:00,  1.25s/it]\n",
      "Generating images:  11%|█         | 277/2478 [1:25:21<13:19:31, 21.80s/images]"
     ]
    },
    {
     "name": "stdout",
     "output_type": "stream",
     "text": [
      "Prompt: \n",
      " A medium shot view of a black cardboard box with a number from the Adidas webshop, in front of a quite neighborhood street and garden background, the weather is sunny, high photorealistic quality.\n"
     ]
    },
    {
     "name": "stderr",
     "output_type": "stream",
     "text": [
      "100%|██████████| 15/15 [00:18<00:00,  1.25s/it]\n",
      "Generating images:  11%|█         | 278/2478 [1:25:43<13:22:32, 21.89s/images]"
     ]
    },
    {
     "name": "stdout",
     "output_type": "stream",
     "text": [
      "Prompt: \n",
      " A medium shot view of an old woman holding a brown cardboard box with red tape from the Coolblue webshop in her hands, standing in front of a quite neighborhood street and cars background, the weather is sunny, high photorealistic quality.\n"
     ]
    },
    {
     "name": "stderr",
     "output_type": "stream",
     "text": [
      "100%|██████████| 15/15 [00:16<00:00,  1.13s/it]\n",
      "Generating images:  11%|█▏        | 279/2478 [1:26:02<12:59:10, 21.26s/images]"
     ]
    },
    {
     "name": "stdout",
     "output_type": "stream",
     "text": [
      "Prompt: \n",
      " A medium shot view of a black cardboard box with a barcode from the Nike webshop, in front of a street background, the weather is snowy, high photorealistic quality.\n"
     ]
    },
    {
     "name": "stderr",
     "output_type": "stream",
     "text": [
      "100%|██████████| 15/15 [00:17<00:00,  1.18s/it]\n",
      "Generating images:  11%|█▏        | 280/2478 [1:26:23<12:55:33, 21.17s/images]"
     ]
    },
    {
     "name": "stdout",
     "output_type": "stream",
     "text": [
      "Prompt: \n",
      " A medium shot view of an old person holding a black cardboard box with a number from a webshop in her hands, standing in front of a quite neighborhood street and trees background, the weather is rainy, high photorealistic quality.\n"
     ]
    },
    {
     "name": "stderr",
     "output_type": "stream",
     "text": [
      "100%|██████████| 15/15 [00:13<00:00,  1.09it/s]\n",
      "Generating images:  11%|█▏        | 281/2478 [1:26:40<12:03:11, 19.75s/images]"
     ]
    },
    {
     "name": "stdout",
     "output_type": "stream",
     "text": [
      "Prompt: \n",
      " A medium shot view of a colorful cardboard box with a number from the Amazon webshop, in front of a quite neighborhood street and cars background, the weather is cloudy, high photorealistic quality.\n"
     ]
    },
    {
     "name": "stderr",
     "output_type": "stream",
     "text": [
      "100%|██████████| 15/15 [00:13<00:00,  1.11it/s]\n",
      "Generating images:  11%|█▏        | 282/2478 [1:26:56<11:23:37, 18.68s/images]"
     ]
    },
    {
     "name": "stdout",
     "output_type": "stream",
     "text": [
      "Prompt: \n",
      " A medium shot view of an old person holding a colorful cardboard box with blue tape from the Adidas webshop in her hands, standing in front of a busy city street and cars background, the weather is snowy, high photorealistic quality.\n"
     ]
    },
    {
     "name": "stderr",
     "output_type": "stream",
     "text": [
      "100%|██████████| 15/15 [00:13<00:00,  1.10it/s]\n",
      "Generating images:  11%|█▏        | 283/2478 [1:27:12<10:55:46, 17.93s/images]"
     ]
    },
    {
     "name": "stdout",
     "output_type": "stream",
     "text": [
      "Prompt: \n",
      " A medium shot view of a white cardboard box with a barcode from the Amazon webshop, in front of a appartment building background, the weather is rainy, high photorealistic quality.\n"
     ]
    },
    {
     "name": "stderr",
     "output_type": "stream",
     "text": [
      "100%|██████████| 15/15 [00:13<00:00,  1.11it/s]\n",
      "Generating images:  11%|█▏        | 284/2478 [1:27:28<10:36:20, 17.40s/images]"
     ]
    },
    {
     "name": "stdout",
     "output_type": "stream",
     "text": [
      "Prompt: \n",
      " A medium shot view of a frowning man holding a brown cardboard box with black tape from the Nike webshop in his hands, standing in front of a doorstep of a house background, the weather is cloudy, high photorealistic quality.\n"
     ]
    },
    {
     "name": "stderr",
     "output_type": "stream",
     "text": [
      "100%|██████████| 15/15 [00:18<00:00,  1.26s/it]\n",
      "Generating images:  12%|█▏        | 285/2478 [1:27:50<11:24:48, 18.74s/images]"
     ]
    },
    {
     "name": "stdout",
     "output_type": "stream",
     "text": [
      "Prompt: \n",
      " A medium shot view of a colorful cardboard box with yellow tape from the Coolblue webshop, in front of a garbage curb background, the weather is sunny, high photorealistic quality.\n"
     ]
    },
    {
     "name": "stderr",
     "output_type": "stream",
     "text": [
      "100%|██████████| 15/15 [00:17<00:00,  1.19s/it]\n",
      "Generating images:  12%|█▏        | 286/2478 [1:28:11<11:51:57, 19.49s/images]"
     ]
    },
    {
     "name": "stdout",
     "output_type": "stream",
     "text": [
      "Prompt: \n",
      " A medium shot view of a frowning person holding a colorful cardboard box with a number from the Adidas webshop in her hands, standing in front of a garbage curb background, the weather is cloudy, high photorealistic quality.\n"
     ]
    },
    {
     "name": "stderr",
     "output_type": "stream",
     "text": [
      "100%|██████████| 15/15 [00:18<00:00,  1.26s/it]\n",
      "Generating images:  12%|█▏        | 287/2478 [1:28:34<12:22:43, 20.34s/images]"
     ]
    },
    {
     "name": "stdout",
     "output_type": "stream",
     "text": [
      "Prompt: \n",
      " A medium shot view of a black cardboard box with a barcode from the Nike webshop, in front of a garbage curb background, the weather is cloudy, high photorealistic quality.\n"
     ]
    },
    {
     "name": "stderr",
     "output_type": "stream",
     "text": [
      "100%|██████████| 15/15 [00:19<00:00,  1.33s/it]\n",
      "Generating images:  12%|█▏        | 288/2478 [1:28:57<12:54:54, 21.23s/images]"
     ]
    },
    {
     "name": "stdout",
     "output_type": "stream",
     "text": [
      "Prompt: \n",
      " A medium shot view of a smiling man holding a colorful cardboard box with red tape from the Amazon webshop in his hands, standing in front of a street background, the weather is snowy, high photorealistic quality.\n"
     ]
    },
    {
     "name": "stderr",
     "output_type": "stream",
     "text": [
      "100%|██████████| 15/15 [00:19<00:00,  1.28s/it]\n",
      "Generating images:  12%|█▏        | 289/2478 [1:29:20<13:10:20, 21.66s/images]"
     ]
    },
    {
     "name": "stdout",
     "output_type": "stream",
     "text": [
      "Prompt: \n",
      " A medium shot view of a white cardboard box with green tape from the Adidas webshop, in front of a quite neighborhood street and trees background, the weather is snowy, high photorealistic quality.\n"
     ]
    },
    {
     "name": "stderr",
     "output_type": "stream",
     "text": [
      "100%|██████████| 15/15 [00:19<00:00,  1.27s/it]\n",
      "Generating images:  12%|█▏        | 290/2478 [1:29:42<13:16:34, 21.84s/images]"
     ]
    },
    {
     "name": "stdout",
     "output_type": "stream",
     "text": [
      "Prompt: \n",
      " A medium shot view of an old person holding a colorful cardboard box with black tape from the Amazon webshop in her hands, standing in front of a city center background, the weather is rainy, high photorealistic quality.\n"
     ]
    },
    {
     "name": "stderr",
     "output_type": "stream",
     "text": [
      "100%|██████████| 15/15 [00:19<00:00,  1.33s/it]\n",
      "Generating images:  12%|█▏        | 291/2478 [1:30:05<13:31:25, 22.26s/images]"
     ]
    },
    {
     "name": "stdout",
     "output_type": "stream",
     "text": [
      "Prompt: \n",
      " A medium shot view of a white cardboard box with green tape from the Nike webshop, in front of a street background, the weather is cloudy, high photorealistic quality.\n"
     ]
    },
    {
     "name": "stderr",
     "output_type": "stream",
     "text": [
      "100%|██████████| 15/15 [00:19<00:00,  1.31s/it]\n",
      "Generating images:  12%|█▏        | 292/2478 [1:30:28<13:38:20, 22.46s/images]"
     ]
    },
    {
     "name": "stdout",
     "output_type": "stream",
     "text": [
      "Prompt: \n",
      " A medium shot view of a sad boy holding a black cardboard box with blue tape from the Coolblue webshop in his hands, standing in front of a doorstep of a house background, the weather is snowy, high photorealistic quality.\n"
     ]
    },
    {
     "name": "stderr",
     "output_type": "stream",
     "text": [
      "100%|██████████| 15/15 [00:18<00:00,  1.25s/it]\n",
      "Generating images:  12%|█▏        | 293/2478 [1:30:50<13:33:31, 22.34s/images]"
     ]
    },
    {
     "name": "stdout",
     "output_type": "stream",
     "text": [
      "Prompt: \n",
      " A medium shot view of a brown cardboard box with green tape from the Amazon webshop, in front of a city center background, the weather is rainy, high photorealistic quality.\n"
     ]
    },
    {
     "name": "stderr",
     "output_type": "stream",
     "text": [
      "100%|██████████| 15/15 [00:16<00:00,  1.10s/it]\n",
      "Generating images:  12%|█▏        | 294/2478 [1:31:10<13:02:05, 21.49s/images]"
     ]
    },
    {
     "name": "stdout",
     "output_type": "stream",
     "text": [
      "Prompt: \n",
      " A medium shot view of a smiling person holding a white cardboard box with green tape from the Nike webshop in her hands, standing in front of a doorstep of a house background, the weather is sunny, high photorealistic quality.\n"
     ]
    },
    {
     "name": "stderr",
     "output_type": "stream",
     "text": [
      "100%|██████████| 15/15 [00:14<00:00,  1.01it/s]\n",
      "Generating images:  12%|█▏        | 295/2478 [1:31:27<12:20:41, 20.36s/images]"
     ]
    },
    {
     "name": "stdout",
     "output_type": "stream",
     "text": [
      "Prompt: \n",
      " A medium shot view of a colorful cardboard box with yellow tape from the Amazon webshop, in front of a quite neighborhood street and garden background, the weather is rainy, high photorealistic quality.\n"
     ]
    },
    {
     "name": "stderr",
     "output_type": "stream",
     "text": [
      "100%|██████████| 15/15 [00:14<00:00,  1.02it/s]\n",
      "Generating images:  12%|█▏        | 296/2478 [1:31:45<11:50:28, 19.54s/images]"
     ]
    },
    {
     "name": "stdout",
     "output_type": "stream",
     "text": [
      "Prompt: \n",
      " A medium shot view of a sad person holding a brown cardboard box with a barcode from the Zara webshop in her hands, standing in front of a doorstep of a house background, the weather is rainy, high photorealistic quality.\n"
     ]
    },
    {
     "name": "stderr",
     "output_type": "stream",
     "text": [
      "100%|██████████| 15/15 [00:14<00:00,  1.03it/s]\n",
      "Generating images:  12%|█▏        | 297/2478 [1:32:02<11:25:37, 18.86s/images]"
     ]
    },
    {
     "name": "stdout",
     "output_type": "stream",
     "text": [
      "Prompt: \n",
      " A medium shot view of a white cardboard box with a barcode from a webshop, in front of a quite neighborhood street and trees background, the weather is cloudy, high photorealistic quality.\n"
     ]
    },
    {
     "name": "stderr",
     "output_type": "stream",
     "text": [
      "100%|██████████| 15/15 [00:14<00:00,  1.05it/s]\n",
      "Generating images:  12%|█▏        | 298/2478 [1:32:19<11:05:07, 18.31s/images]"
     ]
    },
    {
     "name": "stdout",
     "output_type": "stream",
     "text": [
      "Prompt: \n",
      " A medium shot view of a young man holding a colorful cardboard box with green tape from the Amazon webshop in his hands, standing in front of a appartment building background, the weather is rainy, high photorealistic quality.\n"
     ]
    },
    {
     "name": "stderr",
     "output_type": "stream",
     "text": [
      "100%|██████████| 15/15 [00:14<00:00,  1.05it/s]\n",
      "Generating images:  12%|█▏        | 299/2478 [1:32:37<10:53:44, 18.00s/images]"
     ]
    },
    {
     "name": "stdout",
     "output_type": "stream",
     "text": [
      "Prompt: \n",
      " A medium shot view of a white cardboard box with blue tape from the Coolblue webshop, in front of a busy city street and cars background, the weather is snowy, high photorealistic quality.\n"
     ]
    },
    {
     "name": "stderr",
     "output_type": "stream",
     "text": [
      "100%|██████████| 15/15 [00:15<00:00,  1.05s/it]\n",
      "Generating images:  12%|█▏        | 300/2478 [1:32:56<11:02:36, 18.25s/images]"
     ]
    },
    {
     "name": "stdout",
     "output_type": "stream",
     "text": [
      "Prompt: \n",
      " A medium shot view of a happy lady holding a brown cardboard box with a barcode from the Coolblue webshop in her hands, standing in front of a street background, the weather is snowy, high photorealistic quality.\n"
     ]
    },
    {
     "name": "stderr",
     "output_type": "stream",
     "text": [
      "100%|██████████| 15/15 [00:15<00:00,  1.03s/it]\n",
      "Generating images:  12%|█▏        | 301/2478 [1:33:14<11:07:04, 18.39s/images]"
     ]
    },
    {
     "name": "stdout",
     "output_type": "stream",
     "text": [
      "Prompt: \n",
      " A medium shot view of a black cardboard box with green tape from a webshop, in front of a busy city street and cars background, the weather is sunny, high photorealistic quality.\n"
     ]
    },
    {
     "name": "stderr",
     "output_type": "stream",
     "text": [
      "100%|██████████| 15/15 [00:16<00:00,  1.10s/it]\n",
      "Generating images:  12%|█▏        | 302/2478 [1:33:34<11:21:59, 18.80s/images]"
     ]
    },
    {
     "name": "stdout",
     "output_type": "stream",
     "text": [
      "Prompt: \n",
      " A medium shot view of a smiling woman holding a brown cardboard box with black tape from a webshop in her hands, standing in front of a busy city street and people background, the weather is cloudy, high photorealistic quality.\n"
     ]
    },
    {
     "name": "stderr",
     "output_type": "stream",
     "text": [
      "100%|██████████| 15/15 [00:16<00:00,  1.07s/it]\n",
      "Generating images:  12%|█▏        | 303/2478 [1:33:53<11:24:21, 18.88s/images]"
     ]
    },
    {
     "name": "stdout",
     "output_type": "stream",
     "text": [
      "Prompt: \n",
      " A medium shot view of a black cardboard box with a number from the Amazon webshop, in front of a busy city street and cars background, the weather is rainy, high photorealistic quality.\n"
     ]
    },
    {
     "name": "stderr",
     "output_type": "stream",
     "text": [
      "100%|██████████| 15/15 [00:16<00:00,  1.08s/it]\n",
      "Generating images:  12%|█▏        | 304/2478 [1:34:13<11:32:50, 19.12s/images]"
     ]
    },
    {
     "name": "stdout",
     "output_type": "stream",
     "text": [
      "Prompt: \n",
      " A medium shot view of a smiling boy holding a colorful cardboard box with black tape from the Amazon webshop in his hands, standing in front of a quite neighborhood street and cars background, the weather is snowy, high photorealistic quality.\n"
     ]
    },
    {
     "name": "stderr",
     "output_type": "stream",
     "text": [
      "100%|██████████| 15/15 [00:15<00:00,  1.04s/it]\n",
      "Generating images:  12%|█▏        | 305/2478 [1:34:31<11:28:06, 19.00s/images]"
     ]
    },
    {
     "name": "stdout",
     "output_type": "stream",
     "text": [
      "Prompt: \n",
      " A medium shot view of a white cardboard box with blue tape from the Coolblue webshop, in front of a appartment building background, the weather is sunny, high photorealistic quality.\n"
     ]
    },
    {
     "name": "stderr",
     "output_type": "stream",
     "text": [
      "100%|██████████| 15/15 [00:15<00:00,  1.06s/it]\n",
      "Generating images:  12%|█▏        | 306/2478 [1:34:50<11:25:36, 18.94s/images]"
     ]
    },
    {
     "name": "stdout",
     "output_type": "stream",
     "text": [
      "Prompt: \n",
      " A medium shot view of a sad woman holding a white cardboard box with red tape from the Nike webshop in her hands, standing in front of a busy city street and cars background, the weather is sunny, high photorealistic quality.\n"
     ]
    },
    {
     "name": "stderr",
     "output_type": "stream",
     "text": [
      "100%|██████████| 15/15 [00:14<00:00,  1.01it/s]\n",
      "Generating images:  12%|█▏        | 307/2478 [1:35:08<11:11:34, 18.56s/images]"
     ]
    },
    {
     "name": "stdout",
     "output_type": "stream",
     "text": [
      "Prompt: \n",
      " A medium shot view of a white cardboard box with a number from a webshop, in front of a quite neighborhood street and cars background, the weather is sunny, high photorealistic quality.\n"
     ]
    },
    {
     "name": "stderr",
     "output_type": "stream",
     "text": [
      "100%|██████████| 15/15 [00:14<00:00,  1.01it/s]\n",
      "Generating images:  12%|█▏        | 308/2478 [1:35:26<11:02:56, 18.33s/images]"
     ]
    },
    {
     "name": "stdout",
     "output_type": "stream",
     "text": [
      "Prompt: \n",
      " A medium shot view of a smiling man holding a black cardboard box with red tape from the Nike webshop in his hands, standing in front of a doorstep of a house background, the weather is cloudy, high photorealistic quality.\n"
     ]
    },
    {
     "name": "stderr",
     "output_type": "stream",
     "text": [
      "100%|██████████| 15/15 [00:16<00:00,  1.08s/it]\n",
      "Generating images:  12%|█▏        | 309/2478 [1:35:46<11:18:42, 18.77s/images]"
     ]
    },
    {
     "name": "stdout",
     "output_type": "stream",
     "text": [
      "Prompt: \n",
      " A medium shot view of a white cardboard box with a number from the Adidas webshop, in front of a street background, the weather is snowy, high photorealistic quality.\n"
     ]
    },
    {
     "name": "stderr",
     "output_type": "stream",
     "text": [
      "100%|██████████| 15/15 [00:18<00:00,  1.23s/it]\n",
      "Generating images:  13%|█▎        | 310/2478 [1:36:07<11:47:56, 19.59s/images]"
     ]
    },
    {
     "name": "stdout",
     "output_type": "stream",
     "text": [
      "Prompt: \n",
      " A medium shot view of a happy person holding a white cardboard box with a qr code from a webshop in her hands, standing in front of a doorstep of a house background, the weather is sunny, high photorealistic quality.\n"
     ]
    },
    {
     "name": "stderr",
     "output_type": "stream",
     "text": [
      "100%|██████████| 15/15 [00:15<00:00,  1.03s/it]\n",
      "Generating images:  13%|█▎        | 311/2478 [1:36:26<11:36:43, 19.29s/images]"
     ]
    },
    {
     "name": "stdout",
     "output_type": "stream",
     "text": [
      "Prompt: \n",
      " A medium shot view of a colorful cardboard box with blue tape from the Amazon webshop, in front of a quite neighborhood street and trees background, the weather is sunny, high photorealistic quality.\n"
     ]
    },
    {
     "name": "stderr",
     "output_type": "stream",
     "text": [
      "100%|██████████| 15/15 [00:14<00:00,  1.04it/s]\n",
      "Generating images:  13%|█▎        | 312/2478 [1:36:43<11:12:28, 18.63s/images]"
     ]
    },
    {
     "name": "stdout",
     "output_type": "stream",
     "text": [
      "Prompt: \n",
      " A medium shot view of a young man holding a white cardboard box with yellow tape from the Adidas webshop in his hands, standing in front of a busy city street and people background, the weather is cloudy, high photorealistic quality.\n"
     ]
    },
    {
     "name": "stderr",
     "output_type": "stream",
     "text": [
      "100%|██████████| 15/15 [00:14<00:00,  1.04it/s]\n",
      "Generating images:  13%|█▎        | 313/2478 [1:37:00<10:57:07, 18.21s/images]"
     ]
    },
    {
     "name": "stdout",
     "output_type": "stream",
     "text": [
      "Prompt: \n",
      " A medium shot view of a colorful cardboard box with green tape from the Amazon webshop, in front of a quite neighborhood street and garden background, the weather is sunny, high photorealistic quality.\n"
     ]
    },
    {
     "name": "stderr",
     "output_type": "stream",
     "text": [
      "100%|██████████| 15/15 [00:14<00:00,  1.03it/s]\n",
      "Generating images:  13%|█▎        | 314/2478 [1:37:17<10:46:04, 17.91s/images]"
     ]
    },
    {
     "name": "stdout",
     "output_type": "stream",
     "text": [
      "Prompt: \n",
      " A medium shot view of a happy woman holding a black cardboard box with blue tape from the Amazon webshop in her hands, standing in front of a doorstep of a house background, the weather is rainy, high photorealistic quality.\n"
     ]
    },
    {
     "name": "stderr",
     "output_type": "stream",
     "text": [
      "100%|██████████| 15/15 [00:14<00:00,  1.05it/s]\n",
      "Generating images:  13%|█▎        | 315/2478 [1:37:34<10:35:15, 17.62s/images]"
     ]
    },
    {
     "name": "stdout",
     "output_type": "stream",
     "text": [
      "Prompt: \n",
      " A medium shot view of a white cardboard box with a barcode from a webshop, in front of a quite neighborhood street and cars background, the weather is rainy, high photorealistic quality.\n"
     ]
    },
    {
     "name": "stderr",
     "output_type": "stream",
     "text": [
      "100%|██████████| 15/15 [00:14<00:00,  1.03it/s]\n",
      "Generating images:  13%|█▎        | 316/2478 [1:37:51<10:31:59, 17.54s/images]"
     ]
    },
    {
     "name": "stdout",
     "output_type": "stream",
     "text": [
      "Prompt: \n",
      " A medium shot view of a smiling lady holding a white cardboard box with blue tape from the Zara webshop in her hands, standing in front of a quite neighborhood street and garden background, the weather is cloudy, high photorealistic quality.\n"
     ]
    },
    {
     "name": "stderr",
     "output_type": "stream",
     "text": [
      "100%|██████████| 15/15 [00:14<00:00,  1.05it/s]\n",
      "Generating images:  13%|█▎        | 317/2478 [1:38:08<10:25:51, 17.38s/images]"
     ]
    },
    {
     "name": "stdout",
     "output_type": "stream",
     "text": [
      "Prompt: \n",
      " A medium shot view of a brown cardboard box with black tape from the Adidas webshop, in front of a street background, the weather is cloudy, high photorealistic quality.\n"
     ]
    },
    {
     "name": "stderr",
     "output_type": "stream",
     "text": [
      "100%|██████████| 15/15 [00:14<00:00,  1.04it/s]\n",
      "Generating images:  13%|█▎        | 318/2478 [1:38:26<10:29:52, 17.50s/images]"
     ]
    },
    {
     "name": "stdout",
     "output_type": "stream",
     "text": [
      "Prompt: \n",
      " A medium shot view of a frowning person holding a brown cardboard box with red tape from the Amazon webshop in her hands, standing in front of a busy city street and people background, the weather is sunny, high photorealistic quality.\n"
     ]
    },
    {
     "name": "stderr",
     "output_type": "stream",
     "text": [
      "100%|██████████| 15/15 [00:14<00:00,  1.03it/s]\n",
      "Generating images:  13%|█▎        | 319/2478 [1:38:43<10:26:09, 17.40s/images]"
     ]
    },
    {
     "name": "stdout",
     "output_type": "stream",
     "text": [
      "Prompt: \n",
      " A medium shot view of a colorful cardboard box with yellow tape from the Coolblue webshop, in front of a quite neighborhood street and garden background, the weather is rainy, high photorealistic quality.\n"
     ]
    },
    {
     "name": "stderr",
     "output_type": "stream",
     "text": [
      "100%|██████████| 15/15 [00:14<00:00,  1.05it/s]\n",
      "Generating images:  13%|█▎        | 320/2478 [1:39:00<10:21:19, 17.28s/images]"
     ]
    },
    {
     "name": "stdout",
     "output_type": "stream",
     "text": [
      "Prompt: \n",
      " A medium shot view of a frowning person holding a colorful cardboard box with yellow tape from the Coolblue webshop in her hands, standing in front of a garbage curb background, the weather is rainy, high photorealistic quality.\n"
     ]
    },
    {
     "name": "stderr",
     "output_type": "stream",
     "text": [
      "100%|██████████| 15/15 [00:15<00:00,  1.03s/it]\n",
      "Generating images:  13%|█▎        | 321/2478 [1:39:19<10:32:19, 17.59s/images]"
     ]
    },
    {
     "name": "stdout",
     "output_type": "stream",
     "text": [
      "Prompt: \n",
      " A medium shot view of a white cardboard box with green tape from the Amazon webshop, in front of a busy city street and cars background, the weather is cloudy, high photorealistic quality.\n"
     ]
    },
    {
     "name": "stderr",
     "output_type": "stream",
     "text": [
      "100%|██████████| 15/15 [00:15<00:00,  1.01s/it]\n",
      "Generating images:  13%|█▎        | 322/2478 [1:39:36<10:33:57, 17.64s/images]"
     ]
    },
    {
     "name": "stdout",
     "output_type": "stream",
     "text": [
      "Prompt: \n",
      " A medium shot view of a happy lady holding a colorful cardboard box with yellow tape from the Zara webshop in her hands, standing in front of a street background, the weather is rainy, high photorealistic quality.\n"
     ]
    },
    {
     "name": "stderr",
     "output_type": "stream",
     "text": [
      "100%|██████████| 15/15 [00:14<00:00,  1.03it/s]\n",
      "Generating images:  13%|█▎        | 323/2478 [1:39:54<10:29:42, 17.53s/images]"
     ]
    },
    {
     "name": "stdout",
     "output_type": "stream",
     "text": [
      "Prompt: \n",
      " A medium shot view of a brown cardboard box with yellow tape from the Amazon webshop, in front of a doorstep of a house background, the weather is rainy, high photorealistic quality.\n"
     ]
    },
    {
     "name": "stderr",
     "output_type": "stream",
     "text": [
      "100%|██████████| 15/15 [00:14<00:00,  1.05it/s]\n",
      "Generating images:  13%|█▎        | 324/2478 [1:40:11<10:25:41, 17.43s/images]"
     ]
    },
    {
     "name": "stdout",
     "output_type": "stream",
     "text": [
      "Prompt: \n",
      " A medium shot view of a sad woman holding a colorful cardboard box with blue tape from the Nike webshop in her hands, standing in front of a city center background, the weather is snowy, high photorealistic quality.\n"
     ]
    },
    {
     "name": "stderr",
     "output_type": "stream",
     "text": [
      "100%|██████████| 15/15 [00:15<00:00,  1.00s/it]\n",
      "Generating images:  13%|█▎        | 325/2478 [1:40:29<10:29:03, 17.53s/images]"
     ]
    },
    {
     "name": "stdout",
     "output_type": "stream",
     "text": [
      "Prompt: \n",
      " A medium shot view of a brown cardboard box with yellow tape from the Nike webshop, in front of a street background, the weather is rainy, high photorealistic quality.\n"
     ]
    },
    {
     "name": "stderr",
     "output_type": "stream",
     "text": [
      "100%|██████████| 15/15 [00:14<00:00,  1.05it/s]\n",
      "Generating images:  13%|█▎        | 326/2478 [1:40:46<10:23:26, 17.38s/images]"
     ]
    },
    {
     "name": "stdout",
     "output_type": "stream",
     "text": [
      "Prompt: \n",
      " A medium shot view of an old lady holding a brown cardboard box with red tape from a webshop in her hands, standing in front of a quite neighborhood street and cars background, the weather is snowy, high photorealistic quality.\n"
     ]
    },
    {
     "name": "stderr",
     "output_type": "stream",
     "text": [
      "100%|██████████| 15/15 [00:14<00:00,  1.02it/s]\n",
      "Generating images:  13%|█▎        | 327/2478 [1:41:03<10:25:00, 17.43s/images]"
     ]
    },
    {
     "name": "stdout",
     "output_type": "stream",
     "text": [
      "Prompt: \n",
      " A medium shot view of a black cardboard box with black tape from the Coolblue webshop, in front of a busy city street and cars background, the weather is sunny, high photorealistic quality.\n"
     ]
    },
    {
     "name": "stderr",
     "output_type": "stream",
     "text": [
      "100%|██████████| 15/15 [00:14<00:00,  1.03it/s]\n",
      "Generating images:  13%|█▎        | 328/2478 [1:41:21<10:25:05, 17.44s/images]"
     ]
    },
    {
     "name": "stdout",
     "output_type": "stream",
     "text": [
      "Prompt: \n",
      " A medium shot view of an angry lady holding a brown cardboard box with red tape from the Coolblue webshop in her hands, standing in front of a city center background, the weather is snowy, high photorealistic quality.\n"
     ]
    },
    {
     "name": "stderr",
     "output_type": "stream",
     "text": [
      "100%|██████████| 15/15 [00:15<00:00,  1.00s/it]\n",
      "Generating images:  13%|█▎        | 329/2478 [1:41:39<10:28:57, 17.56s/images]"
     ]
    },
    {
     "name": "stdout",
     "output_type": "stream",
     "text": [
      "Prompt: \n",
      " A medium shot view of a white cardboard box with a barcode from the Adidas webshop, in front of a doorstep of a house background, the weather is cloudy, high photorealistic quality.\n"
     ]
    },
    {
     "name": "stderr",
     "output_type": "stream",
     "text": [
      "100%|██████████| 15/15 [00:14<00:00,  1.04it/s]\n",
      "Generating images:  13%|█▎        | 330/2478 [1:41:56<10:25:05, 17.46s/images]"
     ]
    },
    {
     "name": "stdout",
     "output_type": "stream",
     "text": [
      "Prompt: \n",
      " A medium shot view of an angry man holding a black cardboard box with a qr code from the Amazon webshop in his hands, standing in front of a city center background, the weather is snowy, high photorealistic quality.\n"
     ]
    },
    {
     "name": "stderr",
     "output_type": "stream",
     "text": [
      "100%|██████████| 15/15 [00:14<00:00,  1.02it/s]\n",
      "Generating images:  13%|█▎        | 331/2478 [1:42:14<10:29:48, 17.60s/images]"
     ]
    },
    {
     "name": "stdout",
     "output_type": "stream",
     "text": [
      "Prompt: \n",
      " A medium shot view of a colorful cardboard box with black tape from the Adidas webshop, in front of a appartment building background, the weather is sunny, high photorealistic quality.\n"
     ]
    },
    {
     "name": "stderr",
     "output_type": "stream",
     "text": [
      "100%|██████████| 15/15 [00:15<00:00,  1.02s/it]\n",
      "Generating images:  13%|█▎        | 332/2478 [1:42:32<10:34:13, 17.73s/images]"
     ]
    },
    {
     "name": "stdout",
     "output_type": "stream",
     "text": [
      "Prompt: \n",
      " A medium shot view of a frowning lady holding a colorful cardboard box with a barcode from the Amazon webshop in her hands, standing in front of a quite neighborhood street and garden background, the weather is sunny, high photorealistic quality.\n"
     ]
    },
    {
     "name": "stderr",
     "output_type": "stream",
     "text": [
      "100%|██████████| 15/15 [00:14<00:00,  1.04it/s]\n",
      "Generating images:  13%|█▎        | 333/2478 [1:42:49<10:27:16, 17.55s/images]"
     ]
    },
    {
     "name": "stdout",
     "output_type": "stream",
     "text": [
      "Prompt: \n",
      " A medium shot view of a white cardboard box with yellow tape from the Zara webshop, in front of a quite neighborhood street and garden background, the weather is sunny, high photorealistic quality.\n"
     ]
    },
    {
     "name": "stderr",
     "output_type": "stream",
     "text": [
      "100%|██████████| 15/15 [00:14<00:00,  1.00it/s]\n",
      "Generating images:  13%|█▎        | 334/2478 [1:43:07<10:28:06, 17.58s/images]"
     ]
    },
    {
     "name": "stdout",
     "output_type": "stream",
     "text": [
      "Prompt: \n",
      " A medium shot view of a sad person holding a brown cardboard box with a number from a webshop in her hands, standing in front of a city center background, the weather is cloudy, high photorealistic quality.\n"
     ]
    },
    {
     "name": "stderr",
     "output_type": "stream",
     "text": [
      "100%|██████████| 15/15 [00:14<00:00,  1.04it/s]\n",
      "Generating images:  14%|█▎        | 335/2478 [1:43:24<10:23:53, 17.47s/images]"
     ]
    },
    {
     "name": "stdout",
     "output_type": "stream",
     "text": [
      "Prompt: \n",
      " A medium shot view of a black cardboard box with blue tape from the Nike webshop, in front of a street background, the weather is snowy, high photorealistic quality.\n"
     ]
    },
    {
     "name": "stderr",
     "output_type": "stream",
     "text": [
      "100%|██████████| 15/15 [00:14<00:00,  1.03it/s]\n",
      "Generating images:  14%|█▎        | 336/2478 [1:43:41<10:20:45, 17.39s/images]"
     ]
    },
    {
     "name": "stdout",
     "output_type": "stream",
     "text": [
      "Prompt: \n",
      " A medium shot view of a sad woman holding a black cardboard box with blue tape from the Nike webshop in her hands, standing in front of a city center background, the weather is snowy, high photorealistic quality.\n"
     ]
    },
    {
     "name": "stderr",
     "output_type": "stream",
     "text": [
      "100%|██████████| 15/15 [00:14<00:00,  1.04it/s]\n",
      "Generating images:  14%|█▎        | 337/2478 [1:43:58<10:17:36, 17.31s/images]"
     ]
    },
    {
     "name": "stdout",
     "output_type": "stream",
     "text": [
      "Prompt: \n",
      " A medium shot view of a black cardboard box with a number from the Nike webshop, in front of a quite neighborhood street and cars background, the weather is sunny, high photorealistic quality.\n"
     ]
    },
    {
     "name": "stderr",
     "output_type": "stream",
     "text": [
      "100%|██████████| 15/15 [00:14<00:00,  1.04it/s]\n",
      "Generating images:  14%|█▎        | 338/2478 [1:44:15<10:15:13, 17.25s/images]"
     ]
    },
    {
     "name": "stdout",
     "output_type": "stream",
     "text": [
      "Prompt: \n",
      " A medium shot view of a happy person holding a white cardboard box with green tape from the Amazon webshop in her hands, standing in front of a appartment building background, the weather is sunny, high photorealistic quality.\n"
     ]
    },
    {
     "name": "stderr",
     "output_type": "stream",
     "text": [
      "100%|██████████| 15/15 [00:14<00:00,  1.04it/s]\n",
      "Generating images:  14%|█▎        | 339/2478 [1:44:32<10:13:13, 17.20s/images]"
     ]
    },
    {
     "name": "stdout",
     "output_type": "stream",
     "text": [
      "Prompt: \n",
      " A medium shot view of a black cardboard box with green tape from the Zara webshop, in front of a quite neighborhood street and trees background, the weather is sunny, high photorealistic quality.\n"
     ]
    },
    {
     "name": "stderr",
     "output_type": "stream",
     "text": [
      "100%|██████████| 15/15 [00:15<00:00,  1.02s/it]\n",
      "Generating images:  14%|█▎        | 340/2478 [1:44:50<10:20:53, 17.42s/images]"
     ]
    },
    {
     "name": "stdout",
     "output_type": "stream",
     "text": [
      "Prompt: \n",
      " A medium shot view of a frowning person holding a black cardboard box with a number from the Coolblue webshop in her hands, standing in front of a quite neighborhood street and cars background, the weather is snowy, high photorealistic quality.\n"
     ]
    },
    {
     "name": "stderr",
     "output_type": "stream",
     "text": [
      "100%|██████████| 15/15 [00:14<00:00,  1.02it/s]\n",
      "Generating images:  14%|█▍        | 341/2478 [1:45:08<10:25:46, 17.57s/images]"
     ]
    },
    {
     "name": "stdout",
     "output_type": "stream",
     "text": [
      "Prompt: \n",
      " A medium shot view of a brown cardboard box with green tape from the Nike webshop, in front of a doorstep of a house background, the weather is rainy, high photorealistic quality.\n"
     ]
    },
    {
     "name": "stderr",
     "output_type": "stream",
     "text": [
      "100%|██████████| 15/15 [00:14<00:00,  1.02it/s]\n",
      "Generating images:  14%|█▍        | 342/2478 [1:45:26<10:23:48, 17.52s/images]"
     ]
    },
    {
     "name": "stdout",
     "output_type": "stream",
     "text": [
      "Prompt: \n",
      " A medium shot view of a frowning lady holding a colorful cardboard box with blue tape from the Nike webshop in her hands, standing in front of a quite neighborhood street and cars background, the weather is snowy, high photorealistic quality.\n"
     ]
    },
    {
     "name": "stderr",
     "output_type": "stream",
     "text": [
      "100%|██████████| 15/15 [00:14<00:00,  1.05it/s]\n",
      "Generating images:  14%|█▍        | 343/2478 [1:45:43<10:19:03, 17.40s/images]"
     ]
    },
    {
     "name": "stdout",
     "output_type": "stream",
     "text": [
      "Prompt: \n",
      " A medium shot view of a white cardboard box with green tape from the Nike webshop, in front of a busy city street and cars background, the weather is cloudy, high photorealistic quality.\n"
     ]
    },
    {
     "name": "stderr",
     "output_type": "stream",
     "text": [
      "100%|██████████| 15/15 [00:15<00:00,  1.00s/it]\n",
      "Generating images:  14%|█▍        | 344/2478 [1:46:01<10:26:43, 17.62s/images]"
     ]
    },
    {
     "name": "stdout",
     "output_type": "stream",
     "text": [
      "Prompt: \n",
      " A medium shot view of a sad person holding a white cardboard box with black tape from the Coolblue webshop in her hands, standing in front of a city center background, the weather is sunny, high photorealistic quality.\n"
     ]
    },
    {
     "name": "stderr",
     "output_type": "stream",
     "text": [
      "100%|██████████| 15/15 [00:15<00:00,  1.03s/it]\n",
      "Generating images:  14%|█▍        | 345/2478 [1:46:19<10:37:19, 17.93s/images]"
     ]
    },
    {
     "name": "stdout",
     "output_type": "stream",
     "text": [
      "Prompt: \n",
      " A medium shot view of a brown cardboard box with a qr code from the Coolblue webshop, in front of a busy city street and cars background, the weather is cloudy, high photorealistic quality.\n"
     ]
    },
    {
     "name": "stderr",
     "output_type": "stream",
     "text": [
      "100%|██████████| 15/15 [00:14<00:00,  1.03it/s]\n",
      "Generating images:  14%|█▍        | 346/2478 [1:46:37<10:32:15, 17.79s/images]"
     ]
    },
    {
     "name": "stdout",
     "output_type": "stream",
     "text": [
      "Prompt: \n",
      " A medium shot view of a smiling boy holding a black cardboard box with blue tape from the Nike webshop in his hands, standing in front of a garbage curb background, the weather is cloudy, high photorealistic quality.\n"
     ]
    },
    {
     "name": "stderr",
     "output_type": "stream",
     "text": [
      "100%|██████████| 15/15 [00:14<00:00,  1.00it/s]\n",
      "Generating images:  14%|█▍        | 347/2478 [1:46:55<10:35:08, 17.88s/images]"
     ]
    },
    {
     "name": "stdout",
     "output_type": "stream",
     "text": [
      "Prompt: \n",
      " A medium shot view of a black cardboard box with yellow tape from the Nike webshop, in front of a quite neighborhood street and cars background, the weather is sunny, high photorealistic quality.\n"
     ]
    },
    {
     "name": "stderr",
     "output_type": "stream",
     "text": [
      "100%|██████████| 15/15 [00:14<00:00,  1.04it/s]\n",
      "Generating images:  14%|█▍        | 348/2478 [1:47:12<10:27:36, 17.68s/images]"
     ]
    },
    {
     "name": "stdout",
     "output_type": "stream",
     "text": [
      "Prompt: \n",
      " A medium shot view of a frowning lady holding a brown cardboard box with a barcode from the Adidas webshop in her hands, standing in front of a doorstep of a house background, the weather is snowy, high photorealistic quality.\n"
     ]
    },
    {
     "name": "stderr",
     "output_type": "stream",
     "text": [
      "100%|██████████| 15/15 [00:14<00:00,  1.02it/s]\n",
      "Generating images:  14%|█▍        | 349/2478 [1:47:30<10:24:35, 17.60s/images]"
     ]
    },
    {
     "name": "stdout",
     "output_type": "stream",
     "text": [
      "Prompt: \n",
      " A medium shot view of a brown cardboard box with a number from the Nike webshop, in front of a street background, the weather is rainy, high photorealistic quality.\n"
     ]
    },
    {
     "name": "stderr",
     "output_type": "stream",
     "text": [
      "100%|██████████| 15/15 [00:14<00:00,  1.02it/s]\n",
      "Generating images:  14%|█▍        | 350/2478 [1:47:47<10:23:02, 17.57s/images]"
     ]
    },
    {
     "name": "stdout",
     "output_type": "stream",
     "text": [
      "Prompt: \n",
      " A medium shot view of a young woman holding a brown cardboard box with yellow tape from the Coolblue webshop in her hands, standing in front of a busy city street and people background, the weather is snowy, high photorealistic quality.\n"
     ]
    },
    {
     "name": "stderr",
     "output_type": "stream",
     "text": [
      "100%|██████████| 15/15 [00:14<00:00,  1.03it/s]\n",
      "Generating images:  14%|█▍        | 351/2478 [1:48:04<10:18:59, 17.46s/images]"
     ]
    },
    {
     "name": "stdout",
     "output_type": "stream",
     "text": [
      "Prompt: \n",
      " A medium shot view of a colorful cardboard box with blue tape from a webshop, in front of a street background, the weather is sunny, high photorealistic quality.\n"
     ]
    },
    {
     "name": "stderr",
     "output_type": "stream",
     "text": [
      "100%|██████████| 15/15 [00:15<00:00,  1.03s/it]\n",
      "Generating images:  14%|█▍        | 352/2478 [1:48:23<10:28:25, 17.74s/images]"
     ]
    },
    {
     "name": "stdout",
     "output_type": "stream",
     "text": [
      "Prompt: \n",
      " A medium shot view of a happy lady holding a brown cardboard box with a number from a webshop in her hands, standing in front of a quite neighborhood street and garden background, the weather is sunny, high photorealistic quality.\n"
     ]
    },
    {
     "name": "stderr",
     "output_type": "stream",
     "text": [
      "100%|██████████| 15/15 [00:14<00:00,  1.02it/s]\n",
      "Generating images:  14%|█▍        | 353/2478 [1:48:40<10:25:22, 17.66s/images]"
     ]
    },
    {
     "name": "stdout",
     "output_type": "stream",
     "text": [
      "Prompt: \n",
      " A medium shot view of a black cardboard box with red tape from the Zara webshop, in front of a street background, the weather is cloudy, high photorealistic quality.\n"
     ]
    },
    {
     "name": "stderr",
     "output_type": "stream",
     "text": [
      "100%|██████████| 15/15 [00:14<00:00,  1.05it/s]\n",
      "Generating images:  14%|█▍        | 354/2478 [1:48:57<10:18:05, 17.46s/images]"
     ]
    },
    {
     "name": "stdout",
     "output_type": "stream",
     "text": [
      "Prompt: \n",
      " A medium shot view of an old person holding a black cardboard box with a number from the Coolblue webshop in her hands, standing in front of a quite neighborhood street and trees background, the weather is rainy, high photorealistic quality.\n"
     ]
    },
    {
     "name": "stderr",
     "output_type": "stream",
     "text": [
      "100%|██████████| 15/15 [00:14<00:00,  1.04it/s]\n",
      "Generating images:  14%|█▍        | 355/2478 [1:49:14<10:13:21, 17.33s/images]"
     ]
    },
    {
     "name": "stdout",
     "output_type": "stream",
     "text": [
      "Prompt: \n",
      " A medium shot view of a white cardboard box with red tape from the Adidas webshop, in front of a quite neighborhood street and trees background, the weather is snowy, high photorealistic quality.\n"
     ]
    },
    {
     "name": "stderr",
     "output_type": "stream",
     "text": [
      "100%|██████████| 15/15 [00:14<00:00,  1.05it/s]\n",
      "Generating images:  14%|█▍        | 356/2478 [1:49:31<10:09:40, 17.24s/images]"
     ]
    },
    {
     "name": "stdout",
     "output_type": "stream",
     "text": [
      "Prompt: \n",
      " A medium shot view of a smiling man holding a colorful cardboard box with black tape from the Zara webshop in his hands, standing in front of a quite neighborhood street and trees background, the weather is cloudy, high photorealistic quality.\n"
     ]
    },
    {
     "name": "stderr",
     "output_type": "stream",
     "text": [
      "100%|██████████| 15/15 [00:14<00:00,  1.05it/s]\n",
      "Generating images:  14%|█▍        | 357/2478 [1:49:48<10:06:41, 17.16s/images]"
     ]
    },
    {
     "name": "stdout",
     "output_type": "stream",
     "text": [
      "Prompt: \n",
      " A medium shot view of a black cardboard box with a qr code from a webshop, in front of a appartment building background, the weather is rainy, high photorealistic quality.\n"
     ]
    },
    {
     "name": "stderr",
     "output_type": "stream",
     "text": [
      "100%|██████████| 15/15 [00:14<00:00,  1.05it/s]\n",
      "Generating images:  14%|█▍        | 358/2478 [1:50:05<10:05:16, 17.13s/images]"
     ]
    },
    {
     "name": "stdout",
     "output_type": "stream",
     "text": [
      "Prompt: \n",
      " A medium shot view of a frowning lady holding a black cardboard box with black tape from the Zara webshop in her hands, standing in front of a street background, the weather is cloudy, high photorealistic quality.\n"
     ]
    },
    {
     "name": "stderr",
     "output_type": "stream",
     "text": [
      "100%|██████████| 15/15 [00:14<00:00,  1.05it/s]\n",
      "Generating images:  14%|█▍        | 359/2478 [1:50:22<10:03:31, 17.09s/images]"
     ]
    },
    {
     "name": "stdout",
     "output_type": "stream",
     "text": [
      "Prompt: \n",
      " A medium shot view of a colorful cardboard box with a barcode from the Coolblue webshop, in front of a appartment building background, the weather is rainy, high photorealistic quality.\n"
     ]
    },
    {
     "name": "stderr",
     "output_type": "stream",
     "text": [
      "100%|██████████| 15/15 [00:14<00:00,  1.00it/s]\n",
      "Generating images:  15%|█▍        | 360/2478 [1:50:40<10:11:59, 17.34s/images]"
     ]
    },
    {
     "name": "stdout",
     "output_type": "stream",
     "text": [
      "Prompt: \n",
      " A medium shot view of a smiling person holding a brown cardboard box with a qr code from a webshop in her hands, standing in front of a quite neighborhood street and garden background, the weather is sunny, high photorealistic quality.\n"
     ]
    },
    {
     "name": "stderr",
     "output_type": "stream",
     "text": [
      "100%|██████████| 15/15 [00:14<00:00,  1.05it/s]\n",
      "Generating images:  15%|█▍        | 361/2478 [1:50:57<10:07:37, 17.22s/images]"
     ]
    },
    {
     "name": "stdout",
     "output_type": "stream",
     "text": [
      "Prompt: \n",
      " A medium shot view of a brown cardboard box with a qr code from the Zara webshop, in front of a quite neighborhood street and garden background, the weather is sunny, high photorealistic quality.\n"
     ]
    },
    {
     "name": "stderr",
     "output_type": "stream",
     "text": [
      "100%|██████████| 15/15 [00:14<00:00,  1.05it/s]\n",
      "Generating images:  15%|█▍        | 362/2478 [1:51:14<10:05:10, 17.16s/images]"
     ]
    },
    {
     "name": "stdout",
     "output_type": "stream",
     "text": [
      "Prompt: \n",
      " A medium shot view of a happy man holding a white cardboard box with blue tape from the Adidas webshop in his hands, standing in front of a quite neighborhood street and garden background, the weather is sunny, high photorealistic quality.\n"
     ]
    },
    {
     "name": "stderr",
     "output_type": "stream",
     "text": [
      "100%|██████████| 15/15 [00:14<00:00,  1.04it/s]\n",
      "Generating images:  15%|█▍        | 363/2478 [1:51:31<10:05:40, 17.18s/images]"
     ]
    },
    {
     "name": "stdout",
     "output_type": "stream",
     "text": [
      "Prompt: \n",
      " A medium shot view of a colorful cardboard box with a number from the Zara webshop, in front of a busy city street and cars background, the weather is rainy, high photorealistic quality.\n"
     ]
    },
    {
     "name": "stderr",
     "output_type": "stream",
     "text": [
      "100%|██████████| 15/15 [00:14<00:00,  1.04it/s]\n",
      "Generating images:  15%|█▍        | 364/2478 [1:51:49<10:05:50, 17.20s/images]"
     ]
    },
    {
     "name": "stdout",
     "output_type": "stream",
     "text": [
      "Prompt: \n",
      " A medium shot view of an angry boy holding a brown cardboard box with red tape from the Zara webshop in his hands, standing in front of a busy city street and people background, the weather is cloudy, high photorealistic quality.\n"
     ]
    },
    {
     "name": "stderr",
     "output_type": "stream",
     "text": [
      "100%|██████████| 15/15 [00:15<00:00,  1.00s/it]\n",
      "Generating images:  15%|█▍        | 365/2478 [1:52:06<10:11:31, 17.36s/images]"
     ]
    },
    {
     "name": "stdout",
     "output_type": "stream",
     "text": [
      "Prompt: \n",
      " A medium shot view of a colorful cardboard box with black tape from the Amazon webshop, in front of a doorstep of a house background, the weather is sunny, high photorealistic quality.\n"
     ]
    },
    {
     "name": "stderr",
     "output_type": "stream",
     "text": [
      "100%|██████████| 15/15 [00:15<00:00,  1.02s/it]\n",
      "Generating images:  15%|█▍        | 366/2478 [1:52:25<10:26:12, 17.79s/images]"
     ]
    },
    {
     "name": "stdout",
     "output_type": "stream",
     "text": [
      "Prompt: \n",
      " A medium shot view of a happy lady holding a colorful cardboard box with black tape from the Adidas webshop in her hands, standing in front of a appartment building background, the weather is sunny, high photorealistic quality.\n"
     ]
    },
    {
     "name": "stderr",
     "output_type": "stream",
     "text": [
      "100%|██████████| 15/15 [00:14<00:00,  1.03it/s]\n",
      "Generating images:  15%|█▍        | 367/2478 [1:52:43<10:21:04, 17.65s/images]"
     ]
    },
    {
     "name": "stdout",
     "output_type": "stream",
     "text": [
      "Prompt: \n",
      " A medium shot view of a brown cardboard box with black tape from the Zara webshop, in front of a busy city street and people background, the weather is rainy, high photorealistic quality.\n"
     ]
    },
    {
     "name": "stderr",
     "output_type": "stream",
     "text": [
      "100%|██████████| 15/15 [00:14<00:00,  1.05it/s]\n",
      "Generating images:  15%|█▍        | 368/2478 [1:53:00<10:14:13, 17.47s/images]"
     ]
    },
    {
     "name": "stdout",
     "output_type": "stream",
     "text": [
      "Prompt: \n",
      " A medium shot view of a happy lady holding a black cardboard box with a qr code from the Coolblue webshop in her hands, standing in front of a busy city street and people background, the weather is rainy, high photorealistic quality.\n"
     ]
    },
    {
     "name": "stderr",
     "output_type": "stream",
     "text": [
      "100%|██████████| 15/15 [00:14<00:00,  1.03it/s]\n",
      "Generating images:  15%|█▍        | 369/2478 [1:53:17<10:13:50, 17.46s/images]"
     ]
    },
    {
     "name": "stdout",
     "output_type": "stream",
     "text": [
      "Prompt: \n",
      " A medium shot view of a colorful cardboard box with a number from the Zara webshop, in front of a city center background, the weather is rainy, high photorealistic quality.\n"
     ]
    },
    {
     "name": "stderr",
     "output_type": "stream",
     "text": [
      "100%|██████████| 15/15 [00:14<00:00,  1.03it/s]\n",
      "Generating images:  15%|█▍        | 370/2478 [1:53:34<10:13:04, 17.45s/images]"
     ]
    },
    {
     "name": "stdout",
     "output_type": "stream",
     "text": [
      "Prompt: \n",
      " A medium shot view of a happy lady holding a brown cardboard box with blue tape from the Coolblue webshop in her hands, standing in front of a appartment building background, the weather is rainy, high photorealistic quality.\n"
     ]
    },
    {
     "name": "stderr",
     "output_type": "stream",
     "text": [
      "100%|██████████| 15/15 [00:14<00:00,  1.04it/s]\n",
      "Generating images:  15%|█▍        | 371/2478 [1:53:52<10:10:16, 17.38s/images]"
     ]
    },
    {
     "name": "stdout",
     "output_type": "stream",
     "text": [
      "Prompt: \n",
      " A medium shot view of a colorful cardboard box with black tape from the Adidas webshop, in front of a appartment building background, the weather is snowy, high photorealistic quality.\n"
     ]
    },
    {
     "name": "stderr",
     "output_type": "stream",
     "text": [
      "100%|██████████| 15/15 [00:14<00:00,  1.02it/s]\n",
      "Generating images:  15%|█▌        | 372/2478 [1:54:09<10:11:23, 17.42s/images]"
     ]
    },
    {
     "name": "stdout",
     "output_type": "stream",
     "text": [
      "Prompt: \n",
      " A medium shot view of a young boy holding a brown cardboard box with a barcode from a webshop in his hands, standing in front of a quite neighborhood street and garden background, the weather is cloudy, high photorealistic quality.\n"
     ]
    },
    {
     "name": "stderr",
     "output_type": "stream",
     "text": [
      "100%|██████████| 15/15 [00:14<00:00,  1.01it/s]\n",
      "Generating images:  15%|█▌        | 373/2478 [1:54:27<10:13:43, 17.49s/images]"
     ]
    },
    {
     "name": "stdout",
     "output_type": "stream",
     "text": [
      "Prompt: \n",
      " A medium shot view of a brown cardboard box with a qr code from the Adidas webshop, in front of a busy city street and cars background, the weather is snowy, high photorealistic quality.\n"
     ]
    },
    {
     "name": "stderr",
     "output_type": "stream",
     "text": [
      "100%|██████████| 15/15 [00:14<00:00,  1.01it/s]\n",
      "Generating images:  15%|█▌        | 374/2478 [1:54:45<10:17:25, 17.61s/images]"
     ]
    },
    {
     "name": "stdout",
     "output_type": "stream",
     "text": [
      "Prompt: \n",
      " A medium shot view of a frowning boy holding a black cardboard box with yellow tape from the Nike webshop in his hands, standing in front of a busy city street and cars background, the weather is sunny, high photorealistic quality.\n"
     ]
    },
    {
     "name": "stderr",
     "output_type": "stream",
     "text": [
      "100%|██████████| 15/15 [00:14<00:00,  1.05it/s]\n",
      "Generating images:  15%|█▌        | 375/2478 [1:55:02<10:10:25, 17.42s/images]"
     ]
    },
    {
     "name": "stdout",
     "output_type": "stream",
     "text": [
      "Prompt: \n",
      " A medium shot view of a black cardboard box with a qr code from the Amazon webshop, in front of a quite neighborhood street and garden background, the weather is snowy, high photorealistic quality.\n"
     ]
    },
    {
     "name": "stderr",
     "output_type": "stream",
     "text": [
      "100%|██████████| 15/15 [00:14<00:00,  1.04it/s]\n",
      "Generating images:  15%|█▌        | 376/2478 [1:55:19<10:06:50, 17.32s/images]"
     ]
    },
    {
     "name": "stdout",
     "output_type": "stream",
     "text": [
      "Prompt: \n",
      " A medium shot view of an old lady holding a brown cardboard box with blue tape from the Adidas webshop in her hands, standing in front of a busy city street and people background, the weather is rainy, high photorealistic quality.\n"
     ]
    },
    {
     "name": "stderr",
     "output_type": "stream",
     "text": [
      "100%|██████████| 15/15 [00:14<00:00,  1.05it/s]\n",
      "Generating images:  15%|█▌        | 377/2478 [1:55:36<10:02:47, 17.21s/images]"
     ]
    },
    {
     "name": "stdout",
     "output_type": "stream",
     "text": [
      "Prompt: \n",
      " A medium shot view of a black cardboard box with red tape from the Nike webshop, in front of a garbage curb background, the weather is snowy, high photorealistic quality.\n"
     ]
    },
    {
     "name": "stderr",
     "output_type": "stream",
     "text": [
      "100%|██████████| 15/15 [00:14<00:00,  1.04it/s]\n",
      "Generating images:  15%|█▌        | 378/2478 [1:55:53<10:03:29, 17.24s/images]"
     ]
    },
    {
     "name": "stdout",
     "output_type": "stream",
     "text": [
      "Prompt: \n",
      " A medium shot view of a happy man holding a brown cardboard box with blue tape from the Adidas webshop in his hands, standing in front of a appartment building background, the weather is cloudy, high photorealistic quality.\n"
     ]
    },
    {
     "name": "stderr",
     "output_type": "stream",
     "text": [
      "100%|██████████| 15/15 [00:14<00:00,  1.04it/s]\n",
      "Generating images:  15%|█▌        | 379/2478 [1:56:10<10:03:47, 17.26s/images]"
     ]
    },
    {
     "name": "stdout",
     "output_type": "stream",
     "text": [
      "Prompt: \n",
      " A medium shot view of a black cardboard box with blue tape from the Coolblue webshop, in front of a appartment building background, the weather is snowy, high photorealistic quality.\n"
     ]
    },
    {
     "name": "stderr",
     "output_type": "stream",
     "text": [
      "100%|██████████| 15/15 [00:15<00:00,  1.02s/it]\n",
      "Generating images:  15%|█▌        | 380/2478 [1:56:28<10:12:24, 17.51s/images]"
     ]
    },
    {
     "name": "stdout",
     "output_type": "stream",
     "text": [
      "Prompt: \n",
      " A medium shot view of a sad man holding a colorful cardboard box with yellow tape from the Zara webshop in his hands, standing in front of a quite neighborhood street and garden background, the weather is cloudy, high photorealistic quality.\n"
     ]
    },
    {
     "name": "stderr",
     "output_type": "stream",
     "text": [
      "100%|██████████| 15/15 [00:14<00:00,  1.05it/s]\n",
      "Generating images:  15%|█▌        | 381/2478 [1:56:45<10:05:56, 17.34s/images]"
     ]
    },
    {
     "name": "stdout",
     "output_type": "stream",
     "text": [
      "Prompt: \n",
      " A medium shot view of a colorful cardboard box with a barcode from the Zara webshop, in front of a busy city street and cars background, the weather is sunny, high photorealistic quality.\n"
     ]
    },
    {
     "name": "stderr",
     "output_type": "stream",
     "text": [
      "100%|██████████| 15/15 [00:14<00:00,  1.05it/s]\n",
      "Generating images:  15%|█▌        | 382/2478 [1:57:02<10:01:08, 17.21s/images]"
     ]
    },
    {
     "name": "stdout",
     "output_type": "stream",
     "text": [
      "Prompt: \n",
      " A medium shot view of a happy woman holding a brown cardboard box with a qr code from a webshop in her hands, standing in front of a quite neighborhood street and garden background, the weather is snowy, high photorealistic quality.\n"
     ]
    },
    {
     "name": "stderr",
     "output_type": "stream",
     "text": [
      "100%|██████████| 15/15 [00:14<00:00,  1.05it/s]\n",
      "Generating images:  15%|█▌        | 383/2478 [1:57:19<9:58:42, 17.15s/images] "
     ]
    },
    {
     "name": "stdout",
     "output_type": "stream",
     "text": [
      "Prompt: \n",
      " A medium shot view of a white cardboard box with a number from the Coolblue webshop, in front of a busy city street and people background, the weather is rainy, high photorealistic quality.\n"
     ]
    },
    {
     "name": "stderr",
     "output_type": "stream",
     "text": [
      "100%|██████████| 15/15 [00:14<00:00,  1.05it/s]\n",
      "Generating images:  15%|█▌        | 384/2478 [1:57:36<9:56:17, 17.09s/images]"
     ]
    },
    {
     "name": "stdout",
     "output_type": "stream",
     "text": [
      "Prompt: \n",
      " A medium shot view of a sad boy holding a colorful cardboard box with blue tape from the Zara webshop in his hands, standing in front of a appartment building background, the weather is sunny, high photorealistic quality.\n"
     ]
    },
    {
     "name": "stderr",
     "output_type": "stream",
     "text": [
      "100%|██████████| 15/15 [00:14<00:00,  1.04it/s]\n",
      "Generating images:  16%|█▌        | 385/2478 [1:57:54<9:58:57, 17.17s/images]"
     ]
    },
    {
     "name": "stdout",
     "output_type": "stream",
     "text": [
      "Prompt: \n",
      " A medium shot view of a brown cardboard box with blue tape from the Coolblue webshop, in front of a quite neighborhood street and garden background, the weather is snowy, high photorealistic quality.\n"
     ]
    },
    {
     "name": "stderr",
     "output_type": "stream",
     "text": [
      "100%|██████████| 15/15 [00:14<00:00,  1.02it/s]\n",
      "Generating images:  16%|█▌        | 386/2478 [1:58:11<10:02:23, 17.28s/images]"
     ]
    },
    {
     "name": "stdout",
     "output_type": "stream",
     "text": [
      "Prompt: \n",
      " A medium shot view of a sad lady holding a black cardboard box with yellow tape from the Amazon webshop in her hands, standing in front of a quite neighborhood street and cars background, the weather is snowy, high photorealistic quality.\n"
     ]
    },
    {
     "name": "stderr",
     "output_type": "stream",
     "text": [
      "100%|██████████| 15/15 [00:14<00:00,  1.05it/s]\n",
      "Generating images:  16%|█▌        | 387/2478 [1:58:28<9:59:21, 17.20s/images] "
     ]
    },
    {
     "name": "stdout",
     "output_type": "stream",
     "text": [
      "Prompt: \n",
      " A medium shot view of a white cardboard box with red tape from the Nike webshop, in front of a garbage curb background, the weather is rainy, high photorealistic quality.\n"
     ]
    },
    {
     "name": "stderr",
     "output_type": "stream",
     "text": [
      "100%|██████████| 15/15 [00:14<00:00,  1.04it/s]\n",
      "Generating images:  16%|█▌        | 388/2478 [1:58:45<9:58:44, 17.19s/images]"
     ]
    },
    {
     "name": "stdout",
     "output_type": "stream",
     "text": [
      "Prompt: \n",
      " A medium shot view of a happy woman holding a brown cardboard box with yellow tape from a webshop in her hands, standing in front of a street background, the weather is sunny, high photorealistic quality.\n"
     ]
    },
    {
     "name": "stderr",
     "output_type": "stream",
     "text": [
      "100%|██████████| 15/15 [00:14<00:00,  1.05it/s]\n",
      "Generating images:  16%|█▌        | 389/2478 [1:59:02<9:55:56, 17.12s/images]"
     ]
    },
    {
     "name": "stdout",
     "output_type": "stream",
     "text": [
      "Prompt: \n",
      " A medium shot view of a white cardboard box with a barcode from the Nike webshop, in front of a doorstep of a house background, the weather is snowy, high photorealistic quality.\n"
     ]
    },
    {
     "name": "stderr",
     "output_type": "stream",
     "text": [
      "100%|██████████| 15/15 [00:14<00:00,  1.05it/s]\n",
      "Generating images:  16%|█▌        | 390/2478 [1:59:19<9:54:39, 17.09s/images]"
     ]
    },
    {
     "name": "stdout",
     "output_type": "stream",
     "text": [
      "Prompt: \n",
      " A medium shot view of a happy person holding a black cardboard box with yellow tape from the Nike webshop in her hands, standing in front of a city center background, the weather is rainy, high photorealistic quality.\n"
     ]
    },
    {
     "name": "stderr",
     "output_type": "stream",
     "text": [
      "100%|██████████| 15/15 [00:14<00:00,  1.05it/s]\n",
      "Generating images:  16%|█▌        | 391/2478 [1:59:36<9:52:53, 17.05s/images]"
     ]
    },
    {
     "name": "stdout",
     "output_type": "stream",
     "text": [
      "Prompt: \n",
      " A medium shot view of a brown cardboard box with green tape from the Coolblue webshop, in front of a garbage curb background, the weather is sunny, high photorealistic quality.\n"
     ]
    },
    {
     "name": "stderr",
     "output_type": "stream",
     "text": [
      "100%|██████████| 15/15 [00:14<00:00,  1.05it/s]\n",
      "Generating images:  16%|█▌        | 392/2478 [1:59:53<9:51:41, 17.02s/images]"
     ]
    },
    {
     "name": "stdout",
     "output_type": "stream",
     "text": [
      "Prompt: \n",
      " A medium shot view of an old lady holding a white cardboard box with red tape from a webshop in her hands, standing in front of a street background, the weather is snowy, high photorealistic quality.\n"
     ]
    },
    {
     "name": "stderr",
     "output_type": "stream",
     "text": [
      "100%|██████████| 15/15 [00:14<00:00,  1.05it/s]\n",
      "Generating images:  16%|█▌        | 393/2478 [2:00:10<9:50:27, 16.99s/images]"
     ]
    },
    {
     "name": "stdout",
     "output_type": "stream",
     "text": [
      "Prompt: \n",
      " A medium shot view of a black cardboard box with red tape from the Zara webshop, in front of a doorstep of a house background, the weather is cloudy, high photorealistic quality.\n"
     ]
    },
    {
     "name": "stderr",
     "output_type": "stream",
     "text": [
      "100%|██████████| 15/15 [00:14<00:00,  1.05it/s]\n",
      "Generating images:  16%|█▌        | 394/2478 [2:00:27<9:49:29, 16.97s/images]"
     ]
    },
    {
     "name": "stdout",
     "output_type": "stream",
     "text": [
      "Prompt: \n",
      " A medium shot view of an old man holding a black cardboard box with a qr code from the Adidas webshop in his hands, standing in front of a appartment building background, the weather is rainy, high photorealistic quality.\n"
     ]
    },
    {
     "name": "stderr",
     "output_type": "stream",
     "text": [
      "100%|██████████| 15/15 [00:14<00:00,  1.05it/s]\n",
      "Generating images:  16%|█▌        | 395/2478 [2:00:44<9:48:55, 16.96s/images]"
     ]
    },
    {
     "name": "stdout",
     "output_type": "stream",
     "text": [
      "Prompt: \n",
      " A medium shot view of a white cardboard box with a qr code from the Adidas webshop, in front of a quite neighborhood street and trees background, the weather is snowy, high photorealistic quality.\n"
     ]
    },
    {
     "name": "stderr",
     "output_type": "stream",
     "text": [
      "100%|██████████| 15/15 [00:14<00:00,  1.05it/s]\n",
      "Generating images:  16%|█▌        | 396/2478 [2:01:01<9:50:51, 17.03s/images]"
     ]
    },
    {
     "name": "stdout",
     "output_type": "stream",
     "text": [
      "Prompt: \n",
      " A medium shot view of a smiling boy holding a white cardboard box with blue tape from the Adidas webshop in his hands, standing in front of a city center background, the weather is rainy, high photorealistic quality.\n"
     ]
    },
    {
     "name": "stderr",
     "output_type": "stream",
     "text": [
      "100%|██████████| 15/15 [00:14<00:00,  1.05it/s]\n",
      "Generating images:  16%|█▌        | 397/2478 [2:01:18<9:49:26, 17.00s/images]"
     ]
    },
    {
     "name": "stdout",
     "output_type": "stream",
     "text": [
      "Prompt: \n",
      " A medium shot view of a brown cardboard box with a barcode from the Zara webshop, in front of a doorstep of a house background, the weather is cloudy, high photorealistic quality.\n"
     ]
    },
    {
     "name": "stderr",
     "output_type": "stream",
     "text": [
      "100%|██████████| 15/15 [00:14<00:00,  1.05it/s]\n",
      "Generating images:  16%|█▌        | 398/2478 [2:01:35<9:48:49, 16.99s/images]"
     ]
    },
    {
     "name": "stdout",
     "output_type": "stream",
     "text": [
      "Prompt: \n",
      " A medium shot view of a young person holding a black cardboard box with a barcode from the Nike webshop in her hands, standing in front of a city center background, the weather is cloudy, high photorealistic quality.\n"
     ]
    },
    {
     "name": "stderr",
     "output_type": "stream",
     "text": [
      "100%|██████████| 15/15 [00:14<00:00,  1.05it/s]\n",
      "Generating images:  16%|█▌        | 399/2478 [2:01:52<9:48:30, 16.98s/images]"
     ]
    },
    {
     "name": "stdout",
     "output_type": "stream",
     "text": [
      "Prompt: \n",
      " A medium shot view of a brown cardboard box with red tape from the Zara webshop, in front of a appartment building background, the weather is cloudy, high photorealistic quality.\n"
     ]
    },
    {
     "name": "stderr",
     "output_type": "stream",
     "text": [
      "100%|██████████| 15/15 [00:14<00:00,  1.05it/s]\n",
      "Generating images:  16%|█▌        | 400/2478 [2:02:09<9:47:43, 16.97s/images]"
     ]
    },
    {
     "name": "stdout",
     "output_type": "stream",
     "text": [
      "Prompt: \n",
      " A medium shot view of a sad boy holding a brown cardboard box with black tape from the Coolblue webshop in his hands, standing in front of a garbage curb background, the weather is cloudy, high photorealistic quality.\n"
     ]
    },
    {
     "name": "stderr",
     "output_type": "stream",
     "text": [
      "100%|██████████| 15/15 [00:14<00:00,  1.05it/s]\n",
      "Generating images:  16%|█▌        | 401/2478 [2:02:26<9:47:55, 16.98s/images]"
     ]
    },
    {
     "name": "stdout",
     "output_type": "stream",
     "text": [
      "Prompt: \n",
      " A medium shot view of a brown cardboard box with yellow tape from the Zara webshop, in front of a quite neighborhood street and cars background, the weather is snowy, high photorealistic quality.\n"
     ]
    },
    {
     "name": "stderr",
     "output_type": "stream",
     "text": [
      "100%|██████████| 15/15 [00:14<00:00,  1.05it/s]\n",
      "Generating images:  16%|█▌        | 402/2478 [2:02:43<9:47:17, 16.97s/images]"
     ]
    },
    {
     "name": "stdout",
     "output_type": "stream",
     "text": [
      "Prompt: \n",
      " A medium shot view of a smiling lady holding a colorful cardboard box with yellow tape from the Zara webshop in her hands, standing in front of a garbage curb background, the weather is sunny, high photorealistic quality.\n"
     ]
    },
    {
     "name": "stderr",
     "output_type": "stream",
     "text": [
      "100%|██████████| 15/15 [00:14<00:00,  1.05it/s]\n",
      "Generating images:  16%|█▋        | 403/2478 [2:03:00<9:46:40, 16.96s/images]"
     ]
    },
    {
     "name": "stdout",
     "output_type": "stream",
     "text": [
      "Prompt: \n",
      " A medium shot view of a white cardboard box with red tape from the Zara webshop, in front of a garbage curb background, the weather is rainy, high photorealistic quality.\n"
     ]
    },
    {
     "name": "stderr",
     "output_type": "stream",
     "text": [
      "100%|██████████| 15/15 [00:14<00:00,  1.03it/s]\n",
      "Generating images:  16%|█▋        | 404/2478 [2:03:17<9:48:51, 17.04s/images]"
     ]
    },
    {
     "name": "stdout",
     "output_type": "stream",
     "text": [
      "Prompt: \n",
      " A medium shot view of a happy lady holding a brown cardboard box with a number from the Amazon webshop in her hands, standing in front of a busy city street and cars background, the weather is cloudy, high photorealistic quality.\n"
     ]
    },
    {
     "name": "stderr",
     "output_type": "stream",
     "text": [
      "100%|██████████| 15/15 [00:14<00:00,  1.04it/s]\n",
      "Generating images:  16%|█▋        | 405/2478 [2:03:34<9:49:09, 17.05s/images]"
     ]
    },
    {
     "name": "stdout",
     "output_type": "stream",
     "text": [
      "Prompt: \n",
      " A medium shot view of a black cardboard box with green tape from the Zara webshop, in front of a quite neighborhood street and trees background, the weather is rainy, high photorealistic quality.\n"
     ]
    },
    {
     "name": "stderr",
     "output_type": "stream",
     "text": [
      "100%|██████████| 15/15 [00:14<00:00,  1.05it/s]\n",
      "Generating images:  16%|█▋        | 406/2478 [2:03:51<9:47:54, 17.02s/images]"
     ]
    },
    {
     "name": "stdout",
     "output_type": "stream",
     "text": [
      "Prompt: \n",
      " A medium shot view of a happy lady holding a colorful cardboard box with green tape from a webshop in her hands, standing in front of a busy city street and people background, the weather is rainy, high photorealistic quality.\n"
     ]
    },
    {
     "name": "stderr",
     "output_type": "stream",
     "text": [
      "100%|██████████| 15/15 [00:14<00:00,  1.05it/s]\n",
      "Generating images:  16%|█▋        | 407/2478 [2:04:08<9:47:25, 17.02s/images]"
     ]
    },
    {
     "name": "stdout",
     "output_type": "stream",
     "text": [
      "Prompt: \n",
      " A medium shot view of a brown cardboard box with a barcode from the Coolblue webshop, in front of a city center background, the weather is rainy, high photorealistic quality.\n"
     ]
    },
    {
     "name": "stderr",
     "output_type": "stream",
     "text": [
      "100%|██████████| 15/15 [00:14<00:00,  1.05it/s]\n",
      "Generating images:  16%|█▋        | 408/2478 [2:04:25<9:46:44, 17.01s/images]"
     ]
    },
    {
     "name": "stdout",
     "output_type": "stream",
     "text": [
      "Prompt: \n",
      " A medium shot view of a sad woman holding a colorful cardboard box with a barcode from the Nike webshop in her hands, standing in front of a street background, the weather is snowy, high photorealistic quality.\n"
     ]
    },
    {
     "name": "stderr",
     "output_type": "stream",
     "text": [
      "100%|██████████| 15/15 [00:14<00:00,  1.05it/s]\n",
      "Generating images:  17%|█▋        | 409/2478 [2:04:42<9:47:41, 17.04s/images]"
     ]
    },
    {
     "name": "stdout",
     "output_type": "stream",
     "text": [
      "Prompt: \n",
      " A medium shot view of a brown cardboard box with blue tape from a webshop, in front of a garbage curb background, the weather is rainy, high photorealistic quality.\n"
     ]
    },
    {
     "name": "stderr",
     "output_type": "stream",
     "text": [
      "100%|██████████| 15/15 [00:14<00:00,  1.01it/s]\n",
      "Generating images:  17%|█▋        | 410/2478 [2:05:00<9:59:26, 17.39s/images]"
     ]
    },
    {
     "name": "stdout",
     "output_type": "stream",
     "text": [
      "Prompt: \n",
      " A medium shot view of a happy woman holding a black cardboard box with a barcode from the Amazon webshop in her hands, standing in front of a quite neighborhood street and trees background, the weather is cloudy, high photorealistic quality.\n"
     ]
    },
    {
     "name": "stderr",
     "output_type": "stream",
     "text": [
      "100%|██████████| 15/15 [00:14<00:00,  1.04it/s]\n",
      "Generating images:  17%|█▋        | 411/2478 [2:05:18<9:56:20, 17.31s/images]"
     ]
    },
    {
     "name": "stdout",
     "output_type": "stream",
     "text": [
      "Prompt: \n",
      " A medium shot view of a black cardboard box with a qr code from a webshop, in front of a appartment building background, the weather is cloudy, high photorealistic quality.\n"
     ]
    },
    {
     "name": "stderr",
     "output_type": "stream",
     "text": [
      "100%|██████████| 15/15 [00:14<00:00,  1.05it/s]\n",
      "Generating images:  17%|█▋        | 412/2478 [2:05:35<9:52:41, 17.21s/images]"
     ]
    },
    {
     "name": "stdout",
     "output_type": "stream",
     "text": [
      "Prompt: \n",
      " A medium shot view of a happy boy holding a white cardboard box with blue tape from the Nike webshop in his hands, standing in front of a quite neighborhood street and garden background, the weather is sunny, high photorealistic quality.\n"
     ]
    },
    {
     "name": "stderr",
     "output_type": "stream",
     "text": [
      "100%|██████████| 15/15 [00:14<00:00,  1.03it/s]\n",
      "Generating images:  17%|█▋        | 413/2478 [2:05:52<9:55:34, 17.30s/images]"
     ]
    },
    {
     "name": "stdout",
     "output_type": "stream",
     "text": [
      "Prompt: \n",
      " A medium shot view of a colorful cardboard box with red tape from the Nike webshop, in front of a quite neighborhood street and garden background, the weather is snowy, high photorealistic quality.\n"
     ]
    },
    {
     "name": "stderr",
     "output_type": "stream",
     "text": [
      "100%|██████████| 15/15 [00:14<00:00,  1.02it/s]\n",
      "Generating images:  17%|█▋        | 414/2478 [2:06:10<9:57:17, 17.36s/images]"
     ]
    },
    {
     "name": "stdout",
     "output_type": "stream",
     "text": [
      "Prompt: \n",
      " A medium shot view of a frowning woman holding a black cardboard box with a qr code from the Coolblue webshop in her hands, standing in front of a busy city street and cars background, the weather is sunny, high photorealistic quality.\n"
     ]
    },
    {
     "name": "stderr",
     "output_type": "stream",
     "text": [
      "100%|██████████| 15/15 [00:14<00:00,  1.01it/s]\n",
      "Generating images:  17%|█▋        | 415/2478 [2:06:27<9:59:36, 17.44s/images]"
     ]
    },
    {
     "name": "stdout",
     "output_type": "stream",
     "text": [
      "Prompt: \n",
      " A medium shot view of a white cardboard box with green tape from the Nike webshop, in front of a quite neighborhood street and garden background, the weather is sunny, high photorealistic quality.\n"
     ]
    },
    {
     "name": "stderr",
     "output_type": "stream",
     "text": [
      "100%|██████████| 15/15 [00:14<00:00,  1.02it/s]\n",
      "Generating images:  17%|█▋        | 416/2478 [2:06:45<10:00:39, 17.48s/images]"
     ]
    },
    {
     "name": "stdout",
     "output_type": "stream",
     "text": [
      "Prompt: \n",
      " A medium shot view of an angry person holding a black cardboard box with red tape from the Coolblue webshop in her hands, standing in front of a city center background, the weather is rainy, high photorealistic quality.\n"
     ]
    },
    {
     "name": "stderr",
     "output_type": "stream",
     "text": [
      "100%|██████████| 15/15 [00:15<00:00,  1.00s/it]\n",
      "Generating images:  17%|█▋        | 417/2478 [2:07:03<10:03:31, 17.57s/images]"
     ]
    },
    {
     "name": "stdout",
     "output_type": "stream",
     "text": [
      "Prompt: \n",
      " A medium shot view of a brown cardboard box with green tape from the Coolblue webshop, in front of a street background, the weather is sunny, high photorealistic quality.\n"
     ]
    },
    {
     "name": "stderr",
     "output_type": "stream",
     "text": [
      "100%|██████████| 15/15 [00:14<00:00,  1.01it/s]\n",
      "Generating images:  17%|█▋        | 418/2478 [2:07:20<10:04:00, 17.59s/images]"
     ]
    },
    {
     "name": "stdout",
     "output_type": "stream",
     "text": [
      "Prompt: \n",
      " A medium shot view of an angry woman holding a colorful cardboard box with black tape from the Zara webshop in her hands, standing in front of a quite neighborhood street and garden background, the weather is cloudy, high photorealistic quality.\n"
     ]
    },
    {
     "name": "stderr",
     "output_type": "stream",
     "text": [
      "100%|██████████| 15/15 [00:14<00:00,  1.03it/s]\n",
      "Generating images:  17%|█▋        | 419/2478 [2:07:38<10:02:06, 17.55s/images]"
     ]
    },
    {
     "name": "stdout",
     "output_type": "stream",
     "text": [
      "Prompt: \n",
      " A medium shot view of a colorful cardboard box with a qr code from the Adidas webshop, in front of a city center background, the weather is snowy, high photorealistic quality.\n"
     ]
    },
    {
     "name": "stderr",
     "output_type": "stream",
     "text": [
      "100%|██████████| 15/15 [00:14<00:00,  1.04it/s]\n",
      "Generating images:  17%|█▋        | 420/2478 [2:07:55<9:59:01, 17.46s/images] "
     ]
    },
    {
     "name": "stdout",
     "output_type": "stream",
     "text": [
      "Prompt: \n",
      " A medium shot view of a frowning lady holding a brown cardboard box with blue tape from the Nike webshop in her hands, standing in front of a appartment building background, the weather is sunny, high photorealistic quality.\n"
     ]
    },
    {
     "name": "stderr",
     "output_type": "stream",
     "text": [
      "100%|██████████| 15/15 [00:14<00:00,  1.04it/s]\n",
      "Generating images:  17%|█▋        | 421/2478 [2:08:12<9:55:35, 17.37s/images]"
     ]
    },
    {
     "name": "stdout",
     "output_type": "stream",
     "text": [
      "Prompt: \n",
      " A medium shot view of a colorful cardboard box with a number from the Zara webshop, in front of a quite neighborhood street and cars background, the weather is snowy, high photorealistic quality.\n"
     ]
    },
    {
     "name": "stderr",
     "output_type": "stream",
     "text": [
      "100%|██████████| 15/15 [00:14<00:00,  1.05it/s]\n",
      "Generating images:  17%|█▋        | 422/2478 [2:08:29<9:51:38, 17.27s/images]"
     ]
    },
    {
     "name": "stdout",
     "output_type": "stream",
     "text": [
      "Prompt: \n",
      " A medium shot view of a sad boy holding a white cardboard box with a qr code from the Amazon webshop in his hands, standing in front of a doorstep of a house background, the weather is cloudy, high photorealistic quality.\n"
     ]
    },
    {
     "name": "stderr",
     "output_type": "stream",
     "text": [
      "100%|██████████| 15/15 [00:14<00:00,  1.05it/s]\n",
      "Generating images:  17%|█▋        | 423/2478 [2:08:46<9:48:41, 17.19s/images]"
     ]
    },
    {
     "name": "stdout",
     "output_type": "stream",
     "text": [
      "Prompt: \n",
      " A medium shot view of a brown cardboard box with yellow tape from the Zara webshop, in front of a garbage curb background, the weather is cloudy, high photorealistic quality.\n"
     ]
    },
    {
     "name": "stderr",
     "output_type": "stream",
     "text": [
      "100%|██████████| 15/15 [00:14<00:00,  1.05it/s]\n",
      "Generating images:  17%|█▋        | 424/2478 [2:09:03<9:47:13, 17.15s/images]"
     ]
    },
    {
     "name": "stdout",
     "output_type": "stream",
     "text": [
      "Prompt: \n",
      " A medium shot view of a smiling man holding a black cardboard box with a barcode from the Amazon webshop in his hands, standing in front of a busy city street and people background, the weather is cloudy, high photorealistic quality.\n"
     ]
    },
    {
     "name": "stderr",
     "output_type": "stream",
     "text": [
      "100%|██████████| 15/15 [00:15<00:00,  1.03s/it]\n",
      "Generating images:  17%|█▋        | 425/2478 [2:09:21<9:58:15, 17.48s/images]"
     ]
    },
    {
     "name": "stdout",
     "output_type": "stream",
     "text": [
      "Prompt: \n",
      " A medium shot view of a brown cardboard box with yellow tape from a webshop, in front of a quite neighborhood street and garden background, the weather is snowy, high photorealistic quality.\n"
     ]
    },
    {
     "name": "stderr",
     "output_type": "stream",
     "text": [
      "100%|██████████| 15/15 [00:14<00:00,  1.01it/s]\n",
      "Generating images:  17%|█▋        | 426/2478 [2:09:39<9:58:42, 17.51s/images]"
     ]
    },
    {
     "name": "stdout",
     "output_type": "stream",
     "text": [
      "Prompt: \n",
      " A medium shot view of a sad man holding a black cardboard box with a qr code from the Adidas webshop in his hands, standing in front of a quite neighborhood street and garden background, the weather is rainy, high photorealistic quality.\n"
     ]
    },
    {
     "name": "stderr",
     "output_type": "stream",
     "text": [
      "100%|██████████| 15/15 [00:14<00:00,  1.02it/s]\n",
      "Generating images:  17%|█▋        | 427/2478 [2:09:57<10:00:03, 17.55s/images]"
     ]
    },
    {
     "name": "stdout",
     "output_type": "stream",
     "text": [
      "Prompt: \n",
      " A medium shot view of a black cardboard box with a qr code from a webshop, in front of a street background, the weather is rainy, high photorealistic quality.\n"
     ]
    },
    {
     "name": "stderr",
     "output_type": "stream",
     "text": [
      "100%|██████████| 15/15 [00:14<00:00,  1.04it/s]\n",
      "Generating images:  17%|█▋        | 428/2478 [2:10:14<9:58:26, 17.52s/images] "
     ]
    },
    {
     "name": "stdout",
     "output_type": "stream",
     "text": [
      "Prompt: \n",
      " A medium shot view of an angry boy holding a brown cardboard box with a qr code from the Amazon webshop in his hands, standing in front of a quite neighborhood street and trees background, the weather is sunny, high photorealistic quality.\n"
     ]
    },
    {
     "name": "stderr",
     "output_type": "stream",
     "text": [
      "100%|██████████| 15/15 [00:14<00:00,  1.03it/s]\n",
      "Generating images:  17%|█▋        | 429/2478 [2:10:31<9:56:42, 17.47s/images]"
     ]
    },
    {
     "name": "stdout",
     "output_type": "stream",
     "text": [
      "Prompt: \n",
      " A medium shot view of a black cardboard box with red tape from the Zara webshop, in front of a appartment building background, the weather is sunny, high photorealistic quality.\n"
     ]
    },
    {
     "name": "stderr",
     "output_type": "stream",
     "text": [
      "100%|██████████| 15/15 [00:14<00:00,  1.04it/s]\n",
      "Generating images:  17%|█▋        | 430/2478 [2:10:49<9:55:32, 17.45s/images]"
     ]
    },
    {
     "name": "stdout",
     "output_type": "stream",
     "text": [
      "Prompt: \n",
      " A medium shot view of a frowning lady holding a white cardboard box with red tape from a webshop in her hands, standing in front of a appartment building background, the weather is cloudy, high photorealistic quality.\n"
     ]
    },
    {
     "name": "stderr",
     "output_type": "stream",
     "text": [
      "100%|██████████| 15/15 [00:15<00:00,  1.01s/it]\n",
      "Generating images:  17%|█▋        | 431/2478 [2:11:07<10:00:45, 17.61s/images]"
     ]
    },
    {
     "name": "stdout",
     "output_type": "stream",
     "text": [
      "Prompt: \n",
      " A medium shot view of a brown cardboard box with black tape from the Zara webshop, in front of a city center background, the weather is snowy, high photorealistic quality.\n"
     ]
    },
    {
     "name": "stderr",
     "output_type": "stream",
     "text": [
      "100%|██████████| 15/15 [00:14<00:00,  1.04it/s]\n",
      "Generating images:  17%|█▋        | 432/2478 [2:11:24<9:56:16, 17.49s/images] "
     ]
    },
    {
     "name": "stdout",
     "output_type": "stream",
     "text": [
      "Prompt: \n",
      " A medium shot view of a young boy holding a white cardboard box with yellow tape from the Coolblue webshop in his hands, standing in front of a quite neighborhood street and trees background, the weather is sunny, high photorealistic quality.\n"
     ]
    },
    {
     "name": "stderr",
     "output_type": "stream",
     "text": [
      "100%|██████████| 15/15 [00:14<00:00,  1.03it/s]\n",
      "Generating images:  17%|█▋        | 433/2478 [2:11:41<9:53:45, 17.42s/images]"
     ]
    },
    {
     "name": "stdout",
     "output_type": "stream",
     "text": [
      "Prompt: \n",
      " A medium shot view of a black cardboard box with a barcode from a webshop, in front of a quite neighborhood street and trees background, the weather is rainy, high photorealistic quality.\n"
     ]
    },
    {
     "name": "stderr",
     "output_type": "stream",
     "text": [
      "100%|██████████| 15/15 [00:14<00:00,  1.03it/s]\n",
      "Generating images:  18%|█▊        | 434/2478 [2:11:58<9:51:48, 17.37s/images]"
     ]
    },
    {
     "name": "stdout",
     "output_type": "stream",
     "text": [
      "Prompt: \n",
      " A medium shot view of a smiling boy holding a brown cardboard box with green tape from the Amazon webshop in his hands, standing in front of a quite neighborhood street and trees background, the weather is cloudy, high photorealistic quality.\n"
     ]
    },
    {
     "name": "stderr",
     "output_type": "stream",
     "text": [
      "100%|██████████| 15/15 [00:14<00:00,  1.00it/s]\n",
      "Generating images:  18%|█▊        | 435/2478 [2:12:16<9:55:28, 17.49s/images]"
     ]
    },
    {
     "name": "stdout",
     "output_type": "stream",
     "text": [
      "Prompt: \n",
      " A medium shot view of a brown cardboard box with a number from the Nike webshop, in front of a quite neighborhood street and cars background, the weather is cloudy, high photorealistic quality.\n"
     ]
    },
    {
     "name": "stderr",
     "output_type": "stream",
     "text": [
      "100%|██████████| 15/15 [00:15<00:00,  1.01s/it]\n",
      "Generating images:  18%|█▊        | 436/2478 [2:12:34<10:00:16, 17.64s/images]"
     ]
    },
    {
     "name": "stdout",
     "output_type": "stream",
     "text": [
      "Prompt: \n",
      " A medium shot view of a sad boy holding a brown cardboard box with a barcode from the Zara webshop in his hands, standing in front of a city center background, the weather is cloudy, high photorealistic quality.\n"
     ]
    },
    {
     "name": "stderr",
     "output_type": "stream",
     "text": [
      "100%|██████████| 15/15 [00:14<00:00,  1.00it/s]\n",
      "Generating images:  18%|█▊        | 437/2478 [2:12:52<10:01:47, 17.69s/images]"
     ]
    },
    {
     "name": "stdout",
     "output_type": "stream",
     "text": [
      "Prompt: \n",
      " A medium shot view of a colorful cardboard box with black tape from the Coolblue webshop, in front of a quite neighborhood street and trees background, the weather is snowy, high photorealistic quality.\n"
     ]
    },
    {
     "name": "stderr",
     "output_type": "stream",
     "text": [
      "100%|██████████| 15/15 [00:14<00:00,  1.00it/s]\n",
      "Generating images:  18%|█▊        | 438/2478 [2:13:10<10:04:09, 17.77s/images]"
     ]
    },
    {
     "name": "stdout",
     "output_type": "stream",
     "text": [
      "Prompt: \n",
      " A medium shot view of a happy man holding a white cardboard box with blue tape from the Amazon webshop in his hands, standing in front of a city center background, the weather is sunny, high photorealistic quality.\n"
     ]
    },
    {
     "name": "stderr",
     "output_type": "stream",
     "text": [
      "100%|██████████| 15/15 [00:14<00:00,  1.00it/s]\n",
      "Generating images:  18%|█▊        | 439/2478 [2:13:28<10:07:04, 17.86s/images]"
     ]
    },
    {
     "name": "stdout",
     "output_type": "stream",
     "text": [
      "Prompt: \n",
      " A medium shot view of a brown cardboard box with blue tape from the Coolblue webshop, in front of a appartment building background, the weather is cloudy, high photorealistic quality.\n"
     ]
    },
    {
     "name": "stderr",
     "output_type": "stream",
     "text": [
      "100%|██████████| 15/15 [00:15<00:00,  1.02s/it]\n",
      "Generating images:  18%|█▊        | 440/2478 [2:13:46<10:08:16, 17.91s/images]"
     ]
    },
    {
     "name": "stdout",
     "output_type": "stream",
     "text": [
      "Prompt: \n",
      " A medium shot view of a young man holding a colorful cardboard box with a barcode from a webshop in his hands, standing in front of a busy city street and people background, the weather is rainy, high photorealistic quality.\n"
     ]
    },
    {
     "name": "stderr",
     "output_type": "stream",
     "text": [
      "100%|██████████| 15/15 [00:14<00:00,  1.03it/s]\n",
      "Generating images:  18%|█▊        | 441/2478 [2:14:04<10:07:21, 17.89s/images]"
     ]
    },
    {
     "name": "stdout",
     "output_type": "stream",
     "text": [
      "Prompt: \n",
      " A medium shot view of a colorful cardboard box with a qr code from the Nike webshop, in front of a busy city street and cars background, the weather is sunny, high photorealistic quality.\n"
     ]
    },
    {
     "name": "stderr",
     "output_type": "stream",
     "text": [
      "100%|██████████| 15/15 [00:14<00:00,  1.04it/s]\n",
      "Generating images:  18%|█▊        | 442/2478 [2:14:22<10:03:38, 17.79s/images]"
     ]
    },
    {
     "name": "stdout",
     "output_type": "stream",
     "text": [
      "Prompt: \n",
      " A medium shot view of a frowning woman holding a black cardboard box with red tape from the Zara webshop in her hands, standing in front of a quite neighborhood street and trees background, the weather is snowy, high photorealistic quality.\n"
     ]
    },
    {
     "name": "stderr",
     "output_type": "stream",
     "text": [
      "100%|██████████| 15/15 [00:14<00:00,  1.02it/s]\n",
      "Generating images:  18%|█▊        | 443/2478 [2:14:39<9:59:51, 17.69s/images] "
     ]
    },
    {
     "name": "stdout",
     "output_type": "stream",
     "text": [
      "Prompt: \n",
      " A medium shot view of a black cardboard box with blue tape from the Amazon webshop, in front of a doorstep of a house background, the weather is cloudy, high photorealistic quality.\n"
     ]
    },
    {
     "name": "stderr",
     "output_type": "stream",
     "text": [
      "100%|██████████| 15/15 [00:15<00:00,  1.01s/it]\n",
      "Generating images:  18%|█▊        | 444/2478 [2:14:57<10:07:46, 17.93s/images]"
     ]
    },
    {
     "name": "stdout",
     "output_type": "stream",
     "text": [
      "Prompt: \n",
      " A medium shot view of an angry lady holding a colorful cardboard box with a number from the Adidas webshop in her hands, standing in front of a quite neighborhood street and garden background, the weather is sunny, high photorealistic quality.\n"
     ]
    },
    {
     "name": "stderr",
     "output_type": "stream",
     "text": [
      "100%|██████████| 15/15 [00:14<00:00,  1.06it/s]\n",
      "Generating images:  18%|█▊        | 445/2478 [2:15:15<10:03:22, 17.81s/images]"
     ]
    },
    {
     "name": "stdout",
     "output_type": "stream",
     "text": [
      "Prompt: \n",
      " A medium shot view of a black cardboard box with a qr code from the Zara webshop, in front of a doorstep of a house background, the weather is snowy, high photorealistic quality.\n"
     ]
    },
    {
     "name": "stderr",
     "output_type": "stream",
     "text": [
      "100%|██████████| 15/15 [00:14<00:00,  1.06it/s]\n",
      "Generating images:  18%|█▊        | 446/2478 [2:15:32<9:58:13, 17.66s/images] "
     ]
    },
    {
     "name": "stdout",
     "output_type": "stream",
     "text": [
      "Prompt: \n",
      " A medium shot view of a young woman holding a black cardboard box with green tape from the Coolblue webshop in her hands, standing in front of a appartment building background, the weather is rainy, high photorealistic quality.\n"
     ]
    },
    {
     "name": "stderr",
     "output_type": "stream",
     "text": [
      "100%|██████████| 15/15 [00:14<00:00,  1.02it/s]\n",
      "Generating images:  18%|█▊        | 447/2478 [2:15:50<9:56:15, 17.61s/images]"
     ]
    },
    {
     "name": "stdout",
     "output_type": "stream",
     "text": [
      "Prompt: \n",
      " A medium shot view of a white cardboard box with a number from the Zara webshop, in front of a street background, the weather is snowy, high photorealistic quality.\n"
     ]
    },
    {
     "name": "stderr",
     "output_type": "stream",
     "text": [
      "100%|██████████| 15/15 [00:13<00:00,  1.07it/s]\n",
      "Generating images:  18%|█▊        | 448/2478 [2:16:06<9:46:06, 17.32s/images]"
     ]
    },
    {
     "name": "stdout",
     "output_type": "stream",
     "text": [
      "Prompt: \n",
      " A medium shot view of an angry lady holding a black cardboard box with black tape from the Adidas webshop in her hands, standing in front of a busy city street and cars background, the weather is sunny, high photorealistic quality.\n"
     ]
    },
    {
     "name": "stderr",
     "output_type": "stream",
     "text": [
      "100%|██████████| 15/15 [00:14<00:00,  1.07it/s]\n",
      "Generating images:  18%|█▊        | 449/2478 [2:16:23<9:39:17, 17.13s/images]"
     ]
    },
    {
     "name": "stdout",
     "output_type": "stream",
     "text": [
      "Prompt: \n",
      " A medium shot view of a black cardboard box with blue tape from a webshop, in front of a quite neighborhood street and trees background, the weather is sunny, high photorealistic quality.\n"
     ]
    },
    {
     "name": "stderr",
     "output_type": "stream",
     "text": [
      "100%|██████████| 15/15 [00:14<00:00,  1.04it/s]\n",
      "Generating images:  18%|█▊        | 450/2478 [2:16:40<9:37:57, 17.10s/images]"
     ]
    },
    {
     "name": "stdout",
     "output_type": "stream",
     "text": [
      "Prompt: \n",
      " A medium shot view of an angry boy holding a brown cardboard box with green tape from the Amazon webshop in his hands, standing in front of a city center background, the weather is cloudy, high photorealistic quality.\n"
     ]
    },
    {
     "name": "stderr",
     "output_type": "stream",
     "text": [
      "100%|██████████| 15/15 [00:14<00:00,  1.04it/s]\n",
      "Generating images:  18%|█▊        | 451/2478 [2:16:58<9:40:43, 17.19s/images]"
     ]
    },
    {
     "name": "stdout",
     "output_type": "stream",
     "text": [
      "Prompt: \n",
      " A medium shot view of a brown cardboard box with a qr code from the Coolblue webshop, in front of a doorstep of a house background, the weather is sunny, high photorealistic quality.\n"
     ]
    },
    {
     "name": "stderr",
     "output_type": "stream",
     "text": [
      "100%|██████████| 15/15 [00:13<00:00,  1.08it/s]\n",
      "Generating images:  18%|█▊        | 452/2478 [2:17:14<9:34:05, 17.00s/images]"
     ]
    },
    {
     "name": "stdout",
     "output_type": "stream",
     "text": [
      "Prompt: \n",
      " A medium shot view of a smiling person holding a brown cardboard box with black tape from the Nike webshop in her hands, standing in front of a city center background, the weather is rainy, high photorealistic quality.\n"
     ]
    },
    {
     "name": "stderr",
     "output_type": "stream",
     "text": [
      "100%|██████████| 15/15 [00:14<00:00,  1.07it/s]\n",
      "Generating images:  18%|█▊        | 453/2478 [2:17:31<9:30:36, 16.91s/images]"
     ]
    },
    {
     "name": "stdout",
     "output_type": "stream",
     "text": [
      "Prompt: \n",
      " A medium shot view of a colorful cardboard box with yellow tape from the Amazon webshop, in front of a quite neighborhood street and trees background, the weather is cloudy, high photorealistic quality.\n"
     ]
    },
    {
     "name": "stderr",
     "output_type": "stream",
     "text": [
      "100%|██████████| 15/15 [00:14<00:00,  1.02it/s]\n",
      "Generating images:  18%|█▊        | 454/2478 [2:17:48<9:35:45, 17.07s/images]"
     ]
    },
    {
     "name": "stdout",
     "output_type": "stream",
     "text": [
      "Prompt: \n",
      " A medium shot view of a young boy holding a colorful cardboard box with a number from the Coolblue webshop in his hands, standing in front of a busy city street and people background, the weather is snowy, high photorealistic quality.\n"
     ]
    },
    {
     "name": "stderr",
     "output_type": "stream",
     "text": [
      "100%|██████████| 15/15 [00:14<00:00,  1.06it/s]\n",
      "Generating images:  18%|█▊        | 455/2478 [2:18:05<9:32:14, 16.97s/images]"
     ]
    },
    {
     "name": "stdout",
     "output_type": "stream",
     "text": [
      "Prompt: \n",
      " A medium shot view of a brown cardboard box with a number from the Adidas webshop, in front of a garbage curb background, the weather is sunny, high photorealistic quality.\n"
     ]
    },
    {
     "name": "stderr",
     "output_type": "stream",
     "text": [
      "100%|██████████| 15/15 [00:13<00:00,  1.09it/s]\n",
      "Generating images:  18%|█▊        | 456/2478 [2:18:21<9:25:06, 16.77s/images]"
     ]
    },
    {
     "name": "stdout",
     "output_type": "stream",
     "text": [
      "Prompt: \n",
      " A medium shot view of a happy lady holding a colorful cardboard box with blue tape from the Zara webshop in her hands, standing in front of a street background, the weather is sunny, high photorealistic quality.\n"
     ]
    },
    {
     "name": "stderr",
     "output_type": "stream",
     "text": [
      "100%|██████████| 15/15 [00:13<00:00,  1.09it/s]\n",
      "Generating images:  18%|█▊        | 457/2478 [2:18:38<9:23:00, 16.71s/images]"
     ]
    },
    {
     "name": "stdout",
     "output_type": "stream",
     "text": [
      "Prompt: \n",
      " A medium shot view of a brown cardboard box with red tape from the Adidas webshop, in front of a quite neighborhood street and cars background, the weather is rainy, high photorealistic quality.\n"
     ]
    },
    {
     "name": "stderr",
     "output_type": "stream",
     "text": [
      "100%|██████████| 15/15 [00:14<00:00,  1.05it/s]\n",
      "Generating images:  18%|█▊        | 458/2478 [2:18:55<9:26:46, 16.84s/images]"
     ]
    },
    {
     "name": "stdout",
     "output_type": "stream",
     "text": [
      "Prompt: \n",
      " A medium shot view of a sad person holding a brown cardboard box with a barcode from the Nike webshop in her hands, standing in front of a quite neighborhood street and trees background, the weather is rainy, high photorealistic quality.\n"
     ]
    },
    {
     "name": "stderr",
     "output_type": "stream",
     "text": [
      "100%|██████████| 15/15 [00:14<00:00,  1.03it/s]\n",
      "Generating images:  19%|█▊        | 459/2478 [2:19:13<9:34:57, 17.09s/images]"
     ]
    },
    {
     "name": "stdout",
     "output_type": "stream",
     "text": [
      "Prompt: \n",
      " A medium shot view of a white cardboard box with green tape from the Nike webshop, in front of a quite neighborhood street and garden background, the weather is snowy, high photorealistic quality.\n"
     ]
    },
    {
     "name": "stderr",
     "output_type": "stream",
     "text": [
      "100%|██████████| 15/15 [00:15<00:00,  1.03s/it]\n",
      "Generating images:  19%|█▊        | 460/2478 [2:19:31<9:49:04, 17.51s/images]"
     ]
    },
    {
     "name": "stdout",
     "output_type": "stream",
     "text": [
      "Prompt: \n",
      " A medium shot view of a happy lady holding a white cardboard box with a barcode from the Adidas webshop in her hands, standing in front of a city center background, the weather is cloudy, high photorealistic quality.\n"
     ]
    },
    {
     "name": "stderr",
     "output_type": "stream",
     "text": [
      "100%|██████████| 15/15 [00:13<00:00,  1.10it/s]\n",
      "Generating images:  19%|█▊        | 461/2478 [2:19:47<9:36:40, 17.15s/images]"
     ]
    },
    {
     "name": "stdout",
     "output_type": "stream",
     "text": [
      "Prompt: \n",
      " A medium shot view of a white cardboard box with a qr code from the Coolblue webshop, in front of a garbage curb background, the weather is snowy, high photorealistic quality.\n"
     ]
    },
    {
     "name": "stderr",
     "output_type": "stream",
     "text": [
      "100%|██████████| 15/15 [00:13<00:00,  1.10it/s]\n",
      "Generating images:  19%|█▊        | 462/2478 [2:20:04<9:30:23, 16.98s/images]"
     ]
    },
    {
     "name": "stdout",
     "output_type": "stream",
     "text": [
      "Prompt: \n",
      " A medium shot view of a smiling person holding a white cardboard box with a barcode from the Adidas webshop in her hands, standing in front of a quite neighborhood street and garden background, the weather is rainy, high photorealistic quality.\n"
     ]
    },
    {
     "name": "stderr",
     "output_type": "stream",
     "text": [
      "100%|██████████| 15/15 [00:14<00:00,  1.05it/s]\n",
      "Generating images:  19%|█▊        | 463/2478 [2:20:21<9:30:20, 16.98s/images]"
     ]
    },
    {
     "name": "stdout",
     "output_type": "stream",
     "text": [
      "Prompt: \n",
      " A medium shot view of a white cardboard box with a qr code from the Coolblue webshop, in front of a appartment building background, the weather is rainy, high photorealistic quality.\n"
     ]
    },
    {
     "name": "stderr",
     "output_type": "stream",
     "text": [
      "100%|██████████| 15/15 [00:14<00:00,  1.05it/s]\n",
      "Generating images:  19%|█▊        | 464/2478 [2:20:38<9:31:24, 17.02s/images]"
     ]
    },
    {
     "name": "stdout",
     "output_type": "stream",
     "text": [
      "Prompt: \n",
      " A medium shot view of a happy man holding a black cardboard box with green tape from the Zara webshop in his hands, standing in front of a quite neighborhood street and garden background, the weather is rainy, high photorealistic quality.\n"
     ]
    },
    {
     "name": "stderr",
     "output_type": "stream",
     "text": [
      "100%|██████████| 15/15 [00:13<00:00,  1.08it/s]\n",
      "Generating images:  19%|█▉        | 465/2478 [2:20:55<9:25:57, 16.87s/images]"
     ]
    },
    {
     "name": "stdout",
     "output_type": "stream",
     "text": [
      "Prompt: \n",
      " A medium shot view of a black cardboard box with red tape from the Adidas webshop, in front of a quite neighborhood street and garden background, the weather is rainy, high photorealistic quality.\n"
     ]
    },
    {
     "name": "stderr",
     "output_type": "stream",
     "text": [
      "100%|██████████| 15/15 [00:13<00:00,  1.10it/s]\n",
      "Generating images:  19%|█▉        | 466/2478 [2:21:11<9:19:42, 16.69s/images]"
     ]
    },
    {
     "name": "stdout",
     "output_type": "stream",
     "text": [
      "Prompt: \n",
      " A medium shot view of an angry woman holding a black cardboard box with red tape from the Coolblue webshop in her hands, standing in front of a street background, the weather is rainy, high photorealistic quality.\n"
     ]
    },
    {
     "name": "stderr",
     "output_type": "stream",
     "text": [
      "100%|██████████| 15/15 [00:13<00:00,  1.08it/s]\n",
      "Generating images:  19%|█▉        | 467/2478 [2:21:27<9:17:41, 16.64s/images]"
     ]
    },
    {
     "name": "stdout",
     "output_type": "stream",
     "text": [
      "Prompt: \n",
      " A medium shot view of a black cardboard box with black tape from a webshop, in front of a busy city street and people background, the weather is rainy, high photorealistic quality.\n"
     ]
    },
    {
     "name": "stderr",
     "output_type": "stream",
     "text": [
      "100%|██████████| 15/15 [00:13<00:00,  1.10it/s]\n",
      "Generating images:  19%|█▉        | 468/2478 [2:21:44<9:13:31, 16.52s/images]"
     ]
    },
    {
     "name": "stdout",
     "output_type": "stream",
     "text": [
      "Prompt: \n",
      " A medium shot view of an angry lady holding a white cardboard box with green tape from the Adidas webshop in her hands, standing in front of a street background, the weather is snowy, high photorealistic quality.\n"
     ]
    },
    {
     "name": "stderr",
     "output_type": "stream",
     "text": [
      "100%|██████████| 15/15 [00:13<00:00,  1.08it/s]\n",
      "Generating images:  19%|█▉        | 469/2478 [2:22:00<9:13:24, 16.53s/images]"
     ]
    },
    {
     "name": "stdout",
     "output_type": "stream",
     "text": [
      "Prompt: \n",
      " A medium shot view of a brown cardboard box with a barcode from a webshop, in front of a city center background, the weather is rainy, high photorealistic quality.\n"
     ]
    },
    {
     "name": "stderr",
     "output_type": "stream",
     "text": [
      "100%|██████████| 15/15 [00:13<00:00,  1.08it/s]\n",
      "Generating images:  19%|█▉        | 470/2478 [2:22:17<9:12:39, 16.51s/images]"
     ]
    },
    {
     "name": "stdout",
     "output_type": "stream",
     "text": [
      "Prompt: \n",
      " A medium shot view of an old man holding a brown cardboard box with a number from a webshop in his hands, standing in front of a quite neighborhood street and garden background, the weather is cloudy, high photorealistic quality.\n"
     ]
    },
    {
     "name": "stderr",
     "output_type": "stream",
     "text": [
      "100%|██████████| 15/15 [00:13<00:00,  1.11it/s]\n",
      "Generating images:  19%|█▉        | 471/2478 [2:22:33<9:08:46, 16.41s/images]"
     ]
    },
    {
     "name": "stdout",
     "output_type": "stream",
     "text": [
      "Prompt: \n",
      " A medium shot view of a white cardboard box with black tape from the Zara webshop, in front of a busy city street and cars background, the weather is snowy, high photorealistic quality.\n"
     ]
    },
    {
     "name": "stderr",
     "output_type": "stream",
     "text": [
      "100%|██████████| 15/15 [00:13<00:00,  1.09it/s]\n",
      "Generating images:  19%|█▉        | 472/2478 [2:22:49<9:09:55, 16.45s/images]"
     ]
    },
    {
     "name": "stdout",
     "output_type": "stream",
     "text": [
      "Prompt: \n",
      " A medium shot view of an old lady holding a colorful cardboard box with blue tape from a webshop in her hands, standing in front of a quite neighborhood street and garden background, the weather is cloudy, high photorealistic quality.\n"
     ]
    },
    {
     "name": "stderr",
     "output_type": "stream",
     "text": [
      "100%|██████████| 15/15 [00:14<00:00,  1.02it/s]\n",
      "Generating images:  19%|█▉        | 473/2478 [2:23:07<9:19:00, 16.73s/images]"
     ]
    },
    {
     "name": "stdout",
     "output_type": "stream",
     "text": [
      "Prompt: \n",
      " A medium shot view of a white cardboard box with a qr code from the Nike webshop, in front of a quite neighborhood street and cars background, the weather is snowy, high photorealistic quality.\n"
     ]
    },
    {
     "name": "stderr",
     "output_type": "stream",
     "text": [
      "100%|██████████| 15/15 [00:14<00:00,  1.07it/s]\n",
      "Generating images:  19%|█▉        | 474/2478 [2:23:24<9:19:07, 16.74s/images]"
     ]
    },
    {
     "name": "stdout",
     "output_type": "stream",
     "text": [
      "Prompt: \n",
      " A medium shot view of a sad woman holding a white cardboard box with a qr code from the Nike webshop in her hands, standing in front of a busy city street and cars background, the weather is sunny, high photorealistic quality.\n"
     ]
    },
    {
     "name": "stderr",
     "output_type": "stream",
     "text": [
      "100%|██████████| 15/15 [00:14<00:00,  1.04it/s]\n",
      "Generating images:  19%|█▉        | 475/2478 [2:23:41<9:22:37, 16.85s/images]"
     ]
    },
    {
     "name": "stdout",
     "output_type": "stream",
     "text": [
      "Prompt: \n",
      " A medium shot view of a white cardboard box with a number from a webshop, in front of a doorstep of a house background, the weather is sunny, high photorealistic quality.\n"
     ]
    },
    {
     "name": "stderr",
     "output_type": "stream",
     "text": [
      "100%|██████████| 15/15 [00:15<00:00,  1.03s/it]\n",
      "Generating images:  19%|█▉        | 476/2478 [2:23:59<9:38:41, 17.34s/images]"
     ]
    },
    {
     "name": "stdout",
     "output_type": "stream",
     "text": [
      "Prompt: \n",
      " A medium shot view of an old person holding a colorful cardboard box with black tape from the Adidas webshop in her hands, standing in front of a busy city street and people background, the weather is cloudy, high photorealistic quality.\n"
     ]
    },
    {
     "name": "stderr",
     "output_type": "stream",
     "text": [
      "100%|██████████| 15/15 [00:14<00:00,  1.02it/s]\n",
      "Generating images:  19%|█▉        | 477/2478 [2:24:17<9:40:49, 17.42s/images]"
     ]
    },
    {
     "name": "stdout",
     "output_type": "stream",
     "text": [
      "Prompt: \n",
      " A medium shot view of a colorful cardboard box with green tape from the Adidas webshop, in front of a city center background, the weather is sunny, high photorealistic quality.\n"
     ]
    },
    {
     "name": "stderr",
     "output_type": "stream",
     "text": [
      "100%|██████████| 15/15 [00:13<00:00,  1.08it/s]\n",
      "Generating images:  19%|█▉        | 478/2478 [2:24:33<9:31:40, 17.15s/images]"
     ]
    },
    {
     "name": "stdout",
     "output_type": "stream",
     "text": [
      "Prompt: \n",
      " A medium shot view of a sad lady holding a colorful cardboard box with red tape from the Amazon webshop in her hands, standing in front of a busy city street and people background, the weather is sunny, high photorealistic quality.\n"
     ]
    },
    {
     "name": "stderr",
     "output_type": "stream",
     "text": [
      "100%|██████████| 15/15 [00:14<00:00,  1.05it/s]\n",
      "Generating images:  19%|█▉        | 479/2478 [2:24:50<9:28:22, 17.06s/images]"
     ]
    },
    {
     "name": "stdout",
     "output_type": "stream",
     "text": [
      "Prompt: \n",
      " A medium shot view of a colorful cardboard box with red tape from the Amazon webshop, in front of a appartment building background, the weather is snowy, high photorealistic quality.\n"
     ]
    },
    {
     "name": "stderr",
     "output_type": "stream",
     "text": [
      "100%|██████████| 15/15 [00:14<00:00,  1.06it/s]\n",
      "Generating images:  19%|█▉        | 480/2478 [2:25:07<9:26:36, 17.02s/images]"
     ]
    },
    {
     "name": "stdout",
     "output_type": "stream",
     "text": [
      "Prompt: \n",
      " A medium shot view of a frowning lady holding a black cardboard box with yellow tape from a webshop in her hands, standing in front of a quite neighborhood street and cars background, the weather is cloudy, high photorealistic quality.\n"
     ]
    },
    {
     "name": "stderr",
     "output_type": "stream",
     "text": [
      "100%|██████████| 15/15 [00:14<00:00,  1.01it/s]\n",
      "Generating images:  19%|█▉        | 481/2478 [2:25:25<9:34:32, 17.26s/images]"
     ]
    },
    {
     "name": "stdout",
     "output_type": "stream",
     "text": [
      "Prompt: \n",
      " A medium shot view of a brown cardboard box with black tape from the Nike webshop, in front of a street background, the weather is rainy, high photorealistic quality.\n"
     ]
    },
    {
     "name": "stderr",
     "output_type": "stream",
     "text": [
      "100%|██████████| 15/15 [00:13<00:00,  1.09it/s]\n",
      "Generating images:  19%|█▉        | 482/2478 [2:25:41<9:25:03, 16.99s/images]"
     ]
    },
    {
     "name": "stdout",
     "output_type": "stream",
     "text": [
      "Prompt: \n",
      " A medium shot view of an old boy holding a black cardboard box with a qr code from the Amazon webshop in his hands, standing in front of a quite neighborhood street and cars background, the weather is rainy, high photorealistic quality.\n"
     ]
    },
    {
     "name": "stderr",
     "output_type": "stream",
     "text": [
      "100%|██████████| 15/15 [00:14<00:00,  1.05it/s]\n",
      "Generating images:  19%|█▉        | 483/2478 [2:25:58<9:25:04, 16.99s/images]"
     ]
    },
    {
     "name": "stdout",
     "output_type": "stream",
     "text": [
      "Prompt: \n",
      " A medium shot view of a white cardboard box with blue tape from the Coolblue webshop, in front of a busy city street and cars background, the weather is cloudy, high photorealistic quality.\n"
     ]
    },
    {
     "name": "stderr",
     "output_type": "stream",
     "text": [
      "100%|██████████| 15/15 [00:13<00:00,  1.07it/s]\n",
      "Generating images:  20%|█▉        | 484/2478 [2:26:16<9:27:06, 17.06s/images]"
     ]
    },
    {
     "name": "stdout",
     "output_type": "stream",
     "text": [
      "Prompt: \n",
      " A medium shot view of a frowning man holding a colorful cardboard box with a qr code from the Amazon webshop in his hands, standing in front of a city center background, the weather is snowy, high photorealistic quality.\n"
     ]
    },
    {
     "name": "stderr",
     "output_type": "stream",
     "text": [
      "100%|██████████| 15/15 [00:13<00:00,  1.09it/s]\n",
      "Generating images:  20%|█▉        | 485/2478 [2:26:32<9:20:33, 16.88s/images]"
     ]
    },
    {
     "name": "stdout",
     "output_type": "stream",
     "text": [
      "Prompt: \n",
      " A medium shot view of a brown cardboard box with blue tape from the Amazon webshop, in front of a street background, the weather is rainy, high photorealistic quality.\n"
     ]
    },
    {
     "name": "stderr",
     "output_type": "stream",
     "text": [
      "100%|██████████| 15/15 [00:13<00:00,  1.11it/s]\n",
      "Generating images:  20%|█▉        | 486/2478 [2:26:48<9:12:51, 16.65s/images]"
     ]
    },
    {
     "name": "stdout",
     "output_type": "stream",
     "text": [
      "Prompt: \n",
      " A medium shot view of a frowning lady holding a white cardboard box with green tape from the Amazon webshop in her hands, standing in front of a quite neighborhood street and cars background, the weather is snowy, high photorealistic quality.\n"
     ]
    },
    {
     "name": "stderr",
     "output_type": "stream",
     "text": [
      "100%|██████████| 15/15 [00:13<00:00,  1.11it/s]\n",
      "Generating images:  20%|█▉        | 487/2478 [2:27:04<9:07:41, 16.50s/images]"
     ]
    },
    {
     "name": "stdout",
     "output_type": "stream",
     "text": [
      "Prompt: \n",
      " A medium shot view of a colorful cardboard box with a qr code from the Adidas webshop, in front of a garbage curb background, the weather is cloudy, high photorealistic quality.\n"
     ]
    },
    {
     "name": "stderr",
     "output_type": "stream",
     "text": [
      "100%|██████████| 15/15 [00:13<00:00,  1.11it/s]\n",
      "Generating images:  20%|█▉        | 488/2478 [2:27:20<9:03:59, 16.40s/images]"
     ]
    },
    {
     "name": "stdout",
     "output_type": "stream",
     "text": [
      "Prompt: \n",
      " A medium shot view of a young woman holding a brown cardboard box with a number from the Amazon webshop in her hands, standing in front of a quite neighborhood street and trees background, the weather is cloudy, high photorealistic quality.\n"
     ]
    },
    {
     "name": "stderr",
     "output_type": "stream",
     "text": [
      "100%|██████████| 15/15 [00:13<00:00,  1.10it/s]\n",
      "Generating images:  20%|█▉        | 489/2478 [2:27:37<9:02:26, 16.36s/images]"
     ]
    },
    {
     "name": "stdout",
     "output_type": "stream",
     "text": [
      "Prompt: \n",
      " A medium shot view of a white cardboard box with a number from the Adidas webshop, in front of a city center background, the weather is rainy, high photorealistic quality.\n"
     ]
    },
    {
     "name": "stderr",
     "output_type": "stream",
     "text": [
      "100%|██████████| 15/15 [00:13<00:00,  1.09it/s]\n",
      "Generating images:  20%|█▉        | 490/2478 [2:27:53<9:03:34, 16.41s/images]"
     ]
    },
    {
     "name": "stdout",
     "output_type": "stream",
     "text": [
      "Prompt: \n",
      " A medium shot view of a sad person holding a black cardboard box with black tape from the Adidas webshop in her hands, standing in front of a busy city street and people background, the weather is snowy, high photorealistic quality.\n"
     ]
    },
    {
     "name": "stderr",
     "output_type": "stream",
     "text": [
      "100%|██████████| 15/15 [00:14<00:00,  1.02it/s]\n",
      "Generating images:  20%|█▉        | 491/2478 [2:28:11<9:14:13, 16.74s/images]"
     ]
    },
    {
     "name": "stdout",
     "output_type": "stream",
     "text": [
      "Prompt: \n",
      " A medium shot view of a black cardboard box with yellow tape from the Coolblue webshop, in front of a street background, the weather is rainy, high photorealistic quality.\n"
     ]
    },
    {
     "name": "stderr",
     "output_type": "stream",
     "text": [
      "100%|██████████| 15/15 [00:14<00:00,  1.06it/s]\n",
      "Generating images:  20%|█▉        | 492/2478 [2:28:28<9:15:02, 16.77s/images]"
     ]
    },
    {
     "name": "stdout",
     "output_type": "stream",
     "text": [
      "Prompt: \n",
      " A medium shot view of a smiling person holding a black cardboard box with a barcode from the Amazon webshop in her hands, standing in front of a garbage curb background, the weather is sunny, high photorealistic quality.\n"
     ]
    },
    {
     "name": "stderr",
     "output_type": "stream",
     "text": [
      "100%|██████████| 15/15 [00:13<00:00,  1.10it/s]\n",
      "Generating images:  20%|█▉        | 493/2478 [2:28:44<9:09:48, 16.62s/images]"
     ]
    },
    {
     "name": "stdout",
     "output_type": "stream",
     "text": [
      "Prompt: \n",
      " A medium shot view of a black cardboard box with a barcode from the Amazon webshop, in front of a doorstep of a house background, the weather is cloudy, high photorealistic quality.\n"
     ]
    },
    {
     "name": "stderr",
     "output_type": "stream",
     "text": [
      "100%|██████████| 15/15 [00:13<00:00,  1.09it/s]\n",
      "Generating images:  20%|█▉        | 494/2478 [2:29:00<9:06:56, 16.54s/images]"
     ]
    },
    {
     "name": "stdout",
     "output_type": "stream",
     "text": [
      "Prompt: \n",
      " A medium shot view of an old person holding a brown cardboard box with a barcode from the Amazon webshop in her hands, standing in front of a garbage curb background, the weather is snowy, high photorealistic quality.\n"
     ]
    },
    {
     "name": "stderr",
     "output_type": "stream",
     "text": [
      "100%|██████████| 15/15 [00:14<00:00,  1.05it/s]\n",
      "Generating images:  20%|█▉        | 495/2478 [2:29:17<9:10:01, 16.64s/images]"
     ]
    },
    {
     "name": "stdout",
     "output_type": "stream",
     "text": [
      "Prompt: \n",
      " A medium shot view of a black cardboard box with a number from the Adidas webshop, in front of a doorstep of a house background, the weather is cloudy, high photorealistic quality.\n"
     ]
    },
    {
     "name": "stderr",
     "output_type": "stream",
     "text": [
      "100%|██████████| 15/15 [00:14<00:00,  1.06it/s]\n",
      "Generating images:  20%|██        | 496/2478 [2:29:34<9:10:54, 16.68s/images]"
     ]
    },
    {
     "name": "stdout",
     "output_type": "stream",
     "text": [
      "Prompt: \n",
      " A medium shot view of a sad man holding a colorful cardboard box with a qr code from the Adidas webshop in his hands, standing in front of a busy city street and people background, the weather is rainy, high photorealistic quality.\n"
     ]
    },
    {
     "name": "stderr",
     "output_type": "stream",
     "text": [
      "100%|██████████| 15/15 [00:13<00:00,  1.10it/s]\n",
      "Generating images:  20%|██        | 497/2478 [2:29:50<9:07:59, 16.60s/images]"
     ]
    },
    {
     "name": "stdout",
     "output_type": "stream",
     "text": [
      "Prompt: \n",
      " A medium shot view of a black cardboard box with red tape from the Coolblue webshop, in front of a busy city street and people background, the weather is sunny, high photorealistic quality.\n"
     ]
    },
    {
     "name": "stderr",
     "output_type": "stream",
     "text": [
      "100%|██████████| 15/15 [00:13<00:00,  1.07it/s]\n",
      "Generating images:  20%|██        | 498/2478 [2:30:07<9:07:30, 16.59s/images]"
     ]
    },
    {
     "name": "stdout",
     "output_type": "stream",
     "text": [
      "Prompt: \n",
      " A medium shot view of a sad woman holding a colorful cardboard box with a barcode from the Amazon webshop in her hands, standing in front of a quite neighborhood street and cars background, the weather is sunny, high photorealistic quality.\n"
     ]
    },
    {
     "name": "stderr",
     "output_type": "stream",
     "text": [
      "100%|██████████| 15/15 [00:14<00:00,  1.07it/s]\n",
      "Generating images:  20%|██        | 499/2478 [2:30:23<9:08:16, 16.62s/images]"
     ]
    },
    {
     "name": "stdout",
     "output_type": "stream",
     "text": [
      "Prompt: \n",
      " A medium shot view of a black cardboard box with black tape from the Amazon webshop, in front of a appartment building background, the weather is sunny, high photorealistic quality.\n"
     ]
    },
    {
     "name": "stderr",
     "output_type": "stream",
     "text": [
      "100%|██████████| 15/15 [00:14<00:00,  1.04it/s]\n",
      "Generating images:  20%|██        | 500/2478 [2:30:41<9:14:18, 16.81s/images]"
     ]
    },
    {
     "name": "stdout",
     "output_type": "stream",
     "text": [
      "Prompt: \n",
      " A medium shot view of an old person holding a brown cardboard box with a barcode from the Amazon webshop in her hands, standing in front of a busy city street and cars background, the weather is sunny, high photorealistic quality.\n"
     ]
    },
    {
     "name": "stderr",
     "output_type": "stream",
     "text": [
      "100%|██████████| 15/15 [00:13<00:00,  1.10it/s]\n",
      "Generating images:  20%|██        | 501/2478 [2:30:57<9:08:17, 16.64s/images]"
     ]
    },
    {
     "name": "stdout",
     "output_type": "stream",
     "text": [
      "Prompt: \n",
      " A medium shot view of a brown cardboard box with blue tape from the Amazon webshop, in front of a appartment building background, the weather is rainy, high photorealistic quality.\n"
     ]
    },
    {
     "name": "stderr",
     "output_type": "stream",
     "text": [
      "100%|██████████| 15/15 [00:13<00:00,  1.11it/s]\n",
      "Generating images:  20%|██        | 502/2478 [2:31:13<9:02:56, 16.49s/images]"
     ]
    },
    {
     "name": "stdout",
     "output_type": "stream",
     "text": [
      "Prompt: \n",
      " A medium shot view of a young person holding a brown cardboard box with yellow tape from the Coolblue webshop in her hands, standing in front of a city center background, the weather is rainy, high photorealistic quality.\n"
     ]
    },
    {
     "name": "stderr",
     "output_type": "stream",
     "text": [
      "100%|██████████| 15/15 [00:13<00:00,  1.08it/s]\n",
      "Generating images:  20%|██        | 503/2478 [2:31:30<9:02:56, 16.49s/images]"
     ]
    },
    {
     "name": "stdout",
     "output_type": "stream",
     "text": [
      "Prompt: \n",
      " A medium shot view of a brown cardboard box with black tape from a webshop, in front of a street background, the weather is snowy, high photorealistic quality.\n"
     ]
    },
    {
     "name": "stderr",
     "output_type": "stream",
     "text": [
      "100%|██████████| 15/15 [00:13<00:00,  1.09it/s]\n",
      "Generating images:  20%|██        | 504/2478 [2:31:46<9:05:24, 16.58s/images]"
     ]
    },
    {
     "name": "stdout",
     "output_type": "stream",
     "text": [
      "Prompt: \n",
      " A medium shot view of an angry man holding a brown cardboard box with black tape from the Zara webshop in his hands, standing in front of a busy city street and people background, the weather is sunny, high photorealistic quality.\n"
     ]
    },
    {
     "name": "stderr",
     "output_type": "stream",
     "text": [
      "100%|██████████| 15/15 [00:13<00:00,  1.08it/s]\n",
      "Generating images:  20%|██        | 505/2478 [2:32:03<9:06:28, 16.62s/images]"
     ]
    },
    {
     "name": "stdout",
     "output_type": "stream",
     "text": [
      "Prompt: \n",
      " A medium shot view of a white cardboard box with red tape from the Nike webshop, in front of a busy city street and cars background, the weather is cloudy, high photorealistic quality.\n"
     ]
    },
    {
     "name": "stderr",
     "output_type": "stream",
     "text": [
      "100%|██████████| 15/15 [00:14<00:00,  1.06it/s]\n",
      "Generating images:  20%|██        | 506/2478 [2:32:20<9:07:59, 16.67s/images]"
     ]
    },
    {
     "name": "stdout",
     "output_type": "stream",
     "text": [
      "Prompt: \n",
      " A medium shot view of a happy man holding a white cardboard box with a number from the Nike webshop in his hands, standing in front of a quite neighborhood street and trees background, the weather is sunny, high photorealistic quality.\n"
     ]
    },
    {
     "name": "stderr",
     "output_type": "stream",
     "text": [
      "100%|██████████| 15/15 [00:14<00:00,  1.06it/s]\n",
      "Generating images:  20%|██        | 507/2478 [2:32:37<9:08:12, 16.69s/images]"
     ]
    },
    {
     "name": "stdout",
     "output_type": "stream",
     "text": [
      "Prompt: \n",
      " A medium shot view of a brown cardboard box with black tape from the Coolblue webshop, in front of a quite neighborhood street and trees background, the weather is sunny, high photorealistic quality.\n"
     ]
    },
    {
     "name": "stderr",
     "output_type": "stream",
     "text": [
      "100%|██████████| 15/15 [00:13<00:00,  1.08it/s]\n",
      "Generating images:  21%|██        | 508/2478 [2:32:53<9:07:20, 16.67s/images]"
     ]
    },
    {
     "name": "stdout",
     "output_type": "stream",
     "text": [
      "Prompt: \n",
      " A medium shot view of an old man holding a white cardboard box with a number from the Amazon webshop in his hands, standing in front of a quite neighborhood street and trees background, the weather is rainy, high photorealistic quality.\n"
     ]
    },
    {
     "name": "stderr",
     "output_type": "stream",
     "text": [
      "100%|██████████| 15/15 [00:14<00:00,  1.01it/s]\n",
      "Generating images:  21%|██        | 509/2478 [2:33:11<9:15:59, 16.94s/images]"
     ]
    },
    {
     "name": "stdout",
     "output_type": "stream",
     "text": [
      "Prompt: \n",
      " A medium shot view of a white cardboard box with black tape from a webshop, in front of a city center background, the weather is sunny, high photorealistic quality.\n"
     ]
    },
    {
     "name": "stderr",
     "output_type": "stream",
     "text": [
      "100%|██████████| 15/15 [00:14<00:00,  1.03it/s]\n",
      "Generating images:  21%|██        | 510/2478 [2:33:28<9:17:47, 17.01s/images]"
     ]
    },
    {
     "name": "stdout",
     "output_type": "stream",
     "text": [
      "Prompt: \n",
      " A medium shot view of a frowning lady holding a black cardboard box with black tape from the Adidas webshop in her hands, standing in front of a quite neighborhood street and trees background, the weather is rainy, high photorealistic quality.\n"
     ]
    },
    {
     "name": "stderr",
     "output_type": "stream",
     "text": [
      "100%|██████████| 15/15 [00:14<00:00,  1.07it/s]\n",
      "Generating images:  21%|██        | 511/2478 [2:33:45<9:14:29, 16.91s/images]"
     ]
    },
    {
     "name": "stdout",
     "output_type": "stream",
     "text": [
      "Prompt: \n",
      " A medium shot view of a brown cardboard box with green tape from the Nike webshop, in front of a city center background, the weather is cloudy, high photorealistic quality.\n"
     ]
    },
    {
     "name": "stderr",
     "output_type": "stream",
     "text": [
      "100%|██████████| 15/15 [00:13<00:00,  1.08it/s]\n",
      "Generating images:  21%|██        | 512/2478 [2:34:01<9:11:19, 16.83s/images]"
     ]
    },
    {
     "name": "stdout",
     "output_type": "stream",
     "text": [
      "Prompt: \n",
      " A medium shot view of a sad boy holding a white cardboard box with a barcode from the Nike webshop in his hands, standing in front of a garbage curb background, the weather is cloudy, high photorealistic quality.\n"
     ]
    },
    {
     "name": "stderr",
     "output_type": "stream",
     "text": [
      "100%|██████████| 15/15 [00:13<00:00,  1.08it/s]\n",
      "Generating images:  21%|██        | 513/2478 [2:34:18<9:08:16, 16.74s/images]"
     ]
    },
    {
     "name": "stdout",
     "output_type": "stream",
     "text": [
      "Prompt: \n",
      " A medium shot view of a black cardboard box with a qr code from the Zara webshop, in front of a appartment building background, the weather is snowy, high photorealistic quality.\n"
     ]
    },
    {
     "name": "stderr",
     "output_type": "stream",
     "text": [
      "100%|██████████| 15/15 [00:13<00:00,  1.09it/s]\n",
      "Generating images:  21%|██        | 514/2478 [2:34:34<9:05:03, 16.65s/images]"
     ]
    },
    {
     "name": "stdout",
     "output_type": "stream",
     "text": [
      "Prompt: \n",
      " A medium shot view of a sad man holding a brown cardboard box with a number from a webshop in his hands, standing in front of a city center background, the weather is rainy, high photorealistic quality.\n"
     ]
    },
    {
     "name": "stderr",
     "output_type": "stream",
     "text": [
      "100%|██████████| 15/15 [00:14<00:00,  1.05it/s]\n",
      "Generating images:  21%|██        | 515/2478 [2:34:52<9:13:31, 16.92s/images]"
     ]
    },
    {
     "name": "stdout",
     "output_type": "stream",
     "text": [
      "Prompt: \n",
      " A medium shot view of a white cardboard box with yellow tape from the Amazon webshop, in front of a quite neighborhood street and trees background, the weather is snowy, high photorealistic quality.\n"
     ]
    },
    {
     "name": "stderr",
     "output_type": "stream",
     "text": [
      "100%|██████████| 15/15 [00:14<00:00,  1.06it/s]\n",
      "Generating images:  21%|██        | 516/2478 [2:35:09<9:12:19, 16.89s/images]"
     ]
    },
    {
     "name": "stdout",
     "output_type": "stream",
     "text": [
      "Prompt: \n",
      " A medium shot view of an old boy holding a white cardboard box with yellow tape from the Adidas webshop in his hands, standing in front of a quite neighborhood street and cars background, the weather is snowy, high photorealistic quality.\n"
     ]
    },
    {
     "name": "stderr",
     "output_type": "stream",
     "text": [
      "100%|██████████| 15/15 [00:14<00:00,  1.06it/s]\n",
      "Generating images:  21%|██        | 517/2478 [2:35:26<9:13:31, 16.94s/images]"
     ]
    },
    {
     "name": "stdout",
     "output_type": "stream",
     "text": [
      "Prompt: \n",
      " A medium shot view of a colorful cardboard box with a barcode from the Zara webshop, in front of a garbage curb background, the weather is cloudy, high photorealistic quality.\n"
     ]
    },
    {
     "name": "stderr",
     "output_type": "stream",
     "text": [
      "100%|██████████| 15/15 [00:15<00:00,  1.05s/it]\n",
      "Generating images:  21%|██        | 518/2478 [2:35:44<9:29:27, 17.43s/images]"
     ]
    },
    {
     "name": "stdout",
     "output_type": "stream",
     "text": [
      "Prompt: \n",
      " A medium shot view of a young boy holding a brown cardboard box with green tape from the Nike webshop in his hands, standing in front of a city center background, the weather is rainy, high photorealistic quality.\n"
     ]
    },
    {
     "name": "stderr",
     "output_type": "stream",
     "text": [
      "100%|██████████| 15/15 [00:16<00:00,  1.09s/it]\n",
      "Generating images:  21%|██        | 519/2478 [2:36:03<9:45:50, 17.94s/images]"
     ]
    },
    {
     "name": "stdout",
     "output_type": "stream",
     "text": [
      "Prompt: \n",
      " A medium shot view of a black cardboard box with blue tape from the Adidas webshop, in front of a busy city street and people background, the weather is rainy, high photorealistic quality.\n"
     ]
    },
    {
     "name": "stderr",
     "output_type": "stream",
     "text": [
      "100%|██████████| 15/15 [00:15<00:00,  1.06s/it]\n",
      "Generating images:  21%|██        | 520/2478 [2:36:22<9:55:47, 18.26s/images]"
     ]
    },
    {
     "name": "stdout",
     "output_type": "stream",
     "text": [
      "Prompt: \n",
      " A medium shot view of an old lady holding a white cardboard box with red tape from the Adidas webshop in her hands, standing in front of a quite neighborhood street and trees background, the weather is rainy, high photorealistic quality.\n"
     ]
    },
    {
     "name": "stderr",
     "output_type": "stream",
     "text": [
      "100%|██████████| 15/15 [00:15<00:00,  1.05s/it]\n",
      "Generating images:  21%|██        | 521/2478 [2:36:41<10:01:03, 18.43s/images]"
     ]
    },
    {
     "name": "stdout",
     "output_type": "stream",
     "text": [
      "Prompt: \n",
      " A medium shot view of a colorful cardboard box with green tape from a webshop, in front of a garbage curb background, the weather is cloudy, high photorealistic quality.\n"
     ]
    },
    {
     "name": "stderr",
     "output_type": "stream",
     "text": [
      "100%|██████████| 15/15 [00:16<00:00,  1.07s/it]\n",
      "Generating images:  21%|██        | 522/2478 [2:37:00<10:05:53, 18.59s/images]"
     ]
    },
    {
     "name": "stdout",
     "output_type": "stream",
     "text": [
      "Prompt: \n",
      " A medium shot view of a smiling woman holding a black cardboard box with red tape from the Nike webshop in her hands, standing in front of a busy city street and people background, the weather is cloudy, high photorealistic quality.\n"
     ]
    },
    {
     "name": "stderr",
     "output_type": "stream",
     "text": [
      "100%|██████████| 15/15 [00:16<00:00,  1.07s/it]\n",
      "Generating images:  21%|██        | 523/2478 [2:37:19<10:10:25, 18.73s/images]"
     ]
    },
    {
     "name": "stdout",
     "output_type": "stream",
     "text": [
      "Prompt: \n",
      " A medium shot view of a brown cardboard box with a barcode from the Zara webshop, in front of a city center background, the weather is rainy, high photorealistic quality.\n"
     ]
    },
    {
     "name": "stderr",
     "output_type": "stream",
     "text": [
      "100%|██████████| 15/15 [00:16<00:00,  1.09s/it]\n",
      "Generating images:  21%|██        | 524/2478 [2:37:38<10:14:16, 18.86s/images]"
     ]
    },
    {
     "name": "stdout",
     "output_type": "stream",
     "text": [
      "Prompt: \n",
      " A medium shot view of an angry boy holding a colorful cardboard box with a qr code from the Amazon webshop in his hands, standing in front of a busy city street and people background, the weather is cloudy, high photorealistic quality.\n"
     ]
    },
    {
     "name": "stderr",
     "output_type": "stream",
     "text": [
      "100%|██████████| 15/15 [00:15<00:00,  1.05s/it]\n",
      "Generating images:  21%|██        | 525/2478 [2:37:57<10:12:15, 18.81s/images]"
     ]
    },
    {
     "name": "stdout",
     "output_type": "stream",
     "text": [
      "Prompt: \n",
      " A medium shot view of a white cardboard box with green tape from the Adidas webshop, in front of a quite neighborhood street and cars background, the weather is sunny, high photorealistic quality.\n"
     ]
    },
    {
     "name": "stderr",
     "output_type": "stream",
     "text": [
      "100%|██████████| 15/15 [00:16<00:00,  1.11s/it]\n",
      "Generating images:  21%|██        | 526/2478 [2:38:17<10:18:44, 19.02s/images]"
     ]
    },
    {
     "name": "stdout",
     "output_type": "stream",
     "text": [
      "Prompt: \n",
      " A medium shot view of an old man holding a white cardboard box with a qr code from a webshop in his hands, standing in front of a city center background, the weather is cloudy, high photorealistic quality.\n"
     ]
    },
    {
     "name": "stderr",
     "output_type": "stream",
     "text": [
      "100%|██████████| 15/15 [00:15<00:00,  1.05s/it]\n",
      "Generating images:  21%|██▏       | 527/2478 [2:38:35<10:14:31, 18.90s/images]"
     ]
    },
    {
     "name": "stdout",
     "output_type": "stream",
     "text": [
      "Prompt: \n",
      " A medium shot view of a black cardboard box with green tape from the Coolblue webshop, in front of a busy city street and cars background, the weather is snowy, high photorealistic quality.\n"
     ]
    },
    {
     "name": "stderr",
     "output_type": "stream",
     "text": [
      "100%|██████████| 15/15 [00:15<00:00,  1.05s/it]\n",
      "Generating images:  21%|██▏       | 528/2478 [2:38:54<10:11:33, 18.82s/images]"
     ]
    },
    {
     "name": "stdout",
     "output_type": "stream",
     "text": [
      "Prompt: \n",
      " A medium shot view of a happy woman holding a colorful cardboard box with a number from the Amazon webshop in her hands, standing in front of a quite neighborhood street and cars background, the weather is snowy, high photorealistic quality.\n"
     ]
    },
    {
     "name": "stderr",
     "output_type": "stream",
     "text": [
      "100%|██████████| 15/15 [00:15<00:00,  1.00s/it]\n",
      "Generating images:  21%|██▏       | 529/2478 [2:39:12<10:02:09, 18.54s/images]"
     ]
    },
    {
     "name": "stdout",
     "output_type": "stream",
     "text": [
      "Prompt: \n",
      " A medium shot view of a black cardboard box with red tape from the Nike webshop, in front of a busy city street and people background, the weather is rainy, high photorealistic quality.\n"
     ]
    },
    {
     "name": "stderr",
     "output_type": "stream",
     "text": [
      "100%|██████████| 15/15 [00:15<00:00,  1.02s/it]\n",
      "Generating images:  21%|██▏       | 530/2478 [2:39:30<10:00:47, 18.50s/images]"
     ]
    },
    {
     "name": "stdout",
     "output_type": "stream",
     "text": [
      "Prompt: \n",
      " A medium shot view of a happy woman holding a black cardboard box with green tape from the Nike webshop in her hands, standing in front of a appartment building background, the weather is sunny, high photorealistic quality.\n"
     ]
    },
    {
     "name": "stderr",
     "output_type": "stream",
     "text": [
      "100%|██████████| 15/15 [00:15<00:00,  1.04s/it]\n",
      "Generating images:  21%|██▏       | 531/2478 [2:39:49<10:00:42, 18.51s/images]"
     ]
    },
    {
     "name": "stdout",
     "output_type": "stream",
     "text": [
      "Prompt: \n",
      " A medium shot view of a colorful cardboard box with yellow tape from the Amazon webshop, in front of a city center background, the weather is rainy, high photorealistic quality.\n"
     ]
    },
    {
     "name": "stderr",
     "output_type": "stream",
     "text": [
      "100%|██████████| 15/15 [00:15<00:00,  1.01s/it]\n",
      "Generating images:  21%|██▏       | 532/2478 [2:40:07<9:55:01, 18.35s/images] "
     ]
    },
    {
     "name": "stdout",
     "output_type": "stream",
     "text": [
      "Prompt: \n",
      " A medium shot view of an old man holding a brown cardboard box with black tape from the Amazon webshop in his hands, standing in front of a doorstep of a house background, the weather is rainy, high photorealistic quality.\n"
     ]
    },
    {
     "name": "stderr",
     "output_type": "stream",
     "text": [
      "100%|██████████| 15/15 [00:15<00:00,  1.01s/it]\n",
      "Generating images:  22%|██▏       | 533/2478 [2:40:25<9:51:43, 18.25s/images]"
     ]
    },
    {
     "name": "stdout",
     "output_type": "stream",
     "text": [
      "Prompt: \n",
      " A medium shot view of a brown cardboard box with yellow tape from the Nike webshop, in front of a appartment building background, the weather is snowy, high photorealistic quality.\n"
     ]
    },
    {
     "name": "stderr",
     "output_type": "stream",
     "text": [
      "100%|██████████| 15/15 [00:16<00:00,  1.08s/it]\n",
      "Generating images:  22%|██▏       | 534/2478 [2:40:44<10:00:40, 18.54s/images]"
     ]
    },
    {
     "name": "stdout",
     "output_type": "stream",
     "text": [
      "Prompt: \n",
      " A medium shot view of a sad man holding a white cardboard box with yellow tape from the Zara webshop in his hands, standing in front of a quite neighborhood street and cars background, the weather is sunny, high photorealistic quality.\n"
     ]
    },
    {
     "name": "stderr",
     "output_type": "stream",
     "text": [
      "100%|██████████| 15/15 [00:15<00:00,  1.03s/it]\n",
      "Generating images:  22%|██▏       | 535/2478 [2:41:02<9:59:09, 18.50s/images] "
     ]
    },
    {
     "name": "stdout",
     "output_type": "stream",
     "text": [
      "Prompt: \n",
      " A medium shot view of a brown cardboard box with a barcode from the Adidas webshop, in front of a busy city street and cars background, the weather is snowy, high photorealistic quality.\n"
     ]
    },
    {
     "name": "stderr",
     "output_type": "stream",
     "text": [
      "100%|██████████| 15/15 [00:15<00:00,  1.06s/it]\n",
      "Generating images:  22%|██▏       | 536/2478 [2:41:21<10:04:01, 18.66s/images]"
     ]
    },
    {
     "name": "stdout",
     "output_type": "stream",
     "text": [
      "Prompt: \n",
      " A medium shot view of an old man holding a black cardboard box with red tape from the Amazon webshop in his hands, standing in front of a quite neighborhood street and cars background, the weather is sunny, high photorealistic quality.\n"
     ]
    },
    {
     "name": "stderr",
     "output_type": "stream",
     "text": [
      "100%|██████████| 15/15 [00:15<00:00,  1.05s/it]\n",
      "Generating images:  22%|██▏       | 537/2478 [2:41:40<10:03:17, 18.65s/images]"
     ]
    },
    {
     "name": "stdout",
     "output_type": "stream",
     "text": [
      "Prompt: \n",
      " A medium shot view of a black cardboard box with a qr code from the Coolblue webshop, in front of a doorstep of a house background, the weather is rainy, high photorealistic quality.\n"
     ]
    },
    {
     "name": "stderr",
     "output_type": "stream",
     "text": [
      "100%|██████████| 15/15 [00:15<00:00,  1.03s/it]\n",
      "Generating images:  22%|██▏       | 538/2478 [2:41:59<10:01:58, 18.62s/images]"
     ]
    },
    {
     "name": "stdout",
     "output_type": "stream",
     "text": [
      "Prompt: \n",
      " A medium shot view of an old boy holding a brown cardboard box with a barcode from the Adidas webshop in his hands, standing in front of a doorstep of a house background, the weather is sunny, high photorealistic quality.\n"
     ]
    },
    {
     "name": "stderr",
     "output_type": "stream",
     "text": [
      "100%|██████████| 15/15 [00:15<00:00,  1.05s/it]\n",
      "Generating images:  22%|██▏       | 539/2478 [2:42:17<10:01:18, 18.61s/images]"
     ]
    },
    {
     "name": "stdout",
     "output_type": "stream",
     "text": [
      "Prompt: \n",
      " A medium shot view of a colorful cardboard box with yellow tape from a webshop, in front of a busy city street and cars background, the weather is rainy, high photorealistic quality.\n"
     ]
    },
    {
     "name": "stderr",
     "output_type": "stream",
     "text": [
      "100%|██████████| 15/15 [00:15<00:00,  1.03s/it]\n",
      "Generating images:  22%|██▏       | 540/2478 [2:42:35<9:57:20, 18.49s/images] "
     ]
    },
    {
     "name": "stdout",
     "output_type": "stream",
     "text": [
      "Prompt: \n",
      " A medium shot view of a smiling person holding a black cardboard box with yellow tape from the Nike webshop in her hands, standing in front of a garbage curb background, the weather is sunny, high photorealistic quality.\n"
     ]
    },
    {
     "name": "stderr",
     "output_type": "stream",
     "text": [
      "100%|██████████| 15/15 [00:15<00:00,  1.04s/it]\n",
      "Generating images:  22%|██▏       | 541/2478 [2:42:54<9:57:01, 18.49s/images]"
     ]
    },
    {
     "name": "stdout",
     "output_type": "stream",
     "text": [
      "Prompt: \n",
      " A medium shot view of a brown cardboard box with yellow tape from a webshop, in front of a doorstep of a house background, the weather is snowy, high photorealistic quality.\n"
     ]
    },
    {
     "name": "stderr",
     "output_type": "stream",
     "text": [
      "100%|██████████| 15/15 [00:15<00:00,  1.04s/it]\n",
      "Generating images:  22%|██▏       | 542/2478 [2:43:12<9:56:16, 18.48s/images]"
     ]
    },
    {
     "name": "stdout",
     "output_type": "stream",
     "text": [
      "Prompt: \n",
      " A medium shot view of an old man holding a black cardboard box with a number from the Amazon webshop in his hands, standing in front of a garbage curb background, the weather is snowy, high photorealistic quality.\n"
     ]
    },
    {
     "name": "stderr",
     "output_type": "stream",
     "text": [
      "100%|██████████| 15/15 [00:15<00:00,  1.03s/it]\n",
      "Generating images:  22%|██▏       | 543/2478 [2:43:31<9:54:20, 18.43s/images]"
     ]
    },
    {
     "name": "stdout",
     "output_type": "stream",
     "text": [
      "Prompt: \n",
      " A medium shot view of a white cardboard box with a qr code from the Amazon webshop, in front of a street background, the weather is sunny, high photorealistic quality.\n"
     ]
    },
    {
     "name": "stderr",
     "output_type": "stream",
     "text": [
      "100%|██████████| 15/15 [00:15<00:00,  1.06s/it]\n",
      "Generating images:  22%|██▏       | 544/2478 [2:43:50<9:59:43, 18.61s/images]"
     ]
    },
    {
     "name": "stdout",
     "output_type": "stream",
     "text": [
      "Prompt: \n",
      " A medium shot view of a smiling man holding a black cardboard box with a qr code from the Nike webshop in his hands, standing in front of a appartment building background, the weather is sunny, high photorealistic quality.\n"
     ]
    },
    {
     "name": "stderr",
     "output_type": "stream",
     "text": [
      "100%|██████████| 15/15 [00:15<00:00,  1.06s/it]\n",
      "Generating images:  22%|██▏       | 545/2478 [2:44:09<10:04:04, 18.75s/images]"
     ]
    },
    {
     "name": "stdout",
     "output_type": "stream",
     "text": [
      "Prompt: \n",
      " A medium shot view of a brown cardboard box with red tape from the Nike webshop, in front of a appartment building background, the weather is sunny, high photorealistic quality.\n"
     ]
    },
    {
     "name": "stderr",
     "output_type": "stream",
     "text": [
      "100%|██████████| 15/15 [00:15<00:00,  1.04s/it]\n",
      "Generating images:  22%|██▏       | 546/2478 [2:44:27<10:03:07, 18.73s/images]"
     ]
    },
    {
     "name": "stdout",
     "output_type": "stream",
     "text": [
      "Prompt: \n",
      " A medium shot view of a young lady holding a colorful cardboard box with a qr code from the Coolblue webshop in her hands, standing in front of a quite neighborhood street and garden background, the weather is sunny, high photorealistic quality.\n"
     ]
    },
    {
     "name": "stderr",
     "output_type": "stream",
     "text": [
      "100%|██████████| 15/15 [00:15<00:00,  1.06s/it]\n",
      "Generating images:  22%|██▏       | 547/2478 [2:44:46<10:04:19, 18.78s/images]"
     ]
    },
    {
     "name": "stdout",
     "output_type": "stream",
     "text": [
      "Prompt: \n",
      " A medium shot view of a white cardboard box with a qr code from the Nike webshop, in front of a appartment building background, the weather is cloudy, high photorealistic quality.\n"
     ]
    },
    {
     "name": "stderr",
     "output_type": "stream",
     "text": [
      "100%|██████████| 15/15 [00:15<00:00,  1.06s/it]\n",
      "Generating images:  22%|██▏       | 548/2478 [2:45:05<10:03:09, 18.75s/images]"
     ]
    },
    {
     "name": "stdout",
     "output_type": "stream",
     "text": [
      "Prompt: \n",
      " A medium shot view of an old woman holding a brown cardboard box with red tape from the Zara webshop in her hands, standing in front of a busy city street and people background, the weather is snowy, high photorealistic quality.\n"
     ]
    },
    {
     "name": "stderr",
     "output_type": "stream",
     "text": [
      "100%|██████████| 15/15 [00:15<00:00,  1.03s/it]\n",
      "Generating images:  22%|██▏       | 549/2478 [2:45:23<9:57:32, 18.59s/images] "
     ]
    },
    {
     "name": "stdout",
     "output_type": "stream",
     "text": [
      "Prompt: \n",
      " A medium shot view of a brown cardboard box with a number from the Amazon webshop, in front of a doorstep of a house background, the weather is snowy, high photorealistic quality.\n"
     ]
    },
    {
     "name": "stderr",
     "output_type": "stream",
     "text": [
      "100%|██████████| 15/15 [00:15<00:00,  1.02s/it]\n",
      "Generating images:  22%|██▏       | 550/2478 [2:45:41<9:53:05, 18.46s/images]"
     ]
    },
    {
     "name": "stdout",
     "output_type": "stream",
     "text": [
      "Prompt: \n",
      " A medium shot view of an old woman holding a colorful cardboard box with red tape from the Nike webshop in her hands, standing in front of a doorstep of a house background, the weather is rainy, high photorealistic quality.\n"
     ]
    },
    {
     "name": "stderr",
     "output_type": "stream",
     "text": [
      "100%|██████████| 15/15 [00:15<00:00,  1.02s/it]\n",
      "Generating images:  22%|██▏       | 551/2478 [2:46:00<9:51:06, 18.41s/images]"
     ]
    },
    {
     "name": "stdout",
     "output_type": "stream",
     "text": [
      "Prompt: \n",
      " A medium shot view of a brown cardboard box with yellow tape from the Amazon webshop, in front of a garbage curb background, the weather is cloudy, high photorealistic quality.\n"
     ]
    },
    {
     "name": "stderr",
     "output_type": "stream",
     "text": [
      "100%|██████████| 15/15 [00:15<00:00,  1.03s/it]\n",
      "Generating images:  22%|██▏       | 552/2478 [2:46:18<9:49:00, 18.35s/images]"
     ]
    },
    {
     "name": "stdout",
     "output_type": "stream",
     "text": [
      "Prompt: \n",
      " A medium shot view of a happy boy holding a white cardboard box with a number from the Nike webshop in his hands, standing in front of a quite neighborhood street and cars background, the weather is snowy, high photorealistic quality.\n"
     ]
    },
    {
     "name": "stderr",
     "output_type": "stream",
     "text": [
      "100%|██████████| 15/15 [00:15<00:00,  1.03s/it]\n",
      "Generating images:  22%|██▏       | 553/2478 [2:46:36<9:49:01, 18.36s/images]"
     ]
    },
    {
     "name": "stdout",
     "output_type": "stream",
     "text": [
      "Prompt: \n",
      " A medium shot view of a white cardboard box with a number from the Nike webshop, in front of a appartment building background, the weather is rainy, high photorealistic quality.\n"
     ]
    },
    {
     "name": "stderr",
     "output_type": "stream",
     "text": [
      "100%|██████████| 15/15 [00:15<00:00,  1.02s/it]\n",
      "Generating images:  22%|██▏       | 554/2478 [2:46:54<9:46:37, 18.29s/images]"
     ]
    },
    {
     "name": "stdout",
     "output_type": "stream",
     "text": [
      "Prompt: \n",
      " A medium shot view of a frowning woman holding a black cardboard box with blue tape from the Adidas webshop in her hands, standing in front of a doorstep of a house background, the weather is cloudy, high photorealistic quality.\n"
     ]
    },
    {
     "name": "stderr",
     "output_type": "stream",
     "text": [
      "100%|██████████| 15/15 [00:15<00:00,  1.02s/it]\n",
      "Generating images:  22%|██▏       | 555/2478 [2:47:13<9:45:09, 18.26s/images]"
     ]
    },
    {
     "name": "stdout",
     "output_type": "stream",
     "text": [
      "Prompt: \n",
      " A medium shot view of a brown cardboard box with green tape from the Coolblue webshop, in front of a doorstep of a house background, the weather is cloudy, high photorealistic quality.\n"
     ]
    },
    {
     "name": "stderr",
     "output_type": "stream",
     "text": [
      "100%|██████████| 15/15 [00:15<00:00,  1.03s/it]\n",
      "Generating images:  22%|██▏       | 556/2478 [2:47:31<9:45:57, 18.29s/images]"
     ]
    },
    {
     "name": "stdout",
     "output_type": "stream",
     "text": [
      "Prompt: \n",
      " A medium shot view of a happy woman holding a black cardboard box with yellow tape from the Coolblue webshop in her hands, standing in front of a quite neighborhood street and garden background, the weather is snowy, high photorealistic quality.\n"
     ]
    },
    {
     "name": "stderr",
     "output_type": "stream",
     "text": [
      "100%|██████████| 15/15 [00:14<00:00,  1.01it/s]\n",
      "Generating images:  22%|██▏       | 557/2478 [2:47:48<9:37:49, 18.05s/images]"
     ]
    },
    {
     "name": "stdout",
     "output_type": "stream",
     "text": [
      "Prompt: \n",
      " A medium shot view of a colorful cardboard box with black tape from the Nike webshop, in front of a garbage curb background, the weather is cloudy, high photorealistic quality.\n"
     ]
    },
    {
     "name": "stderr",
     "output_type": "stream",
     "text": [
      "100%|██████████| 15/15 [00:14<00:00,  1.01it/s]\n",
      "Generating images:  23%|██▎       | 558/2478 [2:48:06<9:34:17, 17.95s/images]"
     ]
    },
    {
     "name": "stdout",
     "output_type": "stream",
     "text": [
      "Prompt: \n",
      " A medium shot view of a smiling man holding a white cardboard box with a qr code from the Amazon webshop in his hands, standing in front of a garbage curb background, the weather is sunny, high photorealistic quality.\n"
     ]
    },
    {
     "name": "stderr",
     "output_type": "stream",
     "text": [
      "100%|██████████| 15/15 [00:14<00:00,  1.04it/s]\n",
      "Generating images:  23%|██▎       | 559/2478 [2:48:23<9:26:55, 17.73s/images]"
     ]
    },
    {
     "name": "stdout",
     "output_type": "stream",
     "text": [
      "Prompt: \n",
      " A medium shot view of a black cardboard box with black tape from the Nike webshop, in front of a doorstep of a house background, the weather is sunny, high photorealistic quality.\n"
     ]
    },
    {
     "name": "stderr",
     "output_type": "stream",
     "text": [
      "100%|██████████| 15/15 [00:14<00:00,  1.00it/s]\n",
      "Generating images:  23%|██▎       | 560/2478 [2:48:41<9:30:28, 17.85s/images]"
     ]
    },
    {
     "name": "stdout",
     "output_type": "stream",
     "text": [
      "Prompt: \n",
      " A medium shot view of an old boy holding a white cardboard box with green tape from the Amazon webshop in his hands, standing in front of a doorstep of a house background, the weather is cloudy, high photorealistic quality.\n"
     ]
    },
    {
     "name": "stderr",
     "output_type": "stream",
     "text": [
      "100%|██████████| 15/15 [00:15<00:00,  1.04s/it]\n",
      "Generating images:  23%|██▎       | 561/2478 [2:49:00<9:35:07, 18.00s/images]"
     ]
    },
    {
     "name": "stdout",
     "output_type": "stream",
     "text": [
      "Prompt: \n",
      " A medium shot view of a brown cardboard box with green tape from the Amazon webshop, in front of a doorstep of a house background, the weather is cloudy, high photorealistic quality.\n"
     ]
    },
    {
     "name": "stderr",
     "output_type": "stream",
     "text": [
      "100%|██████████| 15/15 [00:14<00:00,  1.04it/s]\n",
      "Generating images:  23%|██▎       | 562/2478 [2:49:17<9:29:51, 17.85s/images]"
     ]
    },
    {
     "name": "stdout",
     "output_type": "stream",
     "text": [
      "Prompt: \n",
      " A medium shot view of a smiling woman holding a white cardboard box with a number from the Adidas webshop in her hands, standing in front of a city center background, the weather is sunny, high photorealistic quality.\n"
     ]
    },
    {
     "name": "stderr",
     "output_type": "stream",
     "text": [
      "100%|██████████| 15/15 [00:14<00:00,  1.06it/s]\n",
      "Generating images:  23%|██▎       | 563/2478 [2:49:34<9:19:17, 17.52s/images]"
     ]
    },
    {
     "name": "stdout",
     "output_type": "stream",
     "text": [
      "Prompt: \n",
      " A medium shot view of a colorful cardboard box with yellow tape from the Zara webshop, in front of a busy city street and people background, the weather is rainy, high photorealistic quality.\n"
     ]
    },
    {
     "name": "stderr",
     "output_type": "stream",
     "text": [
      "100%|██████████| 15/15 [00:15<00:00,  1.02s/it]\n",
      "                                                                             \r"
     ]
    },
    {
     "ename": "KeyboardInterrupt",
     "evalue": "",
     "output_type": "error",
     "traceback": [
      "\u001b[1;31m---------------------------------------------------------------------------\u001b[0m",
      "\u001b[1;31mKeyboardInterrupt\u001b[0m                         Traceback (most recent call last)",
      "Cell \u001b[1;32mIn[5], line 1\u001b[0m\n\u001b[1;32m----> 1\u001b[0m \u001b[43mgenerate_images\u001b[49m\u001b[43m(\u001b[49m\u001b[38;5;124;43m\"\u001b[39;49m\u001b[38;5;124;43mlllyasviel/control_v11p_sd15_scribble\u001b[39;49m\u001b[38;5;124;43m\"\u001b[39;49m\u001b[43m,\u001b[49m\u001b[43m \u001b[49m\u001b[38;5;124;43m\"\u001b[39;49m\u001b[38;5;124;43mstablediffusionapi/realistic-vision-v20-2047\u001b[39;49m\u001b[38;5;124;43m\"\u001b[39;49m\u001b[43m,\u001b[49m\u001b[43m \u001b[49m\u001b[43mprompt_human\u001b[49m\u001b[38;5;241;43m=\u001b[39;49m\u001b[38;5;241;43m1\u001b[39;49m\u001b[43m,\u001b[49m\u001b[43m \u001b[49m\u001b[43minfer_steps\u001b[49m\u001b[38;5;241;43m=\u001b[39;49m\u001b[38;5;241;43m15\u001b[39;49m\u001b[43m)\u001b[49m\n",
      "Cell \u001b[1;32mIn[4], line 30\u001b[0m, in \u001b[0;36mgenerate_images\u001b[1;34m(controlnet_model_path, sd_model_path, prompt_human, infer_steps)\u001b[0m\n\u001b[0;32m     28\u001b[0m prompt \u001b[38;5;241m=\u001b[39m prompt_generator_no_human() \u001b[38;5;28;01mif\u001b[39;00m prompt_human \u001b[38;5;241m==\u001b[39m \u001b[38;5;241m0\u001b[39m \u001b[38;5;28;01melse\u001b[39;00m prompt_generator()\n\u001b[0;32m     29\u001b[0m \u001b[38;5;28mprint\u001b[39m(\u001b[38;5;124m\"\u001b[39m\u001b[38;5;124mPrompt: \u001b[39m\u001b[38;5;130;01m\\n\u001b[39;00m\u001b[38;5;124m\"\u001b[39m, prompt)\n\u001b[1;32m---> 30\u001b[0m image_output \u001b[38;5;241m=\u001b[39m \u001b[43mpipe\u001b[49m\u001b[43m(\u001b[49m\u001b[43mprompt\u001b[49m\u001b[38;5;241;43m=\u001b[39;49m\u001b[43mprompt\u001b[49m\u001b[43m,\u001b[49m\u001b[43m \u001b[49m\u001b[43mnegative_prompt\u001b[49m\u001b[38;5;241;43m=\u001b[39;49m\u001b[38;5;124;43m\"\u001b[39;49m\u001b[38;5;124;43mflat background, disfigured, unrealistic, low quality\u001b[39;49m\u001b[38;5;124;43m\"\u001b[39;49m\u001b[43m,\u001b[49m\u001b[43m \u001b[49m\u001b[43mimage\u001b[49m\u001b[38;5;241;43m=\u001b[39;49m\u001b[43mimage_input\u001b[49m\u001b[43m,\u001b[49m\u001b[43m \u001b[49m\u001b[43mnum_inference_steps\u001b[49m\u001b[43m \u001b[49m\u001b[38;5;241;43m=\u001b[39;49m\u001b[43m \u001b[49m\u001b[43minfer_steps\u001b[49m\u001b[43m)\u001b[49m\u001b[38;5;241m.\u001b[39mimages[\u001b[38;5;241m0\u001b[39m]\n\u001b[0;32m     31\u001b[0m image_output\u001b[38;5;241m.\u001b[39msave(os\u001b[38;5;241m.\u001b[39mpath\u001b[38;5;241m.\u001b[39mjoin(\u001b[38;5;124m\"\u001b[39m\u001b[38;5;124moutputs\u001b[39m\u001b[38;5;124m\"\u001b[39m, os\u001b[38;5;241m.\u001b[39mpath\u001b[38;5;241m.\u001b[39mbasename(file)))\n\u001b[0;32m     32\u001b[0m os\u001b[38;5;241m.\u001b[39mremove(os\u001b[38;5;241m.\u001b[39mpath\u001b[38;5;241m.\u001b[39mjoin(\u001b[38;5;124m\"\u001b[39m\u001b[38;5;124mwireframes\u001b[39m\u001b[38;5;124m\"\u001b[39m, file))\n",
      "File \u001b[1;32mc:\\Users\\aaron\\Documents\\git\\controlnet\\.myvenv\\Lib\\site-packages\\torch\\utils\\_contextlib.py:115\u001b[0m, in \u001b[0;36mcontext_decorator.<locals>.decorate_context\u001b[1;34m(*args, **kwargs)\u001b[0m\n\u001b[0;32m    112\u001b[0m \u001b[38;5;129m@functools\u001b[39m\u001b[38;5;241m.\u001b[39mwraps(func)\n\u001b[0;32m    113\u001b[0m \u001b[38;5;28;01mdef\u001b[39;00m \u001b[38;5;21mdecorate_context\u001b[39m(\u001b[38;5;241m*\u001b[39margs, \u001b[38;5;241m*\u001b[39m\u001b[38;5;241m*\u001b[39mkwargs):\n\u001b[0;32m    114\u001b[0m     \u001b[38;5;28;01mwith\u001b[39;00m ctx_factory():\n\u001b[1;32m--> 115\u001b[0m         \u001b[38;5;28;01mreturn\u001b[39;00m \u001b[43mfunc\u001b[49m\u001b[43m(\u001b[49m\u001b[38;5;241;43m*\u001b[39;49m\u001b[43margs\u001b[49m\u001b[43m,\u001b[49m\u001b[43m \u001b[49m\u001b[38;5;241;43m*\u001b[39;49m\u001b[38;5;241;43m*\u001b[39;49m\u001b[43mkwargs\u001b[49m\u001b[43m)\u001b[49m\n",
      "File \u001b[1;32mc:\\Users\\aaron\\Documents\\git\\controlnet\\.myvenv\\Lib\\site-packages\\diffusers\\pipelines\\controlnet\\pipeline_controlnet.py:1297\u001b[0m, in \u001b[0;36mStableDiffusionControlNetPipeline.__call__\u001b[1;34m(self, prompt, image, height, width, num_inference_steps, timesteps, guidance_scale, negative_prompt, num_images_per_prompt, eta, generator, latents, prompt_embeds, negative_prompt_embeds, ip_adapter_image, ip_adapter_image_embeds, output_type, return_dict, cross_attention_kwargs, controlnet_conditioning_scale, guess_mode, control_guidance_start, control_guidance_end, clip_skip, callback_on_step_end, callback_on_step_end_tensor_inputs, **kwargs)\u001b[0m\n\u001b[0;32m   1294\u001b[0m     torch\u001b[38;5;241m.\u001b[39mcuda\u001b[38;5;241m.\u001b[39mempty_cache()\n\u001b[0;32m   1296\u001b[0m \u001b[38;5;28;01mif\u001b[39;00m \u001b[38;5;129;01mnot\u001b[39;00m output_type \u001b[38;5;241m==\u001b[39m \u001b[38;5;124m\"\u001b[39m\u001b[38;5;124mlatent\u001b[39m\u001b[38;5;124m\"\u001b[39m:\n\u001b[1;32m-> 1297\u001b[0m     image \u001b[38;5;241m=\u001b[39m \u001b[38;5;28;43mself\u001b[39;49m\u001b[38;5;241;43m.\u001b[39;49m\u001b[43mvae\u001b[49m\u001b[38;5;241;43m.\u001b[39;49m\u001b[43mdecode\u001b[49m\u001b[43m(\u001b[49m\u001b[43mlatents\u001b[49m\u001b[43m \u001b[49m\u001b[38;5;241;43m/\u001b[39;49m\u001b[43m \u001b[49m\u001b[38;5;28;43mself\u001b[39;49m\u001b[38;5;241;43m.\u001b[39;49m\u001b[43mvae\u001b[49m\u001b[38;5;241;43m.\u001b[39;49m\u001b[43mconfig\u001b[49m\u001b[38;5;241;43m.\u001b[39;49m\u001b[43mscaling_factor\u001b[49m\u001b[43m,\u001b[49m\u001b[43m \u001b[49m\u001b[43mreturn_dict\u001b[49m\u001b[38;5;241;43m=\u001b[39;49m\u001b[38;5;28;43;01mFalse\u001b[39;49;00m\u001b[43m,\u001b[49m\u001b[43m \u001b[49m\u001b[43mgenerator\u001b[49m\u001b[38;5;241;43m=\u001b[39;49m\u001b[43mgenerator\u001b[49m\u001b[43m)\u001b[49m[\n\u001b[0;32m   1298\u001b[0m         \u001b[38;5;241m0\u001b[39m\n\u001b[0;32m   1299\u001b[0m     ]\n\u001b[0;32m   1300\u001b[0m     image, has_nsfw_concept \u001b[38;5;241m=\u001b[39m \u001b[38;5;28mself\u001b[39m\u001b[38;5;241m.\u001b[39mrun_safety_checker(image, device, prompt_embeds\u001b[38;5;241m.\u001b[39mdtype)\n\u001b[0;32m   1301\u001b[0m \u001b[38;5;28;01melse\u001b[39;00m:\n",
      "File \u001b[1;32mc:\\Users\\aaron\\Documents\\git\\controlnet\\.myvenv\\Lib\\site-packages\\diffusers\\utils\\accelerate_utils.py:45\u001b[0m, in \u001b[0;36mapply_forward_hook.<locals>.wrapper\u001b[1;34m(self, *args, **kwargs)\u001b[0m\n\u001b[0;32m     43\u001b[0m \u001b[38;5;28;01mdef\u001b[39;00m \u001b[38;5;21mwrapper\u001b[39m(\u001b[38;5;28mself\u001b[39m, \u001b[38;5;241m*\u001b[39margs, \u001b[38;5;241m*\u001b[39m\u001b[38;5;241m*\u001b[39mkwargs):\n\u001b[0;32m     44\u001b[0m     \u001b[38;5;28;01mif\u001b[39;00m \u001b[38;5;28mhasattr\u001b[39m(\u001b[38;5;28mself\u001b[39m, \u001b[38;5;124m\"\u001b[39m\u001b[38;5;124m_hf_hook\u001b[39m\u001b[38;5;124m\"\u001b[39m) \u001b[38;5;129;01mand\u001b[39;00m \u001b[38;5;28mhasattr\u001b[39m(\u001b[38;5;28mself\u001b[39m\u001b[38;5;241m.\u001b[39m_hf_hook, \u001b[38;5;124m\"\u001b[39m\u001b[38;5;124mpre_forward\u001b[39m\u001b[38;5;124m\"\u001b[39m):\n\u001b[1;32m---> 45\u001b[0m         \u001b[38;5;28;43mself\u001b[39;49m\u001b[38;5;241;43m.\u001b[39;49m\u001b[43m_hf_hook\u001b[49m\u001b[38;5;241;43m.\u001b[39;49m\u001b[43mpre_forward\u001b[49m\u001b[43m(\u001b[49m\u001b[38;5;28;43mself\u001b[39;49m\u001b[43m)\u001b[49m\n\u001b[0;32m     46\u001b[0m     \u001b[38;5;28;01mreturn\u001b[39;00m method(\u001b[38;5;28mself\u001b[39m, \u001b[38;5;241m*\u001b[39margs, \u001b[38;5;241m*\u001b[39m\u001b[38;5;241m*\u001b[39mkwargs)\n",
      "File \u001b[1;32mc:\\Users\\aaron\\Documents\\git\\controlnet\\.myvenv\\Lib\\site-packages\\accelerate\\hooks.py:690\u001b[0m, in \u001b[0;36mCpuOffload.pre_forward\u001b[1;34m(self, module, *args, **kwargs)\u001b[0m\n\u001b[0;32m    688\u001b[0m \u001b[38;5;28;01mdef\u001b[39;00m \u001b[38;5;21mpre_forward\u001b[39m(\u001b[38;5;28mself\u001b[39m, module, \u001b[38;5;241m*\u001b[39margs, \u001b[38;5;241m*\u001b[39m\u001b[38;5;241m*\u001b[39mkwargs):\n\u001b[0;32m    689\u001b[0m     \u001b[38;5;28;01mif\u001b[39;00m \u001b[38;5;28mself\u001b[39m\u001b[38;5;241m.\u001b[39mprev_module_hook \u001b[38;5;129;01mis\u001b[39;00m \u001b[38;5;129;01mnot\u001b[39;00m \u001b[38;5;28;01mNone\u001b[39;00m:\n\u001b[1;32m--> 690\u001b[0m         \u001b[38;5;28;43mself\u001b[39;49m\u001b[38;5;241;43m.\u001b[39;49m\u001b[43mprev_module_hook\u001b[49m\u001b[38;5;241;43m.\u001b[39;49m\u001b[43moffload\u001b[49m\u001b[43m(\u001b[49m\u001b[43m)\u001b[49m\n\u001b[0;32m    691\u001b[0m     module\u001b[38;5;241m.\u001b[39mto(\u001b[38;5;28mself\u001b[39m\u001b[38;5;241m.\u001b[39mexecution_device)\n\u001b[0;32m    692\u001b[0m     \u001b[38;5;28;01mreturn\u001b[39;00m send_to_device(args, \u001b[38;5;28mself\u001b[39m\u001b[38;5;241m.\u001b[39mexecution_device), send_to_device(kwargs, \u001b[38;5;28mself\u001b[39m\u001b[38;5;241m.\u001b[39mexecution_device)\n",
      "File \u001b[1;32mc:\\Users\\aaron\\Documents\\git\\controlnet\\.myvenv\\Lib\\site-packages\\accelerate\\hooks.py:706\u001b[0m, in \u001b[0;36mUserCpuOffloadHook.offload\u001b[1;34m(self)\u001b[0m\n\u001b[0;32m    705\u001b[0m \u001b[38;5;28;01mdef\u001b[39;00m \u001b[38;5;21moffload\u001b[39m(\u001b[38;5;28mself\u001b[39m):\n\u001b[1;32m--> 706\u001b[0m     \u001b[38;5;28;43mself\u001b[39;49m\u001b[38;5;241;43m.\u001b[39;49m\u001b[43mhook\u001b[49m\u001b[38;5;241;43m.\u001b[39;49m\u001b[43minit_hook\u001b[49m\u001b[43m(\u001b[49m\u001b[38;5;28;43mself\u001b[39;49m\u001b[38;5;241;43m.\u001b[39;49m\u001b[43mmodel\u001b[49m\u001b[43m)\u001b[49m\n",
      "File \u001b[1;32mc:\\Users\\aaron\\Documents\\git\\controlnet\\.myvenv\\Lib\\site-packages\\accelerate\\hooks.py:686\u001b[0m, in \u001b[0;36mCpuOffload.init_hook\u001b[1;34m(self, module)\u001b[0m\n\u001b[0;32m    685\u001b[0m \u001b[38;5;28;01mdef\u001b[39;00m \u001b[38;5;21minit_hook\u001b[39m(\u001b[38;5;28mself\u001b[39m, module):\n\u001b[1;32m--> 686\u001b[0m     \u001b[38;5;28;01mreturn\u001b[39;00m \u001b[43mmodule\u001b[49m\u001b[38;5;241;43m.\u001b[39;49m\u001b[43mto\u001b[49m\u001b[43m(\u001b[49m\u001b[38;5;124;43m\"\u001b[39;49m\u001b[38;5;124;43mcpu\u001b[39;49m\u001b[38;5;124;43m\"\u001b[39;49m\u001b[43m)\u001b[49m\n",
      "File \u001b[1;32mc:\\Users\\aaron\\Documents\\git\\controlnet\\.myvenv\\Lib\\site-packages\\torch\\nn\\modules\\module.py:1152\u001b[0m, in \u001b[0;36mModule.to\u001b[1;34m(self, *args, **kwargs)\u001b[0m\n\u001b[0;32m   1148\u001b[0m         \u001b[38;5;28;01mreturn\u001b[39;00m t\u001b[38;5;241m.\u001b[39mto(device, dtype \u001b[38;5;28;01mif\u001b[39;00m t\u001b[38;5;241m.\u001b[39mis_floating_point() \u001b[38;5;129;01mor\u001b[39;00m t\u001b[38;5;241m.\u001b[39mis_complex() \u001b[38;5;28;01melse\u001b[39;00m \u001b[38;5;28;01mNone\u001b[39;00m,\n\u001b[0;32m   1149\u001b[0m                     non_blocking, memory_format\u001b[38;5;241m=\u001b[39mconvert_to_format)\n\u001b[0;32m   1150\u001b[0m     \u001b[38;5;28;01mreturn\u001b[39;00m t\u001b[38;5;241m.\u001b[39mto(device, dtype \u001b[38;5;28;01mif\u001b[39;00m t\u001b[38;5;241m.\u001b[39mis_floating_point() \u001b[38;5;129;01mor\u001b[39;00m t\u001b[38;5;241m.\u001b[39mis_complex() \u001b[38;5;28;01melse\u001b[39;00m \u001b[38;5;28;01mNone\u001b[39;00m, non_blocking)\n\u001b[1;32m-> 1152\u001b[0m \u001b[38;5;28;01mreturn\u001b[39;00m \u001b[38;5;28;43mself\u001b[39;49m\u001b[38;5;241;43m.\u001b[39;49m\u001b[43m_apply\u001b[49m\u001b[43m(\u001b[49m\u001b[43mconvert\u001b[49m\u001b[43m)\u001b[49m\n",
      "File \u001b[1;32mc:\\Users\\aaron\\Documents\\git\\controlnet\\.myvenv\\Lib\\site-packages\\torch\\nn\\modules\\module.py:802\u001b[0m, in \u001b[0;36mModule._apply\u001b[1;34m(self, fn, recurse)\u001b[0m\n\u001b[0;32m    800\u001b[0m \u001b[38;5;28;01mif\u001b[39;00m recurse:\n\u001b[0;32m    801\u001b[0m     \u001b[38;5;28;01mfor\u001b[39;00m module \u001b[38;5;129;01min\u001b[39;00m \u001b[38;5;28mself\u001b[39m\u001b[38;5;241m.\u001b[39mchildren():\n\u001b[1;32m--> 802\u001b[0m         \u001b[43mmodule\u001b[49m\u001b[38;5;241;43m.\u001b[39;49m\u001b[43m_apply\u001b[49m\u001b[43m(\u001b[49m\u001b[43mfn\u001b[49m\u001b[43m)\u001b[49m\n\u001b[0;32m    804\u001b[0m \u001b[38;5;28;01mdef\u001b[39;00m \u001b[38;5;21mcompute_should_use_set_data\u001b[39m(tensor, tensor_applied):\n\u001b[0;32m    805\u001b[0m     \u001b[38;5;28;01mif\u001b[39;00m torch\u001b[38;5;241m.\u001b[39m_has_compatible_shallow_copy_type(tensor, tensor_applied):\n\u001b[0;32m    806\u001b[0m         \u001b[38;5;66;03m# If the new tensor has compatible tensor type as the existing tensor,\u001b[39;00m\n\u001b[0;32m    807\u001b[0m         \u001b[38;5;66;03m# the current behavior is to change the tensor in-place using `.data =`,\u001b[39;00m\n\u001b[1;32m   (...)\u001b[0m\n\u001b[0;32m    812\u001b[0m         \u001b[38;5;66;03m# global flag to let the user control whether they want the future\u001b[39;00m\n\u001b[0;32m    813\u001b[0m         \u001b[38;5;66;03m# behavior of overwriting the existing tensor or not.\u001b[39;00m\n",
      "File \u001b[1;32mc:\\Users\\aaron\\Documents\\git\\controlnet\\.myvenv\\Lib\\site-packages\\torch\\nn\\modules\\module.py:802\u001b[0m, in \u001b[0;36mModule._apply\u001b[1;34m(self, fn, recurse)\u001b[0m\n\u001b[0;32m    800\u001b[0m \u001b[38;5;28;01mif\u001b[39;00m recurse:\n\u001b[0;32m    801\u001b[0m     \u001b[38;5;28;01mfor\u001b[39;00m module \u001b[38;5;129;01min\u001b[39;00m \u001b[38;5;28mself\u001b[39m\u001b[38;5;241m.\u001b[39mchildren():\n\u001b[1;32m--> 802\u001b[0m         \u001b[43mmodule\u001b[49m\u001b[38;5;241;43m.\u001b[39;49m\u001b[43m_apply\u001b[49m\u001b[43m(\u001b[49m\u001b[43mfn\u001b[49m\u001b[43m)\u001b[49m\n\u001b[0;32m    804\u001b[0m \u001b[38;5;28;01mdef\u001b[39;00m \u001b[38;5;21mcompute_should_use_set_data\u001b[39m(tensor, tensor_applied):\n\u001b[0;32m    805\u001b[0m     \u001b[38;5;28;01mif\u001b[39;00m torch\u001b[38;5;241m.\u001b[39m_has_compatible_shallow_copy_type(tensor, tensor_applied):\n\u001b[0;32m    806\u001b[0m         \u001b[38;5;66;03m# If the new tensor has compatible tensor type as the existing tensor,\u001b[39;00m\n\u001b[0;32m    807\u001b[0m         \u001b[38;5;66;03m# the current behavior is to change the tensor in-place using `.data =`,\u001b[39;00m\n\u001b[1;32m   (...)\u001b[0m\n\u001b[0;32m    812\u001b[0m         \u001b[38;5;66;03m# global flag to let the user control whether they want the future\u001b[39;00m\n\u001b[0;32m    813\u001b[0m         \u001b[38;5;66;03m# behavior of overwriting the existing tensor or not.\u001b[39;00m\n",
      "    \u001b[1;31m[... skipping similar frames: Module._apply at line 802 (2 times)]\u001b[0m\n",
      "File \u001b[1;32mc:\\Users\\aaron\\Documents\\git\\controlnet\\.myvenv\\Lib\\site-packages\\torch\\nn\\modules\\module.py:802\u001b[0m, in \u001b[0;36mModule._apply\u001b[1;34m(self, fn, recurse)\u001b[0m\n\u001b[0;32m    800\u001b[0m \u001b[38;5;28;01mif\u001b[39;00m recurse:\n\u001b[0;32m    801\u001b[0m     \u001b[38;5;28;01mfor\u001b[39;00m module \u001b[38;5;129;01min\u001b[39;00m \u001b[38;5;28mself\u001b[39m\u001b[38;5;241m.\u001b[39mchildren():\n\u001b[1;32m--> 802\u001b[0m         \u001b[43mmodule\u001b[49m\u001b[38;5;241;43m.\u001b[39;49m\u001b[43m_apply\u001b[49m\u001b[43m(\u001b[49m\u001b[43mfn\u001b[49m\u001b[43m)\u001b[49m\n\u001b[0;32m    804\u001b[0m \u001b[38;5;28;01mdef\u001b[39;00m \u001b[38;5;21mcompute_should_use_set_data\u001b[39m(tensor, tensor_applied):\n\u001b[0;32m    805\u001b[0m     \u001b[38;5;28;01mif\u001b[39;00m torch\u001b[38;5;241m.\u001b[39m_has_compatible_shallow_copy_type(tensor, tensor_applied):\n\u001b[0;32m    806\u001b[0m         \u001b[38;5;66;03m# If the new tensor has compatible tensor type as the existing tensor,\u001b[39;00m\n\u001b[0;32m    807\u001b[0m         \u001b[38;5;66;03m# the current behavior is to change the tensor in-place using `.data =`,\u001b[39;00m\n\u001b[1;32m   (...)\u001b[0m\n\u001b[0;32m    812\u001b[0m         \u001b[38;5;66;03m# global flag to let the user control whether they want the future\u001b[39;00m\n\u001b[0;32m    813\u001b[0m         \u001b[38;5;66;03m# behavior of overwriting the existing tensor or not.\u001b[39;00m\n",
      "File \u001b[1;32mc:\\Users\\aaron\\Documents\\git\\controlnet\\.myvenv\\Lib\\site-packages\\torch\\nn\\modules\\module.py:825\u001b[0m, in \u001b[0;36mModule._apply\u001b[1;34m(self, fn, recurse)\u001b[0m\n\u001b[0;32m    821\u001b[0m \u001b[38;5;66;03m# Tensors stored in modules are graph leaves, and we don't want to\u001b[39;00m\n\u001b[0;32m    822\u001b[0m \u001b[38;5;66;03m# track autograd history of `param_applied`, so we have to use\u001b[39;00m\n\u001b[0;32m    823\u001b[0m \u001b[38;5;66;03m# `with torch.no_grad():`\u001b[39;00m\n\u001b[0;32m    824\u001b[0m \u001b[38;5;28;01mwith\u001b[39;00m torch\u001b[38;5;241m.\u001b[39mno_grad():\n\u001b[1;32m--> 825\u001b[0m     param_applied \u001b[38;5;241m=\u001b[39m \u001b[43mfn\u001b[49m\u001b[43m(\u001b[49m\u001b[43mparam\u001b[49m\u001b[43m)\u001b[49m\n\u001b[0;32m    826\u001b[0m should_use_set_data \u001b[38;5;241m=\u001b[39m compute_should_use_set_data(param, param_applied)\n\u001b[0;32m    827\u001b[0m \u001b[38;5;28;01mif\u001b[39;00m should_use_set_data:\n",
      "File \u001b[1;32mc:\\Users\\aaron\\Documents\\git\\controlnet\\.myvenv\\Lib\\site-packages\\torch\\nn\\modules\\module.py:1150\u001b[0m, in \u001b[0;36mModule.to.<locals>.convert\u001b[1;34m(t)\u001b[0m\n\u001b[0;32m   1147\u001b[0m \u001b[38;5;28;01mif\u001b[39;00m convert_to_format \u001b[38;5;129;01mis\u001b[39;00m \u001b[38;5;129;01mnot\u001b[39;00m \u001b[38;5;28;01mNone\u001b[39;00m \u001b[38;5;129;01mand\u001b[39;00m t\u001b[38;5;241m.\u001b[39mdim() \u001b[38;5;129;01min\u001b[39;00m (\u001b[38;5;241m4\u001b[39m, \u001b[38;5;241m5\u001b[39m):\n\u001b[0;32m   1148\u001b[0m     \u001b[38;5;28;01mreturn\u001b[39;00m t\u001b[38;5;241m.\u001b[39mto(device, dtype \u001b[38;5;28;01mif\u001b[39;00m t\u001b[38;5;241m.\u001b[39mis_floating_point() \u001b[38;5;129;01mor\u001b[39;00m t\u001b[38;5;241m.\u001b[39mis_complex() \u001b[38;5;28;01melse\u001b[39;00m \u001b[38;5;28;01mNone\u001b[39;00m,\n\u001b[0;32m   1149\u001b[0m                 non_blocking, memory_format\u001b[38;5;241m=\u001b[39mconvert_to_format)\n\u001b[1;32m-> 1150\u001b[0m \u001b[38;5;28;01mreturn\u001b[39;00m \u001b[43mt\u001b[49m\u001b[38;5;241;43m.\u001b[39;49m\u001b[43mto\u001b[49m\u001b[43m(\u001b[49m\u001b[43mdevice\u001b[49m\u001b[43m,\u001b[49m\u001b[43m \u001b[49m\u001b[43mdtype\u001b[49m\u001b[43m \u001b[49m\u001b[38;5;28;43;01mif\u001b[39;49;00m\u001b[43m \u001b[49m\u001b[43mt\u001b[49m\u001b[38;5;241;43m.\u001b[39;49m\u001b[43mis_floating_point\u001b[49m\u001b[43m(\u001b[49m\u001b[43m)\u001b[49m\u001b[43m \u001b[49m\u001b[38;5;129;43;01mor\u001b[39;49;00m\u001b[43m \u001b[49m\u001b[43mt\u001b[49m\u001b[38;5;241;43m.\u001b[39;49m\u001b[43mis_complex\u001b[49m\u001b[43m(\u001b[49m\u001b[43m)\u001b[49m\u001b[43m \u001b[49m\u001b[38;5;28;43;01melse\u001b[39;49;00m\u001b[43m \u001b[49m\u001b[38;5;28;43;01mNone\u001b[39;49;00m\u001b[43m,\u001b[49m\u001b[43m \u001b[49m\u001b[43mnon_blocking\u001b[49m\u001b[43m)\u001b[49m\n",
      "\u001b[1;31mKeyboardInterrupt\u001b[0m: "
     ]
    }
   ],
   "source": [
    "generate_images(\"lllyasviel/control_v11p_sd15_scribble\", \"stablediffusionapi/realistic-vision-v20-2047\", prompt_human=1, infer_steps=15)"
   ]
  }
 ],
 "metadata": {
  "kernelspec": {
   "display_name": ".myvenv",
   "language": "python",
   "name": "python3"
  },
  "language_info": {
   "codemirror_mode": {
    "name": "ipython",
    "version": 3
   },
   "file_extension": ".py",
   "mimetype": "text/x-python",
   "name": "python",
   "nbconvert_exporter": "python",
   "pygments_lexer": "ipython3",
   "version": "3.11.8"
  }
 },
 "nbformat": 4,
 "nbformat_minor": 2
}
