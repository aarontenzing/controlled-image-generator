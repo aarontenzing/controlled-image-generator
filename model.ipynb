{
 "cells": [
  {
   "cell_type": "code",
   "execution_count": 13,
   "metadata": {},
   "outputs": [],
   "source": [
    "import torch\n",
    "from diffusers import StableDiffusionControlNetPipeline, ControlNetModel\n",
    "from diffusers import EulerDiscreteScheduler # Import samplers\n",
    "from diffusers import DPMSolverMultistepScheduler # Import samplers\n",
    "from diffusers.utils import load_image\n",
    "from tqdm import tqdm\n",
    "# Prompt generation\n",
    "from prompt import prompt_generator, prompt_generator_no_human"
   ]
  },
  {
   "cell_type": "markdown",
   "metadata": {},
   "source": [
    "Samplers (schedulers): https://huggingface.co/docs/diffusers/api/schedulers/overview"
   ]
  },
  {
   "cell_type": "code",
   "execution_count": 2,
   "metadata": {},
   "outputs": [
    {
     "name": "stdout",
     "output_type": "stream",
     "text": [
      "Torch version: 2.2.2+cu121\n",
      "Is CUDA enabled? True\n"
     ]
    }
   ],
   "source": [
    "print(\"Torch version:\",torch.__version__)\n",
    "print(\"Is CUDA enabled?\",torch.cuda.is_available())"
   ]
  },
  {
   "cell_type": "markdown",
   "metadata": {},
   "source": [
    "https://thepythoncode.com/article/control-generated-images-with-controlnet-with-huggingface#code"
   ]
  },
  {
   "cell_type": "markdown",
   "metadata": {},
   "source": [
    "# First Pipeline: ControlNet + Stable Diffusion "
   ]
  },
  {
   "cell_type": "code",
   "execution_count": 8,
   "metadata": {},
   "outputs": [
    {
     "name": "stderr",
     "output_type": "stream",
     "text": [
      "unet\\diffusion_pytorch_model.safetensors not found\n",
      "Loading pipeline components...: 100%|██████████| 6/6 [00:11<00:00,  1.97s/it]\n",
      "You have disabled the safety checker for <class 'diffusers.pipelines.controlnet.pipeline_controlnet.StableDiffusionControlNetPipeline'> by passing `safety_checker=None`. Ensure that you abide to the conditions of the Stable Diffusion license and do not expose unfiltered results in services or applications open to the public. Both the diffusers team and Hugging Face strongly recommend to keep the safety filter enabled in all public facing circumstances, disabling it only for use-cases that involve analyzing network behavior or auditing its results. For more information, please have a look at https://github.com/huggingface/diffusers/pull/254 .\n"
     ]
    }
   ],
   "source": [
    "# ControlNet model\n",
    "controlnet = ControlNetModel.from_pretrained(\"lllyasviel/control_v11p_sd15_scribble\", torch_dtype=torch.float16)\n",
    "\n",
    "# Define stable diffusion pipeline with controlnet\n",
    "# We use the realistic-vision-v20-2047 model for this example (finetunned on realistic images of people)\n",
    "pipe = StableDiffusionControlNetPipeline.from_pretrained(\"stablediffusionapi/realistic-vision-v20-2047\", controlnet=controlnet, safety_checker=None, torch_dtype=torch.float16)\n",
    "pipe.scheduler = EulerDiscreteScheduler.from_config(pipe.scheduler.config)\n",
    "\n",
    "# Enable efficient implementations using xformers for faster inference\n",
    "pipe.enable_xformers_memory_efficient_attention()\n",
    "pipe.enable_model_cpu_offload()"
   ]
  },
  {
   "cell_type": "code",
   "execution_count": 22,
   "metadata": {},
   "outputs": [
    {
     "name": "stdout",
     "output_type": "stream",
     "text": [
      "Prompt: A medium shot view of a colorful cardboard box with red tape from the Bol.com webshop, in front of a quite neighborhood street and cars background, the weather is sunny, high photorealistic quality.\n"
     ]
    },
    {
     "name": "stderr",
     "output_type": "stream",
     "text": [
      "100%|██████████| 30/30 [00:15<00:00,  1.94it/s]\n"
     ]
    },
    {
     "name": "stdout",
     "output_type": "stream",
     "text": [
      "Save test.jpg!\n"
     ]
    }
   ],
   "source": [
    "# Load wireframe image\n",
    "image_input = load_image(\"wireframes_set1\\\\img3_4.jpg\")\n",
    "\n",
    "# Prompt\n",
    "prompt = prompt_generator_no_human()\n",
    "print(\"Prompt:\",prompt)\n",
    "neg_prompt = \"multiple boxes in the background, cardboard, a person in the foreground, not realistic\"\n",
    "# Run the pipeline\n",
    "image_output = pipe(prompt=prompt, negative_prompt=neg_prompt, image=image_input, num_inference_steps=30).images[0]\n",
    "\n",
    "# Save the output\n",
    "image_output.save(\"test.jpg\")\n",
    "print(\"Save test.jpg!\")"
   ]
  },
  {
   "cell_type": "code",
   "execution_count": 23,
   "metadata": {},
   "outputs": [
    {
     "name": "stdout",
     "output_type": "stream",
     "text": [
      "A mid shot view of an angry man holding a white cardboard box with red tape from the Adidas webshop in his hands, standing in front of a garbage curb background, the weather is cloudy, high photorealistic quality.\n"
     ]
    }
   ],
   "source": [
    "prompt = prompt_generator()\n",
    "print(prompt)"
   ]
  },
  {
   "cell_type": "markdown",
   "metadata": {},
   "source": [
    "# Generating first synthetic dataset"
   ]
  },
  {
   "cell_type": "markdown",
   "metadata": {},
   "source": [
    "wireframes_set1 are wireframes drawn on the bottom half region of the window, so they can easily be held  by persons.\n",
    "Next, we will generate synthetic images of those wireframes in the directory output_set1.\n",
    "- I generate random prompts\n",
    "- Next I will validate them\n",
    "- Finally, I will only keep the images with a single box in the image"
   ]
  },
  {
   "cell_type": "markdown",
   "metadata": {},
   "source": [
    "ControlNet model: lllyasviel/control_v11p_sd15_scribble\"\n",
    "Stable diffusion model: stablediffusionapi/realistic-vision-v20-2047"
   ]
  },
  {
   "cell_type": "code",
   "execution_count": 26,
   "metadata": {},
   "outputs": [],
   "source": [
    "import glob\n",
    "import os\n",
    "from prompt import prompt_generator\n",
    "\n",
    "def generate_images(directory_path, output_directory_path, controlnet_model_path, sd_model_path, prompt_human):\n",
    "    \n",
    "    directory_path = directory_path\n",
    "    output_directory_path = output_directory_path\n",
    "    \n",
    "    # ControlNet model\n",
    "    controlnet = ControlNetModel.from_pretrained(controlnet_model_path, torch_dtype=torch.float16)\n",
    "\n",
    "    # Define stable diffusion pipeline with controlnet\n",
    "    # We use the realistic-vision-v20-2047 model for this example (finetunned on realistic images of people)\n",
    "    pipe = StableDiffusionControlNetPipeline.from_pretrained(sd_model_path, controlnet=controlnet, safety_checker=None, torch_dtype=torch.float16)\n",
    "    pipe.scheduler = EulerDiscreteScheduler.from_config(pipe.scheduler.config)\n",
    "\n",
    "    # Enable efficient implementations using xformers for faster inference\n",
    "    pipe.enable_xformers_memory_efficient_attention()\n",
    "    pipe.enable_model_cpu_offload()\n",
    "    \n",
    "\n",
    "    for file in tqdm(glob.glob(os.path.join(directory_path, '*.jpg'))):\n",
    "        image_input = load_image(file)\n",
    "        prompt = prompt_generator_no_human() if prompt_human == 0 else prompt_generator()\n",
    "        print(prompt)\n",
    "        image_output = pipe(prompt, image_input, num_inference_steps=30).images[0]\n",
    "        image_output.save(os.path.join(output_directory_path, os.path.basename(file)[3:]))"
   ]
  },
  {
   "cell_type": "code",
   "execution_count": 27,
   "metadata": {},
   "outputs": [
    {
     "name": "stderr",
     "output_type": "stream",
     "text": [
      "unet\\diffusion_pytorch_model.safetensors not found\n",
      "Loading pipeline components...:  33%|███▎      | 2/6 [00:04<00:08,  2.24s/it]c:\\Users\\aaron\\Documents\\git\\controlnet\\.myvenv\\Lib\\site-packages\\transformers\\models\\clip\\feature_extraction_clip.py:28: FutureWarning: The class CLIPFeatureExtractor is deprecated and will be removed in version 5 of Transformers. Please use CLIPImageProcessor instead.\n",
      "  warnings.warn(\n",
      "Loading pipeline components...: 100%|██████████| 6/6 [00:13<00:00,  2.30s/it]\n",
      "You have disabled the safety checker for <class 'diffusers.pipelines.controlnet.pipeline_controlnet.StableDiffusionControlNetPipeline'> by passing `safety_checker=None`. Ensure that you abide to the conditions of the Stable Diffusion license and do not expose unfiltered results in services or applications open to the public. Both the diffusers team and Hugging Face strongly recommend to keep the safety filter enabled in all public facing circumstances, disabling it only for use-cases that involve analyzing network behavior or auditing its results. For more information, please have a look at https://github.com/huggingface/diffusers/pull/254 .\n",
      "  0%|          | 0/25 [00:00<?, ?it/s]"
     ]
    },
    {
     "name": "stdout",
     "output_type": "stream",
     "text": [
      "A close-up view of a brown cardboard box with green tape from the H&M webshop, in front of a quite neighborhood street and garden background, the weather is rainy, high photorealistic quality.\n"
     ]
    },
    {
     "name": "stderr",
     "output_type": "stream",
     "text": [
      "100%|██████████| 30/30 [00:16<00:00,  1.84it/s]\n",
      "  4%|▍         | 1/25 [00:20<08:06, 20.26s/it]"
     ]
    },
    {
     "name": "stdout",
     "output_type": "stream",
     "text": [
      "A close-up view of a colorful cardboard box with black tape from the Amazon webshop, in front of a garbage curb background, the weather is snowy, high photorealistic quality.\n"
     ]
    },
    {
     "name": "stderr",
     "output_type": "stream",
     "text": [
      "100%|██████████| 30/30 [00:16<00:00,  1.83it/s]\n",
      "  8%|▊         | 2/25 [00:39<07:27, 19.47s/it]"
     ]
    },
    {
     "name": "stdout",
     "output_type": "stream",
     "text": [
      "A low angle view of a white cardboard box with a barcode from the Nike webshop, in front of a in the street background, the weather is snowy, high photorealistic quality.\n"
     ]
    },
    {
     "name": "stderr",
     "output_type": "stream",
     "text": [
      "100%|██████████| 30/30 [00:16<00:00,  1.77it/s]\n",
      " 12%|█▏        | 3/25 [00:58<07:07, 19.42s/it]"
     ]
    },
    {
     "name": "stdout",
     "output_type": "stream",
     "text": [
      "A close-up view of a white cardboard box with a barcode from the Amazon webshop, in front of a garbage curb background, the weather is cloudy, high photorealistic quality.\n"
     ]
    },
    {
     "name": "stderr",
     "output_type": "stream",
     "text": [
      "100%|██████████| 30/30 [00:15<00:00,  1.94it/s]\n",
      " 16%|█▌        | 4/25 [01:16<06:33, 18.74s/it]"
     ]
    },
    {
     "name": "stdout",
     "output_type": "stream",
     "text": [
      "A high angle view of a brown cardboard box with red tape from the Amazon webshop, in front of a quite neighborhood street and cars background, the weather is sunny, high photorealistic quality.\n"
     ]
    },
    {
     "name": "stderr",
     "output_type": "stream",
     "text": [
      "100%|██████████| 30/30 [00:15<00:00,  1.93it/s]\n",
      " 20%|██        | 5/25 [01:34<06:08, 18.42s/it]"
     ]
    },
    {
     "name": "stdout",
     "output_type": "stream",
     "text": [
      "A high angle view of a black cardboard box with blue tape from the Coolblue webshop, in front of a quite neighborhood street and trees background, the weather is rainy, high photorealistic quality.\n"
     ]
    },
    {
     "name": "stderr",
     "output_type": "stream",
     "text": [
      "100%|██████████| 30/30 [00:15<00:00,  1.94it/s]\n",
      " 24%|██▍       | 6/25 [01:51<05:45, 18.20s/it]"
     ]
    },
    {
     "name": "stdout",
     "output_type": "stream",
     "text": [
      "A close-up view of a black cardboard box with a barcode from the H&M webshop, in front of a city center background, the weather is cloudy, high photorealistic quality.\n"
     ]
    },
    {
     "name": "stderr",
     "output_type": "stream",
     "text": [
      "100%|██████████| 30/30 [00:15<00:00,  1.93it/s]\n",
      " 28%|██▊       | 7/25 [02:09<05:25, 18.06s/it]"
     ]
    },
    {
     "name": "stdout",
     "output_type": "stream",
     "text": [
      "A close-up view of a black cardboard box with a number from the Bol.com webshop, in front of a busy city street and cars background, the weather is snowy, high photorealistic quality.\n"
     ]
    },
    {
     "name": "stderr",
     "output_type": "stream",
     "text": [
      "100%|██████████| 30/30 [00:15<00:00,  1.94it/s]\n",
      " 32%|███▏      | 8/25 [02:27<05:05, 17.96s/it]"
     ]
    },
    {
     "name": "stdout",
     "output_type": "stream",
     "text": [
      "A full shot view of a white cardboard box with a number from the Zalando webshop, in front of a in the street background, the weather is rainy, high photorealistic quality.\n"
     ]
    },
    {
     "name": "stderr",
     "output_type": "stream",
     "text": [
      "100%|██████████| 30/30 [00:15<00:00,  1.93it/s]\n",
      " 36%|███▌      | 9/25 [02:45<04:46, 17.90s/it]"
     ]
    },
    {
     "name": "stdout",
     "output_type": "stream",
     "text": [
      "A close-up view of a brown cardboard box with red tape from the Nike webshop, in front of a busy city street and people background, the weather is rainy, high photorealistic quality.\n"
     ]
    },
    {
     "name": "stderr",
     "output_type": "stream",
     "text": [
      "100%|██████████| 30/30 [00:15<00:00,  1.94it/s]\n",
      " 40%|████      | 10/25 [03:02<04:27, 17.86s/it]"
     ]
    },
    {
     "name": "stdout",
     "output_type": "stream",
     "text": [
      "A close-up view of a white cardboard box with a barcode from the Zara webshop, in front of a in the street background, the weather is snowy, high photorealistic quality.\n"
     ]
    },
    {
     "name": "stderr",
     "output_type": "stream",
     "text": [
      "100%|██████████| 30/30 [00:15<00:00,  1.93it/s]\n",
      " 44%|████▍     | 11/25 [03:20<04:09, 17.84s/it]"
     ]
    },
    {
     "name": "stdout",
     "output_type": "stream",
     "text": [
      "A long shot view of a white cardboard box with blue tape from the Zara webshop, in front of a city center background, the weather is cloudy, high photorealistic quality.\n"
     ]
    },
    {
     "name": "stderr",
     "output_type": "stream",
     "text": [
      "100%|██████████| 30/30 [00:15<00:00,  1.93it/s]\n",
      " 48%|████▊     | 12/25 [03:38<03:51, 17.82s/it]"
     ]
    },
    {
     "name": "stdout",
     "output_type": "stream",
     "text": [
      "A long shot view of a black cardboard box with a number from the Nike webshop, in front of a city center background, the weather is snowy, high photorealistic quality.\n"
     ]
    },
    {
     "name": "stderr",
     "output_type": "stream",
     "text": [
      "100%|██████████| 30/30 [00:16<00:00,  1.86it/s]\n",
      " 52%|█████▏    | 13/25 [03:57<03:36, 18.07s/it]"
     ]
    },
    {
     "name": "stdout",
     "output_type": "stream",
     "text": [
      "A long shot view of a white cardboard box with a qr code from the Coolblue webshop, in front of a busy city street and people background, the weather is cloudy, high photorealistic quality.\n"
     ]
    },
    {
     "name": "stderr",
     "output_type": "stream",
     "text": [
      "100%|██████████| 30/30 [00:15<00:00,  1.90it/s]\n",
      " 56%|█████▌    | 14/25 [04:15<03:19, 18.09s/it]"
     ]
    },
    {
     "name": "stdout",
     "output_type": "stream",
     "text": [
      "A long shot view of a black cardboard box with blue tape from the Bol.com webshop, in front of a quite neighborhood street and cars background, the weather is snowy, high photorealistic quality.\n"
     ]
    },
    {
     "name": "stderr",
     "output_type": "stream",
     "text": [
      "100%|██████████| 30/30 [00:14<00:00,  2.05it/s]\n",
      " 60%|██████    | 15/25 [04:32<02:56, 17.68s/it]"
     ]
    },
    {
     "name": "stdout",
     "output_type": "stream",
     "text": [
      "A low angle view of a colorful cardboard box with a number from the Coolblue webshop, in front of a garbage curb background, the weather is sunny, high photorealistic quality.\n"
     ]
    },
    {
     "name": "stderr",
     "output_type": "stream",
     "text": [
      "100%|██████████| 30/30 [00:14<00:00,  2.10it/s]\n",
      " 64%|██████▍   | 16/25 [04:48<02:37, 17.45s/it]"
     ]
    },
    {
     "name": "stdout",
     "output_type": "stream",
     "text": [
      "A high angle view of a brown cardboard box with red tape from a webshop, in front of a busy city street and people background, the weather is snowy, high photorealistic quality.\n"
     ]
    },
    {
     "name": "stderr",
     "output_type": "stream",
     "text": [
      "100%|██████████| 30/30 [00:15<00:00,  1.93it/s]\n",
      " 68%|██████▊   | 17/25 [05:07<02:21, 17.68s/it]"
     ]
    },
    {
     "name": "stdout",
     "output_type": "stream",
     "text": [
      "A high angle view of a white cardboard box with red tape from a webshop, in front of a quite neighborhood street and cars background, the weather is sunny, high photorealistic quality.\n"
     ]
    },
    {
     "name": "stderr",
     "output_type": "stream",
     "text": [
      "100%|██████████| 30/30 [00:16<00:00,  1.86it/s]\n",
      " 72%|███████▏  | 18/25 [05:25<02:05, 17.99s/it]"
     ]
    },
    {
     "name": "stdout",
     "output_type": "stream",
     "text": [
      "A close-up view of a colorful cardboard box with blue tape from a webshop, in front of a busy city street and people background, the weather is cloudy, high photorealistic quality.\n"
     ]
    },
    {
     "name": "stderr",
     "output_type": "stream",
     "text": [
      "100%|██████████| 30/30 [00:16<00:00,  1.84it/s]\n",
      " 76%|███████▌  | 19/25 [05:44<01:49, 18.27s/it]"
     ]
    },
    {
     "name": "stdout",
     "output_type": "stream",
     "text": [
      "A medium shot view of a brown cardboard box with blue tape from the H&M webshop, in front of a garbage curb background, the weather is rainy, high photorealistic quality.\n"
     ]
    },
    {
     "name": "stderr",
     "output_type": "stream",
     "text": [
      "100%|██████████| 30/30 [00:16<00:00,  1.85it/s]\n",
      " 80%|████████  | 20/25 [06:03<01:32, 18.45s/it]"
     ]
    },
    {
     "name": "stdout",
     "output_type": "stream",
     "text": [
      "A full shot view of a brown cardboard box with red tape from the Zara webshop, in front of a quite neighborhood street and garden background, the weather is cloudy, high photorealistic quality.\n"
     ]
    },
    {
     "name": "stderr",
     "output_type": "stream",
     "text": [
      "100%|██████████| 30/30 [00:16<00:00,  1.83it/s]\n",
      " 84%|████████▍ | 21/25 [06:22<01:14, 18.59s/it]"
     ]
    },
    {
     "name": "stdout",
     "output_type": "stream",
     "text": [
      "A high angle view of a colorful cardboard box with yellow tape from the Zara webshop, in front of a garbage curb background, the weather is sunny, high photorealistic quality.\n"
     ]
    },
    {
     "name": "stderr",
     "output_type": "stream",
     "text": [
      "100%|██████████| 30/30 [00:15<00:00,  1.88it/s]\n",
      " 88%|████████▊ | 22/25 [06:41<00:55, 18.59s/it]"
     ]
    },
    {
     "name": "stdout",
     "output_type": "stream",
     "text": [
      "A high angle view of a brown cardboard box with green tape from the Zalando webshop, in front of a garbage curb background, the weather is sunny, high photorealistic quality.\n"
     ]
    },
    {
     "name": "stderr",
     "output_type": "stream",
     "text": [
      "100%|██████████| 30/30 [00:16<00:00,  1.86it/s]\n",
      " 92%|█████████▏| 23/25 [06:59<00:37, 18.61s/it]"
     ]
    },
    {
     "name": "stdout",
     "output_type": "stream",
     "text": [
      "A medium shot view of a brown cardboard box with a barcode from the Coolblue webshop, in front of a garbage curb background, the weather is snowy, high photorealistic quality.\n"
     ]
    },
    {
     "name": "stderr",
     "output_type": "stream",
     "text": []
    }
   ],
   "source": [
    "generate_images(\"wireframes_set1\", \"output_set1\", \"lllyasviel/control_v11p_sd15_scribble\", \"stablediffusionapi/realistic-vision-v20-2047\", 1)"
   ]
  }
 ],
 "metadata": {
  "kernelspec": {
   "display_name": ".myvenv",
   "language": "python",
   "name": "python3"
  },
  "language_info": {
   "codemirror_mode": {
    "name": "ipython",
    "version": 3
   },
   "file_extension": ".py",
   "mimetype": "text/x-python",
   "name": "python",
   "nbconvert_exporter": "python",
   "pygments_lexer": "ipython3",
   "version": "3.11.8"
  }
 },
 "nbformat": 4,
 "nbformat_minor": 2
}
