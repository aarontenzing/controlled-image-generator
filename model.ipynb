{
 "cells": [
  {
   "cell_type": "code",
   "execution_count": 1,
   "metadata": {},
   "outputs": [
    {
     "name": "stderr",
     "output_type": "stream",
     "text": [
      "c:\\Users\\aaron\\Documents\\git\\controlnet\\.myvenv\\Lib\\site-packages\\tqdm\\auto.py:21: TqdmWarning: IProgress not found. Please update jupyter and ipywidgets. See https://ipywidgets.readthedocs.io/en/stable/user_install.html\n",
      "  from .autonotebook import tqdm as notebook_tqdm\n"
     ]
    }
   ],
   "source": [
    "import torch\n",
    "from diffusers import StableDiffusionControlNetPipeline, ControlNetModel\n",
    "from diffusers import EulerDiscreteScheduler, EulerAncestralDiscreteScheduler # Euler Discrete Scheduler, Euler A\n",
    "from diffusers import DPMSolverMultistepScheduler # DPM++ 2M Karras\n",
    "from diffusers import DDIMScheduler # DDIM sampler\n",
    "from diffusers.utils import load_image\n",
    "from tqdm import tqdm\n",
    "from prompt import prompt_generator, prompt_generator_no_human # Prompt generation\n",
    "import glob\n",
    "import os"
   ]
  },
  {
   "cell_type": "markdown",
   "metadata": {},
   "source": [
    "Samplers (schedulers): https://huggingface.co/docs/diffusers/api/schedulers/overview"
   ]
  },
  {
   "cell_type": "code",
   "execution_count": 2,
   "metadata": {},
   "outputs": [
    {
     "name": "stdout",
     "output_type": "stream",
     "text": [
      "Torch version: 2.2.2+cu121\n",
      "Is CUDA enabled? True\n"
     ]
    }
   ],
   "source": [
    "print(\"Torch version:\",torch.__version__)\n",
    "print(\"Is CUDA enabled?\",torch.cuda.is_available())"
   ]
  },
  {
   "cell_type": "markdown",
   "metadata": {},
   "source": [
    "https://thepythoncode.com/article/control-generated-images-with-controlnet-with-huggingface#code"
   ]
  },
  {
   "cell_type": "markdown",
   "metadata": {},
   "source": [
    "# First Pipeline: ControlNet + Stable Diffusion "
   ]
  },
  {
   "cell_type": "code",
   "execution_count": 15,
   "metadata": {},
   "outputs": [
    {
     "name": "stderr",
     "output_type": "stream",
     "text": [
      "unet\\diffusion_pytorch_model.safetensors not found\n",
      "Loading pipeline components...: 100%|██████████| 6/6 [00:10<00:00,  1.82s/it]\n",
      "You have disabled the safety checker for <class 'diffusers.pipelines.controlnet.pipeline_controlnet.StableDiffusionControlNetPipeline'> by passing `safety_checker=None`. Ensure that you abide to the conditions of the Stable Diffusion license and do not expose unfiltered results in services or applications open to the public. Both the diffusers team and Hugging Face strongly recommend to keep the safety filter enabled in all public facing circumstances, disabling it only for use-cases that involve analyzing network behavior or auditing its results. For more information, please have a look at https://github.com/huggingface/diffusers/pull/254 .\n"
     ]
    }
   ],
   "source": [
    "# ControlNet model\n",
    "controlnet = ControlNetModel.from_pretrained(\"lllyasviel/control_v11p_sd15_scribble\", torch_dtype=torch.float16)\n",
    "\n",
    "# Define stable diffusion pipeline with controlnet\n",
    "# We use the realistic-vision-v20-2047 model for this example (finetunned on realistic images of people)\n",
    "pipe = StableDiffusionControlNetPipeline.from_pretrained(\"stablediffusionapi/realistic-vision-v20-2047\", controlnet=controlnet, safety_checker=None, torch_dtype=torch.float16)\n",
    "DPM = DPMSolverMultistepScheduler(use_karras_sigmas=True)\n",
    "pipe.scheduler = DPM.from_config(pipe.scheduler.config)\n",
    "\n",
    "# Enable efficient implementations using xformers for faster inference\n",
    "pipe.enable_xformers_memory_efficient_attention()\n",
    "pipe.enable_model_cpu_offload()"
   ]
  },
  {
   "cell_type": "code",
   "execution_count": 26,
   "metadata": {},
   "outputs": [
    {
     "name": "stdout",
     "output_type": "stream",
     "text": [
      "Prompt: A medium shot view of an old man holding a brown cardboard box with black tape from the Zara webshop in his hands, standing in front of a quite neighborhood street and cars background, the weather is rainy, high photorealistic quality.\n"
     ]
    },
    {
     "name": "stderr",
     "output_type": "stream",
     "text": [
      "100%|██████████| 18/18 [00:09<00:00,  1.97it/s]\n"
     ]
    },
    {
     "name": "stdout",
     "output_type": "stream",
     "text": [
      "Save test.jpg!\n"
     ]
    }
   ],
   "source": [
    "# Load wireframe image\n",
    "image_input = load_image(\"wireframes\\\\3_4.jpg\")\n",
    "\n",
    "# Prompt\n",
    "prompt = prompt_generator()\n",
    "print(\"Prompt:\",prompt)\n",
    "neg_prompt = \"disfigured, not realistic, low quality\"\n",
    "# Run the pipeline\n",
    "image_output = pipe(prompt=prompt, negative_prompt=neg_prompt, image=image_input, num_inference_steps=18).images[0]\n",
    "\n",
    "# Save the output\n",
    "image_output.save(\"test.jpg\")\n",
    "print(\"Save test.jpg!\")"
   ]
  },
  {
   "cell_type": "markdown",
   "metadata": {},
   "source": [
    "# Generating first synthetic dataset"
   ]
  },
  {
   "cell_type": "markdown",
   "metadata": {},
   "source": [
    "**Wireframes** are drawn in the bottom half region of the window, so they can easily be held by a person.\n",
    "Next, we will generate our synthetic data containing those wireframes, located in the directory **outputs**.\n",
    "- I generate random prompts\n",
    "- Then, I will validate them\n",
    "- Finally, I will only keep the images with a single box in the image (classifier)"
   ]
  },
  {
   "cell_type": "markdown",
   "metadata": {},
   "source": [
    "*ControlNet model*: lllyasviel/control_v11p_sd15_scribble\"\n",
    "\n",
    "*Stable diffusion model*: stablediffusionapi/realistic-vision-v20-2047"
   ]
  },
  {
   "cell_type": "code",
   "execution_count": 3,
   "metadata": {},
   "outputs": [],
   "source": [
    "def generate_images(controlnet_model_path, sd_model_path, prompt_human, infer_steps):\n",
    "    \n",
    "    ''' Main function to generate images from wireframes '''   \n",
    "    \n",
    "    # ControlNet model\n",
    "    controlnet = ControlNetModel.from_pretrained(controlnet_model_path, torch_dtype=torch.float16)\n",
    "\n",
    "    # Define stable diffusion pipeline with controlnet\n",
    "    pipe = StableDiffusionControlNetPipeline.from_pretrained(sd_model_path, controlnet=controlnet, safety_checker=None, torch_dtype=torch.float16)\n",
    "    \n",
    "    # Define the scheduler for the pipeline\n",
    "    # DPM = DPMSolverMultistepScheduler(use_karras_sigmas=True) # DPM++ 2M Karras\n",
    "    pipe.scheduler = EulerAncestralDiscreteScheduler.from_config(pipe.scheduler.config)\n",
    "\n",
    "    # Enable efficient implementations using xformers for faster inference\n",
    "    pipe.enable_xformers_memory_efficient_attention()\n",
    "    pipe.enable_model_cpu_offload()\n",
    "    \n",
    "    # Read the files in the directory\n",
    "    files = os.listdir(\"wireframes\")\n",
    "    sorted_files = sorted(files, key=lambda x: (int(x.split('_')[0]), int(x.split('_')[1].split('.')[0]))) \n",
    "\n",
    "    # Generate images from wireframes\n",
    "    for file in tqdm(sorted_files):\n",
    "        image_input = load_image(\"wireframes\\\\\" + file)\n",
    "        prompt = prompt_generator_no_human() if prompt_human == 0 else prompt_generator()\n",
    "        print(prompt)\n",
    "        image_output = pipe(prompt=prompt, negative_prompt=\"flat background, disfigured, unrealistic, low quality\", image=image_input, num_inference_steps = infer_steps).images[0]\n",
    "        image_output.save(os.path.join(\"outputs\\\\\", os.path.basename(file)))\n",
    "        os.remove(\"wireframes\\\\\" + file)\n",
    "        "
   ]
  },
  {
   "cell_type": "code",
   "execution_count": 4,
   "metadata": {},
   "outputs": [
    {
     "name": "stderr",
     "output_type": "stream",
     "text": [
      "unet\\diffusion_pytorch_model.safetensors not found\n",
      "Loading pipeline components...:  17%|█▋        | 1/6 [00:00<00:01,  2.61it/s]c:\\Users\\aaron\\Documents\\git\\controlnet\\.myvenv\\Lib\\site-packages\\transformers\\models\\clip\\feature_extraction_clip.py:28: FutureWarning: The class CLIPFeatureExtractor is deprecated and will be removed in version 5 of Transformers. Please use CLIPImageProcessor instead.\n",
      "  warnings.warn(\n",
      "Loading pipeline components...: 100%|██████████| 6/6 [00:05<00:00,  1.07it/s]\n",
      "You have disabled the safety checker for <class 'diffusers.pipelines.controlnet.pipeline_controlnet.StableDiffusionControlNetPipeline'> by passing `safety_checker=None`. Ensure that you abide to the conditions of the Stable Diffusion license and do not expose unfiltered results in services or applications open to the public. Both the diffusers team and Hugging Face strongly recommend to keep the safety filter enabled in all public facing circumstances, disabling it only for use-cases that involve analyzing network behavior or auditing its results. For more information, please have a look at https://github.com/huggingface/diffusers/pull/254 .\n",
      "  0%|          | 0/874 [00:00<?, ?it/s]"
     ]
    },
    {
     "name": "stdout",
     "output_type": "stream",
     "text": [
      "A medium shot view of a smiling man holding a black cardboard box with green tape from the Coolblue webshop in his hands, standing in front of a busy city street and people background, the weather is snowy, high photorealistic quality.\n"
     ]
    },
    {
     "name": "stderr",
     "output_type": "stream",
     "text": [
      "100%|██████████| 25/25 [00:13<00:00,  1.88it/s]\n",
      "  0%|          | 1/874 [00:16<4:06:11, 16.92s/it]"
     ]
    },
    {
     "name": "stdout",
     "output_type": "stream",
     "text": [
      "A medium shot view of an old lady holding a colorful cardboard box with blue tape from the Amazon webshop in her hands, standing in front of a quite neighborhood street and garden background, the weather is snowy, high photorealistic quality.\n"
     ]
    },
    {
     "name": "stderr",
     "output_type": "stream",
     "text": [
      "100%|██████████| 25/25 [00:12<00:00,  2.02it/s]\n",
      "  0%|          | 2/874 [00:32<3:57:01, 16.31s/it]"
     ]
    },
    {
     "name": "stdout",
     "output_type": "stream",
     "text": [
      "A medium shot view of an angry person holding a brown cardboard box with a number from the Zara webshop in her hands, standing in front of a quite neighborhood street and cars background, the weather is cloudy, high photorealistic quality.\n"
     ]
    },
    {
     "name": "stderr",
     "output_type": "stream",
     "text": [
      "100%|██████████| 25/25 [00:13<00:00,  1.80it/s]\n",
      "  0%|          | 3/874 [00:49<4:00:21, 16.56s/it]"
     ]
    },
    {
     "name": "stdout",
     "output_type": "stream",
     "text": [
      "A medium shot view of a smiling boy holding a white cardboard box with a number from the Zara webshop in his hands, standing in front of a appartment building background, the weather is cloudy, high photorealistic quality.\n"
     ]
    },
    {
     "name": "stderr",
     "output_type": "stream",
     "text": [
      "100%|██████████| 25/25 [00:12<00:00,  1.95it/s]\n",
      "  0%|          | 4/874 [01:05<3:54:24, 16.17s/it]"
     ]
    },
    {
     "name": "stdout",
     "output_type": "stream",
     "text": [
      "A medium shot view of a happy person holding a brown cardboard box with red tape from the Amazon webshop in her hands, standing in front of a busy city street and people background, the weather is rainy, high photorealistic quality.\n"
     ]
    },
    {
     "name": "stderr",
     "output_type": "stream",
     "text": [
      "100%|██████████| 25/25 [00:12<00:00,  1.98it/s]\n",
      "  1%|          | 5/874 [01:20<3:50:10, 15.89s/it]"
     ]
    },
    {
     "name": "stdout",
     "output_type": "stream",
     "text": [
      "A medium shot view of a happy boy holding a black cardboard box with yellow tape from the Zara webshop in his hands, standing in front of a appartment building background, the weather is snowy, high photorealistic quality.\n"
     ]
    },
    {
     "name": "stderr",
     "output_type": "stream",
     "text": [
      "100%|██████████| 25/25 [00:12<00:00,  1.99it/s]\n",
      "  1%|          | 6/874 [01:35<3:46:42, 15.67s/it]"
     ]
    },
    {
     "name": "stdout",
     "output_type": "stream",
     "text": [
      "A medium shot view of an old man holding a colorful cardboard box with blue tape from the Coolblue webshop in his hands, standing in front of a appartment building background, the weather is snowy, high photorealistic quality.\n"
     ]
    },
    {
     "name": "stderr",
     "output_type": "stream",
     "text": [
      "100%|██████████| 25/25 [00:12<00:00,  1.94it/s]\n",
      "  1%|          | 7/874 [01:51<3:46:19, 15.66s/it]"
     ]
    },
    {
     "name": "stdout",
     "output_type": "stream",
     "text": [
      "A medium shot view of an old woman holding a colorful cardboard box with a number from the Coolblue webshop in her hands, standing in front of a on a doorstep of a house background, the weather is sunny, high photorealistic quality.\n"
     ]
    },
    {
     "name": "stderr",
     "output_type": "stream",
     "text": [
      "100%|██████████| 25/25 [00:12<00:00,  2.02it/s]\n",
      "  1%|          | 8/874 [02:06<3:44:19, 15.54s/it]"
     ]
    },
    {
     "name": "stdout",
     "output_type": "stream",
     "text": [
      "A medium shot view of a smiling boy holding a white cardboard box with red tape from the Nike webshop in his hands, standing in front of a appartment building background, the weather is rainy, high photorealistic quality.\n"
     ]
    },
    {
     "name": "stderr",
     "output_type": "stream",
     "text": [
      "100%|██████████| 25/25 [00:12<00:00,  1.97it/s]\n",
      "  1%|          | 9/874 [02:22<3:44:32, 15.58s/it]"
     ]
    },
    {
     "name": "stdout",
     "output_type": "stream",
     "text": [
      "A medium shot view of an angry boy holding a brown cardboard box with a number from the Adidas webshop in his hands, standing in front of a quite neighborhood street and trees background, the weather is snowy, high photorealistic quality.\n"
     ]
    },
    {
     "name": "stderr",
     "output_type": "stream",
     "text": [
      "100%|██████████| 25/25 [00:13<00:00,  1.81it/s]\n",
      "  1%|          | 10/874 [02:39<3:49:37, 15.95s/it]"
     ]
    },
    {
     "name": "stdout",
     "output_type": "stream",
     "text": [
      "A medium shot view of a young person holding a black cardboard box with a number from the Coolblue webshop in her hands, standing in front of a busy city street and people background, the weather is rainy, high photorealistic quality.\n"
     ]
    },
    {
     "name": "stderr",
     "output_type": "stream",
     "text": [
      "100%|██████████| 25/25 [00:12<00:00,  2.00it/s]\n",
      "  1%|▏         | 11/874 [02:54<3:46:44, 15.76s/it]"
     ]
    },
    {
     "name": "stdout",
     "output_type": "stream",
     "text": [
      "A medium shot view of a frowning lady holding a black cardboard box with black tape from the Coolblue webshop in her hands, standing in front of a quite neighborhood street and garden background, the weather is sunny, high photorealistic quality.\n"
     ]
    },
    {
     "name": "stderr",
     "output_type": "stream",
     "text": [
      "100%|██████████| 25/25 [00:12<00:00,  1.98it/s]\n",
      "  1%|▏         | 12/874 [03:09<3:44:51, 15.65s/it]"
     ]
    },
    {
     "name": "stdout",
     "output_type": "stream",
     "text": [
      "A medium shot view of an angry lady holding a white cardboard box with blue tape from the Coolblue webshop in her hands, standing in front of a city center background, the weather is sunny, high photorealistic quality.\n"
     ]
    },
    {
     "name": "stderr",
     "output_type": "stream",
     "text": [
      "100%|██████████| 25/25 [00:12<00:00,  1.96it/s]\n",
      "  1%|▏         | 13/874 [03:25<3:44:39, 15.66s/it]"
     ]
    },
    {
     "name": "stdout",
     "output_type": "stream",
     "text": [
      "A medium shot view of an angry lady holding a black cardboard box with green tape from the Nike webshop in her hands, standing in front of a garbage curb background, the weather is cloudy, high photorealistic quality.\n"
     ]
    },
    {
     "name": "stderr",
     "output_type": "stream",
     "text": [
      "100%|██████████| 25/25 [00:12<00:00,  1.96it/s]\n",
      "  2%|▏         | 14/874 [03:41<3:43:20, 15.58s/it]"
     ]
    },
    {
     "name": "stdout",
     "output_type": "stream",
     "text": [
      "A medium shot view of a frowning person holding a white cardboard box with yellow tape from the Coolblue webshop in her hands, standing in front of a on a doorstep of a house background, the weather is cloudy, high photorealistic quality.\n"
     ]
    },
    {
     "name": "stderr",
     "output_type": "stream",
     "text": [
      "100%|██████████| 25/25 [00:12<00:00,  1.99it/s]\n",
      "  2%|▏         | 15/874 [03:56<3:41:40, 15.48s/it]"
     ]
    },
    {
     "name": "stdout",
     "output_type": "stream",
     "text": [
      "A medium shot view of a smiling boy holding a brown cardboard box with green tape from the Amazon webshop in his hands, standing in front of a quite neighborhood street and trees background, the weather is snowy, high photorealistic quality.\n"
     ]
    },
    {
     "name": "stderr",
     "output_type": "stream",
     "text": [
      "100%|██████████| 25/25 [00:12<00:00,  2.01it/s]\n",
      "  2%|▏         | 16/874 [04:11<3:39:55, 15.38s/it]"
     ]
    },
    {
     "name": "stdout",
     "output_type": "stream",
     "text": [
      "A medium shot view of a sad lady holding a white cardboard box with green tape from the Adidas webshop in her hands, standing in front of a quite neighborhood street and trees background, the weather is rainy, high photorealistic quality.\n"
     ]
    },
    {
     "name": "stderr",
     "output_type": "stream",
     "text": [
      "100%|██████████| 25/25 [00:12<00:00,  2.01it/s]\n",
      "  2%|▏         | 17/874 [04:26<3:39:15, 15.35s/it]"
     ]
    },
    {
     "name": "stdout",
     "output_type": "stream",
     "text": [
      "A medium shot view of a frowning person holding a black cardboard box with yellow tape from a webshop in her hands, standing in front of a busy city street and cars background, the weather is cloudy, high photorealistic quality.\n"
     ]
    },
    {
     "name": "stderr",
     "output_type": "stream",
     "text": [
      "100%|██████████| 25/25 [00:12<00:00,  1.95it/s]\n",
      "  2%|▏         | 18/874 [04:42<3:42:41, 15.61s/it]"
     ]
    },
    {
     "name": "stdout",
     "output_type": "stream",
     "text": [
      "A medium shot view of a young person holding a black cardboard box with a qr code from a webshop in her hands, standing in front of a busy city street and cars background, the weather is sunny, high photorealistic quality.\n"
     ]
    },
    {
     "name": "stderr",
     "output_type": "stream",
     "text": [
      "100%|██████████| 25/25 [00:12<00:00,  1.98it/s]\n",
      "  2%|▏         | 19/874 [04:58<3:42:26, 15.61s/it]"
     ]
    },
    {
     "name": "stdout",
     "output_type": "stream",
     "text": [
      "A medium shot view of a sad boy holding a black cardboard box with a barcode from the Adidas webshop in his hands, standing in front of a busy city street and people background, the weather is snowy, high photorealistic quality.\n"
     ]
    },
    {
     "name": "stderr",
     "output_type": "stream",
     "text": [
      "100%|██████████| 25/25 [00:12<00:00,  1.94it/s]\n",
      "  2%|▏         | 20/874 [05:14<3:43:27, 15.70s/it]"
     ]
    },
    {
     "name": "stdout",
     "output_type": "stream",
     "text": [
      "A medium shot view of an angry man holding a colorful cardboard box with red tape from a webshop in his hands, standing in front of a city center background, the weather is cloudy, high photorealistic quality.\n"
     ]
    },
    {
     "name": "stderr",
     "output_type": "stream",
     "text": [
      "100%|██████████| 25/25 [00:13<00:00,  1.92it/s]\n",
      "  2%|▏         | 21/874 [05:30<3:43:32, 15.72s/it]"
     ]
    },
    {
     "name": "stdout",
     "output_type": "stream",
     "text": [
      "A medium shot view of a frowning woman holding a white cardboard box with a number from the Nike webshop in her hands, standing in front of a busy city street and people background, the weather is cloudy, high photorealistic quality.\n"
     ]
    },
    {
     "name": "stderr",
     "output_type": "stream",
     "text": [
      "100%|██████████| 25/25 [00:12<00:00,  2.02it/s]\n",
      "  3%|▎         | 22/874 [05:45<3:40:24, 15.52s/it]"
     ]
    },
    {
     "name": "stdout",
     "output_type": "stream",
     "text": [
      "A medium shot view of an angry person holding a brown cardboard box with green tape from the Adidas webshop in her hands, standing in front of a city center background, the weather is rainy, high photorealistic quality.\n"
     ]
    },
    {
     "name": "stderr",
     "output_type": "stream",
     "text": [
      "100%|██████████| 25/25 [00:12<00:00,  2.03it/s]\n",
      "  3%|▎         | 23/874 [06:00<3:37:53, 15.36s/it]"
     ]
    },
    {
     "name": "stdout",
     "output_type": "stream",
     "text": [
      "A medium shot view of a smiling woman holding a colorful cardboard box with blue tape from the Nike webshop in her hands, standing in front of a busy city street and people background, the weather is sunny, high photorealistic quality.\n"
     ]
    },
    {
     "name": "stderr",
     "output_type": "stream",
     "text": [
      "100%|██████████| 25/25 [00:12<00:00,  2.00it/s]\n",
      "  3%|▎         | 24/874 [06:15<3:36:45, 15.30s/it]"
     ]
    },
    {
     "name": "stdout",
     "output_type": "stream",
     "text": [
      "A medium shot view of a sad lady holding a brown cardboard box with red tape from the Adidas webshop in her hands, standing in front of a quite neighborhood street and garden background, the weather is sunny, high photorealistic quality.\n"
     ]
    },
    {
     "name": "stderr",
     "output_type": "stream",
     "text": [
      "100%|██████████| 25/25 [00:12<00:00,  2.01it/s]\n",
      "  3%|▎         | 25/874 [06:30<3:36:20, 15.29s/it]"
     ]
    },
    {
     "name": "stdout",
     "output_type": "stream",
     "text": [
      "A medium shot view of a young person holding a brown cardboard box with blue tape from the Amazon webshop in her hands, standing in front of a on a doorstep of a house background, the weather is sunny, high photorealistic quality.\n"
     ]
    },
    {
     "name": "stderr",
     "output_type": "stream",
     "text": [
      "100%|██████████| 25/25 [00:12<00:00,  1.96it/s]\n",
      "  3%|▎         | 26/874 [06:46<3:37:34, 15.39s/it]"
     ]
    },
    {
     "name": "stdout",
     "output_type": "stream",
     "text": [
      "A medium shot view of an old man holding a brown cardboard box with green tape from a webshop in his hands, standing in front of a on a doorstep of a house background, the weather is cloudy, high photorealistic quality.\n"
     ]
    },
    {
     "name": "stderr",
     "output_type": "stream",
     "text": [
      "100%|██████████| 25/25 [00:13<00:00,  1.91it/s]\n",
      "  3%|▎         | 27/874 [07:02<3:39:37, 15.56s/it]"
     ]
    },
    {
     "name": "stdout",
     "output_type": "stream",
     "text": [
      "A medium shot view of a frowning woman holding a black cardboard box with yellow tape from a webshop in her hands, standing in front of a appartment building background, the weather is rainy, high photorealistic quality.\n"
     ]
    },
    {
     "name": "stderr",
     "output_type": "stream",
     "text": [
      "100%|██████████| 25/25 [00:12<00:00,  2.00it/s]\n",
      "  3%|▎         | 28/874 [07:17<3:38:29, 15.50s/it]"
     ]
    },
    {
     "name": "stdout",
     "output_type": "stream",
     "text": [
      "A medium shot view of a sad person holding a brown cardboard box with yellow tape from the Adidas webshop in her hands, standing in front of a on a doorstep of a house background, the weather is snowy, high photorealistic quality.\n"
     ]
    },
    {
     "name": "stderr",
     "output_type": "stream",
     "text": [
      "100%|██████████| 25/25 [00:12<00:00,  1.95it/s]\n",
      "  3%|▎         | 29/874 [07:33<3:38:17, 15.50s/it]"
     ]
    },
    {
     "name": "stdout",
     "output_type": "stream",
     "text": [
      "A medium shot view of an angry person holding a colorful cardboard box with a barcode from the Zara webshop in her hands, standing in front of a city center background, the weather is sunny, high photorealistic quality.\n"
     ]
    },
    {
     "name": "stderr",
     "output_type": "stream",
     "text": [
      "100%|██████████| 25/25 [00:12<00:00,  2.03it/s]\n",
      "  3%|▎         | 30/874 [07:48<3:35:55, 15.35s/it]"
     ]
    },
    {
     "name": "stdout",
     "output_type": "stream",
     "text": [
      "A medium shot view of a sad lady holding a colorful cardboard box with red tape from the Nike webshop in her hands, standing in front of a on a doorstep of a house background, the weather is sunny, high photorealistic quality.\n"
     ]
    },
    {
     "name": "stderr",
     "output_type": "stream",
     "text": [
      "100%|██████████| 25/25 [00:12<00:00,  2.04it/s]\n",
      "  4%|▎         | 31/874 [08:03<3:34:19, 15.26s/it]"
     ]
    },
    {
     "name": "stdout",
     "output_type": "stream",
     "text": [
      "A medium shot view of a smiling person holding a brown cardboard box with black tape from the Zara webshop in her hands, standing in front of a city center background, the weather is sunny, high photorealistic quality.\n"
     ]
    },
    {
     "name": "stderr",
     "output_type": "stream",
     "text": [
      "100%|██████████| 25/25 [00:12<00:00,  2.02it/s]\n",
      "  4%|▎         | 32/874 [08:18<3:33:24, 15.21s/it]"
     ]
    },
    {
     "name": "stdout",
     "output_type": "stream",
     "text": [
      "A medium shot view of an angry lady holding a colorful cardboard box with red tape from the Nike webshop in her hands, standing in front of a quite neighborhood street and trees background, the weather is cloudy, high photorealistic quality.\n"
     ]
    },
    {
     "name": "stderr",
     "output_type": "stream",
     "text": [
      "100%|██████████| 25/25 [00:12<00:00,  1.94it/s]\n",
      "  4%|▍         | 33/874 [08:34<3:35:48, 15.40s/it]"
     ]
    },
    {
     "name": "stdout",
     "output_type": "stream",
     "text": [
      "A medium shot view of a happy woman holding a brown cardboard box with a number from the Amazon webshop in her hands, standing in front of a city center background, the weather is snowy, high photorealistic quality.\n"
     ]
    },
    {
     "name": "stderr",
     "output_type": "stream",
     "text": [
      "100%|██████████| 25/25 [00:12<00:00,  1.95it/s]\n",
      "  4%|▍         | 34/874 [08:49<3:35:52, 15.42s/it]"
     ]
    },
    {
     "name": "stdout",
     "output_type": "stream",
     "text": [
      "A medium shot view of a young lady holding a brown cardboard box with red tape from a webshop in her hands, standing in front of a quite neighborhood street and trees background, the weather is rainy, high photorealistic quality.\n"
     ]
    },
    {
     "name": "stderr",
     "output_type": "stream",
     "text": [
      "100%|██████████| 25/25 [00:12<00:00,  2.00it/s]\n",
      "  4%|▍         | 35/874 [09:04<3:34:59, 15.37s/it]"
     ]
    },
    {
     "name": "stdout",
     "output_type": "stream",
     "text": [
      "A medium shot view of a frowning woman holding a white cardboard box with green tape from the Amazon webshop in her hands, standing in front of a on a doorstep of a house background, the weather is sunny, high photorealistic quality.\n"
     ]
    },
    {
     "name": "stderr",
     "output_type": "stream",
     "text": [
      "100%|██████████| 25/25 [00:12<00:00,  1.96it/s]\n",
      "  4%|▍         | 36/874 [09:20<3:35:10, 15.41s/it]"
     ]
    },
    {
     "name": "stdout",
     "output_type": "stream",
     "text": [
      "A medium shot view of a sad man holding a white cardboard box with a qr code from the Zara webshop in his hands, standing in front of a in the street background, the weather is cloudy, high photorealistic quality.\n"
     ]
    },
    {
     "name": "stderr",
     "output_type": "stream",
     "text": [
      "100%|██████████| 25/25 [00:12<00:00,  1.95it/s]\n",
      "  4%|▍         | 37/874 [09:35<3:35:52, 15.48s/it]"
     ]
    },
    {
     "name": "stdout",
     "output_type": "stream",
     "text": [
      "A medium shot view of an old lady holding a brown cardboard box with a barcode from a webshop in her hands, standing in front of a on a doorstep of a house background, the weather is sunny, high photorealistic quality.\n"
     ]
    },
    {
     "name": "stderr",
     "output_type": "stream",
     "text": [
      "100%|██████████| 25/25 [00:13<00:00,  1.92it/s]\n",
      "  4%|▍         | 38/874 [09:51<3:36:39, 15.55s/it]"
     ]
    },
    {
     "name": "stdout",
     "output_type": "stream",
     "text": [
      "A medium shot view of a smiling man holding a white cardboard box with a number from the Zara webshop in his hands, standing in front of a busy city street and people background, the weather is rainy, high photorealistic quality.\n"
     ]
    },
    {
     "name": "stderr",
     "output_type": "stream",
     "text": [
      "100%|██████████| 25/25 [00:13<00:00,  1.92it/s]\n",
      "  4%|▍         | 39/874 [10:07<3:37:27, 15.63s/it]"
     ]
    },
    {
     "name": "stdout",
     "output_type": "stream",
     "text": [
      "A medium shot view of an old boy holding a colorful cardboard box with yellow tape from the Coolblue webshop in his hands, standing in front of a appartment building background, the weather is sunny, high photorealistic quality.\n"
     ]
    },
    {
     "name": "stderr",
     "output_type": "stream",
     "text": [
      "100%|██████████| 25/25 [00:12<00:00,  2.01it/s]\n",
      "  5%|▍         | 40/874 [10:22<3:35:34, 15.51s/it]"
     ]
    },
    {
     "name": "stdout",
     "output_type": "stream",
     "text": [
      "A medium shot view of a young boy holding a colorful cardboard box with red tape from a webshop in his hands, standing in front of a garbage curb background, the weather is sunny, high photorealistic quality.\n"
     ]
    },
    {
     "name": "stderr",
     "output_type": "stream",
     "text": [
      "100%|██████████| 25/25 [00:12<00:00,  1.96it/s]\n",
      "  5%|▍         | 41/874 [10:38<3:36:51, 15.62s/it]"
     ]
    },
    {
     "name": "stdout",
     "output_type": "stream",
     "text": [
      "A medium shot view of an old woman holding a colorful cardboard box with red tape from the Coolblue webshop in her hands, standing in front of a busy city street and cars background, the weather is sunny, high photorealistic quality.\n"
     ]
    },
    {
     "name": "stderr",
     "output_type": "stream",
     "text": [
      "100%|██████████| 25/25 [00:13<00:00,  1.91it/s]\n",
      "  5%|▍         | 42/874 [10:54<3:37:18, 15.67s/it]"
     ]
    },
    {
     "name": "stdout",
     "output_type": "stream",
     "text": [
      "A medium shot view of a happy woman holding a colorful cardboard box with yellow tape from the Zara webshop in her hands, standing in front of a city center background, the weather is sunny, high photorealistic quality.\n"
     ]
    },
    {
     "name": "stderr",
     "output_type": "stream",
     "text": [
      "100%|██████████| 25/25 [00:13<00:00,  1.92it/s]\n",
      "  5%|▍         | 43/874 [11:10<3:38:34, 15.78s/it]"
     ]
    },
    {
     "name": "stdout",
     "output_type": "stream",
     "text": [
      "A medium shot view of a sad lady holding a white cardboard box with green tape from a webshop in her hands, standing in front of a quite neighborhood street and trees background, the weather is snowy, high photorealistic quality.\n"
     ]
    },
    {
     "name": "stderr",
     "output_type": "stream",
     "text": [
      "100%|██████████| 25/25 [00:12<00:00,  1.94it/s]\n",
      "  5%|▌         | 44/874 [11:26<3:37:45, 15.74s/it]"
     ]
    },
    {
     "name": "stdout",
     "output_type": "stream",
     "text": [
      "A medium shot view of a happy woman holding a black cardboard box with red tape from a webshop in her hands, standing in front of a quite neighborhood street and cars background, the weather is snowy, high photorealistic quality.\n"
     ]
    },
    {
     "name": "stderr",
     "output_type": "stream",
     "text": [
      "100%|██████████| 25/25 [00:12<00:00,  1.96it/s]\n",
      "  5%|▌         | 45/874 [11:41<3:37:06, 15.71s/it]"
     ]
    },
    {
     "name": "stdout",
     "output_type": "stream",
     "text": [
      "A medium shot view of a happy man holding a brown cardboard box with a barcode from the Adidas webshop in his hands, standing in front of a city center background, the weather is snowy, high photorealistic quality.\n"
     ]
    },
    {
     "name": "stderr",
     "output_type": "stream",
     "text": [
      "100%|██████████| 25/25 [00:12<00:00,  1.96it/s]\n",
      "  5%|▌         | 46/874 [11:57<3:35:59, 15.65s/it]"
     ]
    },
    {
     "name": "stdout",
     "output_type": "stream",
     "text": [
      "A medium shot view of a happy person holding a black cardboard box with a barcode from the Adidas webshop in her hands, standing in front of a on a doorstep of a house background, the weather is rainy, high photorealistic quality.\n"
     ]
    },
    {
     "name": "stderr",
     "output_type": "stream",
     "text": [
      "100%|██████████| 25/25 [00:12<00:00,  2.01it/s]\n",
      "  5%|▌         | 47/874 [12:12<3:34:18, 15.55s/it]"
     ]
    },
    {
     "name": "stdout",
     "output_type": "stream",
     "text": [
      "A medium shot view of a young boy holding a colorful cardboard box with blue tape from the Zara webshop in his hands, standing in front of a appartment building background, the weather is sunny, high photorealistic quality.\n"
     ]
    },
    {
     "name": "stderr",
     "output_type": "stream",
     "text": [
      "100%|██████████| 25/25 [00:13<00:00,  1.91it/s]\n",
      "  5%|▌         | 48/874 [12:28<3:35:41, 15.67s/it]"
     ]
    },
    {
     "name": "stdout",
     "output_type": "stream",
     "text": [
      "A medium shot view of a frowning boy holding a black cardboard box with a qr code from the Amazon webshop in his hands, standing in front of a quite neighborhood street and garden background, the weather is snowy, high photorealistic quality.\n"
     ]
    },
    {
     "name": "stderr",
     "output_type": "stream",
     "text": [
      "100%|██████████| 25/25 [00:12<00:00,  2.00it/s]\n",
      "  6%|▌         | 49/874 [12:43<3:34:18, 15.59s/it]"
     ]
    },
    {
     "name": "stdout",
     "output_type": "stream",
     "text": [
      "A medium shot view of a sad boy holding a white cardboard box with a barcode from the Amazon webshop in his hands, standing in front of a busy city street and people background, the weather is rainy, high photorealistic quality.\n"
     ]
    },
    {
     "name": "stderr",
     "output_type": "stream",
     "text": [
      "100%|██████████| 25/25 [00:12<00:00,  2.00it/s]\n",
      "  6%|▌         | 50/874 [12:59<3:33:17, 15.53s/it]"
     ]
    },
    {
     "name": "stdout",
     "output_type": "stream",
     "text": [
      "A medium shot view of a young person holding a black cardboard box with a barcode from the Nike webshop in her hands, standing in front of a quite neighborhood street and trees background, the weather is rainy, high photorealistic quality.\n"
     ]
    },
    {
     "name": "stderr",
     "output_type": "stream",
     "text": [
      "100%|██████████| 25/25 [00:12<00:00,  1.94it/s]\n",
      "  6%|▌         | 51/874 [13:15<3:34:47, 15.66s/it]"
     ]
    },
    {
     "name": "stdout",
     "output_type": "stream",
     "text": [
      "A medium shot view of a frowning man holding a black cardboard box with a barcode from the Zara webshop in his hands, standing in front of a busy city street and cars background, the weather is rainy, high photorealistic quality.\n"
     ]
    },
    {
     "name": "stderr",
     "output_type": "stream",
     "text": [
      "100%|██████████| 25/25 [00:13<00:00,  1.91it/s]\n",
      "  6%|▌         | 52/874 [13:30<3:34:46, 15.68s/it]"
     ]
    },
    {
     "name": "stdout",
     "output_type": "stream",
     "text": [
      "A medium shot view of a frowning man holding a white cardboard box with a barcode from the Coolblue webshop in his hands, standing in front of a busy city street and cars background, the weather is rainy, high photorealistic quality.\n"
     ]
    },
    {
     "name": "stderr",
     "output_type": "stream",
     "text": [
      "100%|██████████| 25/25 [00:12<00:00,  2.00it/s]\n",
      "  6%|▌         | 53/874 [13:46<3:32:29, 15.53s/it]"
     ]
    },
    {
     "name": "stdout",
     "output_type": "stream",
     "text": [
      "A medium shot view of a young woman holding a black cardboard box with black tape from a webshop in her hands, standing in front of a busy city street and cars background, the weather is cloudy, high photorealistic quality.\n"
     ]
    },
    {
     "name": "stderr",
     "output_type": "stream",
     "text": [
      "100%|██████████| 25/25 [00:12<00:00,  1.96it/s]\n",
      "  6%|▌         | 54/874 [14:01<3:31:41, 15.49s/it]"
     ]
    },
    {
     "name": "stdout",
     "output_type": "stream",
     "text": [
      "A medium shot view of an angry woman holding a colorful cardboard box with red tape from the Adidas webshop in her hands, standing in front of a quite neighborhood street and trees background, the weather is sunny, high photorealistic quality.\n"
     ]
    },
    {
     "name": "stderr",
     "output_type": "stream",
     "text": [
      "100%|██████████| 25/25 [00:12<00:00,  2.00it/s]\n",
      "  6%|▋         | 55/874 [14:16<3:30:35, 15.43s/it]"
     ]
    },
    {
     "name": "stdout",
     "output_type": "stream",
     "text": [
      "A medium shot view of a smiling man holding a brown cardboard box with green tape from the Coolblue webshop in his hands, standing in front of a in the street background, the weather is sunny, high photorealistic quality.\n"
     ]
    },
    {
     "name": "stderr",
     "output_type": "stream",
     "text": [
      "100%|██████████| 25/25 [00:12<00:00,  1.99it/s]\n",
      "  6%|▋         | 56/874 [14:32<3:30:21, 15.43s/it]"
     ]
    },
    {
     "name": "stdout",
     "output_type": "stream",
     "text": [
      "A medium shot view of a frowning lady holding a colorful cardboard box with blue tape from the Amazon webshop in her hands, standing in front of a city center background, the weather is sunny, high photorealistic quality.\n"
     ]
    },
    {
     "name": "stderr",
     "output_type": "stream",
     "text": [
      "100%|██████████| 25/25 [00:12<00:00,  1.95it/s]\n",
      "  7%|▋         | 57/874 [14:47<3:30:32, 15.46s/it]"
     ]
    },
    {
     "name": "stdout",
     "output_type": "stream",
     "text": [
      "A medium shot view of a young woman holding a colorful cardboard box with a qr code from the Adidas webshop in her hands, standing in front of a quite neighborhood street and cars background, the weather is rainy, high photorealistic quality.\n"
     ]
    },
    {
     "name": "stderr",
     "output_type": "stream",
     "text": [
      "100%|██████████| 25/25 [00:12<00:00,  1.99it/s]\n",
      "  7%|▋         | 58/874 [15:03<3:29:39, 15.42s/it]"
     ]
    },
    {
     "name": "stdout",
     "output_type": "stream",
     "text": [
      "A medium shot view of an old boy holding a colorful cardboard box with yellow tape from the Amazon webshop in his hands, standing in front of a on a doorstep of a house background, the weather is cloudy, high photorealistic quality.\n"
     ]
    },
    {
     "name": "stderr",
     "output_type": "stream",
     "text": [
      "100%|██████████| 25/25 [00:12<00:00,  2.01it/s]\n",
      "  7%|▋         | 59/874 [15:18<3:29:48, 15.45s/it]"
     ]
    },
    {
     "name": "stdout",
     "output_type": "stream",
     "text": [
      "A medium shot view of an old boy holding a white cardboard box with a number from a webshop in his hands, standing in front of a quite neighborhood street and cars background, the weather is sunny, high photorealistic quality.\n"
     ]
    },
    {
     "name": "stderr",
     "output_type": "stream",
     "text": [
      "100%|██████████| 25/25 [00:12<00:00,  1.96it/s]\n",
      "  7%|▋         | 60/874 [15:34<3:30:37, 15.53s/it]"
     ]
    },
    {
     "name": "stdout",
     "output_type": "stream",
     "text": [
      "A medium shot view of a smiling man holding a white cardboard box with black tape from the Coolblue webshop in his hands, standing in front of a busy city street and cars background, the weather is rainy, high photorealistic quality.\n"
     ]
    },
    {
     "name": "stderr",
     "output_type": "stream",
     "text": [
      "100%|██████████| 25/25 [00:12<00:00,  1.95it/s]\n",
      "  7%|▋         | 61/874 [15:49<3:30:51, 15.56s/it]"
     ]
    },
    {
     "name": "stdout",
     "output_type": "stream",
     "text": [
      "A medium shot view of an old man holding a brown cardboard box with yellow tape from the Nike webshop in his hands, standing in front of a in the street background, the weather is sunny, high photorealistic quality.\n"
     ]
    },
    {
     "name": "stderr",
     "output_type": "stream",
     "text": [
      "100%|██████████| 25/25 [00:12<00:00,  1.98it/s]\n",
      "  7%|▋         | 62/874 [16:05<3:30:35, 15.56s/it]"
     ]
    },
    {
     "name": "stdout",
     "output_type": "stream",
     "text": [
      "A medium shot view of a happy boy holding a black cardboard box with yellow tape from the Nike webshop in his hands, standing in front of a appartment building background, the weather is rainy, high photorealistic quality.\n"
     ]
    },
    {
     "name": "stderr",
     "output_type": "stream",
     "text": [
      "100%|██████████| 25/25 [00:12<00:00,  1.99it/s]\n",
      "  7%|▋         | 63/874 [16:21<3:30:13, 15.55s/it]"
     ]
    },
    {
     "name": "stdout",
     "output_type": "stream",
     "text": [
      "A medium shot view of an angry person holding a brown cardboard box with blue tape from the Adidas webshop in her hands, standing in front of a city center background, the weather is sunny, high photorealistic quality.\n"
     ]
    },
    {
     "name": "stderr",
     "output_type": "stream",
     "text": [
      "100%|██████████| 25/25 [00:12<00:00,  1.99it/s]\n",
      "  7%|▋         | 64/874 [16:36<3:28:43, 15.46s/it]"
     ]
    },
    {
     "name": "stdout",
     "output_type": "stream",
     "text": [
      "A medium shot view of a young lady holding a black cardboard box with blue tape from the Amazon webshop in her hands, standing in front of a garbage curb background, the weather is rainy, high photorealistic quality.\n"
     ]
    },
    {
     "name": "stderr",
     "output_type": "stream",
     "text": [
      "100%|██████████| 25/25 [00:12<00:00,  1.95it/s]\n",
      "  7%|▋         | 65/874 [16:52<3:29:32, 15.54s/it]"
     ]
    },
    {
     "name": "stdout",
     "output_type": "stream",
     "text": [
      "A medium shot view of a sad woman holding a black cardboard box with a qr code from the Zara webshop in her hands, standing in front of a quite neighborhood street and garden background, the weather is sunny, high photorealistic quality.\n"
     ]
    },
    {
     "name": "stderr",
     "output_type": "stream",
     "text": [
      "100%|██████████| 25/25 [00:12<00:00,  1.96it/s]\n",
      "  8%|▊         | 66/874 [17:07<3:28:53, 15.51s/it]"
     ]
    },
    {
     "name": "stdout",
     "output_type": "stream",
     "text": [
      "A medium shot view of a frowning boy holding a white cardboard box with black tape from the Coolblue webshop in his hands, standing in front of a quite neighborhood street and cars background, the weather is snowy, high photorealistic quality.\n"
     ]
    },
    {
     "name": "stderr",
     "output_type": "stream",
     "text": [
      "100%|██████████| 25/25 [00:13<00:00,  1.92it/s]\n",
      "  8%|▊         | 67/874 [17:23<3:29:18, 15.56s/it]"
     ]
    },
    {
     "name": "stdout",
     "output_type": "stream",
     "text": [
      "A medium shot view of a smiling lady holding a colorful cardboard box with green tape from the Amazon webshop in her hands, standing in front of a busy city street and people background, the weather is snowy, high photorealistic quality.\n"
     ]
    },
    {
     "name": "stderr",
     "output_type": "stream",
     "text": [
      "100%|██████████| 25/25 [00:12<00:00,  2.01it/s]\n",
      "  8%|▊         | 68/874 [17:38<3:27:18, 15.43s/it]"
     ]
    },
    {
     "name": "stdout",
     "output_type": "stream",
     "text": [
      "A medium shot view of an old woman holding a black cardboard box with red tape from the Adidas webshop in her hands, standing in front of a busy city street and people background, the weather is sunny, high photorealistic quality.\n"
     ]
    },
    {
     "name": "stderr",
     "output_type": "stream",
     "text": [
      "100%|██████████| 25/25 [00:12<00:00,  1.98it/s]\n",
      "  8%|▊         | 69/874 [17:53<3:27:03, 15.43s/it]"
     ]
    },
    {
     "name": "stdout",
     "output_type": "stream",
     "text": [
      "A medium shot view of an angry man holding a white cardboard box with red tape from the Adidas webshop in his hands, standing in front of a city center background, the weather is snowy, high photorealistic quality.\n"
     ]
    },
    {
     "name": "stderr",
     "output_type": "stream",
     "text": [
      "100%|██████████| 25/25 [00:12<00:00,  1.93it/s]\n",
      "  8%|▊         | 70/874 [18:09<3:27:18, 15.47s/it]"
     ]
    },
    {
     "name": "stdout",
     "output_type": "stream",
     "text": [
      "A medium shot view of a young lady holding a brown cardboard box with a qr code from the Amazon webshop in her hands, standing in front of a busy city street and cars background, the weather is cloudy, high photorealistic quality.\n"
     ]
    },
    {
     "name": "stderr",
     "output_type": "stream",
     "text": [
      "100%|██████████| 25/25 [00:12<00:00,  2.03it/s]\n",
      "  8%|▊         | 71/874 [18:24<3:25:04, 15.32s/it]"
     ]
    },
    {
     "name": "stdout",
     "output_type": "stream",
     "text": [
      "A medium shot view of a frowning person holding a white cardboard box with a number from a webshop in her hands, standing in front of a quite neighborhood street and cars background, the weather is cloudy, high photorealistic quality.\n"
     ]
    },
    {
     "name": "stderr",
     "output_type": "stream",
     "text": [
      "100%|██████████| 25/25 [00:12<00:00,  1.99it/s]\n",
      "  8%|▊         | 72/874 [18:39<3:26:12, 15.43s/it]"
     ]
    },
    {
     "name": "stdout",
     "output_type": "stream",
     "text": [
      "A medium shot view of a smiling lady holding a black cardboard box with yellow tape from the Adidas webshop in her hands, standing in front of a quite neighborhood street and trees background, the weather is snowy, high photorealistic quality.\n"
     ]
    },
    {
     "name": "stderr",
     "output_type": "stream",
     "text": [
      "100%|██████████| 25/25 [00:13<00:00,  1.92it/s]\n",
      "  8%|▊         | 73/874 [18:56<3:28:59, 15.65s/it]"
     ]
    },
    {
     "name": "stdout",
     "output_type": "stream",
     "text": [
      "A medium shot view of an angry man holding a brown cardboard box with a qr code from the Amazon webshop in his hands, standing in front of a in the street background, the weather is snowy, high photorealistic quality.\n"
     ]
    },
    {
     "name": "stderr",
     "output_type": "stream",
     "text": [
      "100%|██████████| 25/25 [00:12<00:00,  1.96it/s]\n",
      "  8%|▊         | 74/874 [19:11<3:28:00, 15.60s/it]"
     ]
    },
    {
     "name": "stdout",
     "output_type": "stream",
     "text": [
      "A medium shot view of a sad boy holding a brown cardboard box with a number from the Amazon webshop in his hands, standing in front of a appartment building background, the weather is sunny, high photorealistic quality.\n"
     ]
    },
    {
     "name": "stderr",
     "output_type": "stream",
     "text": [
      "100%|██████████| 25/25 [00:12<00:00,  2.02it/s]\n",
      "  9%|▊         | 75/874 [19:26<3:25:55, 15.46s/it]"
     ]
    },
    {
     "name": "stdout",
     "output_type": "stream",
     "text": [
      "A medium shot view of an old man holding a black cardboard box with blue tape from the Coolblue webshop in his hands, standing in front of a busy city street and cars background, the weather is cloudy, high photorealistic quality.\n"
     ]
    },
    {
     "name": "stderr",
     "output_type": "stream",
     "text": [
      "100%|██████████| 25/25 [00:12<00:00,  1.97it/s]\n",
      "  9%|▊         | 76/874 [19:42<3:25:21, 15.44s/it]"
     ]
    },
    {
     "name": "stdout",
     "output_type": "stream",
     "text": [
      "A medium shot view of an old person holding a brown cardboard box with yellow tape from the Nike webshop in her hands, standing in front of a quite neighborhood street and garden background, the weather is rainy, high photorealistic quality.\n"
     ]
    },
    {
     "name": "stderr",
     "output_type": "stream",
     "text": [
      "100%|██████████| 25/25 [00:12<00:00,  2.01it/s]\n",
      "  9%|▉         | 77/874 [19:57<3:24:44, 15.41s/it]"
     ]
    },
    {
     "name": "stdout",
     "output_type": "stream",
     "text": [
      "A medium shot view of a sad man holding a black cardboard box with a number from the Amazon webshop in his hands, standing in front of a busy city street and people background, the weather is cloudy, high photorealistic quality.\n"
     ]
    },
    {
     "name": "stderr",
     "output_type": "stream",
     "text": [
      "100%|██████████| 25/25 [00:12<00:00,  2.00it/s]\n",
      "  9%|▉         | 78/874 [20:12<3:24:12, 15.39s/it]"
     ]
    },
    {
     "name": "stdout",
     "output_type": "stream",
     "text": [
      "A medium shot view of an old woman holding a colorful cardboard box with red tape from the Amazon webshop in her hands, standing in front of a garbage curb background, the weather is sunny, high photorealistic quality.\n"
     ]
    },
    {
     "name": "stderr",
     "output_type": "stream",
     "text": [
      "100%|██████████| 25/25 [00:12<00:00,  1.97it/s]\n",
      "  9%|▉         | 79/874 [20:28<3:24:02, 15.40s/it]"
     ]
    },
    {
     "name": "stdout",
     "output_type": "stream",
     "text": [
      "A medium shot view of a frowning man holding a black cardboard box with red tape from a webshop in his hands, standing in front of a on a doorstep of a house background, the weather is snowy, high photorealistic quality.\n"
     ]
    },
    {
     "name": "stderr",
     "output_type": "stream",
     "text": [
      "100%|██████████| 25/25 [00:12<00:00,  2.00it/s]\n",
      "  9%|▉         | 80/874 [20:43<3:23:05, 15.35s/it]"
     ]
    },
    {
     "name": "stdout",
     "output_type": "stream",
     "text": [
      "A medium shot view of a smiling man holding a colorful cardboard box with black tape from the Amazon webshop in his hands, standing in front of a garbage curb background, the weather is cloudy, high photorealistic quality.\n"
     ]
    },
    {
     "name": "stderr",
     "output_type": "stream",
     "text": [
      "100%|██████████| 25/25 [00:12<00:00,  1.98it/s]\n",
      "  9%|▉         | 81/874 [20:59<3:24:40, 15.49s/it]"
     ]
    },
    {
     "name": "stdout",
     "output_type": "stream",
     "text": [
      "A medium shot view of a young woman holding a white cardboard box with black tape from the Amazon webshop in her hands, standing in front of a busy city street and people background, the weather is cloudy, high photorealistic quality.\n"
     ]
    },
    {
     "name": "stderr",
     "output_type": "stream",
     "text": [
      "100%|██████████| 25/25 [00:12<00:00,  1.95it/s]\n",
      "  9%|▉         | 82/874 [21:14<3:24:44, 15.51s/it]"
     ]
    },
    {
     "name": "stdout",
     "output_type": "stream",
     "text": [
      "A medium shot view of an old man holding a white cardboard box with yellow tape from the Coolblue webshop in his hands, standing in front of a quite neighborhood street and garden background, the weather is rainy, high photorealistic quality.\n"
     ]
    },
    {
     "name": "stderr",
     "output_type": "stream",
     "text": [
      "100%|██████████| 25/25 [00:12<00:00,  2.02it/s]\n",
      "  9%|▉         | 83/874 [21:30<3:23:23, 15.43s/it]"
     ]
    },
    {
     "name": "stdout",
     "output_type": "stream",
     "text": [
      "A medium shot view of a happy man holding a colorful cardboard box with red tape from the Nike webshop in his hands, standing in front of a city center background, the weather is sunny, high photorealistic quality.\n"
     ]
    },
    {
     "name": "stderr",
     "output_type": "stream",
     "text": [
      "100%|██████████| 25/25 [00:13<00:00,  1.92it/s]\n",
      " 10%|▉         | 84/874 [21:45<3:24:36, 15.54s/it]"
     ]
    },
    {
     "name": "stdout",
     "output_type": "stream",
     "text": [
      "A medium shot view of a sad man holding a white cardboard box with black tape from the Zara webshop in his hands, standing in front of a garbage curb background, the weather is sunny, high photorealistic quality.\n"
     ]
    },
    {
     "name": "stderr",
     "output_type": "stream",
     "text": [
      "100%|██████████| 25/25 [00:12<00:00,  1.93it/s]\n",
      " 10%|▉         | 85/874 [22:01<3:25:15, 15.61s/it]"
     ]
    },
    {
     "name": "stdout",
     "output_type": "stream",
     "text": [
      "A medium shot view of an old boy holding a colorful cardboard box with a barcode from the Adidas webshop in his hands, standing in front of a quite neighborhood street and cars background, the weather is cloudy, high photorealistic quality.\n"
     ]
    },
    {
     "name": "stderr",
     "output_type": "stream",
     "text": [
      "100%|██████████| 25/25 [00:12<00:00,  1.99it/s]\n",
      " 10%|▉         | 86/874 [22:17<3:24:55, 15.60s/it]"
     ]
    },
    {
     "name": "stdout",
     "output_type": "stream",
     "text": [
      "A medium shot view of a young person holding a colorful cardboard box with blue tape from the Zara webshop in her hands, standing in front of a garbage curb background, the weather is snowy, high photorealistic quality.\n"
     ]
    },
    {
     "name": "stderr",
     "output_type": "stream",
     "text": [
      "100%|██████████| 25/25 [00:13<00:00,  1.90it/s]\n",
      " 10%|▉         | 87/874 [22:33<3:26:07, 15.71s/it]"
     ]
    },
    {
     "name": "stdout",
     "output_type": "stream",
     "text": [
      "A medium shot view of a sad lady holding a colorful cardboard box with blue tape from the Zara webshop in her hands, standing in front of a on a doorstep of a house background, the weather is rainy, high photorealistic quality.\n"
     ]
    },
    {
     "name": "stderr",
     "output_type": "stream",
     "text": [
      "100%|██████████| 25/25 [00:13<00:00,  1.87it/s]\n",
      " 10%|█         | 88/874 [22:49<3:28:05, 15.89s/it]"
     ]
    },
    {
     "name": "stdout",
     "output_type": "stream",
     "text": [
      "A medium shot view of a smiling woman holding a colorful cardboard box with green tape from the Adidas webshop in her hands, standing in front of a garbage curb background, the weather is cloudy, high photorealistic quality.\n"
     ]
    },
    {
     "name": "stderr",
     "output_type": "stream",
     "text": [
      "100%|██████████| 25/25 [00:12<00:00,  1.96it/s]\n",
      " 10%|█         | 89/874 [23:05<3:27:00, 15.82s/it]"
     ]
    },
    {
     "name": "stdout",
     "output_type": "stream",
     "text": [
      "A medium shot view of a frowning person holding a black cardboard box with blue tape from the Zara webshop in her hands, standing in front of a garbage curb background, the weather is snowy, high photorealistic quality.\n"
     ]
    },
    {
     "name": "stderr",
     "output_type": "stream",
     "text": [
      "100%|██████████| 25/25 [00:12<00:00,  1.96it/s]\n",
      " 10%|█         | 90/874 [23:20<3:26:18, 15.79s/it]"
     ]
    },
    {
     "name": "stdout",
     "output_type": "stream",
     "text": [
      "A medium shot view of a smiling lady holding a white cardboard box with green tape from a webshop in her hands, standing in front of a city center background, the weather is sunny, high photorealistic quality.\n"
     ]
    },
    {
     "name": "stderr",
     "output_type": "stream",
     "text": [
      "100%|██████████| 25/25 [00:12<00:00,  2.00it/s]\n",
      " 10%|█         | 91/874 [23:36<3:23:45, 15.61s/it]"
     ]
    },
    {
     "name": "stdout",
     "output_type": "stream",
     "text": [
      "A medium shot view of a smiling person holding a black cardboard box with black tape from the Coolblue webshop in her hands, standing in front of a quite neighborhood street and cars background, the weather is snowy, high photorealistic quality.\n"
     ]
    },
    {
     "name": "stderr",
     "output_type": "stream",
     "text": [
      "100%|██████████| 25/25 [00:12<00:00,  1.92it/s]\n",
      " 11%|█         | 92/874 [23:52<3:25:34, 15.77s/it]"
     ]
    },
    {
     "name": "stdout",
     "output_type": "stream",
     "text": [
      "A medium shot view of a happy woman holding a black cardboard box with yellow tape from the Amazon webshop in her hands, standing in front of a quite neighborhood street and trees background, the weather is rainy, high photorealistic quality.\n"
     ]
    },
    {
     "name": "stderr",
     "output_type": "stream",
     "text": [
      "100%|██████████| 25/25 [00:12<00:00,  1.95it/s]\n",
      " 11%|█         | 93/874 [24:07<3:24:56, 15.74s/it]"
     ]
    },
    {
     "name": "stdout",
     "output_type": "stream",
     "text": [
      "A medium shot view of an old person holding a white cardboard box with green tape from the Adidas webshop in her hands, standing in front of a in the street background, the weather is sunny, high photorealistic quality.\n"
     ]
    },
    {
     "name": "stderr",
     "output_type": "stream",
     "text": [
      "100%|██████████| 25/25 [00:12<00:00,  1.94it/s]\n",
      " 11%|█         | 94/874 [24:23<3:24:17, 15.71s/it]"
     ]
    },
    {
     "name": "stdout",
     "output_type": "stream",
     "text": [
      "A medium shot view of a smiling person holding a colorful cardboard box with black tape from the Amazon webshop in her hands, standing in front of a busy city street and people background, the weather is rainy, high photorealistic quality.\n"
     ]
    },
    {
     "name": "stderr",
     "output_type": "stream",
     "text": [
      "100%|██████████| 25/25 [00:13<00:00,  1.90it/s]\n",
      " 11%|█         | 95/874 [24:39<3:24:25, 15.75s/it]"
     ]
    },
    {
     "name": "stdout",
     "output_type": "stream",
     "text": [
      "A medium shot view of a young man holding a black cardboard box with yellow tape from the Coolblue webshop in his hands, standing in front of a on a doorstep of a house background, the weather is cloudy, high photorealistic quality.\n"
     ]
    },
    {
     "name": "stderr",
     "output_type": "stream",
     "text": [
      "100%|██████████| 25/25 [00:12<00:00,  1.97it/s]\n",
      " 11%|█         | 96/874 [24:54<3:23:04, 15.66s/it]"
     ]
    },
    {
     "name": "stdout",
     "output_type": "stream",
     "text": [
      "A medium shot view of a young boy holding a white cardboard box with green tape from the Coolblue webshop in his hands, standing in front of a appartment building background, the weather is snowy, high photorealistic quality.\n"
     ]
    },
    {
     "name": "stderr",
     "output_type": "stream",
     "text": [
      "100%|██████████| 25/25 [00:12<00:00,  2.01it/s]\n",
      " 11%|█         | 97/874 [25:09<3:20:48, 15.51s/it]"
     ]
    },
    {
     "name": "stdout",
     "output_type": "stream",
     "text": [
      "A medium shot view of a sad man holding a colorful cardboard box with a barcode from a webshop in his hands, standing in front of a quite neighborhood street and trees background, the weather is snowy, high photorealistic quality.\n"
     ]
    },
    {
     "name": "stderr",
     "output_type": "stream",
     "text": [
      "100%|██████████| 25/25 [00:12<00:00,  2.01it/s]\n",
      " 11%|█         | 98/874 [25:25<3:19:01, 15.39s/it]"
     ]
    },
    {
     "name": "stdout",
     "output_type": "stream",
     "text": [
      "A medium shot view of a happy lady holding a colorful cardboard box with black tape from the Zara webshop in her hands, standing in front of a quite neighborhood street and garden background, the weather is cloudy, high photorealistic quality.\n"
     ]
    },
    {
     "name": "stderr",
     "output_type": "stream",
     "text": [
      "100%|██████████| 25/25 [00:12<00:00,  2.01it/s]\n",
      " 11%|█▏        | 99/874 [25:40<3:17:57, 15.33s/it]"
     ]
    },
    {
     "name": "stdout",
     "output_type": "stream",
     "text": [
      "A medium shot view of a smiling lady holding a white cardboard box with a number from the Nike webshop in her hands, standing in front of a appartment building background, the weather is rainy, high photorealistic quality.\n"
     ]
    },
    {
     "name": "stderr",
     "output_type": "stream",
     "text": [
      "100%|██████████| 25/25 [00:12<00:00,  2.02it/s]\n",
      " 11%|█▏        | 100/874 [25:55<3:16:57, 15.27s/it]"
     ]
    },
    {
     "name": "stdout",
     "output_type": "stream",
     "text": [
      "A medium shot view of a happy woman holding a brown cardboard box with blue tape from a webshop in her hands, standing in front of a on a doorstep of a house background, the weather is rainy, high photorealistic quality.\n"
     ]
    },
    {
     "name": "stderr",
     "output_type": "stream",
     "text": [
      "100%|██████████| 25/25 [00:12<00:00,  2.01it/s]\n",
      " 12%|█▏        | 101/874 [26:10<3:16:13, 15.23s/it]"
     ]
    },
    {
     "name": "stdout",
     "output_type": "stream",
     "text": [
      "A medium shot view of a sad woman holding a black cardboard box with red tape from the Amazon webshop in her hands, standing in front of a busy city street and people background, the weather is rainy, high photorealistic quality.\n"
     ]
    },
    {
     "name": "stderr",
     "output_type": "stream",
     "text": [
      "100%|██████████| 25/25 [00:12<00:00,  2.01it/s]\n",
      " 12%|█▏        | 102/874 [26:25<3:15:42, 15.21s/it]"
     ]
    },
    {
     "name": "stdout",
     "output_type": "stream",
     "text": [
      "A medium shot view of a sad boy holding a white cardboard box with black tape from the Zara webshop in his hands, standing in front of a garbage curb background, the weather is rainy, high photorealistic quality.\n"
     ]
    },
    {
     "name": "stderr",
     "output_type": "stream",
     "text": [
      "100%|██████████| 25/25 [00:12<00:00,  2.00it/s]\n",
      " 12%|█▏        | 103/874 [26:41<3:16:24, 15.29s/it]"
     ]
    },
    {
     "name": "stdout",
     "output_type": "stream",
     "text": [
      "A medium shot view of a frowning man holding a black cardboard box with a number from a webshop in his hands, standing in front of a on a doorstep of a house background, the weather is rainy, high photorealistic quality.\n"
     ]
    },
    {
     "name": "stderr",
     "output_type": "stream",
     "text": [
      "100%|██████████| 25/25 [00:12<00:00,  2.00it/s]\n",
      " 12%|█▏        | 104/874 [26:56<3:16:04, 15.28s/it]"
     ]
    },
    {
     "name": "stdout",
     "output_type": "stream",
     "text": [
      "A medium shot view of a young woman holding a black cardboard box with black tape from the Amazon webshop in her hands, standing in front of a city center background, the weather is rainy, high photorealistic quality.\n"
     ]
    },
    {
     "name": "stderr",
     "output_type": "stream",
     "text": [
      "100%|██████████| 25/25 [00:12<00:00,  2.00it/s]\n",
      " 12%|█▏        | 105/874 [27:11<3:15:57, 15.29s/it]"
     ]
    },
    {
     "name": "stdout",
     "output_type": "stream",
     "text": [
      "A medium shot view of an angry lady holding a brown cardboard box with a number from the Adidas webshop in her hands, standing in front of a garbage curb background, the weather is sunny, high photorealistic quality.\n"
     ]
    },
    {
     "name": "stderr",
     "output_type": "stream",
     "text": [
      "100%|██████████| 25/25 [00:12<00:00,  1.96it/s]\n",
      " 12%|█▏        | 106/874 [27:27<3:16:41, 15.37s/it]"
     ]
    },
    {
     "name": "stdout",
     "output_type": "stream",
     "text": [
      "A medium shot view of an old woman holding a white cardboard box with a barcode from the Nike webshop in her hands, standing in front of a busy city street and people background, the weather is snowy, high photorealistic quality.\n"
     ]
    },
    {
     "name": "stderr",
     "output_type": "stream",
     "text": [
      "100%|██████████| 25/25 [00:12<00:00,  1.92it/s]\n",
      " 12%|█▏        | 107/874 [27:43<3:18:10, 15.50s/it]"
     ]
    },
    {
     "name": "stdout",
     "output_type": "stream",
     "text": [
      "A medium shot view of a smiling lady holding a colorful cardboard box with a qr code from the Nike webshop in her hands, standing in front of a busy city street and cars background, the weather is snowy, high photorealistic quality.\n"
     ]
    },
    {
     "name": "stderr",
     "output_type": "stream",
     "text": [
      "100%|██████████| 25/25 [00:12<00:00,  1.94it/s]\n",
      " 12%|█▏        | 108/874 [27:59<3:19:40, 15.64s/it]"
     ]
    },
    {
     "name": "stdout",
     "output_type": "stream",
     "text": [
      "A medium shot view of an angry man holding a white cardboard box with a qr code from the Coolblue webshop in his hands, standing in front of a on a doorstep of a house background, the weather is cloudy, high photorealistic quality.\n"
     ]
    },
    {
     "name": "stderr",
     "output_type": "stream",
     "text": [
      "100%|██████████| 25/25 [00:12<00:00,  1.93it/s]\n",
      " 12%|█▏        | 109/874 [28:15<3:21:29, 15.80s/it]"
     ]
    },
    {
     "name": "stdout",
     "output_type": "stream",
     "text": [
      "A medium shot view of an old woman holding a brown cardboard box with a number from the Amazon webshop in her hands, standing in front of a on a doorstep of a house background, the weather is cloudy, high photorealistic quality.\n"
     ]
    },
    {
     "name": "stderr",
     "output_type": "stream",
     "text": [
      "100%|██████████| 25/25 [00:12<00:00,  1.98it/s]\n",
      " 13%|█▎        | 110/874 [28:30<3:19:18, 15.65s/it]"
     ]
    },
    {
     "name": "stdout",
     "output_type": "stream",
     "text": [
      "A medium shot view of a happy lady holding a white cardboard box with a qr code from a webshop in her hands, standing in front of a quite neighborhood street and trees background, the weather is cloudy, high photorealistic quality.\n"
     ]
    },
    {
     "name": "stderr",
     "output_type": "stream",
     "text": [
      "100%|██████████| 25/25 [00:12<00:00,  1.97it/s]\n",
      " 13%|█▎        | 111/874 [28:46<3:18:45, 15.63s/it]"
     ]
    },
    {
     "name": "stdout",
     "output_type": "stream",
     "text": [
      "A medium shot view of a happy person holding a black cardboard box with blue tape from the Nike webshop in her hands, standing in front of a in the street background, the weather is rainy, high photorealistic quality.\n"
     ]
    },
    {
     "name": "stderr",
     "output_type": "stream",
     "text": [
      "100%|██████████| 25/25 [00:12<00:00,  1.92it/s]\n",
      " 13%|█▎        | 112/874 [29:02<3:19:29, 15.71s/it]"
     ]
    },
    {
     "name": "stdout",
     "output_type": "stream",
     "text": [
      "A medium shot view of a sad lady holding a brown cardboard box with yellow tape from the Nike webshop in her hands, standing in front of a appartment building background, the weather is snowy, high photorealistic quality.\n"
     ]
    },
    {
     "name": "stderr",
     "output_type": "stream",
     "text": [
      "100%|██████████| 25/25 [00:13<00:00,  1.89it/s]\n",
      " 13%|█▎        | 113/874 [29:17<3:20:07, 15.78s/it]"
     ]
    },
    {
     "name": "stdout",
     "output_type": "stream",
     "text": [
      "A medium shot view of a young lady holding a colorful cardboard box with a number from the Nike webshop in her hands, standing in front of a quite neighborhood street and trees background, the weather is sunny, high photorealistic quality.\n"
     ]
    },
    {
     "name": "stderr",
     "output_type": "stream",
     "text": [
      "100%|██████████| 25/25 [00:12<00:00,  1.96it/s]\n",
      " 13%|█▎        | 114/874 [29:33<3:18:42, 15.69s/it]"
     ]
    },
    {
     "name": "stdout",
     "output_type": "stream",
     "text": [
      "A medium shot view of a happy lady holding a colorful cardboard box with a qr code from the Amazon webshop in her hands, standing in front of a on a doorstep of a house background, the weather is snowy, high photorealistic quality.\n"
     ]
    },
    {
     "name": "stderr",
     "output_type": "stream",
     "text": [
      "100%|██████████| 25/25 [00:12<00:00,  2.01it/s]\n",
      " 13%|█▎        | 115/874 [29:48<3:16:19, 15.52s/it]"
     ]
    },
    {
     "name": "stdout",
     "output_type": "stream",
     "text": [
      "A medium shot view of an old lady holding a white cardboard box with green tape from a webshop in her hands, standing in front of a busy city street and people background, the weather is sunny, high photorealistic quality.\n"
     ]
    },
    {
     "name": "stderr",
     "output_type": "stream",
     "text": [
      "100%|██████████| 25/25 [00:12<00:00,  2.03it/s]\n",
      " 13%|█▎        | 116/874 [30:03<3:14:01, 15.36s/it]"
     ]
    },
    {
     "name": "stdout",
     "output_type": "stream",
     "text": [
      "A medium shot view of an angry person holding a black cardboard box with blue tape from the Adidas webshop in her hands, standing in front of a garbage curb background, the weather is cloudy, high photorealistic quality.\n"
     ]
    },
    {
     "name": "stderr",
     "output_type": "stream",
     "text": [
      "100%|██████████| 25/25 [00:12<00:00,  2.03it/s]\n",
      " 13%|█▎        | 117/874 [30:18<3:12:38, 15.27s/it]"
     ]
    },
    {
     "name": "stdout",
     "output_type": "stream",
     "text": [
      "A medium shot view of a smiling boy holding a brown cardboard box with a number from the Nike webshop in his hands, standing in front of a on a doorstep of a house background, the weather is snowy, high photorealistic quality.\n"
     ]
    },
    {
     "name": "stderr",
     "output_type": "stream",
     "text": [
      "100%|██████████| 25/25 [00:12<00:00,  2.03it/s]\n",
      " 14%|█▎        | 118/874 [30:33<3:11:26, 15.19s/it]"
     ]
    },
    {
     "name": "stdout",
     "output_type": "stream",
     "text": [
      "A medium shot view of a smiling lady holding a black cardboard box with a number from the Amazon webshop in her hands, standing in front of a busy city street and people background, the weather is snowy, high photorealistic quality.\n"
     ]
    },
    {
     "name": "stderr",
     "output_type": "stream",
     "text": [
      "100%|██████████| 25/25 [00:12<00:00,  2.04it/s]\n",
      " 14%|█▎        | 119/874 [30:48<3:10:26, 15.13s/it]"
     ]
    },
    {
     "name": "stdout",
     "output_type": "stream",
     "text": [
      "A medium shot view of an old lady holding a colorful cardboard box with blue tape from the Amazon webshop in her hands, standing in front of a appartment building background, the weather is cloudy, high photorealistic quality.\n"
     ]
    },
    {
     "name": "stderr",
     "output_type": "stream",
     "text": [
      "100%|██████████| 25/25 [00:12<00:00,  2.03it/s]\n",
      " 14%|█▎        | 120/874 [31:03<3:09:49, 15.11s/it]"
     ]
    },
    {
     "name": "stdout",
     "output_type": "stream",
     "text": [
      "A medium shot view of an angry lady holding a black cardboard box with a barcode from the Adidas webshop in her hands, standing in front of a quite neighborhood street and cars background, the weather is rainy, high photorealistic quality.\n"
     ]
    },
    {
     "name": "stderr",
     "output_type": "stream",
     "text": [
      "100%|██████████| 25/25 [00:12<00:00,  2.03it/s]\n",
      " 14%|█▍        | 121/874 [31:18<3:09:28, 15.10s/it]"
     ]
    },
    {
     "name": "stdout",
     "output_type": "stream",
     "text": [
      "A medium shot view of an old lady holding a black cardboard box with red tape from the Amazon webshop in her hands, standing in front of a in the street background, the weather is sunny, high photorealistic quality.\n"
     ]
    },
    {
     "name": "stderr",
     "output_type": "stream",
     "text": [
      "100%|██████████| 25/25 [00:12<00:00,  2.04it/s]\n",
      " 14%|█▍        | 122/874 [31:33<3:09:01, 15.08s/it]"
     ]
    },
    {
     "name": "stdout",
     "output_type": "stream",
     "text": [
      "A medium shot view of a smiling woman holding a brown cardboard box with green tape from the Adidas webshop in her hands, standing in front of a quite neighborhood street and garden background, the weather is rainy, high photorealistic quality.\n"
     ]
    },
    {
     "name": "stderr",
     "output_type": "stream",
     "text": [
      "100%|██████████| 25/25 [00:12<00:00,  2.00it/s]\n",
      " 14%|█▍        | 123/874 [31:49<3:10:03, 15.18s/it]"
     ]
    },
    {
     "name": "stdout",
     "output_type": "stream",
     "text": [
      "A medium shot view of an old man holding a brown cardboard box with blue tape from the Nike webshop in his hands, standing in front of a on a doorstep of a house background, the weather is rainy, high photorealistic quality.\n"
     ]
    },
    {
     "name": "stderr",
     "output_type": "stream",
     "text": [
      "100%|██████████| 25/25 [00:12<00:00,  1.98it/s]\n",
      " 14%|█▍        | 124/874 [32:04<3:10:09, 15.21s/it]"
     ]
    },
    {
     "name": "stdout",
     "output_type": "stream",
     "text": [
      "A medium shot view of a happy person holding a colorful cardboard box with green tape from the Amazon webshop in her hands, standing in front of a garbage curb background, the weather is rainy, high photorealistic quality.\n"
     ]
    },
    {
     "name": "stderr",
     "output_type": "stream",
     "text": [
      "100%|██████████| 25/25 [00:12<00:00,  2.03it/s]\n",
      " 14%|█▍        | 125/874 [32:19<3:09:00, 15.14s/it]"
     ]
    },
    {
     "name": "stdout",
     "output_type": "stream",
     "text": [
      "A medium shot view of a frowning woman holding a white cardboard box with a qr code from the Zara webshop in her hands, standing in front of a appartment building background, the weather is cloudy, high photorealistic quality.\n"
     ]
    },
    {
     "name": "stderr",
     "output_type": "stream",
     "text": [
      "100%|██████████| 25/25 [00:12<00:00,  2.03it/s]\n",
      " 14%|█▍        | 126/874 [32:34<3:08:08, 15.09s/it]"
     ]
    },
    {
     "name": "stdout",
     "output_type": "stream",
     "text": [
      "A medium shot view of a young man holding a white cardboard box with yellow tape from the Adidas webshop in his hands, standing in front of a quite neighborhood street and garden background, the weather is rainy, high photorealistic quality.\n"
     ]
    },
    {
     "name": "stderr",
     "output_type": "stream",
     "text": [
      "100%|██████████| 25/25 [00:12<00:00,  2.00it/s]\n",
      " 15%|█▍        | 127/874 [32:49<3:08:52, 15.17s/it]"
     ]
    },
    {
     "name": "stdout",
     "output_type": "stream",
     "text": [
      "A medium shot view of an angry woman holding a brown cardboard box with black tape from the Amazon webshop in her hands, standing in front of a busy city street and cars background, the weather is snowy, high photorealistic quality.\n"
     ]
    },
    {
     "name": "stderr",
     "output_type": "stream",
     "text": [
      "100%|██████████| 25/25 [00:12<00:00,  1.96it/s]\n",
      " 15%|█▍        | 128/874 [33:05<3:09:52, 15.27s/it]"
     ]
    },
    {
     "name": "stdout",
     "output_type": "stream",
     "text": [
      "A medium shot view of an angry man holding a colorful cardboard box with blue tape from the Adidas webshop in his hands, standing in front of a quite neighborhood street and cars background, the weather is sunny, high photorealistic quality.\n"
     ]
    },
    {
     "name": "stderr",
     "output_type": "stream",
     "text": [
      "100%|██████████| 25/25 [00:12<00:00,  2.04it/s]\n",
      " 15%|█▍        | 129/874 [33:20<3:09:16, 15.24s/it]"
     ]
    },
    {
     "name": "stdout",
     "output_type": "stream",
     "text": [
      "A medium shot view of a frowning person holding a white cardboard box with yellow tape from the Zara webshop in her hands, standing in front of a on a doorstep of a house background, the weather is cloudy, high photorealistic quality.\n"
     ]
    },
    {
     "name": "stderr",
     "output_type": "stream",
     "text": [
      "100%|██████████| 25/25 [00:11<00:00,  2.13it/s]\n",
      " 15%|█▍        | 130/874 [33:34<3:06:02, 15.00s/it]"
     ]
    },
    {
     "name": "stdout",
     "output_type": "stream",
     "text": [
      "A medium shot view of a happy woman holding a white cardboard box with green tape from the Zara webshop in her hands, standing in front of a quite neighborhood street and cars background, the weather is cloudy, high photorealistic quality.\n"
     ]
    },
    {
     "name": "stderr",
     "output_type": "stream",
     "text": [
      "100%|██████████| 25/25 [00:11<00:00,  2.15it/s]\n",
      " 15%|█▍        | 131/874 [33:49<3:03:28, 14.82s/it]"
     ]
    },
    {
     "name": "stdout",
     "output_type": "stream",
     "text": [
      "A medium shot view of a sad lady holding a brown cardboard box with a number from the Amazon webshop in her hands, standing in front of a garbage curb background, the weather is sunny, high photorealistic quality.\n"
     ]
    },
    {
     "name": "stderr",
     "output_type": "stream",
     "text": [
      "100%|██████████| 25/25 [00:12<00:00,  2.04it/s]\n",
      " 15%|█▌        | 132/874 [34:04<3:03:15, 14.82s/it]"
     ]
    },
    {
     "name": "stdout",
     "output_type": "stream",
     "text": [
      "A medium shot view of a smiling lady holding a black cardboard box with red tape from the Adidas webshop in her hands, standing in front of a busy city street and people background, the weather is rainy, high photorealistic quality.\n"
     ]
    },
    {
     "name": "stderr",
     "output_type": "stream",
     "text": [
      "100%|██████████| 25/25 [00:11<00:00,  2.15it/s]\n",
      " 15%|█▌        | 133/874 [34:18<3:01:55, 14.73s/it]"
     ]
    },
    {
     "name": "stdout",
     "output_type": "stream",
     "text": [
      "A medium shot view of a sad boy holding a colorful cardboard box with yellow tape from the Nike webshop in his hands, standing in front of a quite neighborhood street and garden background, the weather is snowy, high photorealistic quality.\n"
     ]
    },
    {
     "name": "stderr",
     "output_type": "stream",
     "text": [
      "100%|██████████| 25/25 [00:12<00:00,  2.03it/s]\n",
      " 15%|█▌        | 134/874 [34:34<3:05:40, 15.05s/it]"
     ]
    },
    {
     "name": "stdout",
     "output_type": "stream",
     "text": [
      "A medium shot view of a sad person holding a brown cardboard box with green tape from the Nike webshop in her hands, standing in front of a busy city street and people background, the weather is rainy, high photorealistic quality.\n"
     ]
    },
    {
     "name": "stderr",
     "output_type": "stream",
     "text": [
      "100%|██████████| 25/25 [00:12<00:00,  2.05it/s]\n",
      " 15%|█▌        | 135/874 [34:49<3:04:22, 14.97s/it]"
     ]
    },
    {
     "name": "stdout",
     "output_type": "stream",
     "text": [
      "A medium shot view of a smiling person holding a brown cardboard box with a qr code from the Adidas webshop in her hands, standing in front of a busy city street and cars background, the weather is rainy, high photorealistic quality.\n"
     ]
    },
    {
     "name": "stderr",
     "output_type": "stream",
     "text": [
      "100%|██████████| 25/25 [00:11<00:00,  2.15it/s]\n",
      " 16%|█▌        | 136/874 [35:03<3:01:15, 14.74s/it]"
     ]
    },
    {
     "name": "stdout",
     "output_type": "stream",
     "text": [
      "A medium shot view of a frowning person holding a white cardboard box with yellow tape from the Zara webshop in her hands, standing in front of a quite neighborhood street and cars background, the weather is rainy, high photorealistic quality.\n"
     ]
    },
    {
     "name": "stderr",
     "output_type": "stream",
     "text": [
      "100%|██████████| 25/25 [00:11<00:00,  2.17it/s]\n",
      " 16%|█▌        | 137/874 [35:17<2:58:51, 14.56s/it]"
     ]
    },
    {
     "name": "stdout",
     "output_type": "stream",
     "text": [
      "A medium shot view of an old man holding a black cardboard box with a number from the Coolblue webshop in his hands, standing in front of a appartment building background, the weather is rainy, high photorealistic quality.\n"
     ]
    },
    {
     "name": "stderr",
     "output_type": "stream",
     "text": [
      "100%|██████████| 25/25 [00:11<00:00,  2.16it/s]\n",
      " 16%|█▌        | 138/874 [35:31<2:56:55, 14.42s/it]"
     ]
    },
    {
     "name": "stdout",
     "output_type": "stream",
     "text": [
      "A medium shot view of a sad lady holding a white cardboard box with yellow tape from the Amazon webshop in her hands, standing in front of a on a doorstep of a house background, the weather is snowy, high photorealistic quality.\n"
     ]
    },
    {
     "name": "stderr",
     "output_type": "stream",
     "text": [
      "100%|██████████| 25/25 [00:11<00:00,  2.16it/s]\n",
      " 16%|█▌        | 139/874 [35:45<2:55:48, 14.35s/it]"
     ]
    },
    {
     "name": "stdout",
     "output_type": "stream",
     "text": [
      "A medium shot view of an angry person holding a white cardboard box with a barcode from the Nike webshop in her hands, standing in front of a garbage curb background, the weather is cloudy, high photorealistic quality.\n"
     ]
    },
    {
     "name": "stderr",
     "output_type": "stream",
     "text": [
      "100%|██████████| 25/25 [00:11<00:00,  2.09it/s]\n",
      " 16%|█▌        | 140/874 [36:00<2:57:02, 14.47s/it]"
     ]
    },
    {
     "name": "stdout",
     "output_type": "stream",
     "text": [
      "A medium shot view of a frowning woman holding a colorful cardboard box with a barcode from the Amazon webshop in her hands, standing in front of a busy city street and people background, the weather is rainy, high photorealistic quality.\n"
     ]
    },
    {
     "name": "stderr",
     "output_type": "stream",
     "text": [
      "100%|██████████| 25/25 [00:11<00:00,  2.11it/s]\n",
      " 16%|█▌        | 141/874 [36:15<2:56:30, 14.45s/it]"
     ]
    },
    {
     "name": "stdout",
     "output_type": "stream",
     "text": [
      "A medium shot view of an old person holding a black cardboard box with yellow tape from the Amazon webshop in her hands, standing in front of a on a doorstep of a house background, the weather is sunny, high photorealistic quality.\n"
     ]
    },
    {
     "name": "stderr",
     "output_type": "stream",
     "text": [
      "100%|██████████| 25/25 [00:11<00:00,  2.10it/s]\n",
      " 16%|█▌        | 142/874 [36:30<2:58:27, 14.63s/it]"
     ]
    },
    {
     "name": "stdout",
     "output_type": "stream",
     "text": [
      "A medium shot view of a young lady holding a colorful cardboard box with green tape from the Nike webshop in her hands, standing in front of a quite neighborhood street and cars background, the weather is sunny, high photorealistic quality.\n"
     ]
    },
    {
     "name": "stderr",
     "output_type": "stream",
     "text": [
      "100%|██████████| 25/25 [00:12<00:00,  2.00it/s]\n",
      " 16%|█▋        | 143/874 [36:45<3:00:35, 14.82s/it]"
     ]
    },
    {
     "name": "stdout",
     "output_type": "stream",
     "text": [
      "A medium shot view of a happy man holding a white cardboard box with a barcode from the Nike webshop in his hands, standing in front of a appartment building background, the weather is sunny, high photorealistic quality.\n"
     ]
    },
    {
     "name": "stderr",
     "output_type": "stream",
     "text": [
      "100%|██████████| 25/25 [00:12<00:00,  1.98it/s]\n",
      " 16%|█▋        | 144/874 [37:00<3:02:38, 15.01s/it]"
     ]
    },
    {
     "name": "stdout",
     "output_type": "stream",
     "text": [
      "A medium shot view of an angry boy holding a white cardboard box with a number from the Adidas webshop in his hands, standing in front of a quite neighborhood street and cars background, the weather is sunny, high photorealistic quality.\n"
     ]
    },
    {
     "name": "stderr",
     "output_type": "stream",
     "text": [
      "100%|██████████| 25/25 [00:12<00:00,  1.99it/s]\n",
      " 17%|█▋        | 145/874 [37:16<3:03:44, 15.12s/it]"
     ]
    },
    {
     "name": "stdout",
     "output_type": "stream",
     "text": [
      "A medium shot view of a sad woman holding a colorful cardboard box with red tape from the Zara webshop in her hands, standing in front of a quite neighborhood street and garden background, the weather is cloudy, high photorealistic quality.\n"
     ]
    },
    {
     "name": "stderr",
     "output_type": "stream",
     "text": [
      "100%|██████████| 25/25 [00:12<00:00,  2.08it/s]\n",
      " 17%|█▋        | 146/874 [37:31<3:02:35, 15.05s/it]"
     ]
    },
    {
     "name": "stdout",
     "output_type": "stream",
     "text": [
      "A medium shot view of a young lady holding a colorful cardboard box with green tape from the Adidas webshop in her hands, standing in front of a quite neighborhood street and cars background, the weather is cloudy, high photorealistic quality.\n"
     ]
    },
    {
     "name": "stderr",
     "output_type": "stream",
     "text": [
      "100%|██████████| 25/25 [00:13<00:00,  1.90it/s]\n",
      " 17%|█▋        | 147/874 [37:46<3:05:30, 15.31s/it]"
     ]
    },
    {
     "name": "stdout",
     "output_type": "stream",
     "text": [
      "A medium shot view of a frowning woman holding a brown cardboard box with a number from a webshop in her hands, standing in front of a city center background, the weather is rainy, high photorealistic quality.\n"
     ]
    },
    {
     "name": "stderr",
     "output_type": "stream",
     "text": [
      "100%|██████████| 25/25 [00:13<00:00,  1.90it/s]\n",
      " 17%|█▋        | 148/874 [38:02<3:07:47, 15.52s/it]"
     ]
    },
    {
     "name": "stdout",
     "output_type": "stream",
     "text": [
      "A medium shot view of a happy woman holding a white cardboard box with a qr code from the Nike webshop in her hands, standing in front of a city center background, the weather is cloudy, high photorealistic quality.\n"
     ]
    },
    {
     "name": "stderr",
     "output_type": "stream",
     "text": [
      "100%|██████████| 25/25 [00:13<00:00,  1.88it/s]\n",
      " 17%|█▋        | 149/874 [38:19<3:09:40, 15.70s/it]"
     ]
    },
    {
     "name": "stdout",
     "output_type": "stream",
     "text": [
      "A medium shot view of an old boy holding a white cardboard box with black tape from the Coolblue webshop in his hands, standing in front of a quite neighborhood street and garden background, the weather is sunny, high photorealistic quality.\n"
     ]
    },
    {
     "name": "stderr",
     "output_type": "stream",
     "text": [
      "100%|██████████| 25/25 [00:13<00:00,  1.91it/s]\n",
      " 17%|█▋        | 150/874 [38:34<3:10:01, 15.75s/it]"
     ]
    },
    {
     "name": "stdout",
     "output_type": "stream",
     "text": [
      "A medium shot view of a sad lady holding a brown cardboard box with blue tape from the Amazon webshop in her hands, standing in front of a busy city street and people background, the weather is snowy, high photorealistic quality.\n"
     ]
    },
    {
     "name": "stderr",
     "output_type": "stream",
     "text": [
      "100%|██████████| 25/25 [00:12<00:00,  2.01it/s]\n",
      " 17%|█▋        | 151/874 [38:50<3:08:24, 15.64s/it]"
     ]
    },
    {
     "name": "stdout",
     "output_type": "stream",
     "text": [
      "A medium shot view of a smiling person holding a white cardboard box with a number from the Zara webshop in her hands, standing in front of a busy city street and people background, the weather is sunny, high photorealistic quality.\n"
     ]
    },
    {
     "name": "stderr",
     "output_type": "stream",
     "text": [
      "100%|██████████| 25/25 [00:12<00:00,  1.97it/s]\n",
      " 17%|█▋        | 152/874 [39:05<3:07:33, 15.59s/it]"
     ]
    },
    {
     "name": "stdout",
     "output_type": "stream",
     "text": [
      "A medium shot view of a young lady holding a brown cardboard box with a barcode from the Nike webshop in her hands, standing in front of a appartment building background, the weather is snowy, high photorealistic quality.\n"
     ]
    },
    {
     "name": "stderr",
     "output_type": "stream",
     "text": [
      "100%|██████████| 25/25 [00:12<00:00,  2.04it/s]\n",
      " 18%|█▊        | 153/874 [39:20<3:05:04, 15.40s/it]"
     ]
    },
    {
     "name": "stdout",
     "output_type": "stream",
     "text": [
      "A medium shot view of a young boy holding a black cardboard box with a barcode from the Adidas webshop in his hands, standing in front of a busy city street and cars background, the weather is sunny, high photorealistic quality.\n"
     ]
    },
    {
     "name": "stderr",
     "output_type": "stream",
     "text": [
      "100%|██████████| 25/25 [00:12<00:00,  2.04it/s]\n",
      " 18%|█▊        | 154/874 [39:35<3:03:21, 15.28s/it]"
     ]
    },
    {
     "name": "stdout",
     "output_type": "stream",
     "text": [
      "A medium shot view of an old man holding a brown cardboard box with black tape from the Amazon webshop in his hands, standing in front of a appartment building background, the weather is cloudy, high photorealistic quality.\n"
     ]
    },
    {
     "name": "stderr",
     "output_type": "stream",
     "text": [
      "100%|██████████| 25/25 [00:12<00:00,  1.93it/s]\n",
      " 18%|█▊        | 155/874 [39:51<3:04:50, 15.43s/it]"
     ]
    },
    {
     "name": "stdout",
     "output_type": "stream",
     "text": [
      "A medium shot view of an angry man holding a black cardboard box with black tape from a webshop in his hands, standing in front of a quite neighborhood street and garden background, the weather is rainy, high photorealistic quality.\n"
     ]
    },
    {
     "name": "stderr",
     "output_type": "stream",
     "text": [
      "100%|██████████| 25/25 [00:13<00:00,  1.89it/s]\n",
      " 18%|█▊        | 156/874 [40:07<3:07:27, 15.67s/it]"
     ]
    },
    {
     "name": "stdout",
     "output_type": "stream",
     "text": [
      "A medium shot view of a sad woman holding a brown cardboard box with blue tape from the Coolblue webshop in her hands, standing in front of a quite neighborhood street and garden background, the weather is sunny, high photorealistic quality.\n"
     ]
    },
    {
     "name": "stderr",
     "output_type": "stream",
     "text": [
      "100%|██████████| 25/25 [00:12<00:00,  1.94it/s]\n",
      " 18%|█▊        | 157/874 [40:23<3:07:59, 15.73s/it]"
     ]
    },
    {
     "name": "stdout",
     "output_type": "stream",
     "text": [
      "A medium shot view of an old woman holding a white cardboard box with a barcode from the Adidas webshop in her hands, standing in front of a quite neighborhood street and cars background, the weather is snowy, high photorealistic quality.\n"
     ]
    },
    {
     "name": "stderr",
     "output_type": "stream",
     "text": [
      "100%|██████████| 25/25 [00:12<00:00,  1.93it/s]\n",
      " 18%|█▊        | 158/874 [40:39<3:07:41, 15.73s/it]"
     ]
    },
    {
     "name": "stdout",
     "output_type": "stream",
     "text": [
      "A medium shot view of a smiling person holding a black cardboard box with a barcode from the Coolblue webshop in her hands, standing in front of a quite neighborhood street and trees background, the weather is rainy, high photorealistic quality.\n"
     ]
    },
    {
     "name": "stderr",
     "output_type": "stream",
     "text": [
      "100%|██████████| 25/25 [00:12<00:00,  1.97it/s]\n",
      " 18%|█▊        | 159/874 [40:54<3:06:40, 15.67s/it]"
     ]
    },
    {
     "name": "stdout",
     "output_type": "stream",
     "text": [
      "A medium shot view of an old woman holding a black cardboard box with green tape from the Adidas webshop in her hands, standing in front of a busy city street and cars background, the weather is rainy, high photorealistic quality.\n"
     ]
    },
    {
     "name": "stderr",
     "output_type": "stream",
     "text": []
    }
   ],
   "source": [
    "generate_images(\"lllyasviel/control_v11p_sd15_scribble\", \"stablediffusionapi/realistic-vision-v20-2047\", 1, infer_steps=25)"
   ]
  }
 ],
 "metadata": {
  "kernelspec": {
   "display_name": ".myvenv",
   "language": "python",
   "name": "python3"
  },
  "language_info": {
   "codemirror_mode": {
    "name": "ipython",
    "version": 3
   },
   "file_extension": ".py",
   "mimetype": "text/x-python",
   "name": "python",
   "nbconvert_exporter": "python",
   "pygments_lexer": "ipython3",
   "version": "3.11.8"
  }
 },
 "nbformat": 4,
 "nbformat_minor": 2
}
